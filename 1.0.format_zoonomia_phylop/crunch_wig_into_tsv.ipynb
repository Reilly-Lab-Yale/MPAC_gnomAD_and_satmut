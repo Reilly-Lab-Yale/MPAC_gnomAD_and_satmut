{
 "cells": [
  {
   "cell_type": "markdown",
   "id": "c80d272c-e27d-4b7c-a7de-0e5fcecd973c",
   "metadata": {},
   "source": [
    "I want to annotate the vcf files with phyloP scores. \n",
    "\n",
    "I will convert the bigWig into a format more ameniable to `bcftools annotate`. First, I will produce a wig file, which is more easially manipulable."
   ]
  },
  {
   "cell_type": "code",
   "execution_count": 1,
   "id": "d1732157-3e20-48ec-ab70-523f084e700d",
   "metadata": {
    "execution": {
     "iopub.execute_input": "2024-04-05T15:22:23.060306Z",
     "iopub.status.busy": "2024-04-05T15:22:23.059834Z",
     "iopub.status.idle": "2024-04-05T15:36:52.549415Z",
     "shell.execute_reply": "2024-04-05T15:36:52.548993Z",
     "shell.execute_reply.started": "2024-04-05T15:22:23.060288Z"
    },
    "tags": []
   },
   "outputs": [],
   "source": [
    "%%bash\n",
    "bigWigToWig /home/mcn26/varef/data/Zoonomia/mammal_phyloP/241-mammalian-2020v2.bigWig ./out.wig"
   ]
  },
  {
   "cell_type": "markdown",
   "id": "7adf4b05-2bf6-4e49-b2d2-f16da3d5e299",
   "metadata": {},
   "source": [
    "Now, we will re-format it.  From the manpage:\n",
    "\n",
    "> Bgzip-compressed and tabix-indexed file with annotations. The file can be VCF, BED, or a tab-delimited file with mandatory columns CHROM, POS (or, alternatively, FROM and TO), optional columns REF and ALT, and arbitrary number of annotation columns. BED files are expected to have the \".bed\" or \".bed.gz\" suffix (case-insensitive), otherwise a tab-delimited file is assumed. Note that in case of tab-delimited file, the coordinates POS, FROM and TO are one-based and inclusive. When REF and ALT are present, only matching VCF records will be annotated. If the END coordinate is present in the annotation file and given on command line as \"-c ~INFO/END\", then VCF records will be matched also by the INFO/END coordinate. If ID is present in the annotation file and given as \"-c ~ID\", then VCF records will be matched also by the ID column.\n",
    "\n",
    "Examining our current format:"
   ]
  },
  {
   "cell_type": "code",
   "execution_count": 2,
   "id": "947c17f1-2c68-4d13-a2f2-91ad71a65522",
   "metadata": {
    "execution": {
     "iopub.execute_input": "2024-04-05T15:36:52.550507Z",
     "iopub.status.busy": "2024-04-05T15:36:52.550185Z",
     "iopub.status.idle": "2024-04-05T15:36:52.629498Z",
     "shell.execute_reply": "2024-04-05T15:36:52.629117Z",
     "shell.execute_reply.started": "2024-04-05T15:36:52.550491Z"
    }
   },
   "outputs": [
    {
     "name": "stdout",
     "output_type": "stream",
     "text": [
      "#bedGraph section chr1:10074-11098\n",
      "chr1\t10074\t10075\t0.053\n",
      "chr1\t10075\t10076\t0.064\n",
      "chr1\t10076\t10077\t0.064\n",
      "chr1\t10077\t10078\t0.064\n",
      "chr1\t10078\t10079\t-2.109\n",
      "chr1\t10079\t10080\t0.053\n",
      "chr1\t10080\t10081\t0.053\n",
      "chr1\t10081\t10082\t0.064\n",
      "chr1\t10082\t10083\t0.064\n"
     ]
    }
   ],
   "source": [
    "%%bash\n",
    "head out.wig"
   ]
  },
  {
   "cell_type": "markdown",
   "id": "363347b2-ac06-46a5-ad24-6ecb601cce8e",
   "metadata": {},
   "source": [
    "We see that it is quite similar. Unfortunately, since the first record is not at the beginning of the chromosome, I can't immediately tell if it is 0 or 1 based. According to  [UCSC Genome Browser Blog : The UCSC Genome Browser Coordinate Counting Systems](https://genome-blog.gi.ucsc.edu/blog/2016/12/12/the-ucsc-genome-browser-coordinate-counting-systems/) bigWigs can be 0-start, half-open or 1-start fully closed. All of the entries above are different by one, suggesting that this is 1-start fully-closed (see the blog post for more information).\n",
    "\n",
    "To double-check: UCSC genome browser always displays 1-start fully-closed. So I opened the PhyloP track ([here](https://genome.ucsc.edu/cgi-bin/hgGateway?genome=Homo_sapiens&hubUrl=https://cgl.gi.ucsc.edu/data/cactus/241-mammalian-2020v2-hub/hub.txt) from [Zoonomia](https://cglgenomics.ucsc.edu/data/cactus/)) and checked a specific value : chr1\t10074\t10075\tis 0.053. So I am quite confident the coordinates are **1-start fully-closed**.\n",
    "\n",
    "VCF are also 1-based. So no +-1 are required. "
   ]
  },
  {
   "cell_type": "code",
   "execution_count": 3,
   "id": "787958d0-bee3-406c-bf6a-3066cb61ce16",
   "metadata": {
    "execution": {
     "iopub.execute_input": "2024-04-05T15:36:52.630281Z",
     "iopub.status.busy": "2024-04-05T15:36:52.630139Z",
     "iopub.status.idle": "2024-04-05T15:49:15.840113Z",
     "shell.execute_reply": "2024-04-05T15:49:15.839456Z",
     "shell.execute_reply.started": "2024-04-05T15:36:52.630266Z"
    }
   },
   "outputs": [],
   "source": [
    "#write the header to file\n",
    "!echo $'#CHROM\\tPOS\\tP_ANNO' > out_processed.tsv\n",
    "\n",
    "#Grep strips the comments\n",
    "#awk kills the third column\n",
    "!cat out.wig | grep --invert-match '^#' | awk '{print $1, $2, $4}' OFS=\"\\t\" >> out_processed.tsv"
   ]
  },
  {
   "cell_type": "markdown",
   "id": "80ae4875-8892-444c-b895-fb3fa2bd57e7",
   "metadata": {},
   "source": [
    "Examine the file we just made to make sure it is OK"
   ]
  },
  {
   "cell_type": "code",
   "execution_count": 4,
   "id": "2bd68483-f95d-4e74-ba5f-77288ed0faf5",
   "metadata": {
    "execution": {
     "iopub.execute_input": "2024-04-05T15:49:15.841634Z",
     "iopub.status.busy": "2024-04-05T15:49:15.841397Z",
     "iopub.status.idle": "2024-04-05T15:49:16.100014Z",
     "shell.execute_reply": "2024-04-05T15:49:16.099624Z",
     "shell.execute_reply.started": "2024-04-05T15:49:15.841616Z"
    }
   },
   "outputs": [
    {
     "name": "stdout",
     "output_type": "stream",
     "text": [
      "#CHROM\tPOS\tP_ANNO\n",
      "chr1\t10074\t0.053\n",
      "chr1\t10075\t0.064\n",
      "chr1\t10076\t0.064\n",
      "chr1\t10077\t0.064\n",
      "chr1\t10078\t-2.109\n",
      "chr1\t10079\t0.053\n",
      "chr1\t10080\t0.053\n",
      "chr1\t10081\t0.064\n",
      "chr1\t10082\t0.064\n"
     ]
    }
   ],
   "source": [
    "%%bash\n",
    "head out_processed.tsv"
   ]
  },
  {
   "cell_type": "markdown",
   "id": "dc256750-c0e3-4fda-9b60-d9dc856cc56e",
   "metadata": {},
   "source": [
    "Delete the first wig we created : no longer useful to us. "
   ]
  },
  {
   "cell_type": "code",
   "execution_count": 5,
   "id": "3bd1da6c-e0ba-411c-ace3-97da3ea37c81",
   "metadata": {
    "execution": {
     "iopub.execute_input": "2024-04-05T15:49:16.100895Z",
     "iopub.status.busy": "2024-04-05T15:49:16.100577Z",
     "iopub.status.idle": "2024-04-05T15:49:16.228580Z",
     "shell.execute_reply": "2024-04-05T15:49:16.228029Z",
     "shell.execute_reply.started": "2024-04-05T15:49:16.100878Z"
    }
   },
   "outputs": [],
   "source": [
    "!rm out.wig"
   ]
  },
  {
   "cell_type": "markdown",
   "id": "15a53e68-28e7-45f5-a25a-e71e1666f0df",
   "metadata": {},
   "source": [
    "Compress and tabix-index the new wig to use to annotate "
   ]
  },
  {
   "cell_type": "code",
   "execution_count": 6,
   "id": "3520ef0f-f512-4cc5-99db-a4b0aab45382",
   "metadata": {
    "execution": {
     "iopub.execute_input": "2024-04-05T15:49:16.229788Z",
     "iopub.status.busy": "2024-04-05T15:49:16.229334Z",
     "iopub.status.idle": "2024-04-05T16:11:34.332152Z",
     "shell.execute_reply": "2024-04-05T16:11:34.331452Z",
     "shell.execute_reply.started": "2024-04-05T15:49:16.229763Z"
    }
   },
   "outputs": [],
   "source": [
    "!bgzip -c out_processed.tsv > out_processed.tsv.bgz"
   ]
  },
  {
   "cell_type": "code",
   "execution_count": 7,
   "id": "50490a41-987a-48df-88eb-924de0f6978c",
   "metadata": {
    "execution": {
     "iopub.execute_input": "2024-04-05T16:11:34.333381Z",
     "iopub.status.busy": "2024-04-05T16:11:34.333014Z",
     "iopub.status.idle": "2024-04-05T16:16:28.159038Z",
     "shell.execute_reply": "2024-04-05T16:16:28.158531Z",
     "shell.execute_reply.started": "2024-04-05T16:11:34.333364Z"
    },
    "tags": []
   },
   "outputs": [],
   "source": [
    "!tabix -p bed -s 1 -b 2 -e 2 out_processed.tsv.bgz"
   ]
  }
 ],
 "metadata": {
  "kernelspec": {
   "display_name": "Python 3 (ipykernel)",
   "language": "python",
   "name": "python3"
  },
  "language_info": {
   "codemirror_mode": {
    "name": "ipython",
    "version": 3
   },
   "file_extension": ".py",
   "mimetype": "text/x-python",
   "name": "python",
   "nbconvert_exporter": "python",
   "pygments_lexer": "ipython3",
   "version": "3.10.12"
  }
 },
 "nbformat": 4,
 "nbformat_minor": 5
}
