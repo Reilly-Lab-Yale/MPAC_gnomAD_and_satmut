{
 "cells": [
  {
   "cell_type": "markdown",
   "id": "c80d272c-e27d-4b7c-a7de-0e5fcecd973c",
   "metadata": {},
   "source": [
    "I want to annotate the vcf files with phyloP scores. \n",
    "\n",
    "I will convert the bigWig into a format more ameniable to `bcftools annotate`. First, I will produce a wig file, which is more easially manipulable."
   ]
  },
  {
   "cell_type": "code",
   "execution_count": 1,
   "id": "d1732157-3e20-48ec-ab70-523f084e700d",
   "metadata": {
    "execution": {
     "iopub.execute_input": "2024-06-30T15:06:16.716790Z",
     "iopub.status.busy": "2024-06-30T15:06:16.716562Z",
     "iopub.status.idle": "2024-06-30T15:20:24.475126Z",
     "shell.execute_reply": "2024-06-30T15:20:24.474712Z",
     "shell.execute_reply.started": "2024-06-30T15:06:16.716776Z"
    },
    "tags": []
   },
   "outputs": [],
   "source": [
    "%%bash\n",
    "bigWigToWig /home/mcn26/varef/data/Zoonomia/mammal_phyloP/241-mammalian-2020v2.bigWig ./out.wig"
   ]
  },
  {
   "cell_type": "markdown",
   "id": "7adf4b05-2bf6-4e49-b2d2-f16da3d5e299",
   "metadata": {},
   "source": [
    "Now, we will re-format it.  From the manpage:\n",
    "\n",
    "> Bgzip-compressed and tabix-indexed file with annotations. The file can be VCF, BED, or a tab-delimited file with mandatory columns CHROM, POS (or, alternatively, FROM and TO), optional columns REF and ALT, and arbitrary number of annotation columns. BED files are expected to have the \".bed\" or \".bed.gz\" suffix (case-insensitive), otherwise a tab-delimited file is assumed. Note that in case of tab-delimited file, the coordinates POS, FROM and TO are one-based and inclusive. When REF and ALT are present, only matching VCF records will be annotated. If the END coordinate is present in the annotation file and given on command line as \"-c ~INFO/END\", then VCF records will be matched also by the INFO/END coordinate. If ID is present in the annotation file and given as \"-c ~ID\", then VCF records will be matched also by the ID column.\n",
    "\n",
    "Examining our current format:"
   ]
  },
  {
   "cell_type": "code",
   "execution_count": 2,
   "id": "947c17f1-2c68-4d13-a2f2-91ad71a65522",
   "metadata": {
    "execution": {
     "iopub.execute_input": "2024-06-30T15:20:24.476250Z",
     "iopub.status.busy": "2024-06-30T15:20:24.475866Z",
     "iopub.status.idle": "2024-06-30T15:20:24.524998Z",
     "shell.execute_reply": "2024-06-30T15:20:24.524661Z",
     "shell.execute_reply.started": "2024-06-30T15:20:24.476235Z"
    },
    "tags": []
   },
   "outputs": [
    {
     "name": "stdout",
     "output_type": "stream",
     "text": [
      "#bedGraph section chr1:10074-11098\n",
      "chr1\t10074\t10075\t0.053\n",
      "chr1\t10075\t10076\t0.064\n",
      "chr1\t10076\t10077\t0.064\n",
      "chr1\t10077\t10078\t0.064\n",
      "chr1\t10078\t10079\t-2.109\n",
      "chr1\t10079\t10080\t0.053\n",
      "chr1\t10080\t10081\t0.053\n",
      "chr1\t10081\t10082\t0.064\n",
      "chr1\t10082\t10083\t0.064\n"
     ]
    }
   ],
   "source": [
    "%%bash\n",
    "head out.wig"
   ]
  },
  {
   "cell_type": "markdown",
   "id": "363347b2-ac06-46a5-ad24-6ecb601cce8e",
   "metadata": {},
   "source": [
    "We see that it is quite similar. Unfortunately, since the first record is not at the beginning of the chromosome, I can't immediately tell if it is 0 or 1 based. According to  [UCSC Genome Browser Blog : The UCSC Genome Browser Coordinate Counting Systems](https://genome-blog.gi.ucsc.edu/blog/2016/12/12/the-ucsc-genome-browser-coordinate-counting-systems/) bigWigs can be 0-start, half-open or 1-start fully closed. Given that all the values are one apart, this is clearly 0-based.\n",
    "\n",
    "\n",
    "```\n",
    "Chr1        T   A   C   G   T\n",
    "          | | | | | | | | | |\n",
    "1 based   | 1 | 2 | 3 | 4 | 5\n",
    "\n",
    "0 based   0   1   2   3   4\n",
    "```\n",
    "\n",
    "Grabbing the second index of a zero-based coordinate specifying a single base will specify the same base in 1-based coordinates."
   ]
  },
  {
   "cell_type": "code",
   "execution_count": 3,
   "id": "787958d0-bee3-406c-bf6a-3066cb61ce16",
   "metadata": {
    "execution": {
     "iopub.execute_input": "2024-06-30T15:32:13.361085Z",
     "iopub.status.busy": "2024-06-30T15:32:13.360654Z",
     "iopub.status.idle": "2024-06-30T15:44:23.988588Z",
     "shell.execute_reply": "2024-06-30T15:44:23.987882Z",
     "shell.execute_reply.started": "2024-06-30T15:32:13.361068Z"
    },
    "tags": []
   },
   "outputs": [],
   "source": [
    "#write the header to file\n",
    "!echo $'#CHROM\\tPOS\\tP_ANNO' > out_processed.tsv\n",
    "\n",
    "#Grep strips the comments\n",
    "#awk kills the third column\n",
    "!cat out.wig | grep --invert-match '^#' | awk '{print $1, $3, $4}' OFS=\"\\t\" >> out_processed.tsv"
   ]
  },
  {
   "cell_type": "markdown",
   "id": "80ae4875-8892-444c-b895-fb3fa2bd57e7",
   "metadata": {},
   "source": [
    "Examine the file we just made to make sure it is OK"
   ]
  },
  {
   "cell_type": "code",
   "execution_count": 4,
   "id": "2bd68483-f95d-4e74-ba5f-77288ed0faf5",
   "metadata": {
    "execution": {
     "iopub.execute_input": "2024-06-30T15:44:23.989937Z",
     "iopub.status.busy": "2024-06-30T15:44:23.989712Z",
     "iopub.status.idle": "2024-06-30T15:44:24.041937Z",
     "shell.execute_reply": "2024-06-30T15:44:24.041589Z",
     "shell.execute_reply.started": "2024-06-30T15:44:23.989921Z"
    },
    "tags": []
   },
   "outputs": [
    {
     "name": "stdout",
     "output_type": "stream",
     "text": [
      "#CHROM\tPOS\tP_ANNO\n",
      "chr1\t10075\t0.053\n",
      "chr1\t10076\t0.064\n",
      "chr1\t10077\t0.064\n",
      "chr1\t10078\t0.064\n",
      "chr1\t10079\t-2.109\n",
      "chr1\t10080\t0.053\n",
      "chr1\t10081\t0.053\n",
      "chr1\t10082\t0.064\n",
      "chr1\t10083\t0.064\n"
     ]
    }
   ],
   "source": [
    "%%bash\n",
    "head out_processed.tsv"
   ]
  },
  {
   "cell_type": "markdown",
   "id": "dc256750-c0e3-4fda-9b60-d9dc856cc56e",
   "metadata": {},
   "source": [
    "Delete the first wig we created : no longer useful to us. "
   ]
  },
  {
   "cell_type": "code",
   "execution_count": 5,
   "id": "3bd1da6c-e0ba-411c-ace3-97da3ea37c81",
   "metadata": {
    "execution": {
     "iopub.execute_input": "2024-06-30T15:44:24.042683Z",
     "iopub.status.busy": "2024-06-30T15:44:24.042430Z",
     "iopub.status.idle": "2024-06-30T15:44:24.161809Z",
     "shell.execute_reply": "2024-06-30T15:44:24.161377Z",
     "shell.execute_reply.started": "2024-06-30T15:44:24.042669Z"
    },
    "tags": []
   },
   "outputs": [],
   "source": [
    "!rm out.wig"
   ]
  }
 ],
 "metadata": {
  "kernelspec": {
   "display_name": "Python 3 (ipykernel)",
   "language": "python",
   "name": "python3"
  },
  "language_info": {
   "codemirror_mode": {
    "name": "ipython",
    "version": 3
   },
   "file_extension": ".py",
   "mimetype": "text/x-python",
   "name": "python",
   "nbconvert_exporter": "python",
   "pygments_lexer": "ipython3",
   "version": "3.10.12"
  }
 },
 "nbformat": 4,
 "nbformat_minor": 5
}
