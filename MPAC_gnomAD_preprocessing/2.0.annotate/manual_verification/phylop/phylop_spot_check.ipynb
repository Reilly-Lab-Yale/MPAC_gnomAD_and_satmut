{
 "cells": [
  {
   "cell_type": "markdown",
   "id": "b2bf2cae-ee44-497c-9ca8-0792fa70a7c6",
   "metadata": {},
   "source": [
    "(IGV screenshots show the original zoonomia mammalian bigwig, as you can see).\n",
    "\n",
    "spot-check on chromosome 10\n",
    "Information from output of ANNOTATE step:\n",
    "\n",
    "CHROM\n",
    "chr10\n",
    "\n",
    "POS\n",
    "13126\n",
    "\n",
    "P_ANNO\n",
    "-0.263\n",
    "\n",
    "Checking in IGV (pop-up is for left-most nucleotide in range, matching above):"
   ]
  },
  {
   "cell_type": "markdown",
   "id": "4730a224-64c0-43b4-baa9-ae5b7a73c193",
   "metadata": {
    "execution": {
     "iopub.execute_input": "2024-07-02T17:48:01.154646Z",
     "iopub.status.busy": "2024-07-02T17:48:01.154383Z",
     "iopub.status.idle": "2024-07-02T17:48:01.278733Z",
     "shell.execute_reply": "2024-07-02T17:48:01.278317Z",
     "shell.execute_reply.started": "2024-07-02T17:48:01.154629Z"
    },
    "tags": []
   },
   "source": [
    "![](1.png)"
   ]
  },
  {
   "cell_type": "markdown",
   "id": "d9e49e40-04e7-4372-9567-3f1b6a9a52e3",
   "metadata": {},
   "source": [
    "Spot-check on chromosome 4:\n",
    "\n",
    "Information from output of ANNOTATE step:\n",
    "\n",
    "CHROM\n",
    "chr4\n",
    "\n",
    "POS\n",
    "10307\n",
    "\n",
    "P_ANNO\n",
    "0.076\n",
    "\n",
    "Checking in IGV:"
   ]
  },
  {
   "cell_type": "markdown",
   "id": "3fa8b670-a8b7-4888-b0fe-9cefce7bed26",
   "metadata": {},
   "source": [
    "![](2.png)"
   ]
  }
 ],
 "metadata": {
  "kernelspec": {
   "display_name": "Python 3 (ipykernel)",
   "language": "python",
   "name": "python3"
  },
  "language_info": {
   "codemirror_mode": {
    "name": "ipython",
    "version": 3
   },
   "file_extension": ".py",
   "mimetype": "text/x-python",
   "name": "python",
   "nbconvert_exporter": "python",
   "pygments_lexer": "ipython3",
   "version": "3.10.12"
  }
 },
 "nbformat": 4,
 "nbformat_minor": 5
}
