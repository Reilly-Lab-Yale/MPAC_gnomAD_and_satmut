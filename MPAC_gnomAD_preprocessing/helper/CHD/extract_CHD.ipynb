{
 "cells": [
  {
   "cell_type": "code",
   "execution_count": 1,
   "id": "981186ed-6ac8-4a15-ab0d-c014f7a74938",
   "metadata": {
    "execution": {
     "iopub.execute_input": "2024-06-20T21:49:00.548396Z",
     "iopub.status.busy": "2024-06-20T21:49:00.547914Z",
     "iopub.status.idle": "2024-06-20T21:49:01.319112Z",
     "shell.execute_reply": "2024-06-20T21:49:01.318700Z",
     "shell.execute_reply.started": "2024-06-20T21:49:00.548378Z"
    },
    "tags": []
   },
   "outputs": [],
   "source": [
    "from pyspark import SparkConf, SparkContext\n",
    "from pyspark.sql import SparkSession\n",
    "import pyspark.sql.types as T\n",
    "import pyspark.sql.functions as F\n",
    "import os"
   ]
  },
  {
   "cell_type": "code",
   "execution_count": 2,
   "id": "8cc8c791-54b4-4afb-be6a-fddca804d619",
   "metadata": {
    "execution": {
     "iopub.execute_input": "2024-06-20T21:49:01.320161Z",
     "iopub.status.busy": "2024-06-20T21:49:01.319852Z",
     "iopub.status.idle": "2024-06-20T21:49:03.893522Z",
     "shell.execute_reply": "2024-06-20T21:49:03.893045Z",
     "shell.execute_reply.started": "2024-06-20T21:49:01.320147Z"
    },
    "tags": []
   },
   "outputs": [
    {
     "name": "stderr",
     "output_type": "stream",
     "text": [
      "Setting default log level to \"WARN\".\n",
      "To adjust logging level use sc.setLogLevel(newLevel). For SparkR, use setLogLevel(newLevel).\n",
      "24/06/20 17:49:03 WARN NativeCodeLoader: Unable to load native-hadoop library for your platform... using builtin-java classes where applicable\n",
      "24/06/20 17:49:03 WARN Utils: Service 'SparkUI' could not bind on port 4040. Attempting port 4041.\n"
     ]
    }
   ],
   "source": [
    "if 'spark' in locals() and spark!=None:\n",
    "    spark.stop()\n",
    "\n",
    "\n",
    "spark=None\n",
    "\n",
    "spark = SparkSession.builder.getOrCreate()"
   ]
  },
  {
   "cell_type": "code",
   "execution_count": 10,
   "id": "30e3a370-3e53-48a4-81d1-7ebbce85b361",
   "metadata": {
    "execution": {
     "iopub.execute_input": "2024-06-20T21:50:30.738049Z",
     "iopub.status.busy": "2024-06-20T21:50:30.737767Z",
     "iopub.status.idle": "2024-06-20T21:50:30.876535Z",
     "shell.execute_reply": "2024-06-20T21:50:30.876113Z",
     "shell.execute_reply.started": "2024-06-20T21:50:30.738032Z"
    },
    "tags": []
   },
   "outputs": [],
   "source": [
    "chd = spark.read \\\n",
    "    .option(\"delimiter\", \"\\t\") \\\n",
    "    .csv(\"/home/mcn26/varef/scripts/noon_data/CHD_MPRA_library_noRC.tsv\", header=True)"
   ]
  },
  {
   "cell_type": "code",
   "execution_count": 11,
   "id": "8c640ee6-ece1-496e-87a4-3cb71f10024e",
   "metadata": {
    "execution": {
     "iopub.execute_input": "2024-06-20T21:50:34.049578Z",
     "iopub.status.busy": "2024-06-20T21:50:34.049101Z",
     "iopub.status.idle": "2024-06-20T21:50:34.274488Z",
     "shell.execute_reply": "2024-06-20T21:50:34.274114Z",
     "shell.execute_reply.started": "2024-06-20T21:50:34.049555Z"
    },
    "tags": []
   },
   "outputs": [
    {
     "data": {
      "text/plain": [
       "14261"
      ]
     },
     "execution_count": 11,
     "metadata": {},
     "output_type": "execute_result"
    }
   ],
   "source": [
    "chd.distinct().count()"
   ]
  },
  {
   "cell_type": "code",
   "execution_count": 12,
   "id": "1e2466b7-685c-41da-b0a1-25e9473720c0",
   "metadata": {
    "execution": {
     "iopub.execute_input": "2024-06-20T21:50:34.773954Z",
     "iopub.status.busy": "2024-06-20T21:50:34.773701Z",
     "iopub.status.idle": "2024-06-20T21:50:34.844248Z",
     "shell.execute_reply": "2024-06-20T21:50:34.843882Z",
     "shell.execute_reply.started": "2024-06-20T21:50:34.773937Z"
    },
    "tags": []
   },
   "outputs": [
    {
     "data": {
      "text/plain": [
       "14524"
      ]
     },
     "execution_count": 12,
     "metadata": {},
     "output_type": "execute_result"
    }
   ],
   "source": [
    "chd.count()"
   ]
  },
  {
   "cell_type": "code",
   "execution_count": 17,
   "id": "fa4772e4-d67f-4670-9f13-c50ecde0454a",
   "metadata": {
    "execution": {
     "iopub.execute_input": "2024-06-20T21:53:32.615461Z",
     "iopub.status.busy": "2024-06-20T21:53:32.614989Z",
     "iopub.status.idle": "2024-06-20T21:53:32.619997Z",
     "shell.execute_reply": "2024-06-20T21:53:32.619642Z",
     "shell.execute_reply.started": "2024-06-20T21:53:32.615443Z"
    },
    "tags": []
   },
   "outputs": [
    {
     "data": {
      "text/plain": [
       "['twist_seq', 'seq', 'id', 'allele']"
      ]
     },
     "execution_count": 17,
     "metadata": {},
     "output_type": "execute_result"
    }
   ],
   "source": [
    "chd.columns"
   ]
  },
  {
   "cell_type": "code",
   "execution_count": 18,
   "id": "4fc74196-984b-4792-ae87-689d129ce168",
   "metadata": {
    "execution": {
     "iopub.execute_input": "2024-06-20T21:53:36.930664Z",
     "iopub.status.busy": "2024-06-20T21:53:36.930314Z",
     "iopub.status.idle": "2024-06-20T21:53:36.950042Z",
     "shell.execute_reply": "2024-06-20T21:53:36.949634Z",
     "shell.execute_reply.started": "2024-06-20T21:53:36.930648Z"
    },
    "tags": []
   },
   "outputs": [],
   "source": [
    "# Group by all columns and count occurrences\n",
    "grouped_df = chd.groupBy(chd.columns).count()\n",
    "\n",
    "# Filter rows where count is greater than 1 (i.e., duplicated rows)\n",
    "duplicated_rows_df = grouped_df.filter(F.col(\"count\") > 1).drop(\"count\")"
   ]
  },
  {
   "cell_type": "code",
   "execution_count": 21,
   "id": "f21e59a7-aad2-42fa-aa12-7d8c16209c69",
   "metadata": {
    "execution": {
     "iopub.execute_input": "2024-06-20T21:53:48.777233Z",
     "iopub.status.busy": "2024-06-20T21:53:48.776804Z",
     "iopub.status.idle": "2024-06-20T21:53:49.069557Z",
     "shell.execute_reply": "2024-06-20T21:53:49.069119Z",
     "shell.execute_reply.started": "2024-06-20T21:53:48.777216Z"
    },
    "tags": []
   },
   "outputs": [
    {
     "name": "stdout",
     "output_type": "stream",
     "text": [
      "+--------------------+-----------+-------+------+\n",
      "|           twist_seq|        seq|     id|allele|\n",
      "+--------------------+-----------+-------+------+\n",
      "|ACTGGCCGCTTGACGGT...|  rs9921666|Non-Ref|     C|\n",
      "|ACTGGCCGCTTGACGCC...| rs10040387|    Ref|     C|\n",
      "|ACTGGCCGCTTGACGGT...| rs12102293|    Ref|     T|\n",
      "|ACTGGCCGCTTGACGCG...| rs70963514|Non-Ref|     T|\n",
      "|ACTGGCCGCTTGACGGA...| rs12697626|Non-Ref|     A|\n",
      "|ACTGGCCGCTTGACGCT...| rs77907709|    Ref|     G|\n",
      "|ACTGGCCGCTTGACGGT...|  rs8043592|Non-Ref|     G|\n",
      "|ACTGGCCGCTTGACGGG...|   rs729265|    Ref|     G|\n",
      "|ACTGGCCGCTTGACGTC...| rs12920477|Non-Ref|     G|\n",
      "|ACTGGCCGCTTGACGCT...|rs111607652|    Ref|     T|\n",
      "|ACTGGCCGCTTGACGCT...|rs111607652|Non-Ref|TGTTTG|\n",
      "|ACTGGCCGCTTGACGGA...| rs10050789|    Ref|     C|\n",
      "|ACTGGCCGCTTGACGCT...|rs111607652|Non-Ref|    TG|\n",
      "|ACTGGCCGCTTGACGGC...| rs67482039|    Ref|     A|\n",
      "|ACTGGCCGCTTGACGCG...| rs70963514|Non-Ref|  TAAA|\n",
      "|ACTGGCCGCTTGACGGG...| rs35424543|Non-Ref|     C|\n",
      "|ACTGGCCGCTTGACGGG...| rs35424543|Non-Ref|     A|\n",
      "|ACTGGCCGCTTGACGGT...|  rs8043592|    Ref|     A|\n",
      "|ACTGGCCGCTTGACGTC...|  rs2873367|    Ref|     T|\n",
      "|ACTGGCCGCTTGACGGT...|  rs7185658|Non-Ref|     G|\n",
      "+--------------------+-----------+-------+------+\n",
      "only showing top 20 rows\n",
      "\n"
     ]
    }
   ],
   "source": [
    "duplicated_rows_df.show()"
   ]
  },
  {
   "cell_type": "code",
   "execution_count": 7,
   "id": "7252f80d-0f9a-4c06-a2ea-8e656c79e18f",
   "metadata": {
    "execution": {
     "iopub.execute_input": "2024-06-20T21:50:04.700670Z",
     "iopub.status.busy": "2024-06-20T21:50:04.700403Z",
     "iopub.status.idle": "2024-06-20T21:50:04.707299Z",
     "shell.execute_reply": "2024-06-20T21:50:04.706920Z",
     "shell.execute_reply.started": "2024-06-20T21:50:04.700654Z"
    },
    "tags": []
   },
   "outputs": [],
   "source": [
    "chd = chd.withColumnRenamed(\"id\", \"which\")"
   ]
  },
  {
   "cell_type": "code",
   "execution_count": 8,
   "id": "e89f2f03-6d05-4b68-b65a-60e281db7cb1",
   "metadata": {
    "execution": {
     "iopub.execute_input": "2024-06-20T21:50:05.520144Z",
     "iopub.status.busy": "2024-06-20T21:50:05.519626Z",
     "iopub.status.idle": "2024-06-20T21:50:05.522967Z",
     "shell.execute_reply": "2024-06-20T21:50:05.522612Z",
     "shell.execute_reply.started": "2024-06-20T21:50:05.520119Z"
    },
    "tags": []
   },
   "outputs": [],
   "source": [
    "vcf_schema = T.StructType([\n",
    "    T.StructField(\"CHROM\", T.StringType(), True),\n",
    "    T.StructField(\"POS\", T.IntegerType(), True),\n",
    "    T.StructField(\"ID\", T.StringType(), True),\n",
    "    T.StructField(\"REF\", T.StringType(), True),\n",
    "    T.StructField(\"ALT\", T.StringType(), True),\n",
    "    T.StructField(\"QUAL\", T.StringType(), True),\n",
    "    T.StructField(\"FILTER\", T.StringType(), True),\n",
    "    T.StructField(\"INFO\", T.StringType(), True),\n",
    "\n",
    "])"
   ]
  },
  {
   "cell_type": "code",
   "execution_count": 9,
   "id": "388266bf-0d8e-4c2d-97ce-8e2b3034dd7a",
   "metadata": {
    "execution": {
     "iopub.execute_input": "2024-06-20T21:50:17.134603Z",
     "iopub.status.busy": "2024-06-20T21:50:17.134131Z",
     "iopub.status.idle": "2024-06-20T21:50:17.216069Z",
     "shell.execute_reply": "2024-06-20T21:50:17.215655Z",
     "shell.execute_reply.started": "2024-06-20T21:50:17.134587Z"
    },
    "tags": []
   },
   "outputs": [],
   "source": [
    "vcf = spark.read \\\n",
    "    .option(\"comment\", \"#\") \\\n",
    "    .option(\"delimiter\", \"\\t\") \\\n",
    "    .schema(vcf_schema) \\\n",
    "    .csv(\"/home/mcn26/varef/data/Malinois/gnomAD_variants/gnomad.genomes.v3.1.2.sites.*.converted.vcf.gz\", header=False)"
   ]
  },
  {
   "cell_type": "code",
   "execution_count": 22,
   "id": "fccda1e0-372f-402b-9134-8083d2e27406",
   "metadata": {
    "execution": {
     "iopub.execute_input": "2024-06-19T21:43:56.163744Z",
     "iopub.status.busy": "2024-06-19T21:43:56.163273Z",
     "iopub.status.idle": "2024-06-19T21:43:56.260247Z",
     "shell.execute_reply": "2024-06-19T21:43:56.259891Z",
     "shell.execute_reply.started": "2024-06-19T21:43:56.163725Z"
    },
    "tags": []
   },
   "outputs": [
    {
     "data": {
      "text/plain": [
       "[Row(CHROM='chr2', POS=10185, ID='rs561592428', REF='T', ALT='C', QUAL='.', FILTER='.', INFO='K562__ref=3.00619;HepG2__ref=0.57225424;SKNSH__ref=0.12139538;K562__alt=3.1070452;HepG2__alt=0.5983842;SKNSH__alt=0.17209518;K562__skew=0.100854985;HepG2__skew=0.026129985;SKNSH__skew=0.05069978')]"
      ]
     },
     "execution_count": 22,
     "metadata": {},
     "output_type": "execute_result"
    }
   ],
   "source": [
    "vcf.take(1)"
   ]
  },
  {
   "cell_type": "code",
   "execution_count": 24,
   "id": "d2f4573e-8636-4256-b97c-ee776feef481",
   "metadata": {
    "execution": {
     "iopub.execute_input": "2024-06-19T21:51:43.872876Z",
     "iopub.status.busy": "2024-06-19T21:51:43.872488Z",
     "iopub.status.idle": "2024-06-19T21:51:43.877701Z",
     "shell.execute_reply": "2024-06-19T21:51:43.877315Z",
     "shell.execute_reply.started": "2024-06-19T21:51:43.872858Z"
    },
    "tags": []
   },
   "outputs": [],
   "source": [
    "#drop variants which don't have an rsID\n",
    "vcf=vcf.filter(vcf.ID != \".\")"
   ]
  },
  {
   "cell_type": "code",
   "execution_count": 31,
   "id": "8f297d5d-859b-4d76-a2ad-f5f9aa3a39ef",
   "metadata": {
    "execution": {
     "iopub.execute_input": "2024-06-19T21:57:31.198407Z",
     "iopub.status.busy": "2024-06-19T21:57:31.198017Z",
     "iopub.status.idle": "2024-06-19T21:57:31.216203Z",
     "shell.execute_reply": "2024-06-19T21:57:31.215770Z",
     "shell.execute_reply.started": "2024-06-19T21:57:31.198388Z"
    },
    "tags": []
   },
   "outputs": [],
   "source": [
    "joined_df = chd.join(vcf, chd.seq == vcf.ID, how=\"left\")"
   ]
  },
  {
   "cell_type": "code",
   "execution_count": null,
   "id": "49039cea-de01-404d-8369-51818a1b83d6",
   "metadata": {},
   "outputs": [],
   "source": [
    "joined_df.write.option(\"codec\", \"org.apache.hadoop.io.compress.GzipCodec\") \\\n",
    "    .option(\"delimiter\", \"\\t\") \\\n",
    "    .csv(\"chd_out.csv.gz\", header=True, mode=\"overwrite\")"
   ]
  }
 ],
 "metadata": {
  "kernelspec": {
   "display_name": "Python 3 (ipykernel)",
   "language": "python",
   "name": "python3"
  },
  "language_info": {
   "codemirror_mode": {
    "name": "ipython",
    "version": 3
   },
   "file_extension": ".py",
   "mimetype": "text/x-python",
   "name": "python",
   "nbconvert_exporter": "python",
   "pygments_lexer": "ipython3",
   "version": "3.10.12"
  }
 },
 "nbformat": 4,
 "nbformat_minor": 5
}
