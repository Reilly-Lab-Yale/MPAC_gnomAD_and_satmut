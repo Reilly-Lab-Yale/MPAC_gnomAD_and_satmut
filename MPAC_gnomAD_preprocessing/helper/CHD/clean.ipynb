{
 "cells": [
  {
   "cell_type": "code",
   "execution_count": 6,
   "id": "89fcf3b1-3956-4169-88a7-fb6093f6d3b4",
   "metadata": {
    "execution": {
     "iopub.execute_input": "2024-06-20T20:00:08.118300Z",
     "iopub.status.busy": "2024-06-20T20:00:08.117880Z",
     "iopub.status.idle": "2024-06-20T20:00:09.793247Z",
     "shell.execute_reply": "2024-06-20T20:00:09.792822Z",
     "shell.execute_reply.started": "2024-06-20T20:00:08.118282Z"
    },
    "tags": []
   },
   "outputs": [],
   "source": [
    "from pyspark import SparkConf, SparkContext\n",
    "from pyspark.sql import SparkSession\n",
    "import pyspark.sql.types as T\n",
    "import pyspark.sql.functions as F\n",
    "import os\n",
    "import pandas as pd"
   ]
  },
  {
   "cell_type": "code",
   "execution_count": 2,
   "id": "154207a3-6aa3-4508-9913-fda2870ec58f",
   "metadata": {
    "execution": {
     "iopub.execute_input": "2024-06-20T19:54:18.900759Z",
     "iopub.status.busy": "2024-06-20T19:54:18.900256Z",
     "iopub.status.idle": "2024-06-20T19:54:24.074537Z",
     "shell.execute_reply": "2024-06-20T19:54:24.074078Z",
     "shell.execute_reply.started": "2024-06-20T19:54:18.900742Z"
    },
    "tags": []
   },
   "outputs": [
    {
     "name": "stderr",
     "output_type": "stream",
     "text": [
      "Setting default log level to \"WARN\".\n",
      "To adjust logging level use sc.setLogLevel(newLevel). For SparkR, use setLogLevel(newLevel).\n",
      "24/06/20 15:54:22 WARN NativeCodeLoader: Unable to load native-hadoop library for your platform... using builtin-java classes where applicable\n",
      "24/06/20 15:54:35 WARN GarbageCollectionMetrics: To enable non-built-in garbage collector(s) List(G1 Concurrent GC), users should configure it(them) to spark.eventLog.gcMetrics.youngGenerationGarbageCollectors or spark.eventLog.gcMetrics.oldGenerationGarbageCollectors\n"
     ]
    }
   ],
   "source": [
    "if 'spark' in locals() and spark!=None:\n",
    "    spark.stop()\n",
    "\n",
    "\n",
    "spark=None\n",
    "\n",
    "spark = SparkSession.builder.getOrCreate()"
   ]
  },
  {
   "cell_type": "code",
   "execution_count": 3,
   "id": "249976e8-cb03-4fe4-912e-46f110f7ad98",
   "metadata": {
    "execution": {
     "iopub.execute_input": "2024-06-20T19:58:13.584774Z",
     "iopub.status.busy": "2024-06-20T19:58:13.584476Z",
     "iopub.status.idle": "2024-06-20T19:58:18.583206Z",
     "shell.execute_reply": "2024-06-20T19:58:18.582779Z",
     "shell.execute_reply.started": "2024-06-20T19:58:13.584752Z"
    },
    "tags": []
   },
   "outputs": [],
   "source": [
    "chd = spark.read \\\n",
    "    .option(\"delimiter\", \"\\t\") \\\n",
    "    .csv(\"chd_out.csv.gz/*.csv.gz\", header=True)"
   ]
  },
  {
   "cell_type": "code",
   "execution_count": 8,
   "id": "45dee9eb-ce42-4dcb-acd8-e99d143cdedd",
   "metadata": {
    "execution": {
     "iopub.execute_input": "2024-06-20T20:05:28.634176Z",
     "iopub.status.busy": "2024-06-20T20:05:28.633661Z",
     "iopub.status.idle": "2024-06-20T20:05:28.767229Z",
     "shell.execute_reply": "2024-06-20T20:05:28.766805Z",
     "shell.execute_reply.started": "2024-06-20T20:05:28.634157Z"
    },
    "tags": []
   },
   "outputs": [],
   "source": [
    "keys_to_extract = [#NONE CAN BE SUBSTRINGS OF THE OTHERS\n",
    "    \"K562__ref\", \"HepG2__ref\", \"SKNSH__ref\", \"K562__alt\", \"HepG2__alt\", \"SKNSH__alt\",\n",
    "    \"K562__skew\", \"HepG2__skew\", \"SKNSH__skew\",\n",
    "]\n",
    "\n",
    "# Apply the regexp_extract function to the DataFrame to create new columns for each key.\n",
    "# The expression '([^;]*)' captures any sequence of characters that are not a semicolon,\n",
    "# which is assumed to be the delimiter for the key-value pairs in the 'INFO' column.\n",
    "\n",
    "for key in keys_to_extract:\n",
    "\n",
    "    #df = df.withColumn(key, regexp_extract(col(\"INFO\"), \"{}=([^;]+);?\".format(key), 1))\n",
    "    #when we find something put it, whne we don't put None\n",
    "    chd = chd.withColumn(key, \n",
    "                       F.when(\n",
    "                           F.regexp_extract(F.col(\"INFO\"), \"{}=([^;]+);?\".format(key), 1) != \"\",\n",
    "                           F.regexp_extract(F.col(\"INFO\"), \"{}=([^;]+);?\".format(key), 1)).otherwise(None))"
   ]
  },
  {
   "cell_type": "code",
   "execution_count": 10,
   "id": "e9d5786e-a144-42ab-b110-74a7882f0c30",
   "metadata": {
    "execution": {
     "iopub.execute_input": "2024-06-20T20:11:27.846497Z",
     "iopub.status.busy": "2024-06-20T20:11:27.846005Z",
     "iopub.status.idle": "2024-06-20T20:11:27.856564Z",
     "shell.execute_reply": "2024-06-20T20:11:27.856171Z",
     "shell.execute_reply.started": "2024-06-20T20:11:27.846480Z"
    },
    "tags": []
   },
   "outputs": [],
   "source": [
    "chd=chd.drop(\"Info\")"
   ]
  },
  {
   "cell_type": "markdown",
   "id": "b2bb7449-db71-4a16-81c2-088bfc348d55",
   "metadata": {},
   "source": [
    "rsID, which we joined on, is NOT enough to uniquiely identify a SNP! We will use the nucleotides, too. "
   ]
  },
  {
   "cell_type": "code",
   "execution_count": 37,
   "id": "6bb96d53-630d-46c5-90df-1a75d257a214",
   "metadata": {
    "execution": {
     "iopub.execute_input": "2024-06-20T20:55:38.208037Z",
     "iopub.status.busy": "2024-06-20T20:55:38.207577Z",
     "iopub.status.idle": "2024-06-20T20:55:38.217513Z",
     "shell.execute_reply": "2024-06-20T20:55:38.217125Z",
     "shell.execute_reply.started": "2024-06-20T20:55:38.208021Z"
    },
    "tags": []
   },
   "outputs": [],
   "source": [
    "ref=chd.filter(F.col(\"which\").startswith(\"Ref\"))\n",
    "alt=chd.filter(F.col(\"which\").startswith(\"Non\"))"
   ]
  },
  {
   "cell_type": "code",
   "execution_count": 48,
   "id": "6c123f4f-2095-4764-9c62-49ef23fdbc40",
   "metadata": {
    "execution": {
     "iopub.execute_input": "2024-06-20T20:58:37.011377Z",
     "iopub.status.busy": "2024-06-20T20:58:37.011105Z",
     "iopub.status.idle": "2024-06-20T20:58:37.017347Z",
     "shell.execute_reply": "2024-06-20T20:58:37.016969Z",
     "shell.execute_reply.started": "2024-06-20T20:58:37.011360Z"
    },
    "tags": []
   },
   "outputs": [],
   "source": [
    "ref_correct_nt=ref.filter(ref.allele==ref.REF)"
   ]
  },
  {
   "cell_type": "code",
   "execution_count": 49,
   "id": "924c0144-fd0e-44d2-a60d-3135603bc67a",
   "metadata": {
    "execution": {
     "iopub.execute_input": "2024-06-20T20:58:37.587229Z",
     "iopub.status.busy": "2024-06-20T20:58:37.586982Z",
     "iopub.status.idle": "2024-06-20T20:58:37.592197Z",
     "shell.execute_reply": "2024-06-20T20:58:37.591837Z",
     "shell.execute_reply.started": "2024-06-20T20:58:37.587213Z"
    },
    "tags": []
   },
   "outputs": [],
   "source": [
    "alt_correct_nt=alt.filter(ref.allele==ref.ALT)"
   ]
  },
  {
   "cell_type": "code",
   "execution_count": 53,
   "id": "f782a0e2-06aa-41bf-b8cf-7ed54641cee0",
   "metadata": {
    "execution": {
     "iopub.execute_input": "2024-06-20T21:01:42.785958Z",
     "iopub.status.busy": "2024-06-20T21:01:42.785715Z",
     "iopub.status.idle": "2024-06-20T21:01:42.792825Z",
     "shell.execute_reply": "2024-06-20T21:01:42.792464Z",
     "shell.execute_reply.started": "2024-06-20T21:01:42.785942Z"
    },
    "tags": []
   },
   "outputs": [],
   "source": [
    "no_prediction=chd.filter(F.col(\"REF\").isNull())"
   ]
  },
  {
   "cell_type": "markdown",
   "id": "c0bcd8d0-1607-44c3-997b-5bec3113f6f3",
   "metadata": {
    "execution": {
     "iopub.execute_input": "2024-06-20T20:51:40.634161Z",
     "iopub.status.busy": "2024-06-20T20:51:40.633901Z",
     "iopub.status.idle": "2024-06-20T20:51:40.637009Z",
     "shell.execute_reply": "2024-06-20T20:51:40.636688Z",
     "shell.execute_reply.started": "2024-06-20T20:51:40.634145Z"
    },
    "tags": []
   },
   "source": [
    "The number of alleles in the original spreadsheet is 14524"
   ]
  },
  {
   "cell_type": "code",
   "execution_count": 59,
   "id": "3e246af8-22e3-42a8-8a9e-79c253ebbd00",
   "metadata": {
    "execution": {
     "iopub.execute_input": "2024-06-20T21:16:36.203174Z",
     "iopub.status.busy": "2024-06-20T21:16:36.202721Z",
     "iopub.status.idle": "2024-06-20T21:16:36.464546Z",
     "shell.execute_reply": "2024-06-20T21:16:36.464115Z",
     "shell.execute_reply.started": "2024-06-20T21:16:36.203157Z"
    },
    "tags": []
   },
   "outputs": [
    {
     "data": {
      "text/plain": [
       "11804"
      ]
     },
     "execution_count": 59,
     "metadata": {},
     "output_type": "execute_result"
    }
   ],
   "source": [
    "alt_correct_nt.count()+ref_correct_nt.count()"
   ]
  },
  {
   "cell_type": "code",
   "execution_count": 22,
   "id": "14c22668-2a9e-48c8-9e9d-808bd62a642e",
   "metadata": {
    "execution": {
     "iopub.execute_input": "2024-06-20T20:37:24.223639Z",
     "iopub.status.busy": "2024-06-20T20:37:24.223175Z",
     "iopub.status.idle": "2024-06-20T20:37:24.345500Z",
     "shell.execute_reply": "2024-06-20T20:37:24.345093Z",
     "shell.execute_reply.started": "2024-06-20T20:37:24.223621Z"
    },
    "tags": []
   },
   "outputs": [
    {
     "data": {
      "text/html": [
       "<div>\n",
       "<style scoped>\n",
       "    .dataframe tbody tr th:only-of-type {\n",
       "        vertical-align: middle;\n",
       "    }\n",
       "\n",
       "    .dataframe tbody tr th {\n",
       "        vertical-align: top;\n",
       "    }\n",
       "\n",
       "    .dataframe thead th {\n",
       "        text-align: right;\n",
       "    }\n",
       "</style>\n",
       "<table border=\"1\" class=\"dataframe\">\n",
       "  <thead>\n",
       "    <tr style=\"text-align: right;\">\n",
       "      <th></th>\n",
       "      <th>twist_seq</th>\n",
       "      <th>seq</th>\n",
       "      <th>which</th>\n",
       "      <th>allele</th>\n",
       "      <th>CHROM</th>\n",
       "      <th>POS</th>\n",
       "      <th>ID</th>\n",
       "      <th>REF</th>\n",
       "      <th>ALT</th>\n",
       "      <th>QUAL</th>\n",
       "      <th>FILTER</th>\n",
       "      <th>K562__ref</th>\n",
       "      <th>HepG2__ref</th>\n",
       "      <th>SKNSH__ref</th>\n",
       "      <th>K562__alt</th>\n",
       "      <th>HepG2__alt</th>\n",
       "      <th>SKNSH__alt</th>\n",
       "      <th>K562__skew</th>\n",
       "      <th>HepG2__skew</th>\n",
       "      <th>SKNSH__skew</th>\n",
       "    </tr>\n",
       "  </thead>\n",
       "  <tbody>\n",
       "    <tr>\n",
       "      <th>0</th>\n",
       "      <td>ACTGGCCGCTTGACGTTTGTTTCAAAGAATGACATTCCAATATTCT...</td>\n",
       "      <td>rs10053901</td>\n",
       "      <td>Non-Ref</td>\n",
       "      <td>A</td>\n",
       "      <td>chr5</td>\n",
       "      <td>23327847</td>\n",
       "      <td>rs10053901</td>\n",
       "      <td>T</td>\n",
       "      <td>A</td>\n",
       "      <td>.</td>\n",
       "      <td>.</td>\n",
       "      <td>0.24528538</td>\n",
       "      <td>0.17082982</td>\n",
       "      <td>0.28918344</td>\n",
       "      <td>0.24863826</td>\n",
       "      <td>0.16324805</td>\n",
       "      <td>0.2590601</td>\n",
       "      <td>0.0033528863</td>\n",
       "      <td>-0.007581764</td>\n",
       "      <td>-0.03012329</td>\n",
       "    </tr>\n",
       "    <tr>\n",
       "      <th>1</th>\n",
       "      <td>ACTGGCCGCTTGACGTTTGTTTCAAAGAATGACATTCCAATATTCT...</td>\n",
       "      <td>rs10053901</td>\n",
       "      <td>Non-Ref</td>\n",
       "      <td>G</td>\n",
       "      <td>chr5</td>\n",
       "      <td>23327847</td>\n",
       "      <td>rs10053901</td>\n",
       "      <td>T</td>\n",
       "      <td>G</td>\n",
       "      <td>.</td>\n",
       "      <td>.</td>\n",
       "      <td>0.24528538</td>\n",
       "      <td>0.17082982</td>\n",
       "      <td>0.28918344</td>\n",
       "      <td>0.24810076</td>\n",
       "      <td>0.18790716</td>\n",
       "      <td>0.31679872</td>\n",
       "      <td>0.002815386</td>\n",
       "      <td>0.01707734</td>\n",
       "      <td>0.027615324</td>\n",
       "    </tr>\n",
       "    <tr>\n",
       "      <th>2</th>\n",
       "      <td>ACTGGCCGCTTGACGGTTGGAAGTGAGCAGTCATCTAAGGTCTACG...</td>\n",
       "      <td>rs10065718</td>\n",
       "      <td>Non-Ref</td>\n",
       "      <td>T</td>\n",
       "      <td>chr5</td>\n",
       "      <td>104701020</td>\n",
       "      <td>rs10065718</td>\n",
       "      <td>A</td>\n",
       "      <td>T</td>\n",
       "      <td>.</td>\n",
       "      <td>.</td>\n",
       "      <td>0.6069474</td>\n",
       "      <td>0.7525695</td>\n",
       "      <td>0.51740646</td>\n",
       "      <td>0.6839925</td>\n",
       "      <td>0.8182982</td>\n",
       "      <td>0.6036991</td>\n",
       "      <td>0.07704512</td>\n",
       "      <td>0.06572859</td>\n",
       "      <td>0.086292565</td>\n",
       "    </tr>\n",
       "    <tr>\n",
       "      <th>3</th>\n",
       "      <td>ACTGGCCGCTTGACGGATTAGGTCATAGTAAGGCTACTGTCTTTTA...</td>\n",
       "      <td>rs10428319</td>\n",
       "      <td>Non-Ref</td>\n",
       "      <td>C</td>\n",
       "      <td>chr4</td>\n",
       "      <td>77922471</td>\n",
       "      <td>rs10428319</td>\n",
       "      <td>G</td>\n",
       "      <td>C</td>\n",
       "      <td>.</td>\n",
       "      <td>.</td>\n",
       "      <td>0.045638386</td>\n",
       "      <td>0.037590988</td>\n",
       "      <td>-0.28576174</td>\n",
       "      <td>0.03520652</td>\n",
       "      <td>0.0084324125</td>\n",
       "      <td>-0.30588984</td>\n",
       "      <td>-0.010431869</td>\n",
       "      <td>-0.02915858</td>\n",
       "      <td>-0.020128114</td>\n",
       "    </tr>\n",
       "    <tr>\n",
       "      <th>4</th>\n",
       "      <td>ACTGGCCGCTTGACGAAAATTCTCTTTTTTTGTTGTGTCTCTGCCC...</td>\n",
       "      <td>rs10897362</td>\n",
       "      <td>Non-Ref</td>\n",
       "      <td>A</td>\n",
       "      <td>chr11</td>\n",
       "      <td>63111386</td>\n",
       "      <td>rs10897362</td>\n",
       "      <td>T</td>\n",
       "      <td>A</td>\n",
       "      <td>.</td>\n",
       "      <td>.</td>\n",
       "      <td>-0.06181907</td>\n",
       "      <td>-0.17066376</td>\n",
       "      <td>0.06886074</td>\n",
       "      <td>-0.08515031</td>\n",
       "      <td>-0.16880952</td>\n",
       "      <td>0.08658069</td>\n",
       "      <td>-0.02333124</td>\n",
       "      <td>0.0018542452</td>\n",
       "      <td>0.017719954</td>\n",
       "    </tr>\n",
       "  </tbody>\n",
       "</table>\n",
       "</div>"
      ],
      "text/plain": [
       "                                           twist_seq         seq    which  \\\n",
       "0  ACTGGCCGCTTGACGTTTGTTTCAAAGAATGACATTCCAATATTCT...  rs10053901  Non-Ref   \n",
       "1  ACTGGCCGCTTGACGTTTGTTTCAAAGAATGACATTCCAATATTCT...  rs10053901  Non-Ref   \n",
       "2  ACTGGCCGCTTGACGGTTGGAAGTGAGCAGTCATCTAAGGTCTACG...  rs10065718  Non-Ref   \n",
       "3  ACTGGCCGCTTGACGGATTAGGTCATAGTAAGGCTACTGTCTTTTA...  rs10428319  Non-Ref   \n",
       "4  ACTGGCCGCTTGACGAAAATTCTCTTTTTTTGTTGTGTCTCTGCCC...  rs10897362  Non-Ref   \n",
       "\n",
       "  allele  CHROM        POS          ID REF ALT QUAL FILTER    K562__ref  \\\n",
       "0      A   chr5   23327847  rs10053901   T   A    .      .   0.24528538   \n",
       "1      G   chr5   23327847  rs10053901   T   G    .      .   0.24528538   \n",
       "2      T   chr5  104701020  rs10065718   A   T    .      .    0.6069474   \n",
       "3      C   chr4   77922471  rs10428319   G   C    .      .  0.045638386   \n",
       "4      A  chr11   63111386  rs10897362   T   A    .      .  -0.06181907   \n",
       "\n",
       "    HepG2__ref   SKNSH__ref    K562__alt    HepG2__alt   SKNSH__alt  \\\n",
       "0   0.17082982   0.28918344   0.24863826    0.16324805    0.2590601   \n",
       "1   0.17082982   0.28918344   0.24810076    0.18790716   0.31679872   \n",
       "2    0.7525695   0.51740646    0.6839925     0.8182982    0.6036991   \n",
       "3  0.037590988  -0.28576174   0.03520652  0.0084324125  -0.30588984   \n",
       "4  -0.17066376   0.06886074  -0.08515031   -0.16880952   0.08658069   \n",
       "\n",
       "     K562__skew   HepG2__skew   SKNSH__skew  \n",
       "0  0.0033528863  -0.007581764   -0.03012329  \n",
       "1   0.002815386    0.01707734   0.027615324  \n",
       "2    0.07704512    0.06572859   0.086292565  \n",
       "3  -0.010431869   -0.02915858  -0.020128114  \n",
       "4   -0.02333124  0.0018542452   0.017719954  "
      ]
     },
     "metadata": {},
     "output_type": "display_data"
    }
   ],
   "source": [
    "with pd.option_context('display.max_rows', None, 'display.max_columns', None):\n",
    "    display(alt_correct_nt.limit(5).toPandas())"
   ]
  },
  {
   "cell_type": "code",
   "execution_count": 61,
   "id": "a72231f0-7f8e-4836-89dd-5bedc1a6568c",
   "metadata": {
    "execution": {
     "iopub.execute_input": "2024-06-20T21:21:13.305903Z",
     "iopub.status.busy": "2024-06-20T21:21:13.305532Z",
     "iopub.status.idle": "2024-06-20T21:21:14.705739Z",
     "shell.execute_reply": "2024-06-20T21:21:14.705334Z",
     "shell.execute_reply.started": "2024-06-20T21:21:13.305888Z"
    },
    "tags": []
   },
   "outputs": [
    {
     "name": "stderr",
     "output_type": "stream",
     "text": [
      "                                                                                \r"
     ]
    }
   ],
   "source": [
    "final=alt_correct_nt.union(ref_correct_nt)\n",
    "final.coalesce(1).write.csv(\"predictions.tsv\", sep=\"\\t\", header=True, mode=\"overwrite\")"
   ]
  }
 ],
 "metadata": {
  "kernelspec": {
   "display_name": "Python 3 (ipykernel)",
   "language": "python",
   "name": "python3"
  },
  "language_info": {
   "codemirror_mode": {
    "name": "ipython",
    "version": 3
   },
   "file_extension": ".py",
   "mimetype": "text/x-python",
   "name": "python",
   "nbconvert_exporter": "python",
   "pygments_lexer": "ipython3",
   "version": "3.10.12"
  }
 },
 "nbformat": 4,
 "nbformat_minor": 5
}
