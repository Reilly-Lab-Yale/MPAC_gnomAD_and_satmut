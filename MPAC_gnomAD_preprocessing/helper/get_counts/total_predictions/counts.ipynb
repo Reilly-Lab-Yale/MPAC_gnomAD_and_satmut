{
 "cells": [
  {
   "cell_type": "markdown",
   "id": "a4b37c6c-ccda-4d3e-b5cd-a435a385b5e8",
   "metadata": {},
   "source": [
    "The purpose of this script is to extract some relevant counts to be cited in the manuscript."
   ]
  },
  {
   "cell_type": "code",
   "execution_count": 4,
   "id": "9b379409-c436-432d-b704-df574de76cb7",
   "metadata": {
    "execution": {
     "iopub.execute_input": "2024-06-11T18:28:56.055332Z",
     "iopub.status.busy": "2024-06-11T18:28:56.054799Z",
     "iopub.status.idle": "2024-06-11T18:28:58.322291Z",
     "shell.execute_reply": "2024-06-11T18:28:58.321732Z",
     "shell.execute_reply.started": "2024-06-11T18:28:56.055309Z"
    },
    "tags": []
   },
   "outputs": [],
   "source": [
    "from pyspark.sql import SparkSession\n",
    "from pyspark.sql import functions as F\n",
    "import pyspark.sql.types as T\n",
    "import os"
   ]
  },
  {
   "cell_type": "code",
   "execution_count": 5,
   "id": "c2fba55f-bf69-4fcb-81f6-53928f5d9c0c",
   "metadata": {
    "execution": {
     "iopub.execute_input": "2024-06-11T18:29:55.851970Z",
     "iopub.status.busy": "2024-06-11T18:29:55.851386Z",
     "iopub.status.idle": "2024-06-11T18:30:07.634465Z",
     "shell.execute_reply": "2024-06-11T18:30:07.633823Z",
     "shell.execute_reply.started": "2024-06-11T18:29:55.851949Z"
    },
    "tags": []
   },
   "outputs": [
    {
     "name": "stderr",
     "output_type": "stream",
     "text": [
      "Setting default log level to \"WARN\".\n",
      "To adjust logging level use sc.setLogLevel(newLevel). For SparkR, use setLogLevel(newLevel).\n",
      "24/06/11 14:30:04 WARN NativeCodeLoader: Unable to load native-hadoop library for your platform... using builtin-java classes where applicable\n",
      "24/06/11 14:30:20 WARN GarbageCollectionMetrics: To enable non-built-in garbage collector(s) List(G1 Concurrent GC), users should configure it(them) to spark.eventLog.gcMetrics.youngGenerationGarbageCollectors or spark.eventLog.gcMetrics.oldGenerationGarbageCollectors\n"
     ]
    }
   ],
   "source": [
    "spark = SparkSession.builder.appName(\"manuscript_counts\").getOrCreate()"
   ]
  },
  {
   "cell_type": "code",
   "execution_count": 8,
   "id": "6cf1a373-1188-4962-8a54-d0f193d445a4",
   "metadata": {
    "execution": {
     "iopub.execute_input": "2024-06-11T18:36:18.570754Z",
     "iopub.status.busy": "2024-06-11T18:36:18.570430Z",
     "iopub.status.idle": "2024-06-11T18:36:18.573592Z",
     "shell.execute_reply": "2024-06-11T18:36:18.573206Z",
     "shell.execute_reply.started": "2024-06-11T18:36:18.570734Z"
    },
    "tags": []
   },
   "outputs": [],
   "source": [
    "chromosome=\"NONE\"\n",
    "\n",
    "if \"which_chr\" in os.environ:\n",
    "    chromosome=os.environ['which_chr']\n",
    "\n",
    "if chromosome==\"NONE\":\n",
    "    print(\"error : did not find which chromosome we are supposed to crunch\")\n",
    "    exit(-1)\n",
    "else:\n",
    "    print(\"only crunching chromosome \"+chromosome)"
   ]
  },
  {
   "cell_type": "code",
   "execution_count": 20,
   "id": "ee401b92-e798-4ebe-a2da-c80bb3927517",
   "metadata": {
    "execution": {
     "iopub.execute_input": "2024-06-11T18:52:27.642968Z",
     "iopub.status.busy": "2024-06-11T18:52:27.642618Z",
     "iopub.status.idle": "2024-06-11T18:52:27.669702Z",
     "shell.execute_reply": "2024-06-11T18:52:27.669135Z",
     "shell.execute_reply.started": "2024-06-11T18:52:27.642948Z"
    },
    "tags": []
   },
   "outputs": [],
   "source": [
    "filename=f\"/home/mcn26/varef/data/Malinois/gnomAD_variants/gnomad.genomes.v3.1.2.sites.{chromosome}.converted.vcf.gz\"\n",
    "\n",
    "#we are going to load the vcf file as a rdd first, so we can remove the comment lines \n",
    "variants_rdd = spark.sparkContext.textFile(filename)"
   ]
  },
  {
   "cell_type": "code",
   "execution_count": 21,
   "id": "c88a3054-a5ac-430f-941c-4661db79d3e6",
   "metadata": {
    "execution": {
     "iopub.execute_input": "2024-06-11T18:52:28.463097Z",
     "iopub.status.busy": "2024-06-11T18:52:28.462532Z",
     "iopub.status.idle": "2024-06-11T18:52:32.519207Z",
     "shell.execute_reply": "2024-06-11T18:52:32.518663Z",
     "shell.execute_reply.started": "2024-06-11T18:52:28.463074Z"
    },
    "tags": []
   },
   "outputs": [
    {
     "name": "stderr",
     "output_type": "stream",
     "text": [
      "24/06/11 14:52:32 WARN PythonRunner: Detected deadlock while completing task 0.0 in stage 2 (TID 2): Attempting to kill Python Worker\n",
      "                                                                                \r"
     ]
    }
   ],
   "source": [
    "#VCFs have metadata at the beginning of the file preceeded by `##`\n",
    "#Followed by a header preceeded by `#`\n",
    "#then the actual data. I can't just use the regular pysaprk comment filtering\n",
    "#This, and the fact that pyspark only accepts single-characters as indicating\n",
    "#comments lines, means I can't use spark's builtin comment filtering.\n",
    "\n",
    "\n",
    "#Grab the first 100 lines. I'm certain the header will be in here.\n",
    "initial_lines = variants_rdd.take(100)\n",
    "#Filter out the metadata.\n",
    "filtered_initial_lines = [line for line in initial_lines if not line.startswith('##')]"
   ]
  },
  {
   "cell_type": "code",
   "execution_count": 22,
   "id": "283586ef-2cae-46d0-b661-d95c886260eb",
   "metadata": {
    "execution": {
     "iopub.execute_input": "2024-06-11T18:52:32.520668Z",
     "iopub.status.busy": "2024-06-11T18:52:32.520160Z",
     "iopub.status.idle": "2024-06-11T18:52:32.523027Z",
     "shell.execute_reply": "2024-06-11T18:52:32.522672Z",
     "shell.execute_reply.started": "2024-06-11T18:52:32.520649Z"
    },
    "tags": []
   },
   "outputs": [],
   "source": [
    "#Extract the header line\n",
    "header_line = next(line for line in filtered_initial_lines if line.startswith('#'))\n",
    "#Extract a list version the header\n",
    "header = header_line[1:].split('\\t')"
   ]
  },
  {
   "cell_type": "code",
   "execution_count": 23,
   "id": "4440d85c-a314-44ad-b795-adf8beea4744",
   "metadata": {
    "execution": {
     "iopub.execute_input": "2024-06-11T18:52:32.523656Z",
     "iopub.status.busy": "2024-06-11T18:52:32.523520Z",
     "iopub.status.idle": "2024-06-11T18:52:32.553012Z",
     "shell.execute_reply": "2024-06-11T18:52:32.552619Z",
     "shell.execute_reply.started": "2024-06-11T18:52:32.523642Z"
    },
    "tags": []
   },
   "outputs": [],
   "source": [
    "#Look up the position the data starts\n",
    "start_line = initial_lines.index(header_line) + 1"
   ]
  },
  {
   "cell_type": "code",
   "execution_count": 24,
   "id": "3fc55f45-734e-4449-9e6b-28d2cc9e5002",
   "metadata": {
    "execution": {
     "iopub.execute_input": "2024-06-11T18:52:32.554314Z",
     "iopub.status.busy": "2024-06-11T18:52:32.553916Z",
     "iopub.status.idle": "2024-06-11T18:52:32.585956Z",
     "shell.execute_reply": "2024-06-11T18:52:32.585585Z",
     "shell.execute_reply.started": "2024-06-11T18:52:32.554297Z"
    },
    "tags": []
   },
   "outputs": [
    {
     "name": "stdout",
     "output_type": "stream",
     "text": [
      "#CHROM\tPOS\tID\tREF\tALT\tQUAL\tFILTER\tINFO\n",
      "chr22\t10510033\t.\tT\tC\t.\t.\tK562__ref=0.34182575;HepG2__ref=0.346653;SKNSH__ref=0.4794821;K562__alt=0.33857352;HepG2__alt=0.36103585;SKNSH__alt=0.49010602;K562__skew=-0.0032522278;HepG2__skew=0.014382835;SKNSH__skew=0.010623883\n"
     ]
    }
   ],
   "source": [
    "#manual check:\n",
    "print(initial_lines[start_line-1])\n",
    "print(initial_lines[start_line])"
   ]
  },
  {
   "cell_type": "code",
   "execution_count": 25,
   "id": "72f41419-3f2b-44a5-a612-46b999340a11",
   "metadata": {
    "execution": {
     "iopub.execute_input": "2024-06-11T18:52:43.524578Z",
     "iopub.status.busy": "2024-06-11T18:52:43.523982Z",
     "iopub.status.idle": "2024-06-11T18:52:43.527810Z",
     "shell.execute_reply": "2024-06-11T18:52:43.527421Z",
     "shell.execute_reply.started": "2024-06-11T18:52:43.524557Z"
    },
    "tags": []
   },
   "outputs": [],
   "source": [
    "#split the variants text file on tabs\n",
    "split_rdd = variants_rdd.zipWithIndex().filter(lambda x: x[1] >= start_line).map(lambda x: x[0].split('\\t'))"
   ]
  },
  {
   "cell_type": "code",
   "execution_count": 28,
   "id": "8c89bf3e-b1e9-4c99-a75f-88198849d5c5",
   "metadata": {
    "execution": {
     "iopub.execute_input": "2024-06-11T18:54:23.775318Z",
     "iopub.status.busy": "2024-06-11T18:54:23.774969Z",
     "iopub.status.idle": "2024-06-11T18:54:33.622102Z",
     "shell.execute_reply": "2024-06-11T18:54:33.621601Z",
     "shell.execute_reply.started": "2024-06-11T18:54:23.775297Z"
    },
    "tags": []
   },
   "outputs": [
    {
     "name": "stderr",
     "output_type": "stream",
     "text": [
      "24/06/11 14:54:31 WARN PythonRunner: Detected deadlock while completing task 0.0 in stage 4 (TID 4): Attempting to kill Python Worker\n",
      "                                                                                \r"
     ]
    }
   ],
   "source": [
    "#make the actual dataframe\n",
    "df = spark.createDataFrame(split_rdd, schema=header)"
   ]
  },
  {
   "cell_type": "code",
   "execution_count": 36,
   "id": "d8eceb9c-3dee-4c3f-a443-e5533bbe8746",
   "metadata": {
    "execution": {
     "iopub.execute_input": "2024-06-11T18:58:32.109061Z",
     "iopub.status.busy": "2024-06-11T18:58:32.108509Z",
     "iopub.status.idle": "2024-06-11T18:58:36.189650Z",
     "shell.execute_reply": "2024-06-11T18:58:36.189249Z",
     "shell.execute_reply.started": "2024-06-11T18:58:32.109041Z"
    },
    "tags": []
   },
   "outputs": [
    {
     "name": "stderr",
     "output_type": "stream",
     "text": [
      "24/06/11 14:58:36 WARN PythonRunner: Detected deadlock while completing task 0.0 in stage 10 (TID 10): Attempting to kill Python Worker\n",
      "                                                                                \r"
     ]
    },
    {
     "data": {
      "text/html": [
       "<div>\n",
       "<style scoped>\n",
       "    .dataframe tbody tr th:only-of-type {\n",
       "        vertical-align: middle;\n",
       "    }\n",
       "\n",
       "    .dataframe tbody tr th {\n",
       "        vertical-align: top;\n",
       "    }\n",
       "\n",
       "    .dataframe thead th {\n",
       "        text-align: right;\n",
       "    }\n",
       "</style>\n",
       "<table border=\"1\" class=\"dataframe\">\n",
       "  <thead>\n",
       "    <tr style=\"text-align: right;\">\n",
       "      <th></th>\n",
       "      <th>CHROM</th>\n",
       "      <th>POS</th>\n",
       "      <th>ID</th>\n",
       "      <th>REF</th>\n",
       "      <th>ALT</th>\n",
       "      <th>QUAL</th>\n",
       "      <th>FILTER</th>\n",
       "      <th>INFO</th>\n",
       "    </tr>\n",
       "  </thead>\n",
       "  <tbody>\n",
       "    <tr>\n",
       "      <th>0</th>\n",
       "      <td>chr22</td>\n",
       "      <td>10510033</td>\n",
       "      <td>.</td>\n",
       "      <td>T</td>\n",
       "      <td>C</td>\n",
       "      <td>.</td>\n",
       "      <td>.</td>\n",
       "      <td>K562__ref=0.34182575;HepG2__ref=0.346653;SKNSH...</td>\n",
       "    </tr>\n",
       "    <tr>\n",
       "      <th>1</th>\n",
       "      <td>chr22</td>\n",
       "      <td>10510061</td>\n",
       "      <td>.</td>\n",
       "      <td>A</td>\n",
       "      <td>T</td>\n",
       "      <td>.</td>\n",
       "      <td>.</td>\n",
       "      <td>K562__ref=0.28704935;HepG2__ref=0.3354496;SKNS...</td>\n",
       "    </tr>\n",
       "    <tr>\n",
       "      <th>2</th>\n",
       "      <td>chr22</td>\n",
       "      <td>10510077</td>\n",
       "      <td>rs1290354662</td>\n",
       "      <td>C</td>\n",
       "      <td>A</td>\n",
       "      <td>.</td>\n",
       "      <td>.</td>\n",
       "      <td>K562__ref=0.31834492;HepG2__ref=0.3127984;SKNS...</td>\n",
       "    </tr>\n",
       "  </tbody>\n",
       "</table>\n",
       "</div>"
      ],
      "text/plain": [
       "   CHROM       POS            ID REF ALT QUAL FILTER  \\\n",
       "0  chr22  10510033             .   T   C    .      .   \n",
       "1  chr22  10510061             .   A   T    .      .   \n",
       "2  chr22  10510077  rs1290354662   C   A    .      .   \n",
       "\n",
       "                                                INFO  \n",
       "0  K562__ref=0.34182575;HepG2__ref=0.346653;SKNSH...  \n",
       "1  K562__ref=0.28704935;HepG2__ref=0.3354496;SKNS...  \n",
       "2  K562__ref=0.31834492;HepG2__ref=0.3127984;SKNS...  "
      ]
     },
     "execution_count": 36,
     "metadata": {},
     "output_type": "execute_result"
    }
   ],
   "source": [
    "#Manual verification\n",
    "df.limit(3).toPandas()#[\"INFO\"].to_list()"
   ]
  },
  {
   "cell_type": "markdown",
   "id": "6fec5546-4348-469b-a0ff-30942a0a44c5",
   "metadata": {},
   "source": [
    "Looks good. I'm going to say that the number of rows in this dataframe is the number of variants for which we have predictions. To make certain there are no nulls, I will check the length of strings in the INFO column, which here are just predictions. "
   ]
  },
  {
   "cell_type": "code",
   "execution_count": 40,
   "id": "aed2f4c5-ec23-4fca-aeff-b768efb8b4f1",
   "metadata": {
    "execution": {
     "iopub.execute_input": "2024-06-11T19:06:16.139649Z",
     "iopub.status.busy": "2024-06-11T19:06:16.139268Z",
     "iopub.status.idle": "2024-06-11T19:06:16.149740Z",
     "shell.execute_reply": "2024-06-11T19:06:16.149305Z",
     "shell.execute_reply.started": "2024-06-11T19:06:16.139627Z"
    },
    "tags": []
   },
   "outputs": [],
   "source": [
    "df = df.withColumn(\"info_length\",F.length(df[\"INFO\"]))"
   ]
  },
  {
   "cell_type": "code",
   "execution_count": 43,
   "id": "9eacb9fa-f6b0-48d6-b7bc-5d125634a604",
   "metadata": {
    "execution": {
     "iopub.execute_input": "2024-06-11T19:07:41.769398Z",
     "iopub.status.busy": "2024-06-11T19:07:41.769062Z",
     "iopub.status.idle": "2024-06-11T19:07:41.790003Z",
     "shell.execute_reply": "2024-06-11T19:07:41.789588Z",
     "shell.execute_reply.started": "2024-06-11T19:07:41.769379Z"
    },
    "tags": []
   },
   "outputs": [],
   "source": [
    "min_max_length = df.agg(\n",
    "    F.min(\"info_length\").alias(\"min_length\"),\n",
    "    F.max(\"info_length\").alias(\"max_length\")\n",
    ")"
   ]
  },
  {
   "cell_type": "code",
   "execution_count": 44,
   "id": "db7372e4-30ed-41fa-a7bd-6ea043459bcb",
   "metadata": {
    "execution": {
     "iopub.execute_input": "2024-06-11T19:07:43.247970Z",
     "iopub.status.busy": "2024-06-11T19:07:43.247632Z",
     "iopub.status.idle": "2024-06-11T19:08:07.334178Z",
     "shell.execute_reply": "2024-06-11T19:08:07.333712Z",
     "shell.execute_reply.started": "2024-06-11T19:07:43.247951Z"
    },
    "tags": []
   },
   "outputs": [
    {
     "name": "stderr",
     "output_type": "stream",
     "text": [
      "                                                                                \r"
     ]
    },
    {
     "name": "stdout",
     "output_type": "stream",
     "text": [
      "+----------+----------+\n",
      "|min_length|max_length|\n",
      "+----------+----------+\n",
      "|       179|       221|\n",
      "+----------+----------+\n",
      "\n"
     ]
    }
   ],
   "source": [
    "min_max_length.show()"
   ]
  },
  {
   "cell_type": "code",
   "execution_count": 49,
   "id": "d0c2eae1-ae6b-457f-99db-3834142f1819",
   "metadata": {
    "execution": {
     "iopub.execute_input": "2024-06-11T19:12:38.416083Z",
     "iopub.status.busy": "2024-06-11T19:12:38.415754Z",
     "iopub.status.idle": "2024-06-11T19:13:02.546903Z",
     "shell.execute_reply": "2024-06-11T19:13:02.546539Z",
     "shell.execute_reply.started": "2024-06-11T19:12:38.416065Z"
    },
    "tags": []
   },
   "outputs": [
    {
     "name": "stderr",
     "output_type": "stream",
     "text": [
      "                                                                                \r"
     ]
    },
    {
     "data": {
      "text/plain": [
       "['K562__ref=3.6333477;HepG2__ref=2.6967316;SKNSH__ref=4.008317;K562__alt=4.633348;HepG2__alt=3.6102676;SKNSH__alt=5.087789;K562__skew=1.0;HepG2__skew=0.9135362;SKNSH__skew=1.0794718',\n",
       " 'K562__ref=3.979684;HepG2__ref=5.8509064;SKNSH__ref=7.87134;K562__alt=4.1614814;HepG2__alt=6.564019;SKNSH__alt=7.62134;K562__skew=0.18179747;HepG2__skew=0.7131131;SKNSH__skew=-0.25']"
      ]
     },
     "execution_count": 49,
     "metadata": {},
     "output_type": "execute_result"
    }
   ],
   "source": [
    "#This code grabs & displays the min (for chr22). By manual inspection,\n",
    "#It's clear it's OK, and the variance down to ~179 characters is just due to\n",
    "# differences in floating point representation\n",
    "\n",
    "#rows_with_min_length = df.filter(df[\"info_length\"] == 179)\n",
    "#rows_with_min_length.limit(3).toPandas()[\"INFO\"].to_list()"
   ]
  },
  {
   "cell_type": "code",
   "execution_count": 45,
   "id": "c3c5acf8-1fe0-4062-85e2-72cda2e7c8ff",
   "metadata": {
    "execution": {
     "iopub.execute_input": "2024-06-11T19:08:14.690855Z",
     "iopub.status.busy": "2024-06-11T19:08:14.690533Z",
     "iopub.status.idle": "2024-06-11T19:08:38.619038Z",
     "shell.execute_reply": "2024-06-11T19:08:38.618651Z",
     "shell.execute_reply.started": "2024-06-11T19:08:14.690836Z"
    },
    "tags": []
   },
   "outputs": [
    {
     "name": "stderr",
     "output_type": "stream",
     "text": [
      "                                                                                \r"
     ]
    },
    {
     "data": {
      "text/plain": [
       "9813618"
      ]
     },
     "execution_count": 45,
     "metadata": {},
     "output_type": "execute_result"
    }
   ],
   "source": [
    "print(\"COUNT\")\n",
    "print(df.count())"
   ]
  }
 ],
 "metadata": {
  "kernelspec": {
   "display_name": "Python 3 (ipykernel)",
   "language": "python",
   "name": "python3"
  },
  "language_info": {
   "codemirror_mode": {
    "name": "ipython",
    "version": 3
   },
   "file_extension": ".py",
   "mimetype": "text/x-python",
   "name": "python",
   "nbconvert_exporter": "python",
   "pygments_lexer": "ipython3",
   "version": "3.10.12"
  }
 },
 "nbformat": 4,
 "nbformat_minor": 5
}
