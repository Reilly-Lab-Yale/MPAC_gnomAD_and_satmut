{
 "cells": [
  {
   "cell_type": "code",
   "execution_count": null,
   "id": "9f5f7bab-92ec-4f18-b1f8-a677ef081a28",
   "metadata": {},
   "outputs": [],
   "source": [
    "from pyspark.sql import SparkSession\n",
    "from pyspark import SparkConf, SparkContext\n",
    "import pyspark.sql.functions as F \n",
    "import pyspark.sql.types as T\n",
    "import os"
   ]
  },
  {
   "cell_type": "code",
   "execution_count": null,
   "id": "a8b10273-ae52-417a-9165-628dc6bc8944",
   "metadata": {},
   "outputs": [],
   "source": [
    "import importlib ##can remove\n",
    "import boxplot_common as bc\n",
    "import graphing_config as gc\n",
    "importlib.reload(bc) ##can remove\n",
    "importlib.reload(gc) ##can remove"
   ]
  },
  {
   "cell_type": "code",
   "execution_count": null,
   "id": "659999fd-603a-4caa-b57e-e4ee1a448713",
   "metadata": {},
   "outputs": [],
   "source": [
    "conf = SparkConf() \\\n",
    "    .setAppName(\"preprocessing_mean_phylop_vs_pleio\")\\\n",
    "\n",
    "# Create a SparkContext with the specified configurations\n",
    "if 'spark' in locals() and spark!=None:\n",
    "    spark.stop()\n",
    "\n",
    "sc = SparkContext(conf=conf)\n",
    "\n",
    "# Create a SparkSession from the SparkContext\n",
    "spark = SparkSession(sc)"
   ]
  },
  {
   "cell_type": "code",
   "execution_count": null,
   "id": "722100b2-9403-4acd-8677-fceae2196fce",
   "metadata": {},
   "outputs": [],
   "source": [
    "#loading in all autosomes\n",
    "#Skipping sex chromosomes, see readme\n",
    "df = spark.read \\\n",
    "    .option(\"comment\", \"#\") \\\n",
    "    .option(\"delimiter\", \",\") \\\n",
    "    .csv(\"/gpfs/gibbs/pi/reilly/VariantEffects/scripts/noon_data/3.pleio_and_filter/chr*/*.csv.gz\", header=True)"
   ]
  },
  {
   "cell_type": "code",
   "execution_count": null,
   "id": "c83bf7c9-0a4f-4007-b972-0aa6e90f1e9c",
   "metadata": {},
   "outputs": [],
   "source": [
    "int_columns=[\"POS\",\"AC\",\"AN\",\"pleio\"]\n",
    "float_columns=[\"AF\",\"K562__ref\",\"HepG2__ref\",\"SKNSH__ref\",\"K562__alt\",\"HepG2__alt\",\"SKNSH__alt\",\"K562__skew\",\"HepG2__skew\",\"SKNSH__skew\",\"cadd_phred\",\"P_ANNO\",\"mean_ref\",\"mean_skew\",\"MAF\"]\n",
    "cre_bool_columns=[]\n",
    "for column in df.columns:\n",
    "    if column.startswith(\"is_in\"):\n",
    "        cre_bool_columns.append(column)\n",
    "emvar_bool_columns=[\"emVar_K562\",\"emVar_SKNSH\",\"emVar_HepG2\"]"
   ]
  },
  {
   "cell_type": "code",
   "execution_count": null,
   "id": "9022cf97-4a7c-478b-b73c-7355df6ea464",
   "metadata": {},
   "outputs": [],
   "source": [
    "for column in int_columns:\n",
    "    df = df.withColumn(column, F.col(column).cast(T.IntegerType()))\n",
    "\n",
    "for column in float_columns:\n",
    "    df = df.withColumn(column, F.col(column).cast(T.FloatType()))\n",
    "\n",
    "for column in cre_bool_columns+emvar_bool_columns:\n",
    "    df = df.withColumn(column, F.col(column).cast(T.BooleanType()))"
   ]
  },
  {
   "cell_type": "code",
   "execution_count": null,
   "id": "024951c4-2ffe-4f56-9d00-c698fcd2fa21",
   "metadata": {},
   "outputs": [],
   "source": [
    "final=[]\n",
    "\n",
    "\n",
    "for region in gc.genome_regions:\n",
    "    subset=df\n",
    "    if region!=\"ALL\":\n",
    "        subset=subset.where(F.col(region)==True)\n",
    "    \n",
    "    for pleio in [\"ALL\",0,1,2,3]:\n",
    "\n",
    "        if pleio==\"ALL\":\n",
    "            pass\n",
    "        else:\n",
    "            subset.where(F.col(\"pleio\")==pleio)\n",
    "            \n",
    "        ret=bc.get_box_summary_statistics(subset,\n",
    "                                  col_to_sum=\"P_ANNO\",\n",
    "                                  quantile_probs=[0.25, 0.5, 0.75],\n",
    "                                  quantile_reliability=0.05)\n",
    "        ret[\"region\"]=region\n",
    "        ret[\"pleio\"]=pleio\n",
    "        \n",
    "        final.append(ret)"
   ]
  },
  {
   "cell_type": "code",
   "execution_count": null,
   "id": "c1b93009-a914-403b-90d4-65e21fd11e50",
   "metadata": {},
   "outputs": [],
   "source": [
    "import pickle\n",
    "with open(\"out.pkl\",\"wb\") as f:\n",
    "    pickle.dump(final, f)"
   ]
  }
 ],
 "metadata": {
  "kernelspec": {
   "display_name": "Python 3 (ipykernel)",
   "language": "python",
   "name": "python3"
  },
  "language_info": {
   "codemirror_mode": {
    "name": "ipython",
    "version": 3
   },
   "file_extension": ".py",
   "mimetype": "text/x-python",
   "name": "python",
   "nbconvert_exporter": "python",
   "pygments_lexer": "ipython3",
   "version": "3.10.12"
  }
 },
 "nbformat": 4,
 "nbformat_minor": 5
}
