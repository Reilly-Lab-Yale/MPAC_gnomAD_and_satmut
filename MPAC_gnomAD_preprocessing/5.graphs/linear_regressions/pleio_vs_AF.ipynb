{
 "cells": [
  {
   "cell_type": "code",
   "execution_count": 1,
   "id": "35dd0ca5-8bb4-4763-914c-618df832a5d5",
   "metadata": {
    "execution": {
     "iopub.execute_input": "2024-02-15T23:28:14.866807Z",
     "iopub.status.busy": "2024-02-15T23:28:14.866604Z",
     "iopub.status.idle": "2024-02-15T23:28:15.663580Z",
     "shell.execute_reply": "2024-02-15T23:28:15.663169Z",
     "shell.execute_reply.started": "2024-02-15T23:28:14.866793Z"
    },
    "tags": []
   },
   "outputs": [],
   "source": [
    "from pyspark import SparkConf, SparkContext\n",
    "from pyspark.sql import SparkSession\n",
    "from pyspark.sql import Row\n",
    "from pyspark.sql import functions as F\n",
    "import pyspark.sql.types as T\n",
    "from pyspark.ml.feature import VectorAssembler\n",
    "import pickle\n",
    "import pandas as pd"
   ]
  },
  {
   "cell_type": "code",
   "execution_count": 2,
   "id": "dfec4754-c10d-43ae-b293-834fae53b20f",
   "metadata": {
    "execution": {
     "iopub.execute_input": "2024-02-15T23:28:15.664488Z",
     "iopub.status.busy": "2024-02-15T23:28:15.664128Z",
     "iopub.status.idle": "2024-02-15T23:28:17.842295Z",
     "shell.execute_reply": "2024-02-15T23:28:17.841600Z",
     "shell.execute_reply.started": "2024-02-15T23:28:15.664475Z"
    },
    "tags": []
   },
   "outputs": [
    {
     "name": "stderr",
     "output_type": "stream",
     "text": [
      "Setting default log level to \"WARN\".\n",
      "To adjust logging level use sc.setLogLevel(newLevel). For SparkR, use setLogLevel(newLevel).\n",
      "24/02/15 18:28:17 WARN NativeCodeLoader: Unable to load native-hadoop library for your platform... using builtin-java classes where applicable\n",
      "24/02/15 18:28:17 WARN Utils: Service 'SparkUI' could not bind on port 4040. Attempting port 4041.\n",
      "24/02/15 18:28:17 WARN Utils: Service 'SparkUI' could not bind on port 4041. Attempting port 4042.\n",
      "24/02/15 18:28:17 WARN Utils: Service 'SparkUI' could not bind on port 4042. Attempting port 4043.\n",
      "24/02/15 18:28:17 WARN Utils: Service 'SparkUI' could not bind on port 4043. Attempting port 4044.\n",
      "24/02/15 18:28:17 WARN Utils: Service 'SparkUI' could not bind on port 4044. Attempting port 4045.\n"
     ]
    }
   ],
   "source": [
    "conf = SparkConf() \\\n",
    "    .setAppName(\"linreg_pleio_vs_AF\")\\\n",
    "\n",
    "# Create a SparkContext with the specified configurations\n",
    "if 'spark' in locals() and spark!=None:\n",
    "    spark.stop()\n",
    "\n",
    "sc = SparkContext(conf=conf)\n",
    "\n",
    "# Create a SparkSession from the SparkContext\n",
    "spark = SparkSession(sc)"
   ]
  },
  {
   "cell_type": "code",
   "execution_count": 3,
   "id": "bb343e9e-0490-47d8-b515-cee5307834c3",
   "metadata": {
    "execution": {
     "iopub.execute_input": "2024-02-15T23:28:17.843848Z",
     "iopub.status.busy": "2024-02-15T23:28:17.843586Z",
     "iopub.status.idle": "2024-02-15T23:28:38.023745Z",
     "shell.execute_reply": "2024-02-15T23:28:38.023300Z",
     "shell.execute_reply.started": "2024-02-15T23:28:17.843832Z"
    },
    "tags": []
   },
   "outputs": [
    {
     "name": "stderr",
     "output_type": "stream",
     "text": [
      "24/02/15 18:28:30 WARN GarbageCollectionMetrics: To enable non-built-in garbage collector(s) List(G1 Concurrent GC), users should configure it(them) to spark.eventLog.gcMetrics.youngGenerationGarbageCollectors or spark.eventLog.gcMetrics.oldGenerationGarbageCollectors\n",
      "                                                                                \r"
     ]
    }
   ],
   "source": [
    "#loading in all autosomes\n",
    "#Skipping sex chromosomes, see readme\n",
    "df = spark.read \\\n",
    "    .option(\"comment\", \"#\") \\\n",
    "    .option(\"delimiter\", \",\") \\\n",
    "    .csv(\"/gpfs/gibbs/pi/reilly/VariantEffects/scripts/noon_data/2.filter/*.csv/*.csv.gz\", header=True)"
   ]
  },
  {
   "cell_type": "code",
   "execution_count": 4,
   "id": "96d4b13d-5e63-46bb-95b9-7f4ba4570467",
   "metadata": {
    "execution": {
     "iopub.execute_input": "2024-02-15T23:28:38.024652Z",
     "iopub.status.busy": "2024-02-15T23:28:38.024348Z",
     "iopub.status.idle": "2024-02-15T23:28:38.042013Z",
     "shell.execute_reply": "2024-02-15T23:28:38.041666Z",
     "shell.execute_reply.started": "2024-02-15T23:28:38.024639Z"
    },
    "tags": []
   },
   "outputs": [
    {
     "data": {
      "text/plain": [
       "DataFrame[CHROM: string, POS: string, ID: string, REF: string, ALT: string, QUAL: string, FILTER: string, INFO: string, K562__ref: string, HepG2__ref: string, SKNSH__ref: string, K562__alt: string, HepG2__alt: string, SKNSH__alt: string, K562__skew: string, HepG2__skew: string, SKNSH__skew: string, AC: string, AN: string, AF: string, cadd_phred: string, is_in_dELS: string, is_in_CA: string, is_in_pELS: string, is_in_CA-H3K4me3: string, is_in_CA-CTCF: string, is_in_PLS: string, is_in_TF: string, is_in_CA-TF: string, P_ANNO: string, mean_ref: string, mean_skew: string, MAF: string, category: string]"
      ]
     },
     "execution_count": 4,
     "metadata": {},
     "output_type": "execute_result"
    }
   ],
   "source": [
    "df"
   ]
  },
  {
   "cell_type": "code",
   "execution_count": 5,
   "id": "9e78f2a0-abba-4be9-b8bb-5571372b147d",
   "metadata": {
    "execution": {
     "iopub.execute_input": "2024-02-15T23:28:38.042873Z",
     "iopub.status.busy": "2024-02-15T23:28:38.042561Z",
     "iopub.status.idle": "2024-02-15T23:28:38.044802Z",
     "shell.execute_reply": "2024-02-15T23:28:38.044461Z",
     "shell.execute_reply.started": "2024-02-15T23:28:38.042860Z"
    },
    "tags": []
   },
   "outputs": [],
   "source": [
    "df_cre=df"
   ]
  },
  {
   "cell_type": "code",
   "execution_count": 6,
   "id": "c9db76f3-4c6c-488a-8aa3-074b941dde53",
   "metadata": {
    "execution": {
     "iopub.execute_input": "2024-02-15T23:28:38.045410Z",
     "iopub.status.busy": "2024-02-15T23:28:38.045283Z",
     "iopub.status.idle": "2024-02-15T23:28:38.181916Z",
     "shell.execute_reply": "2024-02-15T23:28:38.181491Z",
     "shell.execute_reply.started": "2024-02-15T23:28:38.045399Z"
    },
    "tags": []
   },
   "outputs": [],
   "source": [
    "cell_types=[\"K562\",\"SKNSH\",\"HepG2\"]\n",
    "for cell_type in cell_types:\n",
    "    df_cre = df_cre.withColumn(f\"emVar_{cell_type}\", \n",
    "                           (F.abs(F.col(f\"{cell_type}__skew\")) >= 0.5) & \n",
    "                           (F.greatest(F.col(f\"{cell_type}__ref\"), F.col(f\"{cell_type}__alt\")) >= 1.0))\n",
    "\n",
    "#next, we count the number of cell-types each variant is an emvar in to compute the pleitropy. \n",
    "df_cre = df_cre.withColumn(\"pleio\", F.col(\"emVar_K562\").cast(\"int\") + F.col(\"emVar_SKNSH\").cast(\"int\") + F.col(\"emVar_HepG2\").cast(\"int\"))"
   ]
  },
  {
   "cell_type": "code",
   "execution_count": 7,
   "id": "cb03b915-34cc-4f20-8751-b2ad7691b7bc",
   "metadata": {
    "execution": {
     "iopub.execute_input": "2024-02-15T23:28:38.182952Z",
     "iopub.status.busy": "2024-02-15T23:28:38.182611Z",
     "iopub.status.idle": "2024-02-15T23:28:38.208875Z",
     "shell.execute_reply": "2024-02-15T23:28:38.208446Z",
     "shell.execute_reply.started": "2024-02-15T23:28:38.182937Z"
    },
    "tags": []
   },
   "outputs": [],
   "source": [
    "df_cre=df_cre.withColumn(\"pleio\",F.col(\"pleio\").cast(\"int\"))\n",
    "df_cre=df_cre.withColumn(\"AF\",F.col(\"AF\").cast(\"float\"))"
   ]
  },
  {
   "cell_type": "code",
   "execution_count": 8,
   "id": "71019fb6-05b1-4c62-a9cd-07d9bc603731",
   "metadata": {
    "execution": {
     "iopub.execute_input": "2024-02-15T23:28:38.209715Z",
     "iopub.status.busy": "2024-02-15T23:28:38.209433Z",
     "iopub.status.idle": "2024-02-15T23:28:38.862823Z",
     "shell.execute_reply": "2024-02-15T23:28:38.862441Z",
     "shell.execute_reply.started": "2024-02-15T23:28:38.209703Z"
    },
    "tags": []
   },
   "outputs": [
    {
     "name": "stderr",
     "output_type": "stream",
     "text": [
      "24/02/15 18:28:38 WARN SparkStringUtils: Truncated the string representation of a plan since it was too large. This behavior can be adjusted by setting 'spark.sql.debug.maxToStringFields'.\n"
     ]
    },
    {
     "data": {
      "text/html": [
       "<div>\n",
       "<style scoped>\n",
       "    .dataframe tbody tr th:only-of-type {\n",
       "        vertical-align: middle;\n",
       "    }\n",
       "\n",
       "    .dataframe tbody tr th {\n",
       "        vertical-align: top;\n",
       "    }\n",
       "\n",
       "    .dataframe thead th {\n",
       "        text-align: right;\n",
       "    }\n",
       "</style>\n",
       "<table border=\"1\" class=\"dataframe\">\n",
       "  <thead>\n",
       "    <tr style=\"text-align: right;\">\n",
       "      <th></th>\n",
       "      <th>CHROM</th>\n",
       "      <th>POS</th>\n",
       "      <th>ID</th>\n",
       "      <th>REF</th>\n",
       "      <th>ALT</th>\n",
       "      <th>QUAL</th>\n",
       "      <th>FILTER</th>\n",
       "      <th>INFO</th>\n",
       "      <th>K562__ref</th>\n",
       "      <th>HepG2__ref</th>\n",
       "      <th>SKNSH__ref</th>\n",
       "      <th>K562__alt</th>\n",
       "      <th>HepG2__alt</th>\n",
       "      <th>SKNSH__alt</th>\n",
       "      <th>K562__skew</th>\n",
       "      <th>HepG2__skew</th>\n",
       "      <th>SKNSH__skew</th>\n",
       "      <th>AC</th>\n",
       "      <th>AN</th>\n",
       "      <th>AF</th>\n",
       "      <th>cadd_phred</th>\n",
       "      <th>is_in_dELS</th>\n",
       "      <th>is_in_CA</th>\n",
       "      <th>is_in_pELS</th>\n",
       "      <th>is_in_CA-H3K4me3</th>\n",
       "      <th>is_in_CA-CTCF</th>\n",
       "      <th>is_in_PLS</th>\n",
       "      <th>is_in_TF</th>\n",
       "      <th>is_in_CA-TF</th>\n",
       "      <th>P_ANNO</th>\n",
       "      <th>mean_ref</th>\n",
       "      <th>mean_skew</th>\n",
       "      <th>MAF</th>\n",
       "      <th>category</th>\n",
       "      <th>emVar_K562</th>\n",
       "      <th>emVar_SKNSH</th>\n",
       "      <th>emVar_HepG2</th>\n",
       "      <th>pleio</th>\n",
       "    </tr>\n",
       "  </thead>\n",
       "  <tbody>\n",
       "    <tr>\n",
       "      <th>0</th>\n",
       "      <td>chr13</td>\n",
       "      <td>18275436</td>\n",
       "      <td>.</td>\n",
       "      <td>G</td>\n",
       "      <td>C</td>\n",
       "      <td>.</td>\n",
       "      <td>PASS</td>\n",
       "      <td>K562__ref=0.7542868;HepG2__ref=1.0054506;SKNSH...</td>\n",
       "      <td>0.7542868</td>\n",
       "      <td>1.0054506</td>\n",
       "      <td>0.2766882</td>\n",
       "      <td>0.87993294</td>\n",
       "      <td>1.5404036</td>\n",
       "      <td>0.32129806</td>\n",
       "      <td>0.12564613</td>\n",
       "      <td>0.53495294</td>\n",
       "      <td>0.044609863</td>\n",
       "      <td>1</td>\n",
       "      <td>149040</td>\n",
       "      <td>0.000007</td>\n",
       "      <td>4.274</td>\n",
       "      <td>true</td>\n",
       "      <td>false</td>\n",
       "      <td>false</td>\n",
       "      <td>false</td>\n",
       "      <td>false</td>\n",
       "      <td>false</td>\n",
       "      <td>false</td>\n",
       "      <td>false</td>\n",
       "      <td>-0.145</td>\n",
       "      <td>0.6788085301717123</td>\n",
       "      <td>0.2350696325302124</td>\n",
       "      <td>6.70961E-6</td>\n",
       "      <td>SINGLETON</td>\n",
       "      <td>False</td>\n",
       "      <td>False</td>\n",
       "      <td>True</td>\n",
       "      <td>1</td>\n",
       "    </tr>\n",
       "    <tr>\n",
       "      <th>1</th>\n",
       "      <td>chr13</td>\n",
       "      <td>18423237</td>\n",
       "      <td>rs1462453604</td>\n",
       "      <td>C</td>\n",
       "      <td>A</td>\n",
       "      <td>.</td>\n",
       "      <td>PASS</td>\n",
       "      <td>K562__ref=2.119739;HepG2__ref=1.989214;SKNSH__...</td>\n",
       "      <td>2.119739</td>\n",
       "      <td>1.989214</td>\n",
       "      <td>1.8035933</td>\n",
       "      <td>0.59563404</td>\n",
       "      <td>0.5352767</td>\n",
       "      <td>0.105299234</td>\n",
       "      <td>-1.5241051</td>\n",
       "      <td>-1.4539372</td>\n",
       "      <td>-1.698294</td>\n",
       "      <td>8064</td>\n",
       "      <td>148982</td>\n",
       "      <td>0.054127</td>\n",
       "      <td>3.425</td>\n",
       "      <td>false</td>\n",
       "      <td>false</td>\n",
       "      <td>false</td>\n",
       "      <td>false</td>\n",
       "      <td>false</td>\n",
       "      <td>false</td>\n",
       "      <td>false</td>\n",
       "      <td>false</td>\n",
       "      <td>0.338</td>\n",
       "      <td>1.9708487192789714</td>\n",
       "      <td>-1.5587787628173828</td>\n",
       "      <td>0.0541273</td>\n",
       "      <td>COMMON</td>\n",
       "      <td>True</td>\n",
       "      <td>True</td>\n",
       "      <td>True</td>\n",
       "      <td>3</td>\n",
       "    </tr>\n",
       "    <tr>\n",
       "      <th>2</th>\n",
       "      <td>chr13</td>\n",
       "      <td>18432376</td>\n",
       "      <td>.</td>\n",
       "      <td>G</td>\n",
       "      <td>T</td>\n",
       "      <td>.</td>\n",
       "      <td>PASS</td>\n",
       "      <td>K562__ref=1.459229;HepG2__ref=1.3713883;SKNSH_...</td>\n",
       "      <td>1.459229</td>\n",
       "      <td>1.3713883</td>\n",
       "      <td>1.9209701</td>\n",
       "      <td>0.7357115</td>\n",
       "      <td>0.5304932</td>\n",
       "      <td>0.816227</td>\n",
       "      <td>-0.72351754</td>\n",
       "      <td>-0.84089524</td>\n",
       "      <td>-1.1047434</td>\n",
       "      <td>1</td>\n",
       "      <td>148684</td>\n",
       "      <td>0.000007</td>\n",
       "      <td>0.345</td>\n",
       "      <td>false</td>\n",
       "      <td>false</td>\n",
       "      <td>false</td>\n",
       "      <td>false</td>\n",
       "      <td>false</td>\n",
       "      <td>false</td>\n",
       "      <td>false</td>\n",
       "      <td>false</td>\n",
       "      <td>0.632</td>\n",
       "      <td>1.5838624636332195</td>\n",
       "      <td>-0.8897186915079752</td>\n",
       "      <td>6.72567E-6</td>\n",
       "      <td>SINGLETON</td>\n",
       "      <td>True</td>\n",
       "      <td>True</td>\n",
       "      <td>True</td>\n",
       "      <td>3</td>\n",
       "    </tr>\n",
       "    <tr>\n",
       "      <th>3</th>\n",
       "      <td>chr13</td>\n",
       "      <td>18432376</td>\n",
       "      <td>rs1423281620</td>\n",
       "      <td>G</td>\n",
       "      <td>A</td>\n",
       "      <td>.</td>\n",
       "      <td>PASS</td>\n",
       "      <td>K562__ref=1.459229;HepG2__ref=1.3713883;SKNSH_...</td>\n",
       "      <td>1.459229</td>\n",
       "      <td>1.3713883</td>\n",
       "      <td>1.9209701</td>\n",
       "      <td>0.7177803</td>\n",
       "      <td>0.510151</td>\n",
       "      <td>0.7950688</td>\n",
       "      <td>-0.7414487</td>\n",
       "      <td>-0.8612374</td>\n",
       "      <td>-1.1259016</td>\n",
       "      <td>5</td>\n",
       "      <td>148686</td>\n",
       "      <td>0.000034</td>\n",
       "      <td>0.44</td>\n",
       "      <td>false</td>\n",
       "      <td>false</td>\n",
       "      <td>false</td>\n",
       "      <td>false</td>\n",
       "      <td>false</td>\n",
       "      <td>false</td>\n",
       "      <td>false</td>\n",
       "      <td>false</td>\n",
       "      <td>0.632</td>\n",
       "      <td>1.5838624636332195</td>\n",
       "      <td>-0.9095292091369629</td>\n",
       "      <td>3.36279E-5</td>\n",
       "      <td>ULTRARARE</td>\n",
       "      <td>True</td>\n",
       "      <td>True</td>\n",
       "      <td>True</td>\n",
       "      <td>3</td>\n",
       "    </tr>\n",
       "    <tr>\n",
       "      <th>4</th>\n",
       "      <td>chr13</td>\n",
       "      <td>18549663</td>\n",
       "      <td>rs1374572071</td>\n",
       "      <td>A</td>\n",
       "      <td>G</td>\n",
       "      <td>.</td>\n",
       "      <td>PASS</td>\n",
       "      <td>K562__ref=1.1435362;HepG2__ref=0.3178485;SKNSH...</td>\n",
       "      <td>1.1435362</td>\n",
       "      <td>0.3178485</td>\n",
       "      <td>0.27461162</td>\n",
       "      <td>2.2180665</td>\n",
       "      <td>0.86089796</td>\n",
       "      <td>1.0274059</td>\n",
       "      <td>1.0745302</td>\n",
       "      <td>0.5430495</td>\n",
       "      <td>0.75279415</td>\n",
       "      <td>1</td>\n",
       "      <td>141638</td>\n",
       "      <td>0.000007</td>\n",
       "      <td>2.84</td>\n",
       "      <td>false</td>\n",
       "      <td>false</td>\n",
       "      <td>false</td>\n",
       "      <td>false</td>\n",
       "      <td>false</td>\n",
       "      <td>false</td>\n",
       "      <td>false</td>\n",
       "      <td>false</td>\n",
       "      <td>0.075</td>\n",
       "      <td>0.5786654551823934</td>\n",
       "      <td>0.7901245752970377</td>\n",
       "      <td>7.06025E-6</td>\n",
       "      <td>SINGLETON</td>\n",
       "      <td>True</td>\n",
       "      <td>True</td>\n",
       "      <td>False</td>\n",
       "      <td>2</td>\n",
       "    </tr>\n",
       "    <tr>\n",
       "      <th>5</th>\n",
       "      <td>chr13</td>\n",
       "      <td>18568178</td>\n",
       "      <td>rs1323799600</td>\n",
       "      <td>C</td>\n",
       "      <td>T</td>\n",
       "      <td>.</td>\n",
       "      <td>PASS</td>\n",
       "      <td>K562__ref=2.5305932;HepG2__ref=1.9985994;SKNSH...</td>\n",
       "      <td>2.5305932</td>\n",
       "      <td>1.9985994</td>\n",
       "      <td>1.734408</td>\n",
       "      <td>0.8109198</td>\n",
       "      <td>1.0498794</td>\n",
       "      <td>1.1158385</td>\n",
       "      <td>-1.7196734</td>\n",
       "      <td>-0.94872</td>\n",
       "      <td>-0.6185695</td>\n",
       "      <td>8</td>\n",
       "      <td>152146</td>\n",
       "      <td>0.000053</td>\n",
       "      <td>4.355</td>\n",
       "      <td>false</td>\n",
       "      <td>false</td>\n",
       "      <td>false</td>\n",
       "      <td>true</td>\n",
       "      <td>false</td>\n",
       "      <td>false</td>\n",
       "      <td>false</td>\n",
       "      <td>false</td>\n",
       "      <td>0.155</td>\n",
       "      <td>2.08786678314209</td>\n",
       "      <td>-1.0956543286641438</td>\n",
       "      <td>5.25811E-5</td>\n",
       "      <td>ULTRARARE</td>\n",
       "      <td>True</td>\n",
       "      <td>True</td>\n",
       "      <td>True</td>\n",
       "      <td>3</td>\n",
       "    </tr>\n",
       "    <tr>\n",
       "      <th>6</th>\n",
       "      <td>chr13</td>\n",
       "      <td>18612611</td>\n",
       "      <td>rs1250099200</td>\n",
       "      <td>C</td>\n",
       "      <td>G</td>\n",
       "      <td>.</td>\n",
       "      <td>PASS</td>\n",
       "      <td>K562__ref=0.48280463;HepG2__ref=0.5020316;SKNS...</td>\n",
       "      <td>0.48280463</td>\n",
       "      <td>0.5020316</td>\n",
       "      <td>0.5023075</td>\n",
       "      <td>1.0121182</td>\n",
       "      <td>0.8874643</td>\n",
       "      <td>0.74475884</td>\n",
       "      <td>0.52931345</td>\n",
       "      <td>0.38543266</td>\n",
       "      <td>0.24245133</td>\n",
       "      <td>1</td>\n",
       "      <td>152212</td>\n",
       "      <td>0.000007</td>\n",
       "      <td>11.31</td>\n",
       "      <td>false</td>\n",
       "      <td>false</td>\n",
       "      <td>false</td>\n",
       "      <td>false</td>\n",
       "      <td>false</td>\n",
       "      <td>false</td>\n",
       "      <td>false</td>\n",
       "      <td>false</td>\n",
       "      <td>0.252</td>\n",
       "      <td>0.49571458498636883</td>\n",
       "      <td>0.3857324918111165</td>\n",
       "      <td>6.56978E-6</td>\n",
       "      <td>SINGLETON</td>\n",
       "      <td>True</td>\n",
       "      <td>False</td>\n",
       "      <td>False</td>\n",
       "      <td>1</td>\n",
       "    </tr>\n",
       "    <tr>\n",
       "      <th>7</th>\n",
       "      <td>chr13</td>\n",
       "      <td>18623488</td>\n",
       "      <td>rs1472182424</td>\n",
       "      <td>T</td>\n",
       "      <td>C</td>\n",
       "      <td>.</td>\n",
       "      <td>PASS</td>\n",
       "      <td>K562__ref=0.46271077;HepG2__ref=0.3666604;SKNS...</td>\n",
       "      <td>0.46271077</td>\n",
       "      <td>0.3666604</td>\n",
       "      <td>0.446558</td>\n",
       "      <td>0.8189979</td>\n",
       "      <td>0.81054384</td>\n",
       "      <td>1.1872326</td>\n",
       "      <td>0.35628715</td>\n",
       "      <td>0.44388345</td>\n",
       "      <td>0.74067456</td>\n",
       "      <td>1</td>\n",
       "      <td>151990</td>\n",
       "      <td>0.000007</td>\n",
       "      <td>5.397</td>\n",
       "      <td>false</td>\n",
       "      <td>false</td>\n",
       "      <td>false</td>\n",
       "      <td>false</td>\n",
       "      <td>false</td>\n",
       "      <td>false</td>\n",
       "      <td>false</td>\n",
       "      <td>false</td>\n",
       "      <td>-2.259</td>\n",
       "      <td>0.4253097375233968</td>\n",
       "      <td>0.5136150519053141</td>\n",
       "      <td>6.57938E-6</td>\n",
       "      <td>SINGLETON</td>\n",
       "      <td>False</td>\n",
       "      <td>True</td>\n",
       "      <td>False</td>\n",
       "      <td>1</td>\n",
       "    </tr>\n",
       "    <tr>\n",
       "      <th>8</th>\n",
       "      <td>chr13</td>\n",
       "      <td>18639264</td>\n",
       "      <td>rs557726455</td>\n",
       "      <td>A</td>\n",
       "      <td>C</td>\n",
       "      <td>.</td>\n",
       "      <td>PASS</td>\n",
       "      <td>K562__ref=2.382477;HepG2__ref=1.6495326;SKNSH_...</td>\n",
       "      <td>2.382477</td>\n",
       "      <td>1.6495326</td>\n",
       "      <td>2.0630422</td>\n",
       "      <td>1.2952616</td>\n",
       "      <td>0.84407073</td>\n",
       "      <td>1.2353448</td>\n",
       "      <td>-1.0872154</td>\n",
       "      <td>-0.80546176</td>\n",
       "      <td>-0.82769734</td>\n",
       "      <td>1</td>\n",
       "      <td>151186</td>\n",
       "      <td>0.000007</td>\n",
       "      <td>3.926</td>\n",
       "      <td>false</td>\n",
       "      <td>false</td>\n",
       "      <td>false</td>\n",
       "      <td>false</td>\n",
       "      <td>false</td>\n",
       "      <td>false</td>\n",
       "      <td>false</td>\n",
       "      <td>false</td>\n",
       "      <td>0.976</td>\n",
       "      <td>2.031683921813965</td>\n",
       "      <td>-0.9067915280659994</td>\n",
       "      <td>6.61437E-6</td>\n",
       "      <td>SINGLETON</td>\n",
       "      <td>True</td>\n",
       "      <td>True</td>\n",
       "      <td>True</td>\n",
       "      <td>3</td>\n",
       "    </tr>\n",
       "    <tr>\n",
       "      <th>9</th>\n",
       "      <td>chr13</td>\n",
       "      <td>18639264</td>\n",
       "      <td>rs557726455</td>\n",
       "      <td>A</td>\n",
       "      <td>T</td>\n",
       "      <td>.</td>\n",
       "      <td>PASS</td>\n",
       "      <td>K562__ref=2.382477;HepG2__ref=1.6495326;SKNSH_...</td>\n",
       "      <td>2.382477</td>\n",
       "      <td>1.6495326</td>\n",
       "      <td>2.0630422</td>\n",
       "      <td>0.83678895</td>\n",
       "      <td>0.5275409</td>\n",
       "      <td>0.8193733</td>\n",
       "      <td>-1.5456883</td>\n",
       "      <td>-1.1219918</td>\n",
       "      <td>-1.2436689</td>\n",
       "      <td>25</td>\n",
       "      <td>151186</td>\n",
       "      <td>0.000165</td>\n",
       "      <td>3.768</td>\n",
       "      <td>false</td>\n",
       "      <td>false</td>\n",
       "      <td>false</td>\n",
       "      <td>false</td>\n",
       "      <td>false</td>\n",
       "      <td>false</td>\n",
       "      <td>false</td>\n",
       "      <td>false</td>\n",
       "      <td>0.976</td>\n",
       "      <td>2.031683921813965</td>\n",
       "      <td>-1.3037829399108887</td>\n",
       "      <td>1.65359E-4</td>\n",
       "      <td>RARE</td>\n",
       "      <td>True</td>\n",
       "      <td>True</td>\n",
       "      <td>True</td>\n",
       "      <td>3</td>\n",
       "    </tr>\n",
       "  </tbody>\n",
       "</table>\n",
       "</div>"
      ],
      "text/plain": [
       "   CHROM       POS            ID REF ALT QUAL FILTER  \\\n",
       "0  chr13  18275436             .   G   C    .   PASS   \n",
       "1  chr13  18423237  rs1462453604   C   A    .   PASS   \n",
       "2  chr13  18432376             .   G   T    .   PASS   \n",
       "3  chr13  18432376  rs1423281620   G   A    .   PASS   \n",
       "4  chr13  18549663  rs1374572071   A   G    .   PASS   \n",
       "5  chr13  18568178  rs1323799600   C   T    .   PASS   \n",
       "6  chr13  18612611  rs1250099200   C   G    .   PASS   \n",
       "7  chr13  18623488  rs1472182424   T   C    .   PASS   \n",
       "8  chr13  18639264   rs557726455   A   C    .   PASS   \n",
       "9  chr13  18639264   rs557726455   A   T    .   PASS   \n",
       "\n",
       "                                                INFO   K562__ref HepG2__ref  \\\n",
       "0  K562__ref=0.7542868;HepG2__ref=1.0054506;SKNSH...   0.7542868  1.0054506   \n",
       "1  K562__ref=2.119739;HepG2__ref=1.989214;SKNSH__...    2.119739   1.989214   \n",
       "2  K562__ref=1.459229;HepG2__ref=1.3713883;SKNSH_...    1.459229  1.3713883   \n",
       "3  K562__ref=1.459229;HepG2__ref=1.3713883;SKNSH_...    1.459229  1.3713883   \n",
       "4  K562__ref=1.1435362;HepG2__ref=0.3178485;SKNSH...   1.1435362  0.3178485   \n",
       "5  K562__ref=2.5305932;HepG2__ref=1.9985994;SKNSH...   2.5305932  1.9985994   \n",
       "6  K562__ref=0.48280463;HepG2__ref=0.5020316;SKNS...  0.48280463  0.5020316   \n",
       "7  K562__ref=0.46271077;HepG2__ref=0.3666604;SKNS...  0.46271077  0.3666604   \n",
       "8  K562__ref=2.382477;HepG2__ref=1.6495326;SKNSH_...    2.382477  1.6495326   \n",
       "9  K562__ref=2.382477;HepG2__ref=1.6495326;SKNSH_...    2.382477  1.6495326   \n",
       "\n",
       "   SKNSH__ref   K562__alt  HepG2__alt   SKNSH__alt   K562__skew  HepG2__skew  \\\n",
       "0   0.2766882  0.87993294   1.5404036   0.32129806   0.12564613   0.53495294   \n",
       "1   1.8035933  0.59563404   0.5352767  0.105299234   -1.5241051   -1.4539372   \n",
       "2   1.9209701   0.7357115   0.5304932     0.816227  -0.72351754  -0.84089524   \n",
       "3   1.9209701   0.7177803    0.510151    0.7950688   -0.7414487   -0.8612374   \n",
       "4  0.27461162   2.2180665  0.86089796    1.0274059    1.0745302    0.5430495   \n",
       "5    1.734408   0.8109198   1.0498794    1.1158385   -1.7196734     -0.94872   \n",
       "6   0.5023075   1.0121182   0.8874643   0.74475884   0.52931345   0.38543266   \n",
       "7    0.446558   0.8189979  0.81054384    1.1872326   0.35628715   0.44388345   \n",
       "8   2.0630422   1.2952616  0.84407073    1.2353448   -1.0872154  -0.80546176   \n",
       "9   2.0630422  0.83678895   0.5275409    0.8193733   -1.5456883   -1.1219918   \n",
       "\n",
       "   SKNSH__skew    AC      AN        AF cadd_phred is_in_dELS is_in_CA  \\\n",
       "0  0.044609863     1  149040  0.000007      4.274       true    false   \n",
       "1    -1.698294  8064  148982  0.054127      3.425      false    false   \n",
       "2   -1.1047434     1  148684  0.000007      0.345      false    false   \n",
       "3   -1.1259016     5  148686  0.000034       0.44      false    false   \n",
       "4   0.75279415     1  141638  0.000007       2.84      false    false   \n",
       "5   -0.6185695     8  152146  0.000053      4.355      false    false   \n",
       "6   0.24245133     1  152212  0.000007      11.31      false    false   \n",
       "7   0.74067456     1  151990  0.000007      5.397      false    false   \n",
       "8  -0.82769734     1  151186  0.000007      3.926      false    false   \n",
       "9   -1.2436689    25  151186  0.000165      3.768      false    false   \n",
       "\n",
       "  is_in_pELS is_in_CA-H3K4me3 is_in_CA-CTCF is_in_PLS is_in_TF is_in_CA-TF  \\\n",
       "0      false            false         false     false    false       false   \n",
       "1      false            false         false     false    false       false   \n",
       "2      false            false         false     false    false       false   \n",
       "3      false            false         false     false    false       false   \n",
       "4      false            false         false     false    false       false   \n",
       "5      false             true         false     false    false       false   \n",
       "6      false            false         false     false    false       false   \n",
       "7      false            false         false     false    false       false   \n",
       "8      false            false         false     false    false       false   \n",
       "9      false            false         false     false    false       false   \n",
       "\n",
       "   P_ANNO             mean_ref            mean_skew         MAF   category  \\\n",
       "0  -0.145   0.6788085301717123   0.2350696325302124  6.70961E-6  SINGLETON   \n",
       "1   0.338   1.9708487192789714  -1.5587787628173828   0.0541273     COMMON   \n",
       "2   0.632   1.5838624636332195  -0.8897186915079752  6.72567E-6  SINGLETON   \n",
       "3   0.632   1.5838624636332195  -0.9095292091369629  3.36279E-5  ULTRARARE   \n",
       "4   0.075   0.5786654551823934   0.7901245752970377  7.06025E-6  SINGLETON   \n",
       "5   0.155     2.08786678314209  -1.0956543286641438  5.25811E-5  ULTRARARE   \n",
       "6   0.252  0.49571458498636883   0.3857324918111165  6.56978E-6  SINGLETON   \n",
       "7  -2.259   0.4253097375233968   0.5136150519053141  6.57938E-6  SINGLETON   \n",
       "8   0.976    2.031683921813965  -0.9067915280659994  6.61437E-6  SINGLETON   \n",
       "9   0.976    2.031683921813965  -1.3037829399108887  1.65359E-4       RARE   \n",
       "\n",
       "   emVar_K562  emVar_SKNSH  emVar_HepG2  pleio  \n",
       "0       False        False         True      1  \n",
       "1        True         True         True      3  \n",
       "2        True         True         True      3  \n",
       "3        True         True         True      3  \n",
       "4        True         True        False      2  \n",
       "5        True         True         True      3  \n",
       "6        True        False        False      1  \n",
       "7       False         True        False      1  \n",
       "8        True         True         True      3  \n",
       "9        True         True         True      3  "
      ]
     },
     "metadata": {},
     "output_type": "display_data"
    }
   ],
   "source": [
    "with pd.option_context('display.max_rows', None, 'display.max_columns', None):\n",
    "\tdisplay(df_cre.where(F.col(\"pleio\")>0).limit(10).toPandas())\n"
   ]
  },
  {
   "cell_type": "code",
   "execution_count": 9,
   "id": "8b2e2fba-4143-4e37-a226-c8d47596e917",
   "metadata": {
    "execution": {
     "iopub.execute_input": "2024-02-15T23:28:38.864606Z",
     "iopub.status.busy": "2024-02-15T23:28:38.864251Z",
     "iopub.status.idle": "2024-02-15T23:28:38.879368Z",
     "shell.execute_reply": "2024-02-15T23:28:38.878941Z",
     "shell.execute_reply.started": "2024-02-15T23:28:38.864592Z"
    },
    "tags": []
   },
   "outputs": [],
   "source": [
    "df_cre = df_cre.filter(~(F.isnan(\"pleio\") | F.col(\"pleio\").isNull() | F.isnan(\"AF\") | F.col(\"AF\").isNull()))"
   ]
  },
  {
   "cell_type": "code",
   "execution_count": 10,
   "id": "45300027-c0ea-4378-acbd-1fea2bc54d70",
   "metadata": {
    "execution": {
     "iopub.execute_input": "2024-02-15T23:28:38.880189Z",
     "iopub.status.busy": "2024-02-15T23:28:38.879929Z",
     "iopub.status.idle": "2024-02-15T23:28:38.888564Z",
     "shell.execute_reply": "2024-02-15T23:28:38.888176Z",
     "shell.execute_reply.started": "2024-02-15T23:28:38.880176Z"
    },
    "tags": []
   },
   "outputs": [],
   "source": [
    "df_intoml=df_cre[\"pleio\",\"AF\"]"
   ]
  },
  {
   "cell_type": "code",
   "execution_count": 11,
   "id": "60bbfd25-781d-4a9a-80e6-57509bf1ab68",
   "metadata": {
    "execution": {
     "iopub.execute_input": "2024-02-15T23:28:38.889409Z",
     "iopub.status.busy": "2024-02-15T23:28:38.889125Z",
     "iopub.status.idle": "2024-02-15T23:28:39.005724Z",
     "shell.execute_reply": "2024-02-15T23:28:39.005247Z",
     "shell.execute_reply.started": "2024-02-15T23:28:38.889396Z"
    },
    "tags": []
   },
   "outputs": [],
   "source": [
    "assembler = VectorAssembler(inputCols=[\"pleio\"], outputCol=\"features\")\n",
    "df_intoml = assembler.transform(df_cre).select(\"features\",\"AF\")"
   ]
  },
  {
   "cell_type": "code",
   "execution_count": 12,
   "id": "6f1a158f-bc48-4778-968b-1dc1447b2742",
   "metadata": {
    "execution": {
     "iopub.execute_input": "2024-02-15T23:28:39.006474Z",
     "iopub.status.busy": "2024-02-15T23:28:39.006328Z",
     "iopub.status.idle": "2024-02-15T23:28:39.009001Z",
     "shell.execute_reply": "2024-02-15T23:28:39.008507Z",
     "shell.execute_reply.started": "2024-02-15T23:28:39.006463Z"
    },
    "tags": []
   },
   "outputs": [],
   "source": [
    "from pyspark.ml.regression import LinearRegression"
   ]
  },
  {
   "cell_type": "code",
   "execution_count": 13,
   "id": "5d2290b1-9420-4875-bdd2-c7758cbd167b",
   "metadata": {
    "execution": {
     "iopub.execute_input": "2024-02-15T23:28:39.009705Z",
     "iopub.status.busy": "2024-02-15T23:28:39.009564Z",
     "iopub.status.idle": "2024-02-15T23:53:04.394858Z",
     "shell.execute_reply": "2024-02-15T23:53:04.394405Z",
     "shell.execute_reply.started": "2024-02-15T23:28:39.009694Z"
    },
    "tags": []
   },
   "outputs": [
    {
     "name": "stderr",
     "output_type": "stream",
     "text": [
      "24/02/15 18:28:39 WARN Instrumentation: [9c7c8450] regParam is zero, which might cause numerical instability and overfitting.\n",
      "24/02/15 18:28:40 WARN InstanceBuilder: Failed to load implementation from:dev.ludovic.netlib.blas.JNIBLAS\n",
      "24/02/15 18:28:40 WARN InstanceBuilder: Failed to load implementation from:dev.ludovic.netlib.blas.VectorBLAS\n",
      "24/02/15 18:40:42 WARN InstanceBuilder: Failed to load implementation from:dev.ludovic.netlib.lapack.JNILAPACK\n",
      "                                                                                \r"
     ]
    }
   ],
   "source": [
    "lr = LinearRegression(featuresCol=\"features\", labelCol=\"AF\")\n",
    "lr_model = lr.fit(df_intoml)"
   ]
  },
  {
   "cell_type": "code",
   "execution_count": 14,
   "id": "b1737449-c1e3-4220-ac2a-217bc0ebf784",
   "metadata": {
    "execution": {
     "iopub.execute_input": "2024-02-15T23:53:04.395706Z",
     "iopub.status.busy": "2024-02-15T23:53:04.395476Z",
     "iopub.status.idle": "2024-02-15T23:53:05.439530Z",
     "shell.execute_reply": "2024-02-15T23:53:05.439127Z",
     "shell.execute_reply.started": "2024-02-15T23:53:04.395692Z"
    },
    "tags": []
   },
   "outputs": [
    {
     "name": "stderr",
     "output_type": "stream",
     "text": [
      "                                                                                \r"
     ]
    }
   ],
   "source": [
    "lr_model.write().overwrite().save(\"./pleio_vs_af_model\")"
   ]
  },
  {
   "cell_type": "code",
   "execution_count": 15,
   "id": "13139997-b546-4e08-9bd0-2338be297780",
   "metadata": {
    "execution": {
     "iopub.execute_input": "2024-02-15T23:53:05.440405Z",
     "iopub.status.busy": "2024-02-15T23:53:05.440113Z",
     "iopub.status.idle": "2024-02-15T23:53:05.442498Z",
     "shell.execute_reply": "2024-02-15T23:53:05.442143Z",
     "shell.execute_reply.started": "2024-02-15T23:53:05.440392Z"
    },
    "tags": []
   },
   "outputs": [],
   "source": [
    "genome_regions=[\"is_in_PLS\",\"is_in_dELS\",\"is_in_pELS\"]"
   ]
  },
  {
   "cell_type": "code",
   "execution_count": null,
   "id": "1a59cb76-cd66-487e-8607-2bdd333439d3",
   "metadata": {
    "execution": {
     "iopub.execute_input": "2024-02-15T23:53:05.443269Z",
     "iopub.status.busy": "2024-02-15T23:53:05.443012Z"
    },
    "tags": []
   },
   "outputs": [
    {
     "name": "stderr",
     "output_type": "stream",
     "text": [
      "24/02/15 18:53:06 WARN Instrumentation: [acb51c9c] regParam is zero, which might cause numerical instability and overfitting.\n",
      "24/02/15 19:25:48 WARN Instrumentation: [87b30b88] regParam is zero, which might cause numerical instability and overfitting.\n",
      "[Stage 20:==========================>                         (847 + 10) / 1643]\r"
     ]
    }
   ],
   "source": [
    "for var in genome_regions:\n",
    "    df_intoml=df_cre.where(F.col(var)==True)\n",
    "    df_intoml=df_intoml[\"pleio\",\"AF\"]\n",
    "    assembler = VectorAssembler(inputCols=[\"pleio\"], outputCol=\"features\")\n",
    "    df_intoml = assembler.transform(df_cre).select(\"features\",\"AF\")\n",
    "    lr = LinearRegression(featuresCol=\"features\", labelCol=\"AF\")\n",
    "    lr_model = lr.fit(df_intoml)\n",
    "    lr_model.write().overwrite().save(\"./pleio_vs_af_model_\"+var)\n",
    "    "
   ]
  },
  {
   "cell_type": "markdown",
   "id": "45804bb9-1942-4793-8997-c4f310a2f5cf",
   "metadata": {},
   "source": [
    "Now let us examine some interesting statistics..."
   ]
  },
  {
   "cell_type": "code",
   "execution_count": null,
   "id": "d5b418c0-f1ea-487b-9936-0ef2f7154447",
   "metadata": {
    "tags": []
   },
   "outputs": [],
   "source": [
    "from pyspark.ml.regression import LinearRegressionModel"
   ]
  },
  {
   "cell_type": "code",
   "execution_count": null,
   "id": "36cd5baa-6451-4ca8-9042-58f89d1354b6",
   "metadata": {
    "tags": []
   },
   "outputs": [],
   "source": [
    "for i in [\"pleio_vs_af_model\"]+[\"pleio_vs_af_model_\"+x for x in genome_regions]:\n",
    "    lr_model = LinearRegressionModel.load(i)\n",
    "    b=lr_model.intercept\n",
    "    slope=lr_model.coefficients\n",
    "    r_squared=\"err\"\n",
    "    try:\n",
    "        r_squared = lr_model.summary.r2\n",
    "    except:\n",
    "        pass\n",
    "    print(f\"{i} {b} {slope} {r_squared}\")\n",
    "    "
   ]
  }
 ],
 "metadata": {
  "kernelspec": {
   "display_name": "Python 3 (ipykernel)",
   "language": "python",
   "name": "python3"
  },
  "language_info": {
   "codemirror_mode": {
    "name": "ipython",
    "version": 3
   },
   "file_extension": ".py",
   "mimetype": "text/x-python",
   "name": "python",
   "nbconvert_exporter": "python",
   "pygments_lexer": "ipython3",
   "version": "3.10.12"
  }
 },
 "nbformat": 4,
 "nbformat_minor": 5
}
