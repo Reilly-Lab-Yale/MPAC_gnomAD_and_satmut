{
 "cells": [
  {
   "cell_type": "code",
   "execution_count": 2,
   "id": "38cc5770-3dd6-4c07-9656-e95d5d6650fa",
   "metadata": {
    "execution": {
     "iopub.execute_input": "2024-05-14T20:23:37.046924Z",
     "iopub.status.busy": "2024-05-14T20:23:37.046580Z",
     "iopub.status.idle": "2024-05-14T20:23:37.998512Z",
     "shell.execute_reply": "2024-05-14T20:23:37.997955Z",
     "shell.execute_reply.started": "2024-05-14T20:23:37.046906Z"
    },
    "tags": []
   },
   "outputs": [],
   "source": [
    "from pyspark.sql import SparkSession\n",
    "from pyspark.sql import functions as F\n",
    "import pyspark.sql.types as T\n",
    "import os"
   ]
  },
  {
   "cell_type": "code",
   "execution_count": 3,
   "id": "ad8366e9-9ac5-4eb9-81c0-fd1eda9cadf0",
   "metadata": {
    "execution": {
     "iopub.execute_input": "2024-05-14T20:23:37.999909Z",
     "iopub.status.busy": "2024-05-14T20:23:37.999463Z",
     "iopub.status.idle": "2024-05-14T20:23:46.539000Z",
     "shell.execute_reply": "2024-05-14T20:23:46.538373Z",
     "shell.execute_reply.started": "2024-05-14T20:23:37.999891Z"
    },
    "tags": []
   },
   "outputs": [
    {
     "name": "stderr",
     "output_type": "stream",
     "text": [
      "Setting default log level to \"WARN\".\n",
      "To adjust logging level use sc.setLogLevel(newLevel). For SparkR, use setLogLevel(newLevel).\n",
      "24/05/14 16:23:43 WARN NativeCodeLoader: Unable to load native-hadoop library for your platform... using builtin-java classes where applicable\n"
     ]
    }
   ],
   "source": [
    "spark = SparkSession.builder.appName(\"add_TE\").getOrCreate()"
   ]
  },
  {
   "cell_type": "code",
   "execution_count": 4,
   "id": "39fd9e68-369d-4498-91b9-014d7b456a3f",
   "metadata": {
    "execution": {
     "iopub.execute_input": "2024-05-14T20:23:46.540659Z",
     "iopub.status.busy": "2024-05-14T20:23:46.540147Z",
     "iopub.status.idle": "2024-05-14T20:23:46.543977Z",
     "shell.execute_reply": "2024-05-14T20:23:46.543492Z",
     "shell.execute_reply.started": "2024-05-14T20:23:46.540640Z"
    },
    "tags": []
   },
   "outputs": [
    {
     "name": "stdout",
     "output_type": "stream",
     "text": [
      "only crunching chromosome chr22\n"
     ]
    }
   ],
   "source": [
    "chromosome=\"NONE\"\n",
    "chromosome=\"chr22\"\n",
    "\n",
    "if \"which_chr\" in os.environ:\n",
    "    chromosome = os.environ['which_chr']\n",
    "\n",
    "if chromosome==\"NONE\":\n",
    "    print(\"error : did not find which chromosome we are supposed to crunch!\")\n",
    "    exit(-1)\n",
    "else:\n",
    "    print(\"only crunching chromosome \"+chromosome)"
   ]
  },
  {
   "cell_type": "code",
   "execution_count": 5,
   "id": "92634abf-920f-499c-96e1-ec7dc37067bc",
   "metadata": {
    "execution": {
     "iopub.execute_input": "2024-05-14T20:23:46.544765Z",
     "iopub.status.busy": "2024-05-14T20:23:46.544596Z",
     "iopub.status.idle": "2024-05-14T20:24:11.615199Z",
     "shell.execute_reply": "2024-05-14T20:24:11.614541Z",
     "shell.execute_reply.started": "2024-05-14T20:23:46.544750Z"
    },
    "tags": []
   },
   "outputs": [
    {
     "name": "stderr",
     "output_type": "stream",
     "text": [
      "24/05/14 16:24:05 WARN GarbageCollectionMetrics: To enable non-built-in garbage collector(s) List(G1 Concurrent GC), users should configure it(them) to spark.eventLog.gcMetrics.youngGenerationGarbageCollectors or spark.eventLog.gcMetrics.oldGenerationGarbageCollectors\n",
      "                                                                                \r"
     ]
    }
   ],
   "source": [
    "variant_path=f\"/home/mcn26/varef/scripts/noon_data/2.2.add_roulette/{chromosome}/*.csv.gz\"\n",
    "\n",
    "variants=spark.read.option(\"delimiter\",\"\\t\") \\\n",
    "    .csv(variant_path, header=True, inferSchema=True)"
   ]
  },
  {
   "cell_type": "code",
   "execution_count": 6,
   "id": "64cb0534-9b5e-4fd1-b9af-eb19333eed3a",
   "metadata": {
    "execution": {
     "iopub.execute_input": "2024-05-14T20:24:11.616741Z",
     "iopub.status.busy": "2024-05-14T20:24:11.616479Z",
     "iopub.status.idle": "2024-05-14T20:24:11.619325Z",
     "shell.execute_reply": "2024-05-14T20:24:11.618884Z",
     "shell.execute_reply.started": "2024-05-14T20:24:11.616723Z"
    },
    "tags": []
   },
   "outputs": [],
   "source": [
    "transposon_path=\"/home/mcn26/varef/data/repmask/hg38.fa.out.fixed.gz\""
   ]
  },
  {
   "cell_type": "markdown",
   "id": "94f65256-e338-43f4-bad0-e1b654458f8c",
   "metadata": {},
   "source": [
    "This file is a modified version of the output of repeatmasker. It's a very strange format, which I have munged slightly to be more tractable. Take a look at `helper/prechew_transposons` for more information."
   ]
  },
  {
   "cell_type": "code",
   "execution_count": 7,
   "id": "72a9b9fb-c93c-49fb-9224-47e7a41ba246",
   "metadata": {
    "execution": {
     "iopub.execute_input": "2024-05-14T20:24:11.620272Z",
     "iopub.status.busy": "2024-05-14T20:24:11.620000Z",
     "iopub.status.idle": "2024-05-14T20:24:11.847303Z",
     "shell.execute_reply": "2024-05-14T20:24:11.846740Z",
     "shell.execute_reply.started": "2024-05-14T20:24:11.620255Z"
    },
    "tags": []
   },
   "outputs": [],
   "source": [
    "transposon = spark.read \\\n",
    "    .option(\"sep\", \"\\t\") \\\n",
    "    .option(\"header\", \"true\") \\\n",
    "    .csv(transposon_path)"
   ]
  },
  {
   "cell_type": "code",
   "execution_count": 8,
   "id": "e50f8566-c6bc-4974-803e-b708534271a1",
   "metadata": {
    "execution": {
     "iopub.execute_input": "2024-05-14T20:24:11.848449Z",
     "iopub.status.busy": "2024-05-14T20:24:11.848114Z",
     "iopub.status.idle": "2024-05-14T20:24:12.122422Z",
     "shell.execute_reply": "2024-05-14T20:24:12.121950Z",
     "shell.execute_reply.started": "2024-05-14T20:24:11.848430Z"
    },
    "tags": []
   },
   "outputs": [
    {
     "data": {
      "text/plain": [
       "[Row(SW_score='463', perc_div='1.3', perc_del='0.6', perc_ins='1.7', query_sequence='chr1', pos_in_query_begin='10001', pos_in_query_end='10468', (left)='(248945954)', matching_repeat='+', repeat_class_slash_family='(TAACCC)n', position_in_repeat_begin='Simple_repeat', position_in_repeat_end='1', position_in_repeat_left='471', id='(0)'),\n",
       " Row(SW_score='3612', perc_div='11.4', perc_del='21.5', perc_ins='1.3', query_sequence='chr1', pos_in_query_begin='10469', pos_in_query_end='11447', (left)='(248944975)', matching_repeat='C', repeat_class_slash_family='TAR1', position_in_repeat_begin='Satellite/telo', position_in_repeat_end='(399)', position_in_repeat_left='1712', id='483'),\n",
       " Row(SW_score='484', perc_div='25.1', perc_del='13.2', perc_ins='0.0', query_sequence='chr1', pos_in_query_begin='11505', pos_in_query_end='11675', (left)='(248944747)', matching_repeat='C', repeat_class_slash_family='L1MC5a', position_in_repeat_begin='LINE/L1', position_in_repeat_end='(2382)', position_in_repeat_left='395', id='199')]"
      ]
     },
     "execution_count": 8,
     "metadata": {},
     "output_type": "execute_result"
    }
   ],
   "source": [
    "transposon.take(3)"
   ]
  },
  {
   "cell_type": "code",
   "execution_count": 24,
   "id": "500b7845-6ca9-4630-ae50-2e342373a26a",
   "metadata": {
    "execution": {
     "iopub.execute_input": "2024-05-14T20:59:35.021283Z",
     "iopub.status.busy": "2024-05-14T20:59:35.020915Z",
     "iopub.status.idle": "2024-05-14T20:59:35.028767Z",
     "shell.execute_reply": "2024-05-14T20:59:35.028224Z",
     "shell.execute_reply.started": "2024-05-14T20:59:35.021260Z"
    },
    "tags": []
   },
   "outputs": [],
   "source": [
    "# not terrifically efficient, should probably be pre-processes for\n",
    "# faster speeds, but this is a quick step, so it shouldn't matter terribly.\n",
    "transposon_chr=transposon.filter(F.col(\"query_sequence\") == chromosome)"
   ]
  },
  {
   "cell_type": "code",
   "execution_count": 26,
   "id": "147f950e-2dbf-4eab-bbcd-6cf1ca779f5d",
   "metadata": {
    "execution": {
     "iopub.execute_input": "2024-05-14T20:59:42.401841Z",
     "iopub.status.busy": "2024-05-14T20:59:42.401409Z",
     "iopub.status.idle": "2024-05-14T20:59:42.411524Z",
     "shell.execute_reply": "2024-05-14T20:59:42.410959Z",
     "shell.execute_reply.started": "2024-05-14T20:59:42.401818Z"
    },
    "tags": []
   },
   "outputs": [],
   "source": [
    "columns_to_keep = [\"query_sequence\",\"pos_in_query_begin\",\"pos_in_query_end\"]\n",
    "transposon_chr = transposon_chr.select(columns_to_keep)"
   ]
  },
  {
   "cell_type": "code",
   "execution_count": 38,
   "id": "3da411b6-60ae-4363-9665-9dc81a0c4278",
   "metadata": {
    "execution": {
     "iopub.execute_input": "2024-05-14T21:04:19.783633Z",
     "iopub.status.busy": "2024-05-14T21:04:19.783332Z",
     "iopub.status.idle": "2024-05-14T21:04:19.841966Z",
     "shell.execute_reply": "2024-05-14T21:04:19.841382Z",
     "shell.execute_reply.started": "2024-05-14T21:04:19.783613Z"
    },
    "tags": []
   },
   "outputs": [],
   "source": [
    "# the variants is 1-based, as it is from a VCF\n",
    "# The transposon table is 1-based, \n",
    "# as we discovered in /helper/prechew_transposons/1.0.determine_base\n",
    "# this makes checking ranges quite easy !\n",
    "\n",
    "#Chr1        T   A   C   G   T\n",
    "#          | | | | | | | | | |\n",
    "#1 based   | 1 | 2 | 3 | 4 | 5\n",
    "#0 based   0   1   2   3   4\n",
    "\n",
    "#broadcast transposon for performance\n",
    "transposon_broadcast = F.broadcast(transposon_chr)\n",
    "\n",
    "#left-join\n",
    "#note that this will duplicate variants if they fall into multiple transposons\n",
    "joined=variants.join(transposon_broadcast,\n",
    "            (variants.POS > transposon_chr.pos_in_query_begin) & \n",
    "            (variants.POS <= transposon_chr.pos_in_query_end),\n",
    "            how='left'\n",
    "    )\n",
    "\n",
    "#add a column that records whether each variant is in a transposon or not\n",
    "result = joined.withColumn(\"in_rep\", \n",
    "             F.when(F.col(\"pos_in_query_begin\").isNotNull(), F.lit(True)).otherwise(F.lit(False)))\n",
    "\n",
    "#drop rep_element columns we don't care about anymore\n",
    "#important for dedup\n",
    "result=result.drop(*transposon_broadcast.columns)\n",
    "\n",
    "# deduplicate variants by grouping by all columns that aren't the newly added in_rep, and taking the max\n",
    "# max wil thus indicate \"in any rep element\"\n",
    "group_columns = [col for col in result.columns if col != \"in_rep\"]\n",
    "result = result.groupBy(*group_columns).agg(F.max(\"in_rep\").alias(\"in_rep\"))\n",
    "\n"
   ]
  },
  {
   "cell_type": "code",
   "execution_count": 39,
   "id": "730c3f83-7111-431d-9df3-9bd0c807cc5c",
   "metadata": {
    "execution": {
     "iopub.execute_input": "2024-05-14T21:04:20.985794Z",
     "iopub.status.busy": "2024-05-14T21:04:20.985502Z",
     "iopub.status.idle": "2024-05-14T21:04:20.990275Z",
     "shell.execute_reply": "2024-05-14T21:04:20.989781Z",
     "shell.execute_reply.started": "2024-05-14T21:04:20.985777Z"
    },
    "tags": []
   },
   "outputs": [
    {
     "data": {
      "text/plain": [
       "DataFrame[CHROM: string, POS: int, REF: string, ALT: string, ID: string, QUAL: string, FILTER: string, INFO: string, K562__ref: double, HepG2__ref: double, SKNSH__ref: double, K562__alt: double, HepG2__alt: double, SKNSH__alt: double, K562__skew: double, HepG2__skew: double, SKNSH__skew: double, AC: int, AN: int, AF: double, cadd_phred: double, is_in_dELS: boolean, is_in_CA: boolean, is_in_pELS: boolean, is_in_CA-H3K4me3: boolean, is_in_CA-CTCF: boolean, is_in_PLS: boolean, is_in_TF: boolean, is_in_CA-TF: boolean, P_ANNO: double, mean_ref: double, mean_skew: double, MAF: double, category: string, roulette_PN: string, roulette_MR: double, roulette_MG: double, in_rep: boolean]"
      ]
     },
     "execution_count": 39,
     "metadata": {},
     "output_type": "execute_result"
    }
   ],
   "source": [
    "result.write.option(\"codec\", \"org.apache.hadoop.io.compress.GzipCodec\") \\\n",
    "    .option(\"delimiter\", \"\\t\") \\\n",
    "    .csv(f\"/home/mcn26/varef/scripts/noon_data/2.3.add_transposons/{chromosome}.csv.gz\", header=True, mode=\"overwrite\")"
   ]
  }
 ],
 "metadata": {
  "kernelspec": {
   "display_name": "Python 3 (ipykernel)",
   "language": "python",
   "name": "python3"
  },
  "language_info": {
   "codemirror_mode": {
    "name": "ipython",
    "version": 3
   },
   "file_extension": ".py",
   "mimetype": "text/x-python",
   "name": "python",
   "nbconvert_exporter": "python",
   "pygments_lexer": "ipython3",
   "version": "3.10.12"
  }
 },
 "nbformat": 4,
 "nbformat_minor": 5
}
