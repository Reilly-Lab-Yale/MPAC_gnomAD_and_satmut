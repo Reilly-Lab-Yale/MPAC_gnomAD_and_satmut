{
 "cells": [
  {
   "cell_type": "markdown",
   "id": "42e74dac-4c37-40ee-923b-e3cf3bc209e5",
   "metadata": {},
   "source": [
    "Import relevant libraries"
   ]
  },
  {
   "cell_type": "code",
   "execution_count": 1,
   "id": "5526a89e-4590-4f51-ba43-f2af6185902a",
   "metadata": {
    "execution": {
     "iopub.execute_input": "2024-05-06T22:34:14.528209Z",
     "iopub.status.busy": "2024-05-06T22:34:14.527887Z",
     "iopub.status.idle": "2024-05-06T22:34:14.769478Z",
     "shell.execute_reply": "2024-05-06T22:34:14.769078Z",
     "shell.execute_reply.started": "2024-05-06T22:34:14.528192Z"
    },
    "tags": []
   },
   "outputs": [],
   "source": [
    "from pyspark.sql import SparkSession\n",
    "from pyspark.sql import functions as F\n",
    "import pyspark.sql.types as T\n",
    "import os"
   ]
  },
  {
   "cell_type": "markdown",
   "id": "9b426b94-c5e5-4004-b1c2-add4d86f8e3d",
   "metadata": {
    "execution": {
     "iopub.execute_input": "2024-05-01T16:18:43.475576Z",
     "iopub.status.busy": "2024-05-01T16:18:43.475283Z",
     "iopub.status.idle": "2024-05-01T16:18:43.478396Z",
     "shell.execute_reply": "2024-05-01T16:18:43.477927Z",
     "shell.execute_reply.started": "2024-05-01T16:18:43.475559Z"
    },
    "tags": []
   },
   "source": [
    "Create a spark session"
   ]
  },
  {
   "cell_type": "code",
   "execution_count": 2,
   "id": "e18b144c-dc6b-4c07-812c-df41e2633ba0",
   "metadata": {
    "execution": {
     "iopub.execute_input": "2024-05-06T22:34:15.416898Z",
     "iopub.status.busy": "2024-05-06T22:34:15.416487Z",
     "iopub.status.idle": "2024-05-06T22:34:17.518940Z",
     "shell.execute_reply": "2024-05-06T22:34:17.518446Z",
     "shell.execute_reply.started": "2024-05-06T22:34:15.416880Z"
    },
    "tags": []
   },
   "outputs": [
    {
     "name": "stderr",
     "output_type": "stream",
     "text": [
      "Warning: Ignoring non-Spark config property: io.compression.codecs\n",
      "Setting default log level to \"WARN\".\n",
      "To adjust logging level use sc.setLogLevel(newLevel). For SparkR, use setLogLevel(newLevel).\n",
      "24/05/06 18:34:16 WARN NativeCodeLoader: Unable to load native-hadoop library for your platform... using builtin-java classes where applicable\n"
     ]
    }
   ],
   "source": [
    "spark = SparkSession.builder \\\n",
    "    .appName(\"add_roulette\") \\\n",
    "    .config(\"io.compression.codecs\", \"org.apache.hadoop.io.compress.GzipCodec\") \\\n",
    "    .getOrCreate()"
   ]
  },
  {
   "cell_type": "code",
   "execution_count": 3,
   "id": "82d8fb73-16aa-421c-8383-daf95c708464",
   "metadata": {
    "execution": {
     "iopub.execute_input": "2024-05-06T22:34:17.520182Z",
     "iopub.status.busy": "2024-05-06T22:34:17.519837Z",
     "iopub.status.idle": "2024-05-06T22:34:17.523107Z",
     "shell.execute_reply": "2024-05-06T22:34:17.522754Z",
     "shell.execute_reply.started": "2024-05-06T22:34:17.520164Z"
    },
    "tags": []
   },
   "outputs": [
    {
     "name": "stdout",
     "output_type": "stream",
     "text": [
      "only crunching chromosome chr22\n"
     ]
    }
   ],
   "source": [
    "chromosome=\"NONE\"\n",
    "chromosome=\"chr22\"\n",
    "\n",
    "if \"which_chr\" in os.environ:\n",
    "    chromosome = os.environ['which_chr']\n",
    "\n",
    "if chromosome==\"NONE\":\n",
    "    print(\"error : did not find which chromosome we are supposed to crunch!\")\n",
    "    exit(-1)\n",
    "else:\n",
    "    print(\"only crunching chromosome \"+chromosome)"
   ]
  },
  {
   "cell_type": "markdown",
   "id": "68a9fbe1-58dd-416a-8046-45b40084445a",
   "metadata": {},
   "source": [
    "Load previous step"
   ]
  },
  {
   "cell_type": "code",
   "execution_count": 4,
   "id": "76eb1cb7-d87b-423a-b7f0-abc6026deac0",
   "metadata": {
    "execution": {
     "iopub.execute_input": "2024-05-06T22:34:18.699840Z",
     "iopub.status.busy": "2024-05-06T22:34:18.699395Z",
     "iopub.status.idle": "2024-05-06T22:34:36.626505Z",
     "shell.execute_reply": "2024-05-06T22:34:36.626081Z",
     "shell.execute_reply.started": "2024-05-06T22:34:18.699823Z"
    },
    "tags": []
   },
   "outputs": [
    {
     "name": "stderr",
     "output_type": "stream",
     "text": [
      "24/05/06 18:34:33 WARN GarbageCollectionMetrics: To enable non-built-in garbage collector(s) List(G1 Concurrent GC), users should configure it(them) to spark.eventLog.gcMetrics.youngGenerationGarbageCollectors or spark.eventLog.gcMetrics.oldGenerationGarbageCollectors\n",
      "                                                                                \r"
     ]
    }
   ],
   "source": [
    "variant_path=f'/home/mcn26/varef/scripts/noon_data/2.0.annotate/annotated_output_{chromosome}.csv.gz/*.csv.gz'\n",
    "variants=spark.read.option(\"delimiter\",\"\\t\").csv(variant_path, header=True, inferSchema=True)"
   ]
  },
  {
   "cell_type": "code",
   "execution_count": 5,
   "id": "7e4114ce-7801-4eec-8dd4-bf494147b67b",
   "metadata": {
    "execution": {
     "iopub.execute_input": "2024-05-06T22:34:36.627657Z",
     "iopub.status.busy": "2024-05-06T22:34:36.627336Z",
     "iopub.status.idle": "2024-05-06T22:34:36.629834Z",
     "shell.execute_reply": "2024-05-06T22:34:36.629503Z",
     "shell.execute_reply.started": "2024-05-06T22:34:36.627640Z"
    },
    "tags": []
   },
   "outputs": [],
   "source": [
    "roulette_path=f'/home/mcn26/varef/data/roulette/{chromosome.strip(\"chr\")}_rate_v5.2_TFBS_correction_all.vcf.gz'"
   ]
  },
  {
   "cell_type": "code",
   "execution_count": 6,
   "id": "6c95461d-fac1-45bc-baa3-3a41152a3fcb",
   "metadata": {
    "execution": {
     "iopub.execute_input": "2024-05-06T22:34:36.630550Z",
     "iopub.status.busy": "2024-05-06T22:34:36.630335Z",
     "iopub.status.idle": "2024-05-06T22:34:36.796777Z",
     "shell.execute_reply": "2024-05-06T22:34:36.796355Z",
     "shell.execute_reply.started": "2024-05-06T22:34:36.630537Z"
    },
    "tags": []
   },
   "outputs": [],
   "source": [
    "roulette=spark.read.option(\"delimiter\",\"\\t\") \\\n",
    "    .option(\"comment\", \"#\") \\\n",
    "    .option(\"compression\", \"gzip\") \\\n",
    "    .csv(roulette_path, header=False, inferSchema=False)\n",
    "\n",
    "new_columns=[\"CHROM\",\"POS\",\"ID\",\"REF\",\"ALT\",\"QUAL\",\"FILTER\",\"INFO\"]\n",
    "\n",
    "roulette = roulette.toDF(*new_columns)"
   ]
  },
  {
   "cell_type": "code",
   "execution_count": 7,
   "id": "68121938-c6f2-4e35-a76f-d7b6c76ca762",
   "metadata": {
    "execution": {
     "iopub.execute_input": "2024-05-06T22:34:36.798122Z",
     "iopub.status.busy": "2024-05-06T22:34:36.797807Z",
     "iopub.status.idle": "2024-05-06T22:34:36.804289Z",
     "shell.execute_reply": "2024-05-06T22:34:36.803942Z",
     "shell.execute_reply.started": "2024-05-06T22:34:36.798107Z"
    },
    "tags": []
   },
   "outputs": [],
   "source": [
    "roulette=roulette.drop(*[\"ID\",\"QUAL\",\"FILTER\"])"
   ]
  },
  {
   "cell_type": "code",
   "execution_count": 8,
   "id": "76f5f628-8dd1-496e-a4be-604f8f93dbf3",
   "metadata": {
    "execution": {
     "iopub.execute_input": "2024-05-06T22:34:36.804992Z",
     "iopub.status.busy": "2024-05-06T22:34:36.804773Z",
     "iopub.status.idle": "2024-05-06T22:34:36.917070Z",
     "shell.execute_reply": "2024-05-06T22:34:36.916659Z",
     "shell.execute_reply.started": "2024-05-06T22:34:36.804978Z"
    },
    "tags": []
   },
   "outputs": [],
   "source": [
    "####The `INFO` field contains a lot of useful information, but it is all smashed together into a string. \n",
    "#Let's extract information from that string. \n",
    "\n",
    "keys_to_extract = [#NONE CAN BE SUBSTRINGS OF THE OTHERS\n",
    "    \"PN\", \"MR\", \"MG\"\n",
    "]\n",
    "\n",
    "for key in keys_to_extract:\n",
    "\n",
    "    #df = df.withColumn(key, regexp_extract(col(\"INFO\"), \"{}=([^;]+);?\".format(key), 1))\n",
    "    #when we find something put it, whne we don't put None\n",
    "    roulette = roulette.withColumn(key, \n",
    "                       F.when(\n",
    "                           F.regexp_extract(F.col(\"INFO\"), \"{}=([^;]+);?\".format(key), 1) != \"\",\n",
    "                           F.regexp_extract(F.col(\"INFO\"), \"{}=([^;]+);?\".format(key), 1)).otherwise(None))"
   ]
  },
  {
   "cell_type": "code",
   "execution_count": 9,
   "id": "614acda2-0c8b-4f1e-aed6-ef1882c843e0",
   "metadata": {
    "execution": {
     "iopub.execute_input": "2024-05-06T22:34:36.918043Z",
     "iopub.status.busy": "2024-05-06T22:34:36.917664Z",
     "iopub.status.idle": "2024-05-06T22:34:36.971665Z",
     "shell.execute_reply": "2024-05-06T22:34:36.971296Z",
     "shell.execute_reply.started": "2024-05-06T22:34:36.918027Z"
    },
    "tags": []
   },
   "outputs": [],
   "source": [
    "roulette=roulette.drop(\"INFO\")"
   ]
  },
  {
   "cell_type": "code",
   "execution_count": 10,
   "id": "f8ce6f75-f2ed-4ee2-b0b0-2ef9410488cf",
   "metadata": {
    "execution": {
     "iopub.execute_input": "2024-05-06T22:34:36.972430Z",
     "iopub.status.busy": "2024-05-06T22:34:36.972180Z",
     "iopub.status.idle": "2024-05-06T22:34:37.002811Z",
     "shell.execute_reply": "2024-05-06T22:34:37.002471Z",
     "shell.execute_reply.started": "2024-05-06T22:34:36.972416Z"
    },
    "tags": []
   },
   "outputs": [],
   "source": [
    "rename_dict={\"PN\":\"roulette_PN\",\"MR\":\"roulette_MR\",\"MG\":\"roulette_MG\"}\n",
    "\n",
    "for old_name, new_name in rename_dict.items():\n",
    "    roulette=roulette.withColumnRenamed(old_name,new_name)"
   ]
  },
  {
   "cell_type": "code",
   "execution_count": 11,
   "id": "ba77bc9d-c39e-41ea-b770-0293aec23d3a",
   "metadata": {
    "execution": {
     "iopub.execute_input": "2024-05-06T22:34:37.003401Z",
     "iopub.status.busy": "2024-05-06T22:34:37.003273Z",
     "iopub.status.idle": "2024-05-06T22:34:37.046670Z",
     "shell.execute_reply": "2024-05-06T22:34:37.046324Z",
     "shell.execute_reply.started": "2024-05-06T22:34:37.003388Z"
    },
    "tags": []
   },
   "outputs": [],
   "source": [
    "roulette=roulette.withColumn(\"POS\", roulette[\"POS\"].cast(T.IntegerType()))"
   ]
  },
  {
   "cell_type": "code",
   "execution_count": 18,
   "id": "2bd7605c-fb20-461c-855d-4afd2cc57d61",
   "metadata": {
    "execution": {
     "iopub.execute_input": "2024-05-06T22:41:41.311906Z",
     "iopub.status.busy": "2024-05-06T22:41:41.311637Z",
     "iopub.status.idle": "2024-05-06T22:41:41.325870Z",
     "shell.execute_reply": "2024-05-06T22:41:41.325482Z",
     "shell.execute_reply.started": "2024-05-06T22:41:41.311889Z"
    },
    "tags": []
   },
   "outputs": [],
   "source": [
    "roulette = roulette.withColumn(\"CHROM\", F.concat(F.lit(\"chr\"), F.col(\"CHROM\")))"
   ]
  },
  {
   "cell_type": "code",
   "execution_count": 12,
   "id": "a61ed1ed-cfbf-4292-a42b-2d4467c45300",
   "metadata": {
    "execution": {
     "iopub.execute_input": "2024-05-06T22:31:01.530665Z",
     "iopub.status.busy": "2024-05-06T22:31:01.530292Z",
     "iopub.status.idle": "2024-05-06T22:31:01.552554Z",
     "shell.execute_reply": "2024-05-06T22:31:01.552202Z",
     "shell.execute_reply.started": "2024-05-06T22:31:01.530651Z"
    },
    "tags": []
   },
   "outputs": [],
   "source": [
    "variants_annotated=variants.join(roulette,on=[\"CHROM\",\"POS\",\"REF\",\"ALT\"],how=\"inner\")"
   ]
  },
  {
   "cell_type": "code",
   "execution_count": null,
   "id": "be6aa488-81bd-49dc-b160-e9ef3392ee05",
   "metadata": {},
   "outputs": [],
   "source": [
    "output_root=\"/home/mcn26/varef/scripts/noon_data/2.2.add_roulette/\"\n",
    "\n",
    "variants_annotated.write \\\n",
    "    .option(\"header\",\"true\") \\\n",
    "    .option(\"delimiter\",\"\\t\") \\\n",
    "    .option(\"compression\", \"gzip\") \\\n",
    "    .csv(output_root+chromosome)\n",
    "\n",
    "spark.stop()"
   ]
  }
 ],
 "metadata": {
  "kernelspec": {
   "display_name": "Python 3 (ipykernel)",
   "language": "python",
   "name": "python3"
  },
  "language_info": {
   "codemirror_mode": {
    "name": "ipython",
    "version": 3
   },
   "file_extension": ".py",
   "mimetype": "text/x-python",
   "name": "python",
   "nbconvert_exporter": "python",
   "pygments_lexer": "ipython3",
   "version": "3.10.12"
  }
 },
 "nbformat": 4,
 "nbformat_minor": 5
}
