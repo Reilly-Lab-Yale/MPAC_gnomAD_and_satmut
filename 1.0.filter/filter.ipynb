{
 "cells": [
  {
   "cell_type": "markdown",
   "id": "6feca1f2-3155-4e2d-a6da-be07e5544118",
   "metadata": {},
   "source": [
    "The purpose of this script is to remove all variants falling in regions of the genome we expect to be uninformative. This whole project is about evolutionary conservation and malinois : an algorithm that predicts cis-regulatory activity. Any relationships between these two variables would be obscured by the presence of genetic sequnces which could affect conservation for some reason other than their cis-regulatory activity. For this reason, I will exclude exons and splice-sites (File from Dr. Rong : exons of cannonical transcripts plus 20 bases into the splice acceptor and 6 bases into the splice donor  (numbers are from MaxEntScan motifs) )."
   ]
  },
  {
   "cell_type": "markdown",
   "id": "6ed3930d-8ea7-4ab6-b809-d9b29619f136",
   "metadata": {},
   "source": [
    "Load relevant libraries"
   ]
  },
  {
   "cell_type": "code",
   "execution_count": 10,
   "id": "41888011-db5e-4b8d-92a0-782084a6cc54",
   "metadata": {
    "execution": {
     "iopub.execute_input": "2024-04-01T21:20:46.139547Z",
     "iopub.status.busy": "2024-04-01T21:20:46.139051Z",
     "iopub.status.idle": "2024-04-01T21:20:46.141866Z",
     "shell.execute_reply": "2024-04-01T21:20:46.141495Z",
     "shell.execute_reply.started": "2024-04-01T21:20:46.139528Z"
    },
    "tags": []
   },
   "outputs": [],
   "source": [
    "from pyspark.sql import SparkSession\n",
    "from pyspark.sql import functions as F\n",
    "import pyspark.sql.types as T\n",
    "import os\n",
    "import json"
   ]
  },
  {
   "cell_type": "markdown",
   "id": "f6ceab98-89a9-4c98-b87d-d0bc02abdb2c",
   "metadata": {},
   "source": [
    "initalize the spark session"
   ]
  },
  {
   "cell_type": "code",
   "execution_count": 6,
   "id": "86cc4d9c-253b-4076-9a64-f701b195161e",
   "metadata": {
    "execution": {
     "iopub.execute_input": "2024-04-01T21:12:44.878941Z",
     "iopub.status.busy": "2024-04-01T21:12:44.878511Z",
     "iopub.status.idle": "2024-04-01T21:12:44.883489Z",
     "shell.execute_reply": "2024-04-01T21:12:44.883116Z",
     "shell.execute_reply.started": "2024-04-01T21:12:44.878925Z"
    },
    "tags": []
   },
   "outputs": [],
   "source": [
    "spark = SparkSession.builder.appName(\"filter\").getOrCreate()"
   ]
  },
  {
   "cell_type": "code",
   "execution_count": 7,
   "id": "1c992a17-fc46-4478-bdd7-3d7dcdbcba7a",
   "metadata": {
    "execution": {
     "iopub.execute_input": "2024-04-01T21:12:50.464341Z",
     "iopub.status.busy": "2024-04-01T21:12:50.464071Z",
     "iopub.status.idle": "2024-04-01T21:12:50.467231Z",
     "shell.execute_reply": "2024-04-01T21:12:50.466861Z",
     "shell.execute_reply.started": "2024-04-01T21:12:50.464325Z"
    },
    "tags": []
   },
   "outputs": [
    {
     "name": "stdout",
     "output_type": "stream",
     "text": [
      "only crunching chromosome chr22\n"
     ]
    }
   ],
   "source": [
    "\n",
    "chromosome=\"NONE\"\n",
    "#chromosome=\"chr22\"\n",
    "\n",
    "\n",
    "if \"which_chr\" in os.environ:\n",
    "    chromosome=os.environ['which_chr']\n",
    "\n",
    "if chromosome==\"NONE\":\n",
    "    print(\"error : did not find which chromosome we are supposed to crunch\")\n",
    "    exit(-1)\n",
    "else:\n",
    "    print(\"only crunching chromosome \"+chromosome)"
   ]
  },
  {
   "cell_type": "markdown",
   "id": "277b1eb3-145f-4eb1-a13a-ca6e96f94f23",
   "metadata": {},
   "source": [
    "Load the data"
   ]
  },
  {
   "cell_type": "code",
   "execution_count": 8,
   "id": "511c3252-309b-41ac-95de-d7a6cc4f9b21",
   "metadata": {
    "execution": {
     "iopub.execute_input": "2024-04-01T21:12:52.994119Z",
     "iopub.status.busy": "2024-04-01T21:12:52.993853Z",
     "iopub.status.idle": "2024-04-01T21:12:53.359343Z",
     "shell.execute_reply": "2024-04-01T21:12:53.358896Z",
     "shell.execute_reply.started": "2024-04-01T21:12:52.994103Z"
    },
    "tags": []
   },
   "outputs": [],
   "source": [
    "#loading the extended-exon bed file\n",
    "#note we are discarding all information other than chromosome, start, & stop\n",
    "#!!note \"autosome\" : we are wholey exclusing the sex chromosomes!!\n",
    "exons = spark.read.csv(\"/home/mcn26/varef/scripts/noon_data/gencode.v44.basic.annotation.exons.splice.autosomes.v2.bed\", header=False, inferSchema=True,sep=\"\\t\").select(\n",
    "    F.col('_c0').alias('chromosome'),\n",
    "    F.col('_c1').alias('start'),\n",
    "    F.col('_c2').alias('end')\n",
    ")\n",
    "\n",
    "\n",
    "exons = exons.filter((F.col(\"chromosome\") == chromosome))"
   ]
  },
  {
   "cell_type": "code",
   "execution_count": 14,
   "id": "5f24b654-4c1b-4995-925c-d02baeccee49",
   "metadata": {
    "execution": {
     "iopub.execute_input": "2024-04-01T21:22:45.870011Z",
     "iopub.status.busy": "2024-04-01T21:22:45.869538Z",
     "iopub.status.idle": "2024-04-01T21:22:45.903824Z",
     "shell.execute_reply": "2024-04-01T21:22:45.903412Z",
     "shell.execute_reply.started": "2024-04-01T21:22:45.869993Z"
    },
    "tags": []
   },
   "outputs": [],
   "source": [
    "#variant_path=f\"/home/mcn26/varef/scripts/noon_data/1.annotate/batched/annotated_output_{chromosome}.csv/*\"\n",
    "\n",
    "#variants=spark.read.csv(variant_path, header=True, inferSchema=True)\n",
    "\n",
    "vcf_schema = T.StructType([\n",
    "    T.StructField(\"CHROM\", T.StringType(), True),\n",
    "    T.StructField(\"POS\", T.IntegerType(), True),\n",
    "    T.StructField(\"ID\", T.StringType(), True),\n",
    "    T.StructField(\"REF\", T.StringType(), True),\n",
    "    T.StructField(\"ALT\", T.StringType(), True),\n",
    "    T.StructField(\"QUAL\", T.StringType(), True),\n",
    "    T.StructField(\"FILTER\", T.StringType(), True),\n",
    "    T.StructField(\"INFO\", T.StringType(), True),\n",
    "\n",
    "])\n",
    "\n",
    "variants = spark.read \\\n",
    "    .option(\"comment\", \"#\") \\\n",
    "    .option(\"delimiter\", \"\\t\") \\\n",
    "    .schema(vcf_schema) \\\n",
    "    .csv(f\"/home/mcn26/varef/scripts/noon_data/0.merge/combined.{chromosome}.vcf.gz\", header=False)"
   ]
  },
  {
   "cell_type": "markdown",
   "id": "df468280-3584-4d80-bae3-926b6cb83b46",
   "metadata": {},
   "source": [
    "Now that we have both kinds of data, we want to compare them. Specifically, we want to drop all those variants that fall within the bed intervals (extended exons, =)\n",
    "\n",
    "Our expanded exons are in a BED file.\n",
    "BED files are 0-based\n",
    "\n",
    "Our incoming data was taken from a VCF originally\n",
    "VCF files are 1-based"
   ]
  },
  {
   "cell_type": "code",
   "execution_count": 14,
   "id": "c0ac94e4-62b2-4a40-a35a-d84237684262",
   "metadata": {
    "execution": {
     "iopub.execute_input": "2024-01-16T22:02:06.184566Z",
     "iopub.status.busy": "2024-01-16T22:02:06.184023Z",
     "iopub.status.idle": "2024-01-16T22:02:06.190624Z",
     "shell.execute_reply": "2024-01-16T22:02:06.189368Z",
     "shell.execute_reply.started": "2024-01-16T22:02:06.184515Z"
    },
    "tags": []
   },
   "outputs": [],
   "source": [
    "\"\"\"\n",
    "Chr1        T   A   C   G   T\n",
    "          | | | | | | | | | |\n",
    "1 based   | 1 | 2 | 3 | 4 | 5\n",
    "0 based   0   1   2   3   4\n",
    "\"\"\""
   ]
  },
  {
   "cell_type": "markdown",
   "id": "5abc5059-f120-44f8-bfdc-7a6357088053",
   "metadata": {},
   "source": [
    "vcf pos > start \n",
    "\n",
    "\n",
    "vcf pos <= end"
   ]
  },
  {
   "cell_type": "code",
   "execution_count": 37,
   "id": "66043116-4dfe-4bc7-9b13-39a726d3eab6",
   "metadata": {
    "execution": {
     "iopub.execute_input": "2024-01-16T23:09:16.132196Z",
     "iopub.status.busy": "2024-01-16T23:09:16.131629Z",
     "iopub.status.idle": "2024-01-16T23:09:16.206362Z",
     "shell.execute_reply": "2024-01-16T23:09:16.205099Z",
     "shell.execute_reply.started": "2024-01-16T23:09:16.132143Z"
    },
    "tags": []
   },
   "outputs": [],
   "source": [
    "#condition : overlaps with exon\n",
    "condition = (variants['POS'] > exons['start']) & \\\n",
    "            (variants['POS'] <= exons['end'])\n",
    "\n",
    "#left anti-join : \n",
    "non_exonic = variants.join(exons, condition, 'left_anti')"
   ]
  },
  {
   "cell_type": "code",
   "execution_count": 39,
   "id": "2514fb45-d599-4e66-9d04-2da0385870b9",
   "metadata": {
    "execution": {
     "iopub.execute_input": "2024-01-16T23:19:10.255358Z",
     "iopub.status.busy": "2024-01-16T23:19:10.254763Z",
     "iopub.status.idle": "2024-01-16T23:20:02.029940Z",
     "shell.execute_reply": "2024-01-16T23:20:02.007932Z",
     "shell.execute_reply.started": "2024-01-16T23:19:10.255304Z"
    },
    "tags": []
   },
   "outputs": [
    {
     "name": "stderr",
     "output_type": "stream",
     "text": [
      "ERROR:root:KeyboardInterrupt while sending command.               (9 + 4) / 700]\n",
      "Traceback (most recent call last):\n",
      "  File \"/home/mcn26/.conda/envs/mcn_vareff/lib/python3.10/site-packages/py4j/java_gateway.py\", line 1038, in send_command\n",
      "    response = connection.send_command(command)\n",
      "  File \"/home/mcn26/.conda/envs/mcn_vareff/lib/python3.10/site-packages/py4j/clientserver.py\", line 511, in send_command\n",
      "    answer = smart_decode(self.stream.readline()[:-1])\n",
      "  File \"/home/mcn26/.conda/envs/mcn_vareff/lib/python3.10/socket.py\", line 705, in readinto\n",
      "    return self._sock.recv_into(b)\n",
      "KeyboardInterrupt\n"
     ]
    },
    {
     "ename": "KeyboardInterrupt",
     "evalue": "",
     "output_type": "error",
     "traceback": [
      "\u001b[0;31m---------------------------------------------------------------------------\u001b[0m",
      "\u001b[0;31mKeyboardInterrupt\u001b[0m                         Traceback (most recent call last)",
      "Cell \u001b[0;32mIn[39], line 1\u001b[0m\n\u001b[0;32m----> 1\u001b[0m \u001b[43mnon_exonic\u001b[49m\u001b[38;5;241;43m.\u001b[39;49m\u001b[43mwrite\u001b[49m\u001b[38;5;241;43m.\u001b[39;49m\u001b[43mcsv\u001b[49m\u001b[43m(\u001b[49m\u001b[38;5;124;43mf\u001b[39;49m\u001b[38;5;124;43m\"\u001b[39;49m\u001b[38;5;124;43m/home/mcn26/varef/scripts/noon_data/2.filter/filtered_output_\u001b[39;49m\u001b[38;5;132;43;01m{\u001b[39;49;00m\u001b[43mchromosome\u001b[49m\u001b[38;5;132;43;01m}\u001b[39;49;00m\u001b[38;5;124;43m.csv\u001b[39;49m\u001b[38;5;124;43m\"\u001b[39;49m\u001b[43m,\u001b[49m\u001b[43m \u001b[49m\u001b[43mheader\u001b[49m\u001b[38;5;241;43m=\u001b[39;49m\u001b[38;5;28;43;01mTrue\u001b[39;49;00m\u001b[43m,\u001b[49m\u001b[43m \u001b[49m\u001b[43mmode\u001b[49m\u001b[38;5;241;43m=\u001b[39;49m\u001b[38;5;124;43m\"\u001b[39;49m\u001b[38;5;124;43moverwrite\u001b[39;49m\u001b[38;5;124;43m\"\u001b[39;49m\u001b[43m)\u001b[49m\n",
      "File \u001b[0;32m~/.conda/envs/mcn_vareff/lib/python3.10/site-packages/pyspark/sql/readwriter.py:1864\u001b[0m, in \u001b[0;36mDataFrameWriter.csv\u001b[0;34m(self, path, mode, compression, sep, quote, escape, header, nullValue, escapeQuotes, quoteAll, dateFormat, timestampFormat, ignoreLeadingWhiteSpace, ignoreTrailingWhiteSpace, charToEscapeQuoteEscaping, encoding, emptyValue, lineSep)\u001b[0m\n\u001b[1;32m   1845\u001b[0m \u001b[38;5;28mself\u001b[39m\u001b[38;5;241m.\u001b[39mmode(mode)\n\u001b[1;32m   1846\u001b[0m \u001b[38;5;28mself\u001b[39m\u001b[38;5;241m.\u001b[39m_set_opts(\n\u001b[1;32m   1847\u001b[0m     compression\u001b[38;5;241m=\u001b[39mcompression,\n\u001b[1;32m   1848\u001b[0m     sep\u001b[38;5;241m=\u001b[39msep,\n\u001b[0;32m   (...)\u001b[0m\n\u001b[1;32m   1862\u001b[0m     lineSep\u001b[38;5;241m=\u001b[39mlineSep,\n\u001b[1;32m   1863\u001b[0m )\n\u001b[0;32m-> 1864\u001b[0m \u001b[38;5;28;43mself\u001b[39;49m\u001b[38;5;241;43m.\u001b[39;49m\u001b[43m_jwrite\u001b[49m\u001b[38;5;241;43m.\u001b[39;49m\u001b[43mcsv\u001b[49m\u001b[43m(\u001b[49m\u001b[43mpath\u001b[49m\u001b[43m)\u001b[49m\n",
      "File \u001b[0;32m~/.conda/envs/mcn_vareff/lib/python3.10/site-packages/py4j/java_gateway.py:1321\u001b[0m, in \u001b[0;36mJavaMember.__call__\u001b[0;34m(self, *args)\u001b[0m\n\u001b[1;32m   1314\u001b[0m args_command, temp_args \u001b[38;5;241m=\u001b[39m \u001b[38;5;28mself\u001b[39m\u001b[38;5;241m.\u001b[39m_build_args(\u001b[38;5;241m*\u001b[39margs)\n\u001b[1;32m   1316\u001b[0m command \u001b[38;5;241m=\u001b[39m proto\u001b[38;5;241m.\u001b[39mCALL_COMMAND_NAME \u001b[38;5;241m+\u001b[39m\\\n\u001b[1;32m   1317\u001b[0m     \u001b[38;5;28mself\u001b[39m\u001b[38;5;241m.\u001b[39mcommand_header \u001b[38;5;241m+\u001b[39m\\\n\u001b[1;32m   1318\u001b[0m     args_command \u001b[38;5;241m+\u001b[39m\\\n\u001b[1;32m   1319\u001b[0m     proto\u001b[38;5;241m.\u001b[39mEND_COMMAND_PART\n\u001b[0;32m-> 1321\u001b[0m answer \u001b[38;5;241m=\u001b[39m \u001b[38;5;28;43mself\u001b[39;49m\u001b[38;5;241;43m.\u001b[39;49m\u001b[43mgateway_client\u001b[49m\u001b[38;5;241;43m.\u001b[39;49m\u001b[43msend_command\u001b[49m\u001b[43m(\u001b[49m\u001b[43mcommand\u001b[49m\u001b[43m)\u001b[49m\n\u001b[1;32m   1322\u001b[0m return_value \u001b[38;5;241m=\u001b[39m get_return_value(\n\u001b[1;32m   1323\u001b[0m     answer, \u001b[38;5;28mself\u001b[39m\u001b[38;5;241m.\u001b[39mgateway_client, \u001b[38;5;28mself\u001b[39m\u001b[38;5;241m.\u001b[39mtarget_id, \u001b[38;5;28mself\u001b[39m\u001b[38;5;241m.\u001b[39mname)\n\u001b[1;32m   1325\u001b[0m \u001b[38;5;28;01mfor\u001b[39;00m temp_arg \u001b[38;5;129;01min\u001b[39;00m temp_args:\n",
      "File \u001b[0;32m~/.conda/envs/mcn_vareff/lib/python3.10/site-packages/py4j/java_gateway.py:1038\u001b[0m, in \u001b[0;36mGatewayClient.send_command\u001b[0;34m(self, command, retry, binary)\u001b[0m\n\u001b[1;32m   1036\u001b[0m connection \u001b[38;5;241m=\u001b[39m \u001b[38;5;28mself\u001b[39m\u001b[38;5;241m.\u001b[39m_get_connection()\n\u001b[1;32m   1037\u001b[0m \u001b[38;5;28;01mtry\u001b[39;00m:\n\u001b[0;32m-> 1038\u001b[0m     response \u001b[38;5;241m=\u001b[39m \u001b[43mconnection\u001b[49m\u001b[38;5;241;43m.\u001b[39;49m\u001b[43msend_command\u001b[49m\u001b[43m(\u001b[49m\u001b[43mcommand\u001b[49m\u001b[43m)\u001b[49m\n\u001b[1;32m   1039\u001b[0m     \u001b[38;5;28;01mif\u001b[39;00m binary:\n\u001b[1;32m   1040\u001b[0m         \u001b[38;5;28;01mreturn\u001b[39;00m response, \u001b[38;5;28mself\u001b[39m\u001b[38;5;241m.\u001b[39m_create_connection_guard(connection)\n",
      "File \u001b[0;32m~/.conda/envs/mcn_vareff/lib/python3.10/site-packages/py4j/clientserver.py:511\u001b[0m, in \u001b[0;36mClientServerConnection.send_command\u001b[0;34m(self, command)\u001b[0m\n\u001b[1;32m    509\u001b[0m \u001b[38;5;28;01mtry\u001b[39;00m:\n\u001b[1;32m    510\u001b[0m     \u001b[38;5;28;01mwhile\u001b[39;00m \u001b[38;5;28;01mTrue\u001b[39;00m:\n\u001b[0;32m--> 511\u001b[0m         answer \u001b[38;5;241m=\u001b[39m smart_decode(\u001b[38;5;28;43mself\u001b[39;49m\u001b[38;5;241;43m.\u001b[39;49m\u001b[43mstream\u001b[49m\u001b[38;5;241;43m.\u001b[39;49m\u001b[43mreadline\u001b[49m\u001b[43m(\u001b[49m\u001b[43m)\u001b[49m[:\u001b[38;5;241m-\u001b[39m\u001b[38;5;241m1\u001b[39m])\n\u001b[1;32m    512\u001b[0m         logger\u001b[38;5;241m.\u001b[39mdebug(\u001b[38;5;124m\"\u001b[39m\u001b[38;5;124mAnswer received: \u001b[39m\u001b[38;5;132;01m{0}\u001b[39;00m\u001b[38;5;124m\"\u001b[39m\u001b[38;5;241m.\u001b[39mformat(answer))\n\u001b[1;32m    513\u001b[0m         \u001b[38;5;66;03m# Happens when a the other end is dead. There might be an empty\u001b[39;00m\n\u001b[1;32m    514\u001b[0m         \u001b[38;5;66;03m# answer before the socket raises an error.\u001b[39;00m\n",
      "File \u001b[0;32m~/.conda/envs/mcn_vareff/lib/python3.10/socket.py:705\u001b[0m, in \u001b[0;36mSocketIO.readinto\u001b[0;34m(self, b)\u001b[0m\n\u001b[1;32m    703\u001b[0m \u001b[38;5;28;01mwhile\u001b[39;00m \u001b[38;5;28;01mTrue\u001b[39;00m:\n\u001b[1;32m    704\u001b[0m     \u001b[38;5;28;01mtry\u001b[39;00m:\n\u001b[0;32m--> 705\u001b[0m         \u001b[38;5;28;01mreturn\u001b[39;00m \u001b[38;5;28;43mself\u001b[39;49m\u001b[38;5;241;43m.\u001b[39;49m\u001b[43m_sock\u001b[49m\u001b[38;5;241;43m.\u001b[39;49m\u001b[43mrecv_into\u001b[49m\u001b[43m(\u001b[49m\u001b[43mb\u001b[49m\u001b[43m)\u001b[49m\n\u001b[1;32m    706\u001b[0m     \u001b[38;5;28;01mexcept\u001b[39;00m timeout:\n\u001b[1;32m    707\u001b[0m         \u001b[38;5;28mself\u001b[39m\u001b[38;5;241m.\u001b[39m_timeout_occurred \u001b[38;5;241m=\u001b[39m \u001b[38;5;28;01mTrue\u001b[39;00m\n",
      "\u001b[0;31mKeyboardInterrupt\u001b[0m: "
     ]
    },
    {
     "name": "stderr",
     "output_type": "stream",
     "text": [
      "[Stage 26:>                                                      (12 + 4) / 700]\r"
     ]
    }
   ],
   "source": [
    "non_exonic.write.option(\"codec\", \"org.apache.hadoop.io.compress.GzipCodec\") \\\n",
    "    .option(\"delimiter\", \"\\t\") \\\n",
    "    .csv(f\"/home/mcn26/varef/scripts/noon_data/1.0.filter/filtered_output_{chromosome}.csv\", header=True, mode=\"overwrite\")"
   ]
  }
 ],
 "metadata": {
  "kernelspec": {
   "display_name": "Python 3 (ipykernel)",
   "language": "python",
   "name": "python3"
  },
  "language_info": {
   "codemirror_mode": {
    "name": "ipython",
    "version": 3
   },
   "file_extension": ".py",
   "mimetype": "text/x-python",
   "name": "python",
   "nbconvert_exporter": "python",
   "pygments_lexer": "ipython3",
   "version": "3.10.12"
  }
 },
 "nbformat": 4,
 "nbformat_minor": 5
}
