{
 "cells": [
  {
   "cell_type": "markdown",
   "id": "e5941730-7061-4b4f-bf36-4615d23f1d2e",
   "metadata": {},
   "source": [
    "We will generate a number of count tables, described in sections below. \n",
    "\n",
    "## import "
   ]
  },
  {
   "cell_type": "code",
   "execution_count": 1,
   "id": "e0363d27-c5f7-4925-aa1f-e911f503be57",
   "metadata": {
    "execution": {
     "iopub.execute_input": "2023-12-21T00:34:04.181392Z",
     "iopub.status.busy": "2023-12-21T00:34:04.181048Z",
     "iopub.status.idle": "2023-12-21T00:34:04.627187Z",
     "shell.execute_reply": "2023-12-21T00:34:04.626539Z",
     "shell.execute_reply.started": "2023-12-21T00:34:04.181344Z"
    },
    "tags": []
   },
   "outputs": [],
   "source": [
    "from pyspark import SparkConf, SparkContext\n",
    "from pyspark.sql import SparkSession\n",
    "from pyspark.sql import Row\n",
    "from pyspark.sql import functions as F\n",
    "import pyspark.sql.types as T\n",
    "import pickle"
   ]
  },
  {
   "cell_type": "markdown",
   "id": "67873089-a7f3-4ccf-8403-8a2413d84479",
   "metadata": {},
   "source": [
    "## create a spark session"
   ]
  },
  {
   "cell_type": "code",
   "execution_count": 2,
   "id": "7f220458-459e-4603-834f-9ee2fb2598cb",
   "metadata": {
    "execution": {
     "iopub.execute_input": "2023-12-21T00:34:05.478818Z",
     "iopub.status.busy": "2023-12-21T00:34:05.478465Z",
     "iopub.status.idle": "2023-12-21T00:34:12.748472Z",
     "shell.execute_reply": "2023-12-21T00:34:12.747713Z",
     "shell.execute_reply.started": "2023-12-21T00:34:05.478789Z"
    },
    "tags": []
   },
   "outputs": [
    {
     "name": "stderr",
     "output_type": "stream",
     "text": [
      "Setting default log level to \"WARN\".\n",
      "To adjust logging level use sc.setLogLevel(newLevel). For SparkR, use setLogLevel(newLevel).\n",
      "23/12/20 19:34:10 WARN NativeCodeLoader: Unable to load native-hadoop library for your platform... using builtin-java classes where applicable\n"
     ]
    }
   ],
   "source": [
    "conf = SparkConf() \\\n",
    "    .setAppName(\"Count\")\\\n",
    "\n",
    "# Create a SparkContext with the specified configurations\n",
    "if 'spark' in locals() and spark!=None:\n",
    "    spark.stop()\n",
    "\n",
    "sc = SparkContext(conf=conf)\n",
    "\n",
    "# Create a SparkSession from the SparkContext\n",
    "spark = SparkSession(sc)"
   ]
  },
  {
   "cell_type": "markdown",
   "id": "528fcdbc-c7e1-467f-ad0a-c299ce85cda4",
   "metadata": {},
   "source": [
    "## Load in gnomad variants annotated in the last script"
   ]
  },
  {
   "cell_type": "code",
   "execution_count": 66,
   "id": "2c0c646e-25e9-4d80-901f-f33e83cc7f26",
   "metadata": {
    "execution": {
     "iopub.execute_input": "2023-12-21T01:36:31.986455Z",
     "iopub.status.busy": "2023-12-21T01:36:31.986106Z",
     "iopub.status.idle": "2023-12-21T01:36:33.152192Z",
     "shell.execute_reply": "2023-12-21T01:36:33.151421Z",
     "shell.execute_reply.started": "2023-12-21T01:36:31.986425Z"
    },
    "tags": []
   },
   "outputs": [],
   "source": [
    "df = spark.read \\\n",
    "    .option(\"comment\", \"#\") \\\n",
    "    .option(\"delimiter\", \",\") \\\n",
    "    .csv(\"/gpfs/gibbs/pi/reilly/VariantEffects/scripts/noon_data/1.annotate/chr22_annotated_output.csv/*.csv\", header=True)"
   ]
  },
  {
   "cell_type": "markdown",
   "id": "0821e580-d5eb-43ab-960a-5ded4f2fca68",
   "metadata": {},
   "source": [
    "## cast columns to the appropriate types & Drop columns rows with null values. \n",
    "\n",
    "Dropping isn't strictly necessary. We could, for example, only drop those rows with null malinouis skew when computing malinouis-skew-based metrics, drop rows with no phyloP scores when computing phyloP-based metrics, etc etc. However, this would result in different sets of variants summarized by each graph, which could create biases : if, for example, PhyloP scores are annotated for a nonrandom set of variants. Therefore I will drop rows with null data in any relevant columns prior to subsequent analysis. "
   ]
  },
  {
   "cell_type": "code",
   "execution_count": 67,
   "id": "38dd9f2e-712c-4e74-9a01-3969e82de5c4",
   "metadata": {
    "execution": {
     "iopub.execute_input": "2023-12-21T01:36:33.153548Z",
     "iopub.status.busy": "2023-12-21T01:36:33.153303Z",
     "iopub.status.idle": "2023-12-21T01:36:33.158835Z",
     "shell.execute_reply": "2023-12-21T01:36:33.158279Z",
     "shell.execute_reply.started": "2023-12-21T01:36:33.153525Z"
    },
    "tags": []
   },
   "outputs": [],
   "source": [
    "int_columns=[\"POS\",\"AC\",\"AN\"]\n",
    "float_columns=[\"AF\",\"K562__ref\",\"HepG2__ref\",\"SKNSH__ref\",\"K562__alt\",\"HepG2__alt\",\"SKNSH__alt\",\"K562__skew\",\"HepG2__skew\",\"SKNSH__skew\",\"cadd_phred\",\"P_ANNO\",\"mean_ref\",\"mean_skew\",\"MAF\"]\n",
    "cre_bool_columns=[]\n",
    "for column in df.columns:\n",
    "    if column.startswith(\"is_in\"):\n",
    "        cre_bool_columns.append(column)"
   ]
  },
  {
   "cell_type": "code",
   "execution_count": 68,
   "id": "a45c37d0-2acf-40bf-9fa1-f8dd94a74e5e",
   "metadata": {
    "execution": {
     "iopub.execute_input": "2023-12-21T01:36:34.210027Z",
     "iopub.status.busy": "2023-12-21T01:36:34.209705Z",
     "iopub.status.idle": "2023-12-21T01:36:34.224222Z",
     "shell.execute_reply": "2023-12-21T01:36:34.223523Z",
     "shell.execute_reply.started": "2023-12-21T01:36:34.209998Z"
    },
    "tags": []
   },
   "outputs": [],
   "source": [
    "df = df.dropna()#subset=[\"CHROM\",\"POS\",\"cadd_phred\",\"P_ANNO\",\"mean_ref\",\"mean_skew\",\"category\"]+cre_bool_columns"
   ]
  },
  {
   "cell_type": "code",
   "execution_count": 69,
   "id": "8360f33b-bd5b-4c4f-a881-5f19b5f60c6a",
   "metadata": {
    "execution": {
     "iopub.execute_input": "2023-12-21T01:36:35.218733Z",
     "iopub.status.busy": "2023-12-21T01:36:35.218463Z",
     "iopub.status.idle": "2023-12-21T01:36:35.460190Z",
     "shell.execute_reply": "2023-12-21T01:36:35.459529Z",
     "shell.execute_reply.started": "2023-12-21T01:36:35.218705Z"
    },
    "tags": []
   },
   "outputs": [],
   "source": [
    "\n",
    "for column in int_columns:\n",
    "    df = df.withColumn(column, F.col(column).cast(T.IntegerType()))\n",
    "\n",
    "for column in float_columns:\n",
    "    df = df.withColumn(column, F.col(column).cast(T.FloatType()))\n",
    "\n",
    "for column in cre_bool_columns:\n",
    "    df = df.withColumn(column, F.col(column).cast(T.BooleanType()))\n",
    "\n",
    "df_cre=df"
   ]
  },
  {
   "cell_type": "markdown",
   "id": "25577eb5-ad89-4016-9173-2799eb0525c6",
   "metadata": {},
   "source": [
    "# compute count tables\n",
    "\n",
    "All count tables will be broken down by each of the CRE types. "
   ]
  },
  {
   "cell_type": "markdown",
   "id": "42d08700-293b-4e32-8df0-485e291a1043",
   "metadata": {},
   "source": [
    "## PhyloP vs rarity\n",
    "- add column : \"significant\"/\"not significant\" : threshold is 2.27\n",
    "- count table of significance VS category\n",
    "- dump to disc"
   ]
  },
  {
   "cell_type": "code",
   "execution_count": 70,
   "id": "faadf1dc-21d2-4462-81d8-bb5405a49aad",
   "metadata": {
    "execution": {
     "iopub.execute_input": "2023-12-21T01:36:38.967276Z",
     "iopub.status.busy": "2023-12-21T01:36:38.966929Z",
     "iopub.status.idle": "2023-12-21T01:37:21.080293Z",
     "shell.execute_reply": "2023-12-21T01:37:21.079669Z",
     "shell.execute_reply.started": "2023-12-21T01:36:38.967246Z"
    },
    "tags": []
   },
   "outputs": [
    {
     "name": "stderr",
     "output_type": "stream",
     "text": [
      "                                                                                \r"
     ]
    }
   ],
   "source": [
    "df_phylop_significant=df_cre.withColumn(\"phylop_significant\",F.col(\"P_ANNO\")>=2.27)\n",
    "\n",
    "phylop_count_table = df_phylop_significant.groupBy([\"category\",\"phylop_significant\"]+cre_bool_columns).count()\n",
    "\n",
    "data_base_path=\"/home/mcn26/varef/scripts/noon_data/2.count/\"\n",
    "\n",
    "phylop_count_table.coalesce(1).write.csv(data_base_path+\"phylop_count_table\", mode=\"overwrite\", header=True)"
   ]
  },
  {
   "cell_type": "code",
   "execution_count": 71,
   "id": "46b8364a-69a8-481c-bbc2-43ae250f6371",
   "metadata": {
    "execution": {
     "iopub.execute_input": "2023-12-21T01:37:21.081443Z",
     "iopub.status.busy": "2023-12-21T01:37:21.081242Z",
     "iopub.status.idle": "2023-12-21T01:38:00.622308Z",
     "shell.execute_reply": "2023-12-21T01:38:00.621717Z",
     "shell.execute_reply.started": "2023-12-21T01:37:21.081421Z"
    },
    "tags": []
   },
   "outputs": [
    {
     "name": "stderr",
     "output_type": "stream",
     "text": [
      "                                                                                \r"
     ]
    },
    {
     "data": {
      "text/html": [
       "<div>\n",
       "<style scoped>\n",
       "    .dataframe tbody tr th:only-of-type {\n",
       "        vertical-align: middle;\n",
       "    }\n",
       "\n",
       "    .dataframe tbody tr th {\n",
       "        vertical-align: top;\n",
       "    }\n",
       "\n",
       "    .dataframe thead th {\n",
       "        text-align: right;\n",
       "    }\n",
       "</style>\n",
       "<table border=\"1\" class=\"dataframe\">\n",
       "  <thead>\n",
       "    <tr style=\"text-align: right;\">\n",
       "      <th></th>\n",
       "      <th>category</th>\n",
       "      <th>phylop_significant</th>\n",
       "      <th>is_in_dELS</th>\n",
       "      <th>is_in_CA</th>\n",
       "      <th>is_in_pELS</th>\n",
       "      <th>is_in_CA-H3K4me3</th>\n",
       "      <th>is_in_CA-CTCF</th>\n",
       "      <th>is_in_PLS</th>\n",
       "      <th>is_in_TF</th>\n",
       "      <th>is_in_CA-TF</th>\n",
       "      <th>count</th>\n",
       "    </tr>\n",
       "  </thead>\n",
       "  <tbody>\n",
       "    <tr>\n",
       "      <th>0</th>\n",
       "      <td>ULTRARARE</td>\n",
       "      <td>False</td>\n",
       "      <td>True</td>\n",
       "      <td>False</td>\n",
       "      <td>False</td>\n",
       "      <td>False</td>\n",
       "      <td>False</td>\n",
       "      <td>False</td>\n",
       "      <td>False</td>\n",
       "      <td>False</td>\n",
       "      <td>563773</td>\n",
       "    </tr>\n",
       "    <tr>\n",
       "      <th>1</th>\n",
       "      <td>RARE</td>\n",
       "      <td>False</td>\n",
       "      <td>True</td>\n",
       "      <td>False</td>\n",
       "      <td>False</td>\n",
       "      <td>False</td>\n",
       "      <td>False</td>\n",
       "      <td>False</td>\n",
       "      <td>False</td>\n",
       "      <td>False</td>\n",
       "      <td>98414</td>\n",
       "    </tr>\n",
       "    <tr>\n",
       "      <th>2</th>\n",
       "      <td>LOW_FREQ</td>\n",
       "      <td>True</td>\n",
       "      <td>False</td>\n",
       "      <td>False</td>\n",
       "      <td>True</td>\n",
       "      <td>False</td>\n",
       "      <td>False</td>\n",
       "      <td>False</td>\n",
       "      <td>False</td>\n",
       "      <td>False</td>\n",
       "      <td>606</td>\n",
       "    </tr>\n",
       "    <tr>\n",
       "      <th>3</th>\n",
       "      <td>SINGLETON</td>\n",
       "      <td>True</td>\n",
       "      <td>False</td>\n",
       "      <td>False</td>\n",
       "      <td>False</td>\n",
       "      <td>False</td>\n",
       "      <td>False</td>\n",
       "      <td>False</td>\n",
       "      <td>False</td>\n",
       "      <td>True</td>\n",
       "      <td>403</td>\n",
       "    </tr>\n",
       "    <tr>\n",
       "      <th>4</th>\n",
       "      <td>RARE</td>\n",
       "      <td>False</td>\n",
       "      <td>False</td>\n",
       "      <td>False</td>\n",
       "      <td>False</td>\n",
       "      <td>False</td>\n",
       "      <td>False</td>\n",
       "      <td>False</td>\n",
       "      <td>False</td>\n",
       "      <td>True</td>\n",
       "      <td>1365</td>\n",
       "    </tr>\n",
       "    <tr>\n",
       "      <th>...</th>\n",
       "      <td>...</td>\n",
       "      <td>...</td>\n",
       "      <td>...</td>\n",
       "      <td>...</td>\n",
       "      <td>...</td>\n",
       "      <td>...</td>\n",
       "      <td>...</td>\n",
       "      <td>...</td>\n",
       "      <td>...</td>\n",
       "      <td>...</td>\n",
       "      <td>...</td>\n",
       "    </tr>\n",
       "    <tr>\n",
       "      <th>93</th>\n",
       "      <td>MAF_OR_AC_IS_ZERO</td>\n",
       "      <td>False</td>\n",
       "      <td>False</td>\n",
       "      <td>True</td>\n",
       "      <td>False</td>\n",
       "      <td>False</td>\n",
       "      <td>False</td>\n",
       "      <td>False</td>\n",
       "      <td>False</td>\n",
       "      <td>False</td>\n",
       "      <td>3</td>\n",
       "    </tr>\n",
       "    <tr>\n",
       "      <th>94</th>\n",
       "      <td>MAF_OR_AC_IS_ZERO</td>\n",
       "      <td>False</td>\n",
       "      <td>False</td>\n",
       "      <td>False</td>\n",
       "      <td>False</td>\n",
       "      <td>False</td>\n",
       "      <td>True</td>\n",
       "      <td>False</td>\n",
       "      <td>False</td>\n",
       "      <td>False</td>\n",
       "      <td>2</td>\n",
       "    </tr>\n",
       "    <tr>\n",
       "      <th>95</th>\n",
       "      <td>MAF_OR_AC_IS_ZERO</td>\n",
       "      <td>False</td>\n",
       "      <td>False</td>\n",
       "      <td>False</td>\n",
       "      <td>False</td>\n",
       "      <td>False</td>\n",
       "      <td>False</td>\n",
       "      <td>False</td>\n",
       "      <td>True</td>\n",
       "      <td>False</td>\n",
       "      <td>6</td>\n",
       "    </tr>\n",
       "    <tr>\n",
       "      <th>96</th>\n",
       "      <td>MAF_OR_AC_IS_ZERO</td>\n",
       "      <td>False</td>\n",
       "      <td>False</td>\n",
       "      <td>False</td>\n",
       "      <td>False</td>\n",
       "      <td>False</td>\n",
       "      <td>False</td>\n",
       "      <td>True</td>\n",
       "      <td>False</td>\n",
       "      <td>False</td>\n",
       "      <td>3</td>\n",
       "    </tr>\n",
       "    <tr>\n",
       "      <th>97</th>\n",
       "      <td>MAF_OR_AC_IS_ZERO</td>\n",
       "      <td>False</td>\n",
       "      <td>False</td>\n",
       "      <td>False</td>\n",
       "      <td>False</td>\n",
       "      <td>False</td>\n",
       "      <td>False</td>\n",
       "      <td>False</td>\n",
       "      <td>False</td>\n",
       "      <td>True</td>\n",
       "      <td>2</td>\n",
       "    </tr>\n",
       "  </tbody>\n",
       "</table>\n",
       "<p>98 rows × 11 columns</p>\n",
       "</div>"
      ],
      "text/plain": [
       "             category  phylop_significant  is_in_dELS  is_in_CA  is_in_pELS  \\\n",
       "0           ULTRARARE               False        True     False       False   \n",
       "1                RARE               False        True     False       False   \n",
       "2            LOW_FREQ                True       False     False        True   \n",
       "3           SINGLETON                True       False     False       False   \n",
       "4                RARE               False       False     False       False   \n",
       "..                ...                 ...         ...       ...         ...   \n",
       "93  MAF_OR_AC_IS_ZERO               False       False      True       False   \n",
       "94  MAF_OR_AC_IS_ZERO               False       False     False       False   \n",
       "95  MAF_OR_AC_IS_ZERO               False       False     False       False   \n",
       "96  MAF_OR_AC_IS_ZERO               False       False     False       False   \n",
       "97  MAF_OR_AC_IS_ZERO               False       False     False       False   \n",
       "\n",
       "    is_in_CA-H3K4me3  is_in_CA-CTCF  is_in_PLS  is_in_TF  is_in_CA-TF   count  \n",
       "0              False          False      False     False        False  563773  \n",
       "1              False          False      False     False        False   98414  \n",
       "2              False          False      False     False        False     606  \n",
       "3              False          False      False     False         True     403  \n",
       "4              False          False      False     False         True    1365  \n",
       "..               ...            ...        ...       ...          ...     ...  \n",
       "93             False          False      False     False        False       3  \n",
       "94             False           True      False     False        False       2  \n",
       "95             False          False      False      True        False       6  \n",
       "96             False          False       True     False        False       3  \n",
       "97             False          False      False     False         True       2  \n",
       "\n",
       "[98 rows x 11 columns]"
      ]
     },
     "execution_count": 71,
     "metadata": {},
     "output_type": "execute_result"
    }
   ],
   "source": [
    "phylop_count_table.toPandas()"
   ]
  },
  {
   "cell_type": "markdown",
   "id": "41ca765b-01fa-4e47-856d-a68fa5bc8e02",
   "metadata": {
    "tags": []
   },
   "source": [
    "## CADD vs rarity\n",
    "Similar approach to phylop above,\n",
    "\n",
    "Cutoffs are \n",
    "- All\n",
    "- score≥10\n",
    "- score≥20\n",
    "- score≥30\n",
    "- score≥40\n",
    "- score≥50"
   ]
  },
  {
   "cell_type": "code",
   "execution_count": 72,
   "id": "ee94e665-9e46-4c8c-a515-6eeb66820784",
   "metadata": {
    "execution": {
     "iopub.execute_input": "2023-12-21T01:38:00.623154Z",
     "iopub.status.busy": "2023-12-21T01:38:00.622943Z",
     "iopub.status.idle": "2023-12-21T01:38:41.095972Z",
     "shell.execute_reply": "2023-12-21T01:38:41.095405Z",
     "shell.execute_reply.started": "2023-12-21T01:38:00.623131Z"
    },
    "tags": []
   },
   "outputs": [
    {
     "name": "stderr",
     "output_type": "stream",
     "text": [
      "                                                                                \r"
     ]
    }
   ],
   "source": [
    "df_cadd_cutoff=df_cre.withColumn(\n",
    "    \"CADD>=10\",F.col(\"cadd_phred\")>=10\n",
    ").withColumn(\n",
    "    \"CADD>=20\",F.col(\"cadd_phred\")>=20\n",
    ").withColumn(\n",
    "    \"CADD>=30\",F.col(\"cadd_phred\")>=30\n",
    ").withColumn(\n",
    "    \"CADD>=40\",F.col(\"cadd_phred\")>=40\n",
    ").withColumn(\n",
    "    \"CADD>=50\",F.col(\"cadd_phred\")>=50\n",
    ")\n",
    "\n",
    "cadd_columns=[\"CADD>=10\",\"CADD>=20\",\"CADD>=30\",\"CADD>=40\",\"CADD>=50\"]\n",
    "\n",
    "with open(\"cadd_columns.pkl\",'wb') as file:\n",
    "    pickle.dump(cadd_columns,file)\n",
    "\n",
    "cadd_count_table = df_cadd_cutoff.groupBy([\"category\"]+cadd_columns+cre_bool_columns).count()\n",
    "\n",
    "data_base_path=\"/home/mcn26/varef/scripts/noon_data/2.count/\"\n",
    "\n",
    "cadd_count_table.coalesce(1).write.csv(data_base_path+\"CADD_count_table\", mode=\"overwrite\", header=True)"
   ]
  },
  {
   "cell_type": "markdown",
   "id": "4366ea82-a106-4a74-8d90-f99c58c25a1c",
   "metadata": {},
   "source": [
    "## malinouis : reference activity & skew vs rarity\n",
    "\n",
    "First, compute min and max of skew, reference activity.\n",
    "\n",
    "While this does require aggregation of the entire dataset, min & max specifically ought to be fairly inexpensive to compute.\n",
    "\n",
    "This will only be performed during initial testing, then values will be recorded & made into constants. "
   ]
  },
  {
   "cell_type": "code",
   "execution_count": 73,
   "id": "fd4da7b3-7517-4dc2-b9b9-f66babb8dd02",
   "metadata": {
    "execution": {
     "iopub.execute_input": "2023-12-21T01:38:41.097404Z",
     "iopub.status.busy": "2023-12-21T01:38:41.097201Z",
     "iopub.status.idle": "2023-12-21T01:38:41.121113Z",
     "shell.execute_reply": "2023-12-21T01:38:41.120448Z",
     "shell.execute_reply.started": "2023-12-21T01:38:41.097382Z"
    },
    "tags": []
   },
   "outputs": [],
   "source": [
    "## add a mean_alt column\n",
    "df_cre=df_cre.withColumn(\"mean_alt\", (F.col(\"K562__alt\") + F.col(\"HepG2__alt\") + F.col(\"SKNSH__alt\")) / 3)"
   ]
  },
  {
   "cell_type": "markdown",
   "id": "ad6a4839-f5e1-4d9c-9c5b-c6a89dea4fbd",
   "metadata": {},
   "source": [
    "### helper functions"
   ]
  },
  {
   "cell_type": "code",
   "execution_count": 74,
   "id": "d6b4a270-6ed5-4469-b4b7-85e414d3375a",
   "metadata": {
    "execution": {
     "iopub.execute_input": "2023-12-21T01:38:41.122036Z",
     "iopub.status.busy": "2023-12-21T01:38:41.121839Z",
     "iopub.status.idle": "2023-12-21T01:38:41.140839Z",
     "shell.execute_reply": "2023-12-21T01:38:41.140295Z",
     "shell.execute_reply.started": "2023-12-21T01:38:41.122014Z"
    },
    "tags": []
   },
   "outputs": [],
   "source": [
    "def get_column_names(var):\n",
    "    final_names=[]\n",
    "    for sub in var:\n",
    "        final_names.append(sub[0])\n",
    "    return final_names\n",
    "\n",
    "def dump_cutoff_names_to_disc(var,name):\n",
    "    #so we don't have to hard-code the names in multiple files. \n",
    "    with open(name+'.pkl', 'wb') as file:\n",
    "        final_names=get_column_names(var)\n",
    "        pickle.dump(final_names, file)\n",
    "\n",
    "#(-Inf,1), [1,2), [2,4), [4,6), [6,Inf) (note first bin we would call as not active)\n",
    "def make_cutoff(name):\n",
    "    return [\n",
    "        [name+\"_(-Inf,0)\",(F.col(name)<0)],\n",
    "        [name+\"_[0,2)\",(F.col(name)>=0)&(F.col(name)<2)],\n",
    "        [name+\"_[2,4)\",(F.col(name)>=2)&(F.col(name)<4)],\n",
    "        [name+\"_[4,6)\",(F.col(name)>=4)&(F.col(name)<6)],\n",
    "        [name+\"_(6,Inf)\",(F.col(name)>6)],\n",
    "        \n",
    "    ]\n",
    "\n",
    "def apply_cutoffs(df,cutoffs):\n",
    "    df_working=df\n",
    "    for name,cutoff_condition in cutoffs:\n",
    "        df_working=df_working.withColumn(name,cutoff_condition)\n",
    "    return df_working"
   ]
  },
  {
   "cell_type": "code",
   "execution_count": 75,
   "id": "e7f845cf-1532-4517-9681-ebc60da5964f",
   "metadata": {
    "execution": {
     "iopub.execute_input": "2023-12-21T01:38:41.141739Z",
     "iopub.status.busy": "2023-12-21T01:38:41.141546Z",
     "iopub.status.idle": "2023-12-21T01:38:41.177961Z",
     "shell.execute_reply": "2023-12-21T01:38:41.177379Z",
     "shell.execute_reply.started": "2023-12-21T01:38:41.141717Z"
    },
    "tags": []
   },
   "outputs": [],
   "source": [
    "skew_cutoffs = []\n",
    "start_int = -4  # Representing -0.8 (as -4 * 0.2)\n",
    "end_int = 3     # Representing > 0.6 (as 3 * 0.2)\n",
    "step_int = 1    # Step of 0.2 (as 1 * 0.2)\n",
    "\n",
    "# Bin for < -0.8\n",
    "skew_cutoffs.append([\"mean_skew_(-Inf, -0.8)\", (F.col(\"mean_skew\") < -0.8)])\n",
    "\n",
    "# Bins from -0.8 to 0.6\n",
    "for i in range(start_int, end_int, step_int):\n",
    "    start = i * 0.2\n",
    "    next_start = (i + step_int) * 0.2\n",
    "    label = f\"mean_skew_[{start:.2f}, {next_start:.2f})\"\n",
    "    condition = (F.col(\"mean_skew\") >= start) & (F.col(\"mean_skew\") < next_start)\n",
    "    skew_cutoffs.append([label, condition])\n",
    "\n",
    "# Bin for > 0.6\n",
    "skew_cutoffs.append([\"mean_skew_(0.6, Inf)\", (F.col(\"mean_skew\") > 0.6)])\n"
   ]
  },
  {
   "cell_type": "code",
   "execution_count": 76,
   "id": "ce26244d-dfab-43b3-bf75-f459a0254a98",
   "metadata": {
    "execution": {
     "iopub.execute_input": "2023-12-21T01:38:41.182009Z",
     "iopub.status.busy": "2023-12-21T01:38:41.178766Z",
     "iopub.status.idle": "2023-12-21T01:38:41.187856Z",
     "shell.execute_reply": "2023-12-21T01:38:41.187309Z",
     "shell.execute_reply.started": "2023-12-21T01:38:41.181985Z"
    },
    "tags": []
   },
   "outputs": [
    {
     "name": "stdout",
     "output_type": "stream",
     "text": [
      "['mean_skew_(-Inf, -0.8)', Column<'(mean_skew < -0.8)'>]\n",
      "['mean_skew_[-0.80, -0.60)', Column<'((mean_skew >= -0.8) AND (mean_skew < -0.6000000000000001))'>]\n",
      "['mean_skew_[-0.60, -0.40)', Column<'((mean_skew >= -0.6000000000000001) AND (mean_skew < -0.4))'>]\n",
      "['mean_skew_[-0.40, -0.20)', Column<'((mean_skew >= -0.4) AND (mean_skew < -0.2))'>]\n",
      "['mean_skew_[-0.20, 0.00)', Column<'((mean_skew >= -0.2) AND (mean_skew < 0.0))'>]\n",
      "['mean_skew_[0.00, 0.20)', Column<'((mean_skew >= 0.0) AND (mean_skew < 0.2))'>]\n",
      "['mean_skew_[0.20, 0.40)', Column<'((mean_skew >= 0.2) AND (mean_skew < 0.4))'>]\n",
      "['mean_skew_[0.40, 0.60)', Column<'((mean_skew >= 0.4) AND (mean_skew < 0.6000000000000001))'>]\n",
      "['mean_skew_(0.6, Inf)', Column<'(mean_skew > 0.6)'>]\n"
     ]
    }
   ],
   "source": [
    "for i in skew_cutoffs:\n",
    "    print(i)"
   ]
  },
  {
   "cell_type": "code",
   "execution_count": 77,
   "id": "68a0602c-87ab-40d2-93c6-944f70ab66dd",
   "metadata": {
    "execution": {
     "iopub.execute_input": "2023-12-21T01:39:23.324945Z",
     "iopub.status.busy": "2023-12-21T01:39:23.324587Z",
     "iopub.status.idle": "2023-12-21T01:39:23.350001Z",
     "shell.execute_reply": "2023-12-21T01:39:23.349228Z",
     "shell.execute_reply.started": "2023-12-21T01:39:23.324915Z"
    },
    "tags": []
   },
   "outputs": [],
   "source": [
    "mean_ref_cutoffs=make_cutoff(\"mean_ref\")\n",
    "dump_cutoff_names_to_disc(mean_ref_cutoffs,\"mean_ref_cutoffs\")\n",
    "\n",
    "mean_alt_cutoffs=make_cutoff(\"mean_alt\")\n",
    "dump_cutoff_names_to_disc(mean_alt_cutoffs,\"mean_alt_cutoffs\")"
   ]
  },
  {
   "cell_type": "code",
   "execution_count": 14,
   "id": "a55698c2-4d3c-4cdf-9b0b-94905d97c8c0",
   "metadata": {
    "execution": {
     "iopub.execute_input": "2023-12-20T22:11:04.982381Z",
     "iopub.status.busy": "2023-12-20T22:11:04.982233Z",
     "iopub.status.idle": "2023-12-20T22:11:04.986427Z",
     "shell.execute_reply": "2023-12-20T22:11:04.986008Z",
     "shell.execute_reply.started": "2023-12-20T22:11:04.982367Z"
    },
    "tags": []
   },
   "outputs": [],
   "source": [
    "##df_cre = df_cre.withColumn(\"mean_skew\", F.round(df[\"mean_skew\"], 2))"
   ]
  },
  {
   "cell_type": "code",
   "execution_count": 78,
   "id": "e409a9d6-cd27-43eb-8059-100e22190b67",
   "metadata": {
    "execution": {
     "iopub.execute_input": "2023-12-21T01:39:25.177768Z",
     "iopub.status.busy": "2023-12-21T01:39:25.177492Z",
     "iopub.status.idle": "2023-12-21T01:39:25.517003Z",
     "shell.execute_reply": "2023-12-21T01:39:25.516407Z",
     "shell.execute_reply.started": "2023-12-21T01:39:25.177741Z"
    },
    "tags": []
   },
   "outputs": [],
   "source": [
    "df_cre=apply_cutoffs(df_cre,skew_cutoffs)\n",
    "df_cre=apply_cutoffs(df_cre,mean_alt_cutoffs)\n",
    "df_cre=apply_cutoffs(df_cre,mean_ref_cutoffs)"
   ]
  },
  {
   "cell_type": "code",
   "execution_count": 79,
   "id": "24333c82-8ac7-4b80-8569-a323b1446aa7",
   "metadata": {
    "execution": {
     "iopub.execute_input": "2023-12-21T01:39:28.408199Z",
     "iopub.status.busy": "2023-12-21T01:39:28.407832Z",
     "iopub.status.idle": "2023-12-21T01:39:28.412030Z",
     "shell.execute_reply": "2023-12-21T01:39:28.411261Z",
     "shell.execute_reply.started": "2023-12-21T01:39:28.408167Z"
    },
    "tags": []
   },
   "outputs": [],
   "source": [
    "df_cre_backup=df_cre"
   ]
  },
  {
   "cell_type": "code",
   "execution_count": 80,
   "id": "b7ddae81-b715-471a-804b-eea7537cdf28",
   "metadata": {
    "execution": {
     "iopub.execute_input": "2023-12-21T01:39:28.996266Z",
     "iopub.status.busy": "2023-12-21T01:39:28.995953Z",
     "iopub.status.idle": "2023-12-21T01:39:29.004965Z",
     "shell.execute_reply": "2023-12-21T01:39:29.004202Z",
     "shell.execute_reply.started": "2023-12-21T01:39:28.996237Z"
    },
    "tags": []
   },
   "outputs": [
    {
     "data": {
      "text/plain": [
       "DataFrame[CHROM: string, POS: int, ID: string, REF: string, ALT: string, QUAL: string, FILTER: string, INFO: string, K562__ref: float, HepG2__ref: float, SKNSH__ref: float, K562__alt: float, HepG2__alt: float, SKNSH__alt: float, K562__skew: float, HepG2__skew: float, SKNSH__skew: float, AC: int, AN: int, AF: float, cadd_phred: float, is_in_dELS: boolean, is_in_CA: boolean, is_in_pELS: boolean, is_in_CA-H3K4me3: boolean, is_in_CA-CTCF: boolean, is_in_PLS: boolean, is_in_TF: boolean, is_in_CA-TF: boolean, P_ANNO: float, mean_ref: float, mean_skew: float, MAF: float, category: string, mean_alt: double, mean_skew_(-Inf, -0.8): boolean, mean_skew_[-0.80, -0.60): boolean, mean_skew_[-0.60, -0.40): boolean, mean_skew_[-0.40, -0.20): boolean, mean_skew_[-0.20, 0.00): boolean, mean_skew_[0.00, 0.20): boolean, mean_skew_[0.20, 0.40): boolean, mean_skew_[0.40, 0.60): boolean, mean_skew_(0.6, Inf): boolean, mean_alt_(-Inf,0): boolean, mean_alt_[0,2): boolean, mean_alt_[2,4): boolean, mean_alt_[4,6): boolean, mean_alt_(6,Inf): boolean, mean_ref_(-Inf,0): boolean, mean_ref_[0,2): boolean, mean_ref_[2,4): boolean, mean_ref_[4,6): boolean, mean_ref_(6,Inf): boolean]"
      ]
     },
     "execution_count": 80,
     "metadata": {},
     "output_type": "execute_result"
    }
   ],
   "source": [
    "df_cre"
   ]
  },
  {
   "cell_type": "code",
   "execution_count": 81,
   "id": "e3e25e79-3263-467a-a167-8f1bd7ad6a27",
   "metadata": {
    "execution": {
     "iopub.execute_input": "2023-12-21T01:39:30.010313Z",
     "iopub.status.busy": "2023-12-21T01:39:30.010032Z",
     "iopub.status.idle": "2023-12-21T01:39:30.014170Z",
     "shell.execute_reply": "2023-12-21T01:39:30.013405Z",
     "shell.execute_reply.started": "2023-12-21T01:39:30.010286Z"
    },
    "tags": []
   },
   "outputs": [],
   "source": [
    "to_group_by=[\"category\"]+cre_bool_columns+get_column_names(skew_cutoffs)+get_column_names(mean_ref_cutoffs)+get_column_names(mean_alt_cutoffs)"
   ]
  },
  {
   "cell_type": "code",
   "execution_count": 82,
   "id": "184ed900-7325-4072-b1c3-559e4ebc857c",
   "metadata": {
    "execution": {
     "iopub.execute_input": "2023-12-21T01:39:30.723049Z",
     "iopub.status.busy": "2023-12-21T01:39:30.722785Z",
     "iopub.status.idle": "2023-12-21T01:39:31.067459Z",
     "shell.execute_reply": "2023-12-21T01:39:31.066743Z",
     "shell.execute_reply.started": "2023-12-21T01:39:30.723022Z"
    },
    "tags": []
   },
   "outputs": [],
   "source": [
    "#some of the column names have commas, which can cause a problem. Let's replace them with underscores.\n",
    "renamed_column_map = {col: col.replace(',', '^').replace('.','&') for col in to_group_by}\n",
    "\n",
    "for old_name, new_name in renamed_column_map.items():\n",
    "    df_cre = df_cre.withColumnRenamed(old_name, new_name)"
   ]
  },
  {
   "cell_type": "code",
   "execution_count": 83,
   "id": "90bd76e2-7ac3-4338-b79e-6a87d8342daa",
   "metadata": {
    "execution": {
     "iopub.execute_input": "2023-12-21T01:39:33.230960Z",
     "iopub.status.busy": "2023-12-21T01:39:33.230629Z",
     "iopub.status.idle": "2023-12-21T01:39:33.294856Z",
     "shell.execute_reply": "2023-12-21T01:39:33.294095Z",
     "shell.execute_reply.started": "2023-12-21T01:39:33.230930Z"
    },
    "tags": []
   },
   "outputs": [],
   "source": [
    "skew_and_activity_table = df_cre.groupBy(list(renamed_column_map.values())).count()"
   ]
  },
  {
   "cell_type": "code",
   "execution_count": 84,
   "id": "6a85aa43-0ba5-44cf-ae5c-7cd812740673",
   "metadata": {
    "execution": {
     "iopub.execute_input": "2023-12-21T01:39:34.759408Z",
     "iopub.status.busy": "2023-12-21T01:39:34.759096Z",
     "iopub.status.idle": "2023-12-21T01:39:34.767625Z",
     "shell.execute_reply": "2023-12-21T01:39:34.766919Z",
     "shell.execute_reply.started": "2023-12-21T01:39:34.759380Z"
    },
    "tags": []
   },
   "outputs": [
    {
     "data": {
      "text/plain": [
       "DataFrame[category: string, is_in_dELS: boolean, is_in_CA: boolean, is_in_pELS: boolean, is_in_CA-H3K4me3: boolean, is_in_CA-CTCF: boolean, is_in_PLS: boolean, is_in_TF: boolean, is_in_CA-TF: boolean, mean_skew_(-Inf^ -0&8): boolean, mean_skew_[-0&80^ -0&60): boolean, mean_skew_[-0&60^ -0&40): boolean, mean_skew_[-0&40^ -0&20): boolean, mean_skew_[-0&20^ 0&00): boolean, mean_skew_[0&00^ 0&20): boolean, mean_skew_[0&20^ 0&40): boolean, mean_skew_[0&40^ 0&60): boolean, mean_skew_(0&6^ Inf): boolean, mean_ref_(-Inf^0): boolean, mean_ref_[0^2): boolean, mean_ref_[2^4): boolean, mean_ref_[4^6): boolean, mean_ref_(6^Inf): boolean, mean_alt_(-Inf^0): boolean, mean_alt_[0^2): boolean, mean_alt_[2^4): boolean, mean_alt_[4^6): boolean, mean_alt_(6^Inf): boolean, count: bigint]"
      ]
     },
     "execution_count": 84,
     "metadata": {},
     "output_type": "execute_result"
    }
   ],
   "source": [
    "skew_and_activity_table"
   ]
  },
  {
   "cell_type": "code",
   "execution_count": 85,
   "id": "7d0b69bf-9387-4883-b3e1-e51db7a63d3e",
   "metadata": {
    "execution": {
     "iopub.execute_input": "2023-12-21T01:39:35.615586Z",
     "iopub.status.busy": "2023-12-21T01:39:35.615294Z",
     "iopub.status.idle": "2023-12-21T01:40:24.241058Z",
     "shell.execute_reply": "2023-12-21T01:40:24.240327Z",
     "shell.execute_reply.started": "2023-12-21T01:39:35.615560Z"
    },
    "tags": []
   },
   "outputs": [
    {
     "name": "stderr",
     "output_type": "stream",
     "text": [
      "                                                                                \r"
     ]
    }
   ],
   "source": [
    "skew_and_activity_table.coalesce(1).write.csv(data_base_path+\"malinouis_skew_and_thresh\", mode=\"overwrite\", header=True)"
   ]
  },
  {
   "cell_type": "code",
   "execution_count": 48,
   "id": "faa0fcaa-c3f5-43f9-bce3-18aa6dcb01ed",
   "metadata": {
    "execution": {
     "iopub.execute_input": "2023-12-21T01:11:10.678808Z",
     "iopub.status.busy": "2023-12-21T01:11:10.678441Z",
     "iopub.status.idle": "2023-12-21T01:12:59.318718Z",
     "shell.execute_reply": "2023-12-21T01:12:59.318045Z",
     "shell.execute_reply.started": "2023-12-21T01:11:10.678777Z"
    },
    "tags": []
   },
   "outputs": [
    {
     "name": "stderr",
     "output_type": "stream",
     "text": [
      "                                                                                \r"
     ]
    }
   ],
   "source": [
    "from pyspark.sql.functions import col\n",
    "from functools import reduce\n",
    "from operator import or_\n",
    "\n",
    "condition = reduce(or_, [col(c).isNull() for c in df_cre.columns])\n",
    "\n",
    "# Applying the filter\n",
    "null_rows = df_cre.filter(condition)\n",
    "z=null_rows.toPandas()\n",
    "\n",
    "#df_cre[\"mean_skew_[-1&5^ -1)\"]"
   ]
  },
  {
   "cell_type": "code",
   "execution_count": 49,
   "id": "d52ebfe4-ad56-4fc5-8bea-f10cba11235b",
   "metadata": {
    "execution": {
     "iopub.execute_input": "2023-12-21T01:12:59.320175Z",
     "iopub.status.busy": "2023-12-21T01:12:59.319929Z",
     "iopub.status.idle": "2023-12-21T01:12:59.336018Z",
     "shell.execute_reply": "2023-12-21T01:12:59.335401Z",
     "shell.execute_reply.started": "2023-12-21T01:12:59.320151Z"
    },
    "tags": []
   },
   "outputs": [
    {
     "data": {
      "text/html": [
       "<div>\n",
       "<style scoped>\n",
       "    .dataframe tbody tr th:only-of-type {\n",
       "        vertical-align: middle;\n",
       "    }\n",
       "\n",
       "    .dataframe tbody tr th {\n",
       "        vertical-align: top;\n",
       "    }\n",
       "\n",
       "    .dataframe thead th {\n",
       "        text-align: right;\n",
       "    }\n",
       "</style>\n",
       "<table border=\"1\" class=\"dataframe\">\n",
       "  <thead>\n",
       "    <tr style=\"text-align: right;\">\n",
       "      <th></th>\n",
       "      <th>CHROM</th>\n",
       "      <th>POS</th>\n",
       "      <th>ID</th>\n",
       "      <th>REF</th>\n",
       "      <th>ALT</th>\n",
       "      <th>QUAL</th>\n",
       "      <th>FILTER</th>\n",
       "      <th>INFO</th>\n",
       "      <th>K562__ref</th>\n",
       "      <th>HepG2__ref</th>\n",
       "      <th>SKNSH__ref</th>\n",
       "      <th>K562__alt</th>\n",
       "      <th>HepG2__alt</th>\n",
       "      <th>SKNSH__alt</th>\n",
       "      <th>K562__skew</th>\n",
       "      <th>HepG2__skew</th>\n",
       "      <th>SKNSH__skew</th>\n",
       "      <th>AC</th>\n",
       "      <th>AN</th>\n",
       "      <th>AF</th>\n",
       "      <th>cadd_phred</th>\n",
       "      <th>is_in_dELS</th>\n",
       "      <th>is_in_CA</th>\n",
       "      <th>is_in_pELS</th>\n",
       "      <th>is_in_CA-H3K4me3</th>\n",
       "      <th>is_in_CA-CTCF</th>\n",
       "      <th>is_in_PLS</th>\n",
       "      <th>is_in_TF</th>\n",
       "      <th>is_in_CA-TF</th>\n",
       "      <th>P_ANNO</th>\n",
       "      <th>mean_ref</th>\n",
       "      <th>mean_skew</th>\n",
       "      <th>MAF</th>\n",
       "      <th>category</th>\n",
       "      <th>mean_alt</th>\n",
       "      <th>mean_skew_(-Inf^ -1&amp;4)</th>\n",
       "      <th>mean_skew_[-1&amp;20^ -1&amp;00)</th>\n",
       "      <th>mean_skew_[-1&amp;00^ -0&amp;80)</th>\n",
       "      <th>mean_skew_[-0&amp;80^ -0&amp;60)</th>\n",
       "      <th>mean_skew_[-0&amp;60^ -0&amp;40)</th>\n",
       "      <th>mean_skew_[-0&amp;40^ -0&amp;20)</th>\n",
       "      <th>mean_skew_[-0&amp;20^ 0&amp;00)</th>\n",
       "      <th>mean_skew_[0&amp;00^ 0&amp;20)</th>\n",
       "      <th>mean_skew_[0&amp;20^ 0&amp;40)</th>\n",
       "      <th>mean_skew_[0&amp;40^ 0&amp;60)</th>\n",
       "      <th>mean_skew_[0&amp;60^ 0&amp;80)</th>\n",
       "      <th>mean_skew_[0&amp;80^ 1&amp;00)</th>\n",
       "      <th>mean_skew_[1&amp;00^ 1&amp;20)</th>\n",
       "      <th>mean_skew_[1&amp;20^ 1&amp;40)</th>\n",
       "      <th>mean_skew_(1&amp;4^ Inf)</th>\n",
       "      <th>mean_alt_(-Inf^1)</th>\n",
       "      <th>mean_alt_[1^2)</th>\n",
       "      <th>mean_alt_[2^3)</th>\n",
       "      <th>mean_alt_[3^4)</th>\n",
       "      <th>mean_alt_[4^5)</th>\n",
       "      <th>mean_alt_[5^6)</th>\n",
       "      <th>mean_alt_[6^Inf)</th>\n",
       "      <th>mean_ref_(-Inf^1)</th>\n",
       "      <th>mean_ref_[1^2)</th>\n",
       "      <th>mean_ref_[2^3)</th>\n",
       "      <th>mean_ref_[3^4)</th>\n",
       "      <th>mean_ref_[4^5)</th>\n",
       "      <th>mean_ref_[5^6)</th>\n",
       "      <th>mean_ref_[6^Inf)</th>\n",
       "    </tr>\n",
       "  </thead>\n",
       "  <tbody>\n",
       "  </tbody>\n",
       "</table>\n",
       "</div>"
      ],
      "text/plain": [
       "Empty DataFrame\n",
       "Columns: [CHROM, POS, ID, REF, ALT, QUAL, FILTER, INFO, K562__ref, HepG2__ref, SKNSH__ref, K562__alt, HepG2__alt, SKNSH__alt, K562__skew, HepG2__skew, SKNSH__skew, AC, AN, AF, cadd_phred, is_in_dELS, is_in_CA, is_in_pELS, is_in_CA-H3K4me3, is_in_CA-CTCF, is_in_PLS, is_in_TF, is_in_CA-TF, P_ANNO, mean_ref, mean_skew, MAF, category, mean_alt, mean_skew_(-Inf^ -1&4), mean_skew_[-1&20^ -1&00), mean_skew_[-1&00^ -0&80), mean_skew_[-0&80^ -0&60), mean_skew_[-0&60^ -0&40), mean_skew_[-0&40^ -0&20), mean_skew_[-0&20^ 0&00), mean_skew_[0&00^ 0&20), mean_skew_[0&20^ 0&40), mean_skew_[0&40^ 0&60), mean_skew_[0&60^ 0&80), mean_skew_[0&80^ 1&00), mean_skew_[1&00^ 1&20), mean_skew_[1&20^ 1&40), mean_skew_(1&4^ Inf), mean_alt_(-Inf^1), mean_alt_[1^2), mean_alt_[2^3), mean_alt_[3^4), mean_alt_[4^5), mean_alt_[5^6), mean_alt_[6^Inf), mean_ref_(-Inf^1), mean_ref_[1^2), mean_ref_[2^3), mean_ref_[3^4), mean_ref_[4^5), mean_ref_[5^6), mean_ref_[6^Inf)]\n",
       "Index: []"
      ]
     },
     "metadata": {},
     "output_type": "display_data"
    }
   ],
   "source": [
    "import pandas as pd\n",
    "with pd.option_context('display.max_columns', None):\n",
    "    display(z)\n"
   ]
  }
 ],
 "metadata": {
  "kernelspec": {
   "display_name": "Python 3 (ipykernel)",
   "language": "python",
   "name": "python3"
  },
  "language_info": {
   "codemirror_mode": {
    "name": "ipython",
    "version": 3
   },
   "file_extension": ".py",
   "mimetype": "text/x-python",
   "name": "python",
   "nbconvert_exporter": "python",
   "pygments_lexer": "ipython3",
   "version": "3.10.12"
  }
 },
 "nbformat": 4,
 "nbformat_minor": 5
}
