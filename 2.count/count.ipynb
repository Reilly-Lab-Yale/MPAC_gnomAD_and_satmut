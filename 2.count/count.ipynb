{
 "cells": [
  {
   "cell_type": "markdown",
   "id": "e5941730-7061-4b4f-bf36-4615d23f1d2e",
   "metadata": {},
   "source": [
    "We will generate a number of count tables, described in sections below. \n",
    "\n",
    "## import "
   ]
  },
  {
   "cell_type": "code",
   "execution_count": 1,
   "id": "e0363d27-c5f7-4925-aa1f-e911f503be57",
   "metadata": {
    "execution": {
     "iopub.execute_input": "2023-12-15T15:35:51.062924Z",
     "iopub.status.busy": "2023-12-15T15:35:51.062554Z",
     "iopub.status.idle": "2023-12-15T15:35:51.854796Z",
     "shell.execute_reply": "2023-12-15T15:35:51.854285Z",
     "shell.execute_reply.started": "2023-12-15T15:35:51.062904Z"
    },
    "tags": []
   },
   "outputs": [],
   "source": [
    "### \n",
    "from pyspark import SparkConf, SparkContext\n",
    "from pyspark.sql import SparkSession\n",
    "from pyspark.sql import Row\n",
    "from pyspark.sql import functions as F\n",
    "import pyspark.sql.types as T\n",
    "#StructType, StructField, IntegerType, StringType, FloatType"
   ]
  },
  {
   "cell_type": "markdown",
   "id": "67873089-a7f3-4ccf-8403-8a2413d84479",
   "metadata": {},
   "source": [
    "## create a spark session"
   ]
  },
  {
   "cell_type": "code",
   "execution_count": 2,
   "id": "7f220458-459e-4603-834f-9ee2fb2598cb",
   "metadata": {
    "execution": {
     "iopub.execute_input": "2023-12-15T15:35:52.868986Z",
     "iopub.status.busy": "2023-12-15T15:35:52.868599Z",
     "iopub.status.idle": "2023-12-15T15:35:59.328141Z",
     "shell.execute_reply": "2023-12-15T15:35:59.327563Z",
     "shell.execute_reply.started": "2023-12-15T15:35:52.868965Z"
    },
    "tags": []
   },
   "outputs": [
    {
     "name": "stderr",
     "output_type": "stream",
     "text": [
      "Setting default log level to \"WARN\".\n",
      "To adjust logging level use sc.setLogLevel(newLevel). For SparkR, use setLogLevel(newLevel).\n",
      "23/12/15 10:35:57 WARN NativeCodeLoader: Unable to load native-hadoop library for your platform... using builtin-java classes where applicable\n",
      "23/12/15 10:36:10 WARN GarbageCollectionMetrics: To enable non-built-in garbage collector(s) List(G1 Concurrent GC), users should configure it(them) to spark.eventLog.gcMetrics.youngGenerationGarbageCollectors or spark.eventLog.gcMetrics.oldGenerationGarbageCollectors\n"
     ]
    }
   ],
   "source": [
    "conf = SparkConf() \\\n",
    "    .setAppName(\"Count\")\\\n",
    "\n",
    "# Create a SparkContext with the specified configurations\n",
    "if 'spark' in locals() and spark!=None:\n",
    "    spark.stop()\n",
    "\n",
    "sc = SparkContext(conf=conf)\n",
    "\n",
    "# Create a SparkSession from the SparkContext\n",
    "spark = SparkSession(sc)"
   ]
  },
  {
   "cell_type": "markdown",
   "id": "528fcdbc-c7e1-467f-ad0a-c299ce85cda4",
   "metadata": {},
   "source": [
    "## Load in gnomad variants annotated in the last script"
   ]
  },
  {
   "cell_type": "code",
   "execution_count": 15,
   "id": "2c0c646e-25e9-4d80-901f-f33e83cc7f26",
   "metadata": {
    "execution": {
     "iopub.execute_input": "2023-12-07T19:53:47.213524Z",
     "iopub.status.busy": "2023-12-07T19:53:47.213072Z",
     "iopub.status.idle": "2023-12-07T19:53:50.573062Z",
     "shell.execute_reply": "2023-12-07T19:53:50.572601Z",
     "shell.execute_reply.started": "2023-12-07T19:53:47.213504Z"
    },
    "tags": []
   },
   "outputs": [
    {
     "name": "stderr",
     "output_type": "stream",
     "text": [
      "                                                                                \r"
     ]
    }
   ],
   "source": [
    "schema = T.StructType([\n",
    "    T.StructField(\"CHROM\", T.StringType(), True),\n",
    "    T.StructField(\"POS\", T.IntegerType(), True),\n",
    "    T.StructField(\"ID\", T.StringType(), True),\n",
    "    T.StructField(\"REF\", T.StringType(), True),\n",
    "    T.StructField(\"ALT\", T.StringType(), True),\n",
    "    T.StructField(\"QUAL\", T.StringType(), True),\n",
    "    T.StructField(\"FILTER\", T.StringType(), True),\n",
    "    T.StructField(\"INFO\", T.StringType(), True),\n",
    "    T.StructField(\"K562__ref\", T.FloatType(), True),\n",
    "    T.StructField(\"HepG2__ref\", T.FloatType(), True),\n",
    "    T.StructField(\"SKNSH__ref\", T.FloatType(), True),\n",
    "    T.StructField(\"K562__alt\", T.FloatType(), True),    \n",
    "    T.StructField(\"HepG2__alt\", T.FloatType(), True),\n",
    "    T.StructField(\"SKNSH__alt\", T.FloatType(), True),\n",
    "    T.StructField(\"K562__skew\", T.FloatType(), True),\n",
    "    T.StructField(\"HepG2__skew\", T.FloatType(), True),\n",
    "    T.StructField(\"SKNSH__skew\", T.FloatType(), True),\n",
    "    T.StructField(\"AC\", T.IntegerType(), True),   \n",
    "    T.StructField(\"AN\", T.IntegerType(), True),\n",
    "    T.StructField(\"AF\", T.IntegerType(), True),\n",
    "    T.StructField(\"cadd_phred\", T.FloatType(), True),\n",
    "    T.StructField(\"is_in_promoter\", T.BooleanType(), True),\n",
    "    T.StructField(\"is_in_prox_enhancers\", T.BooleanType(), True),\n",
    "    T.StructField(\"is_in_distal_enhancers\", T.BooleanType(), True),\n",
    "    T.StructField(\"P_ANNO\", T.FloatType(), True),\n",
    "    T.StructField(\"mean_ref\", T.FloatType(), True),\n",
    "    T.StructField(\"mean_skew\", T.FloatType(), True),\n",
    "    T.StructField(\"MAF\", T.FloatType(), True),\n",
    "    T.StructField(\"category\", T.StringType(), True)    \n",
    "])\n",
    "\n",
    "df = spark.read \\\n",
    "    .option(\"comment\", \"#\") \\\n",
    "    .option(\"delimiter\", \",\") \\\n",
    "    .schema(schema) \\\n",
    "    .csv(\"/home/mcn26/varef/scripts/noon_data/1.annotate/annotated_output_CHR22.csv/*.csv\", header=True)"
   ]
  },
  {
   "cell_type": "markdown",
   "id": "996d24cb-8b18-4cbd-9be8-1f2d03e17017",
   "metadata": {
    "tags": []
   },
   "source": [
    "## Drop columns rows with null values. \n",
    "\n",
    "This isn't strictly necessary. We could, for example, only drop those rows with null malinouis skew when computing malinouis-skew-based metrics, drop rows with no phyloP scores when computing phyloP-based metrics, etc etc. However, this would result in different sets of variants summarized by each graph, which could create biases : if, for example, PhyloP scores are annotated for a nonrandom set of variants. Therefore I will drop rows with null data in any relevant columns prior to subsequent analysis. "
   ]
  },
  {
   "cell_type": "code",
   "execution_count": 16,
   "id": "a45c37d0-2acf-40bf-9fa1-f8dd94a74e5e",
   "metadata": {
    "execution": {
     "iopub.execute_input": "2023-12-07T19:53:54.267336Z",
     "iopub.status.busy": "2023-12-07T19:53:54.266957Z",
     "iopub.status.idle": "2023-12-07T19:53:54.311671Z",
     "shell.execute_reply": "2023-12-07T19:53:54.311211Z",
     "shell.execute_reply.started": "2023-12-07T19:53:54.267317Z"
    },
    "tags": []
   },
   "outputs": [],
   "source": [
    "df_nonull = df.dropna(subset=[\"CHROM\",\"POS\",\"cadd_phred\",\"P_ANNO\",\"mean_ref\",\"mean_skew\",\"category\"])"
   ]
  },
  {
   "cell_type": "markdown",
   "id": "1174c786-ec5b-4ae1-9694-c2875f279f09",
   "metadata": {
    "tags": []
   },
   "source": [
    "## Create a subset table containing only variants in CREs\n"
   ]
  },
  {
   "cell_type": "code",
   "execution_count": 17,
   "id": "b9315b0c-2b68-483c-9169-bda5842298cf",
   "metadata": {
    "execution": {
     "iopub.execute_input": "2023-12-07T19:53:56.814197Z",
     "iopub.status.busy": "2023-12-07T19:53:56.813701Z",
     "iopub.status.idle": "2023-12-07T19:53:56.855526Z",
     "shell.execute_reply": "2023-12-07T19:53:56.855091Z",
     "shell.execute_reply.started": "2023-12-07T19:53:56.814178Z"
    },
    "tags": []
   },
   "outputs": [],
   "source": [
    "df_cre = df_nonull.filter((F.col(\"is_in_promoter\") == True) | (F.col(\"is_in_prox_enhancers\") == True) | (F.col(\"is_in_distal_enhancers\") == True))"
   ]
  },
  {
   "cell_type": "markdown",
   "id": "25577eb5-ad89-4016-9173-2799eb0525c6",
   "metadata": {},
   "source": [
    "# compute count tables\n",
    "\n",
    "All count tables will be broken down by each of the three CRE types. "
   ]
  },
  {
   "cell_type": "markdown",
   "id": "42d08700-293b-4e32-8df0-485e291a1043",
   "metadata": {},
   "source": [
    "## PhyloP vs rarity\n",
    "- add column : \"significant\"/\"not significant\" : threshold is 2.27\n",
    "- count table of significance VS category\n",
    "- dump to disc"
   ]
  },
  {
   "cell_type": "code",
   "execution_count": 18,
   "id": "faadf1dc-21d2-4462-81d8-bb5405a49aad",
   "metadata": {
    "execution": {
     "iopub.execute_input": "2023-12-07T19:54:01.865514Z",
     "iopub.status.busy": "2023-12-07T19:54:01.865033Z",
     "iopub.status.idle": "2023-12-07T19:54:21.795276Z",
     "shell.execute_reply": "2023-12-07T19:54:21.794805Z",
     "shell.execute_reply.started": "2023-12-07T19:54:01.865496Z"
    },
    "tags": []
   },
   "outputs": [
    {
     "name": "stderr",
     "output_type": "stream",
     "text": [
      "                                                                                \r"
     ]
    }
   ],
   "source": [
    "df_phylop_significant=df_cre.withColumn(\"phylop_significant\",F.col(\"P_ANNO\")>=2.27)\n",
    "\n",
    "phylop_count_table = df_phylop_significant.groupBy([\"category\",\"phylop_significant\",\"is_in_promoter\",\"is_in_prox_enhancers\",\"is_in_distal_enhancers\"]).count()\n",
    "\n",
    "data_base_path=\"/home/mcn26/varef/scripts/noon_data/2.count/\"\n",
    "\n",
    "phylop_count_table.coalesce(1).write.csv(data_base_path+\"phylop_count_table\", mode=\"overwrite\", header=True)"
   ]
  },
  {
   "cell_type": "markdown",
   "id": "41ca765b-01fa-4e47-856d-a68fa5bc8e02",
   "metadata": {
    "tags": []
   },
   "source": [
    "## CADD vs rarity\n",
    "Similar approach to phylop above,\n",
    "\n",
    "Cutoffs are \n",
    "- All\n",
    "- score≥10\n",
    "- score≥20\n",
    "- score≥30\n",
    "- score≥40\n",
    "- score≥50"
   ]
  },
  {
   "cell_type": "code",
   "execution_count": 19,
   "id": "ee94e665-9e46-4c8c-a515-6eeb66820784",
   "metadata": {
    "execution": {
     "iopub.execute_input": "2023-12-07T19:54:25.789978Z",
     "iopub.status.busy": "2023-12-07T19:54:25.789662Z",
     "iopub.status.idle": "2023-12-07T19:54:43.228564Z",
     "shell.execute_reply": "2023-12-07T19:54:43.227359Z",
     "shell.execute_reply.started": "2023-12-07T19:54:25.789955Z"
    },
    "tags": []
   },
   "outputs": [
    {
     "name": "stderr",
     "output_type": "stream",
     "text": [
      "                                                                                \r"
     ]
    }
   ],
   "source": [
    "df_cadd_cutoff=df_cre.withColumn(\n",
    "    \"CADD>=10\",F.col(\"cadd_phred\")>=10\n",
    ").withColumn(\n",
    "    \"CADD>=20\",F.col(\"cadd_phred\")>=20\n",
    ").withColumn(\n",
    "    \"CADD>=30\",F.col(\"cadd_phred\")>=30\n",
    ").withColumn(\n",
    "    \"CADD>=40\",F.col(\"cadd_phred\")>=40\n",
    ").withColumn(\n",
    "    \"CADD>=50\",F.col(\"cadd_phred\")>=50\n",
    ")\n",
    "\n",
    "cadd_count_table = df_cadd_cutoff.groupBy([\"category\",\"CADD>=10\",\"CADD>=20\",\"CADD>=30\",\"CADD>=40\",\"CADD>=50\",\"is_in_promoter\",\"is_in_prox_enhancers\",\"is_in_distal_enhancers\"]).count()\n",
    "\n",
    "data_base_path=\"/home/mcn26/varef/scripts/noon_data/2.count/\"\n",
    "\n",
    "cadd_count_table.coalesce(1).write.csv(data_base_path+\"CADD_count_table\", mode=\"overwrite\", header=True)"
   ]
  },
  {
   "cell_type": "markdown",
   "id": "4366ea82-a106-4a74-8d90-f99c58c25a1c",
   "metadata": {},
   "source": [
    "## malinouis : reference activity & skew vs rarity\n",
    "\n",
    "First, compute min and max of skew, reference activity.\n",
    "\n",
    "While this does require aggregation of the entire dataset, min & max specifically ought to be fairly inexpensive to compute.\n",
    "\n",
    "This will only be performed during initial testing, then values will be recorded & made into constants. "
   ]
  },
  {
   "cell_type": "code",
   "execution_count": 20,
   "id": "c7203c20-7849-4079-bb42-82a98dbe757c",
   "metadata": {
    "execution": {
     "iopub.execute_input": "2023-12-07T19:54:43.229527Z",
     "iopub.status.busy": "2023-12-07T19:54:43.229369Z",
     "iopub.status.idle": "2023-12-07T19:55:38.857026Z",
     "shell.execute_reply": "2023-12-07T19:55:38.855765Z",
     "shell.execute_reply.started": "2023-12-07T19:54:43.229512Z"
    },
    "tags": []
   },
   "outputs": [
    {
     "name": "stderr",
     "output_type": "stream",
     "text": [
      "                                                                                \r"
     ]
    },
    {
     "name": "stdout",
     "output_type": "stream",
     "text": [
      "+--------------+\n",
      "|max(mean_skew)|\n",
      "+--------------+\n",
      "|      2.957448|\n",
      "+--------------+\n",
      "\n"
     ]
    },
    {
     "name": "stderr",
     "output_type": "stream",
     "text": [
      "                                                                                \r"
     ]
    },
    {
     "name": "stdout",
     "output_type": "stream",
     "text": [
      "+--------------+\n",
      "|min(mean_skew)|\n",
      "+--------------+\n",
      "|     -3.208347|\n",
      "+--------------+\n",
      "\n"
     ]
    },
    {
     "name": "stderr",
     "output_type": "stream",
     "text": [
      "                                                                                \r"
     ]
    },
    {
     "name": "stdout",
     "output_type": "stream",
     "text": [
      "+-------------+\n",
      "|max(mean_ref)|\n",
      "+-------------+\n",
      "|     8.470641|\n",
      "+-------------+\n",
      "\n"
     ]
    },
    {
     "name": "stderr",
     "output_type": "stream",
     "text": [
      "[Stage 16:=====================================================>(198 + 2) / 200]\r"
     ]
    },
    {
     "name": "stdout",
     "output_type": "stream",
     "text": [
      "+-------------+\n",
      "|min(mean_ref)|\n",
      "+-------------+\n",
      "|   -1.2714466|\n",
      "+-------------+\n",
      "\n"
     ]
    },
    {
     "name": "stderr",
     "output_type": "stream",
     "text": [
      "                                                                                \r"
     ]
    }
   ],
   "source": [
    "#do that...\n",
    "df_cre.agg({'mean_skew': 'max'}).show()\n",
    "df_cre.agg({'mean_skew': 'min'}).show()\n",
    "\n",
    "df_cre.agg({'mean_ref': 'max'}).show()\n",
    "df_cre.agg({'mean_ref': 'min'}).show()\n"
   ]
  },
  {
   "cell_type": "markdown",
   "id": "177c4c02-bf57-4131-a7c1-62aaf4e1717a",
   "metadata": {},
   "source": [
    "For chromosome 22:\n",
    "- computed values are\n",
    "    - max(mean_skew)=2.957448\n",
    "    - min(mean_skew)=-3.208347\n",
    "    - max(mean_ref)=8.470641\n",
    "    - min(mean_ref) = -1.2714466\n",
    "- Intervals of ~0.5 skew~ (seems small) 0.2 and 1 reference activity give us our cutoffs"
   ]
  },
  {
   "cell_type": "markdown",
   "id": "ad6a4839-f5e1-4d9c-9c5b-c6a89dea4fbd",
   "metadata": {},
   "source": [
    "### helper functions"
   ]
  },
  {
   "cell_type": "code",
   "execution_count": 46,
   "id": "109f05b6-8eac-41c5-899b-120d799ceb96",
   "metadata": {
    "execution": {
     "iopub.execute_input": "2023-12-07T20:36:47.197539Z",
     "iopub.status.busy": "2023-12-07T20:36:47.197017Z",
     "iopub.status.idle": "2023-12-07T20:36:47.202140Z",
     "shell.execute_reply": "2023-12-07T20:36:47.201740Z",
     "shell.execute_reply.started": "2023-12-07T20:36:47.197519Z"
    },
    "tags": []
   },
   "outputs": [],
   "source": [
    "def cutoffs_to_tuples(cutoffs):\n",
    "    ret=[]\n",
    "    i=0\n",
    "    while i<len(cutoffs)-1:\n",
    "        i+=1\n",
    "        ret.append((cutoffs[i-1],cutoffs[i]))\n",
    "    return ret\n",
    "\n",
    "def cutoffs_to_table(table,cutoffs,col_name):\n",
    "    \n",
    "    ret_table=table\n",
    "    names=[]\n",
    "    \n",
    "    #first\n",
    "    newname=(col_name+\"<=\"+str(cutoffs[0])).replace(\".\", \"-\")\n",
    "    names.append(newname)\n",
    "    ret_table=ret_table.withColumn(\n",
    "        newname,\n",
    "        F.col(col_name)<=cutoffs[0]\n",
    "    )\n",
    "\n",
    "    #middle\n",
    "    for start,end in cutoffs_to_tuples(cutoffs):\n",
    "        newname=(str(start)+\"<\"+col_name+\"<=\"+str(end)).replace(\".\", \"-\")\n",
    "        names.append(newname)\n",
    "        ret_table=ret_table.withColumn(\n",
    "            newname,\n",
    "            (F.col(col_name)>start) & (F.col(col_name)<=end)\n",
    "        )\n",
    "\n",
    "    #last\n",
    "    newname=(col_name+\">\"+str(cutoffs[-1])).replace(\".\", \"-\")\n",
    "    names.append(newname)\n",
    "    ret_table=ret_table.withColumn(\n",
    "        newname,\n",
    "        F.col(col_name)>cutoffs[-1]\n",
    "    )\n",
    "    \n",
    "    return (ret_table,names)\n",
    "    "
   ]
  },
  {
   "cell_type": "markdown",
   "id": "ba9a09e4-4e1f-4d96-8f65-c2f7ddfc67ce",
   "metadata": {},
   "source": [
    "### skew"
   ]
  },
  {
   "cell_type": "code",
   "execution_count": 52,
   "id": "f1a51275-7dac-4b31-b176-4e399ca00198",
   "metadata": {
    "execution": {
     "iopub.execute_input": "2023-12-07T20:51:46.568774Z",
     "iopub.status.busy": "2023-12-07T20:51:46.568278Z",
     "iopub.status.idle": "2023-12-07T20:51:46.639080Z",
     "shell.execute_reply": "2023-12-07T20:51:46.638628Z",
     "shell.execute_reply.started": "2023-12-07T20:51:46.568754Z"
    },
    "tags": []
   },
   "outputs": [],
   "source": [
    "df_skew_cut,skew_thresh_names=cutoffs_to_table(table=df_cre,cutoffs=[i*0.2 for i in range(-4,4)],col_name=\"mean_skew\")\n",
    "\n",
    "additional_categories=[\"is_in_promoter\",\"is_in_prox_enhancers\",\"is_in_distal_enhancers\",\"category\"]"
   ]
  },
  {
   "cell_type": "code",
   "execution_count": 53,
   "id": "0d7238d2-e162-4421-85b5-462dc8f9a499",
   "metadata": {
    "execution": {
     "iopub.execute_input": "2023-12-07T20:51:47.632256Z",
     "iopub.status.busy": "2023-12-07T20:51:47.631748Z",
     "iopub.status.idle": "2023-12-07T20:52:03.862387Z",
     "shell.execute_reply": "2023-12-07T20:52:03.861099Z",
     "shell.execute_reply.started": "2023-12-07T20:51:47.632235Z"
    },
    "tags": []
   },
   "outputs": [
    {
     "name": "stderr",
     "output_type": "stream",
     "text": [
      "                                                                                \r"
     ]
    }
   ],
   "source": [
    "skew_table = df_skew_cut.groupBy(skew_thresh_names+additional_categories).count()\n",
    "\n",
    "skew_table.coalesce(1).write.csv(data_base_path+\"malinouis_skew\", mode=\"overwrite\", header=True)"
   ]
  },
  {
   "cell_type": "markdown",
   "id": "72ee8dd5-911f-4b44-94e1-ae8991bc21c2",
   "metadata": {
    "tags": []
   },
   "source": [
    "### skew with activity"
   ]
  },
  {
   "cell_type": "code",
   "execution_count": 54,
   "id": "e0a7442a-8cfc-4fdf-a29d-cb6906fffb85",
   "metadata": {
    "execution": {
     "iopub.execute_input": "2023-12-07T20:52:03.863386Z",
     "iopub.status.busy": "2023-12-07T20:52:03.863226Z",
     "iopub.status.idle": "2023-12-07T20:52:03.991085Z",
     "shell.execute_reply": "2023-12-07T20:52:03.990641Z",
     "shell.execute_reply.started": "2023-12-07T20:52:03.863372Z"
    },
    "tags": []
   },
   "outputs": [],
   "source": [
    "df_skew_and_threshold,activity_thresh_names=cutoffs_to_table(table=df_skew_cut,cutoffs=[i for i in range(-2,9,2)],col_name=\"mean_ref\") "
   ]
  },
  {
   "cell_type": "code",
   "execution_count": 55,
   "id": "dc3755c8-64b6-4aff-88d1-bf0088a21d68",
   "metadata": {
    "execution": {
     "iopub.execute_input": "2023-12-07T20:52:03.991987Z",
     "iopub.status.busy": "2023-12-07T20:52:03.991734Z",
     "iopub.status.idle": "2023-12-07T20:52:20.884760Z",
     "shell.execute_reply": "2023-12-07T20:52:20.883510Z",
     "shell.execute_reply.started": "2023-12-07T20:52:03.991970Z"
    },
    "tags": []
   },
   "outputs": [
    {
     "name": "stderr",
     "output_type": "stream",
     "text": [
      "                                                                                \r"
     ]
    }
   ],
   "source": [
    "skew_and_activity_table = df_skew_and_threshold.groupBy(skew_thresh_names+additional_categories+activity_thresh_names).count()\n",
    "\n",
    "skew_and_activity_table.coalesce(1).write.csv(data_base_path+\"malinouis_skew_and_thresh\", mode=\"overwrite\", header=True)"
   ]
  }
 ],
 "metadata": {
  "kernelspec": {
   "display_name": "Python 3 (ipykernel)",
   "language": "python",
   "name": "python3"
  },
  "language_info": {
   "codemirror_mode": {
    "name": "ipython",
    "version": 3
   },
   "file_extension": ".py",
   "mimetype": "text/x-python",
   "name": "python",
   "nbconvert_exporter": "python",
   "pygments_lexer": "ipython3",
   "version": "3.10.12"
  }
 },
 "nbformat": 4,
 "nbformat_minor": 5
}
