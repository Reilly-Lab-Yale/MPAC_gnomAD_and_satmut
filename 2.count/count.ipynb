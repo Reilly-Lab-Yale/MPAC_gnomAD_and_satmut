{
 "cells": [
  {
   "cell_type": "markdown",
   "id": "e5941730-7061-4b4f-bf36-4615d23f1d2e",
   "metadata": {},
   "source": [
    "We will generate a number of count tables, described in sections below. \n",
    "\n",
    "## import "
   ]
  },
  {
   "cell_type": "code",
   "execution_count": 46,
   "id": "e0363d27-c5f7-4925-aa1f-e911f503be57",
   "metadata": {
    "execution": {
     "iopub.execute_input": "2023-12-20T18:31:52.677865Z",
     "iopub.status.busy": "2023-12-20T18:31:52.677405Z",
     "iopub.status.idle": "2023-12-20T18:31:52.680259Z",
     "shell.execute_reply": "2023-12-20T18:31:52.679874Z",
     "shell.execute_reply.started": "2023-12-20T18:31:52.677847Z"
    },
    "tags": []
   },
   "outputs": [],
   "source": [
    "from pyspark import SparkConf, SparkContext\n",
    "from pyspark.sql import SparkSession\n",
    "from pyspark.sql import Row\n",
    "from pyspark.sql import functions as F\n",
    "import pyspark.sql.types as T\n",
    "import pickle"
   ]
  },
  {
   "cell_type": "markdown",
   "id": "67873089-a7f3-4ccf-8403-8a2413d84479",
   "metadata": {},
   "source": [
    "## create a spark session"
   ]
  },
  {
   "cell_type": "code",
   "execution_count": 3,
   "id": "7f220458-459e-4603-834f-9ee2fb2598cb",
   "metadata": {
    "execution": {
     "iopub.execute_input": "2023-12-20T16:38:37.480844Z",
     "iopub.status.busy": "2023-12-20T16:38:37.480503Z",
     "iopub.status.idle": "2023-12-20T16:38:43.175463Z",
     "shell.execute_reply": "2023-12-20T16:38:43.174974Z",
     "shell.execute_reply.started": "2023-12-20T16:38:37.480825Z"
    },
    "tags": []
   },
   "outputs": [
    {
     "name": "stderr",
     "output_type": "stream",
     "text": [
      "Setting default log level to \"WARN\".\n",
      "To adjust logging level use sc.setLogLevel(newLevel). For SparkR, use setLogLevel(newLevel).\n",
      "23/12/20 11:38:41 WARN NativeCodeLoader: Unable to load native-hadoop library for your platform... using builtin-java classes where applicable\n",
      "23/12/20 11:38:55 WARN GarbageCollectionMetrics: To enable non-built-in garbage collector(s) List(G1 Concurrent GC), users should configure it(them) to spark.eventLog.gcMetrics.youngGenerationGarbageCollectors or spark.eventLog.gcMetrics.oldGenerationGarbageCollectors\n"
     ]
    }
   ],
   "source": [
    "conf = SparkConf() \\\n",
    "    .setAppName(\"Count\")\\\n",
    "\n",
    "# Create a SparkContext with the specified configurations\n",
    "if 'spark' in locals() and spark!=None:\n",
    "    spark.stop()\n",
    "\n",
    "sc = SparkContext(conf=conf)\n",
    "\n",
    "# Create a SparkSession from the SparkContext\n",
    "spark = SparkSession(sc)"
   ]
  },
  {
   "cell_type": "markdown",
   "id": "528fcdbc-c7e1-467f-ad0a-c299ce85cda4",
   "metadata": {},
   "source": [
    "## Load in gnomad variants annotated in the last script"
   ]
  },
  {
   "cell_type": "code",
   "execution_count": 110,
   "id": "2c0c646e-25e9-4d80-901f-f33e83cc7f26",
   "metadata": {
    "execution": {
     "iopub.execute_input": "2023-12-20T20:03:08.290834Z",
     "iopub.status.busy": "2023-12-20T20:03:08.290338Z",
     "iopub.status.idle": "2023-12-20T20:03:09.002008Z",
     "shell.execute_reply": "2023-12-20T20:03:09.001517Z",
     "shell.execute_reply.started": "2023-12-20T20:03:08.290815Z"
    },
    "tags": []
   },
   "outputs": [],
   "source": [
    "df = spark.read \\\n",
    "    .option(\"comment\", \"#\") \\\n",
    "    .option(\"delimiter\", \",\") \\\n",
    "    .csv(\"/gpfs/gibbs/pi/reilly/VariantEffects/scripts/noon_data/1.annotate/chr22_annotated_output.csv/*.csv\", header=True)"
   ]
  },
  {
   "cell_type": "markdown",
   "id": "996d24cb-8b18-4cbd-9be8-1f2d03e17017",
   "metadata": {
    "tags": []
   },
   "source": [
    "## Drop columns rows with null values. \n",
    "\n",
    "This isn't strictly necessary. We could, for example, only drop those rows with null malinouis skew when computing malinouis-skew-based metrics, drop rows with no phyloP scores when computing phyloP-based metrics, etc etc. However, this would result in different sets of variants summarized by each graph, which could create biases : if, for example, PhyloP scores are annotated for a nonrandom set of variants. Therefore I will drop rows with null data in any relevant columns prior to subsequent analysis. "
   ]
  },
  {
   "cell_type": "code",
   "execution_count": 111,
   "id": "a45c37d0-2acf-40bf-9fa1-f8dd94a74e5e",
   "metadata": {
    "execution": {
     "iopub.execute_input": "2023-12-20T20:03:09.312639Z",
     "iopub.status.busy": "2023-12-20T20:03:09.312350Z",
     "iopub.status.idle": "2023-12-20T20:03:09.318491Z",
     "shell.execute_reply": "2023-12-20T20:03:09.318021Z",
     "shell.execute_reply.started": "2023-12-20T20:03:09.312621Z"
    },
    "tags": []
   },
   "outputs": [],
   "source": [
    "df = df.dropna(subset=[\"CHROM\",\"POS\",\"cadd_phred\",\"P_ANNO\",\"mean_ref\",\"mean_skew\",\"category\"])"
   ]
  },
  {
   "cell_type": "markdown",
   "id": "0821e580-d5eb-43ab-960a-5ded4f2fca68",
   "metadata": {},
   "source": [
    "## cast columns to the appropriate types"
   ]
  },
  {
   "cell_type": "code",
   "execution_count": 112,
   "id": "38dd9f2e-712c-4e74-9a01-3969e82de5c4",
   "metadata": {
    "execution": {
     "iopub.execute_input": "2023-12-20T20:03:10.280488Z",
     "iopub.status.busy": "2023-12-20T20:03:10.280000Z",
     "iopub.status.idle": "2023-12-20T20:03:10.283891Z",
     "shell.execute_reply": "2023-12-20T20:03:10.283475Z",
     "shell.execute_reply.started": "2023-12-20T20:03:10.280469Z"
    },
    "tags": []
   },
   "outputs": [],
   "source": [
    "int_columns=[\"POS\",\"AC\",\"AN\"]\n",
    "float_columns=[\"AF\",\"K562__ref\",\"HepG2__ref\",\"SKNSH__ref\",\"K562__alt\",\"HepG2__alt\",\"SKNSH__alt\",\"K562__skew\",\"HepG2__skew\",\"SKNSH__skew\",\"cadd_phred\",\"P_ANNO\",\"mean_ref\",\"mean_skew\",\"MAF\"]\n",
    "cre_bool_columns=[]\n",
    "for column in df.columns:\n",
    "    if column.startswith(\"is_in\"):\n",
    "        bool_columns.append(column)"
   ]
  },
  {
   "cell_type": "code",
   "execution_count": 113,
   "id": "8360f33b-bd5b-4c4f-a881-5f19b5f60c6a",
   "metadata": {
    "execution": {
     "iopub.execute_input": "2023-12-20T20:03:11.578341Z",
     "iopub.status.busy": "2023-12-20T20:03:11.577876Z",
     "iopub.status.idle": "2023-12-20T20:03:11.834869Z",
     "shell.execute_reply": "2023-12-20T20:03:11.834433Z",
     "shell.execute_reply.started": "2023-12-20T20:03:11.578322Z"
    },
    "tags": []
   },
   "outputs": [],
   "source": [
    "\n",
    "for column in int_columns:\n",
    "    df = df.withColumn(column, F.col(column).cast(T.IntegerType()))\n",
    "\n",
    "for column in bool_columns:\n",
    "    df = df.withColumn(column, F.col(column).cast(T.BooleanType()))\n",
    "\n",
    "for column in cre_bool_columns:\n",
    "    df = df.withColumn(column, F.col(column).cast(T.BooleanType()))\n",
    "\n",
    "df_cre=df"
   ]
  },
  {
   "cell_type": "markdown",
   "id": "25577eb5-ad89-4016-9173-2799eb0525c6",
   "metadata": {},
   "source": [
    "# compute count tables\n",
    "\n",
    "All count tables will be broken down by each of the CRE types. "
   ]
  },
  {
   "cell_type": "markdown",
   "id": "42d08700-293b-4e32-8df0-485e291a1043",
   "metadata": {},
   "source": [
    "## PhyloP vs rarity\n",
    "- add column : \"significant\"/\"not significant\" : threshold is 2.27\n",
    "- count table of significance VS category\n",
    "- dump to disc"
   ]
  },
  {
   "cell_type": "code",
   "execution_count": 114,
   "id": "faadf1dc-21d2-4462-81d8-bb5405a49aad",
   "metadata": {
    "execution": {
     "iopub.execute_input": "2023-12-20T20:03:13.740466Z",
     "iopub.status.busy": "2023-12-20T20:03:13.740010Z",
     "iopub.status.idle": "2023-12-20T20:03:34.082093Z",
     "shell.execute_reply": "2023-12-20T20:03:34.081544Z",
     "shell.execute_reply.started": "2023-12-20T20:03:13.740447Z"
    },
    "tags": []
   },
   "outputs": [
    {
     "name": "stderr",
     "output_type": "stream",
     "text": [
      "                                                                                \r"
     ]
    }
   ],
   "source": [
    "df_phylop_significant=df_cre.withColumn(\"phylop_significant\",F.col(\"P_ANNO\")>=2.27)\n",
    "\n",
    "phylop_count_table = df_phylop_significant.groupBy([\"category\",\"phylop_significant\"]+cre_bool_columns).count()\n",
    "\n",
    "data_base_path=\"/home/mcn26/varef/scripts/noon_data/2.count/\"\n",
    "\n",
    "phylop_count_table.coalesce(1).write.csv(data_base_path+\"phylop_count_table\", mode=\"overwrite\", header=True)"
   ]
  },
  {
   "cell_type": "markdown",
   "id": "41ca765b-01fa-4e47-856d-a68fa5bc8e02",
   "metadata": {
    "tags": []
   },
   "source": [
    "## CADD vs rarity\n",
    "Similar approach to phylop above,\n",
    "\n",
    "Cutoffs are \n",
    "- All\n",
    "- score≥10\n",
    "- score≥20\n",
    "- score≥30\n",
    "- score≥40\n",
    "- score≥50"
   ]
  },
  {
   "cell_type": "code",
   "execution_count": 115,
   "id": "ee94e665-9e46-4c8c-a515-6eeb66820784",
   "metadata": {
    "execution": {
     "iopub.execute_input": "2023-12-20T20:03:34.083206Z",
     "iopub.status.busy": "2023-12-20T20:03:34.082938Z",
     "iopub.status.idle": "2023-12-20T20:03:53.729277Z",
     "shell.execute_reply": "2023-12-20T20:03:53.728712Z",
     "shell.execute_reply.started": "2023-12-20T20:03:34.083190Z"
    },
    "tags": []
   },
   "outputs": [
    {
     "name": "stderr",
     "output_type": "stream",
     "text": [
      "                                                                                \r"
     ]
    }
   ],
   "source": [
    "df_cadd_cutoff=df_cre.withColumn(\n",
    "    \"CADD>=10\",F.col(\"cadd_phred\")>=10\n",
    ").withColumn(\n",
    "    \"CADD>=20\",F.col(\"cadd_phred\")>=20\n",
    ").withColumn(\n",
    "    \"CADD>=30\",F.col(\"cadd_phred\")>=30\n",
    ").withColumn(\n",
    "    \"CADD>=40\",F.col(\"cadd_phred\")>=40\n",
    ").withColumn(\n",
    "    \"CADD>=50\",F.col(\"cadd_phred\")>=50\n",
    ")\n",
    "\n",
    "cadd_count_table = df_cadd_cutoff.groupBy([\"category\",\"CADD>=10\",\"CADD>=20\",\"CADD>=30\",\"CADD>=40\",\"CADD>=50\"]+cre_bool_columns).count()\n",
    "\n",
    "data_base_path=\"/home/mcn26/varef/scripts/noon_data/2.count/\"\n",
    "\n",
    "cadd_count_table.coalesce(1).write.csv(data_base_path+\"CADD_count_table\", mode=\"overwrite\", header=True)"
   ]
  },
  {
   "cell_type": "markdown",
   "id": "4366ea82-a106-4a74-8d90-f99c58c25a1c",
   "metadata": {},
   "source": [
    "## malinouis : reference activity & skew vs rarity\n",
    "\n",
    "First, compute min and max of skew, reference activity.\n",
    "\n",
    "While this does require aggregation of the entire dataset, min & max specifically ought to be fairly inexpensive to compute.\n",
    "\n",
    "This will only be performed during initial testing, then values will be recorded & made into constants. "
   ]
  },
  {
   "cell_type": "code",
   "execution_count": 116,
   "id": "fd4da7b3-7517-4dc2-b9b9-f66babb8dd02",
   "metadata": {
    "execution": {
     "iopub.execute_input": "2023-12-20T20:03:53.729926Z",
     "iopub.status.busy": "2023-12-20T20:03:53.729768Z",
     "iopub.status.idle": "2023-12-20T20:03:53.750023Z",
     "shell.execute_reply": "2023-12-20T20:03:53.749606Z",
     "shell.execute_reply.started": "2023-12-20T20:03:53.729910Z"
    },
    "tags": []
   },
   "outputs": [],
   "source": [
    "## add a mean_alt column\n",
    "df_cre=df_cre.withColumn(\"mean_alt\", (F.col(\"K562__alt\") + F.col(\"HepG2__alt\") + F.col(\"SKNSH__alt\")) / 3)"
   ]
  },
  {
   "cell_type": "markdown",
   "id": "ad6a4839-f5e1-4d9c-9c5b-c6a89dea4fbd",
   "metadata": {},
   "source": [
    "### helper functions"
   ]
  },
  {
   "cell_type": "code",
   "execution_count": 117,
   "id": "d6b4a270-6ed5-4469-b4b7-85e414d3375a",
   "metadata": {
    "execution": {
     "iopub.execute_input": "2023-12-20T20:03:53.751269Z",
     "iopub.status.busy": "2023-12-20T20:03:53.751067Z",
     "iopub.status.idle": "2023-12-20T20:03:53.755790Z",
     "shell.execute_reply": "2023-12-20T20:03:53.755416Z",
     "shell.execute_reply.started": "2023-12-20T20:03:53.751254Z"
    },
    "tags": []
   },
   "outputs": [],
   "source": [
    "def get_column_names(var):\n",
    "    final_names=[]\n",
    "    for sub in var:\n",
    "        final_names.append(sub[0])\n",
    "    return final_names\n",
    "\n",
    "def dump_cutoff_names_to_disc(var,name):\n",
    "    #so we don't have to hard-code the names in multiple files. \n",
    "    with open(name+'.pkl', 'wb') as file:\n",
    "        final_names=get_column_names(var)\n",
    "        pickle.dump(final_names, file)\n",
    "\n",
    "#(-Inf,1), [1,2), [2,4), [4,6), [6,Inf) (note first bin we would call as not active)\n",
    "def make_cutoff(name):\n",
    "    return [\n",
    "        [name+\"_(-Inf,1)\",(F.col(name)<1)],\n",
    "        [name+\"_[1,2)\",(F.col(name)>=1)&(F.col(name)<2)],\n",
    "        [name+\"_[2,4)\",(F.col(name)>=2)&(F.col(name)<4)],\n",
    "        [name+\"_[4,6)\",(F.col(name)>=4)&(F.col(name)<6)],\n",
    "        [name+\"_[6,Inf)\",(F.col(name)>=6)]\n",
    "    ]\n",
    "\n",
    "def apply_cutoffs(df,cutoffs):\n",
    "    df_working=df\n",
    "    for name,cutoff_condition in cutoffs:\n",
    "        df_working=df_working.withColumn(name,cutoff_condition)\n",
    "    return df_working"
   ]
  },
  {
   "cell_type": "code",
   "execution_count": 118,
   "id": "30b3dc6e-076c-4f49-8d36-4f5be73dce20",
   "metadata": {
    "execution": {
     "iopub.execute_input": "2023-12-20T20:03:53.756564Z",
     "iopub.status.busy": "2023-12-20T20:03:53.756422Z",
     "iopub.status.idle": "2023-12-20T20:03:53.776927Z",
     "shell.execute_reply": "2023-12-20T20:03:53.776509Z",
     "shell.execute_reply.started": "2023-12-20T20:03:53.756549Z"
    },
    "tags": []
   },
   "outputs": [],
   "source": [
    "skew_cutoffs=[\n",
    "    [\"mean_skew_(-Inf, -1.5)\",(F.col(\"mean_skew\")<-1.5)],\n",
    "    [\"mean_skew_[-1.5, -1)\",(F.col(\"mean_skew\")>=-1.5) & (F.col(\"mean_skew\")<-1)],\n",
    "    [\"mean_skew_[-1,-0.5)\",(F.col(\"mean_skew\")>=-1) & (F.col(\"mean_skew\")<-.5)],\n",
    "    [\"mean_skew_[-0.5,0)\",(F.col(\"mean_skew\")>=-0.5) & (F.col(\"mean_skew\")<0)],\n",
    "    [\"mean_skew_[0,0.5)\",(F.col(\"mean_skew\")>=0) & (F.col(\"mean_skew\")<0.5)],\n",
    "    [\"mean_skew_[0.5,1)\",(F.col(\"mean_skew\")>=0.5) & (F.col(\"mean_skew\")<1)],\n",
    "    [\"mean_skew_[1,1.5)\",(F.col(\"mean_skew\")>=1) & (F.col(\"mean_skew\")<1.5)],\n",
    "    [\"mean_skew_[1.5,Inf)\",(F.col(\"mean_skew\")>=1.5)],\n",
    "]#(note middle two bins ([-0.5, 0) & [0, 0.5)) we would not call as emvars)\n",
    "\n",
    "dump_cutoff_names_to_disc(skew_cutoffs,\"skew_cutoffs\")"
   ]
  },
  {
   "cell_type": "code",
   "execution_count": 119,
   "id": "68a0602c-87ab-40d2-93c6-944f70ab66dd",
   "metadata": {
    "execution": {
     "iopub.execute_input": "2023-12-20T20:03:53.777621Z",
     "iopub.status.busy": "2023-12-20T20:03:53.777478Z",
     "iopub.status.idle": "2023-12-20T20:03:53.788799Z",
     "shell.execute_reply": "2023-12-20T20:03:53.788437Z",
     "shell.execute_reply.started": "2023-12-20T20:03:53.777608Z"
    },
    "tags": []
   },
   "outputs": [],
   "source": [
    "mean_ref_cutoffs=make_cutoff(\"mean_ref\")\n",
    "dump_cutoff_names_to_disc(mean_ref_cutoffs,\"mean_ref_cutoffs\")\n",
    "\n",
    "mean_alt_cutoffs=make_cutoff(\"mean_alt\")\n",
    "dump_cutoff_names_to_disc(mean_alt_cutoffs,\"mean_alt_cutoffs\")"
   ]
  },
  {
   "cell_type": "code",
   "execution_count": 120,
   "id": "e409a9d6-cd27-43eb-8059-100e22190b67",
   "metadata": {
    "execution": {
     "iopub.execute_input": "2023-12-20T20:03:53.789636Z",
     "iopub.status.busy": "2023-12-20T20:03:53.789323Z",
     "iopub.status.idle": "2023-12-20T20:03:54.044793Z",
     "shell.execute_reply": "2023-12-20T20:03:54.044343Z",
     "shell.execute_reply.started": "2023-12-20T20:03:53.789621Z"
    },
    "tags": []
   },
   "outputs": [],
   "source": [
    "df_cre=apply_cutoffs(df_cre,skew_cutoffs)\n",
    "df_cre=apply_cutoffs(df_cre,mean_alt_cutoffs)\n",
    "df_cre=apply_cutoffs(df_cre,mean_ref_cutoffs)"
   ]
  },
  {
   "cell_type": "code",
   "execution_count": 121,
   "id": "24333c82-8ac7-4b80-8569-a323b1446aa7",
   "metadata": {
    "execution": {
     "iopub.execute_input": "2023-12-20T20:03:54.045701Z",
     "iopub.status.busy": "2023-12-20T20:03:54.045400Z",
     "iopub.status.idle": "2023-12-20T20:03:54.047841Z",
     "shell.execute_reply": "2023-12-20T20:03:54.047439Z",
     "shell.execute_reply.started": "2023-12-20T20:03:54.045686Z"
    },
    "tags": []
   },
   "outputs": [],
   "source": [
    "df_cre_backup=df_cre"
   ]
  },
  {
   "cell_type": "code",
   "execution_count": 99,
   "id": "d78633de-2704-457a-a2db-3c54186d492c",
   "metadata": {
    "execution": {
     "iopub.execute_input": "2023-12-20T19:44:15.258558Z",
     "iopub.status.busy": "2023-12-20T19:44:15.258265Z",
     "iopub.status.idle": "2023-12-20T19:44:15.260761Z",
     "shell.execute_reply": "2023-12-20T19:44:15.260378Z",
     "shell.execute_reply.started": "2023-12-20T19:44:15.258538Z"
    },
    "tags": []
   },
   "outputs": [],
   "source": [
    "#import pandas as pd\n",
    "#with pd.option_context('display.max_columns', None):\n",
    "#    display(df_cre.limit(20).toPandas())"
   ]
  },
  {
   "cell_type": "code",
   "execution_count": 122,
   "id": "e3e25e79-3263-467a-a167-8f1bd7ad6a27",
   "metadata": {
    "execution": {
     "iopub.execute_input": "2023-12-20T20:03:54.048555Z",
     "iopub.status.busy": "2023-12-20T20:03:54.048407Z",
     "iopub.status.idle": "2023-12-20T20:03:54.075309Z",
     "shell.execute_reply": "2023-12-20T20:03:54.074883Z",
     "shell.execute_reply.started": "2023-12-20T20:03:54.048541Z"
    },
    "tags": []
   },
   "outputs": [
    {
     "data": {
      "text/plain": [
       "['category',\n",
       " 'mean_skew_(-Inf, -1.5)',\n",
       " 'mean_skew_[-1.5, -1)',\n",
       " 'mean_skew_[-1,-0.5)',\n",
       " 'mean_skew_[-0.5,0)',\n",
       " 'mean_skew_[0,0.5)',\n",
       " 'mean_skew_[0.5,1)',\n",
       " 'mean_skew_[1,1.5)',\n",
       " 'mean_skew_[1.5,Inf)',\n",
       " 'mean_ref_(-Inf,1)',\n",
       " 'mean_ref_[1,2)',\n",
       " 'mean_ref_[2,4)',\n",
       " 'mean_ref_[4,6)',\n",
       " 'mean_ref_[6,Inf)',\n",
       " 'mean_alt_(-Inf,1)',\n",
       " 'mean_alt_[1,2)',\n",
       " 'mean_alt_[2,4)',\n",
       " 'mean_alt_[4,6)',\n",
       " 'mean_alt_[6,Inf)']"
      ]
     },
     "execution_count": 122,
     "metadata": {},
     "output_type": "execute_result"
    }
   ],
   "source": [
    "to_group_by=[\"category\"]+cre_bool_columns+get_column_names(skew_cutoffs)+get_column_names(mean_ref_cutoffs)+get_column_names(mean_alt_cutoffs)\n",
    "to_group_by"
   ]
  },
  {
   "cell_type": "code",
   "execution_count": 123,
   "id": "184ed900-7325-4072-b1c3-559e4ebc857c",
   "metadata": {
    "execution": {
     "iopub.execute_input": "2023-12-20T20:04:00.794058Z",
     "iopub.status.busy": "2023-12-20T20:04:00.793588Z",
     "iopub.status.idle": "2023-12-20T20:04:00.947335Z",
     "shell.execute_reply": "2023-12-20T20:04:00.946901Z",
     "shell.execute_reply.started": "2023-12-20T20:04:00.794039Z"
    },
    "tags": []
   },
   "outputs": [],
   "source": [
    "#some of the column names have commas, which can cause a problem. Let's replace them with underscores.\n",
    "renamed_column_map = {col: col.replace(',', '_').replace('.','&') for col in to_group_by if ',' in col}\n",
    "\n",
    "for old_name, new_name in renamed_column_map.items():\n",
    "    df_cre = df_cre.withColumnRenamed(old_name, new_name)"
   ]
  },
  {
   "cell_type": "code",
   "execution_count": 126,
   "id": "90bd76e2-7ac3-4338-b79e-6a87d8342daa",
   "metadata": {
    "execution": {
     "iopub.execute_input": "2023-12-20T20:04:28.187526Z",
     "iopub.status.busy": "2023-12-20T20:04:28.187156Z",
     "iopub.status.idle": "2023-12-20T20:04:52.037106Z",
     "shell.execute_reply": "2023-12-20T20:04:52.036721Z",
     "shell.execute_reply.started": "2023-12-20T20:04:28.187508Z"
    },
    "tags": []
   },
   "outputs": [
    {
     "name": "stderr",
     "output_type": "stream",
     "text": [
      "                                                                                \r"
     ]
    }
   ],
   "source": [
    "skew_and_activity_table = df_cre.groupBy(list(renamed_column_map.values())).count()\n",
    "\n",
    "skew_and_activity_table.coalesce(1).write.csv(data_base_path+\"malinouis_skew_and_thresh\", mode=\"overwrite\", header=True)"
   ]
  }
 ],
 "metadata": {
  "kernelspec": {
   "display_name": "Python 3 (ipykernel)",
   "language": "python",
   "name": "python3"
  },
  "language_info": {
   "codemirror_mode": {
    "name": "ipython",
    "version": 3
   },
   "file_extension": ".py",
   "mimetype": "text/x-python",
   "name": "python",
   "nbconvert_exporter": "python",
   "pygments_lexer": "ipython3",
   "version": "3.10.12"
  }
 },
 "nbformat": 4,
 "nbformat_minor": 5
}
