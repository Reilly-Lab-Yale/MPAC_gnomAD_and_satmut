{
 "cells": [
  {
   "cell_type": "markdown",
   "id": "888a6a00-78e6-435c-a236-f34612d5397e",
   "metadata": {},
   "source": [
    "This step will be moved to earlier in the pipe later. "
   ]
  },
  {
   "cell_type": "code",
   "execution_count": 4,
   "id": "fdfae7e2-637f-4f60-a9a5-0b5af84388cf",
   "metadata": {
    "execution": {
     "iopub.execute_input": "2024-04-19T20:34:54.339728Z",
     "iopub.status.busy": "2024-04-19T20:34:54.339417Z",
     "iopub.status.idle": "2024-04-19T20:34:54.342375Z",
     "shell.execute_reply": "2024-04-19T20:34:54.342000Z",
     "shell.execute_reply.started": "2024-04-19T20:34:54.339709Z"
    },
    "tags": []
   },
   "outputs": [],
   "source": [
    "from pyspark.sql import SparkSession\n",
    "from pyspark.sql import functions as F\n",
    "import pyspark.sql.types as T\n",
    "import os"
   ]
  },
  {
   "cell_type": "code",
   "execution_count": 2,
   "id": "e0d9311b-b493-4fcc-a518-ecca100a6f06",
   "metadata": {
    "execution": {
     "iopub.execute_input": "2024-04-19T20:32:34.199690Z",
     "iopub.status.busy": "2024-04-19T20:32:34.199277Z",
     "iopub.status.idle": "2024-04-19T20:32:40.186280Z",
     "shell.execute_reply": "2024-04-19T20:32:40.185761Z",
     "shell.execute_reply.started": "2024-04-19T20:32:34.199669Z"
    },
    "tags": []
   },
   "outputs": [
    {
     "name": "stderr",
     "output_type": "stream",
     "text": [
      "Setting default log level to \"WARN\".\n",
      "To adjust logging level use sc.setLogLevel(newLevel). For SparkR, use setLogLevel(newLevel).\n",
      "24/04/19 16:32:38 WARN NativeCodeLoader: Unable to load native-hadoop library for your platform... using builtin-java classes where applicable\n",
      "24/04/19 16:32:53 WARN GarbageCollectionMetrics: To enable non-built-in garbage collector(s) List(G1 Concurrent GC), users should configure it(them) to spark.eventLog.gcMetrics.youngGenerationGarbageCollectors or spark.eventLog.gcMetrics.oldGenerationGarbageCollectors\n"
     ]
    }
   ],
   "source": [
    "spark = SparkSession.builder.appName(\"kill_non_snp\").getOrCreate()"
   ]
  },
  {
   "cell_type": "code",
   "execution_count": 5,
   "id": "6dc17b15-c210-417b-89a0-cded293ca317",
   "metadata": {
    "execution": {
     "iopub.execute_input": "2024-04-19T20:34:55.865219Z",
     "iopub.status.busy": "2024-04-19T20:34:55.864812Z",
     "iopub.status.idle": "2024-04-19T20:34:55.868298Z",
     "shell.execute_reply": "2024-04-19T20:34:55.867909Z",
     "shell.execute_reply.started": "2024-04-19T20:34:55.865202Z"
    },
    "tags": []
   },
   "outputs": [
    {
     "name": "stdout",
     "output_type": "stream",
     "text": [
      "only crunching chromosome chr22\n"
     ]
    }
   ],
   "source": [
    "chromosome=\"NONE\"\n",
    "\n",
    "\n",
    "if \"which_chr\" in os.environ:\n",
    "    chromosome=os.environ['which_chr']\n",
    "\n",
    "if chromosome==\"NONE\":\n",
    "    print(\"error : did not find which chromosome we are supposed to crunch\")\n",
    "    exit(-1)\n",
    "else:\n",
    "    print(\"only crunching chromosome \"+chromosome)"
   ]
  },
  {
   "cell_type": "code",
   "execution_count": 6,
   "id": "620b7255-d687-4dfa-946d-f78adf8da029",
   "metadata": {
    "execution": {
     "iopub.execute_input": "2024-04-19T20:34:59.360528Z",
     "iopub.status.busy": "2024-04-19T20:34:59.360213Z",
     "iopub.status.idle": "2024-04-19T20:35:22.798278Z",
     "shell.execute_reply": "2024-04-19T20:35:22.797785Z",
     "shell.execute_reply.started": "2024-04-19T20:34:59.360509Z"
    },
    "tags": []
   },
   "outputs": [
    {
     "name": "stderr",
     "output_type": "stream",
     "text": [
      "                                                                                \r"
     ]
    }
   ],
   "source": [
    "\n",
    "variant_path=f\"/home/mcn26/varef/scripts/noon_data/3.5add_TF_footprints/{chromosome}/*.csv.gz\"\n",
    "variants=spark.read.option(\"delimiter\",\"\\t\").csv(variant_path, header=True, inferSchema=True)"
   ]
  },
  {
   "cell_type": "code",
   "execution_count": 7,
   "id": "73156715-8ac8-47ed-b85b-50c3e2783c1c",
   "metadata": {
    "execution": {
     "iopub.execute_input": "2024-04-19T20:37:12.133896Z",
     "iopub.status.busy": "2024-04-19T20:37:12.133530Z",
     "iopub.status.idle": "2024-04-19T20:37:12.201684Z",
     "shell.execute_reply": "2024-04-19T20:37:12.201127Z",
     "shell.execute_reply.started": "2024-04-19T20:37:12.133875Z"
    },
    "tags": []
   },
   "outputs": [],
   "source": [
    "variants= variants.filter(\n",
    "     variants.REF.isin(\"A\", \"T\", \"C\", \"G\") & variants.ALT.isin(\"A\", \"T\", \"C\", \"G\")\n",
    ")"
   ]
  },
  {
   "cell_type": "code",
   "execution_count": null,
   "id": "64771284-f4ce-43f4-b8a6-d6476a5a821d",
   "metadata": {},
   "outputs": [],
   "source": [
    "output_root=\"/home/mcn26/varef/scripts/noon_data/3.6_remove_non_snp/\"\n",
    "\n",
    "variants.write \\\n",
    "    .option(\"header\",\"true\") \\\n",
    "    .option(\"delimiter\",\"\\t\") \\\n",
    "    .option(\"compression\", \"gzip\") \\\n",
    "    .csv(output_root+chromosome)\n",
    "\n",
    "spark.stop()"
   ]
  }
 ],
 "metadata": {
  "kernelspec": {
   "display_name": "Python 3 (ipykernel)",
   "language": "python",
   "name": "python3"
  },
  "language_info": {
   "codemirror_mode": {
    "name": "ipython",
    "version": 3
   },
   "file_extension": ".py",
   "mimetype": "text/x-python",
   "name": "python",
   "nbconvert_exporter": "python",
   "pygments_lexer": "ipython3",
   "version": "3.10.12"
  }
 },
 "nbformat": 4,
 "nbformat_minor": 5
}
