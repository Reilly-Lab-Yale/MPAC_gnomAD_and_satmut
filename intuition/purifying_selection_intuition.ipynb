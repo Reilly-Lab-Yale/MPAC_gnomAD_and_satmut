{
 "cells": [
  {
   "cell_type": "markdown",
   "id": "f687f047-1bab-42a1-87a0-8e66f277ed73",
   "metadata": {},
   "source": [
    "The goal of this analysis is to get an intuition for how genetic variant rarity changes with (predicted) genic consequence. \n",
    "\n",
    "First, this notebook will compute count tables of variant rarity category by ensembl predicted consequence. \n",
    "\n",
    "- Load in all gnomad variants (with no malinouis predictions)\n",
    "- Discard low-quality variants. \n",
    "    - Those that don't pass gnomad's own filters\n",
    "    - Those at loci queried in a low number of people\n",
    "    - those with a minor allele frequency of 0\n",
    "- Compute allele-frequency category\n",
    "    - Compute \"rare\", \"ultra-rare\", \"common\", \"singleton\", etc...\n",
    "- Extract Ensembl VEP score categories into their own columns\n",
    "- Tally the number of alleles falling into each allele frequency category \n",
    "- write table to disc. "
   ]
  },
  {
   "cell_type": "markdown",
   "id": "45cd96df-47f4-4bb8-b31f-2bccea1e58e0",
   "metadata": {},
   "source": [
    "## Import relevant libraries"
   ]
  },
  {
   "cell_type": "code",
   "execution_count": 1,
   "id": "da6ff270-68c8-45a0-a44e-db3effc51208",
   "metadata": {
    "execution": {
     "iopub.execute_input": "2023-12-05T22:26:28.789973Z",
     "iopub.status.busy": "2023-12-05T22:26:28.789550Z",
     "iopub.status.idle": "2023-12-05T22:26:29.313621Z",
     "shell.execute_reply": "2023-12-05T22:26:29.313194Z",
     "shell.execute_reply.started": "2023-12-05T22:26:28.789954Z"
    },
    "tags": []
   },
   "outputs": [],
   "source": [
    "from pyspark import SparkConf, SparkContext\n",
    "from pyspark.sql import SparkSession\n",
    "from pyspark.sql.types import StructType, StructField, StringType, IntegerType, FloatType\n",
    "import pyspark.sql.functions as F"
   ]
  },
  {
   "cell_type": "markdown",
   "id": "3e76f3b6-4007-4773-818e-32467f59104d",
   "metadata": {},
   "source": [
    "## create the spark session."
   ]
  },
  {
   "cell_type": "code",
   "execution_count": 2,
   "id": "c26ca28c-e7c1-42ef-a044-9a98fe5f595b",
   "metadata": {
    "execution": {
     "iopub.execute_input": "2023-12-05T22:26:34.879296Z",
     "iopub.status.busy": "2023-12-05T22:26:34.878841Z",
     "iopub.status.idle": "2023-12-05T22:26:39.836932Z",
     "shell.execute_reply": "2023-12-05T22:26:39.836455Z",
     "shell.execute_reply.started": "2023-12-05T22:26:34.879279Z"
    },
    "tags": []
   },
   "outputs": [
    {
     "name": "stderr",
     "output_type": "stream",
     "text": [
      "Setting default log level to \"WARN\".\n",
      "To adjust logging level use sc.setLogLevel(newLevel). For SparkR, use setLogLevel(newLevel).\n",
      "23/12/05 17:26:38 WARN NativeCodeLoader: Unable to load native-hadoop library for your platform... using builtin-java classes where applicable\n"
     ]
    }
   ],
   "source": [
    "if 'spark' in locals() and spark!=None:\n",
    "    spark.stop()\n",
    "\n",
    "    #are we running the actual script, or just testing?\n",
    "for_real=False\n",
    "\n",
    "spark=None\n",
    "\n",
    "if for_real:\n",
    "    #assuming 1991GB memory & 24 cores\n",
    "    #(ycga_bigmem maximum memory)\n",
    "    spark = SparkSession.builder \\\n",
    "        .appName(\"ANNOTATE\") \\\n",
    "        .config(\"spark.executor.instances\", \"4\") \\\n",
    "        .config(\"spark.executor.cores\", \"5\") \\\n",
    "        .config(\"spark.executor.memory\", \"472g\") \\\n",
    "        .config(\"spark.driver.memory\", \"30g\") \\\n",
    "        .config(\"spark.driver.cores\", \"3\") \\\n",
    "        .config(\"spark.executor.memoryOverhead\", \"70g\") \\\n",
    "        .config(\"spark.sql.shuffle.partitions\", \"1000\") \\\n",
    "        .getOrCreate()\n",
    "\n",
    "else:\n",
    "    spark = SparkSession.builder \\\n",
    "        .appName(\"ANNOTATE_TEST\") \\\n",
    "        .config(\"spark.executor.memory\", \"4g\") \\\n",
    "        .config(\"spark.driver.memory\", \"4g\") \\\n",
    "        .getOrCreate()"
   ]
  },
  {
   "cell_type": "markdown",
   "id": "5ce041ab-9b0a-4e5d-9945-b84990507982",
   "metadata": {},
   "source": [
    "## Load gnomad data"
   ]
  },
  {
   "cell_type": "code",
   "execution_count": 16,
   "id": "34783e02-06db-4478-bcfe-003bd72ba274",
   "metadata": {
    "execution": {
     "iopub.execute_input": "2023-12-05T23:09:00.683726Z",
     "iopub.status.busy": "2023-12-05T23:09:00.683271Z",
     "iopub.status.idle": "2023-12-05T23:09:00.712761Z",
     "shell.execute_reply": "2023-12-05T23:09:00.712281Z",
     "shell.execute_reply.started": "2023-12-05T23:09:00.683709Z"
    },
    "tags": []
   },
   "outputs": [],
   "source": [
    "schema = StructType([\n",
    "    StructField(\"CHROM\", StringType(), True),\n",
    "    StructField(\"POS\", StringType(), True),\n",
    "    StructField(\"ID\", StringType(), True),\n",
    "    StructField(\"REF\", StringType(), True),\n",
    "    StructField(\"ALT\", StringType(), True),\n",
    "    StructField(\"QUAL\", StringType(), True),\n",
    "    StructField(\"FILTER\", StringType(), True),\n",
    "    StructField(\"INFO\", StringType(), True),\n",
    "])\n",
    "\n",
    "df = spark.read \\\n",
    "    .option(\"comment\", \"#\") \\\n",
    "    .option(\"delimiter\", \"\\t\") \\\n",
    "    .option(\"header\", \"false\") \\\n",
    "    .schema(schema) \\\n",
    "    .csv(\"/gpfs/gibbs/pi/reilly/VariantEffects/data/gnomAD/gnomAD_genomes_v3.1.2/*.vcf.gz\", header=True)\n",
    "\n"
   ]
  },
  {
   "cell_type": "markdown",
   "id": "db48d55e-678d-4cc8-9b1a-63206886204d",
   "metadata": {},
   "source": [
    "## Extract relevant columns from the info field"
   ]
  },
  {
   "cell_type": "code",
   "execution_count": 17,
   "id": "b15e30fe-1fb1-4f2c-9e1a-caf158d2454c",
   "metadata": {
    "execution": {
     "iopub.execute_input": "2023-12-05T23:09:02.662518Z",
     "iopub.status.busy": "2023-12-05T23:09:02.662051Z",
     "iopub.status.idle": "2023-12-05T23:09:02.698391Z",
     "shell.execute_reply": "2023-12-05T23:09:02.697927Z",
     "shell.execute_reply.started": "2023-12-05T23:09:02.662499Z"
    },
    "tags": []
   },
   "outputs": [],
   "source": [
    "keys_to_extract = [#NONE CAN BE SUBSTRINGS OF THE OTHERS OR THE REGEX WILL BE BORKED\n",
    "    \"AC\", \"AN\", \"AF\", \"vep\",\n",
    "]\n",
    "\n",
    "# Apply the regexp_extract function to the DataFrame to create new columns for each key.\n",
    "# The expression '([^;]*)' captures any sequence of characters that are not a semicolon,\n",
    "# which is assumed to be the delimiter for the key-value pairs in the 'INFO' column.\n",
    "\n",
    "for key in keys_to_extract:\n",
    "\n",
    "    #df = df.withColumn(key, regexp_extract(col(\"INFO\"), \"{}=([^;]+);?\".format(key), 1))\n",
    "    #when we find something put it, whne we don't put None\n",
    "    df = df.withColumn(key, \n",
    "                       F.when(\n",
    "                           F.regexp_extract(F.col(\"INFO\"), \"{}=([^;]+);?\".format(key), 1) != \"\",\n",
    "                           F.regexp_extract(F.col(\"INFO\"), \"{}=([^;]+);?\".format(key), 1)).otherwise(None))"
   ]
  },
  {
   "cell_type": "markdown",
   "id": "3d3b87ea-a97d-4830-8929-d077cb5dd5c4",
   "metadata": {},
   "source": [
    "## Filtering out low-quality variants"
   ]
  },
  {
   "cell_type": "code",
   "execution_count": 18,
   "id": "711fe5b0-2371-41bf-84ba-10afbed4dfcd",
   "metadata": {
    "execution": {
     "iopub.execute_input": "2023-12-05T23:09:04.716482Z",
     "iopub.status.busy": "2023-12-05T23:09:04.715979Z",
     "iopub.status.idle": "2023-12-05T23:09:04.729782Z",
     "shell.execute_reply": "2023-12-05T23:09:04.729341Z",
     "shell.execute_reply.started": "2023-12-05T23:09:04.716460Z"
    },
    "tags": []
   },
   "outputs": [],
   "source": [
    "df = df.filter(\n",
    "    #make sure we have the necessary population stats\n",
    "    #AC is for allele count, AF is for allele frequency, and AN is for allele number.\n",
    "    (F.col(\"AF\").isNotNull()) &\n",
    "    (F.col(\"AC\").isNotNull()) &\n",
    "    (F.col(\"AN\").isNotNull()) &\n",
    "\n",
    "    #check variant has been queried in a reasonably large number of people\n",
    "    #approx 1/3 of pop size queried in this release of gnomad\n",
    "    #a little less conservative than gnomad's own warning threshold\n",
    "    #which is triggered when a vartiant is queried in < 1/2 population\n",
    "    (F.col(\"AN\").cast(\"int\") > 25385) &\n",
    "    \n",
    "    (F.col(\"AF\").cast(\"float\") !=1.0) &\n",
    "    (F.col(\"AF\").cast(\"float\") !=0.0) &\n",
    "    \n",
    "    #gnomad filters passed. See original gnomad vcf header for spec.\n",
    "    (F.col(\"FILTER\") == \"PASS\") \n",
    "    \n",
    "    \n",
    "    \n",
    "    #(col(\"CHROM\") == \"chr22\") &\n",
    ")"
   ]
  },
  {
   "cell_type": "markdown",
   "id": "ec8a44bd-efd2-42d0-aa0a-d029a260a5cc",
   "metadata": {},
   "source": [
    "## Count occurances of each consequence code in each vep string.\n",
    "\n",
    "First, get a list of consequences for each variant"
   ]
  },
  {
   "cell_type": "markdown",
   "id": "ac671e37-25c3-4e39-81ac-d79791c1294f",
   "metadata": {},
   "source": [
    "**Insert image here**"
   ]
  },
  {
   "cell_type": "code",
   "execution_count": 27,
   "id": "33c3d147-8659-43bf-b729-4c1e7cd4e7d6",
   "metadata": {
    "execution": {
     "iopub.execute_input": "2023-12-05T23:11:33.864022Z",
     "iopub.status.busy": "2023-12-05T23:11:33.863719Z",
     "iopub.status.idle": "2023-12-05T23:11:33.895194Z",
     "shell.execute_reply": "2023-12-05T23:11:33.894721Z",
     "shell.execute_reply.started": "2023-12-05T23:11:33.864002Z"
    },
    "tags": []
   },
   "outputs": [],
   "source": [
    "#split on commas, split on pipes, split on &, extract the consequence codes into a list\n",
    "\n",
    "\n",
    "df_transformed = df.withColumn(\n",
    "    \"consequence_codes\",\n",
    "    F.transform(\n",
    "        F.split(df[\"vep\"], \",\"),\n",
    "        lambda element: F.split(F.split(element, \"\\\\|\")[1], \"&\")\n",
    "    )\n",
    ")\n",
    "\n",
    "#as a result of the multiple layers of delimiters, we end up with funky nested lists. \n",
    "#Let's smush them into normal lists\n",
    "\n",
    "df_transformed = df_transformed.withColumn(\n",
    "    \"flattened_consequence_codes\",\n",
    "    F.flatten(\"consequence_codes\")\n",
    ")\n",
    "\n",
    "df_transformed=df_transformed.drop(\"consequence_codes\")\n",
    "\n",
    "df_transformed=df_transformed.withColumnRenamed(\"flattened_consequence_codes\",\"consequence_codes\")\n",
    "\n",
    "df_transformed = df_transformed.withColumn(\"num_conseq_codes\", F.size(df_transformed[\"consequence_codes\"]))\n"
   ]
  },
  {
   "cell_type": "code",
   "execution_count": 28,
   "id": "49f63fe2-738e-4ea3-bd54-a8db004c91e9",
   "metadata": {
    "execution": {
     "iopub.execute_input": "2023-12-05T23:11:36.047838Z",
     "iopub.status.busy": "2023-12-05T23:11:36.047392Z",
     "iopub.status.idle": "2023-12-05T23:11:36.168630Z",
     "shell.execute_reply": "2023-12-05T23:11:36.168160Z",
     "shell.execute_reply.started": "2023-12-05T23:11:36.047819Z"
    },
    "tags": []
   },
   "outputs": [
    {
     "name": "stderr",
     "output_type": "stream",
     "text": [
      "23/12/05 18:11:36 WARN CSVHeaderChecker: CSV header does not conform to the schema.\n",
      " Header: chr2, 10185, rs561592428, T, C, ., AC0, AC=0;AN=78;AF=0;AC_oth=0;AN_oth=0;AC_ami=0;AN_ami=0;AC_sas=0;AN_sas=2;AF_sas=0;AC_fin=0;AN_fin=4;AF_fin=0;AC_eas=0;AN_eas=6;AF_eas=0;AC_amr=0;AN_amr=18;AF_amr=0;AC_afr=0;AN_afr=2;AF_afr=0;AC_mid=0;AN_mid=0;AC_asj=0;AN_asj=6;AF_asj=0;AC_nfe=0;AN_nfe=40;AF_nfe=0;cadd_raw_score=0.428063;cadd_phred=5.736;vep=C|intergenic_variant|MODIFIER|||Intergenic||||||||||||1|||SNV||||||||||||||||||||||||\n",
      " Schema: CHROM, POS, ID, REF, ALT, QUAL, FILTER, INFO\n",
      "Expected: CHROM but found: chr2\n",
      "CSV file: file:///gpfs/gibbs/pi/reilly/VariantEffects/data/gnomAD/gnomAD_genomes_v3.1.2/gnomad.genomes.v3.1.2.sites.chr2.subinfo.vcf.gz\n"
     ]
    },
    {
     "data": {
      "text/html": [
       "<div>\n",
       "<style scoped>\n",
       "    .dataframe tbody tr th:only-of-type {\n",
       "        vertical-align: middle;\n",
       "    }\n",
       "\n",
       "    .dataframe tbody tr th {\n",
       "        vertical-align: top;\n",
       "    }\n",
       "\n",
       "    .dataframe thead th {\n",
       "        text-align: right;\n",
       "    }\n",
       "</style>\n",
       "<table border=\"1\" class=\"dataframe\">\n",
       "  <thead>\n",
       "    <tr style=\"text-align: right;\">\n",
       "      <th></th>\n",
       "      <th>CHROM</th>\n",
       "      <th>POS</th>\n",
       "      <th>ID</th>\n",
       "      <th>REF</th>\n",
       "      <th>ALT</th>\n",
       "      <th>QUAL</th>\n",
       "      <th>FILTER</th>\n",
       "      <th>INFO</th>\n",
       "      <th>AC</th>\n",
       "      <th>AN</th>\n",
       "      <th>AF</th>\n",
       "      <th>vep</th>\n",
       "      <th>consequence_codes</th>\n",
       "      <th>num_conseq_codes</th>\n",
       "    </tr>\n",
       "  </thead>\n",
       "  <tbody>\n",
       "    <tr>\n",
       "      <th>0</th>\n",
       "      <td>chr2</td>\n",
       "      <td>10275</td>\n",
       "      <td>rs1213078649</td>\n",
       "      <td>CCCTAACCCTTTACCCTAACCCGAACCCCTAACCCCTAACCCCTAA...</td>\n",
       "      <td>C</td>\n",
       "      <td>.</td>\n",
       "      <td>PASS</td>\n",
       "      <td>AC=2;AN=25518;AF=7.8376e-05;AC_oth=0;AN_oth=32...</td>\n",
       "      <td>2</td>\n",
       "      <td>25518</td>\n",
       "      <td>7.8376e-05</td>\n",
       "      <td>-|intergenic_variant|MODIFIER|||Intergenic||||...</td>\n",
       "      <td>[intergenic_variant]</td>\n",
       "      <td>1</td>\n",
       "    </tr>\n",
       "    <tr>\n",
       "      <th>1</th>\n",
       "      <td>chr2</td>\n",
       "      <td>10276</td>\n",
       "      <td>.</td>\n",
       "      <td>CCTAACCCTTTACCCTAACCCGAACCCCTAACCCCTAACCCCTAACCCT</td>\n",
       "      <td>C</td>\n",
       "      <td>.</td>\n",
       "      <td>PASS</td>\n",
       "      <td>AC=1;AN=27482;AF=3.63875e-05;AC_oth=0;AN_oth=3...</td>\n",
       "      <td>1</td>\n",
       "      <td>27482</td>\n",
       "      <td>3.63875e-05</td>\n",
       "      <td>-|intergenic_variant|MODIFIER|||Intergenic||||...</td>\n",
       "      <td>[intergenic_variant]</td>\n",
       "      <td>1</td>\n",
       "    </tr>\n",
       "    <tr>\n",
       "      <th>2</th>\n",
       "      <td>chr2</td>\n",
       "      <td>10277</td>\n",
       "      <td>rs1558169985</td>\n",
       "      <td>C</td>\n",
       "      <td>CT</td>\n",
       "      <td>.</td>\n",
       "      <td>PASS</td>\n",
       "      <td>AC=1;AN=25498;AF=3.92188e-05;AC_oth=0;AN_oth=3...</td>\n",
       "      <td>1</td>\n",
       "      <td>25498</td>\n",
       "      <td>3.92188e-05</td>\n",
       "      <td>T|intergenic_variant|MODIFIER|||Intergenic||||...</td>\n",
       "      <td>[intergenic_variant]</td>\n",
       "      <td>1</td>\n",
       "    </tr>\n",
       "    <tr>\n",
       "      <th>3</th>\n",
       "      <td>chr2</td>\n",
       "      <td>10277</td>\n",
       "      <td>rs574205379</td>\n",
       "      <td>C</td>\n",
       "      <td>G</td>\n",
       "      <td>.</td>\n",
       "      <td>PASS</td>\n",
       "      <td>AC=3;AN=25498;AF=0.000117656;AC_oth=0;AN_oth=3...</td>\n",
       "      <td>3</td>\n",
       "      <td>25498</td>\n",
       "      <td>0.000117656</td>\n",
       "      <td>G|intergenic_variant|MODIFIER|||Intergenic||||...</td>\n",
       "      <td>[intergenic_variant]</td>\n",
       "      <td>1</td>\n",
       "    </tr>\n",
       "    <tr>\n",
       "      <th>4</th>\n",
       "      <td>chr2</td>\n",
       "      <td>10283</td>\n",
       "      <td>rs1247897532</td>\n",
       "      <td>C</td>\n",
       "      <td>G</td>\n",
       "      <td>.</td>\n",
       "      <td>PASS</td>\n",
       "      <td>AC=1;AN=27516;AF=3.63425e-05;AC_oth=0;AN_oth=3...</td>\n",
       "      <td>1</td>\n",
       "      <td>27516</td>\n",
       "      <td>3.63425e-05</td>\n",
       "      <td>G|intergenic_variant|MODIFIER|||Intergenic||||...</td>\n",
       "      <td>[intergenic_variant]</td>\n",
       "      <td>1</td>\n",
       "    </tr>\n",
       "  </tbody>\n",
       "</table>\n",
       "</div>"
      ],
      "text/plain": [
       "  CHROM    POS            ID  \\\n",
       "0  chr2  10275  rs1213078649   \n",
       "1  chr2  10276             .   \n",
       "2  chr2  10277  rs1558169985   \n",
       "3  chr2  10277   rs574205379   \n",
       "4  chr2  10283  rs1247897532   \n",
       "\n",
       "                                                 REF ALT QUAL FILTER  \\\n",
       "0  CCCTAACCCTTTACCCTAACCCGAACCCCTAACCCCTAACCCCTAA...   C    .   PASS   \n",
       "1  CCTAACCCTTTACCCTAACCCGAACCCCTAACCCCTAACCCCTAACCCT   C    .   PASS   \n",
       "2                                                  C  CT    .   PASS   \n",
       "3                                                  C   G    .   PASS   \n",
       "4                                                  C   G    .   PASS   \n",
       "\n",
       "                                                INFO AC     AN           AF  \\\n",
       "0  AC=2;AN=25518;AF=7.8376e-05;AC_oth=0;AN_oth=32...  2  25518   7.8376e-05   \n",
       "1  AC=1;AN=27482;AF=3.63875e-05;AC_oth=0;AN_oth=3...  1  27482  3.63875e-05   \n",
       "2  AC=1;AN=25498;AF=3.92188e-05;AC_oth=0;AN_oth=3...  1  25498  3.92188e-05   \n",
       "3  AC=3;AN=25498;AF=0.000117656;AC_oth=0;AN_oth=3...  3  25498  0.000117656   \n",
       "4  AC=1;AN=27516;AF=3.63425e-05;AC_oth=0;AN_oth=3...  1  27516  3.63425e-05   \n",
       "\n",
       "                                                 vep     consequence_codes  \\\n",
       "0  -|intergenic_variant|MODIFIER|||Intergenic||||...  [intergenic_variant]   \n",
       "1  -|intergenic_variant|MODIFIER|||Intergenic||||...  [intergenic_variant]   \n",
       "2  T|intergenic_variant|MODIFIER|||Intergenic||||...  [intergenic_variant]   \n",
       "3  G|intergenic_variant|MODIFIER|||Intergenic||||...  [intergenic_variant]   \n",
       "4  G|intergenic_variant|MODIFIER|||Intergenic||||...  [intergenic_variant]   \n",
       "\n",
       "   num_conseq_codes  \n",
       "0                 1  \n",
       "1                 1  \n",
       "2                 1  \n",
       "3                 1  \n",
       "4                 1  "
      ]
     },
     "execution_count": 28,
     "metadata": {},
     "output_type": "execute_result"
    }
   ],
   "source": [
    "df_transformed.limit(5).toPandas()"
   ]
  },
  {
   "cell_type": "markdown",
   "id": "e733a4fe-8583-4c6c-a760-60e65e53315f",
   "metadata": {},
   "source": [
    "Next, count how many times each consequence occurs for each variant."
   ]
  },
  {
   "cell_type": "code",
   "execution_count": 29,
   "id": "37e68ff5-ce23-4974-893a-20bf205cb0ff",
   "metadata": {
    "execution": {
     "iopub.execute_input": "2023-12-05T23:11:37.948258Z",
     "iopub.status.busy": "2023-12-05T23:11:37.947951Z",
     "iopub.status.idle": "2023-12-05T23:11:38.768565Z",
     "shell.execute_reply": "2023-12-05T23:11:38.768085Z",
     "shell.execute_reply.started": "2023-12-05T23:11:37.948239Z"
    },
    "tags": []
   },
   "outputs": [],
   "source": [
    "df_with_count=df_transformed\n",
    "\n",
    "all_consequence_codes = [\"transcript_ablation\", \"splice_acceptor_variant\", \"splice_donor_variant\", \"stop_gained\", \"frameshift_variant\", \"stop_lost\", \"start_lost\", \"transcript_amplification\",\"feature_elongation\",\"feature_truncation\",\"inframe_insertion\",\"inframe_deletion\",\"missense_variant\",\"protein_altering_variant\",\"splice_donor_5th_base_variant\",\"splice_region_variant\",\"splice_donor_region_variant\",\"splice_polypyrimidine_tract_variant\",\"incomplete_terminal_codon_variant\",\"start_retained_variant\",\"stop_retained_variant\",\"synonymous_variant\",\"coding_sequence_variant\",\"mature_miRNA_variant\",\"5_prime_UTR_variant\",\"3_prime_UTR_variant\",\"non_coding_transcript_exon_variant\",\"intron_variant\",\"NMD_transcript_variant\",\"non_coding_transcript_variant\",\"coding_transcript_variant\",\"upstream_gene_variant\",\"downstream_gene_variant\",\"TFBS_ablation\",\"TFBS_amplification\",\"TF_binding_site_variant\",\"regulatory_region_ablation\",\"regulatory_region_amplification\",\"regulatory_region_variant\",\"intergenic_variant\",\"sequence_variant\"]\n",
    "for value_to_count in all_consequence_codes:\n",
    "    #for the current value we are counting, turn the array of consequence codes into an array of 1 or 0,\n",
    "    #reporting whether the element matches the current value we are counting or not. \n",
    "    multi_hot = F.transform(\n",
    "        F.col(\"consequence_codes\"),\n",
    "        #gets value == value_to_count, then casts that T/F to int (1/0)\n",
    "        lambda x: (x == F.lit(value_to_count)).cast(\"int\")\n",
    "    )\n",
    "\n",
    "    num_occurrences = F.aggregate(\n",
    "        multi_hot,\n",
    "        F.lit(0),\n",
    "        lambda acc, x: acc + x\n",
    "    )\n",
    "\n",
    "    df_with_count = df_with_count.withColumn(\"num_\"+value_to_count, num_occurrences)"
   ]
  },
  {
   "cell_type": "code",
   "execution_count": 30,
   "id": "4aea8ce6-6f24-468b-b517-b34643261dd1",
   "metadata": {
    "execution": {
     "iopub.execute_input": "2023-12-05T23:11:54.898898Z",
     "iopub.status.busy": "2023-12-05T23:11:54.898608Z",
     "iopub.status.idle": "2023-12-05T23:11:54.922710Z",
     "shell.execute_reply": "2023-12-05T23:11:54.922211Z",
     "shell.execute_reply.started": "2023-12-05T23:11:54.898879Z"
    },
    "tags": []
   },
   "outputs": [],
   "source": [
    "sample=df_with_count.limit(4000)\n",
    "sample=sample.withColumn(\"consequence_codes\",F.col(\"consequence_codes\").cast(\"string\"))"
   ]
  },
  {
   "cell_type": "code",
   "execution_count": 31,
   "id": "fc76e658-da32-4774-b2a8-fb490d77ed39",
   "metadata": {
    "execution": {
     "iopub.execute_input": "2023-12-05T23:11:55.934253Z",
     "iopub.status.busy": "2023-12-05T23:11:55.934001Z",
     "iopub.status.idle": "2023-12-05T23:12:01.347242Z",
     "shell.execute_reply": "2023-12-05T23:12:01.346723Z",
     "shell.execute_reply.started": "2023-12-05T23:11:55.934236Z"
    },
    "tags": []
   },
   "outputs": [
    {
     "name": "stderr",
     "output_type": "stream",
     "text": [
      "23/12/05 18:11:56 WARN SparkStringUtils: Truncated the string representation of a plan since it was too large. This behavior can be adjusted by setting 'spark.sql.debug.maxToStringFields'.\n",
      "23/12/05 18:11:56 WARN CSVHeaderChecker: CSV header does not conform to the schema.\n",
      " Header: chr2, 10185, rs561592428, T, C, ., AC0, AC=0;AN=78;AF=0;AC_oth=0;AN_oth=0;AC_ami=0;AN_ami=0;AC_sas=0;AN_sas=2;AF_sas=0;AC_fin=0;AN_fin=4;AF_fin=0;AC_eas=0;AN_eas=6;AF_eas=0;AC_amr=0;AN_amr=18;AF_amr=0;AC_afr=0;AN_afr=2;AF_afr=0;AC_mid=0;AN_mid=0;AC_asj=0;AN_asj=6;AF_asj=0;AC_nfe=0;AN_nfe=40;AF_nfe=0;cadd_raw_score=0.428063;cadd_phred=5.736;vep=C|intergenic_variant|MODIFIER|||Intergenic||||||||||||1|||SNV||||||||||||||||||||||||\n",
      " Schema: CHROM, POS, ID, REF, ALT, QUAL, FILTER, INFO\n",
      "Expected: CHROM but found: chr2\n",
      "CSV file: file:///gpfs/gibbs/pi/reilly/VariantEffects/data/gnomAD/gnomAD_genomes_v3.1.2/gnomad.genomes.v3.1.2.sites.chr2.subinfo.vcf.gz\n",
      "23/12/05 18:11:56 WARN CSVHeaderChecker: CSV header does not conform to the schema.\n",
      " Header: chr3, 10056, rs1405756557, T, TC, ., AC0, AC=0;AN=0;AC_oth=0;AN_oth=0;AC_ami=0;AN_ami=0;AC_sas=0;AN_sas=0;AC_fin=0;AN_fin=0;AC_eas=0;AN_eas=0;AC_amr=0;AN_amr=0;AC_afr=0;AN_afr=0;AC_mid=0;AN_mid=0;AC_asj=0;AN_asj=0;AC_nfe=0;AN_nfe=0;cadd_raw_score=0.304556;cadd_phred=4.342;vep=C|upstream_gene_variant|MODIFIER|LINC01986|ENSG00000223587|Transcript|ENST00000656877|lncRNA||||||||||1|1696|1|insertion||HGNC|HGNC:52817|||||||||||||||||||||,C|upstream_gene_variant|MODIFIER|LINC01986|ENSG00000223587|Transcript|ENST00000659825|lncRNA||||||||||1|1712|1|insertion||HGNC|HGNC:52817|||||||||||||||||||||,C|upstream_gene_variant|MODIFIER|LINC01986|ENSG00000223587|Transcript|ENST00000660204|lncRNA||||||||||1|1711|1|insertion||HGNC|HGNC:52817|YES||||||||||||||||||||,C|upstream_gene_variant|MODIFIER|LINC01986|ENSG00000223587|Transcript|ENST00000660491|lncRNA||||||||||1|1711|1|insertion||HGNC|HGNC:52817|||||||||||||||||||||,C|upstream_gene_variant|MODIFIER|LINC01986|ENSG00000223587|Transcript|ENST00000661675|lncRNA||||||||||1|1688|1|insertion||HGNC|HGNC:52817|||||||||||||||||||||,C|upstream_gene_variant|MODIFIER|LINC01986|102723448|Transcript|NR_110824.1|lncRNA||||||||||1|1694|1|insertion||EntrezGene|HGNC:52817|YES||||||||||||||||||||\n",
      " Schema: CHROM, POS, ID, REF, ALT, QUAL, FILTER, INFO\n",
      "Expected: CHROM but found: chr3\n",
      "CSV file: file:///gpfs/gibbs/pi/reilly/VariantEffects/data/gnomAD/gnomAD_genomes_v3.1.2/gnomad.genomes.v3.1.2.sites.chr3.subinfo.vcf.gz\n",
      "23/12/05 18:11:56 WARN CSVHeaderChecker: CSV header does not conform to the schema.\n",
      " Header: chr4, 10040, rs1256921123, T, C, ., AC0, AC=0;AN=5662;AF=0;AC_oth=0;AN_oth=64;AF_oth=0;AC_ami=0;AN_ami=64;AF_ami=0;AC_sas=0;AN_sas=222;AF_sas=0;AC_fin=0;AN_fin=414;AF_fin=0;AC_eas=0;AN_eas=324;AF_eas=0;AC_amr=0;AN_amr=538;AF_amr=0;AC_afr=0;AN_afr=826;AF_afr=0;AC_mid=0;AN_mid=24;AF_mid=0;AC_asj=0;AN_asj=146;AF_asj=0;AC_nfe=0;AN_nfe=3040;AF_nfe=0;cadd_raw_score=0.784445;cadd_phred=9.238;vep=C|intergenic_variant|MODIFIER|||Intergenic||||||||||||1|||SNV||||||||||||||||||||||||\n",
      " Schema: CHROM, POS, ID, REF, ALT, QUAL, FILTER, INFO\n",
      "Expected: CHROM but found: chr4\n",
      "CSV file: file:///gpfs/gibbs/pi/reilly/VariantEffects/data/gnomAD/gnomAD_genomes_v3.1.2/gnomad.genomes.v3.1.2.sites.chr4.subinfo.vcf.gz\n",
      "23/12/05 18:11:56 WARN CSVHeaderChecker: CSV header does not conform to the schema.\n",
      " Header: chr6, 61714, ., C, T, ., AC0;AS_VQSR, AC=0;AN=0;AC_oth=0;AN_oth=0;AC_ami=0;AN_ami=0;AC_sas=0;AN_sas=0;AC_fin=0;AN_fin=0;AC_eas=0;AN_eas=0;AC_amr=0;AN_amr=0;AC_afr=0;AN_afr=0;AC_mid=0;AN_mid=0;AC_asj=0;AN_asj=0;AC_nfe=0;AN_nfe=0;cadd_raw_score=0.186271;cadd_phred=2.968;vep=T|intergenic_variant|MODIFIER|||Intergenic||||||||||||1|||SNV||||||||||||||||||||||||\n",
      " Schema: CHROM, POS, ID, REF, ALT, QUAL, FILTER, INFO\n",
      "Expected: CHROM but found: chr6\n",
      "CSV file: file:///gpfs/gibbs/pi/reilly/VariantEffects/data/gnomAD/gnomAD_genomes_v3.1.2/gnomad.genomes.v3.1.2.sites.chr6.subinfo.vcf.gz\n",
      "23/12/05 18:11:56 WARN CSVHeaderChecker: CSV header does not conform to the schema.\n",
      " Header: chr7, 10020, ., T, A, ., AC0;AS_VQSR, AC=0;AN=550;AF=0;AC_oth=0;AN_oth=6;AF_oth=0;AC_ami=0;AN_ami=6;AF_ami=0;AC_sas=0;AN_sas=16;AF_sas=0;AC_fin=0;AN_fin=108;AF_fin=0;AC_eas=0;AN_eas=34;AF_eas=0;AC_amr=0;AN_amr=68;AF_amr=0;AC_afr=0;AN_afr=86;AF_afr=0;AC_mid=0;AN_mid=0;AC_asj=0;AN_asj=6;AF_asj=0;AC_nfe=0;AN_nfe=220;AF_nfe=0;cadd_raw_score=0.662868;cadd_phred=8.111;vep=A|upstream_gene_variant|MODIFIER|AC215522.3|ENSG00000283061|Transcript|ENST00000635602|lncRNA||||||||||1|2684|1|SNV||Clone_based_ensembl_gene||YES|5|||||||||||||||||||,A|downstream_gene_variant|MODIFIER|LOC102723872|102723872|Transcript|XR_002956529.1|lncRNA||||||||||1|3585|-1|SNV||EntrezGene||YES||||||||||||||||||||,A|downstream_gene_variant|MODIFIER|LOC102723872|102723872|Transcript|XR_002956530.1|lncRNA||||||||||1|3585|-1|SNV||EntrezGene||||||||||||||||||||||,A|downstream_gene_variant|MODIFIER|LOC102723872|102723872|Transcript|XR_002956531.1|lncRNA||||||||||1|3585|-1|SNV||EntrezGene||||||||||||||||||||||,A|regulatory_region_variant|MODIFIER|||RegulatoryFeature|ENSR00000813874|CTCF_binding_site||||||||||1|||SNV||||||||||||||||||||||||,A|TF_binding_site_variant|MODIFIER|||MotifFeature|ENSM00490176791|||||||||||1||1|SNV|||||||||||||||||ENSPFM0589|15|N|0.002||||\n",
      " Schema: CHROM, POS, ID, REF, ALT, QUAL, FILTER, INFO\n",
      "Expected: CHROM but found: chr7\n",
      "CSV file: file:///gpfs/gibbs/pi/reilly/VariantEffects/data/gnomAD/gnomAD_genomes_v3.1.2/gnomad.genomes.v3.1.2.sites.chr7.subinfo.vcf.gz\n",
      "23/12/05 18:11:56 WARN CSVHeaderChecker: CSV header does not conform to the schema.\n",
      " Header: chr1, 10031, ., T, C, ., AC0;AS_VQSR, AC=0;AN=56642;AF=0;AC_oth=0;AN_oth=782;AF_oth=0;AC_ami=0;AN_ami=352;AF_ami=0;AC_sas=0;AN_sas=1120;AF_sas=0;AC_fin=0;AN_fin=4326;AF_fin=0;AC_eas=0;AN_eas=1712;AF_eas=0;AC_amr=0;AN_amr=6420;AF_amr=0;AC_afr=0;AN_afr=14642;AF_afr=0;AC_mid=0;AN_mid=192;AF_mid=0;AC_asj=0;AN_asj=1550;AF_asj=0;AC_nfe=0;AN_nfe=25546;AF_nfe=0;cadd_raw_score=0.756535;cadd_phred=8.973;vep=C|upstream_gene_variant|MODIFIER|DDX11L1|ENSG00000223972|Transcript|ENST00000450305|transcribed_unprocessed_pseudogene||||||||||1|1979|1|SNV||HGNC|HGNC:37102|||||||||||||||||||||,C|upstream_gene_variant|MODIFIER|DDX11L1|ENSG00000223972|Transcript|ENST00000456328|processed_transcript||||||||||1|1838|1|SNV||HGNC|HGNC:37102|YES|1|||||||||||||||||||,C|downstream_gene_variant|MODIFIER|WASH7P|ENSG00000227232|Transcript|ENST00000488147|unprocessed_pseudogene||||||||||1|4373|-1|SNV||HGNC|HGNC:38034|YES||||||||||||||||||||,C|downstream_gene_variant|MODIFIER|WASH7P|653635|Transcript|NR_024540.1|transcribed_pseudogene||||||||||1|4331|-1|SNV||EntrezGene|HGNC:38034|YES||||||||||||||||||||,C|upstream_gene_variant|MODIFIER|DDX11L1|100287102|Transcript|NR_046018.2|transcribed_pseudogene||||||||||1|1843|1|SNV||EntrezGene|HGNC:37102|YES||||||||||||||||||||,C|regulatory_region_variant|MODIFIER|||RegulatoryFeature|ENSR00000344264|CTCF_binding_site||||||||||1|||SNV||||||||||||||||||||||||\n",
      " Schema: CHROM, POS, ID, REF, ALT, QUAL, FILTER, INFO\n",
      "Expected: CHROM but found: chr1\n",
      "CSV file: file:///gpfs/gibbs/pi/reilly/VariantEffects/data/gnomAD/gnomAD_genomes_v3.1.2/gnomad.genomes.v3.1.2.sites.chr1.subinfo.vcf.gz\n",
      "23/12/05 18:11:56 WARN CSVHeaderChecker: CSV header does not conform to the schema.\n",
      " Header: chr5, 10431, ., C, T, ., AC0;AS_VQSR, AC=0;AN=22920;AF=0;AC_oth=0;AN_oth=328;AF_oth=0;AC_ami=0;AN_ami=56;AF_ami=0;AC_sas=0;AN_sas=400;AF_sas=0;AC_fin=0;AN_fin=3624;AF_fin=0;AC_eas=0;AN_eas=586;AF_eas=0;AC_amr=0;AN_amr=5758;AF_amr=0;AC_afr=0;AN_afr=5362;AF_afr=0;AC_mid=0;AN_mid=58;AF_mid=0;AC_asj=0;AN_asj=360;AF_asj=0;AC_nfe=0;AN_nfe=6388;AF_nfe=0;cadd_raw_score=0.604956;cadd_phred=7.561;vep=T|regulatory_region_variant|MODIFIER|||RegulatoryFeature|ENSR00000746287|CTCF_binding_site||||||||||1|||SNV||||||||||||||||||||||||,T|intergenic_variant|MODIFIER|||Intergenic||||||||||||1|||SNV||||||||||||||||||||||||\n",
      " Schema: CHROM, POS, ID, REF, ALT, QUAL, FILTER, INFO\n",
      "Expected: CHROM but found: chr5\n",
      "CSV file: file:///gpfs/gibbs/pi/reilly/VariantEffects/data/gnomAD/gnomAD_genomes_v3.1.2/gnomad.genomes.v3.1.2.sites.chr5.subinfo.vcf.gz\n",
      "23/12/05 18:11:56 WARN CSVHeaderChecker: CSV header does not conform to the schema.\n",
      " Header: chr8, 60049, ., A, G, ., AC0;AS_VQSR, AC=0;AN=712;AF=0;AC_oth=0;AN_oth=10;AF_oth=0;AC_ami=0;AN_ami=0;AC_sas=0;AN_sas=12;AF_sas=0;AC_fin=0;AN_fin=4;AF_fin=0;AC_eas=0;AN_eas=74;AF_eas=0;AC_amr=0;AN_amr=122;AF_amr=0;AC_afr=0;AN_afr=350;AF_afr=0;AC_mid=0;AN_mid=0;AC_asj=0;AN_asj=10;AF_asj=0;AC_nfe=0;AN_nfe=130;AF_nfe=0;cadd_raw_score=0.533679;cadd_phred=6.852;vep=G|downstream_gene_variant|MODIFIER|AC144568.1|ENSG00000253620|Transcript|ENST00000520139|processed_pseudogene||||||||||1|4042|-1|SNV||Clone_based_ensembl_gene||YES||||||||||||||||||||,G|downstream_gene_variant|MODIFIER|LOC101927506|101927506|Transcript|XR_001745751.2|misc_RNA||||||||||1|3839|-1|SNV||EntrezGene||||||||||||||||||||||,G|downstream_gene_variant|MODIFIER|LOC101927506|101927506|Transcript|XR_001745752.2|misc_RNA||||||||||1|3839|-1|SNV||EntrezGene||||||||||||||||||||||,G|downstream_gene_variant|MODIFIER|LOC101927506|101927506|Transcript|XR_001745753.2|misc_RNA||||||||||1|3839|-1|SNV||EntrezGene||||||||||||||||||||||,G|downstream_gene_variant|MODIFIER|LOC101927506|101927506|Transcript|XR_001745754.2|misc_RNA||||||||||1|3839|-1|SNV||EntrezGene||||||||||||||||||||||,G|downstream_gene_variant|MODIFIER|LOC101927506|101927506|Transcript|XR_001745755.2|misc_RNA||||||||||1|3839|-1|SNV||EntrezGene||||||||||||||||||||||,G|downstream_gene_variant|MODIFIER|LOC101927506|101927506|Transcript|XR_001745756.2|misc_RNA||||||||||1|3839|-1|SNV||EntrezGene||||||||||||||||||||||,G|downstream_gene_variant|MODIFIER|LOC101927506|101927506|Transcript|XR_941341.3|misc_RNA||||||||||1|3839|-1|SNV||EntrezGene||YES||||||||||||||||||||\n",
      " Schema: CHROM, POS, ID, REF, ALT, QUAL, FILTER, INFO\n",
      "Expected: CHROM but found: chr8\n",
      "CSV file: file:///gpfs/gibbs/pi/reilly/VariantEffects/data/gnomAD/gnomAD_genomes_v3.1.2/gnomad.genomes.v3.1.2.sites.chr8.subinfo.vcf.gz\n",
      "23/12/05 18:11:57 WARN CSVHeaderChecker: CSV header does not conform to the schema.\n",
      " Header: chr10, 10265, ., C, T, ., AC0;AS_VQSR, AC=0;AN=6346;AF=0;AC_oth=0;AN_oth=94;AF_oth=0;AC_ami=0;AN_ami=14;AF_ami=0;AC_sas=0;AN_sas=40;AF_sas=0;AC_fin=0;AN_fin=904;AF_fin=0;AC_eas=0;AN_eas=94;AF_eas=0;AC_amr=0;AN_amr=2320;AF_amr=0;AC_afr=0;AN_afr=1024;AF_afr=0;AC_mid=0;AN_mid=6;AF_mid=0;AC_asj=0;AN_asj=98;AF_asj=0;AC_nfe=0;AN_nfe=1752;AF_nfe=0;cadd_raw_score=0.626004;cadd_phred=7.763;vep=T|downstream_gene_variant|MODIFIER|AC215217.1|ENSG00000260370|Transcript|ENST00000562162|lncRNA||||||||||1|3796|-1|SNV||Clone_based_ensembl_gene||YES|3|||||||||||||||||||,T|downstream_gene_variant|MODIFIER|AC215217.1|ENSG00000260370|Transcript|ENST00000566940|lncRNA||||||||||1|3873|-1|SNV||Clone_based_ensembl_gene|||3|||||||||||||||||||,T|upstream_gene_variant|MODIFIER|LOC102723376|102723376|Transcript|NR_110795.1|lncRNA||||||||||1|1456|1|SNV||EntrezGene||YES||||||||||||||||||||\n",
      " Schema: CHROM, POS, ID, REF, ALT, QUAL, FILTER, INFO\n",
      "Expected: CHROM but found: chr10\n",
      "CSV file: file:///gpfs/gibbs/pi/reilly/VariantEffects/data/gnomAD/gnomAD_genomes_v3.1.2/gnomad.genomes.v3.1.2.sites.chr10.subinfo.vcf.gz\n",
      "23/12/05 18:11:57 WARN CSVHeaderChecker: CSV header does not conform to the schema.\n",
      " Header: chr11, 60994, rs1452162522, T, C, ., AC0;AS_VQSR, AC=0;AN=2;AF=0;AC_oth=0;AN_oth=0;AC_ami=0;AN_ami=0;AC_sas=0;AN_sas=0;AC_fin=0;AN_fin=0;AC_eas=0;AN_eas=0;AC_amr=0;AN_amr=0;AC_afr=0;AN_afr=2;AF_afr=0;AC_mid=0;AN_mid=0;AC_asj=0;AN_asj=0;AC_nfe=0;AN_nfe=0;cadd_raw_score=0.728512;cadd_phred=8.716;vep=C|intergenic_variant|MODIFIER|||Intergenic||||||||||||1|||SNV||||||||||||||||||||||||\n",
      " Schema: CHROM, POS, ID, REF, ALT, QUAL, FILTER, INFO\n",
      "Expected: CHROM but found: chr11\n",
      "CSV file: file:///gpfs/gibbs/pi/reilly/VariantEffects/data/gnomAD/gnomAD_genomes_v3.1.2/gnomad.genomes.v3.1.2.sites.chr11.subinfo.vcf.gz\n",
      "23/12/05 18:11:57 WARN CSVHeaderChecker: CSV header does not conform to the schema.\n",
      " Header: chr12, 10055, ., C, T, ., AC0;AS_VQSR, AC=0;AN=30170;AF=0;AC_oth=0;AN_oth=382;AF_oth=0;AC_ami=0;AN_ami=334;AF_ami=0;AC_sas=0;AN_sas=580;AF_sas=0;AC_fin=0;AN_fin=3396;AF_fin=0;AC_eas=0;AN_eas=1296;AF_eas=0;AC_amr=0;AN_amr=3324;AF_amr=0;AC_afr=0;AN_afr=8456;AF_afr=0;AC_mid=0;AN_mid=182;AF_mid=0;AC_asj=0;AN_asj=670;AF_asj=0;AC_nfe=0;AN_nfe=11550;AF_nfe=0;cadd_raw_score=0.616756;cadd_phred=7.674;vep=T|downstream_gene_variant|MODIFIER|WASH8P|ENSG00000226210|Transcript|ENST00000400706|unprocessed_pseudogene||||||||||1|4467|-1|SNV||HGNC|HGNC:53913|YES||||||||||||||||||||,T|upstream_gene_variant|MODIFIER|DDX11L8|ENSG00000256263|Transcript|ENST00000535849|unprocessed_pseudogene||||||||||1|2255|1|SNV||HGNC|HGNC:37101|YES||||||||||||||||||||,T|downstream_gene_variant|MODIFIER|LOC100288778|100288778|Transcript|NR_130745.1|transcribed_pseudogene||||||||||1|4422|-1|SNV||EntrezGene||YES||||||||||||||||||||\n",
      " Schema: CHROM, POS, ID, REF, ALT, QUAL, FILTER, INFO\n",
      "Expected: CHROM but found: chr12\n",
      "CSV file: file:///gpfs/gibbs/pi/reilly/VariantEffects/data/gnomAD/gnomAD_genomes_v3.1.2/gnomad.genomes.v3.1.2.sites.chr12.subinfo.vcf.gz\n",
      "23/12/05 18:11:57 WARN CSVHeaderChecker: CSV header does not conform to the schema.\n",
      " Header: chr9, 10047, rs567034784, C, T, ., AC0, AC=0;AN=8;AF=0;AC_oth=0;AN_oth=0;AC_ami=0;AN_ami=0;AC_sas=0;AN_sas=0;AC_fin=0;AN_fin=0;AC_eas=0;AN_eas=2;AF_eas=0;AC_amr=0;AN_amr=0;AC_afr=0;AN_afr=0;AC_mid=0;AN_mid=0;AC_asj=0;AN_asj=0;AC_nfe=0;AN_nfe=6;AF_nfe=0;cadd_raw_score=0.441786;cadd_phred=5.885;vep=T|upstream_gene_variant|MODIFIER|DDX11L5|ENSG00000236875|Transcript|ENST00000421620|unprocessed_pseudogene||||||||||1|2087|1|SNV||HGNC|HGNC:37106|YES||||||||||||||||||||,T|downstream_gene_variant|MODIFIER|WASHC1|ENSG00000181404|Transcript|ENST00000442898|protein_coding||||||||||1|4428|-1|SNV||HGNC|HGNC:24361|YES|2|P1|CCDS78375.1|ENSP00000485627||||||||||||||||,T|downstream_gene_variant|MODIFIER|WASHC1|100287171|Transcript|NM_001378090.1|protein_coding||||||||||1|4466|-1|SNV||EntrezGene|HGNC:24361|||||NP_001365019.1||||||||||||||||,T|downstream_gene_variant|MODIFIER|WASHC1|100287171|Transcript|NM_182905.6|protein_coding||||||||||1|4466|-1|SNV||EntrezGene|HGNC:24361|||||NP_878908.4||||||||||||||||,T|upstream_gene_variant|MODIFIER|DDX11L5|100287596|Transcript|NR_051986.1|transcribed_pseudogene||||||||||1|1940|1|SNV||EntrezGene|HGNC:37106|YES||||||||||||||||||||,T|downstream_gene_variant|MODIFIER|WASHC1|100287171|Transcript|XM_011517659.2|protein_coding||||||||||1|4428|-1|SNV||EntrezGene|HGNC:24361|||||XP_011515961.1||||||||||||||||,T|downstream_gene_variant|MODIFIER|WASHC1|100287171|Transcript|XM_011517660.2|protein_coding||||||||||1|4428|-1|SNV||EntrezGene|HGNC:24361|||||XP_011515962.1||||||||||||||||,T|downstream_gene_variant|MODIFIER|WASHC1|100287171|Transcript|XM_011517662.3|protein_coding||||||||||1|4428|-1|SNV||EntrezGene|HGNC:24361|||||XP_011515964.1||||||||||||||||,T|downstream_gene_variant|MODIFIER|WASHC1|100287171|Transcript|XM_011517663.3|protein_coding||||||||||1|4428|-1|SNV||EntrezGene|HGNC:24361|||||XP_011515965.1||||||||||||||||,T|downstream_gene_variant|MODIFIER|WASHC1|100287171|Transcript|XM_011517664.3|protein_coding||||||||||1|4428|-1|SNV||EntrezGene|HGNC:24361|||||XP_011515966.1||||||||||||||||,T|downstream_gene_variant|MODIFIER|WASHC1|100287171|Transcript|XM_011517665.2|protein_coding||||||||||1|4428|-1|SNV||EntrezGene|HGNC:24361|||||XP_011515967.1||||||||||||||||,T|downstream_gene_variant|MODIFIER|WASHC1|100287171|Transcript|XM_011517666.2|protein_coding||||||||||1|4428|-1|SNV||EntrezGene|HGNC:24361|||||XP_011515968.1||||||||||||||||,T|downstream_gene_variant|MODIFIER|WASHC1|100287171|Transcript|XM_017014169.1|protein_coding||||||||||1|4428|-1|SNV||EntrezGene|HGNC:24361|||||XP_016869658.1||||||||||||||||,T|downstream_gene_variant|MODIFIER|WASHC1|100287171|Transcript|XM_017014170.1|protein_coding||||||||||1|4428|-1|SNV||EntrezGene|HGNC:24361|||||XP_016869659.1||||||||||||||||,T|downstream_gene_variant|MODIFIER|WASHC1|100287171|Transcript|XM_017014171.1|protein_coding||||||||||1|4428|-1|SNV||EntrezGene|HGNC:24361|||||XP_016869660.1||||||||||||||||,T|downstream_gene_variant|MODIFIER|WASHC1|100287171|Transcript|XM_017014172.1|protein_coding||||||||||1|4428|-1|SNV||EntrezGene|HGNC:24361|||||XP_016869661.1||||||||||||||||,T|downstream_gene_variant|MODIFIER|WASHC1|100287171|Transcript|XM_024447369.1|protein_coding||||||||||1|4428|-1|SNV||EntrezGene|HGNC:24361|||||XP_024303137.1||||||||||||||||,T|downstream_gene_variant|MODIFIER|WASHC1|100287171|Transcript|XM_024447370.1|protein_coding||||||||||1|4428|-1|SNV||EntrezGene|HGNC:24361|||||XP_024303138.1||||||||||||||||,T|downstream_gene_variant|MODIFIER|WASHC1|100287171|Transcript|XR_002956737.1|misc_RNA||||||||||1|4428|-1|SNV||EntrezGene|HGNC:24361|YES||||||||||||||||||||,T|downstream_gene_variant|MODIFIER|WASHC1|100287171|Transcript|XR_002956738.1|misc_RNA||||||||||1|4428|-1|SNV||EntrezGene|HGNC:24361|||||||||||||||||||||,T|downstream_gene_variant|MODIFIER|WASHC1|100287171|Transcript|XR_002956739.1|misc_RNA||||||||||1|4428|-1|SNV||EntrezGene|HGNC:24361|||||||||||||||||||||,T|downstream_gene_variant|MODIFIER|WASHC1|100287171|Transcript|XR_002956740.1|misc_RNA||||||||||1|4428|-1|SNV||EntrezGene|HGNC:24361|||||||||||||||||||||,T|downstream_gene_variant|MODIFIER|WASHC1|100287171|Transcript|XR_929142.2|misc_RNA||||||||||1|4428|-1|SNV||EntrezGene|HGNC:24361|||||||||||||||||||||\n",
      " Schema: CHROM, POS, ID, REF, ALT, QUAL, FILTER, INFO\n",
      "Expected: CHROM but found: chr9\n",
      "CSV file: file:///gpfs/gibbs/pi/reilly/VariantEffects/data/gnomAD/gnomAD_genomes_v3.1.2/gnomad.genomes.v3.1.2.sites.chr9.subinfo.vcf.gz\n",
      "23/12/05 18:11:57 WARN CSVHeaderChecker: CSV header does not conform to the schema.\n",
      " Header: chr16, 10006, rs1167029723, C, G, ., AC0;AS_VQSR, AC=0;AN=11474;AF=0;AC_oth=0;AN_oth=134;AF_oth=0;AC_ami=0;AN_ami=54;AF_ami=0;AC_sas=0;AN_sas=404;AF_sas=0;AC_fin=0;AN_fin=830;AF_fin=0;AC_eas=0;AN_eas=596;AF_eas=0;AC_amr=0;AN_amr=1124;AF_amr=0;AC_afr=0;AN_afr=1246;AF_afr=0;AC_mid=0;AN_mid=24;AF_mid=0;AC_asj=0;AN_asj=250;AF_asj=0;AC_nfe=0;AN_nfe=6812;AF_nfe=0;cadd_raw_score=0.223772;cadd_phred=3.398;vep=G|upstream_gene_variant|MODIFIER|DDX11L10|ENSG00000233614|Transcript|ENST00000430178|transcribed_unprocessed_pseudogene||||||||||1|1855|1|SNV||HGNC|HGNC:14125|||||||||||||||||||||,G|upstream_gene_variant|MODIFIER|DDX11L10|ENSG00000233614|Transcript|ENST00000513886|processed_transcript||||||||||1|1549|1|SNV||HGNC|HGNC:14125|YES|1|||||||||||||||||||,G|downstream_gene_variant|MODIFIER|WASH4P|ENSG00000234769|Transcript|ENST00000564273|unprocessed_pseudogene||||||||||1|4375|-1|SNV||HGNC|HGNC:14126|YES||||||||||||||||||||,G|upstream_gene_variant|MODIFIER|DDX11L10|100287029|Transcript|NR_045117.1|transcribed_pseudogene||||||||||1|1549|1|SNV||EntrezGene|HGNC:14125|YES||||||||||||||||||||\n",
      " Schema: CHROM, POS, ID, REF, ALT, QUAL, FILTER, INFO\n",
      "Expected: CHROM but found: chr16\n",
      "CSV file: file:///gpfs/gibbs/pi/reilly/VariantEffects/data/gnomAD/gnomAD_genomes_v3.1.2/gnomad.genomes.v3.1.2.sites.chr16.subinfo.vcf.gz\n",
      "23/12/05 18:11:57 WARN CSVHeaderChecker: CSV header does not conform to the schema.\n",
      " Header: chr17, 60103, rs1399099657, G, A, ., AC0;AS_VQSR, AC=0;AN=48;AF=0;AC_oth=0;AN_oth=0;AC_ami=0;AN_ami=0;AC_sas=0;AN_sas=0;AC_fin=0;AN_fin=0;AC_eas=0;AN_eas=0;AC_amr=0;AN_amr=0;AC_afr=0;AN_afr=46;AF_afr=0;AC_mid=0;AN_mid=0;AC_asj=0;AN_asj=0;AC_nfe=0;AN_nfe=2;AF_nfe=0;cadd_raw_score=0.575328;cadd_phred=7.271;vep=A|downstream_gene_variant|MODIFIER|AC240565.2|ENSG00000280279|Transcript|ENST00000623180|lncRNA||||||||||1|3996|-1|SNV||Clone_based_ensembl_gene||YES|5|||||||||||||||||||\n",
      " Schema: CHROM, POS, ID, REF, ALT, QUAL, FILTER, INFO\n",
      "Expected: CHROM but found: chr17\n",
      "CSV file: file:///gpfs/gibbs/pi/reilly/VariantEffects/data/gnomAD/gnomAD_genomes_v3.1.2/gnomad.genomes.v3.1.2.sites.chr17.subinfo.vcf.gz\n",
      "23/12/05 18:11:57 WARN CSVHeaderChecker: CSV header does not conform to the schema.\n",
      " Header: chr14, 18223526, rs1448451182, A, G, ., AC0, AC=0;AN=46358;AF=0;AC_oth=0;AN_oth=546;AF_oth=0;AC_ami=0;AN_ami=256;AF_ami=0;AC_sas=0;AN_sas=846;AF_sas=0;AC_fin=0;AN_fin=2126;AF_fin=0;AC_eas=0;AN_eas=1470;AF_eas=0;AC_amr=0;AN_amr=3190;AF_amr=0;AC_afr=0;AN_afr=11348;AF_afr=0;AC_mid=0;AN_mid=94;AF_mid=0;AC_asj=0;AN_asj=1358;AF_asj=0;AC_nfe=0;AN_nfe=25124;AF_nfe=0;cadd_raw_score=0.447758;cadd_phred=5.949;vep=G|intergenic_variant|MODIFIER|||Intergenic||||||||||||1|||SNV||||||||||||||||||||||||\n",
      " Schema: CHROM, POS, ID, REF, ALT, QUAL, FILTER, INFO\n",
      "Expected: CHROM but found: chr14\n",
      "CSV file: file:///gpfs/gibbs/pi/reilly/VariantEffects/data/gnomAD/gnomAD_genomes_v3.1.2/gnomad.genomes.v3.1.2.sites.chr14.subinfo.vcf.gz\n",
      "23/12/05 18:11:58 WARN CSVHeaderChecker: CSV header does not conform to the schema.\n",
      " Header: chr15, 17000088, ., G, A, ., AC0;AS_VQSR, AC=0;AN=14;AF=0;AC_oth=0;AN_oth=0;AC_ami=0;AN_ami=0;AC_sas=0;AN_sas=8;AF_sas=0;AC_fin=0;AN_fin=0;AC_eas=0;AN_eas=0;AC_amr=0;AN_amr=0;AC_afr=0;AN_afr=2;AF_afr=0;AC_mid=0;AN_mid=0;AC_asj=0;AN_asj=0;AC_nfe=0;AN_nfe=4;AF_nfe=0;cadd_raw_score=0.507966;cadd_phred=6.587;vep=A|intergenic_variant|MODIFIER|||Intergenic||||||||||||1|||SNV||||||||||||||||||||||||\n",
      " Schema: CHROM, POS, ID, REF, ALT, QUAL, FILTER, INFO\n",
      "Expected: CHROM but found: chr15\n",
      "CSV file: file:///gpfs/gibbs/pi/reilly/VariantEffects/data/gnomAD/gnomAD_genomes_v3.1.2/gnomad.genomes.v3.1.2.sites.chr15.subinfo.vcf.gz\n",
      "23/12/05 18:11:58 WARN CSVHeaderChecker: CSV header does not conform to the schema.\n",
      " Header: chr18, 10023, rs148696862, T, A, ., AC0, AC=0;AN=0;AC_oth=0;AN_oth=0;AC_ami=0;AN_ami=0;AC_sas=0;AN_sas=0;AC_fin=0;AN_fin=0;AC_eas=0;AN_eas=0;AC_amr=0;AN_amr=0;AC_afr=0;AN_afr=0;AC_mid=0;AN_mid=0;AC_asj=0;AN_asj=0;AC_nfe=0;AN_nfe=0;cadd_raw_score=0.756025;cadd_phred=8.968;vep=A|downstream_gene_variant|MODIFIER|AP005530.1|ENSG00000263305|Transcript|ENST00000572062|lncRNA||||||||||1|4467|-1|SNV||Clone_based_ensembl_gene|||3|||||||||||||||||||,A|upstream_gene_variant|MODIFIER|LINC02564|ENSG00000262352|Transcript|ENST00000572573|lncRNA||||||||||1|1102|1|SNV||HGNC|HGNC:53604|YES|3|||||||||||||||||||,A|downstream_gene_variant|MODIFIER|AP005530.1|ENSG00000263305|Transcript|ENST00000572608|lncRNA||||||||||1|4172|-1|SNV||Clone_based_ensembl_gene||YES|3|||||||||||||||||||,A|upstream_gene_variant|MODIFIER|LINC02564|ENSG00000262352|Transcript|ENST00000575820|lncRNA||||||||||1|1080|1|SNV||HGNC|HGNC:53604||5|||||||||||||||||||,A|upstream_gene_variant|MODIFIER|LINC02564|102724130|Transcript|NR_149137.1|lncRNA||||||||||1|2052|1|SNV||EntrezGene|HGNC:53604|||||||||||||||||||||,A|upstream_gene_variant|MODIFIER|LINC02564|102724130|Transcript|NR_149138.1|lncRNA||||||||||1|1537|1|SNV||EntrezGene|HGNC:53604|YES||||||||||||||||||||,A|regulatory_region_variant|MODIFIER|||RegulatoryFeature|ENSR00000567186|CTCF_binding_site||||||||||1|||SNV||||||||||||||||||||||||,A|TF_binding_site_variant|MODIFIER|||MotifFeature|ENSM00246143557|||||||||||1||1|SNV|||||||||||||||||ENSPFM0083|4|Y|-0.082||||,A|TF_binding_site_variant|MODIFIER|||MotifFeature|ENSM00205930021|||||||||||1||-1|SNV|||||||||||||||||ENSPFM0530|10|Y|-0.093||||,A|TF_binding_site_variant|MODIFIER|||MotifFeature|ENSM00205712160|||||||||||1||-1|SNV|||||||||||||||||ENSPFM0172|7|N|-0.039||||,A|TF_binding_site_variant|MODIFIER|||MotifFeature|ENSM00490545287|||||||||||1||1|SNV|||||||||||||||||ENSPFM0589|3|N|-0.029||||,A|TF_binding_site_variant|MODIFIER|||MotifFeature|ENSM00205900720|||||||||||1||-1|SNV|||||||||||||||||ENSPFM0067|19|N|-0.057||||,A|TF_binding_site_variant|MODIFIER|||MotifFeature|ENSM00206006566|||||||||||1||-1|SNV|||||||||||||||||ENSPFM0219|12|N|-0.016||||,A|TF_binding_site_variant|MODIFIER|||MotifFeature|ENSM00246643593|||||||||||1||1|SNV|||||||||||||||||ENSPFM0084|4|Y|-0.032||||,A|TF_binding_site_variant|MODIFIER|||MotifFeature|ENSM00205965907|||||||||||1||-1|SNV|||||||||||||||||ENSPFM0306|19|Y|-0.039||||,A|TF_binding_site_variant|MODIFIER|||MotifFeature|ENSM00207474191|||||||||||1||1|SNV|||||||||||||||||ENSPFM0159|4|N|-0.012||||,A|TF_binding_site_variant|MODIFIER|||MotifFeature|ENSM00208648768|||||||||||1||1|SNV|||||||||||||||||ENSPFM0548|14|N|-0.003||||,A|TF_binding_site_variant|MODIFIER|||MotifFeature|ENSM00205656693|||||||||||1||-1|SNV|||||||||||||||||ENSPFM0139|9|N|-0.013||||\n",
      " Schema: CHROM, POS, ID, REF, ALT, QUAL, FILTER, INFO\n",
      "Expected: CHROM but found: chr18\n",
      "CSV file: file:///gpfs/gibbs/pi/reilly/VariantEffects/data/gnomAD/gnomAD_genomes_v3.1.2/gnomad.genomes.v3.1.2.sites.chr18.subinfo.vcf.gz\n",
      "23/12/05 18:11:58 WARN CSVHeaderChecker: CSV header does not conform to the schema.\n",
      " Header: chr19, 60184, rs1391618909, G, A, ., AC0;AS_VQSR, AC=0;AN=0;AC_oth=0;AN_oth=0;AC_ami=0;AN_ami=0;AC_sas=0;AN_sas=0;AC_fin=0;AN_fin=0;AC_eas=0;AN_eas=0;AC_amr=0;AN_amr=0;AC_afr=0;AN_afr=0;AC_mid=0;AN_mid=0;AC_asj=0;AN_asj=0;AC_nfe=0;AN_nfe=0;cadd_raw_score=-0.352339;cadd_phred=0.242;vep=A|downstream_gene_variant|MODIFIER|WASH5P|ENSG00000282458|Transcript|ENST00000632506|processed_transcript||||||||||1|767|-1|SNV||HGNC|HGNC:33884||1|||||||||||||||||||,A|downstream_gene_variant|MODIFIER|WASH5P|ENSG00000282458|Transcript|ENST00000633703|processed_transcript||||||||||1|3637|-1|SNV||HGNC|HGNC:33884||5|||||||||||||||||||,A|downstream_gene_variant|MODIFIER|WASH5P|ENSG00000282458|Transcript|ENST00000633719|retained_intron||||||||||1|1929|-1|SNV||HGNC|HGNC:33884|YES||||||||||||||||||||,A|downstream_gene_variant|MODIFIER|WASH5P|ENSG00000282458|Transcript|ENST00000634023|processed_transcript||||||||||1|4867|-1|SNV||HGNC|HGNC:33884||5|||||||||||||||||||,A|downstream_gene_variant|MODIFIER|WASH5P|375690|Transcript|NR_033266.1|transcribed_pseudogene||||||||||1|767|-1|SNV||EntrezGene|HGNC:33884|YES||||||||||||||||||||\n",
      " Schema: CHROM, POS, ID, REF, ALT, QUAL, FILTER, INFO\n",
      "Expected: CHROM but found: chr19\n",
      "CSV file: file:///gpfs/gibbs/pi/reilly/VariantEffects/data/gnomAD/gnomAD_genomes_v3.1.2/gnomad.genomes.v3.1.2.sites.chr19.subinfo.vcf.gz\n",
      "23/12/05 18:11:58 WARN CSVHeaderChecker: CSV header does not conform to the schema.\n",
      " Header: chr13, 18171254, ., C, A, ., AC0, AC=0;AN=1404;AF=0;AC_oth=0;AN_oth=18;AF_oth=0;AC_ami=0;AN_ami=12;AF_ami=0;AC_sas=0;AN_sas=22;AF_sas=0;AC_fin=0;AN_fin=58;AF_fin=0;AC_eas=0;AN_eas=46;AF_eas=0;AC_amr=0;AN_amr=96;AF_amr=0;AC_afr=0;AN_afr=312;AF_afr=0;AC_mid=0;AN_mid=0;AC_asj=0;AN_asj=42;AF_asj=0;AC_nfe=0;AN_nfe=798;AF_nfe=0;cadd_raw_score=0.738913;cadd_phred=8.811;vep=A|downstream_gene_variant|MODIFIER|AL356585.4|ENSG00000279924|Transcript|ENST00000623078|unprocessed_pseudogene||||||||||1|2756|-1|SNV||Clone_based_ensembl_gene||YES||||||||||||||||||||\n",
      " Schema: CHROM, POS, ID, REF, ALT, QUAL, FILTER, INFO\n",
      "Expected: CHROM but found: chr13\n",
      "CSV file: file:///gpfs/gibbs/pi/reilly/VariantEffects/data/gnomAD/gnomAD_genomes_v3.1.2/gnomad.genomes.v3.1.2.sites.chr13.subinfo.vcf.gz\n",
      "23/12/05 18:11:58 WARN CSVHeaderChecker: CSV header does not conform to the schema.\n",
      " Header: chr20, 60010, rs1340966003, G, A, ., AC0, AC=0;AN=7990;AF=0;AC_oth=0;AN_oth=110;AF_oth=0;AC_ami=0;AN_ami=58;AF_ami=0;AC_sas=0;AN_sas=116;AF_sas=0;AC_fin=0;AN_fin=538;AF_fin=0;AC_eas=0;AN_eas=260;AF_eas=0;AC_amr=0;AN_amr=558;AF_amr=0;AC_afr=0;AN_afr=1544;AF_afr=0;AC_mid=0;AN_mid=26;AF_mid=0;AC_asj=0;AN_asj=254;AF_asj=0;AC_nfe=0;AN_nfe=4526;AF_nfe=0;cadd_raw_score=0.440514;cadd_phred=5.871;vep=A|intergenic_variant|MODIFIER|||Intergenic||||||||||||1|||SNV||||||||||||||||||||||||\n",
      " Schema: CHROM, POS, ID, REF, ALT, QUAL, FILTER, INFO\n",
      "Expected: CHROM but found: chr20\n",
      "CSV file: file:///gpfs/gibbs/pi/reilly/VariantEffects/data/gnomAD/gnomAD_genomes_v3.1.2/gnomad.genomes.v3.1.2.sites.chr20.subinfo.vcf.gz\n",
      "23/12/05 18:11:58 WARN CSVHeaderChecker: CSV header does not conform to the schema.\n",
      " Header: chr22, 10510033, ., T, C, ., AC0;AS_VQSR, AC=0;AN=6;AF=0;AC_oth=0;AN_oth=0;AC_ami=0;AN_ami=0;AC_sas=0;AN_sas=0;AC_fin=0;AN_fin=0;AC_eas=0;AN_eas=0;AC_amr=0;AN_amr=2;AF_amr=0;AC_afr=0;AN_afr=4;AF_afr=0;AC_mid=0;AN_mid=0;AC_asj=0;AN_asj=0;AC_nfe=0;AN_nfe=0;cadd_raw_score=0.502585;cadd_phred=6.531;vep=C|intergenic_variant|MODIFIER|||Intergenic||||||||||||1|||SNV||||||||||||||||||||||||\n",
      " Schema: CHROM, POS, ID, REF, ALT, QUAL, FILTER, INFO\n",
      "Expected: CHROM but found: chr22\n",
      "CSV file: file:///gpfs/gibbs/pi/reilly/VariantEffects/data/gnomAD/gnomAD_genomes_v3.1.2/gnomad.genomes.v3.1.2.sites.chr22.subinfo.vcf.gz\n",
      "23/12/05 18:11:58 WARN CSVHeaderChecker: CSV header does not conform to the schema.\n",
      " Header: chr21, 5029882, ., CAA, C, ., AC0, AC=0;AN=0;AC_oth=0;AN_oth=0;AC_ami=0;AN_ami=0;AC_sas=0;AN_sas=0;AC_fin=0;AN_fin=0;AC_eas=0;AN_eas=0;AC_amr=0;AN_amr=0;AC_afr=0;AN_afr=0;AC_mid=0;AN_mid=0;AC_asj=0;AN_asj=0;AC_nfe=0;AN_nfe=0;cadd_raw_score=-0.053856;cadd_phred=1.034;vep=-|intron_variant|MODIFIER|FP565260.3|ENSG00000277117|Transcript|ENST00000612610|protein_coding||4/6|ENST00000612610.4:c.697+1659_697+1660del|||||||1||1|deletion||Clone_based_ensembl_gene|||1|A2||ENSP00000483732||||||||||||||||,-|intron_variant|MODIFIER|FP565260.3|ENSG00000277117|Transcript|ENST00000620481|protein_coding||3/5|ENST00000620481.4:c.346+1659_346+1660del|||||||1||1|deletion||Clone_based_ensembl_gene|||5|||ENSP00000484302||||||||||||||||,-|intron_variant|MODIFIER|FP565260.3|ENSG00000277117|Transcript|ENST00000623795|protein_coding||3/5|ENST00000623795.1:c.346+1659_346+1660del|||||||1||1|deletion||Clone_based_ensembl_gene|||2|||ENSP00000485649||||||||||||||||,-|intron_variant&NMD_transcript_variant|MODIFIER|FP565260.3|ENSG00000277117|Transcript|ENST00000623903|nonsense_mediated_decay||4/6|ENST00000623903.3:c.*311+1659_*311+1660del|||||||1||1|deletion||Clone_based_ensembl_gene|||2|||ENSP00000485557||||||||||||||||,-|intron_variant|MODIFIER|FP565260.3|ENSG00000277117|Transcript|ENST00000623960|protein_coding||4/6|ENST00000623960.4:c.697+1659_697+1660del|||||||1||1|deletion||Clone_based_ensembl_gene||YES|1|P2|CCDS86973.1|ENSP00000485129||||||||||||||||,-|intron_variant|MODIFIER|LOC102723996|102723996|Transcript|NM_001363770.2|protein_coding||4/6|NM_001363770.2:c.697+1659_697+1660del|||||||1||1|deletion||EntrezGene||YES||||NP_001350699.1||||||||||||||||,-|intron_variant|MODIFIER|LOC102723996|102723996|Transcript|XM_006723899.2|protein_coding||4/5|XM_006723899.2:c.697+1659_697+1660del|||||||1||1|deletion||EntrezGene||||||XP_006723962.1||||||||||||||||,-|intron_variant|MODIFIER|LOC102723996|102723996|Transcript|XM_011546078.2|protein_coding||4/6|XM_011546078.2:c.697+1659_697+1660del|||||||1||1|deletion||EntrezGene||||||XP_011544380.1||||||||||||||||,-|intron_variant|MODIFIER|LOC102723996|102723996|Transcript|XM_011546079.1|protein_coding||4/6|XM_011546079.1:c.697+1659_697+1660del|||||||1||1|deletion||EntrezGene||||||XP_011544381.1||||||||||||||||\n",
      " Schema: CHROM, POS, ID, REF, ALT, QUAL, FILTER, INFO\n",
      "Expected: CHROM but found: chr21\n",
      "CSV file: file:///gpfs/gibbs/pi/reilly/VariantEffects/data/gnomAD/gnomAD_genomes_v3.1.2/gnomad.genomes.v3.1.2.sites.chr21.subinfo.vcf.gz\n",
      "                                                                                \r"
     ]
    }
   ],
   "source": [
    "sample.write.csv(\"/home/mcn26/varef/scripts/noon_data/delete-me.csv\", header=True, mode=\"overwrite\")"
   ]
  },
  {
   "cell_type": "code",
   "execution_count": null,
   "id": "1a01253e-9a4e-4f08-9a80-edc5a1c319de",
   "metadata": {},
   "outputs": [],
   "source": []
  }
 ],
 "metadata": {
  "kernelspec": {
   "display_name": "Python 3 (ipykernel)",
   "language": "python",
   "name": "python3"
  },
  "language_info": {
   "codemirror_mode": {
    "name": "ipython",
    "version": 3
   },
   "file_extension": ".py",
   "mimetype": "text/x-python",
   "name": "python",
   "nbconvert_exporter": "python",
   "pygments_lexer": "ipython3",
   "version": "3.10.12"
  }
 },
 "nbformat": 4,
 "nbformat_minor": 5
}
