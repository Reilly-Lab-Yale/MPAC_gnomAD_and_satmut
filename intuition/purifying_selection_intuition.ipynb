{
 "cells": [
  {
   "cell_type": "markdown",
   "id": "f687f047-1bab-42a1-87a0-8e66f277ed73",
   "metadata": {},
   "source": [
    "The goal of this analysis is to get an intuition for how genetic variant rarity changes with (predicted) genic consequence. \n",
    "\n",
    "First, this notebook will compute count tables of variant rarity category by ensembl predicted consequence. \n",
    "\n",
    "- Load in all gnomad variants (with no malinouis predictions)\n",
    "- Discard low-quality variants. \n",
    "    - Those that don't pass gnomad's own filters\n",
    "    - Those at loci queried in a low number of people\n",
    "    - those with a minor allele frequency of 0\n",
    "- Compute allele-frequency category\n",
    "    - Compute \"rare\", \"ultra-rare\", \"common\", \"singleton\", etc...\n",
    "- Extract Ensembl VEP score categories into their own columns\n",
    "- Tally the number of alleles falling into each allele frequency category \n",
    "- write table to disc. "
   ]
  },
  {
   "cell_type": "markdown",
   "id": "c366f718-06fa-4e2e-94de-769cbd8dfd8f",
   "metadata": {},
   "source": [
    "TODO\n",
    "- Fix effect extraction\n",
    "- Recompute based on consequence code\n",
    "    - Assign only one consequence code to each : just the worst !\n",
    "- Remove non-SNPs!"
   ]
  },
  {
   "cell_type": "markdown",
   "id": "45cd96df-47f4-4bb8-b31f-2bccea1e58e0",
   "metadata": {},
   "source": [
    "## Import relevant libraries"
   ]
  },
  {
   "cell_type": "code",
   "execution_count": 2,
   "id": "da6ff270-68c8-45a0-a44e-db3effc51208",
   "metadata": {
    "execution": {
     "iopub.execute_input": "2024-06-10T21:40:54.550877Z",
     "iopub.status.busy": "2024-06-10T21:40:54.550539Z",
     "iopub.status.idle": "2024-06-10T21:40:54.796695Z",
     "shell.execute_reply": "2024-06-10T21:40:54.796276Z",
     "shell.execute_reply.started": "2024-06-10T21:40:54.550861Z"
    },
    "tags": []
   },
   "outputs": [],
   "source": [
    "from pyspark import SparkConf, SparkContext\n",
    "from pyspark.sql import SparkSession\n",
    "import pyspark.sql.functions as F\n",
    "import pyspark.sql.types as T\n",
    "import json"
   ]
  },
  {
   "cell_type": "markdown",
   "id": "3e76f3b6-4007-4773-818e-32467f59104d",
   "metadata": {},
   "source": [
    "## create the spark session."
   ]
  },
  {
   "cell_type": "code",
   "execution_count": 3,
   "id": "c26ca28c-e7c1-42ef-a044-9a98fe5f595b",
   "metadata": {
    "execution": {
     "iopub.execute_input": "2024-06-10T21:40:56.673833Z",
     "iopub.status.busy": "2024-06-10T21:40:56.673527Z",
     "iopub.status.idle": "2024-06-10T21:40:58.876117Z",
     "shell.execute_reply": "2024-06-10T21:40:58.875651Z",
     "shell.execute_reply.started": "2024-06-10T21:40:56.673815Z"
    },
    "tags": []
   },
   "outputs": [
    {
     "name": "stderr",
     "output_type": "stream",
     "text": [
      "Setting default log level to \"WARN\".\n",
      "To adjust logging level use sc.setLogLevel(newLevel). For SparkR, use setLogLevel(newLevel).\n",
      "24/06/10 17:40:58 WARN NativeCodeLoader: Unable to load native-hadoop library for your platform... using builtin-java classes where applicable\n"
     ]
    }
   ],
   "source": [
    "spark = SparkSession.builder \\\n",
    "    .appName(\"purifying_selection\") \\\n",
    "    .getOrCreate()"
   ]
  },
  {
   "cell_type": "markdown",
   "id": "5ce041ab-9b0a-4e5d-9945-b84990507982",
   "metadata": {},
   "source": [
    "## Load variants"
   ]
  },
  {
   "cell_type": "code",
   "execution_count": 5,
   "id": "0379abb3-91ce-4e53-abf4-21146650e82c",
   "metadata": {
    "execution": {
     "iopub.execute_input": "2024-06-10T21:41:08.689137Z",
     "iopub.status.busy": "2024-06-10T21:41:08.688715Z",
     "iopub.status.idle": "2024-06-10T21:41:15.230637Z",
     "shell.execute_reply": "2024-06-10T21:41:15.230197Z",
     "shell.execute_reply.started": "2024-06-10T21:41:08.689109Z"
    },
    "tags": []
   },
   "outputs": [
    {
     "name": "stderr",
     "output_type": "stream",
     "text": [
      "24/06/10 17:41:09 WARN GarbageCollectionMetrics: To enable non-built-in garbage collector(s) List(G1 Concurrent GC), users should configure it(them) to spark.eventLog.gcMetrics.youngGenerationGarbageCollectors or spark.eventLog.gcMetrics.oldGenerationGarbageCollectors\n",
      "                                                                                \r"
     ]
    }
   ],
   "source": [
    "df = spark.read \\\n",
    "    .option(\"comment\", \"#\") \\\n",
    "    .option(\"delimiter\", \"\\t\") \\\n",
    "    .option(\"header\", \"true\") \\\n",
    "    .csv(\"/gpfs/gibbs/pi/reilly/VariantEffects/scripts/noon_data/2.3.add_transposons/*.csv.gz/*.csv.gz\")"
   ]
  },
  {
   "cell_type": "markdown",
   "id": "ef4c8189-c5f0-4fc0-948d-98b8571e7cfe",
   "metadata": {},
   "source": [
    "## Filter out non-SNP variants"
   ]
  },
  {
   "cell_type": "code",
   "execution_count": 6,
   "id": "7cf62ccc-8cb6-438d-98c3-082a3b589b9c",
   "metadata": {
    "execution": {
     "iopub.execute_input": "2024-06-10T21:41:15.231622Z",
     "iopub.status.busy": "2024-06-10T21:41:15.231469Z",
     "iopub.status.idle": "2024-06-10T21:41:15.263746Z",
     "shell.execute_reply": "2024-06-10T21:41:15.263317Z",
     "shell.execute_reply.started": "2024-06-10T21:41:15.231607Z"
    },
    "tags": []
   },
   "outputs": [],
   "source": [
    "df= df.filter(\n",
    "     df.REF.isin(\"A\", \"T\", \"C\", \"G\") & df.ALT.isin(\"A\", \"T\", \"C\", \"G\")\n",
    ")"
   ]
  },
  {
   "cell_type": "markdown",
   "id": "4dcc6c7c-7a97-48f7-9f00-b923dce7f35c",
   "metadata": {},
   "source": [
    "# Filter out `MAF_OR_AC_IS_ZERO`"
   ]
  },
  {
   "cell_type": "code",
   "execution_count": 7,
   "id": "bc3ea560-6d55-4a67-b7c1-90e97dd9596a",
   "metadata": {
    "execution": {
     "iopub.execute_input": "2024-06-10T21:41:15.264937Z",
     "iopub.status.busy": "2024-06-10T21:41:15.264725Z",
     "iopub.status.idle": "2024-06-10T21:41:15.272180Z",
     "shell.execute_reply": "2024-06-10T21:41:15.271802Z",
     "shell.execute_reply.started": "2024-06-10T21:41:15.264922Z"
    },
    "tags": []
   },
   "outputs": [],
   "source": [
    "df=df.filter(F.col(\"category\")!=\"MAF_OR_AC_IS_ZERO\")"
   ]
  },
  {
   "cell_type": "markdown",
   "id": "ec8a44bd-efd2-42d0-aa0a-d029a260a5cc",
   "metadata": {},
   "source": [
    "## Count occurances of each consequence code in each vep string.\n",
    "\n",
    "First, get a list of consequences for each variant. This is a little involved, because of the many layers we have to trawl through:"
   ]
  },
  {
   "cell_type": "markdown",
   "id": "ac671e37-25c3-4e39-81ac-d79791c1294f",
   "metadata": {},
   "source": [
    "![schema](./info_field.drawio.png)"
   ]
  },
  {
   "cell_type": "code",
   "execution_count": 8,
   "id": "44da45d6-42c1-49b3-82aa-9c287dbb00a8",
   "metadata": {
    "execution": {
     "iopub.execute_input": "2024-06-10T21:41:15.272883Z",
     "iopub.status.busy": "2024-06-10T21:41:15.272748Z",
     "iopub.status.idle": "2024-06-10T21:41:15.368141Z",
     "shell.execute_reply": "2024-06-10T21:41:15.367721Z",
     "shell.execute_reply.started": "2024-06-10T21:41:15.272869Z"
    },
    "tags": []
   },
   "outputs": [],
   "source": [
    "#semicolon split\n",
    "df=df.withColumn(\"info_split\",F.split(df[\"INFO\"],\";\"))\n",
    "df=df.withColumn(\"vep_alone\",F.expr(\"filter(info_split, x -> x LIKE 'vep=%')[0]\"))"
   ]
  },
  {
   "cell_type": "code",
   "execution_count": 9,
   "id": "bda77845-8b9a-4994-9f0e-fdbe693812cb",
   "metadata": {
    "execution": {
     "iopub.execute_input": "2024-06-10T21:41:15.369067Z",
     "iopub.status.busy": "2024-06-10T21:41:15.368719Z",
     "iopub.status.idle": "2024-06-10T21:41:15.402877Z",
     "shell.execute_reply": "2024-06-10T21:41:15.402460Z",
     "shell.execute_reply.started": "2024-06-10T21:41:15.369052Z"
    },
    "tags": []
   },
   "outputs": [],
   "source": [
    "#comma split\n",
    "df=df.withColumn(\"vep_split\",F.split(df[\"vep_alone\"],\",\"))\n",
    "\n",
    "#pipe split & grab first element. \n",
    "df = df.withColumn(\n",
    "    \"extracted_codes\",\n",
    "    F.transform(F.col(\"vep_split\"), lambda x: F.split(x, \"\\\\|\")[1])\n",
    ")"
   ]
  },
  {
   "cell_type": "code",
   "execution_count": 10,
   "id": "d380b13d-2460-4e7a-a0e4-5cd9bd813109",
   "metadata": {
    "execution": {
     "iopub.execute_input": "2024-06-10T21:41:15.403824Z",
     "iopub.status.busy": "2024-06-10T21:41:15.403462Z",
     "iopub.status.idle": "2024-06-10T21:41:15.432588Z",
     "shell.execute_reply": "2024-06-10T21:41:15.432172Z",
     "shell.execute_reply.started": "2024-06-10T21:41:15.403809Z"
    },
    "tags": []
   },
   "outputs": [],
   "source": [
    "#break up anpersand-ligated conseqence codes\n",
    "df=df.withColumn(\"consq_codes\",F.expr(\"flatten(transform(extracted_codes,x->split(x,'&')))\"))"
   ]
  },
  {
   "cell_type": "code",
   "execution_count": 24,
   "id": "16fafbbd-0b4b-4f92-8fad-eee0a1789704",
   "metadata": {
    "execution": {
     "iopub.execute_input": "2024-06-10T21:50:24.203849Z",
     "iopub.status.busy": "2024-06-10T21:50:24.203579Z",
     "iopub.status.idle": "2024-06-10T21:50:24.216844Z",
     "shell.execute_reply": "2024-06-10T21:50:24.216463Z",
     "shell.execute_reply.started": "2024-06-10T21:50:24.203832Z"
    },
    "tags": []
   },
   "outputs": [],
   "source": [
    "#Some variants will naturally have no predicted consequences. We will use NONE\n",
    "\n",
    "df=df.withColumn(\"consq_codes\", F.when(F.col(\"consq_codes\").isNull(), F.array(F.lit(\"NONE\"))).otherwise(F.col(\"consq_codes\")))"
   ]
  },
  {
   "cell_type": "markdown",
   "id": "e733a4fe-8583-4c6c-a760-60e65e53315f",
   "metadata": {},
   "source": [
    "Next, compute the worst consequence code for each var.\n",
    "\n",
    "I've retrieved consequences from [here](https://useast.ensembl.org/info/genome/variation/prediction/predicted_data.html) on 2024-06-10. "
   ]
  },
  {
   "cell_type": "code",
   "execution_count": 26,
   "id": "bc72c14b-306d-4c3c-b659-903a367c51e9",
   "metadata": {
    "execution": {
     "iopub.execute_input": "2024-06-10T21:51:08.472296Z",
     "iopub.status.busy": "2024-06-10T21:51:08.471873Z",
     "iopub.status.idle": "2024-06-10T21:51:08.475891Z",
     "shell.execute_reply": "2024-06-10T21:51:08.475540Z",
     "shell.execute_reply.started": "2024-06-10T21:51:08.472280Z"
    },
    "tags": []
   },
   "outputs": [],
   "source": [
    "#0 : HIGH\n",
    "#1 : MODERATE\n",
    "#2 : LOW\n",
    "#3 : MODIFIER\n",
    "#4 : NONE\n",
    "\n",
    "consq_code_lut = {\"transcript_ablation\":0, \n",
    "                  \"splice_acceptor_variant\":0, \n",
    "                  \"splice_donor_variant\":0, \n",
    "                  \"stop_gained\":0, \n",
    "                  \"frameshift_variant\":0, \n",
    "                  \"stop_lost\":0, \n",
    "                  \"start_lost\":0, \n",
    "                  \"transcript_amplification\":0,\n",
    "                  \"feature_elongation\":0,\n",
    "                  \"feature_truncation\":0,\n",
    "                  \"inframe_insertion\":1,\n",
    "                  \"inframe_deletion\":1,\n",
    "                  \"missense_variant\":1,\n",
    "                  \"protein_altering_variant\":1,\n",
    "                  \"splice_donor_5th_base_variant\":2,\n",
    "                  \"splice_region_variant\":2,\n",
    "                  \"splice_donor_region_variant\":2,\n",
    "                  \"splice_polypyrimidine_tract_variant\":2,\n",
    "                  \"incomplete_terminal_codon_variant\":2,\n",
    "                  \"start_retained_variant\":2,\n",
    "                  \"stop_retained_variant\":2,\n",
    "                  \"synonymous_variant\":2,\n",
    "                  \"coding_sequence_variant\":3,\n",
    "                  \"mature_miRNA_variant\":3,\n",
    "                  \"5_prime_UTR_variant\":3,\n",
    "                  \"3_prime_UTR_variant\":3,\n",
    "                  \"non_coding_transcript_exon_variant\":3,\n",
    "                  \"intron_variant\":3,\n",
    "                  \"NMD_transcript_variant\":3,\n",
    "                  \"non_coding_transcript_variant\":3,\n",
    "                  \"coding_transcript_variant\":3,\n",
    "                  \"upstream_gene_variant\":3,\n",
    "                  \"downstream_gene_variant\":3,\n",
    "                  \"TFBS_ablation\":3,\n",
    "                  \"TFBS_amplification\":3,\n",
    "                  \"TF_binding_site_variant\":3,\n",
    "                  \"regulatory_region_ablation\":3,\n",
    "                  \"regulatory_region_amplification\":3,\n",
    "                  \"regulatory_region_variant\":3,\n",
    "                  \"intergenic_variant\":3,\n",
    "                  \"sequence_variant\":3,\n",
    "                  \"NONE\":4\n",
    "                 }"
   ]
  },
  {
   "cell_type": "code",
   "execution_count": 27,
   "id": "37e68ff5-ce23-4974-893a-20bf205cb0ff",
   "metadata": {
    "execution": {
     "iopub.execute_input": "2024-06-10T21:51:10.893689Z",
     "iopub.status.busy": "2024-06-10T21:51:10.893422Z",
     "iopub.status.idle": "2024-06-10T21:51:10.903295Z",
     "shell.execute_reply": "2024-06-10T21:51:10.902906Z",
     "shell.execute_reply.started": "2024-06-10T21:51:10.893673Z"
    },
    "tags": []
   },
   "outputs": [],
   "source": [
    "lookup_broadcast = spark.sparkContext.broadcast(consq_code_lut)"
   ]
  },
  {
   "cell_type": "code",
   "execution_count": 29,
   "id": "39f37185-d7f1-40ee-aa3e-3b3a717a7e2b",
   "metadata": {
    "execution": {
     "iopub.execute_input": "2024-06-10T21:51:15.137085Z",
     "iopub.status.busy": "2024-06-10T21:51:15.136620Z",
     "iopub.status.idle": "2024-06-10T21:51:15.139772Z",
     "shell.execute_reply": "2024-06-10T21:51:15.139414Z",
     "shell.execute_reply.started": "2024-06-10T21:51:15.137067Z"
    },
    "tags": []
   },
   "outputs": [],
   "source": [
    "def lookup_transform(inp):\n",
    "    #turns a list of consequence codes into a list of severity ints\n",
    "    lookup = lookup_broadcast.value\n",
    "    return [lookup.get(item) for item in inp]\n",
    "\n",
    "#register the UDF\n",
    "lookup_udf = F.udf(lookup_transform, returnType=T.ArrayType(T.IntegerType()))"
   ]
  },
  {
   "cell_type": "code",
   "execution_count": 30,
   "id": "1c8d8afc-0186-4821-928b-155c89d13a85",
   "metadata": {
    "execution": {
     "iopub.execute_input": "2024-06-10T21:51:17.844038Z",
     "iopub.status.busy": "2024-06-10T21:51:17.843623Z",
     "iopub.status.idle": "2024-06-10T21:51:17.868918Z",
     "shell.execute_reply": "2024-06-10T21:51:17.868507Z",
     "shell.execute_reply.started": "2024-06-10T21:51:17.844021Z"
    },
    "tags": []
   },
   "outputs": [],
   "source": [
    "#Apply the lookup UDF to convert string consequence codes to severity ints\n",
    "df=df.withColumn(\"consq_numeric\",lookup_udf(df[\"consq_codes\"]))"
   ]
  },
  {
   "cell_type": "code",
   "execution_count": 32,
   "id": "ccfcdcb9-8a2c-49e8-837c-c574492c2e82",
   "metadata": {
    "execution": {
     "iopub.execute_input": "2024-06-10T21:51:25.776357Z",
     "iopub.status.busy": "2024-06-10T21:51:25.776101Z",
     "iopub.status.idle": "2024-06-10T21:51:25.786218Z",
     "shell.execute_reply": "2024-06-10T21:51:25.785827Z",
     "shell.execute_reply.started": "2024-06-10T21:51:25.776340Z"
    },
    "tags": []
   },
   "outputs": [],
   "source": [
    "#get the worst severity score for each variant.\n",
    "df=df.withColumn(\"min_consq_numeric\", F.array_min(df[\"consq_numeric\"]))"
   ]
  },
  {
   "cell_type": "code",
   "execution_count": 33,
   "id": "e3554bf2-9e4d-456a-bb04-caae831b0d69",
   "metadata": {
    "execution": {
     "iopub.execute_input": "2024-06-10T21:51:27.877659Z",
     "iopub.status.busy": "2024-06-10T21:51:27.877395Z",
     "iopub.status.idle": "2024-06-10T21:51:27.885866Z",
     "shell.execute_reply": "2024-06-10T21:51:27.885497Z",
     "shell.execute_reply.started": "2024-06-10T21:51:27.877643Z"
    },
    "tags": []
   },
   "outputs": [],
   "source": [
    "df=df.select(\"min_consq_numeric\",\"category\")"
   ]
  },
  {
   "cell_type": "code",
   "execution_count": 34,
   "id": "6bf8fcbc-bc0a-434b-8f42-8e9d2d9fde1f",
   "metadata": {
    "execution": {
     "iopub.execute_input": "2024-06-10T21:51:31.102757Z",
     "iopub.status.busy": "2024-06-10T21:51:31.102500Z",
     "iopub.status.idle": "2024-06-10T21:51:31.122577Z",
     "shell.execute_reply": "2024-06-10T21:51:31.122183Z",
     "shell.execute_reply.started": "2024-06-10T21:51:31.102740Z"
    },
    "tags": []
   },
   "outputs": [],
   "source": [
    "#count \n",
    "counts=df.groupBy(\"category\",\"min_consq_numeric\").agg(F.count(\"*\").alias(\"count\"))"
   ]
  },
  {
   "cell_type": "markdown",
   "id": "89ce6f2e-2da5-4728-a2e0-f6fe75ff4772",
   "metadata": {},
   "source": [
    "Dump to disc"
   ]
  },
  {
   "cell_type": "code",
   "execution_count": 36,
   "id": "914c858f-ef7a-40ba-9686-85615bcb6c51",
   "metadata": {
    "execution": {
     "iopub.execute_input": "2024-06-10T21:51:45.241941Z",
     "iopub.status.busy": "2024-06-10T21:51:45.241713Z",
     "iopub.status.idle": "2024-06-10T21:51:48.610676Z",
     "shell.execute_reply": "2024-06-10T21:51:48.610018Z",
     "shell.execute_reply.started": "2024-06-10T21:51:45.241925Z"
    },
    "tags": []
   },
   "outputs": [
    {
     "name": "stderr",
     "output_type": "stream",
     "text": [
      "ERROR:root:KeyboardInterrupt while sending command.              (0 + 0) / 2036]\n",
      "Traceback (most recent call last):\n",
      "  File \"/home/mcn26/.conda/envs/mcn_varef/lib/python3.10/site-packages/py4j/java_gateway.py\", line 1038, in send_command\n",
      "    response = connection.send_command(command)\n",
      "  File \"/home/mcn26/.conda/envs/mcn_varef/lib/python3.10/site-packages/py4j/clientserver.py\", line 511, in send_command\n",
      "    answer = smart_decode(self.stream.readline()[:-1])\n",
      "  File \"/home/mcn26/.conda/envs/mcn_varef/lib/python3.10/socket.py\", line 705, in readinto\n",
      "    return self._sock.recv_into(b)\n",
      "KeyboardInterrupt\n"
     ]
    },
    {
     "ename": "KeyboardInterrupt",
     "evalue": "",
     "output_type": "error",
     "traceback": [
      "\u001b[0;31m---------------------------------------------------------------------------\u001b[0m",
      "\u001b[0;31mKeyboardInterrupt\u001b[0m                         Traceback (most recent call last)",
      "Cell \u001b[0;32mIn[36], line 1\u001b[0m\n\u001b[0;32m----> 1\u001b[0m \u001b[43mcounts\u001b[49m\u001b[38;5;241;43m.\u001b[39;49m\u001b[43mcoalesce\u001b[49m\u001b[43m(\u001b[49m\u001b[38;5;241;43m1\u001b[39;49m\u001b[43m)\u001b[49m\u001b[38;5;241;43m.\u001b[39;49m\u001b[43mwrite\u001b[49m\u001b[38;5;241;43m.\u001b[39;49m\u001b[43mcsv\u001b[49m\u001b[43m(\u001b[49m\u001b[38;5;124;43m\"\u001b[39;49m\u001b[38;5;124;43mcounts.csv\u001b[39;49m\u001b[38;5;124;43m\"\u001b[39;49m\u001b[43m,\u001b[49m\u001b[43m \u001b[49m\u001b[43mmode\u001b[49m\u001b[38;5;241;43m=\u001b[39;49m\u001b[38;5;124;43m\"\u001b[39;49m\u001b[38;5;124;43moverwrite\u001b[39;49m\u001b[38;5;124;43m\"\u001b[39;49m\u001b[43m,\u001b[49m\u001b[43m \u001b[49m\u001b[43mheader\u001b[49m\u001b[38;5;241;43m=\u001b[39;49m\u001b[38;5;28;43;01mTrue\u001b[39;49;00m\u001b[43m)\u001b[49m\n",
      "File \u001b[0;32m~/.conda/envs/mcn_varef/lib/python3.10/site-packages/pyspark/sql/readwriter.py:1864\u001b[0m, in \u001b[0;36mDataFrameWriter.csv\u001b[0;34m(self, path, mode, compression, sep, quote, escape, header, nullValue, escapeQuotes, quoteAll, dateFormat, timestampFormat, ignoreLeadingWhiteSpace, ignoreTrailingWhiteSpace, charToEscapeQuoteEscaping, encoding, emptyValue, lineSep)\u001b[0m\n\u001b[1;32m   1845\u001b[0m \u001b[38;5;28mself\u001b[39m\u001b[38;5;241m.\u001b[39mmode(mode)\n\u001b[1;32m   1846\u001b[0m \u001b[38;5;28mself\u001b[39m\u001b[38;5;241m.\u001b[39m_set_opts(\n\u001b[1;32m   1847\u001b[0m     compression\u001b[38;5;241m=\u001b[39mcompression,\n\u001b[1;32m   1848\u001b[0m     sep\u001b[38;5;241m=\u001b[39msep,\n\u001b[0;32m   (...)\u001b[0m\n\u001b[1;32m   1862\u001b[0m     lineSep\u001b[38;5;241m=\u001b[39mlineSep,\n\u001b[1;32m   1863\u001b[0m )\n\u001b[0;32m-> 1864\u001b[0m \u001b[38;5;28;43mself\u001b[39;49m\u001b[38;5;241;43m.\u001b[39;49m\u001b[43m_jwrite\u001b[49m\u001b[38;5;241;43m.\u001b[39;49m\u001b[43mcsv\u001b[49m\u001b[43m(\u001b[49m\u001b[43mpath\u001b[49m\u001b[43m)\u001b[49m\n",
      "File \u001b[0;32m~/.conda/envs/mcn_varef/lib/python3.10/site-packages/py4j/java_gateway.py:1321\u001b[0m, in \u001b[0;36mJavaMember.__call__\u001b[0;34m(self, *args)\u001b[0m\n\u001b[1;32m   1314\u001b[0m args_command, temp_args \u001b[38;5;241m=\u001b[39m \u001b[38;5;28mself\u001b[39m\u001b[38;5;241m.\u001b[39m_build_args(\u001b[38;5;241m*\u001b[39margs)\n\u001b[1;32m   1316\u001b[0m command \u001b[38;5;241m=\u001b[39m proto\u001b[38;5;241m.\u001b[39mCALL_COMMAND_NAME \u001b[38;5;241m+\u001b[39m\\\n\u001b[1;32m   1317\u001b[0m     \u001b[38;5;28mself\u001b[39m\u001b[38;5;241m.\u001b[39mcommand_header \u001b[38;5;241m+\u001b[39m\\\n\u001b[1;32m   1318\u001b[0m     args_command \u001b[38;5;241m+\u001b[39m\\\n\u001b[1;32m   1319\u001b[0m     proto\u001b[38;5;241m.\u001b[39mEND_COMMAND_PART\n\u001b[0;32m-> 1321\u001b[0m answer \u001b[38;5;241m=\u001b[39m \u001b[38;5;28;43mself\u001b[39;49m\u001b[38;5;241;43m.\u001b[39;49m\u001b[43mgateway_client\u001b[49m\u001b[38;5;241;43m.\u001b[39;49m\u001b[43msend_command\u001b[49m\u001b[43m(\u001b[49m\u001b[43mcommand\u001b[49m\u001b[43m)\u001b[49m\n\u001b[1;32m   1322\u001b[0m return_value \u001b[38;5;241m=\u001b[39m get_return_value(\n\u001b[1;32m   1323\u001b[0m     answer, \u001b[38;5;28mself\u001b[39m\u001b[38;5;241m.\u001b[39mgateway_client, \u001b[38;5;28mself\u001b[39m\u001b[38;5;241m.\u001b[39mtarget_id, \u001b[38;5;28mself\u001b[39m\u001b[38;5;241m.\u001b[39mname)\n\u001b[1;32m   1325\u001b[0m \u001b[38;5;28;01mfor\u001b[39;00m temp_arg \u001b[38;5;129;01min\u001b[39;00m temp_args:\n",
      "File \u001b[0;32m~/.conda/envs/mcn_varef/lib/python3.10/site-packages/py4j/java_gateway.py:1038\u001b[0m, in \u001b[0;36mGatewayClient.send_command\u001b[0;34m(self, command, retry, binary)\u001b[0m\n\u001b[1;32m   1036\u001b[0m connection \u001b[38;5;241m=\u001b[39m \u001b[38;5;28mself\u001b[39m\u001b[38;5;241m.\u001b[39m_get_connection()\n\u001b[1;32m   1037\u001b[0m \u001b[38;5;28;01mtry\u001b[39;00m:\n\u001b[0;32m-> 1038\u001b[0m     response \u001b[38;5;241m=\u001b[39m \u001b[43mconnection\u001b[49m\u001b[38;5;241;43m.\u001b[39;49m\u001b[43msend_command\u001b[49m\u001b[43m(\u001b[49m\u001b[43mcommand\u001b[49m\u001b[43m)\u001b[49m\n\u001b[1;32m   1039\u001b[0m     \u001b[38;5;28;01mif\u001b[39;00m binary:\n\u001b[1;32m   1040\u001b[0m         \u001b[38;5;28;01mreturn\u001b[39;00m response, \u001b[38;5;28mself\u001b[39m\u001b[38;5;241m.\u001b[39m_create_connection_guard(connection)\n",
      "File \u001b[0;32m~/.conda/envs/mcn_varef/lib/python3.10/site-packages/py4j/clientserver.py:511\u001b[0m, in \u001b[0;36mClientServerConnection.send_command\u001b[0;34m(self, command)\u001b[0m\n\u001b[1;32m    509\u001b[0m \u001b[38;5;28;01mtry\u001b[39;00m:\n\u001b[1;32m    510\u001b[0m     \u001b[38;5;28;01mwhile\u001b[39;00m \u001b[38;5;28;01mTrue\u001b[39;00m:\n\u001b[0;32m--> 511\u001b[0m         answer \u001b[38;5;241m=\u001b[39m smart_decode(\u001b[38;5;28;43mself\u001b[39;49m\u001b[38;5;241;43m.\u001b[39;49m\u001b[43mstream\u001b[49m\u001b[38;5;241;43m.\u001b[39;49m\u001b[43mreadline\u001b[49m\u001b[43m(\u001b[49m\u001b[43m)\u001b[49m[:\u001b[38;5;241m-\u001b[39m\u001b[38;5;241m1\u001b[39m])\n\u001b[1;32m    512\u001b[0m         logger\u001b[38;5;241m.\u001b[39mdebug(\u001b[38;5;124m\"\u001b[39m\u001b[38;5;124mAnswer received: \u001b[39m\u001b[38;5;132;01m{0}\u001b[39;00m\u001b[38;5;124m\"\u001b[39m\u001b[38;5;241m.\u001b[39mformat(answer))\n\u001b[1;32m    513\u001b[0m         \u001b[38;5;66;03m# Happens when a the other end is dead. There might be an empty\u001b[39;00m\n\u001b[1;32m    514\u001b[0m         \u001b[38;5;66;03m# answer before the socket raises an error.\u001b[39;00m\n",
      "File \u001b[0;32m~/.conda/envs/mcn_varef/lib/python3.10/socket.py:705\u001b[0m, in \u001b[0;36mSocketIO.readinto\u001b[0;34m(self, b)\u001b[0m\n\u001b[1;32m    703\u001b[0m \u001b[38;5;28;01mwhile\u001b[39;00m \u001b[38;5;28;01mTrue\u001b[39;00m:\n\u001b[1;32m    704\u001b[0m     \u001b[38;5;28;01mtry\u001b[39;00m:\n\u001b[0;32m--> 705\u001b[0m         \u001b[38;5;28;01mreturn\u001b[39;00m \u001b[38;5;28;43mself\u001b[39;49m\u001b[38;5;241;43m.\u001b[39;49m\u001b[43m_sock\u001b[49m\u001b[38;5;241;43m.\u001b[39;49m\u001b[43mrecv_into\u001b[49m\u001b[43m(\u001b[49m\u001b[43mb\u001b[49m\u001b[43m)\u001b[49m\n\u001b[1;32m    706\u001b[0m     \u001b[38;5;28;01mexcept\u001b[39;00m timeout:\n\u001b[1;32m    707\u001b[0m         \u001b[38;5;28mself\u001b[39m\u001b[38;5;241m.\u001b[39m_timeout_occurred \u001b[38;5;241m=\u001b[39m \u001b[38;5;28;01mTrue\u001b[39;00m\n",
      "\u001b[0;31mKeyboardInterrupt\u001b[0m: "
     ]
    },
    {
     "name": "stderr",
     "output_type": "stream",
     "text": [
      "[Stage 12:>            (90 + 10) / 2036][Stage 13:>              (0 + 0) / 2036]\r"
     ]
    }
   ],
   "source": [
    "counts.coalesce(1).write.csv(\"counts.csv\", mode=\"overwrite\", header=True)"
   ]
  }
 ],
 "metadata": {
  "kernelspec": {
   "display_name": "Python 3 (ipykernel)",
   "language": "python",
   "name": "python3"
  },
  "language_info": {
   "codemirror_mode": {
    "name": "ipython",
    "version": 3
   },
   "file_extension": ".py",
   "mimetype": "text/x-python",
   "name": "python",
   "nbconvert_exporter": "python",
   "pygments_lexer": "ipython3",
   "version": "3.10.12"
  }
 },
 "nbformat": 4,
 "nbformat_minor": 5
}
