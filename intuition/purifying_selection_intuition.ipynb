{
 "cells": [
  {
   "cell_type": "markdown",
   "id": "f687f047-1bab-42a1-87a0-8e66f277ed73",
   "metadata": {},
   "source": [
    "The goal of this analysis is to get an intuition for how genetic variant rarity changes with (predicted) genic consequence. \n",
    "\n",
    "This notebook will compute count tables of variant rarity category by ensembl predicted consequence, plus phylop & roulette scores (sum and sum of squares). "
   ]
  },
  {
   "cell_type": "markdown",
   "id": "45cd96df-47f4-4bb8-b31f-2bccea1e58e0",
   "metadata": {},
   "source": [
    "## Import relevant libraries"
   ]
  },
  {
   "cell_type": "code",
   "execution_count": 28,
   "id": "da6ff270-68c8-45a0-a44e-db3effc51208",
   "metadata": {
    "execution": {
     "iopub.execute_input": "2024-06-12T17:36:28.333056Z",
     "iopub.status.busy": "2024-06-12T17:36:28.332678Z",
     "iopub.status.idle": "2024-06-12T17:36:28.336045Z",
     "shell.execute_reply": "2024-06-12T17:36:28.335580Z",
     "shell.execute_reply.started": "2024-06-12T17:36:28.333035Z"
    },
    "tags": []
   },
   "outputs": [],
   "source": [
    "from pyspark import SparkConf, SparkContext\n",
    "from pyspark.sql import SparkSession\n",
    "import pyspark.sql.functions as F\n",
    "import pyspark.sql.types as T\n",
    "import json"
   ]
  },
  {
   "cell_type": "markdown",
   "id": "3e76f3b6-4007-4773-818e-32467f59104d",
   "metadata": {},
   "source": [
    "## create the spark session."
   ]
  },
  {
   "cell_type": "code",
   "execution_count": 2,
   "id": "c26ca28c-e7c1-42ef-a044-9a98fe5f595b",
   "metadata": {
    "execution": {
     "iopub.execute_input": "2024-06-12T17:19:39.023727Z",
     "iopub.status.busy": "2024-06-12T17:19:39.023219Z",
     "iopub.status.idle": "2024-06-12T17:19:41.141947Z",
     "shell.execute_reply": "2024-06-12T17:19:41.141457Z",
     "shell.execute_reply.started": "2024-06-12T17:19:39.023706Z"
    },
    "tags": []
   },
   "outputs": [
    {
     "name": "stderr",
     "output_type": "stream",
     "text": [
      "Setting default log level to \"WARN\".\n",
      "To adjust logging level use sc.setLogLevel(newLevel). For SparkR, use setLogLevel(newLevel).\n",
      "24/06/12 13:19:40 WARN NativeCodeLoader: Unable to load native-hadoop library for your platform... using builtin-java classes where applicable\n"
     ]
    }
   ],
   "source": [
    "spark = SparkSession.builder \\\n",
    "    .appName(\"purifying_selection\") \\\n",
    "    .getOrCreate()"
   ]
  },
  {
   "cell_type": "markdown",
   "id": "5ce041ab-9b0a-4e5d-9945-b84990507982",
   "metadata": {},
   "source": [
    "## Load variants"
   ]
  },
  {
   "cell_type": "code",
   "execution_count": 29,
   "id": "0379abb3-91ce-4e53-abf4-21146650e82c",
   "metadata": {
    "execution": {
     "iopub.execute_input": "2024-06-12T17:36:31.951019Z",
     "iopub.status.busy": "2024-06-12T17:36:31.950419Z",
     "iopub.status.idle": "2024-06-12T17:36:40.881966Z",
     "shell.execute_reply": "2024-06-12T17:36:40.881512Z",
     "shell.execute_reply.started": "2024-06-12T17:36:31.950996Z"
    },
    "tags": []
   },
   "outputs": [
    {
     "name": "stderr",
     "output_type": "stream",
     "text": [
      "                                                                                \r"
     ]
    }
   ],
   "source": [
    "df = spark.read \\\n",
    "    .option(\"comment\", \"#\") \\\n",
    "    .option(\"delimiter\", \"\\t\") \\\n",
    "    .option(\"header\", \"true\") \\\n",
    "    .csv(\"/gpfs/gibbs/pi/reilly/VariantEffects/scripts/noon_data/2.3.add_transposons/*.csv.gz/*.csv.gz\")"
   ]
  },
  {
   "cell_type": "markdown",
   "id": "0268c859-3610-4c10-99a2-266dc6138247",
   "metadata": {},
   "source": [
    "### Note that since we're tapping off variants at the 2.3 add transposon step, we're missing:\n",
    "- 2.5 filter : so we don't filter out exonic variants (this is desireable)\n",
    "- 3.0 pleio_and_filter : so we haven't dropped MAF_OR_AC_IS_ZERO (which is performed below)\n",
    "- 3.5 add_tf : (no great loss)\n",
    "- 3.6 remove non-snp (which we do below)"
   ]
  },
  {
   "cell_type": "markdown",
   "id": "ef4c8189-c5f0-4fc0-948d-98b8571e7cfe",
   "metadata": {},
   "source": [
    "## Filter out non-SNP variants"
   ]
  },
  {
   "cell_type": "code",
   "execution_count": 30,
   "id": "7cf62ccc-8cb6-438d-98c3-082a3b589b9c",
   "metadata": {
    "execution": {
     "iopub.execute_input": "2024-06-12T17:36:40.883044Z",
     "iopub.status.busy": "2024-06-12T17:36:40.882832Z",
     "iopub.status.idle": "2024-06-12T17:36:40.894433Z",
     "shell.execute_reply": "2024-06-12T17:36:40.894048Z",
     "shell.execute_reply.started": "2024-06-12T17:36:40.883028Z"
    },
    "tags": []
   },
   "outputs": [],
   "source": [
    "df= df.filter(\n",
    "     df.REF.isin(\"A\", \"T\", \"C\", \"G\") & df.ALT.isin(\"A\", \"T\", \"C\", \"G\")\n",
    ")"
   ]
  },
  {
   "cell_type": "markdown",
   "id": "4dcc6c7c-7a97-48f7-9f00-b923dce7f35c",
   "metadata": {},
   "source": [
    "# Filter out `MAF_OR_AC_IS_ZERO`"
   ]
  },
  {
   "cell_type": "code",
   "execution_count": 31,
   "id": "bc3ea560-6d55-4a67-b7c1-90e97dd9596a",
   "metadata": {
    "execution": {
     "iopub.execute_input": "2024-06-12T17:36:40.895105Z",
     "iopub.status.busy": "2024-06-12T17:36:40.894960Z",
     "iopub.status.idle": "2024-06-12T17:36:40.910778Z",
     "shell.execute_reply": "2024-06-12T17:36:40.910399Z",
     "shell.execute_reply.started": "2024-06-12T17:36:40.895090Z"
    },
    "tags": []
   },
   "outputs": [],
   "source": [
    "df=df.filter(F.col(\"category\")!=\"MAF_OR_AC_IS_ZERO\")"
   ]
  },
  {
   "cell_type": "markdown",
   "id": "ec8a44bd-efd2-42d0-aa0a-d029a260a5cc",
   "metadata": {},
   "source": [
    "## Count occurances of each consequence code in each vep string.\n",
    "\n",
    "First, get a list of consequences for each variant. This is a little involved, because of the many layers we have to trawl through:"
   ]
  },
  {
   "cell_type": "markdown",
   "id": "ac671e37-25c3-4e39-81ac-d79791c1294f",
   "metadata": {},
   "source": [
    "![schema](./info_field.drawio.png)"
   ]
  },
  {
   "cell_type": "code",
   "execution_count": 32,
   "id": "44da45d6-42c1-49b3-82aa-9c287dbb00a8",
   "metadata": {
    "execution": {
     "iopub.execute_input": "2024-06-12T17:36:40.911917Z",
     "iopub.status.busy": "2024-06-12T17:36:40.911603Z",
     "iopub.status.idle": "2024-06-12T17:36:40.937194Z",
     "shell.execute_reply": "2024-06-12T17:36:40.936795Z",
     "shell.execute_reply.started": "2024-06-12T17:36:40.911902Z"
    },
    "tags": []
   },
   "outputs": [],
   "source": [
    "#semicolon split\n",
    "df=df.withColumn(\"info_split\",F.split(df[\"INFO\"],\";\"))\n",
    "df=df.withColumn(\"vep_alone\",F.expr(\"filter(info_split, x -> x LIKE 'vep=%')[0]\"))"
   ]
  },
  {
   "cell_type": "code",
   "execution_count": 33,
   "id": "bda77845-8b9a-4994-9f0e-fdbe693812cb",
   "metadata": {
    "execution": {
     "iopub.execute_input": "2024-06-12T17:36:41.632954Z",
     "iopub.status.busy": "2024-06-12T17:36:41.632674Z",
     "iopub.status.idle": "2024-06-12T17:36:41.655800Z",
     "shell.execute_reply": "2024-06-12T17:36:41.655380Z",
     "shell.execute_reply.started": "2024-06-12T17:36:41.632937Z"
    },
    "tags": []
   },
   "outputs": [],
   "source": [
    "#comma split\n",
    "df=df.withColumn(\"vep_split\",F.split(df[\"vep_alone\"],\",\"))\n",
    "\n",
    "#pipe split & grab first element. \n",
    "df = df.withColumn(\n",
    "    \"extracted_codes\",\n",
    "    F.transform(F.col(\"vep_split\"), lambda x: F.split(x, \"\\\\|\")[1])\n",
    ")"
   ]
  },
  {
   "cell_type": "code",
   "execution_count": 34,
   "id": "d380b13d-2460-4e7a-a0e4-5cd9bd813109",
   "metadata": {
    "execution": {
     "iopub.execute_input": "2024-06-12T17:36:42.517783Z",
     "iopub.status.busy": "2024-06-12T17:36:42.517366Z",
     "iopub.status.idle": "2024-06-12T17:36:42.530379Z",
     "shell.execute_reply": "2024-06-12T17:36:42.529988Z",
     "shell.execute_reply.started": "2024-06-12T17:36:42.517767Z"
    },
    "tags": []
   },
   "outputs": [],
   "source": [
    "#break up anpersand-ligated conseqence codes\n",
    "df=df.withColumn(\"consq_codes\",F.expr(\"flatten(transform(extracted_codes,x->split(x,'&')))\"))"
   ]
  },
  {
   "cell_type": "code",
   "execution_count": 35,
   "id": "16fafbbd-0b4b-4f92-8fad-eee0a1789704",
   "metadata": {
    "execution": {
     "iopub.execute_input": "2024-06-12T17:36:43.372304Z",
     "iopub.status.busy": "2024-06-12T17:36:43.372058Z",
     "iopub.status.idle": "2024-06-12T17:36:43.384246Z",
     "shell.execute_reply": "2024-06-12T17:36:43.383859Z",
     "shell.execute_reply.started": "2024-06-12T17:36:43.372288Z"
    },
    "tags": []
   },
   "outputs": [],
   "source": [
    "#Some variants will naturally have no predicted consequences. We will use NONE\n",
    "\n",
    "df=df.withColumn(\"consq_codes\", F.when(F.col(\"consq_codes\").isNull(), F.array(F.lit(\"NONE\"))).otherwise(F.col(\"consq_codes\")))"
   ]
  },
  {
   "cell_type": "markdown",
   "id": "e733a4fe-8583-4c6c-a760-60e65e53315f",
   "metadata": {},
   "source": [
    "Next, compute the worst consequence code for each var.\n",
    "\n",
    "I've retrieved consequences from [here](https://useast.ensembl.org/info/genome/variation/prediction/predicted_data.html) on 2024-06-10. "
   ]
  },
  {
   "cell_type": "code",
   "execution_count": 36,
   "id": "bc72c14b-306d-4c3c-b659-903a367c51e9",
   "metadata": {
    "execution": {
     "iopub.execute_input": "2024-06-12T17:36:45.849373Z",
     "iopub.status.busy": "2024-06-12T17:36:45.848973Z",
     "iopub.status.idle": "2024-06-12T17:36:45.853113Z",
     "shell.execute_reply": "2024-06-12T17:36:45.852754Z",
     "shell.execute_reply.started": "2024-06-12T17:36:45.849355Z"
    },
    "tags": []
   },
   "outputs": [],
   "source": [
    "#This order is taken from the website linked above, which states that \n",
    "#the codes are shown in order of severity (though it admits this is subjective)\n",
    "#I've assigned numbers, where the smaller the more severe\n",
    "\n",
    "consq_code_lut = {\"transcript_ablation\":0, \n",
    "                  \"splice_acceptor_variant\":1, \n",
    "                  \"splice_donor_variant\":2, \n",
    "                  \"stop_gained\":3, \n",
    "                  \"frameshift_variant\":4, \n",
    "                  \"stop_lost\":5, \n",
    "                  \"start_lost\":6, \n",
    "                  \"transcript_amplification\":7,\n",
    "                  \"feature_elongation\":8,\n",
    "                  \"feature_truncation\":9,\n",
    "                  \"inframe_insertion\":10,\n",
    "                  \"inframe_deletion\":11,\n",
    "                  \"missense_variant\":12,\n",
    "                  \"protein_altering_variant\":13,\n",
    "                  \"splice_donor_5th_base_variant\":14,\n",
    "                  \"splice_region_variant\":15,\n",
    "                  \"splice_donor_region_variant\":16,\n",
    "                  \"splice_polypyrimidine_tract_variant\":17,\n",
    "                  \"incomplete_terminal_codon_variant\":18,\n",
    "                  \"start_retained_variant\":19,\n",
    "                  \"stop_retained_variant\":20,\n",
    "                  \"synonymous_variant\":21,\n",
    "                  \"coding_sequence_variant\":22,\n",
    "                  \"mature_miRNA_variant\":23,\n",
    "                  \"5_prime_UTR_variant\":24,\n",
    "                  \"3_prime_UTR_variant\":25,\n",
    "                  \"non_coding_transcript_exon_variant\":26,\n",
    "                  \"intron_variant\":27,\n",
    "                  \"NMD_transcript_variant\":28,\n",
    "                  \"non_coding_transcript_variant\":29,\n",
    "                  \"coding_transcript_variant\":30,\n",
    "                  \"upstream_gene_variant\":31,\n",
    "                  \"downstream_gene_variant\":32,\n",
    "                  \"TFBS_ablation\":33,\n",
    "                  \"TFBS_amplification\":34,\n",
    "                  \"TF_binding_site_variant\":35,\n",
    "                  \"regulatory_region_ablation\":36,\n",
    "                  \"regulatory_region_amplification\":37,\n",
    "                  \"regulatory_region_variant\":38,\n",
    "                  \"intergenic_variant\":39,\n",
    "                  \"sequence_variant\":40,\n",
    "                  \"NONE\":41\n",
    "                 }"
   ]
  },
  {
   "cell_type": "code",
   "execution_count": 37,
   "id": "37e68ff5-ce23-4974-893a-20bf205cb0ff",
   "metadata": {
    "execution": {
     "iopub.execute_input": "2024-06-12T17:36:48.105971Z",
     "iopub.status.busy": "2024-06-12T17:36:48.105713Z",
     "iopub.status.idle": "2024-06-12T17:36:48.113794Z",
     "shell.execute_reply": "2024-06-12T17:36:48.113432Z",
     "shell.execute_reply.started": "2024-06-12T17:36:48.105955Z"
    },
    "tags": []
   },
   "outputs": [],
   "source": [
    "lookup_broadcast = spark.sparkContext.broadcast(consq_code_lut)\n",
    "\n",
    "reverse_consequence_code_lut= {value: key for key, value in consq_code_lut.items()}\n",
    "\n",
    "#lookup_broadcast_reverse = spark.sparkContext.broadcast(reverse_consequence_code_lut)"
   ]
  },
  {
   "cell_type": "code",
   "execution_count": 80,
   "id": "39f37185-d7f1-40ee-aa3e-3b3a717a7e2b",
   "metadata": {
    "execution": {
     "iopub.execute_input": "2024-06-12T17:55:30.229461Z",
     "iopub.status.busy": "2024-06-12T17:55:30.229009Z",
     "iopub.status.idle": "2024-06-12T17:55:30.232695Z",
     "shell.execute_reply": "2024-06-12T17:55:30.232332Z",
     "shell.execute_reply.started": "2024-06-12T17:55:30.229443Z"
    },
    "tags": []
   },
   "outputs": [],
   "source": [
    "def lookup_transform(inp):\n",
    "    #turns a list of consequence codes into a list of severity ints\n",
    "    lookup=lookup_broadcast.value\n",
    "    return [lookup.get(item) for item in inp]\n",
    "\n",
    "def lookup_transform_reverse(inp):\n",
    "    #turns a SINGLE severity int into a consequence code\n",
    "    return reverse_consequence_code_lut.get(inp,\"ERR\")\n",
    "\n",
    "#register the UDFs\n",
    "lookup_transform_udf = F.udf(lookup_transform, returnType=T.ArrayType(T.IntegerType()))\n",
    "\n",
    "lookup_transform_reverse_udf = F.udf(lookup_transform_reverse, returnType=T.StringType())"
   ]
  },
  {
   "cell_type": "code",
   "execution_count": 81,
   "id": "1c8d8afc-0186-4821-928b-155c89d13a85",
   "metadata": {
    "execution": {
     "iopub.execute_input": "2024-06-12T17:55:30.883169Z",
     "iopub.status.busy": "2024-06-12T17:55:30.882761Z",
     "iopub.status.idle": "2024-06-12T17:55:30.896291Z",
     "shell.execute_reply": "2024-06-12T17:55:30.895861Z",
     "shell.execute_reply.started": "2024-06-12T17:55:30.883152Z"
    },
    "tags": []
   },
   "outputs": [],
   "source": [
    "#Apply the lookup UDF to convert string consequence codes to severity ints\n",
    "df=df.withColumn(\"consq_numeric\",lookup_transform_udf(df[\"consq_codes\"]))"
   ]
  },
  {
   "cell_type": "code",
   "execution_count": 82,
   "id": "ccfcdcb9-8a2c-49e8-837c-c574492c2e82",
   "metadata": {
    "execution": {
     "iopub.execute_input": "2024-06-12T17:55:31.387291Z",
     "iopub.status.busy": "2024-06-12T17:55:31.387043Z",
     "iopub.status.idle": "2024-06-12T17:55:31.396267Z",
     "shell.execute_reply": "2024-06-12T17:55:31.395854Z",
     "shell.execute_reply.started": "2024-06-12T17:55:31.387274Z"
    },
    "tags": []
   },
   "outputs": [],
   "source": [
    "#get the worst severity score for each variant.\n",
    "df=df.withColumn(\"min_consq_numeric\", F.array_min(df[\"consq_numeric\"]))"
   ]
  },
  {
   "cell_type": "code",
   "execution_count": 85,
   "id": "48c57fe5-f350-4e54-907c-a2318fdef51b",
   "metadata": {
    "execution": {
     "iopub.execute_input": "2024-06-12T17:55:59.329859Z",
     "iopub.status.busy": "2024-06-12T17:55:59.329400Z",
     "iopub.status.idle": "2024-06-12T17:55:59.338843Z",
     "shell.execute_reply": "2024-06-12T17:55:59.338449Z",
     "shell.execute_reply.started": "2024-06-12T17:55:59.329842Z"
    },
    "tags": []
   },
   "outputs": [],
   "source": [
    "#convert minimum consequence code back to string\n",
    "df=df.withColumn(\"worst_consq_string\",\n",
    "              lookup_transform_reverse_udf(df[\"min_consq_numeric\"])\n",
    "             )"
   ]
  },
  {
   "cell_type": "code",
   "execution_count": 86,
   "id": "9fd45b80-962f-4ffb-b3ae-bb745d943f98",
   "metadata": {
    "execution": {
     "iopub.execute_input": "2024-06-12T17:56:01.325000Z",
     "iopub.status.busy": "2024-06-12T17:56:01.324552Z",
     "iopub.status.idle": "2024-06-12T17:56:01.651594Z",
     "shell.execute_reply": "2024-06-12T17:56:01.651222Z",
     "shell.execute_reply.started": "2024-06-12T17:56:01.324982Z"
    },
    "tags": []
   },
   "outputs": [
    {
     "data": {
      "text/html": [
       "<div>\n",
       "<style scoped>\n",
       "    .dataframe tbody tr th:only-of-type {\n",
       "        vertical-align: middle;\n",
       "    }\n",
       "\n",
       "    .dataframe tbody tr th {\n",
       "        vertical-align: top;\n",
       "    }\n",
       "\n",
       "    .dataframe thead th {\n",
       "        text-align: right;\n",
       "    }\n",
       "</style>\n",
       "<table border=\"1\" class=\"dataframe\">\n",
       "  <thead>\n",
       "    <tr style=\"text-align: right;\">\n",
       "      <th></th>\n",
       "      <th>CHROM</th>\n",
       "      <th>POS</th>\n",
       "      <th>REF</th>\n",
       "      <th>ALT</th>\n",
       "      <th>ID</th>\n",
       "      <th>QUAL</th>\n",
       "      <th>FILTER</th>\n",
       "      <th>INFO</th>\n",
       "      <th>K562__ref</th>\n",
       "      <th>HepG2__ref</th>\n",
       "      <th>SKNSH__ref</th>\n",
       "      <th>K562__alt</th>\n",
       "      <th>HepG2__alt</th>\n",
       "      <th>SKNSH__alt</th>\n",
       "      <th>K562__skew</th>\n",
       "      <th>HepG2__skew</th>\n",
       "      <th>SKNSH__skew</th>\n",
       "      <th>AC</th>\n",
       "      <th>AN</th>\n",
       "      <th>AF</th>\n",
       "      <th>cadd_phred</th>\n",
       "      <th>is_in_dELS</th>\n",
       "      <th>is_in_CA</th>\n",
       "      <th>is_in_pELS</th>\n",
       "      <th>is_in_CA-H3K4me3</th>\n",
       "      <th>is_in_CA-CTCF</th>\n",
       "      <th>is_in_PLS</th>\n",
       "      <th>is_in_TF</th>\n",
       "      <th>is_in_CA-TF</th>\n",
       "      <th>P_ANNO</th>\n",
       "      <th>mean_ref</th>\n",
       "      <th>mean_skew</th>\n",
       "      <th>MAF</th>\n",
       "      <th>category</th>\n",
       "      <th>roulette_PN</th>\n",
       "      <th>roulette_MR</th>\n",
       "      <th>roulette_MG</th>\n",
       "      <th>in_rep</th>\n",
       "      <th>info_split</th>\n",
       "      <th>vep_alone</th>\n",
       "      <th>vep_split</th>\n",
       "      <th>extracted_codes</th>\n",
       "      <th>consq_codes</th>\n",
       "      <th>consq_numeric</th>\n",
       "      <th>min_consq_numeric</th>\n",
       "      <th>worst_consq_string</th>\n",
       "    </tr>\n",
       "  </thead>\n",
       "  <tbody>\n",
       "    <tr>\n",
       "      <th>0</th>\n",
       "      <td>chr2</td>\n",
       "      <td>498809</td>\n",
       "      <td>A</td>\n",
       "      <td>G</td>\n",
       "      <td>rs769078553</td>\n",
       "      <td>.</td>\n",
       "      <td>PASS</td>\n",
       "      <td>K562__ref=0.074058756;HepG2__ref=0.12208533;SK...</td>\n",
       "      <td>0.074058756</td>\n",
       "      <td>0.12208533</td>\n",
       "      <td>-0.20725194</td>\n",
       "      <td>0.4867164</td>\n",
       "      <td>0.5246025</td>\n",
       "      <td>0.13932788</td>\n",
       "      <td>0.41265762</td>\n",
       "      <td>0.4025171</td>\n",
       "      <td>0.34657985</td>\n",
       "      <td>1</td>\n",
       "      <td>152278</td>\n",
       "      <td>6.56694E-6</td>\n",
       "      <td>1.143</td>\n",
       "      <td>false</td>\n",
       "      <td>false</td>\n",
       "      <td>false</td>\n",
       "      <td>false</td>\n",
       "      <td>false</td>\n",
       "      <td>false</td>\n",
       "      <td>false</td>\n",
       "      <td>false</td>\n",
       "      <td>-1.337</td>\n",
       "      <td>-0.0037026156981786094</td>\n",
       "      <td>0.3872515360514323</td>\n",
       "      <td>6.56694E-6</td>\n",
       "      <td>SINGLETON</td>\n",
       "      <td>CTAAT</td>\n",
       "      <td>0.083</td>\n",
       "      <td>0.075</td>\n",
       "      <td>false</td>\n",
       "      <td>[K562__ref=0.074058756, HepG2__ref=0.12208533,...</td>\n",
       "      <td>vep=G|downstream_gene_variant|MODIFIER|AC09332...</td>\n",
       "      <td>[vep=G|downstream_gene_variant|MODIFIER|AC0933...</td>\n",
       "      <td>[downstream_gene_variant, intron_variant&amp;non_c...</td>\n",
       "      <td>[downstream_gene_variant, intron_variant, non_...</td>\n",
       "      <td>[32, 27, 29, 32, 32, 32]</td>\n",
       "      <td>27</td>\n",
       "      <td>intron_variant</td>\n",
       "    </tr>\n",
       "    <tr>\n",
       "      <th>1</th>\n",
       "      <td>chr2</td>\n",
       "      <td>502180</td>\n",
       "      <td>G</td>\n",
       "      <td>C</td>\n",
       "      <td>.</td>\n",
       "      <td>.</td>\n",
       "      <td>PASS</td>\n",
       "      <td>K562__ref=0.27268323;HepG2__ref=0.22027189;SKN...</td>\n",
       "      <td>0.27268323</td>\n",
       "      <td>0.22027189</td>\n",
       "      <td>-0.06589305</td>\n",
       "      <td>0.2779849</td>\n",
       "      <td>0.236548</td>\n",
       "      <td>-0.05224025</td>\n",
       "      <td>0.0053016427</td>\n",
       "      <td>0.016276112</td>\n",
       "      <td>0.013652799</td>\n",
       "      <td>1</td>\n",
       "      <td>152120</td>\n",
       "      <td>6.57376E-6</td>\n",
       "      <td>9.243</td>\n",
       "      <td>false</td>\n",
       "      <td>false</td>\n",
       "      <td>false</td>\n",
       "      <td>false</td>\n",
       "      <td>false</td>\n",
       "      <td>false</td>\n",
       "      <td>false</td>\n",
       "      <td>false</td>\n",
       "      <td>0.262</td>\n",
       "      <td>0.14235402146975198</td>\n",
       "      <td>0.01174351821343104</td>\n",
       "      <td>6.57376E-6</td>\n",
       "      <td>SINGLETON</td>\n",
       "      <td>GTGTG</td>\n",
       "      <td>0.03</td>\n",
       "      <td>0.046</td>\n",
       "      <td>true</td>\n",
       "      <td>[K562__ref=0.27268323, HepG2__ref=0.22027189, ...</td>\n",
       "      <td>vep=C|intron_variant&amp;non_coding_transcript_var...</td>\n",
       "      <td>[vep=C|intron_variant&amp;non_coding_transcript_va...</td>\n",
       "      <td>[intron_variant&amp;non_coding_transcript_variant]</td>\n",
       "      <td>[intron_variant, non_coding_transcript_variant]</td>\n",
       "      <td>[27, 29]</td>\n",
       "      <td>27</td>\n",
       "      <td>intron_variant</td>\n",
       "    </tr>\n",
       "    <tr>\n",
       "      <th>2</th>\n",
       "      <td>chr2</td>\n",
       "      <td>566843</td>\n",
       "      <td>G</td>\n",
       "      <td>A</td>\n",
       "      <td>rs149288315</td>\n",
       "      <td>.</td>\n",
       "      <td>PASS</td>\n",
       "      <td>K562__ref=0.25549465;HepG2__ref=-0.060619805;S...</td>\n",
       "      <td>0.25549465</td>\n",
       "      <td>-0.060619805</td>\n",
       "      <td>-0.26887646</td>\n",
       "      <td>0.26603156</td>\n",
       "      <td>-0.0113960225</td>\n",
       "      <td>-0.26621458</td>\n",
       "      <td>0.010536921</td>\n",
       "      <td>0.049223777</td>\n",
       "      <td>0.0026618603</td>\n",
       "      <td>1208</td>\n",
       "      <td>152214</td>\n",
       "      <td>0.0079362</td>\n",
       "      <td>0.448</td>\n",
       "      <td>true</td>\n",
       "      <td>false</td>\n",
       "      <td>false</td>\n",
       "      <td>false</td>\n",
       "      <td>false</td>\n",
       "      <td>false</td>\n",
       "      <td>false</td>\n",
       "      <td>false</td>\n",
       "      <td>-0.274</td>\n",
       "      <td>-0.024667203426361084</td>\n",
       "      <td>0.020807519555091858</td>\n",
       "      <td>0.0079362</td>\n",
       "      <td>LOW_FREQ</td>\n",
       "      <td>TCGTG</td>\n",
       "      <td>1.514</td>\n",
       "      <td>2.41</td>\n",
       "      <td>false</td>\n",
       "      <td>[K562__ref=0.25549465, HepG2__ref=-0.060619805...</td>\n",
       "      <td>vep=A|intron_variant&amp;non_coding_transcript_var...</td>\n",
       "      <td>[vep=A|intron_variant&amp;non_coding_transcript_va...</td>\n",
       "      <td>[intron_variant&amp;non_coding_transcript_variant,...</td>\n",
       "      <td>[intron_variant, non_coding_transcript_variant...</td>\n",
       "      <td>[27, 29, 32, 32, 32]</td>\n",
       "      <td>27</td>\n",
       "      <td>intron_variant</td>\n",
       "    </tr>\n",
       "  </tbody>\n",
       "</table>\n",
       "</div>"
      ],
      "text/plain": [
       "  CHROM     POS REF ALT           ID QUAL FILTER  \\\n",
       "0  chr2  498809   A   G  rs769078553    .   PASS   \n",
       "1  chr2  502180   G   C            .    .   PASS   \n",
       "2  chr2  566843   G   A  rs149288315    .   PASS   \n",
       "\n",
       "                                                INFO    K562__ref  \\\n",
       "0  K562__ref=0.074058756;HepG2__ref=0.12208533;SK...  0.074058756   \n",
       "1  K562__ref=0.27268323;HepG2__ref=0.22027189;SKN...   0.27268323   \n",
       "2  K562__ref=0.25549465;HepG2__ref=-0.060619805;S...   0.25549465   \n",
       "\n",
       "     HepG2__ref   SKNSH__ref   K562__alt     HepG2__alt   SKNSH__alt  \\\n",
       "0    0.12208533  -0.20725194   0.4867164      0.5246025   0.13932788   \n",
       "1    0.22027189  -0.06589305   0.2779849       0.236548  -0.05224025   \n",
       "2  -0.060619805  -0.26887646  0.26603156  -0.0113960225  -0.26621458   \n",
       "\n",
       "     K562__skew  HepG2__skew   SKNSH__skew    AC      AN          AF  \\\n",
       "0    0.41265762    0.4025171    0.34657985     1  152278  6.56694E-6   \n",
       "1  0.0053016427  0.016276112   0.013652799     1  152120  6.57376E-6   \n",
       "2   0.010536921  0.049223777  0.0026618603  1208  152214   0.0079362   \n",
       "\n",
       "  cadd_phred is_in_dELS is_in_CA is_in_pELS is_in_CA-H3K4me3 is_in_CA-CTCF  \\\n",
       "0      1.143      false    false      false            false         false   \n",
       "1      9.243      false    false      false            false         false   \n",
       "2      0.448       true    false      false            false         false   \n",
       "\n",
       "  is_in_PLS is_in_TF is_in_CA-TF  P_ANNO                mean_ref  \\\n",
       "0     false    false       false  -1.337  -0.0037026156981786094   \n",
       "1     false    false       false   0.262     0.14235402146975198   \n",
       "2     false    false       false  -0.274   -0.024667203426361084   \n",
       "\n",
       "              mean_skew         MAF   category roulette_PN roulette_MR  \\\n",
       "0    0.3872515360514323  6.56694E-6  SINGLETON       CTAAT       0.083   \n",
       "1   0.01174351821343104  6.57376E-6  SINGLETON       GTGTG        0.03   \n",
       "2  0.020807519555091858   0.0079362   LOW_FREQ       TCGTG       1.514   \n",
       "\n",
       "  roulette_MG in_rep                                         info_split  \\\n",
       "0       0.075  false  [K562__ref=0.074058756, HepG2__ref=0.12208533,...   \n",
       "1       0.046   true  [K562__ref=0.27268323, HepG2__ref=0.22027189, ...   \n",
       "2        2.41  false  [K562__ref=0.25549465, HepG2__ref=-0.060619805...   \n",
       "\n",
       "                                           vep_alone  \\\n",
       "0  vep=G|downstream_gene_variant|MODIFIER|AC09332...   \n",
       "1  vep=C|intron_variant&non_coding_transcript_var...   \n",
       "2  vep=A|intron_variant&non_coding_transcript_var...   \n",
       "\n",
       "                                           vep_split  \\\n",
       "0  [vep=G|downstream_gene_variant|MODIFIER|AC0933...   \n",
       "1  [vep=C|intron_variant&non_coding_transcript_va...   \n",
       "2  [vep=A|intron_variant&non_coding_transcript_va...   \n",
       "\n",
       "                                     extracted_codes  \\\n",
       "0  [downstream_gene_variant, intron_variant&non_c...   \n",
       "1     [intron_variant&non_coding_transcript_variant]   \n",
       "2  [intron_variant&non_coding_transcript_variant,...   \n",
       "\n",
       "                                         consq_codes  \\\n",
       "0  [downstream_gene_variant, intron_variant, non_...   \n",
       "1    [intron_variant, non_coding_transcript_variant]   \n",
       "2  [intron_variant, non_coding_transcript_variant...   \n",
       "\n",
       "              consq_numeric  min_consq_numeric worst_consq_string  \n",
       "0  [32, 27, 29, 32, 32, 32]                 27     intron_variant  \n",
       "1                  [27, 29]                 27     intron_variant  \n",
       "2      [27, 29, 32, 32, 32]                 27     intron_variant  "
      ]
     },
     "metadata": {},
     "output_type": "display_data"
    }
   ],
   "source": [
    "#manual verification\n",
    "#import pandas as pd\n",
    "#with pd.option_context('display.max_rows', None, 'display.max_columns', None):\n",
    "#    display(df.limit(3).toPandas())\n",
    "#df.limit(3).toPandas()[\"consq_codes\"].to_list()"
   ]
  },
  {
   "cell_type": "code",
   "execution_count": 16,
   "id": "6bf8fcbc-bc0a-434b-8f42-8e9d2d9fde1f",
   "metadata": {
    "execution": {
     "iopub.execute_input": "2024-06-12T17:12:43.695965Z",
     "iopub.status.busy": "2024-06-12T17:12:43.695630Z",
     "iopub.status.idle": "2024-06-12T17:12:43.744687Z",
     "shell.execute_reply": "2024-06-12T17:12:43.744225Z",
     "shell.execute_reply.started": "2024-06-12T17:12:43.695942Z"
    },
    "tags": []
   },
   "outputs": [],
   "source": [
    "#count \n",
    "counts=df.groupBy(\"category\",\"worst_consq_string\").agg(\n",
    "    \n",
    "    F.sum(\"P_ANNO\").alias(\"sum_phylop\"),\n",
    "    F.sum(F.col(\"P_ANNO\") * F.col(\"P_ANNO\")).alias(\"sum_of_squared_phylop\"),\n",
    "    \n",
    "    F.sum(\"roulette_MR\").alias(\"sum_roulette_MR\"),\n",
    "    F.sum(F.col(\"roulette_MR\") * F.col(\"roulette_MR\")).alias(\"sum_of_squared_roulette_MR\"),\n",
    "    \n",
    "    \n",
    "    F.count(\"*\").alias(\"count\")  # Count of elements in each group\n",
    ")"
   ]
  },
  {
   "cell_type": "markdown",
   "id": "89ce6f2e-2da5-4728-a2e0-f6fe75ff4772",
   "metadata": {},
   "source": [
    "Dump to disc"
   ]
  },
  {
   "cell_type": "code",
   "execution_count": 17,
   "id": "914c858f-ef7a-40ba-9686-85615bcb6c51",
   "metadata": {
    "execution": {
     "iopub.execute_input": "2024-06-12T17:12:47.686577Z",
     "iopub.status.busy": "2024-06-12T17:12:47.686253Z",
     "iopub.status.idle": "2024-06-12T17:13:10.351414Z",
     "shell.execute_reply": "2024-06-12T17:13:10.349920Z",
     "shell.execute_reply.started": "2024-06-12T17:12:47.686556Z"
    },
    "tags": []
   },
   "outputs": [
    {
     "name": "stderr",
     "output_type": "stream",
     "text": [
      "ERROR:root:KeyboardInterrupt while sending command.            (10 + 10) / 2036]\n",
      "Traceback (most recent call last):\n",
      "  File \"/home/mcn26/.conda/envs/mcn_varef/lib/python3.10/site-packages/py4j/java_gateway.py\", line 1038, in send_command\n",
      "    response = connection.send_command(command)\n",
      "  File \"/home/mcn26/.conda/envs/mcn_varef/lib/python3.10/site-packages/py4j/clientserver.py\", line 511, in send_command\n",
      "    answer = smart_decode(self.stream.readline()[:-1])\n",
      "  File \"/home/mcn26/.conda/envs/mcn_varef/lib/python3.10/socket.py\", line 705, in readinto\n",
      "    return self._sock.recv_into(b)\n",
      "KeyboardInterrupt\n"
     ]
    },
    {
     "ename": "KeyboardInterrupt",
     "evalue": "",
     "output_type": "error",
     "traceback": [
      "\u001b[0;31m---------------------------------------------------------------------------\u001b[0m",
      "\u001b[0;31mKeyboardInterrupt\u001b[0m                         Traceback (most recent call last)",
      "Cell \u001b[0;32mIn[17], line 1\u001b[0m\n\u001b[0;32m----> 1\u001b[0m \u001b[43mcounts\u001b[49m\u001b[38;5;241;43m.\u001b[39;49m\u001b[43mcoalesce\u001b[49m\u001b[43m(\u001b[49m\u001b[38;5;241;43m1\u001b[39;49m\u001b[43m)\u001b[49m\u001b[38;5;241;43m.\u001b[39;49m\u001b[43mwrite\u001b[49m\u001b[38;5;241;43m.\u001b[39;49m\u001b[43mcsv\u001b[49m\u001b[43m(\u001b[49m\u001b[38;5;124;43m\"\u001b[39;49m\u001b[38;5;124;43mcounts.csv\u001b[39;49m\u001b[38;5;124;43m\"\u001b[39;49m\u001b[43m,\u001b[49m\u001b[43m \u001b[49m\u001b[43mmode\u001b[49m\u001b[38;5;241;43m=\u001b[39;49m\u001b[38;5;124;43m\"\u001b[39;49m\u001b[38;5;124;43moverwrite\u001b[39;49m\u001b[38;5;124;43m\"\u001b[39;49m\u001b[43m,\u001b[49m\u001b[43m \u001b[49m\u001b[43mheader\u001b[49m\u001b[38;5;241;43m=\u001b[39;49m\u001b[38;5;28;43;01mTrue\u001b[39;49;00m\u001b[43m)\u001b[49m\n",
      "File \u001b[0;32m~/.conda/envs/mcn_varef/lib/python3.10/site-packages/pyspark/sql/readwriter.py:1864\u001b[0m, in \u001b[0;36mDataFrameWriter.csv\u001b[0;34m(self, path, mode, compression, sep, quote, escape, header, nullValue, escapeQuotes, quoteAll, dateFormat, timestampFormat, ignoreLeadingWhiteSpace, ignoreTrailingWhiteSpace, charToEscapeQuoteEscaping, encoding, emptyValue, lineSep)\u001b[0m\n\u001b[1;32m   1845\u001b[0m \u001b[38;5;28mself\u001b[39m\u001b[38;5;241m.\u001b[39mmode(mode)\n\u001b[1;32m   1846\u001b[0m \u001b[38;5;28mself\u001b[39m\u001b[38;5;241m.\u001b[39m_set_opts(\n\u001b[1;32m   1847\u001b[0m     compression\u001b[38;5;241m=\u001b[39mcompression,\n\u001b[1;32m   1848\u001b[0m     sep\u001b[38;5;241m=\u001b[39msep,\n\u001b[0;32m   (...)\u001b[0m\n\u001b[1;32m   1862\u001b[0m     lineSep\u001b[38;5;241m=\u001b[39mlineSep,\n\u001b[1;32m   1863\u001b[0m )\n\u001b[0;32m-> 1864\u001b[0m \u001b[38;5;28;43mself\u001b[39;49m\u001b[38;5;241;43m.\u001b[39;49m\u001b[43m_jwrite\u001b[49m\u001b[38;5;241;43m.\u001b[39;49m\u001b[43mcsv\u001b[49m\u001b[43m(\u001b[49m\u001b[43mpath\u001b[49m\u001b[43m)\u001b[49m\n",
      "File \u001b[0;32m~/.conda/envs/mcn_varef/lib/python3.10/site-packages/py4j/java_gateway.py:1321\u001b[0m, in \u001b[0;36mJavaMember.__call__\u001b[0;34m(self, *args)\u001b[0m\n\u001b[1;32m   1314\u001b[0m args_command, temp_args \u001b[38;5;241m=\u001b[39m \u001b[38;5;28mself\u001b[39m\u001b[38;5;241m.\u001b[39m_build_args(\u001b[38;5;241m*\u001b[39margs)\n\u001b[1;32m   1316\u001b[0m command \u001b[38;5;241m=\u001b[39m proto\u001b[38;5;241m.\u001b[39mCALL_COMMAND_NAME \u001b[38;5;241m+\u001b[39m\\\n\u001b[1;32m   1317\u001b[0m     \u001b[38;5;28mself\u001b[39m\u001b[38;5;241m.\u001b[39mcommand_header \u001b[38;5;241m+\u001b[39m\\\n\u001b[1;32m   1318\u001b[0m     args_command \u001b[38;5;241m+\u001b[39m\\\n\u001b[1;32m   1319\u001b[0m     proto\u001b[38;5;241m.\u001b[39mEND_COMMAND_PART\n\u001b[0;32m-> 1321\u001b[0m answer \u001b[38;5;241m=\u001b[39m \u001b[38;5;28;43mself\u001b[39;49m\u001b[38;5;241;43m.\u001b[39;49m\u001b[43mgateway_client\u001b[49m\u001b[38;5;241;43m.\u001b[39;49m\u001b[43msend_command\u001b[49m\u001b[43m(\u001b[49m\u001b[43mcommand\u001b[49m\u001b[43m)\u001b[49m\n\u001b[1;32m   1322\u001b[0m return_value \u001b[38;5;241m=\u001b[39m get_return_value(\n\u001b[1;32m   1323\u001b[0m     answer, \u001b[38;5;28mself\u001b[39m\u001b[38;5;241m.\u001b[39mgateway_client, \u001b[38;5;28mself\u001b[39m\u001b[38;5;241m.\u001b[39mtarget_id, \u001b[38;5;28mself\u001b[39m\u001b[38;5;241m.\u001b[39mname)\n\u001b[1;32m   1325\u001b[0m \u001b[38;5;28;01mfor\u001b[39;00m temp_arg \u001b[38;5;129;01min\u001b[39;00m temp_args:\n",
      "File \u001b[0;32m~/.conda/envs/mcn_varef/lib/python3.10/site-packages/py4j/java_gateway.py:1038\u001b[0m, in \u001b[0;36mGatewayClient.send_command\u001b[0;34m(self, command, retry, binary)\u001b[0m\n\u001b[1;32m   1036\u001b[0m connection \u001b[38;5;241m=\u001b[39m \u001b[38;5;28mself\u001b[39m\u001b[38;5;241m.\u001b[39m_get_connection()\n\u001b[1;32m   1037\u001b[0m \u001b[38;5;28;01mtry\u001b[39;00m:\n\u001b[0;32m-> 1038\u001b[0m     response \u001b[38;5;241m=\u001b[39m \u001b[43mconnection\u001b[49m\u001b[38;5;241;43m.\u001b[39;49m\u001b[43msend_command\u001b[49m\u001b[43m(\u001b[49m\u001b[43mcommand\u001b[49m\u001b[43m)\u001b[49m\n\u001b[1;32m   1039\u001b[0m     \u001b[38;5;28;01mif\u001b[39;00m binary:\n\u001b[1;32m   1040\u001b[0m         \u001b[38;5;28;01mreturn\u001b[39;00m response, \u001b[38;5;28mself\u001b[39m\u001b[38;5;241m.\u001b[39m_create_connection_guard(connection)\n",
      "File \u001b[0;32m~/.conda/envs/mcn_varef/lib/python3.10/site-packages/py4j/clientserver.py:511\u001b[0m, in \u001b[0;36mClientServerConnection.send_command\u001b[0;34m(self, command)\u001b[0m\n\u001b[1;32m    509\u001b[0m \u001b[38;5;28;01mtry\u001b[39;00m:\n\u001b[1;32m    510\u001b[0m     \u001b[38;5;28;01mwhile\u001b[39;00m \u001b[38;5;28;01mTrue\u001b[39;00m:\n\u001b[0;32m--> 511\u001b[0m         answer \u001b[38;5;241m=\u001b[39m smart_decode(\u001b[38;5;28;43mself\u001b[39;49m\u001b[38;5;241;43m.\u001b[39;49m\u001b[43mstream\u001b[49m\u001b[38;5;241;43m.\u001b[39;49m\u001b[43mreadline\u001b[49m\u001b[43m(\u001b[49m\u001b[43m)\u001b[49m[:\u001b[38;5;241m-\u001b[39m\u001b[38;5;241m1\u001b[39m])\n\u001b[1;32m    512\u001b[0m         logger\u001b[38;5;241m.\u001b[39mdebug(\u001b[38;5;124m\"\u001b[39m\u001b[38;5;124mAnswer received: \u001b[39m\u001b[38;5;132;01m{0}\u001b[39;00m\u001b[38;5;124m\"\u001b[39m\u001b[38;5;241m.\u001b[39mformat(answer))\n\u001b[1;32m    513\u001b[0m         \u001b[38;5;66;03m# Happens when a the other end is dead. There might be an empty\u001b[39;00m\n\u001b[1;32m    514\u001b[0m         \u001b[38;5;66;03m# answer before the socket raises an error.\u001b[39;00m\n",
      "File \u001b[0;32m~/.conda/envs/mcn_varef/lib/python3.10/socket.py:705\u001b[0m, in \u001b[0;36mSocketIO.readinto\u001b[0;34m(self, b)\u001b[0m\n\u001b[1;32m    703\u001b[0m \u001b[38;5;28;01mwhile\u001b[39;00m \u001b[38;5;28;01mTrue\u001b[39;00m:\n\u001b[1;32m    704\u001b[0m     \u001b[38;5;28;01mtry\u001b[39;00m:\n\u001b[0;32m--> 705\u001b[0m         \u001b[38;5;28;01mreturn\u001b[39;00m \u001b[38;5;28;43mself\u001b[39;49m\u001b[38;5;241;43m.\u001b[39;49m\u001b[43m_sock\u001b[49m\u001b[38;5;241;43m.\u001b[39;49m\u001b[43mrecv_into\u001b[49m\u001b[43m(\u001b[49m\u001b[43mb\u001b[49m\u001b[43m)\u001b[49m\n\u001b[1;32m    706\u001b[0m     \u001b[38;5;28;01mexcept\u001b[39;00m timeout:\n\u001b[1;32m    707\u001b[0m         \u001b[38;5;28mself\u001b[39m\u001b[38;5;241m.\u001b[39m_timeout_occurred \u001b[38;5;241m=\u001b[39m \u001b[38;5;28;01mTrue\u001b[39;00m\n",
      "\u001b[0;31mKeyboardInterrupt\u001b[0m: "
     ]
    },
    {
     "name": "stderr",
     "output_type": "stream",
     "text": [
      "[Stage 3:=>                                                    (40 + 10) / 2036]\r"
     ]
    }
   ],
   "source": [
    "counts.coalesce(1).write.csv(\"counts.csv\", mode=\"overwrite\", header=True)"
   ]
  }
 ],
 "metadata": {
  "kernelspec": {
   "display_name": "Python 3 (ipykernel)",
   "language": "python",
   "name": "python3"
  },
  "language_info": {
   "codemirror_mode": {
    "name": "ipython",
    "version": 3
   },
   "file_extension": ".py",
   "mimetype": "text/x-python",
   "name": "python",
   "nbconvert_exporter": "python",
   "pygments_lexer": "ipython3",
   "version": "3.10.12"
  }
 },
 "nbformat": 4,
 "nbformat_minor": 5
}
