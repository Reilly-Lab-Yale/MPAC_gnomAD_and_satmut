{
 "cells": [
  {
   "cell_type": "code",
   "execution_count": null,
   "id": "95023864-bf16-42cd-95e9-d5b30378c719",
   "metadata": {
    "execution": {
     "iopub.execute_input": "2023-12-08T14:33:36.981788Z",
     "iopub.status.busy": "2023-12-08T14:33:36.980335Z"
    },
    "tags": []
   },
   "outputs": [],
   "source": [
    "import pandas as pd\n",
    "import seaborn as sns"
   ]
  },
  {
   "cell_type": "markdown",
   "id": "46b3daae-9903-4848-94f3-eabaeabfcc34",
   "metadata": {},
   "source": [
    "For all graphs : I want raw, fraction, & ratio. "
   ]
  },
  {
   "cell_type": "markdown",
   "id": "d395e0df-cdc6-408d-a8e0-5fc77104f150",
   "metadata": {},
   "source": [
    "PhyloP VS rarity"
   ]
  },
  {
   "cell_type": "code",
   "execution_count": null,
   "id": "cfd904a5-f14c-498d-9d50-11a9cfece151",
   "metadata": {},
   "outputs": [],
   "source": []
  }
 ],
 "metadata": {
  "kernelspec": {
   "display_name": "Python 3 (ipykernel)",
   "language": "python",
   "name": "python3"
  },
  "language_info": {
   "codemirror_mode": {
    "name": "ipython",
    "version": 3
   },
   "file_extension": ".py",
   "mimetype": "text/x-python",
   "name": "python",
   "nbconvert_exporter": "python",
   "pygments_lexer": "ipython3",
   "version": "3.10.12"
  }
 },
 "nbformat": 4,
 "nbformat_minor": 5
}
