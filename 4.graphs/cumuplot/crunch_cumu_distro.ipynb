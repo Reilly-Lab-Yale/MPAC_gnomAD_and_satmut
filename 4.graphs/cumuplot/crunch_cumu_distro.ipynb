{
 "cells": [
  {
   "cell_type": "markdown",
   "id": "75cd33c6-9024-4fe7-85bc-7c2386dd3ad4",
   "metadata": {},
   "source": [
    "- Load a chromosome from filtered\n",
    "- (let's just start with mean)\n",
    "- Add boolean columns for membership in ref & skew thresholds\n",
    "    - load from pickles\n",
    "- For each boolean combo\n",
    "    - get unique & count allele freq (AF\n",
    "- KS test"
   ]
  }
 ],
 "metadata": {
  "kernelspec": {
   "display_name": "Python 3 (ipykernel)",
   "language": "python",
   "name": "python3"
  },
  "language_info": {
   "codemirror_mode": {
    "name": "ipython",
    "version": 3
   },
   "file_extension": ".py",
   "mimetype": "text/x-python",
   "name": "python",
   "nbconvert_exporter": "python",
   "pygments_lexer": "ipython3",
   "version": "3.10.12"
  }
 },
 "nbformat": 4,
 "nbformat_minor": 5
}
