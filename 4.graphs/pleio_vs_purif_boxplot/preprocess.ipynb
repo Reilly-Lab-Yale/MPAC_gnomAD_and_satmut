{
 "cells": [
  {
   "cell_type": "code",
   "execution_count": 82,
   "id": "8d752a38-dd09-44bf-9cb3-67b0b818f64e",
   "metadata": {
    "execution": {
     "iopub.execute_input": "2024-02-06T20:19:41.246677Z",
     "iopub.status.busy": "2024-02-06T20:19:41.246421Z",
     "iopub.status.idle": "2024-02-06T20:19:41.248991Z",
     "shell.execute_reply": "2024-02-06T20:19:41.248646Z",
     "shell.execute_reply.started": "2024-02-06T20:19:41.246659Z"
    },
    "tags": []
   },
   "outputs": [],
   "source": [
    "from pyspark.sql import SparkSession\n",
    "from pyspark import SparkConf, SparkContext\n",
    "import pyspark.sql.functions as F \n",
    "import os"
   ]
  },
  {
   "cell_type": "code",
   "execution_count": 43,
   "id": "7f7ee9d9-33d1-4f2a-89b2-73732ea98a08",
   "metadata": {
    "execution": {
     "iopub.execute_input": "2024-02-06T19:20:03.316311Z",
     "iopub.status.busy": "2024-02-06T19:20:03.315871Z",
     "iopub.status.idle": "2024-02-06T19:20:03.365053Z",
     "shell.execute_reply": "2024-02-06T19:20:03.364665Z",
     "shell.execute_reply.started": "2024-02-06T19:20:03.316293Z"
    },
    "tags": []
   },
   "outputs": [
    {
     "name": "stderr",
     "output_type": "stream",
     "text": [
      "24/02/06 14:20:03 WARN Utils: Service 'SparkUI' could not bind on port 4040. Attempting port 4041.\n"
     ]
    }
   ],
   "source": [
    "conf = SparkConf() \\\n",
    "    .setAppName(\"pleio_vs_purif_boxplot\")\\\n",
    "\n",
    "# Create a SparkContext with the specified configurations\n",
    "if 'spark' in locals() and spark!=None:\n",
    "    spark.stop()\n",
    "\n",
    "sc = SparkContext(conf=conf)\n",
    "\n",
    "# Create a SparkSession from the SparkContext\n",
    "spark = SparkSession(sc)"
   ]
  },
  {
   "cell_type": "code",
   "execution_count": 44,
   "id": "4a9bdcd4-6baa-413c-995a-442f25578c88",
   "metadata": {
    "execution": {
     "iopub.execute_input": "2024-02-06T19:20:07.652249Z",
     "iopub.status.busy": "2024-02-06T19:20:07.651826Z",
     "iopub.status.idle": "2024-02-06T19:20:24.385664Z",
     "shell.execute_reply": "2024-02-06T19:20:24.385193Z",
     "shell.execute_reply.started": "2024-02-06T19:20:07.652226Z"
    },
    "tags": []
   },
   "outputs": [
    {
     "name": "stderr",
     "output_type": "stream",
     "text": [
      "                                                                                \r"
     ]
    }
   ],
   "source": [
    "#loading in all autosomes\n",
    "#Skipping sex chromosomes, see readme\n",
    "df = spark.read \\\n",
    "    .option(\"comment\", \"#\") \\\n",
    "    .option(\"delimiter\", \",\") \\\n",
    "    .csv(\"/gpfs/gibbs/pi/reilly/VariantEffects/scripts/noon_data/2.filter/*.csv/*.csv.gz\", header=True)"
   ]
  },
  {
   "cell_type": "code",
   "execution_count": 45,
   "id": "68513667-9e6e-4fc4-a3c8-de4cc7569857",
   "metadata": {
    "execution": {
     "iopub.execute_input": "2024-02-06T19:20:24.386902Z",
     "iopub.status.busy": "2024-02-06T19:20:24.386594Z",
     "iopub.status.idle": "2024-02-06T19:20:24.509969Z",
     "shell.execute_reply": "2024-02-06T19:20:24.509557Z",
     "shell.execute_reply.started": "2024-02-06T19:20:24.386886Z"
    },
    "tags": []
   },
   "outputs": [],
   "source": [
    "cell_types=[\"K562\",\"SKNSH\",\"HepG2\"]\n",
    "for cell_type in cell_types:\n",
    "    df = df.withColumn(f\"emVar_{cell_type}\", \n",
    "                           (F.abs(F.col(f\"{cell_type}__skew\")) >= 0.5) & \n",
    "                           (F.greatest(F.col(f\"{cell_type}__ref\"), F.col(f\"{cell_type}__alt\")) >= 1.0))\n",
    "\n",
    "#next, we count the number of cell-types each variant is an emvar in to compute the pleitropy. \n",
    "df = df.withColumn(\"pleio\", F.col(\"emVar_K562\").cast(\"int\") + F.col(\"emVar_SKNSH\").cast(\"int\") + F.col(\"emVar_HepG2\").cast(\"int\"))"
   ]
  },
  {
   "cell_type": "code",
   "execution_count": 46,
   "id": "3a37f93c-da97-4be2-a22e-b2f3858c984a",
   "metadata": {
    "execution": {
     "iopub.execute_input": "2024-02-06T19:20:24.510868Z",
     "iopub.status.busy": "2024-02-06T19:20:24.510534Z",
     "iopub.status.idle": "2024-02-06T19:20:24.522463Z",
     "shell.execute_reply": "2024-02-06T19:20:24.522037Z",
     "shell.execute_reply.started": "2024-02-06T19:20:24.510854Z"
    },
    "tags": []
   },
   "outputs": [],
   "source": [
    "df=df.withColumn(\"AF\",F.col(\"AF\").cast(\"float\"))"
   ]
  },
  {
   "cell_type": "code",
   "execution_count": 90,
   "id": "4c742f06-e462-47cb-abf9-86eeb38caa81",
   "metadata": {
    "execution": {
     "iopub.execute_input": "2024-02-06T20:32:21.560517Z",
     "iopub.status.busy": "2024-02-06T20:32:21.560288Z",
     "iopub.status.idle": "2024-02-06T20:32:21.565188Z",
     "shell.execute_reply": "2024-02-06T20:32:21.564840Z",
     "shell.execute_reply.started": "2024-02-06T20:32:21.560500Z"
    },
    "tags": []
   },
   "outputs": [],
   "source": [
    "output={\"tropy\":[],\"region\":[],\"n\":[],\"quartiles\":[],\"mean\":[],\"stdev\":[],\"min\":[],\"max\":[]}\n",
    "\n",
    "quantile_probs = [0.25, 0.5, 0.75]  # For quartiles\n",
    "quantile_reliability = 0.05  # Adjust based on your needs\n",
    "\n",
    "def compute(trophy,region):\n",
    "    print(f\"Computing {tropy} and {region}\")\n",
    "\n",
    "    output[\"tropy\"].append(tropy)\n",
    "    output[\"region\"].append(region)\n",
    "\n",
    "    subset=df\n",
    "\n",
    "    if tropy!=\"ALL\":\n",
    "        subset=subset.where(F.col(\"pleio\")==tropy)\n",
    "\n",
    "    if region !=\"ALL\":\n",
    "        subset=subset.where(F.col(region)==True)\n",
    "\n",
    "\n",
    "    #quartiles\n",
    "    output[\"quartiles\"].append(subset.stat.approxQuantile('AF', quantile_probs, quantile_reliability) )\n",
    "\n",
    "    #min\n",
    "\n",
    "    output[\"min\"].append( subset.agg(F.min('AF')).alias('min').toPandas()[\"min(AF)\"][0] )\n",
    "\n",
    "\n",
    "    #max\n",
    "\n",
    "    output[\"max\"].append( subset.agg(F.max('AF')).alias('max').toPandas()[\"max(AF)\"][0] )\n",
    "\n",
    "    #n\n",
    "    output[\"n\"].append(subset.count())\n",
    "\n",
    "    #avg\n",
    "    output[\"mean\"].append( subset.agg(F.avg(\"AF\").alias(\"mean\")).collect()[0]['mean'] )\n",
    "\n",
    "    #stdev\n",
    "    output[\"stdev\"].append( subset.agg(F.stddev_pop(\"AF\").alias(\"stddev_pop\")).collect()[0]['stddev_pop'] )"
   ]
  },
  {
   "cell_type": "code",
   "execution_count": 91,
   "id": "ef1c581e-3004-4aad-b35c-c6fbbf658584",
   "metadata": {
    "execution": {
     "iopub.execute_input": "2024-02-06T20:32:23.791649Z",
     "iopub.status.busy": "2024-02-06T20:32:23.791418Z",
     "iopub.status.idle": "2024-02-06T20:33:10.080610Z",
     "shell.execute_reply": "2024-02-06T20:33:10.080212Z",
     "shell.execute_reply.started": "2024-02-06T20:32:23.791634Z"
    },
    "tags": []
   },
   "outputs": [
    {
     "name": "stdout",
     "output_type": "stream",
     "text": [
      "Computing ALL and is_in_PLS\n"
     ]
    },
    {
     "name": "stderr",
     "output_type": "stream",
     "text": [
      "                                                                                \r"
     ]
    }
   ],
   "source": [
    "combos=[]\n",
    "for tropy in [0,1,2,\"ALL\"]:\n",
    "    for region in [\"is_in_PLS\",\"is_in_dELS\",\"is_in_pELS\",\"ALL\"]:\n",
    "        combos.append({'tropy':tropy,'region':region})\n",
    "        \n",
    "#array_id=os.environ['SLURM_ARRAY_TASK_ID']\n",
    "array_id=0\n",
    "#this call will populate `output`\n",
    "compute(trophy=combos[array_id][\"tropy\"],region=combos[array_id][\"region\"])"
   ]
  },
  {
   "cell_type": "code",
   "execution_count": 94,
   "id": "5e5e383c-2006-4c95-94ee-0bbe3e2a6ce7",
   "metadata": {
    "execution": {
     "iopub.execute_input": "2024-02-06T20:33:46.767475Z",
     "iopub.status.busy": "2024-02-06T20:33:46.767192Z",
     "iopub.status.idle": "2024-02-06T20:33:46.770148Z",
     "shell.execute_reply": "2024-02-06T20:33:46.769788Z",
     "shell.execute_reply.started": "2024-02-06T20:33:46.767457Z"
    },
    "tags": []
   },
   "outputs": [],
   "source": [
    "import pickle\n",
    "\n",
    "filename=f\"preprocess_pleio_{combos[array_id]['tropy']}_region_{combos[array_id]['region']}_.pkl\"\n",
    "\n",
    "with open(filename, 'wb') as file:\n",
    "    pickle.dump(output, file)"
   ]
  }
 ],
 "metadata": {
  "kernelspec": {
   "display_name": "Python 3 (ipykernel)",
   "language": "python",
   "name": "python3"
  },
  "language_info": {
   "codemirror_mode": {
    "name": "ipython",
    "version": 3
   },
   "file_extension": ".py",
   "mimetype": "text/x-python",
   "name": "python",
   "nbconvert_exporter": "python",
   "pygments_lexer": "ipython3",
   "version": "3.10.12"
  }
 },
 "nbformat": 4,
 "nbformat_minor": 5
}
