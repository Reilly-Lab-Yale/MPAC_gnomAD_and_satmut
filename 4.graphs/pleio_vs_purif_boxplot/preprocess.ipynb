{
 "cells": [
  {
   "cell_type": "code",
   "execution_count": 2,
   "id": "8d752a38-dd09-44bf-9cb3-67b0b818f64e",
   "metadata": {
    "execution": {
     "iopub.execute_input": "2024-02-06T17:58:50.259266Z",
     "iopub.status.busy": "2024-02-06T17:58:50.259006Z",
     "iopub.status.idle": "2024-02-06T17:58:50.428427Z",
     "shell.execute_reply": "2024-02-06T17:58:50.428019Z",
     "shell.execute_reply.started": "2024-02-06T17:58:50.259249Z"
    },
    "tags": []
   },
   "outputs": [],
   "source": [
    "from pyspark.sql import SparkSession\n",
    "from pyspark import SparkConf, SparkContext\n",
    "import pyspark.sql.functions as F \n",
    "#from pyspark.sql.functions import col, min, max, expr"
   ]
  },
  {
   "cell_type": "code",
   "execution_count": 3,
   "id": "7f7ee9d9-33d1-4f2a-89b2-73732ea98a08",
   "metadata": {
    "execution": {
     "iopub.execute_input": "2024-02-06T17:58:50.864842Z",
     "iopub.status.busy": "2024-02-06T17:58:50.864407Z",
     "iopub.status.idle": "2024-02-06T17:58:52.995403Z",
     "shell.execute_reply": "2024-02-06T17:58:52.994922Z",
     "shell.execute_reply.started": "2024-02-06T17:58:50.864827Z"
    },
    "tags": []
   },
   "outputs": [
    {
     "name": "stderr",
     "output_type": "stream",
     "text": [
      "Setting default log level to \"WARN\".\n",
      "To adjust logging level use sc.setLogLevel(newLevel). For SparkR, use setLogLevel(newLevel).\n",
      "24/02/06 12:58:52 WARN NativeCodeLoader: Unable to load native-hadoop library for your platform... using builtin-java classes where applicable\n",
      "24/02/06 12:58:52 WARN Utils: Service 'SparkUI' could not bind on port 4040. Attempting port 4041.\n"
     ]
    }
   ],
   "source": [
    "conf = SparkConf() \\\n",
    "    .setAppName(\"pleio_vs_purif_boxplot\")\\\n",
    "\n",
    "# Create a SparkContext with the specified configurations\n",
    "if 'spark' in locals() and spark!=None:\n",
    "    spark.stop()\n",
    "\n",
    "sc = SparkContext(conf=conf)\n",
    "\n",
    "# Create a SparkSession from the SparkContext\n",
    "spark = SparkSession(sc)"
   ]
  },
  {
   "cell_type": "code",
   "execution_count": 4,
   "id": "4a9bdcd4-6baa-413c-995a-442f25578c88",
   "metadata": {
    "execution": {
     "iopub.execute_input": "2024-02-06T17:58:52.996706Z",
     "iopub.status.busy": "2024-02-06T17:58:52.996373Z",
     "iopub.status.idle": "2024-02-06T17:59:13.400727Z",
     "shell.execute_reply": "2024-02-06T17:59:13.400289Z",
     "shell.execute_reply.started": "2024-02-06T17:58:52.996689Z"
    },
    "tags": []
   },
   "outputs": [
    {
     "name": "stderr",
     "output_type": "stream",
     "text": [
      "24/02/06 12:59:05 WARN GarbageCollectionMetrics: To enable non-built-in garbage collector(s) List(G1 Concurrent GC), users should configure it(them) to spark.eventLog.gcMetrics.youngGenerationGarbageCollectors or spark.eventLog.gcMetrics.oldGenerationGarbageCollectors\n",
      "                                                                                \r"
     ]
    }
   ],
   "source": [
    "#loading in all autosomes\n",
    "#Skipping sex chromosomes, see readme\n",
    "df = spark.read \\\n",
    "    .option(\"comment\", \"#\") \\\n",
    "    .option(\"delimiter\", \",\") \\\n",
    "    .csv(\"/gpfs/gibbs/pi/reilly/VariantEffects/scripts/noon_data/2.filter/*.csv/*.csv.gz\", header=True)"
   ]
  },
  {
   "cell_type": "code",
   "execution_count": 5,
   "id": "68513667-9e6e-4fc4-a3c8-de4cc7569857",
   "metadata": {
    "execution": {
     "iopub.execute_input": "2024-02-06T17:59:13.401937Z",
     "iopub.status.busy": "2024-02-06T17:59:13.401667Z",
     "iopub.status.idle": "2024-02-06T17:59:13.500878Z",
     "shell.execute_reply": "2024-02-06T17:59:13.500450Z",
     "shell.execute_reply.started": "2024-02-06T17:59:13.401921Z"
    },
    "tags": []
   },
   "outputs": [],
   "source": [
    "cell_types=[\"K562\",\"SKNSH\",\"HepG2\"]\n",
    "for cell_type in cell_types:\n",
    "    df = df.withColumn(f\"emVar_{cell_type}\", \n",
    "                           (F.abs(F.col(f\"{cell_type}__skew\")) >= 0.5) & \n",
    "                           (F.greatest(F.col(f\"{cell_type}__ref\"), F.col(f\"{cell_type}__alt\")) >= 1.0))\n",
    "\n",
    "#next, we count the number of cell-types each variant is an emvar in to compute the pleitropy. \n",
    "df = df.withColumn(\"pleio\", F.col(\"emVar_K562\").cast(\"int\") + F.col(\"emVar_SKNSH\").cast(\"int\") + F.col(\"emVar_HepG2\").cast(\"int\"))"
   ]
  },
  {
   "cell_type": "code",
   "execution_count": 6,
   "id": "3a37f93c-da97-4be2-a22e-b2f3858c984a",
   "metadata": {
    "execution": {
     "iopub.execute_input": "2024-02-06T17:59:13.501788Z",
     "iopub.status.busy": "2024-02-06T17:59:13.501487Z",
     "iopub.status.idle": "2024-02-06T17:59:13.516799Z",
     "shell.execute_reply": "2024-02-06T17:59:13.516399Z",
     "shell.execute_reply.started": "2024-02-06T17:59:13.501772Z"
    },
    "tags": []
   },
   "outputs": [],
   "source": [
    "df=df.withColumn(\"AF\",F.col(\"AF\").cast(\"float\"))"
   ]
  },
  {
   "cell_type": "markdown",
   "id": "ede15815-ea23-4d3f-b8ca-bdb624340b7d",
   "metadata": {},
   "source": [
    "Todo: rewrite to be cleaner & work for more subdivisions: espc. cell-type. "
   ]
  },
  {
   "cell_type": "code",
   "execution_count": 16,
   "id": "7714554d-5739-4076-8e45-a71baf2117d5",
   "metadata": {
    "execution": {
     "iopub.execute_input": "2024-02-05T22:00:05.091451Z",
     "iopub.status.busy": "2024-02-05T22:00:05.091249Z",
     "iopub.status.idle": "2024-02-05T22:00:05.094498Z",
     "shell.execute_reply": "2024-02-05T22:00:05.094153Z",
     "shell.execute_reply.started": "2024-02-05T22:00:05.091437Z"
    },
    "tags": []
   },
   "outputs": [],
   "source": [
    "distinct_categories = [0,1,2,3]\n",
    "quantile_probs = [0.25, 0.5, 0.75]  # For quartiles\n",
    "quantile_reliability = 0.05  # Adjust based on your needs\n",
    "\n",
    "def gen_box_quantiles(df):\n",
    "    \n",
    "    quantiles_by_category=[]\n",
    "    \n",
    "    \n",
    "    \n",
    "    for category_val in distinct_categories:\n",
    "        sub_df = df.where(F.col('pleio') == category_val)\n",
    "        quantiles = sub_df.stat.approxQuantile('AF', quantile_probs, quantile_reliability)\n",
    "        quantiles_by_category.append((category_val, *quantiles))\n",
    "    \n",
    "    return quantiles_by_category\n",
    "\n",
    "    \n",
    "#quantiles_by_category=gen_box_quantiles(df)\n",
    "#print(quantiles_by_category)"
   ]
  },
  {
   "cell_type": "markdown",
   "id": "6bca32cd-adb7-43e4-84f1-30d3cedfd5f6",
   "metadata": {},
   "source": [
    "Let's get the min & max"
   ]
  },
  {
   "cell_type": "code",
   "execution_count": 12,
   "id": "95ff623c-fc58-4c49-b7b7-a69899e26e7a",
   "metadata": {
    "execution": {
     "iopub.execute_input": "2024-02-05T21:46:03.487718Z",
     "iopub.status.busy": "2024-02-05T21:46:03.487403Z",
     "iopub.status.idle": "2024-02-05T21:46:03.517467Z",
     "shell.execute_reply": "2024-02-05T21:46:03.517058Z",
     "shell.execute_reply.started": "2024-02-05T21:46:03.487699Z"
    },
    "tags": []
   },
   "outputs": [],
   "source": [
    "min_max = (\n",
    "    df.groupBy('pleio')\n",
    "    .agg(\n",
    "        F.min('AF').alias('min'),\n",
    "        F.max('AF').alias('max')\n",
    "    )\n",
    ")"
   ]
  },
  {
   "cell_type": "code",
   "execution_count": 15,
   "id": "4189117d-0b6c-47cb-a0d3-b0856349b98a",
   "metadata": {
    "execution": {
     "iopub.execute_input": "2024-02-05T21:46:27.685563Z",
     "iopub.status.busy": "2024-02-05T21:46:27.685151Z",
     "iopub.status.idle": "2024-02-05T22:00:05.090515Z",
     "shell.execute_reply": "2024-02-05T22:00:05.090134Z",
     "shell.execute_reply.started": "2024-02-05T21:46:27.685544Z"
    },
    "tags": []
   },
   "outputs": [
    {
     "name": "stderr",
     "output_type": "stream",
     "text": [
      "                                                                                \r"
     ]
    },
    {
     "data": {
      "text/plain": [
       "[Row(pleio=None, min=6.565469902852783e-06, max=1.0),\n",
       " Row(pleio=1, min=6.565469902852783e-06, max=1.0),\n",
       " Row(pleio=3, min=6.565469902852783e-06, max=1.0),\n",
       " Row(pleio=2, min=6.565469902852783e-06, max=1.0),\n",
       " Row(pleio=0, min=6.565469902852783e-06, max=1.0)]"
      ]
     },
     "execution_count": 15,
     "metadata": {},
     "output_type": "execute_result"
    }
   ],
   "source": [
    "min_max.collect()"
   ]
  },
  {
   "cell_type": "markdown",
   "id": "dddf02a4-cfd2-4688-9664-0dd933cb8e27",
   "metadata": {},
   "source": [
    "Collect the ALL statistics"
   ]
  },
  {
   "cell_type": "code",
   "execution_count": 17,
   "id": "129511b2-7159-42b0-9eda-4960402deafe",
   "metadata": {
    "execution": {
     "iopub.execute_input": "2024-02-05T22:04:56.762255Z",
     "iopub.status.busy": "2024-02-05T22:04:56.761798Z",
     "iopub.status.idle": "2024-02-05T22:16:14.940194Z",
     "shell.execute_reply": "2024-02-05T22:16:14.939778Z",
     "shell.execute_reply.started": "2024-02-05T22:04:56.762237Z"
    },
    "tags": []
   },
   "outputs": [
    {
     "name": "stderr",
     "output_type": "stream",
     "text": [
      "                                                                                \r"
     ]
    }
   ],
   "source": [
    "all_quantiles = df.stat.approxQuantile('AF', quantile_probs, quantile_reliability)"
   ]
  },
  {
   "cell_type": "code",
   "execution_count": 18,
   "id": "fd8ee813-4e50-462f-9723-4c005df55e43",
   "metadata": {
    "execution": {
     "iopub.execute_input": "2024-02-05T22:16:14.941321Z",
     "iopub.status.busy": "2024-02-05T22:16:14.940938Z",
     "iopub.status.idle": "2024-02-05T22:16:14.963603Z",
     "shell.execute_reply": "2024-02-05T22:16:14.963182Z",
     "shell.execute_reply.started": "2024-02-05T22:16:14.941305Z"
    },
    "tags": []
   },
   "outputs": [],
   "source": [
    "all_min_max=df.agg(F.min('AF').alias('min'),F.max('AF').alias('max'))"
   ]
  },
  {
   "cell_type": "markdown",
   "id": "c9e88b49-a8cb-4a55-9230-01c3624601bc",
   "metadata": {},
   "source": [
    "Dump to disc so I don't have to run all of the above cells every time."
   ]
  },
  {
   "cell_type": "code",
   "execution_count": null,
   "id": "5e5e383c-2006-4c95-94ee-0bbe3e2a6ce7",
   "metadata": {
    "execution": {
     "iopub.execute_input": "2024-02-05T22:25:45.605346Z",
     "iopub.status.busy": "2024-02-05T22:25:45.604905Z"
    },
    "tags": []
   },
   "outputs": [
    {
     "name": "stderr",
     "output_type": "stream",
     "text": [
      "[Stage 18:=================================>                 (1067 + 10) / 1643]\r"
     ]
    }
   ],
   "source": [
    "import pickle\n",
    "data_to_dump={\"all_quantiles\":all_quantiles,\"all_min_max\":all_min_max.toPandas(),\"quantiles_by_category\":quantiles_by_category.toPandas(),\"min_max\":min_max.toPandas()}\n",
    "\n",
    "filename=\"temp_dump.pkl\"\n",
    "\n",
    "with open(filename, 'wb') as file:\n",
    "    pickle.dump(data_to_dump, file)"
   ]
  },
  {
   "cell_type": "markdown",
   "id": "db518439-8e9a-4b11-bdc9-c6bab4a737ce",
   "metadata": {},
   "source": [
    "get stats for difference of means ttest & plotting\n",
    "- mean\n",
    "- variance\n",
    "- standard deviation\n",
    "- n"
   ]
  },
  {
   "cell_type": "code",
   "execution_count": null,
   "id": "4c742f06-e462-47cb-abf9-86eeb38caa81",
   "metadata": {},
   "outputs": [],
   "source": [
    "output={tropy:[],region:[],n:[],mean:[],stdev:[]}\n",
    "\n",
    "for tropy in [0,1,2,\"ALL\"]:\n",
    "    for region in [\"is_in_PLS\",\"is_in_dELS\",\"is_in_pELS\",\"ALL\"]:\n",
    "        output\n",
    "        \n",
    "        #subset=df\n",
    "        #pass\n",
    "output"
   ]
  }
 ],
 "metadata": {
  "kernelspec": {
   "display_name": "Python 3 (ipykernel)",
   "language": "python",
   "name": "python3"
  },
  "language_info": {
   "codemirror_mode": {
    "name": "ipython",
    "version": 3
   },
   "file_extension": ".py",
   "mimetype": "text/x-python",
   "name": "python",
   "nbconvert_exporter": "python",
   "pygments_lexer": "ipython3",
   "version": "3.10.12"
  }
 },
 "nbformat": 4,
 "nbformat_minor": 5
}
