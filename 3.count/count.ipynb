{
 "cells": [
  {
   "cell_type": "markdown",
   "id": "e5941730-7061-4b4f-bf36-4615d23f1d2e",
   "metadata": {},
   "source": [
    "We will generate a number of count tables, described in sections below. \n",
    "\n",
    "## import "
   ]
  },
  {
   "cell_type": "code",
   "execution_count": 1,
   "id": "e0363d27-c5f7-4925-aa1f-e911f503be57",
   "metadata": {
    "execution": {
     "iopub.execute_input": "2024-01-23T02:57:14.708417Z",
     "iopub.status.busy": "2024-01-23T02:57:14.707933Z",
     "iopub.status.idle": "2024-01-23T02:57:16.886849Z",
     "shell.execute_reply": "2024-01-23T02:57:16.886387Z",
     "shell.execute_reply.started": "2024-01-23T02:57:14.708399Z"
    },
    "tags": []
   },
   "outputs": [],
   "source": [
    "from pyspark import SparkConf, SparkContext\n",
    "from pyspark.sql import SparkSession\n",
    "from pyspark.sql import Row\n",
    "from pyspark.sql import functions as F\n",
    "import pyspark.sql.types as T\n",
    "import pickle\n",
    "import pandas as pd"
   ]
  },
  {
   "cell_type": "markdown",
   "id": "67873089-a7f3-4ccf-8403-8a2413d84479",
   "metadata": {},
   "source": [
    "## create a spark session"
   ]
  },
  {
   "cell_type": "code",
   "execution_count": 2,
   "id": "7f220458-459e-4603-834f-9ee2fb2598cb",
   "metadata": {
    "execution": {
     "iopub.execute_input": "2024-01-23T02:57:17.878635Z",
     "iopub.status.busy": "2024-01-23T02:57:17.878123Z",
     "iopub.status.idle": "2024-01-23T02:57:23.736842Z",
     "shell.execute_reply": "2024-01-23T02:57:23.736355Z",
     "shell.execute_reply.started": "2024-01-23T02:57:17.878617Z"
    },
    "tags": []
   },
   "outputs": [
    {
     "name": "stderr",
     "output_type": "stream",
     "text": [
      "Setting default log level to \"WARN\".\n",
      "To adjust logging level use sc.setLogLevel(newLevel). For SparkR, use setLogLevel(newLevel).\n",
      "24/01/22 21:57:22 WARN NativeCodeLoader: Unable to load native-hadoop library for your platform... using builtin-java classes where applicable\n"
     ]
    }
   ],
   "source": [
    "conf = SparkConf() \\\n",
    "    .setAppName(\"Count\")\\\n",
    "\n",
    "# Create a SparkContext with the specified configurations\n",
    "if 'spark' in locals() and spark!=None:\n",
    "    spark.stop()\n",
    "\n",
    "sc = SparkContext(conf=conf)\n",
    "\n",
    "# Create a SparkSession from the SparkContext\n",
    "spark = SparkSession(sc)"
   ]
  },
  {
   "cell_type": "markdown",
   "id": "528fcdbc-c7e1-467f-ad0a-c299ce85cda4",
   "metadata": {},
   "source": [
    "## Load in gnomad variants annotated in the last script"
   ]
  },
  {
   "cell_type": "code",
   "execution_count": 3,
   "id": "2c0c646e-25e9-4d80-901f-f33e83cc7f26",
   "metadata": {
    "execution": {
     "iopub.execute_input": "2024-01-23T02:57:25.085883Z",
     "iopub.status.busy": "2024-01-23T02:57:25.085587Z",
     "iopub.status.idle": "2024-01-23T02:57:58.902608Z",
     "shell.execute_reply": "2024-01-23T02:57:58.902150Z",
     "shell.execute_reply.started": "2024-01-23T02:57:25.085862Z"
    },
    "tags": []
   },
   "outputs": [
    {
     "name": "stderr",
     "output_type": "stream",
     "text": [
      "24/01/22 21:57:34 WARN GarbageCollectionMetrics: To enable non-built-in garbage collector(s) List(G1 Concurrent GC), users should configure it(them) to spark.eventLog.gcMetrics.youngGenerationGarbageCollectors or spark.eventLog.gcMetrics.oldGenerationGarbageCollectors\n",
      "                                                                                \r"
     ]
    }
   ],
   "source": [
    "#loading in all autosomes\n",
    "#Skipping sex chromosomes, see readme\n",
    "df = spark.read \\\n",
    "    .option(\"comment\", \"#\") \\\n",
    "    .option(\"delimiter\", \",\") \\\n",
    "    .csv(\"/gpfs/gibbs/pi/reilly/VariantEffects/scripts/noon_data/2.filter/*.csv/*.csv\", header=True)"
   ]
  },
  {
   "cell_type": "markdown",
   "id": "0821e580-d5eb-43ab-960a-5ded4f2fca68",
   "metadata": {},
   "source": [
    "## cast columns to the appropriate types & Drop columns rows with null values. \n",
    "\n",
    "Dropping isn't strictly necessary. We could, for example, only drop those rows with null malinouis skew when computing malinouis-skew-based metrics, drop rows with no phyloP scores when computing phyloP-based metrics, etc etc. However, this would result in different sets of variants summarized by each graph, which could create biases : if, for example, PhyloP scores are annotated for a nonrandom set of variants. Therefore I will drop rows with null data in any relevant columns prior to subsequent analysis. "
   ]
  },
  {
   "cell_type": "code",
   "execution_count": 4,
   "id": "38dd9f2e-712c-4e74-9a01-3969e82de5c4",
   "metadata": {
    "execution": {
     "iopub.execute_input": "2024-01-23T02:57:58.903801Z",
     "iopub.status.busy": "2024-01-23T02:57:58.903464Z",
     "iopub.status.idle": "2024-01-23T02:57:58.924510Z",
     "shell.execute_reply": "2024-01-23T02:57:58.924068Z",
     "shell.execute_reply.started": "2024-01-23T02:57:58.903785Z"
    },
    "tags": []
   },
   "outputs": [],
   "source": [
    "int_columns=[\"POS\",\"AC\",\"AN\"]\n",
    "float_columns=[\"AF\",\"K562__ref\",\"HepG2__ref\",\"SKNSH__ref\",\"K562__alt\",\"HepG2__alt\",\"SKNSH__alt\",\"K562__skew\",\"HepG2__skew\",\"SKNSH__skew\",\"cadd_phred\",\"P_ANNO\",\"mean_ref\",\"mean_skew\",\"MAF\"]\n",
    "cre_bool_columns=[]\n",
    "for column in df.columns:\n",
    "    if column.startswith(\"is_in\"):\n",
    "        cre_bool_columns.append(column)"
   ]
  },
  {
   "cell_type": "code",
   "execution_count": 5,
   "id": "a45c37d0-2acf-40bf-9fa1-f8dd94a74e5e",
   "metadata": {
    "execution": {
     "iopub.execute_input": "2024-01-23T02:57:58.925594Z",
     "iopub.status.busy": "2024-01-23T02:57:58.925180Z",
     "iopub.status.idle": "2024-01-23T02:57:58.960115Z",
     "shell.execute_reply": "2024-01-23T02:57:58.959677Z",
     "shell.execute_reply.started": "2024-01-23T02:57:58.925579Z"
    },
    "tags": []
   },
   "outputs": [],
   "source": [
    "df = df.dropna()#subset=[\"CHROM\",\"POS\",\"cadd_phred\",\"P_ANNO\",\"mean_ref\",\"mean_skew\",\"category\"]+cre_bool_columns"
   ]
  },
  {
   "cell_type": "code",
   "execution_count": 6,
   "id": "8360f33b-bd5b-4c4f-a881-5f19b5f60c6a",
   "metadata": {
    "execution": {
     "iopub.execute_input": "2024-01-23T02:57:58.961434Z",
     "iopub.status.busy": "2024-01-23T02:57:58.961070Z",
     "iopub.status.idle": "2024-01-23T02:57:59.286510Z",
     "shell.execute_reply": "2024-01-23T02:57:59.286077Z",
     "shell.execute_reply.started": "2024-01-23T02:57:58.961419Z"
    },
    "tags": []
   },
   "outputs": [],
   "source": [
    "\n",
    "for column in int_columns:\n",
    "    df = df.withColumn(column, F.col(column).cast(T.IntegerType()))\n",
    "\n",
    "for column in float_columns:\n",
    "    df = df.withColumn(column, F.col(column).cast(T.FloatType()))\n",
    "\n",
    "for column in cre_bool_columns:\n",
    "    df = df.withColumn(column, F.col(column).cast(T.BooleanType()))\n",
    "\n",
    "    \n",
    "df_cre=df"
   ]
  },
  {
   "cell_type": "markdown",
   "id": "eb6b7229-4d25-4a65-a497-e821c5db0979",
   "metadata": {},
   "source": [
    "### Compute pleitropy\n",
    "\n",
    "\"Pleitropy\" here refers to a variant which is an emVar in multiple cell-types. We're calling emVars as anything with abs(skew)>=0.5 and max(alt activitym ref activity)>=1"
   ]
  },
  {
   "cell_type": "code",
   "execution_count": 7,
   "id": "199b1539-5171-4350-8c36-5ef08be07214",
   "metadata": {
    "execution": {
     "iopub.execute_input": "2024-01-23T02:57:59.287241Z",
     "iopub.status.busy": "2024-01-23T02:57:59.287096Z",
     "iopub.status.idle": "2024-01-23T02:57:59.364595Z",
     "shell.execute_reply": "2024-01-23T02:57:59.364152Z",
     "shell.execute_reply.started": "2024-01-23T02:57:59.287227Z"
    },
    "tags": []
   },
   "outputs": [],
   "source": [
    "#first we compute whether each variant can be called an emvar in each cell-type. \n",
    "for cell_type in [\"K562\",\"SKNSH\",\"HepG2\"]:\n",
    "    df_cre = df_cre.withColumn(f\"emVar_{cell_type}\", \n",
    "                           (F.abs(F.col(f\"{cell_type}__skew\")) >= 0.5) & \n",
    "                           (F.greatest(F.col(f\"{cell_type}__ref\"), F.col(f\"{cell_type}__alt\")) >= 1.0))\n",
    "\n",
    "#next, we count the number of cell-types each variant is an emvar in to compute the pleitropy. \n",
    "df_cre = df_cre.withColumn(\"pleio\", F.col(\"emVar_K562\").cast(\"int\") + F.col(\"emVar_SKNSH\").cast(\"int\") + F.col(\"emVar_HepG2\").cast(\"int\"))"
   ]
  },
  {
   "cell_type": "markdown",
   "id": "25577eb5-ad89-4016-9173-2799eb0525c6",
   "metadata": {},
   "source": [
    "# compute count tables\n",
    "\n",
    "All count tables will be broken down by each of the CRE types. "
   ]
  },
  {
   "cell_type": "markdown",
   "id": "42d08700-293b-4e32-8df0-485e291a1043",
   "metadata": {},
   "source": [
    "## PhyloP vs rarity\n",
    "- add column : \"significant\"/\"not significant\" : threshold is 2.27\n",
    "- count table of significance VS category\n",
    "- dump to disc"
   ]
  },
  {
   "cell_type": "code",
   "execution_count": 8,
   "id": "faadf1dc-21d2-4462-81d8-bb5405a49aad",
   "metadata": {
    "execution": {
     "iopub.execute_input": "2024-01-22T23:08:17.915665Z",
     "iopub.status.busy": "2024-01-22T23:08:17.915370Z",
     "iopub.status.idle": "2024-01-22T23:08:17.932428Z",
     "shell.execute_reply": "2024-01-22T23:08:17.931993Z",
     "shell.execute_reply.started": "2024-01-22T23:08:17.915648Z"
    },
    "tags": []
   },
   "outputs": [],
   "source": [
    "df_phylop_significant=df_cre.withColumn(\"phylop_significant\",F.col(\"P_ANNO\")>=2.27)"
   ]
  },
  {
   "cell_type": "code",
   "execution_count": null,
   "id": "e71d9e37-b025-46f1-837b-bd5be2d916b6",
   "metadata": {},
   "outputs": [],
   "source": [
    "phylop_count_table = df_phylop_significant.groupBy([\"category\",\"phylop_significant\"]+cre_bool_columns).count()"
   ]
  },
  {
   "cell_type": "code",
   "execution_count": 8,
   "id": "5ff66409-7042-495f-a475-f12aee12dab9",
   "metadata": {
    "execution": {
     "iopub.execute_input": "2024-01-23T02:57:59.365486Z",
     "iopub.status.busy": "2024-01-23T02:57:59.365196Z",
     "iopub.status.idle": "2024-01-23T02:57:59.367500Z",
     "shell.execute_reply": "2024-01-23T02:57:59.367164Z",
     "shell.execute_reply.started": "2024-01-23T02:57:59.365471Z"
    },
    "tags": []
   },
   "outputs": [],
   "source": [
    "data_base_path=\"/home/mcn26/varef/scripts/noon_data/3.count/\""
   ]
  },
  {
   "cell_type": "code",
   "execution_count": 12,
   "id": "46b8364a-69a8-481c-bbc2-43ae250f6371",
   "metadata": {
    "execution": {
     "iopub.execute_input": "2024-01-22T23:27:05.354324Z",
     "iopub.status.busy": "2024-01-22T23:27:05.353981Z",
     "iopub.status.idle": "2024-01-22T23:37:35.010506Z",
     "shell.execute_reply": "2024-01-22T23:37:35.010069Z",
     "shell.execute_reply.started": "2024-01-22T23:27:05.354301Z"
    },
    "tags": []
   },
   "outputs": [
    {
     "name": "stderr",
     "output_type": "stream",
     "text": [
      "                                                                                \r"
     ]
    }
   ],
   "source": [
    "#ACTION\n",
    "phylop_count_table.coalesce(1).write.csv(data_base_path+\"phylop_count_table\", mode=\"overwrite\", header=True)"
   ]
  },
  {
   "cell_type": "markdown",
   "id": "44e4191a-b438-4b36-8992-17edaf86a890",
   "metadata": {},
   "source": [
    "## PhyloP VS pleiotropy\n",
    "Are variants which cause skew in different numbers of cell-types conserved more or less?"
   ]
  },
  {
   "cell_type": "code",
   "execution_count": 10,
   "id": "77186a24-681c-47f3-8de9-918cba2ef827",
   "metadata": {
    "execution": {
     "iopub.execute_input": "2024-01-22T23:08:25.244421Z",
     "iopub.status.busy": "2024-01-22T23:08:25.244105Z",
     "iopub.status.idle": "2024-01-22T23:08:25.263997Z",
     "shell.execute_reply": "2024-01-22T23:08:25.263565Z",
     "shell.execute_reply.started": "2024-01-22T23:08:25.244402Z"
    },
    "tags": []
   },
   "outputs": [],
   "source": [
    "phylop_pleio = df_phylop_significant.groupBy([\"pleio\",\"phylop_significant\"]+cre_bool_columns).count()"
   ]
  },
  {
   "cell_type": "code",
   "execution_count": 11,
   "id": "dba52f96-8ae9-4439-9f26-4bd24098465c",
   "metadata": {
    "execution": {
     "iopub.execute_input": "2024-01-22T23:08:28.723244Z",
     "iopub.status.busy": "2024-01-22T23:08:28.722938Z",
     "iopub.status.idle": "2024-01-22T23:19:27.018758Z",
     "shell.execute_reply": "2024-01-22T23:19:27.017734Z",
     "shell.execute_reply.started": "2024-01-22T23:08:28.723225Z"
    },
    "tags": []
   },
   "outputs": [
    {
     "name": "stderr",
     "output_type": "stream",
     "text": [
      "24/01/22 18:08:28 WARN SparkStringUtils: Truncated the string representation of a plan since it was too large. This behavior can be adjusted by setting 'spark.sql.debug.maxToStringFields'.\n",
      "                                                                                \r"
     ]
    }
   ],
   "source": [
    "#ACTION\n",
    "phylop_pleio.coalesce(1).write.csv(data_base_path+\"phylop_pleio\", mode=\"overwrite\", header=True)"
   ]
  },
  {
   "cell_type": "markdown",
   "id": "41ca765b-01fa-4e47-856d-a68fa5bc8e02",
   "metadata": {
    "tags": []
   },
   "source": [
    "## CADD vs rarity\n",
    "Similar approach to phylop above,\n",
    "\n",
    "Cutoffs are \n",
    "- All\n",
    "- score≥10\n",
    "- score≥20\n",
    "- score≥30\n",
    "- score≥40\n",
    "- score≥50"
   ]
  },
  {
   "cell_type": "code",
   "execution_count": 13,
   "id": "ee94e665-9e46-4c8c-a515-6eeb66820784",
   "metadata": {
    "execution": {
     "iopub.execute_input": "2024-01-22T23:37:35.011759Z",
     "iopub.status.busy": "2024-01-22T23:37:35.011402Z",
     "iopub.status.idle": "2024-01-22T23:37:36.942866Z",
     "shell.execute_reply": "2024-01-22T23:37:36.942391Z",
     "shell.execute_reply.started": "2024-01-22T23:37:35.011744Z"
    },
    "tags": []
   },
   "outputs": [],
   "source": [
    "df_cadd_cutoff=df_cre.withColumn(\n",
    "    \"CADD>=10\",F.col(\"cadd_phred\")>=10\n",
    ").withColumn(\n",
    "    \"CADD>=20\",F.col(\"cadd_phred\")>=20\n",
    ").withColumn(\n",
    "    \"CADD>=30\",F.col(\"cadd_phred\")>=30\n",
    ").withColumn(\n",
    "    \"CADD>=40\",F.col(\"cadd_phred\")>=40\n",
    ").withColumn(\n",
    "    \"CADD>=50\",F.col(\"cadd_phred\")>=50\n",
    ")\n",
    "\n",
    "cadd_columns=[\"CADD>=10\",\"CADD>=20\",\"CADD>=30\",\"CADD>=40\",\"CADD>=50\"]\n",
    "\n",
    "with open(\"cadd_columns.pkl\",'wb') as file:\n",
    "    pickle.dump(cadd_columns,file)\n",
    "\n",
    "cadd_count_table = df_cadd_cutoff.groupBy([\"category\"]+cadd_columns+cre_bool_columns).count()\n"
   ]
  },
  {
   "cell_type": "code",
   "execution_count": 22,
   "id": "1f10bf90-55bb-4e1e-9c7b-446acbd97d53",
   "metadata": {
    "execution": {
     "iopub.execute_input": "2024-01-23T02:04:35.824822Z",
     "iopub.status.busy": "2024-01-23T02:04:35.824494Z",
     "iopub.status.idle": "2024-01-23T02:06:33.360645Z",
     "shell.execute_reply": "2024-01-23T02:06:33.359439Z",
     "shell.execute_reply.started": "2024-01-23T02:04:35.824803Z"
    },
    "tags": []
   },
   "outputs": [
    {
     "name": "stderr",
     "output_type": "stream",
     "text": [
      "ERROR:root:KeyboardInterrupt while sending command.         (1726 + 10) / 10743]\n",
      "Traceback (most recent call last):\n",
      "  File \"/home/mcn26/.conda/envs/mcn_vareff/lib/python3.10/site-packages/py4j/java_gateway.py\", line 1038, in send_command\n",
      "    response = connection.send_command(command)\n",
      "  File \"/home/mcn26/.conda/envs/mcn_vareff/lib/python3.10/site-packages/py4j/clientserver.py\", line 511, in send_command\n",
      "    answer = smart_decode(self.stream.readline()[:-1])\n",
      "  File \"/home/mcn26/.conda/envs/mcn_vareff/lib/python3.10/socket.py\", line 705, in readinto\n",
      "    return self._sock.recv_into(b)\n",
      "KeyboardInterrupt\n",
      "[Stage 15:========>                                         (1750 + 10) / 10743]\r"
     ]
    },
    {
     "ename": "KeyboardInterrupt",
     "evalue": "",
     "output_type": "error",
     "traceback": [
      "\u001b[0;31m---------------------------------------------------------------------------\u001b[0m",
      "\u001b[0;31mKeyboardInterrupt\u001b[0m                         Traceback (most recent call last)",
      "Cell \u001b[0;32mIn[22], line 2\u001b[0m\n\u001b[1;32m      1\u001b[0m \u001b[38;5;66;03m#ACTION\u001b[39;00m\n\u001b[0;32m----> 2\u001b[0m \u001b[43mcadd_count_table\u001b[49m\u001b[38;5;241;43m.\u001b[39;49m\u001b[43mcoalesce\u001b[49m\u001b[43m(\u001b[49m\u001b[38;5;241;43m1\u001b[39;49m\u001b[43m)\u001b[49m\u001b[38;5;241;43m.\u001b[39;49m\u001b[43mwrite\u001b[49m\u001b[38;5;241;43m.\u001b[39;49m\u001b[43mcsv\u001b[49m\u001b[43m(\u001b[49m\u001b[43mdata_base_path\u001b[49m\u001b[38;5;241;43m+\u001b[39;49m\u001b[38;5;124;43m\"\u001b[39;49m\u001b[38;5;124;43mCADD_count_table\u001b[39;49m\u001b[38;5;124;43m\"\u001b[39;49m\u001b[43m,\u001b[49m\u001b[43m \u001b[49m\u001b[43mmode\u001b[49m\u001b[38;5;241;43m=\u001b[39;49m\u001b[38;5;124;43m\"\u001b[39;49m\u001b[38;5;124;43moverwrite\u001b[39;49m\u001b[38;5;124;43m\"\u001b[39;49m\u001b[43m,\u001b[49m\u001b[43m \u001b[49m\u001b[43mheader\u001b[49m\u001b[38;5;241;43m=\u001b[39;49m\u001b[38;5;28;43;01mTrue\u001b[39;49;00m\u001b[43m)\u001b[49m\n",
      "File \u001b[0;32m~/.conda/envs/mcn_vareff/lib/python3.10/site-packages/pyspark/sql/readwriter.py:1864\u001b[0m, in \u001b[0;36mDataFrameWriter.csv\u001b[0;34m(self, path, mode, compression, sep, quote, escape, header, nullValue, escapeQuotes, quoteAll, dateFormat, timestampFormat, ignoreLeadingWhiteSpace, ignoreTrailingWhiteSpace, charToEscapeQuoteEscaping, encoding, emptyValue, lineSep)\u001b[0m\n\u001b[1;32m   1845\u001b[0m \u001b[38;5;28mself\u001b[39m\u001b[38;5;241m.\u001b[39mmode(mode)\n\u001b[1;32m   1846\u001b[0m \u001b[38;5;28mself\u001b[39m\u001b[38;5;241m.\u001b[39m_set_opts(\n\u001b[1;32m   1847\u001b[0m     compression\u001b[38;5;241m=\u001b[39mcompression,\n\u001b[1;32m   1848\u001b[0m     sep\u001b[38;5;241m=\u001b[39msep,\n\u001b[0;32m   (...)\u001b[0m\n\u001b[1;32m   1862\u001b[0m     lineSep\u001b[38;5;241m=\u001b[39mlineSep,\n\u001b[1;32m   1863\u001b[0m )\n\u001b[0;32m-> 1864\u001b[0m \u001b[38;5;28;43mself\u001b[39;49m\u001b[38;5;241;43m.\u001b[39;49m\u001b[43m_jwrite\u001b[49m\u001b[38;5;241;43m.\u001b[39;49m\u001b[43mcsv\u001b[49m\u001b[43m(\u001b[49m\u001b[43mpath\u001b[49m\u001b[43m)\u001b[49m\n",
      "File \u001b[0;32m~/.conda/envs/mcn_vareff/lib/python3.10/site-packages/py4j/java_gateway.py:1321\u001b[0m, in \u001b[0;36mJavaMember.__call__\u001b[0;34m(self, *args)\u001b[0m\n\u001b[1;32m   1314\u001b[0m args_command, temp_args \u001b[38;5;241m=\u001b[39m \u001b[38;5;28mself\u001b[39m\u001b[38;5;241m.\u001b[39m_build_args(\u001b[38;5;241m*\u001b[39margs)\n\u001b[1;32m   1316\u001b[0m command \u001b[38;5;241m=\u001b[39m proto\u001b[38;5;241m.\u001b[39mCALL_COMMAND_NAME \u001b[38;5;241m+\u001b[39m\\\n\u001b[1;32m   1317\u001b[0m     \u001b[38;5;28mself\u001b[39m\u001b[38;5;241m.\u001b[39mcommand_header \u001b[38;5;241m+\u001b[39m\\\n\u001b[1;32m   1318\u001b[0m     args_command \u001b[38;5;241m+\u001b[39m\\\n\u001b[1;32m   1319\u001b[0m     proto\u001b[38;5;241m.\u001b[39mEND_COMMAND_PART\n\u001b[0;32m-> 1321\u001b[0m answer \u001b[38;5;241m=\u001b[39m \u001b[38;5;28;43mself\u001b[39;49m\u001b[38;5;241;43m.\u001b[39;49m\u001b[43mgateway_client\u001b[49m\u001b[38;5;241;43m.\u001b[39;49m\u001b[43msend_command\u001b[49m\u001b[43m(\u001b[49m\u001b[43mcommand\u001b[49m\u001b[43m)\u001b[49m\n\u001b[1;32m   1322\u001b[0m return_value \u001b[38;5;241m=\u001b[39m get_return_value(\n\u001b[1;32m   1323\u001b[0m     answer, \u001b[38;5;28mself\u001b[39m\u001b[38;5;241m.\u001b[39mgateway_client, \u001b[38;5;28mself\u001b[39m\u001b[38;5;241m.\u001b[39mtarget_id, \u001b[38;5;28mself\u001b[39m\u001b[38;5;241m.\u001b[39mname)\n\u001b[1;32m   1325\u001b[0m \u001b[38;5;28;01mfor\u001b[39;00m temp_arg \u001b[38;5;129;01min\u001b[39;00m temp_args:\n",
      "File \u001b[0;32m~/.conda/envs/mcn_vareff/lib/python3.10/site-packages/py4j/java_gateway.py:1038\u001b[0m, in \u001b[0;36mGatewayClient.send_command\u001b[0;34m(self, command, retry, binary)\u001b[0m\n\u001b[1;32m   1036\u001b[0m connection \u001b[38;5;241m=\u001b[39m \u001b[38;5;28mself\u001b[39m\u001b[38;5;241m.\u001b[39m_get_connection()\n\u001b[1;32m   1037\u001b[0m \u001b[38;5;28;01mtry\u001b[39;00m:\n\u001b[0;32m-> 1038\u001b[0m     response \u001b[38;5;241m=\u001b[39m \u001b[43mconnection\u001b[49m\u001b[38;5;241;43m.\u001b[39;49m\u001b[43msend_command\u001b[49m\u001b[43m(\u001b[49m\u001b[43mcommand\u001b[49m\u001b[43m)\u001b[49m\n\u001b[1;32m   1039\u001b[0m     \u001b[38;5;28;01mif\u001b[39;00m binary:\n\u001b[1;32m   1040\u001b[0m         \u001b[38;5;28;01mreturn\u001b[39;00m response, \u001b[38;5;28mself\u001b[39m\u001b[38;5;241m.\u001b[39m_create_connection_guard(connection)\n",
      "File \u001b[0;32m~/.conda/envs/mcn_vareff/lib/python3.10/site-packages/py4j/clientserver.py:511\u001b[0m, in \u001b[0;36mClientServerConnection.send_command\u001b[0;34m(self, command)\u001b[0m\n\u001b[1;32m    509\u001b[0m \u001b[38;5;28;01mtry\u001b[39;00m:\n\u001b[1;32m    510\u001b[0m     \u001b[38;5;28;01mwhile\u001b[39;00m \u001b[38;5;28;01mTrue\u001b[39;00m:\n\u001b[0;32m--> 511\u001b[0m         answer \u001b[38;5;241m=\u001b[39m smart_decode(\u001b[38;5;28;43mself\u001b[39;49m\u001b[38;5;241;43m.\u001b[39;49m\u001b[43mstream\u001b[49m\u001b[38;5;241;43m.\u001b[39;49m\u001b[43mreadline\u001b[49m\u001b[43m(\u001b[49m\u001b[43m)\u001b[49m[:\u001b[38;5;241m-\u001b[39m\u001b[38;5;241m1\u001b[39m])\n\u001b[1;32m    512\u001b[0m         logger\u001b[38;5;241m.\u001b[39mdebug(\u001b[38;5;124m\"\u001b[39m\u001b[38;5;124mAnswer received: \u001b[39m\u001b[38;5;132;01m{0}\u001b[39;00m\u001b[38;5;124m\"\u001b[39m\u001b[38;5;241m.\u001b[39mformat(answer))\n\u001b[1;32m    513\u001b[0m         \u001b[38;5;66;03m# Happens when a the other end is dead. There might be an empty\u001b[39;00m\n\u001b[1;32m    514\u001b[0m         \u001b[38;5;66;03m# answer before the socket raises an error.\u001b[39;00m\n",
      "File \u001b[0;32m~/.conda/envs/mcn_vareff/lib/python3.10/socket.py:705\u001b[0m, in \u001b[0;36mSocketIO.readinto\u001b[0;34m(self, b)\u001b[0m\n\u001b[1;32m    703\u001b[0m \u001b[38;5;28;01mwhile\u001b[39;00m \u001b[38;5;28;01mTrue\u001b[39;00m:\n\u001b[1;32m    704\u001b[0m     \u001b[38;5;28;01mtry\u001b[39;00m:\n\u001b[0;32m--> 705\u001b[0m         \u001b[38;5;28;01mreturn\u001b[39;00m \u001b[38;5;28;43mself\u001b[39;49m\u001b[38;5;241;43m.\u001b[39;49m\u001b[43m_sock\u001b[49m\u001b[38;5;241;43m.\u001b[39;49m\u001b[43mrecv_into\u001b[49m\u001b[43m(\u001b[49m\u001b[43mb\u001b[49m\u001b[43m)\u001b[49m\n\u001b[1;32m    706\u001b[0m     \u001b[38;5;28;01mexcept\u001b[39;00m timeout:\n\u001b[1;32m    707\u001b[0m         \u001b[38;5;28mself\u001b[39m\u001b[38;5;241m.\u001b[39m_timeout_occurred \u001b[38;5;241m=\u001b[39m \u001b[38;5;28;01mTrue\u001b[39;00m\n",
      "\u001b[0;31mKeyboardInterrupt\u001b[0m: "
     ]
    },
    {
     "name": "stderr",
     "output_type": "stream",
     "text": [
      "[Stage 15:=========>                                        (1955 + 10) / 10743]\r"
     ]
    }
   ],
   "source": [
    "#ACTION\n",
    "cadd_count_table.coalesce(1).write.csv(data_base_path+\"CADD_count_table\", mode=\"overwrite\", header=True)"
   ]
  },
  {
   "cell_type": "markdown",
   "id": "da6badf2-6bdc-4e22-8f46-5c2bd5c2796c",
   "metadata": {},
   "source": [
    "## CADD VS pleiotropy"
   ]
  },
  {
   "cell_type": "code",
   "execution_count": null,
   "id": "7b72baf1-7dc2-47a4-b543-8f932b49ffd2",
   "metadata": {
    "tags": []
   },
   "outputs": [],
   "source": [
    "cadd_pleio_table = df_cadd_cutoff.groupBy([\"pleio\"]+cadd_columns+cre_bool_columns).count()"
   ]
  },
  {
   "cell_type": "code",
   "execution_count": null,
   "id": "1fe748d6-07aa-4af0-b93d-673380eb09df",
   "metadata": {
    "tags": []
   },
   "outputs": [],
   "source": [
    "#ACTION\n",
    "cadd_pleio_table.coalesce(1).write.csv(data_base_path+\"CADD_pleio\", mode=\"overwrite\", header=True)"
   ]
  },
  {
   "cell_type": "markdown",
   "id": "4366ea82-a106-4a74-8d90-f99c58c25a1c",
   "metadata": {},
   "source": [
    "## malinouis : reference activity & skew vs rarity\n"
   ]
  },
  {
   "cell_type": "code",
   "execution_count": 9,
   "id": "fd4da7b3-7517-4dc2-b9b9-f66babb8dd02",
   "metadata": {
    "execution": {
     "iopub.execute_input": "2024-01-23T03:05:01.968793Z",
     "iopub.status.busy": "2024-01-23T03:05:01.968496Z",
     "iopub.status.idle": "2024-01-23T03:05:01.986837Z",
     "shell.execute_reply": "2024-01-23T03:05:01.986401Z",
     "shell.execute_reply.started": "2024-01-23T03:05:01.968776Z"
    },
    "tags": []
   },
   "outputs": [],
   "source": [
    "## add a mean_alt column\n",
    "df_cre=df_cre.withColumn(\"mean_alt\", (F.col(\"K562__alt\") + F.col(\"HepG2__alt\") + F.col(\"SKNSH__alt\")) / 3)"
   ]
  },
  {
   "cell_type": "markdown",
   "id": "ad6a4839-f5e1-4d9c-9c5b-c6a89dea4fbd",
   "metadata": {},
   "source": [
    "### helper functions"
   ]
  },
  {
   "cell_type": "code",
   "execution_count": 10,
   "id": "d6b4a270-6ed5-4469-b4b7-85e414d3375a",
   "metadata": {
    "execution": {
     "iopub.execute_input": "2024-01-23T03:05:05.351108Z",
     "iopub.status.busy": "2024-01-23T03:05:05.350832Z",
     "iopub.status.idle": "2024-01-23T03:05:05.355574Z",
     "shell.execute_reply": "2024-01-23T03:05:05.355130Z",
     "shell.execute_reply.started": "2024-01-23T03:05:05.351091Z"
    },
    "tags": []
   },
   "outputs": [],
   "source": [
    "def get_column_names(var):\n",
    "    final_names=[]\n",
    "    for sub in var:\n",
    "        final_names.append(sub[0])\n",
    "    return final_names\n",
    "\n",
    "def dump_cutoff_names_to_disc(var,name):\n",
    "    #so we don't have to hard-code the names in multiple files. \n",
    "    with open(name+'.pkl', 'wb') as file:\n",
    "        final_names=get_column_names(var)\n",
    "        pickle.dump(final_names, file)\n",
    "\n",
    "#(-Inf,1), [1,2), [2,4), [4,6), [6,Inf) (note first bin we would call as not active)\n",
    "def make_cutoff(name):\n",
    "    return [\n",
    "        [f\"{name}_(-Inf,-6)\", (F.col(name) < -6)]\n",
    "    ] + [\n",
    "        [f\"{name}_[{i},{i+1})\", (F.col(name) >= i) & (F.col(name) < i+1)] for i in range(-6, 6)\n",
    "    ] + [\n",
    "        [f\"{name}_[6,Inf)\", (F.col(name) >= 6)]\n",
    "    ]\n",
    "\n",
    "def apply_cutoffs(df,cutoffs):\n",
    "    df_working=df\n",
    "    for name,cutoff_condition in cutoffs:\n",
    "        df_working=df_working.withColumn(name,cutoff_condition)\n",
    "    return df_working"
   ]
  },
  {
   "cell_type": "code",
   "execution_count": 11,
   "id": "2a9d5de4-a80c-492d-ac34-8d0c8dd73385",
   "metadata": {
    "execution": {
     "iopub.execute_input": "2024-01-23T03:05:17.926520Z",
     "iopub.status.busy": "2024-01-23T03:05:17.926241Z",
     "iopub.status.idle": "2024-01-23T03:05:17.949690Z",
     "shell.execute_reply": "2024-01-23T03:05:17.949279Z",
     "shell.execute_reply.started": "2024-01-23T03:05:17.926502Z"
    },
    "tags": []
   },
   "outputs": [
    {
     "data": {
      "text/plain": [
       "[['test_(-Inf,-6)', Column<'(test < -6)'>],\n",
       " ['test_[-6,-5)', Column<'((test >= -6) AND (test < -5))'>],\n",
       " ['test_[-5,-4)', Column<'((test >= -5) AND (test < -4))'>],\n",
       " ['test_[-4,-3)', Column<'((test >= -4) AND (test < -3))'>],\n",
       " ['test_[-3,-2)', Column<'((test >= -3) AND (test < -2))'>],\n",
       " ['test_[-2,-1)', Column<'((test >= -2) AND (test < -1))'>],\n",
       " ['test_[-1,0)', Column<'((test >= -1) AND (test < 0))'>],\n",
       " ['test_[0,1)', Column<'((test >= 0) AND (test < 1))'>],\n",
       " ['test_[1,2)', Column<'((test >= 1) AND (test < 2))'>],\n",
       " ['test_[2,3)', Column<'((test >= 2) AND (test < 3))'>],\n",
       " ['test_[3,4)', Column<'((test >= 3) AND (test < 4))'>],\n",
       " ['test_[4,5)', Column<'((test >= 4) AND (test < 5))'>],\n",
       " ['test_[5,6)', Column<'((test >= 5) AND (test < 6))'>],\n",
       " ['test_[6,Inf)', Column<'(test >= 6)'>]]"
      ]
     },
     "execution_count": 11,
     "metadata": {},
     "output_type": "execute_result"
    }
   ],
   "source": [
    "make_cutoff(\"test\")"
   ]
  },
  {
   "cell_type": "code",
   "execution_count": 33,
   "id": "e7f845cf-1532-4517-9681-ebc60da5964f",
   "metadata": {
    "execution": {
     "iopub.execute_input": "2024-01-23T04:14:07.463296Z",
     "iopub.status.busy": "2024-01-23T04:14:07.462799Z",
     "iopub.status.idle": "2024-01-23T04:14:07.489295Z",
     "shell.execute_reply": "2024-01-23T04:14:07.488881Z",
     "shell.execute_reply.started": "2024-01-23T04:14:07.463278Z"
    },
    "tags": []
   },
   "outputs": [],
   "source": [
    "\n",
    "\n",
    "start_int = -9   # Now corresponds to -4.5 (represented as -9 * 0.5)\n",
    "end_int = 9      # Now corresponds to 4.5 (represented as 9 * 0.5)\n",
    "step_int = 1     # Step of 0.5 (represented as 1 * 0.5)\n",
    "\n",
    "skew_cutoffs = [\n",
    "    [\"mean_skew_(-Inf, -4.0)\", (F.col(\"mean_skew\") < -4.0)]\n",
    "    if i == start_int\n",
    "    else [\"mean_skew_(4.0, Inf)\", (F.col(\"mean_skew\") >= 4.0)]\n",
    "    if i == end_int - step_int\n",
    "    else [f\"mean_skew_[{i * 0.5:.1f}, {(i + step_int) * 0.5:.1f})\", (F.col(\"mean_skew\") >= i * 0.5) & (F.col(\"mean_skew\") < (i + step_int) * 0.5)]\n",
    "    for i in range(start_int, end_int, step_int)\n",
    "]\n",
    "\n",
    "dump_cutoff_names_to_disc(skew_cutoffs,\"skew_cutoffs\")"
   ]
  },
  {
   "cell_type": "code",
   "execution_count": 23,
   "id": "ce26244d-dfab-43b3-bf75-f459a0254a98",
   "metadata": {
    "execution": {
     "iopub.execute_input": "2024-01-23T03:14:49.135396Z",
     "iopub.status.busy": "2024-01-23T03:14:49.134935Z",
     "iopub.status.idle": "2024-01-23T03:14:49.138749Z",
     "shell.execute_reply": "2024-01-23T03:14:49.138374Z",
     "shell.execute_reply.started": "2024-01-23T03:14:49.135379Z"
    },
    "tags": []
   },
   "outputs": [
    {
     "name": "stdout",
     "output_type": "stream",
     "text": [
      "['mean_skew_(-Inf, -4.0)', Column<'(mean_skew < -4.0)'>]\n",
      "['mean_skew_[-4.0, -3.5)', Column<'((mean_skew >= -4.0) AND (mean_skew < -3.5))'>]\n",
      "['mean_skew_[-3.5, -3.0)', Column<'((mean_skew >= -3.5) AND (mean_skew < -3.0))'>]\n",
      "['mean_skew_[-3.0, -2.5)', Column<'((mean_skew >= -3.0) AND (mean_skew < -2.5))'>]\n",
      "['mean_skew_[-2.5, -2.0)', Column<'((mean_skew >= -2.5) AND (mean_skew < -2.0))'>]\n",
      "['mean_skew_[-2.0, -1.5)', Column<'((mean_skew >= -2.0) AND (mean_skew < -1.5))'>]\n",
      "['mean_skew_[-1.5, -1.0)', Column<'((mean_skew >= -1.5) AND (mean_skew < -1.0))'>]\n",
      "['mean_skew_[-1.0, -0.5)', Column<'((mean_skew >= -1.0) AND (mean_skew < -0.5))'>]\n",
      "['mean_skew_[-0.5, 0.0)', Column<'((mean_skew >= -0.5) AND (mean_skew < 0.0))'>]\n",
      "['mean_skew_[0.0, 0.5)', Column<'((mean_skew >= 0.0) AND (mean_skew < 0.5))'>]\n",
      "['mean_skew_[0.5, 1.0)', Column<'((mean_skew >= 0.5) AND (mean_skew < 1.0))'>]\n",
      "['mean_skew_[1.0, 1.5)', Column<'((mean_skew >= 1.0) AND (mean_skew < 1.5))'>]\n",
      "['mean_skew_[1.5, 2.0)', Column<'((mean_skew >= 1.5) AND (mean_skew < 2.0))'>]\n",
      "['mean_skew_[2.0, 2.5)', Column<'((mean_skew >= 2.0) AND (mean_skew < 2.5))'>]\n",
      "['mean_skew_[2.5, 3.0)', Column<'((mean_skew >= 2.5) AND (mean_skew < 3.0))'>]\n",
      "['mean_skew_[3.0, 3.5)', Column<'((mean_skew >= 3.0) AND (mean_skew < 3.5))'>]\n",
      "['mean_skew_[3.5, 4.0)', Column<'((mean_skew >= 3.5) AND (mean_skew < 4.0))'>]\n",
      "['mean_skew_(4.0, Inf)', Column<'(mean_skew >= 4.0)'>]\n"
     ]
    }
   ],
   "source": [
    "for i in skew_cutoffs:\n",
    "    print(i)"
   ]
  },
  {
   "cell_type": "code",
   "execution_count": 24,
   "id": "68a0602c-87ab-40d2-93c6-944f70ab66dd",
   "metadata": {
    "execution": {
     "iopub.execute_input": "2024-01-23T03:15:37.282089Z",
     "iopub.status.busy": "2024-01-23T03:15:37.281614Z",
     "iopub.status.idle": "2024-01-23T03:15:37.309408Z",
     "shell.execute_reply": "2024-01-23T03:15:37.308989Z",
     "shell.execute_reply.started": "2024-01-23T03:15:37.282071Z"
    },
    "tags": []
   },
   "outputs": [],
   "source": [
    "mean_ref_cutoffs=make_cutoff(\"mean_ref\")\n",
    "dump_cutoff_names_to_disc(mean_ref_cutoffs,\"mean_ref_cutoffs\")\n",
    "\n",
    "mean_alt_cutoffs=make_cutoff(\"mean_alt\")\n",
    "dump_cutoff_names_to_disc(mean_alt_cutoffs,\"mean_alt_cutoffs\")"
   ]
  },
  {
   "cell_type": "code",
   "execution_count": 12,
   "id": "a55698c2-4d3c-4cdf-9b0b-94905d97c8c0",
   "metadata": {
    "execution": {
     "iopub.execute_input": "2024-01-23T02:11:02.192237Z",
     "iopub.status.busy": "2024-01-23T02:11:02.191963Z",
     "iopub.status.idle": "2024-01-23T02:11:02.194324Z",
     "shell.execute_reply": "2024-01-23T02:11:02.193982Z",
     "shell.execute_reply.started": "2024-01-23T02:11:02.192219Z"
    },
    "tags": []
   },
   "outputs": [],
   "source": [
    "##df_cre = df_cre.withColumn(\"mean_skew\", F.round(df[\"mean_skew\"], 2))"
   ]
  },
  {
   "cell_type": "code",
   "execution_count": 25,
   "id": "e409a9d6-cd27-43eb-8059-100e22190b67",
   "metadata": {
    "execution": {
     "iopub.execute_input": "2024-01-23T03:15:39.599520Z",
     "iopub.status.busy": "2024-01-23T03:15:39.599066Z",
     "iopub.status.idle": "2024-01-23T03:15:40.413829Z",
     "shell.execute_reply": "2024-01-23T03:15:40.413385Z",
     "shell.execute_reply.started": "2024-01-23T03:15:39.599502Z"
    },
    "tags": []
   },
   "outputs": [],
   "source": [
    "df_cre=apply_cutoffs(df_cre,skew_cutoffs)\n",
    "df_cre=apply_cutoffs(df_cre,mean_alt_cutoffs)\n",
    "df_cre=apply_cutoffs(df_cre,mean_ref_cutoffs)"
   ]
  },
  {
   "cell_type": "code",
   "execution_count": 26,
   "id": "24333c82-8ac7-4b80-8569-a323b1446aa7",
   "metadata": {
    "execution": {
     "iopub.execute_input": "2024-01-23T03:15:43.682432Z",
     "iopub.status.busy": "2024-01-23T03:15:43.681953Z",
     "iopub.status.idle": "2024-01-23T03:15:43.684514Z",
     "shell.execute_reply": "2024-01-23T03:15:43.684140Z",
     "shell.execute_reply.started": "2024-01-23T03:15:43.682415Z"
    },
    "tags": []
   },
   "outputs": [],
   "source": [
    "df_cre_backup=df_cre"
   ]
  },
  {
   "cell_type": "code",
   "execution_count": 27,
   "id": "b7ddae81-b715-471a-804b-eea7537cdf28",
   "metadata": {
    "execution": {
     "iopub.execute_input": "2024-01-23T03:15:45.081084Z",
     "iopub.status.busy": "2024-01-23T03:15:45.080810Z",
     "iopub.status.idle": "2024-01-23T03:15:45.087411Z",
     "shell.execute_reply": "2024-01-23T03:15:45.087059Z",
     "shell.execute_reply.started": "2024-01-23T03:15:45.081068Z"
    },
    "tags": []
   },
   "outputs": [
    {
     "data": {
      "text/plain": [
       "DataFrame[CHROM: string, POS: int, ID: string, REF: string, ALT: string, QUAL: string, FILTER: string, INFO: string, K562__ref: float, HepG2__ref: float, SKNSH__ref: float, K562__alt: float, HepG2__alt: float, SKNSH__alt: float, K562__skew: float, HepG2__skew: float, SKNSH__skew: float, AC: int, AN: int, AF: float, cadd_phred: float, is_in_dELS: boolean, is_in_CA: boolean, is_in_pELS: boolean, is_in_CA-H3K4me3: boolean, is_in_CA-CTCF: boolean, is_in_PLS: boolean, is_in_TF: boolean, is_in_CA-TF: boolean, P_ANNO: float, mean_ref: float, mean_skew: float, MAF: float, category: string, emVar_K562: boolean, emVar_SKNSH: boolean, emVar_HepG2: boolean, pleio: int, mean_alt: double, mean_skew_(-Inf, -4.0): boolean, mean_skew_[-4.0, -3.5): boolean, mean_skew_[-3.5, -3.0): boolean, mean_skew_[-3.0, -2.5): boolean, mean_skew_[-2.5, -2.0): boolean, mean_skew_[-2.0, -1.5): boolean, mean_skew_[-1.5, -1.0): boolean, mean_skew_[-1.0, -0.5): boolean, mean_skew_[-0.5, 0.0): boolean, mean_skew_[0.0, 0.5): boolean, mean_skew_[0.5, 1.0): boolean, mean_skew_[1.0, 1.5): boolean, mean_skew_[1.5, 2.0): boolean, mean_skew_[2.0, 2.5): boolean, mean_skew_[2.5, 3.0): boolean, mean_skew_[3.0, 3.5): boolean, mean_skew_[3.5, 4.0): boolean, mean_skew_(4.0, Inf): boolean, mean_alt_(-Inf,-6): boolean, mean_alt_[-6,-5): boolean, mean_alt_[-5,-4): boolean, mean_alt_[-4,-3): boolean, mean_alt_[-3,-2): boolean, mean_alt_[-2,-1): boolean, mean_alt_[-1,0): boolean, mean_alt_[0,1): boolean, mean_alt_[1,2): boolean, mean_alt_[2,3): boolean, mean_alt_[3,4): boolean, mean_alt_[4,5): boolean, mean_alt_[5,6): boolean, mean_alt_[6,Inf): boolean, mean_ref_(-Inf,-6): boolean, mean_ref_[-6,-5): boolean, mean_ref_[-5,-4): boolean, mean_ref_[-4,-3): boolean, mean_ref_[-3,-2): boolean, mean_ref_[-2,-1): boolean, mean_ref_[-1,0): boolean, mean_ref_[0,1): boolean, mean_ref_[1,2): boolean, mean_ref_[2,3): boolean, mean_ref_[3,4): boolean, mean_ref_[4,5): boolean, mean_ref_[5,6): boolean, mean_ref_[6,Inf): boolean]"
      ]
     },
     "execution_count": 27,
     "metadata": {},
     "output_type": "execute_result"
    }
   ],
   "source": [
    "df_cre"
   ]
  },
  {
   "cell_type": "code",
   "execution_count": 28,
   "id": "e3e25e79-3263-467a-a167-8f1bd7ad6a27",
   "metadata": {
    "execution": {
     "iopub.execute_input": "2024-01-23T03:15:46.579137Z",
     "iopub.status.busy": "2024-01-23T03:15:46.578864Z",
     "iopub.status.idle": "2024-01-23T03:15:46.581531Z",
     "shell.execute_reply": "2024-01-23T03:15:46.581159Z",
     "shell.execute_reply.started": "2024-01-23T03:15:46.579120Z"
    },
    "tags": []
   },
   "outputs": [],
   "source": [
    "to_group_by=[\"category\"]+cre_bool_columns+get_column_names(skew_cutoffs)+get_column_names(mean_ref_cutoffs)+get_column_names(mean_alt_cutoffs)"
   ]
  },
  {
   "cell_type": "code",
   "execution_count": 29,
   "id": "184ed900-7325-4072-b1c3-559e4ebc857c",
   "metadata": {
    "execution": {
     "iopub.execute_input": "2024-01-23T03:15:49.092357Z",
     "iopub.status.busy": "2024-01-23T03:15:49.092001Z",
     "iopub.status.idle": "2024-01-23T03:15:49.969110Z",
     "shell.execute_reply": "2024-01-23T03:15:49.968681Z",
     "shell.execute_reply.started": "2024-01-23T03:15:49.092341Z"
    },
    "tags": []
   },
   "outputs": [],
   "source": [
    "#some of the column names have commas, which can cause a problem. Let's replace them with underscores.\n",
    "renamed_column_map = {col: col.replace(',', '^').replace('.','&') for col in to_group_by}\n",
    "\n",
    "for old_name, new_name in renamed_column_map.items():\n",
    "    df_cre = df_cre.withColumnRenamed(old_name, new_name)"
   ]
  },
  {
   "cell_type": "code",
   "execution_count": 30,
   "id": "90bd76e2-7ac3-4338-b79e-6a87d8342daa",
   "metadata": {
    "execution": {
     "iopub.execute_input": "2024-01-23T03:15:50.221080Z",
     "iopub.status.busy": "2024-01-23T03:15:50.220828Z",
     "iopub.status.idle": "2024-01-23T03:15:50.293752Z",
     "shell.execute_reply": "2024-01-23T03:15:50.293281Z",
     "shell.execute_reply.started": "2024-01-23T03:15:50.221065Z"
    },
    "tags": []
   },
   "outputs": [],
   "source": [
    "skew_and_activity_table = df_cre.groupBy(list(renamed_column_map.values())).count()"
   ]
  },
  {
   "cell_type": "code",
   "execution_count": 31,
   "id": "6a85aa43-0ba5-44cf-ae5c-7cd812740673",
   "metadata": {
    "execution": {
     "iopub.execute_input": "2024-01-23T03:15:51.623822Z",
     "iopub.status.busy": "2024-01-23T03:15:51.623549Z",
     "iopub.status.idle": "2024-01-23T03:15:51.628331Z",
     "shell.execute_reply": "2024-01-23T03:15:51.627983Z",
     "shell.execute_reply.started": "2024-01-23T03:15:51.623805Z"
    },
    "tags": []
   },
   "outputs": [
    {
     "data": {
      "text/plain": [
       "DataFrame[category: string, is_in_dELS: boolean, is_in_CA: boolean, is_in_pELS: boolean, is_in_CA-H3K4me3: boolean, is_in_CA-CTCF: boolean, is_in_PLS: boolean, is_in_TF: boolean, is_in_CA-TF: boolean, mean_skew_(-Inf^ -4&0): boolean, mean_skew_[-4&0^ -3&5): boolean, mean_skew_[-3&5^ -3&0): boolean, mean_skew_[-3&0^ -2&5): boolean, mean_skew_[-2&5^ -2&0): boolean, mean_skew_[-2&0^ -1&5): boolean, mean_skew_[-1&5^ -1&0): boolean, mean_skew_[-1&0^ -0&5): boolean, mean_skew_[-0&5^ 0&0): boolean, mean_skew_[0&0^ 0&5): boolean, mean_skew_[0&5^ 1&0): boolean, mean_skew_[1&0^ 1&5): boolean, mean_skew_[1&5^ 2&0): boolean, mean_skew_[2&0^ 2&5): boolean, mean_skew_[2&5^ 3&0): boolean, mean_skew_[3&0^ 3&5): boolean, mean_skew_[3&5^ 4&0): boolean, mean_skew_(4&0^ Inf): boolean, mean_ref_(-Inf^-6): boolean, mean_ref_[-6^-5): boolean, mean_ref_[-5^-4): boolean, mean_ref_[-4^-3): boolean, mean_ref_[-3^-2): boolean, mean_ref_[-2^-1): boolean, mean_ref_[-1^0): boolean, mean_ref_[0^1): boolean, mean_ref_[1^2): boolean, mean_ref_[2^3): boolean, mean_ref_[3^4): boolean, mean_ref_[4^5): boolean, mean_ref_[5^6): boolean, mean_ref_[6^Inf): boolean, mean_alt_(-Inf^-6): boolean, mean_alt_[-6^-5): boolean, mean_alt_[-5^-4): boolean, mean_alt_[-4^-3): boolean, mean_alt_[-3^-2): boolean, mean_alt_[-2^-1): boolean, mean_alt_[-1^0): boolean, mean_alt_[0^1): boolean, mean_alt_[1^2): boolean, mean_alt_[2^3): boolean, mean_alt_[3^4): boolean, mean_alt_[4^5): boolean, mean_alt_[5^6): boolean, mean_alt_[6^Inf): boolean, count: bigint]"
      ]
     },
     "execution_count": 31,
     "metadata": {},
     "output_type": "execute_result"
    }
   ],
   "source": [
    "skew_and_activity_table"
   ]
  },
  {
   "cell_type": "code",
   "execution_count": 32,
   "id": "7d0b69bf-9387-4883-b3e1-e51db7a63d3e",
   "metadata": {
    "execution": {
     "iopub.execute_input": "2024-01-23T03:15:54.362076Z",
     "iopub.status.busy": "2024-01-23T03:15:54.361793Z",
     "iopub.status.idle": "2024-01-23T03:32:47.708071Z",
     "shell.execute_reply": "2024-01-23T03:32:47.707465Z",
     "shell.execute_reply.started": "2024-01-23T03:15:54.362059Z"
    },
    "tags": []
   },
   "outputs": [
    {
     "name": "stderr",
     "output_type": "stream",
     "text": [
      "24/01/22 22:15:54 WARN SparkStringUtils: Truncated the string representation of a plan since it was too large. This behavior can be adjusted by setting 'spark.sql.debug.maxToStringFields'.\n",
      "                                                                                \r"
     ]
    }
   ],
   "source": [
    "skew_and_activity_table.coalesce(1).write.csv(data_base_path+\"malinouis_skew_and_thresh\", mode=\"overwrite\", header=True)"
   ]
  },
  {
   "cell_type": "code",
   "execution_count": 48,
   "id": "faa0fcaa-c3f5-43f9-bce3-18aa6dcb01ed",
   "metadata": {
    "execution": {
     "iopub.execute_input": "2023-12-21T01:11:10.678808Z",
     "iopub.status.busy": "2023-12-21T01:11:10.678441Z",
     "iopub.status.idle": "2023-12-21T01:12:59.318718Z",
     "shell.execute_reply": "2023-12-21T01:12:59.318045Z",
     "shell.execute_reply.started": "2023-12-21T01:11:10.678777Z"
    },
    "tags": []
   },
   "outputs": [
    {
     "name": "stderr",
     "output_type": "stream",
     "text": [
      "                                                                                \r"
     ]
    }
   ],
   "source": [
    "from pyspark.sql.functions import col\n",
    "from functools import reduce\n",
    "from operator import or_\n",
    "\n",
    "condition = reduce(or_, [col(c).isNull() for c in df_cre.columns])\n",
    "\n",
    "# Applying the filter\n",
    "null_rows = df_cre.filter(condition)\n",
    "z=null_rows.toPandas()\n",
    "\n",
    "#df_cre[\"mean_skew_[-1&5^ -1)\"]"
   ]
  },
  {
   "cell_type": "code",
   "execution_count": 49,
   "id": "d52ebfe4-ad56-4fc5-8bea-f10cba11235b",
   "metadata": {
    "execution": {
     "iopub.execute_input": "2023-12-21T01:12:59.320175Z",
     "iopub.status.busy": "2023-12-21T01:12:59.319929Z",
     "iopub.status.idle": "2023-12-21T01:12:59.336018Z",
     "shell.execute_reply": "2023-12-21T01:12:59.335401Z",
     "shell.execute_reply.started": "2023-12-21T01:12:59.320151Z"
    },
    "tags": []
   },
   "outputs": [
    {
     "data": {
      "text/html": [
       "<div>\n",
       "<style scoped>\n",
       "    .dataframe tbody tr th:only-of-type {\n",
       "        vertical-align: middle;\n",
       "    }\n",
       "\n",
       "    .dataframe tbody tr th {\n",
       "        vertical-align: top;\n",
       "    }\n",
       "\n",
       "    .dataframe thead th {\n",
       "        text-align: right;\n",
       "    }\n",
       "</style>\n",
       "<table border=\"1\" class=\"dataframe\">\n",
       "  <thead>\n",
       "    <tr style=\"text-align: right;\">\n",
       "      <th></th>\n",
       "      <th>CHROM</th>\n",
       "      <th>POS</th>\n",
       "      <th>ID</th>\n",
       "      <th>REF</th>\n",
       "      <th>ALT</th>\n",
       "      <th>QUAL</th>\n",
       "      <th>FILTER</th>\n",
       "      <th>INFO</th>\n",
       "      <th>K562__ref</th>\n",
       "      <th>HepG2__ref</th>\n",
       "      <th>SKNSH__ref</th>\n",
       "      <th>K562__alt</th>\n",
       "      <th>HepG2__alt</th>\n",
       "      <th>SKNSH__alt</th>\n",
       "      <th>K562__skew</th>\n",
       "      <th>HepG2__skew</th>\n",
       "      <th>SKNSH__skew</th>\n",
       "      <th>AC</th>\n",
       "      <th>AN</th>\n",
       "      <th>AF</th>\n",
       "      <th>cadd_phred</th>\n",
       "      <th>is_in_dELS</th>\n",
       "      <th>is_in_CA</th>\n",
       "      <th>is_in_pELS</th>\n",
       "      <th>is_in_CA-H3K4me3</th>\n",
       "      <th>is_in_CA-CTCF</th>\n",
       "      <th>is_in_PLS</th>\n",
       "      <th>is_in_TF</th>\n",
       "      <th>is_in_CA-TF</th>\n",
       "      <th>P_ANNO</th>\n",
       "      <th>mean_ref</th>\n",
       "      <th>mean_skew</th>\n",
       "      <th>MAF</th>\n",
       "      <th>category</th>\n",
       "      <th>mean_alt</th>\n",
       "      <th>mean_skew_(-Inf^ -1&amp;4)</th>\n",
       "      <th>mean_skew_[-1&amp;20^ -1&amp;00)</th>\n",
       "      <th>mean_skew_[-1&amp;00^ -0&amp;80)</th>\n",
       "      <th>mean_skew_[-0&amp;80^ -0&amp;60)</th>\n",
       "      <th>mean_skew_[-0&amp;60^ -0&amp;40)</th>\n",
       "      <th>mean_skew_[-0&amp;40^ -0&amp;20)</th>\n",
       "      <th>mean_skew_[-0&amp;20^ 0&amp;00)</th>\n",
       "      <th>mean_skew_[0&amp;00^ 0&amp;20)</th>\n",
       "      <th>mean_skew_[0&amp;20^ 0&amp;40)</th>\n",
       "      <th>mean_skew_[0&amp;40^ 0&amp;60)</th>\n",
       "      <th>mean_skew_[0&amp;60^ 0&amp;80)</th>\n",
       "      <th>mean_skew_[0&amp;80^ 1&amp;00)</th>\n",
       "      <th>mean_skew_[1&amp;00^ 1&amp;20)</th>\n",
       "      <th>mean_skew_[1&amp;20^ 1&amp;40)</th>\n",
       "      <th>mean_skew_(1&amp;4^ Inf)</th>\n",
       "      <th>mean_alt_(-Inf^1)</th>\n",
       "      <th>mean_alt_[1^2)</th>\n",
       "      <th>mean_alt_[2^3)</th>\n",
       "      <th>mean_alt_[3^4)</th>\n",
       "      <th>mean_alt_[4^5)</th>\n",
       "      <th>mean_alt_[5^6)</th>\n",
       "      <th>mean_alt_[6^Inf)</th>\n",
       "      <th>mean_ref_(-Inf^1)</th>\n",
       "      <th>mean_ref_[1^2)</th>\n",
       "      <th>mean_ref_[2^3)</th>\n",
       "      <th>mean_ref_[3^4)</th>\n",
       "      <th>mean_ref_[4^5)</th>\n",
       "      <th>mean_ref_[5^6)</th>\n",
       "      <th>mean_ref_[6^Inf)</th>\n",
       "    </tr>\n",
       "  </thead>\n",
       "  <tbody>\n",
       "  </tbody>\n",
       "</table>\n",
       "</div>"
      ],
      "text/plain": [
       "Empty DataFrame\n",
       "Columns: [CHROM, POS, ID, REF, ALT, QUAL, FILTER, INFO, K562__ref, HepG2__ref, SKNSH__ref, K562__alt, HepG2__alt, SKNSH__alt, K562__skew, HepG2__skew, SKNSH__skew, AC, AN, AF, cadd_phred, is_in_dELS, is_in_CA, is_in_pELS, is_in_CA-H3K4me3, is_in_CA-CTCF, is_in_PLS, is_in_TF, is_in_CA-TF, P_ANNO, mean_ref, mean_skew, MAF, category, mean_alt, mean_skew_(-Inf^ -1&4), mean_skew_[-1&20^ -1&00), mean_skew_[-1&00^ -0&80), mean_skew_[-0&80^ -0&60), mean_skew_[-0&60^ -0&40), mean_skew_[-0&40^ -0&20), mean_skew_[-0&20^ 0&00), mean_skew_[0&00^ 0&20), mean_skew_[0&20^ 0&40), mean_skew_[0&40^ 0&60), mean_skew_[0&60^ 0&80), mean_skew_[0&80^ 1&00), mean_skew_[1&00^ 1&20), mean_skew_[1&20^ 1&40), mean_skew_(1&4^ Inf), mean_alt_(-Inf^1), mean_alt_[1^2), mean_alt_[2^3), mean_alt_[3^4), mean_alt_[4^5), mean_alt_[5^6), mean_alt_[6^Inf), mean_ref_(-Inf^1), mean_ref_[1^2), mean_ref_[2^3), mean_ref_[3^4), mean_ref_[4^5), mean_ref_[5^6), mean_ref_[6^Inf)]\n",
       "Index: []"
      ]
     },
     "metadata": {},
     "output_type": "display_data"
    }
   ],
   "source": [
    "import pandas as pd\n",
    "with pd.option_context('display.max_columns', None):\n",
    "    display(z)\n"
   ]
  }
 ],
 "metadata": {
  "kernelspec": {
   "display_name": "Python 3 (ipykernel)",
   "language": "python",
   "name": "python3"
  },
  "language_info": {
   "codemirror_mode": {
    "name": "ipython",
    "version": 3
   },
   "file_extension": ".py",
   "mimetype": "text/x-python",
   "name": "python",
   "nbconvert_exporter": "python",
   "pygments_lexer": "ipython3",
   "version": "3.10.12"
  }
 },
 "nbformat": 4,
 "nbformat_minor": 5
}
