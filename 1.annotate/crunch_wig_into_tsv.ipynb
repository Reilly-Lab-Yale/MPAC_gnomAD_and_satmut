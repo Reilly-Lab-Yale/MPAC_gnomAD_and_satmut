{
 "cells": [
  {
   "cell_type": "markdown",
   "id": "c80d272c-e27d-4b7c-a7de-0e5fcecd973c",
   "metadata": {},
   "source": [
    "I want to annotate the vcf files with phyloP scores. \n",
    "\n",
    "I will convert the bigWig into a format more ameniable to `bcftools annotate`. First, I will produce a wig file, which is more easially manipulable."
   ]
  },
  {
   "cell_type": "code",
   "execution_count": null,
   "id": "d1732157-3e20-48ec-ab70-523f084e700d",
   "metadata": {},
   "outputs": [],
   "source": [
    "%%bash\n",
    "bigWigToWig /home/mcn26/varef/data/Zoonomia/mammal_phyloP/241-mammalian-2020v2.bigWig ./out.wig"
   ]
  },
  {
   "cell_type": "markdown",
   "id": "7adf4b05-2bf6-4e49-b2d2-f16da3d5e299",
   "metadata": {},
   "source": [
    "Now, we will re-format it.  From the manpage:\n",
    "\n",
    "> Bgzip-compressed and tabix-indexed file with annotations. The file can be VCF, BED, or a tab-delimited file with mandatory columns CHROM, POS (or, alternatively, FROM and TO), optional columns REF and ALT, and arbitrary number of annotation columns. BED files are expected to have the \".bed\" or \".bed.gz\" suffix (case-insensitive), otherwise a tab-delimited file is assumed. Note that in case of tab-delimited file, the coordinates POS, FROM and TO are one-based and inclusive. When REF and ALT are present, only matching VCF records will be annotated. If the END coordinate is present in the annotation file and given on command line as \"-c ~INFO/END\", then VCF records will be matched also by the INFO/END coordinate. If ID is present in the annotation file and given as \"-c ~ID\", then VCF records will be matched also by the ID column.\n",
    "\n",
    "Examining our current format:"
   ]
  },
  {
   "cell_type": "code",
   "execution_count": 1,
   "id": "947c17f1-2c68-4d13-a2f2-91ad71a65522",
   "metadata": {},
   "outputs": [
    {
     "name": "stderr",
     "output_type": "stream",
     "text": [
      "head: cannot open 'out.wig' for reading: No such file or directory\n"
     ]
    },
    {
     "ename": "CalledProcessError",
     "evalue": "Command 'b'head out.wig\\n'' returned non-zero exit status 1.",
     "output_type": "error",
     "traceback": [
      "\u001b[0;31m---------------------------------------------------------------------------\u001b[0m",
      "\u001b[0;31mCalledProcessError\u001b[0m                        Traceback (most recent call last)",
      "Cell \u001b[0;32mIn[1], line 1\u001b[0m\n\u001b[0;32m----> 1\u001b[0m \u001b[43mget_ipython\u001b[49m\u001b[43m(\u001b[49m\u001b[43m)\u001b[49m\u001b[38;5;241;43m.\u001b[39;49m\u001b[43mrun_cell_magic\u001b[49m\u001b[43m(\u001b[49m\u001b[38;5;124;43m'\u001b[39;49m\u001b[38;5;124;43mbash\u001b[39;49m\u001b[38;5;124;43m'\u001b[39;49m\u001b[43m,\u001b[49m\u001b[43m \u001b[49m\u001b[38;5;124;43m'\u001b[39;49m\u001b[38;5;124;43m'\u001b[39;49m\u001b[43m,\u001b[49m\u001b[43m \u001b[49m\u001b[38;5;124;43m'\u001b[39;49m\u001b[38;5;124;43mhead out.wig\u001b[39;49m\u001b[38;5;130;43;01m\\n\u001b[39;49;00m\u001b[38;5;124;43m'\u001b[39;49m\u001b[43m)\u001b[49m\n",
      "File \u001b[0;32m~/.conda/envs/mcn_vareff/lib/python3.10/site-packages/IPython/core/interactiveshell.py:2493\u001b[0m, in \u001b[0;36mInteractiveShell.run_cell_magic\u001b[0;34m(self, magic_name, line, cell)\u001b[0m\n\u001b[1;32m   2491\u001b[0m \u001b[38;5;28;01mwith\u001b[39;00m \u001b[38;5;28mself\u001b[39m\u001b[38;5;241m.\u001b[39mbuiltin_trap:\n\u001b[1;32m   2492\u001b[0m     args \u001b[38;5;241m=\u001b[39m (magic_arg_s, cell)\n\u001b[0;32m-> 2493\u001b[0m     result \u001b[38;5;241m=\u001b[39m \u001b[43mfn\u001b[49m\u001b[43m(\u001b[49m\u001b[38;5;241;43m*\u001b[39;49m\u001b[43margs\u001b[49m\u001b[43m,\u001b[49m\u001b[43m \u001b[49m\u001b[38;5;241;43m*\u001b[39;49m\u001b[38;5;241;43m*\u001b[39;49m\u001b[43mkwargs\u001b[49m\u001b[43m)\u001b[49m\n\u001b[1;32m   2495\u001b[0m \u001b[38;5;66;03m# The code below prevents the output from being displayed\u001b[39;00m\n\u001b[1;32m   2496\u001b[0m \u001b[38;5;66;03m# when using magics with decorator @output_can_be_silenced\u001b[39;00m\n\u001b[1;32m   2497\u001b[0m \u001b[38;5;66;03m# when the last Python token in the expression is a ';'.\u001b[39;00m\n\u001b[1;32m   2498\u001b[0m \u001b[38;5;28;01mif\u001b[39;00m \u001b[38;5;28mgetattr\u001b[39m(fn, magic\u001b[38;5;241m.\u001b[39mMAGIC_OUTPUT_CAN_BE_SILENCED, \u001b[38;5;28;01mFalse\u001b[39;00m):\n",
      "File \u001b[0;32m~/.conda/envs/mcn_vareff/lib/python3.10/site-packages/IPython/core/magics/script.py:154\u001b[0m, in \u001b[0;36mScriptMagics._make_script_magic.<locals>.named_script_magic\u001b[0;34m(line, cell)\u001b[0m\n\u001b[1;32m    152\u001b[0m \u001b[38;5;28;01melse\u001b[39;00m:\n\u001b[1;32m    153\u001b[0m     line \u001b[38;5;241m=\u001b[39m script\n\u001b[0;32m--> 154\u001b[0m \u001b[38;5;28;01mreturn\u001b[39;00m \u001b[38;5;28;43mself\u001b[39;49m\u001b[38;5;241;43m.\u001b[39;49m\u001b[43mshebang\u001b[49m\u001b[43m(\u001b[49m\u001b[43mline\u001b[49m\u001b[43m,\u001b[49m\u001b[43m \u001b[49m\u001b[43mcell\u001b[49m\u001b[43m)\u001b[49m\n",
      "File \u001b[0;32m~/.conda/envs/mcn_vareff/lib/python3.10/site-packages/IPython/core/magics/script.py:314\u001b[0m, in \u001b[0;36mScriptMagics.shebang\u001b[0;34m(self, line, cell)\u001b[0m\n\u001b[1;32m    309\u001b[0m \u001b[38;5;28;01mif\u001b[39;00m args\u001b[38;5;241m.\u001b[39mraise_error \u001b[38;5;129;01mand\u001b[39;00m p\u001b[38;5;241m.\u001b[39mreturncode \u001b[38;5;241m!=\u001b[39m \u001b[38;5;241m0\u001b[39m:\n\u001b[1;32m    310\u001b[0m     \u001b[38;5;66;03m# If we get here and p.returncode is still None, we must have\u001b[39;00m\n\u001b[1;32m    311\u001b[0m     \u001b[38;5;66;03m# killed it but not yet seen its return code. We don't wait for it,\u001b[39;00m\n\u001b[1;32m    312\u001b[0m     \u001b[38;5;66;03m# in case it's stuck in uninterruptible sleep. -9 = SIGKILL\u001b[39;00m\n\u001b[1;32m    313\u001b[0m     rc \u001b[38;5;241m=\u001b[39m p\u001b[38;5;241m.\u001b[39mreturncode \u001b[38;5;129;01mor\u001b[39;00m \u001b[38;5;241m-\u001b[39m\u001b[38;5;241m9\u001b[39m\n\u001b[0;32m--> 314\u001b[0m     \u001b[38;5;28;01mraise\u001b[39;00m CalledProcessError(rc, cell)\n",
      "\u001b[0;31mCalledProcessError\u001b[0m: Command 'b'head out.wig\\n'' returned non-zero exit status 1."
     ]
    }
   ],
   "source": [
    "%%bash\n",
    "head out.wig"
   ]
  },
  {
   "cell_type": "markdown",
   "id": "363347b2-ac06-46a5-ad24-6ecb601cce8e",
   "metadata": {},
   "source": [
    "We see that it is quite similar. Unfortunately, since the first record is not at the beginning of the chromosome, I can't immediately tell if it is 0 or 1 based. According to  [UCSC Genome Browser Blog : The UCSC Genome Browser Coordinate Counting Systems](https://genome-blog.gi.ucsc.edu/blog/2016/12/12/the-ucsc-genome-browser-coordinate-counting-systems/) bigWigs can be 0-start, half-open or 1-start fully closed. All of the entries above are different by one, suggesting that this is 1-start fully-closed (see the blog post for more information).\n",
    "\n",
    "To double-check: UCSC genome browser always displays 1-start fully-closed. So I opened the PhyloP track ([here](https://genome.ucsc.edu/cgi-bin/hgGateway?genome=Homo_sapiens&hubUrl=https://cgl.gi.ucsc.edu/data/cactus/241-mammalian-2020v2-hub/hub.txt) from [Zoonomia](https://cglgenomics.ucsc.edu/data/cactus/)) and checked a specific value : chr1\t10074\t10075\tis 0.053. So I am quite confident the coordinates are **1-start fully-closed**.\n",
    "\n",
    "VCF are also 1-based. So no +-1 are required. "
   ]
  },
  {
   "cell_type": "code",
   "execution_count": null,
   "id": "787958d0-bee3-406c-bf6a-3066cb61ce16",
   "metadata": {},
   "outputs": [],
   "source": [
    "#write the header to file\n",
    "!echo $'#CHROM\\tPOS\\tP_ANNO' > out_processed.tsv\n",
    "\n",
    "#Grep strips the comments\n",
    "#awk kills the third column\n",
    "!cat out.wig | grep --invert-match '^#' | awk '{print $1, $2, $4}' OFS=\"\\t\" >> out_processed.tsv"
   ]
  },
  {
   "cell_type": "markdown",
   "id": "80ae4875-8892-444c-b895-fb3fa2bd57e7",
   "metadata": {},
   "source": [
    "Examine the file we just made to make sure it is OK"
   ]
  },
  {
   "cell_type": "code",
   "execution_count": 2,
   "id": "2bd68483-f95d-4e74-ba5f-77288ed0faf5",
   "metadata": {},
   "outputs": [
    {
     "name": "stdout",
     "output_type": "stream",
     "text": [
      "#CHROM\tPOS\tP_ANNO\n",
      "chr1\t10074\t0.053\n",
      "chr1\t10075\t0.064\n",
      "chr1\t10076\t0.064\n",
      "chr1\t10077\t0.064\n",
      "chr1\t10078\t-2.109\n",
      "chr1\t10079\t0.053\n",
      "chr1\t10080\t0.053\n",
      "chr1\t10081\t0.064\n",
      "chr1\t10082\t0.064\n"
     ]
    }
   ],
   "source": [
    "%%bash\n",
    "head out_processed.tsv"
   ]
  },
  {
   "cell_type": "markdown",
   "id": "dc256750-c0e3-4fda-9b60-d9dc856cc56e",
   "metadata": {},
   "source": [
    "Delete the first wig we created : no longer useful to us. "
   ]
  },
  {
   "cell_type": "code",
   "execution_count": null,
   "id": "3bd1da6c-e0ba-411c-ace3-97da3ea37c81",
   "metadata": {},
   "outputs": [],
   "source": [
    "!rm out.wig"
   ]
  },
  {
   "cell_type": "markdown",
   "id": "15a53e68-28e7-45f5-a25a-e71e1666f0df",
   "metadata": {},
   "source": [
    "Compress and tabix-index the new wig to use to annotate "
   ]
  },
  {
   "cell_type": "code",
   "execution_count": null,
   "id": "3520ef0f-f512-4cc5-99db-a4b0aab45382",
   "metadata": {},
   "outputs": [],
   "source": [
    "!bgzip -c out_processed.tsv > out_processed.tsv.bgz"
   ]
  },
  {
   "cell_type": "code",
   "execution_count": null,
   "id": "50490a41-987a-48df-88eb-924de0f6978c",
   "metadata": {},
   "outputs": [],
   "source": [
    "!tabix -p bed -s 1 -b 2 -e 2 out_processed.tsv.bgz"
   ]
  },
  {
   "cell_type": "markdown",
   "id": "ea9e0bad-961a-4148-b0a8-572c3077ddd0",
   "metadata": {},
   "source": [
    "NOTE : SUBSEQUEN STEPS DO NOT PRODUCE DESIRED RESULT, DO NOT RUN\n",
    "\n",
    "Now annotate the vcf files combined in the previous script with the table we just made."
   ]
  },
  {
   "cell_type": "code",
   "execution_count": null,
   "id": "f14ad5d5-6a0a-44ce-8db0-2cf1ca07685e",
   "metadata": {},
   "outputs": [],
   "source": [
    "%%writefile header_file.hdr\n",
    "##INFO=<ID=P_ANNO,Number=1,Type=String,Description=\"phylop\">"
   ]
  },
  {
   "cell_type": "code",
   "execution_count": 3,
   "id": "0e37f6f9-a3e5-4150-8607-ac00f0a765f4",
   "metadata": {},
   "outputs": [
    {
     "name": "stdout",
     "output_type": "stream",
     "text": [
      "Writing annotate.sh\n"
     ]
    }
   ],
   "source": [
    "%%writefile annotate.sh\n",
    "#!/bin/bash\n",
    "#SBATCH --job-name=annotate\n",
    "#SBATCH --output=annotate_%j.out\n",
    "#SBATCH --error=annotate_%j.err\n",
    "#SBATCH --time=04:00:00\n",
    "#SBATCH --array=1-22%22\n",
    "#SBATCH --cpus-per-task=4\n",
    "#SBATCH --mem=10G\n",
    "\n",
    "module load miniconda\n",
    "conda activate mcn_vareff\n",
    "\n",
    "# Define the directories\n",
    "DIR=\"/gpfs/gibbs/pi/reilly/VariantEffects/scripts/noon_scripts/0.merge/out/\"\n",
    "\n",
    "OUT_DIR=\"./annotated/\"\n",
    "\n",
    "# Define the chromosome based on the Slurm array task ID\n",
    "CHR=\"chr${SLURM_ARRAY_TASK_ID}\"\n",
    "\n",
    "bcftools annotate -a out_processed.tsv.bgz -c CHROM,POS,P_ANNO \"${DIR}combined.${CHR}.vcf.gz\" -h header_file.hdr -O z -o \"./annotated/combined.${CHR}.vcf.gz\""
   ]
  },
  {
   "cell_type": "code",
   "execution_count": 4,
   "id": "bca0dbda-4dfa-415c-9332-35fd8ec53083",
   "metadata": {},
   "outputs": [
    {
     "name": "stdout",
     "output_type": "stream",
     "text": [
      "Submitted batch job 14349611\n"
     ]
    }
   ],
   "source": [
    "!sbatch annotate.sh\n",
    "!rm annotate.sh"
   ]
  },
  {
   "cell_type": "code",
   "execution_count": 5,
   "id": "ea384594-1046-42e6-9f91-b14d8b0ee9f5",
   "metadata": {},
   "outputs": [
    {
     "name": "stdout",
     "output_type": "stream",
     "text": [
      "Writing index.sh\n"
     ]
    }
   ],
   "source": [
    "%%writefile index.sh\n",
    "#!/bin/bash\n",
    "#SBATCH --job-name=index\n",
    "#SBATCH --output=index_%j.out\n",
    "#SBATCH --error=index_%j.err\n",
    "#SBATCH --time=04:00:00\n",
    "#SBATCH --array=1-22%22\n",
    "#SBATCH --cpus-per-task=4\n",
    "#SBATCH --mem=10G\n",
    "\n",
    "# Define the chromosome based on the Slurm array task ID\n",
    "CHR=\"chr${SLURM_ARRAY_TASK_ID}\"\n",
    "\n",
    "bcftools index -f -t --threads ${SLURM_CPUS_PER_TASK} \"./annotated/combined.${CHR}.vcf.gz\""
   ]
  },
  {
   "cell_type": "code",
   "execution_count": 6,
   "id": "78c020c8-06d2-4557-bc2f-2bb6be22a508",
   "metadata": {},
   "outputs": [
    {
     "name": "stdout",
     "output_type": "stream",
     "text": [
      "Submitted batch job 14401329\n"
     ]
    }
   ],
   "source": [
    "!sbatch index.sh\n",
    "!rm index.sh"
   ]
  }
 ],
 "metadata": {
  "kernelspec": {
   "display_name": "Python 3 (ipykernel)",
   "language": "python",
   "name": "python3"
  },
  "language_info": {
   "codemirror_mode": {
    "name": "ipython",
    "version": 3
   },
   "file_extension": ".py",
   "mimetype": "text/x-python",
   "name": "python",
   "nbconvert_exporter": "python",
   "pygments_lexer": "ipython3",
   "version": "3.10.12"
  }
 },
 "nbformat": 4,
 "nbformat_minor": 5
}
