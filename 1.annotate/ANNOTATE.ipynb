{
 "cells": [
  {
   "cell_type": "markdown",
   "id": "b616ec91-60ec-4a6b-acf0-10276eb6a069",
   "metadata": {},
   "source": [
    "This notebook annotates all gnomad variants with their corresponding malinouis predictions, the phyloP scores associated with their genomic locations, and the genomic regions (enhancer or not) they fall within. \n",
    "\n",
    "(Execute notebook after crunching wig into csv, as per other file)\n",
    "\n",
    "Import relevant libraries"
   ]
  },
  {
   "cell_type": "code",
   "execution_count": 2,
   "id": "ee846e1e-6265-45e6-8b6b-1b11261fdd1f",
   "metadata": {
    "execution": {
     "iopub.execute_input": "2023-12-04T20:12:06.087083Z",
     "iopub.status.busy": "2023-12-04T20:12:06.086578Z",
     "iopub.status.idle": "2023-12-04T20:12:06.089548Z",
     "shell.execute_reply": "2023-12-04T20:12:06.089157Z",
     "shell.execute_reply.started": "2023-12-04T20:12:06.087064Z"
    },
    "tags": []
   },
   "outputs": [],
   "source": [
    "from pyspark import SparkConf, SparkContext\n",
    "from pyspark.sql import SparkSession\n",
    "from pyspark.sql.types import StructType, StructField, StringType, IntegerType, FloatType\n",
    "from pyspark.sql.functions import col"
   ]
  },
  {
   "cell_type": "markdown",
   "id": "11021805-1df7-4ba6-99e8-28cf49efab35",
   "metadata": {},
   "source": [
    "Create spark session"
   ]
  },
  {
   "cell_type": "code",
   "execution_count": 3,
   "id": "ae2690fc-67a5-4da4-a561-1dbb9a77a923",
   "metadata": {
    "execution": {
     "iopub.execute_input": "2023-12-04T20:12:07.973683Z",
     "iopub.status.busy": "2023-12-04T20:12:07.973224Z",
     "iopub.status.idle": "2023-12-04T20:12:10.342233Z",
     "shell.execute_reply": "2023-12-04T20:12:10.341752Z",
     "shell.execute_reply.started": "2023-12-04T20:12:07.973666Z"
    },
    "tags": []
   },
   "outputs": [
    {
     "name": "stderr",
     "output_type": "stream",
     "text": [
      "Setting default log level to \"WARN\".\n",
      "To adjust logging level use sc.setLogLevel(newLevel). For SparkR, use setLogLevel(newLevel).\n",
      "23/12/04 15:12:09 WARN NativeCodeLoader: Unable to load native-hadoop library for your platform... using builtin-java classes where applicable\n",
      "23/12/04 15:12:09 WARN Utils: Service 'SparkUI' could not bind on port 4040. Attempting port 4041.\n"
     ]
    }
   ],
   "source": [
    "if 'spark' in locals() and spark!=None:\n",
    "    spark.stop()\n",
    "\n",
    "    #are we running the actual script, or just testing?\n",
    "for_real=False\n",
    "\n",
    "spark=None\n",
    "\n",
    "if for_real:\n",
    "    #assuming 1991GB memory & 24 cores\n",
    "    spark = SparkSession.builder \\\n",
    "        .appName(\"ANNOTATE\") \\\n",
    "        .config(\"spark.executor.instances\", \"4\") \\\n",
    "        .config(\"spark.executor.cores\", \"5\") \\\n",
    "        .config(\"spark.executor.memory\", \"472g\") \\\n",
    "        .config(\"spark.driver.memory\", \"30g\") \\\n",
    "        .config(\"spark.driver.cores\", \"3\") \\\n",
    "        .config(\"spark.executor.memoryOverhead\", \"70g\") \\\n",
    "        .config(\"spark.sql.shuffle.partitions\", \"1000\") \\\n",
    "        .config(\"spark.shuffle.manager\", \"sort\") \\\n",
    "        .config(\"spark.driver.extraJavaOptions\", \"-XX:+UseG1GC\") \\\n",
    "        .config(\"spark.executor.extraJavaOptions\", \"-XX:+UseG1GC\") \\\n",
    "        .getOrCreate()\n",
    "    \n",
    "    #assuming 3tb memory & 24 cores\n",
    "    #spark = SparkSession.builder \\\n",
    "    #    .appName(\"ANNOTATE\") \\\n",
    "    #    .config(\"spark.executor.instances\", \"4\") \\\n",
    "    #    .config(\"spark.executor.cores\", \"5\") \\\n",
    "    #    .config(\"spark.executor.memory\", \"710g\") \\\n",
    "    #    .config(\"spark.driver.memory\", \"30g\") \\\n",
    "    #    .config(\"spark.driver.cores\", \"3\") \\\n",
    "    #    .config(\"spark.executor.memoryOverhead\", \"70g\") \\\n",
    "    #    .config(\"spark.sql.shuffle.partitions\", \"1000\") \\\n",
    "    #    .config(\"spark.shuffle.manager\", \"sort\") \\\n",
    "    #    .config(\"spark.driver.extraJavaOptions\", \"-XX:+UseG1GC\") \\\n",
    "    #    .config(\"spark.executor.extraJavaOptions\", \"-XX:+UseG1GC\") \\\n",
    "    #    .getOrCreate()\n",
    "else:\n",
    "    spark = SparkSession.builder \\\n",
    "        .appName(\"ANNOTATE_TEST\") \\\n",
    "        .config(\"spark.executor.memory\", \"4g\") \\\n",
    "        .config(\"spark.driver.memory\", \"4g\") \\\n",
    "        .config(\"spark.sql.shuffle.partitions\", \"10\") \\\n",
    "        .getOrCreate()"
   ]
  },
  {
   "cell_type": "code",
   "execution_count": 4,
   "id": "522ce39d-ca21-4afe-85dd-0dbe89dea6e8",
   "metadata": {
    "execution": {
     "iopub.execute_input": "2023-12-04T20:12:15.259216Z",
     "iopub.status.busy": "2023-12-04T20:12:15.258913Z",
     "iopub.status.idle": "2023-12-04T20:12:15.263593Z",
     "shell.execute_reply": "2023-12-04T20:12:15.263195Z",
     "shell.execute_reply.started": "2023-12-04T20:12:15.259196Z"
    },
    "tags": []
   },
   "outputs": [
    {
     "name": "stdout",
     "output_type": "stream",
     "text": [
      "http://r814u23n04.mccleary.ycrc.yale.edu:4041\n"
     ]
    }
   ],
   "source": [
    "print(spark.sparkContext.uiWebUrl)"
   ]
  },
  {
   "cell_type": "code",
   "execution_count": 5,
   "id": "9970c4b9-2069-407a-9ca4-781abfca2914",
   "metadata": {
    "execution": {
     "iopub.execute_input": "2023-12-04T20:12:16.668744Z",
     "iopub.status.busy": "2023-12-04T20:12:16.668280Z",
     "iopub.status.idle": "2023-12-04T20:12:18.284415Z",
     "shell.execute_reply": "2023-12-04T20:12:18.283981Z",
     "shell.execute_reply.started": "2023-12-04T20:12:16.668726Z"
    },
    "tags": []
   },
   "outputs": [],
   "source": [
    "\n",
    "#define the phylop tsv schema\n",
    "phylop_schema = StructType([\n",
    "    StructField(\"CHROM\", StringType(), True),\n",
    "    StructField(\"POS\", IntegerType(), True),\n",
    "    StructField(\"P_ANNO\", FloatType(), True),\n",
    "])\n",
    "\n",
    "#read in the phylop tsv\n",
    "phylop_anno = spark.read \\\n",
    "    .option(\"comment\", \"#\") \\\n",
    "    .option(\"delimiter\", \"\\t\") \\\n",
    "    .schema(phylop_schema) \\\n",
    "    .csv(\"/home/mcn26/varef/scripts/noon_data/1.annotate/out_processed.tsv\", header=False)\n",
    "\n",
    "#define the big boy vcf schema\n",
    "vcf_schema = StructType([\n",
    "    StructField(\"CHROM\", StringType(), True),\n",
    "    StructField(\"POS\", IntegerType(), True),\n",
    "    StructField(\"ID\", StringType(), True),\n",
    "    StructField(\"REF\", StringType(), True),\n",
    "    StructField(\"ALT\", StringType(), True),\n",
    "    StructField(\"QUAL\", StringType(), True),\n",
    "    StructField(\"FILTER\", StringType(), True),\n",
    "    StructField(\"INFO\", StringType(), True),\n",
    "\n",
    "])\n",
    "\n",
    "#read in the vcf data\n",
    "vcf = spark.read \\\n",
    "    .option(\"comment\", \"#\") \\\n",
    "    .option(\"delimiter\", \"\\t\") \\\n",
    "    .schema(vcf_schema) \\\n",
    "    .csv(\"/home/mcn26/varef/scripts/noon_data/0.merge/out/*.vcf.gz\", header=False)\n",
    "\n",
    "\n",
    "#define genomic region annotation (bed file) schema\n",
    "bed_schema = StructType([\n",
    "    StructField(\"CHROM\", StringType(), True),\n",
    "    StructField(\"START\", IntegerType(), True),\n",
    "    StructField(\"STOP\", StringType(), True),\n",
    "])\n",
    "\n",
    "#load the encode enhancer datasets\n",
    "\n",
    "CRE_BASEPATH=\"/home/mcn26/varef/data/ENCODE/SCREEN_v4_cCREs_agnostic/\"\n",
    "\n",
    "promoters=spark.read \\\n",
    "    .schema(bed_schema) \\\n",
    "    .option(\"delimiter\", \"\\t\") \\\n",
    "    .csv(CRE_BASEPATH+\"GRCh38-PLS.V4.bed.gz\")\n",
    "\n",
    "\n",
    "prox_enhancers=spark.read \\\n",
    "    .schema(bed_schema) \\\n",
    "    .option(\"delimiter\", \"\\t\") \\\n",
    "    .csv(CRE_BASEPATH+\"GRCh38-pELS.V4.bed.gz\")\n",
    "\n",
    "distal_enhancers=spark.read \\\n",
    "    .schema(bed_schema) \\\n",
    "    .option(\"delimiter\", \"\\t\") \\\n",
    "    .csv(CRE_BASEPATH+\"GRCh38-dELS.V4.bed.gz\")"
   ]
  },
  {
   "cell_type": "markdown",
   "id": "1dc577c9-6f52-4942-a342-1f465285745d",
   "metadata": {},
   "source": [
    "Add the genomic region annotations"
   ]
  },
  {
   "cell_type": "code",
   "execution_count": 6,
   "id": "c98be64d-19f3-4925-a49a-6145a3d2e96c",
   "metadata": {
    "execution": {
     "iopub.execute_input": "2023-12-04T20:12:23.375086Z",
     "iopub.status.busy": "2023-12-04T20:12:23.374590Z",
     "iopub.status.idle": "2023-12-04T20:12:23.378310Z",
     "shell.execute_reply": "2023-12-04T20:12:23.377913Z",
     "shell.execute_reply.started": "2023-12-04T20:12:23.375068Z"
    },
    "tags": []
   },
   "outputs": [],
   "source": [
    "def add_genomic_annotation(loci,regions,name):\n",
    "    \n",
    "\n",
    "    # as usual, we have to worry about coordinate systems\n",
    "    # VCFs are 1-based\n",
    "    # BEDs are 0-based\n",
    "    # Chr1        T   A   C   G   T\n",
    "    #           | | | | | | | | | |\n",
    "    # 1 based   | 1 | 2 | 3 | 4 | 5\n",
    "    # 0 based   0   1   2   3   4\n",
    "\n",
    "    result = loci.join(\n",
    "        regions,\n",
    "        (loci.CHROM == regions.CHROM) & \n",
    "        (loci.POS > regions.START) & \n",
    "        (loci.POS <= regions.STOP),\n",
    "        how='left'\n",
    "    )\n",
    "\n",
    "    # Add a boolean column 'is_in_region'\n",
    "    result = result.withColumn(\"is_in_\"+name, col(\"start\").isNotNull())\n",
    "\n",
    "    # Select only columns from df_loci and the new boolean column\n",
    "    final_result = result.select(loci[\"*\"], \"is_in_\"+name)\n",
    "    \n",
    "    return final_result"
   ]
  },
  {
   "cell_type": "code",
   "execution_count": 7,
   "id": "c43c6be7-3856-4473-9b9e-82d8c3ec5bbf",
   "metadata": {
    "execution": {
     "iopub.execute_input": "2023-12-04T20:12:27.066897Z",
     "iopub.status.busy": "2023-12-04T20:12:27.066408Z",
     "iopub.status.idle": "2023-12-04T20:12:27.282744Z",
     "shell.execute_reply": "2023-12-04T20:12:27.282262Z",
     "shell.execute_reply.started": "2023-12-04T20:12:27.066880Z"
    },
    "tags": []
   },
   "outputs": [
    {
     "name": "stderr",
     "output_type": "stream",
     "text": [
      "23/12/04 15:12:27 WARN GarbageCollectionMetrics: To enable non-built-in garbage collector(s) List(G1 Concurrent GC), users should configure it(them) to spark.eventLog.gcMetrics.youngGenerationGarbageCollectors or spark.eventLog.gcMetrics.oldGenerationGarbageCollectors\n"
     ]
    }
   ],
   "source": [
    "genomic_regions_added=add_genomic_annotation(loci=vcf,regions=promoters,name=\"promoter\")\n",
    "genomic_regions_added=add_genomic_annotation(loci=genomic_regions_added,regions=prox_enhancers,name=\"prox_enhancers\")\n",
    "genomic_regions_added=add_genomic_annotation(loci=genomic_regions_added,regions=distal_enhancers,name=\"distal_enhancers\")"
   ]
  },
  {
   "cell_type": "markdown",
   "id": "a39a8b8c-c85d-4bcc-806a-74d941566215",
   "metadata": {},
   "source": [
    "Add the phyloP annotations"
   ]
  },
  {
   "cell_type": "code",
   "execution_count": 8,
   "id": "3ebf30b3-0042-4a9d-a028-236ef1261fe8",
   "metadata": {
    "execution": {
     "iopub.execute_input": "2023-12-04T20:12:29.884694Z",
     "iopub.status.busy": "2023-12-04T20:12:29.884209Z",
     "iopub.status.idle": "2023-12-04T20:12:29.904925Z",
     "shell.execute_reply": "2023-12-04T20:12:29.904446Z",
     "shell.execute_reply.started": "2023-12-04T20:12:29.884676Z"
    },
    "tags": []
   },
   "outputs": [],
   "source": [
    "phyloP_annotated = genomic_regions_added.join(phylop_anno, on=[\"CHROM\", \"POS\"], how=\"left\")"
   ]
  },
  {
   "cell_type": "code",
   "execution_count": 9,
   "id": "bc3f8bf2-446e-4081-ae97-21e5723cae2c",
   "metadata": {
    "execution": {
     "iopub.execute_input": "2023-12-04T20:12:37.883292Z",
     "iopub.status.busy": "2023-12-04T20:12:37.882798Z",
     "iopub.status.idle": "2023-12-04T20:28:36.008592Z",
     "shell.execute_reply": "2023-12-04T20:28:36.008165Z",
     "shell.execute_reply.started": "2023-12-04T20:12:37.883275Z"
    },
    "tags": []
   },
   "outputs": [
    {
     "name": "stderr",
     "output_type": "stream",
     "text": [
      "                                                                                \r"
     ]
    },
    {
     "data": {
      "text/plain": [
       "[Row(CHROM='chr12', POS=10121, ID='rs1164716033', REF='C', ALT='T', QUAL='.', FILTER='AS_VQSR', INFO='K562__ref=0.028104272;HepG2__ref=-0.15782407;SKNSH__ref=-0.53544396;K562__alt=0.042614162;HepG2__alt=-0.15406951;SKNSH__alt=-0.536215;K562__skew=0.0145098865;HepG2__skew=0.0037545497;SKNSH__skew=-0.0007710662;AN_oth=180;AN_ami=38;AN_sas=156;AN_fin=2306;AN_eas=270;AN_amr=2534;AN_afr=3980;AN_mid=84;AN_asj=72;AN_nfe=2184;cadd_raw_score=0.641828;cadd_phred=7.913;vep=T|downstream_gene_variant|MODIFIER|WASH8P|ENSG00000226210|Transcript|ENST00000400706|unprocessed_pseudogene||||||||||1|4401|-1|SNV||HGNC|HGNC:53913|YES||||||||||||||||||||,T|upstream_gene_variant|MODIFIER|DDX11L8|ENSG00000256263|Transcript|ENST00000535849|unprocessed_pseudogene||||||||||1|2189|1|SNV||HGNC|HGNC:37101|YES||||||||||||||||||||,T|downstream_gene_variant|MODIFIER|LOC100288778|100288778|Transcript|NR_130745.1|transcribed_pseudogene||||||||||1|4356|-1|SNV||EntrezGene||YES||||||||||||||||||||;AC=2;AN=11804;AF=0.000169434;AC_oth=0;AF_oth=0;AC_ami=0;AF_ami=0;AC_sas=0;AF_sas=0;AC_fin=0;AF_fin=0;AC_eas=0;AF_eas=0;AC_amr=0;AF_amr=0;AC_afr=1;AF_afr=0.000251256;AC_mid=0;AF_mid=0;AC_asj=0;AF_asj=0;AC_nfe=1;AF_nfe=0.000457875;AC_popmax=1;AN_popmax=2184;AF_popmax=0.000457875', is_in_promoter=False, is_in_prox_enhancers=False, is_in_distal_enhancers=False, P_ANNO=None),\n",
       " Row(CHROM='chr1', POS=10043, ID='.', REF='T', ALT='C', QUAL='.', FILTER='AS_VQSR', INFO='K562__ref=0.1231888;HepG2__ref=-0.0071074204;SKNSH__ref=-0.24718185;K562__alt=0.12488268;HepG2__alt=-0.012141326;SKNSH__alt=-0.25463942;K562__skew=0.0016938852;HepG2__skew=-0.005033909;SKNSH__skew=-0.007457579;AN_oth=1148;AN_ami=568;AN_sas=2158;AN_fin=5820;AN_eas=2912;AN_amr=8502;AN_afr=22760;AN_mid=254;AN_asj=2276;AN_nfe=39236;cadd_raw_score=0.748494;cadd_phred=8.899;vep=C|upstream_gene_variant|MODIFIER|DDX11L1|ENSG00000223972|Transcript|ENST00000450305|transcribed_unprocessed_pseudogene||||||||||1|1967|1|SNV||HGNC|HGNC:37102|||||||||||||||||||||,C|upstream_gene_variant|MODIFIER|DDX11L1|ENSG00000223972|Transcript|ENST00000456328|processed_transcript||||||||||1|1826|1|SNV||HGNC|HGNC:37102|YES|1|||||||||||||||||||,C|downstream_gene_variant|MODIFIER|WASH7P|ENSG00000227232|Transcript|ENST00000488147|unprocessed_pseudogene||||||||||1|4361|-1|SNV||HGNC|HGNC:38034|YES||||||||||||||||||||,C|downstream_gene_variant|MODIFIER|WASH7P|653635|Transcript|NR_024540.1|transcribed_pseudogene||||||||||1|4319|-1|SNV||EntrezGene|HGNC:38034|YES||||||||||||||||||||,C|upstream_gene_variant|MODIFIER|DDX11L1|100287102|Transcript|NR_046018.2|transcribed_pseudogene||||||||||1|1831|1|SNV||EntrezGene|HGNC:37102|YES||||||||||||||||||||,C|regulatory_region_variant|MODIFIER|||RegulatoryFeature|ENSR00000344264|CTCF_binding_site||||||||||1|||SNV||||||||||||||||||||||||;AC=1;AN=85634;AF=1.16776e-05;AC_oth=0;AF_oth=0;AC_ami=0;AF_ami=0;AC_sas=0;AF_sas=0;AC_fin=0;AF_fin=0;AC_eas=0;AF_eas=0;AC_amr=0;AF_amr=0;AC_afr=1;AF_afr=4.39367e-05;AC_mid=0;AF_mid=0;AC_asj=0;AF_asj=0;AC_nfe=0;AF_nfe=0;AC_popmax=1;AN_popmax=22760;AF_popmax=4.39367e-05', is_in_promoter=False, is_in_prox_enhancers=True, is_in_distal_enhancers=False, P_ANNO=None),\n",
       " Row(CHROM='chr11', POS=61155, ID='rs899119276', REF='A', ALT='G', QUAL='.', FILTER='AC0;AS_VQSR', INFO='K562__ref=0.21547611;HepG2__ref=0.18015452;SKNSH__ref=0.20302321;K562__alt=0.21685253;HepG2__alt=0.16156366;SKNSH__alt=0.18439193;K562__skew=0.0013764069;HepG2__skew=-0.018590862;SKNSH__skew=-0.018631274;AN_oth=10;AN_ami=2;AN_sas=0;AN_fin=8;AN_eas=0;AN_amr=10;AN_afr=300;AN_mid=2;AN_asj=0;AN_nfe=14;cadd_raw_score=0.372274;cadd_phred=5.117;vep=G|intergenic_variant|MODIFIER|||Intergenic||||||||||||1|||SNV||||||||||||||||||||||||;AC=0;AN=346;AF=0;AC_oth=0;AF_oth=0;AC_ami=0;AF_ami=0;AC_sas=0;AC_fin=0;AF_fin=0;AC_eas=0;AC_amr=0;AF_amr=0;AC_afr=0;AF_afr=0;AC_mid=0;AF_mid=0;AC_asj=0;AC_nfe=0;AF_nfe=0', is_in_promoter=False, is_in_prox_enhancers=False, is_in_distal_enhancers=False, P_ANNO=0.7710000276565552),\n",
       " Row(CHROM='chr10', POS=10266, ID='.', REF='T', ALT='A', QUAL='.', FILTER='AS_VQSR', INFO='K562__ref=0.036172275;HepG2__ref=-0.20694233;SKNSH__ref=-0.6183255;K562__alt=0.020159498;HepG2__alt=-0.22194892;SKNSH__alt=-0.63133883;K562__skew=-0.016012775;HepG2__skew=-0.015006584;SKNSH__skew=-0.013013384;AN_oth=46;AN_ami=10;AN_sas=12;AN_fin=428;AN_eas=40;AN_amr=542;AN_afr=436;AN_mid=0;AN_asj=52;AN_nfe=1160;cadd_raw_score=0.708246;cadd_phred=8.531;vep=A|downstream_gene_variant|MODIFIER|AC215217.1|ENSG00000260370|Transcript|ENST00000562162|lncRNA||||||||||1|3795|-1|SNV||Clone_based_ensembl_gene||YES|3|||||||||||||||||||,A|downstream_gene_variant|MODIFIER|AC215217.1|ENSG00000260370|Transcript|ENST00000566940|lncRNA||||||||||1|3872|-1|SNV||Clone_based_ensembl_gene|||3|||||||||||||||||||,A|upstream_gene_variant|MODIFIER|LOC102723376|102723376|Transcript|NR_110795.1|lncRNA||||||||||1|1455|1|SNV||EntrezGene||YES||||||||||||||||||||;AC=1;AN=2726;AF=0.000366838;AC_oth=0;AF_oth=0;AC_ami=0;AF_ami=0;AC_sas=0;AF_sas=0;AC_fin=0;AF_fin=0;AC_eas=0;AF_eas=0;AC_amr=0;AF_amr=0;AC_afr=0;AF_afr=0;AC_mid=0;AC_asj=0;AF_asj=0;AC_nfe=1;AF_nfe=0.000862069;AC_popmax=1;AN_popmax=1160;AF_popmax=0.000862069', is_in_promoter=False, is_in_prox_enhancers=False, is_in_distal_enhancers=False, P_ANNO=0.0),\n",
       " Row(CHROM='chr10', POS=10266, ID='.', REF='T', ALT='C', QUAL='.', FILTER='AS_VQSR', INFO='K562__ref=0.036172275;HepG2__ref=-0.20694233;SKNSH__ref=-0.6183255;K562__alt=0.040139873;HepG2__alt=-0.21346445;SKNSH__alt=-0.626555;K562__skew=0.0039675967;HepG2__skew=-0.0065221214;SKNSH__skew=-0.008229578;AN_oth=46;AN_ami=10;AN_sas=12;AN_fin=428;AN_eas=40;AN_amr=542;AN_afr=436;AN_mid=0;AN_asj=52;AN_nfe=1160;cadd_raw_score=0.75666;cadd_phred=8.974;vep=C|downstream_gene_variant|MODIFIER|AC215217.1|ENSG00000260370|Transcript|ENST00000562162|lncRNA||||||||||1|3795|-1|SNV||Clone_based_ensembl_gene||YES|3|||||||||||||||||||,C|downstream_gene_variant|MODIFIER|AC215217.1|ENSG00000260370|Transcript|ENST00000566940|lncRNA||||||||||1|3872|-1|SNV||Clone_based_ensembl_gene|||3|||||||||||||||||||,C|upstream_gene_variant|MODIFIER|LOC102723376|102723376|Transcript|NR_110795.1|lncRNA||||||||||1|1455|1|SNV||EntrezGene||YES||||||||||||||||||||;AC=1;AN=2726;AF=0.000366838;AC_oth=0;AF_oth=0;AC_ami=0;AF_ami=0;AC_sas=0;AF_sas=0;AC_fin=1;AF_fin=0.00233645;AC_eas=0;AF_eas=0;AC_amr=0;AF_amr=0;AC_afr=0;AF_afr=0;AC_mid=0;AC_asj=0;AF_asj=0;AC_nfe=0;AF_nfe=0', is_in_promoter=False, is_in_prox_enhancers=False, is_in_distal_enhancers=False, P_ANNO=0.0)]"
      ]
     },
     "execution_count": 9,
     "metadata": {},
     "output_type": "execute_result"
    }
   ],
   "source": [
    "phyloP_annotated.take(5)"
   ]
  },
  {
   "cell_type": "code",
   "execution_count": 8,
   "id": "423e7147-33ab-40f2-bcc0-9ed86050f6b6",
   "metadata": {
    "execution": {
     "iopub.execute_input": "2023-11-30T22:39:37.732658Z",
     "iopub.status.busy": "2023-11-30T22:39:37.732367Z",
     "iopub.status.idle": "2023-11-30T23:23:36.065906Z",
     "shell.execute_reply": "2023-11-30T23:23:36.065311Z"
    },
    "tags": []
   },
   "outputs": [
    {
     "name": "stderr",
     "output_type": "stream",
     "text": [
      "23/11/30 17:39:45 WARN GarbageCollectionMetrics: To enable non-built-in garbage collector(s) List(G1 Concurrent GC), users should configure it(them) to spark.eventLog.gcMetrics.youngGenerationGarbageCollectors or spark.eventLog.gcMetrics.oldGenerationGarbageCollectors\n",
      "                                                                                                                                                                                    \r"
     ]
    }
   ],
   "source": [
    "phyloP_annotated.write.csv(\"/home/mcn26/varef/scripts/noon_scripts/1.annotate/annotated_output\", header=True, mode=\"overwrite\")"
   ]
  }
 ],
 "metadata": {
  "kernelspec": {
   "display_name": "Python 3 (ipykernel)",
   "language": "python",
   "name": "python3"
  },
  "language_info": {
   "codemirror_mode": {
    "name": "ipython",
    "version": 3
   },
   "file_extension": ".py",
   "mimetype": "text/x-python",
   "name": "python",
   "nbconvert_exporter": "python",
   "pygments_lexer": "ipython3",
   "version": "3.10.12"
  }
 },
 "nbformat": 4,
 "nbformat_minor": 5
}
