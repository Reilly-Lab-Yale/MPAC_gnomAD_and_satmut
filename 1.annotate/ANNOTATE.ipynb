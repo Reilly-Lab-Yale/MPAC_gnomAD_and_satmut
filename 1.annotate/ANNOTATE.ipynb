{
 "cells": [
  {
   "cell_type": "markdown",
   "id": "b616ec91-60ec-4a6b-acf0-10276eb6a069",
   "metadata": {},
   "source": [
    "This notebook annotates all gnomad variants with their corresponding malinouis predictions, the phyloP scores associated with their genomic locations, and the genomic regions (enhancer or not) they fall within. \n",
    "\n",
    "(Execute notebook after crunching wig into csv, as per other file)\n",
    "\n",
    "## Import relevant libraries"
   ]
  },
  {
   "cell_type": "code",
   "execution_count": 24,
   "id": "ee846e1e-6265-45e6-8b6b-1b11261fdd1f",
   "metadata": {
    "execution": {
     "iopub.execute_input": "2023-12-06T18:43:19.717592Z",
     "iopub.status.busy": "2023-12-06T18:43:19.717312Z",
     "iopub.status.idle": "2023-12-06T18:43:19.720177Z",
     "shell.execute_reply": "2023-12-06T18:43:19.719801Z",
     "shell.execute_reply.started": "2023-12-06T18:43:19.717575Z"
    },
    "tags": []
   },
   "outputs": [],
   "source": [
    "from pyspark import SparkConf, SparkContext\n",
    "from pyspark.sql import SparkSession\n",
    "from pyspark.sql.types import StructType, StructField, StringType, IntegerType, FloatType\n",
    "import pyspark.sql.functions as F"
   ]
  },
  {
   "cell_type": "markdown",
   "id": "11021805-1df7-4ba6-99e8-28cf49efab35",
   "metadata": {},
   "source": [
    "## Create spark session"
   ]
  },
  {
   "cell_type": "code",
   "execution_count": 25,
   "id": "ae2690fc-67a5-4da4-a561-1dbb9a77a923",
   "metadata": {
    "execution": {
     "iopub.execute_input": "2023-12-06T18:43:20.538292Z",
     "iopub.status.busy": "2023-12-06T18:43:20.538004Z",
     "iopub.status.idle": "2023-12-06T18:43:21.019227Z",
     "shell.execute_reply": "2023-12-06T18:43:21.018794Z",
     "shell.execute_reply.started": "2023-12-06T18:43:20.538275Z"
    },
    "tags": []
   },
   "outputs": [],
   "source": [
    "if 'spark' in locals() and spark!=None:\n",
    "    spark.stop()\n",
    "\n",
    "    #are we running the actual script, or just testing?\n",
    "for_real=False\n",
    "\n",
    "spark=None\n",
    "\n",
    "spark = SparkSession.builder \\\n",
    "    .appName(\"ANNOTATE\") \\\n",
    "    .config(\"spark.executor.memory\", \"1900g\") \\\n",
    "    .config(\"spark.executor.cores\", \"22\") \\\n",
    "    .config(\"spark.driver.memory\", \"16g\") \\\n",
    "    .getOrCreate()"
   ]
  },
  {
   "cell_type": "markdown",
   "id": "59038842-6670-405b-854a-e396a81937b3",
   "metadata": {
    "execution": {
     "iopub.execute_input": "2023-12-04T20:12:15.259216Z",
     "iopub.status.busy": "2023-12-04T20:12:15.258913Z",
     "iopub.status.idle": "2023-12-04T20:12:15.263593Z",
     "shell.execute_reply": "2023-12-04T20:12:15.263195Z",
     "shell.execute_reply.started": "2023-12-04T20:12:15.259196Z"
    },
    "tags": []
   },
   "source": [
    "## load in data"
   ]
  },
  {
   "cell_type": "code",
   "execution_count": 26,
   "id": "9970c4b9-2069-407a-9ca4-781abfca2914",
   "metadata": {
    "execution": {
     "iopub.execute_input": "2023-12-06T18:43:22.394615Z",
     "iopub.status.busy": "2023-12-06T18:43:22.394138Z",
     "iopub.status.idle": "2023-12-06T18:43:22.462504Z",
     "shell.execute_reply": "2023-12-06T18:43:22.462068Z",
     "shell.execute_reply.started": "2023-12-06T18:43:22.394596Z"
    },
    "tags": []
   },
   "outputs": [],
   "source": [
    "\n",
    "#define the phylop tsv schema\n",
    "phylop_schema = StructType([\n",
    "    StructField(\"CHROM\", StringType(), True),\n",
    "    StructField(\"POS\", IntegerType(), True),\n",
    "    StructField(\"P_ANNO\", FloatType(), True),\n",
    "])\n",
    "\n",
    "#read in the phylop tsv\n",
    "phylop_anno = spark.read \\\n",
    "    .option(\"comment\", \"#\") \\\n",
    "    .option(\"delimiter\", \"\\t\") \\\n",
    "    .schema(phylop_schema) \\\n",
    "    .csv(\"/home/mcn26/varef/scripts/noon_data/1.annotate/out_processed.tsv\", header=False)\n",
    "\n",
    "#define the vcf schema\n",
    "vcf_schema = StructType([\n",
    "    StructField(\"CHROM\", StringType(), True),\n",
    "    StructField(\"POS\", IntegerType(), True),\n",
    "    StructField(\"ID\", StringType(), True),\n",
    "    StructField(\"REF\", StringType(), True),\n",
    "    StructField(\"ALT\", StringType(), True),\n",
    "    StructField(\"QUAL\", StringType(), True),\n",
    "    StructField(\"FILTER\", StringType(), True),\n",
    "    StructField(\"INFO\", StringType(), True),\n",
    "\n",
    "])\n",
    "\n",
    "#read in the vcf data\n",
    "vcf = spark.read \\\n",
    "    .option(\"comment\", \"#\") \\\n",
    "    .option(\"delimiter\", \"\\t\") \\\n",
    "    .schema(vcf_schema) \\\n",
    "    .csv(\"/gpfs/gibbs/pi/reilly/VariantEffects/scripts/noon_data/0.merge/out/*.vcf.gz\", header=False)\n",
    "\n",
    "\n",
    "#define genomic region annotation (bed file) schema\n",
    "bed_schema = StructType([\n",
    "    StructField(\"CHROM\", StringType(), True),\n",
    "    StructField(\"START\", IntegerType(), True),\n",
    "    StructField(\"STOP\", StringType(), True),\n",
    "])\n",
    "\n",
    "#load the encode enhancer datasets\n",
    "\n",
    "CRE_BASEPATH=\"/home/mcn26/varef/data/ENCODE/SCREEN_v4_cCREs_agnostic/\"\n",
    "\n",
    "promoters=spark.read \\\n",
    "    .schema(bed_schema) \\\n",
    "    .option(\"delimiter\", \"\\t\") \\\n",
    "    .csv(CRE_BASEPATH+\"GRCh38-PLS.V4.bed.gz\")\n",
    "\n",
    "\n",
    "prox_enhancers=spark.read \\\n",
    "    .schema(bed_schema) \\\n",
    "    .option(\"delimiter\", \"\\t\") \\\n",
    "    .csv(CRE_BASEPATH+\"GRCh38-pELS.V4.bed.gz\")\n",
    "\n",
    "distal_enhancers=spark.read \\\n",
    "    .schema(bed_schema) \\\n",
    "    .option(\"delimiter\", \"\\t\") \\\n",
    "    .csv(CRE_BASEPATH+\"GRCh38-dELS.V4.bed.gz\")"
   ]
  },
  {
   "cell_type": "markdown",
   "id": "891727bc-f3b2-4e03-8414-bae204ad3c5f",
   "metadata": {},
   "source": [
    "## Split relevant information from the VCF info field"
   ]
  },
  {
   "cell_type": "code",
   "execution_count": 27,
   "id": "e899f207-7cc0-467b-8f7e-92f2216b1457",
   "metadata": {
    "execution": {
     "iopub.execute_input": "2023-12-06T18:43:24.084456Z",
     "iopub.status.busy": "2023-12-06T18:43:24.084176Z",
     "iopub.status.idle": "2023-12-06T18:43:24.169874Z",
     "shell.execute_reply": "2023-12-06T18:43:24.169432Z",
     "shell.execute_reply.started": "2023-12-06T18:43:24.084438Z"
    },
    "tags": []
   },
   "outputs": [],
   "source": [
    "####The `INFO` field contains a lot of useful information, but it is all smashed together into a string. \n",
    "#Let's extract information from that string. \n",
    "\n",
    "keys_to_extract = [#NONE CAN BE SUBSTRINGS OF THE OTHERS\n",
    "    \"K562__ref\", \"HepG2__ref\", \"SKNSH__ref\", \"K562__alt\", \"HepG2__alt\", \"SKNSH__alt\",\n",
    "    \"K562__skew\", \"HepG2__skew\", \"SKNSH__skew\", \"AC\", \"AN\", \"AF\", \"cadd_phred\",# \"P_ANNO\" already in its own column\n",
    "]\n",
    "\n",
    "# Apply the regexp_extract function to the DataFrame to create new columns for each key.\n",
    "# The expression '([^;]*)' captures any sequence of characters that are not a semicolon,\n",
    "# which is assumed to be the delimiter for the key-value pairs in the 'INFO' column.\n",
    "\n",
    "for key in keys_to_extract:\n",
    "\n",
    "    #df = df.withColumn(key, regexp_extract(col(\"INFO\"), \"{}=([^;]+);?\".format(key), 1))\n",
    "    #when we find something put it, whne we don't put None\n",
    "    vcf = vcf.withColumn(key, \n",
    "                       F.when(\n",
    "                           F.regexp_extract(F.col(\"INFO\"), \"{}=([^;]+);?\".format(key), 1) != \"\",\n",
    "                           F.regexp_extract(F.col(\"INFO\"), \"{}=([^;]+);?\".format(key), 1)).otherwise(None))"
   ]
  },
  {
   "cell_type": "markdown",
   "id": "01ab95dd-2e3f-4a5a-8973-eb242cdf3f29",
   "metadata": {},
   "source": [
    "## Filter out the gorp\n",
    "\n",
    "- Filter out the gorp\n",
    "    - Remove low-quality variants that don't pass GNOMAD's own filters.\n",
    "    - Remove low-quality variants not queried in a large number of individuals\n",
    "    - Remove variants with a MAF of 0 (they don't really \"vary\") in the population if they dont exist.\n",
    "    - Remove those variants that don't have all of the relevant metrics."
   ]
  },
  {
   "cell_type": "code",
   "execution_count": 28,
   "id": "65f2af8f-c370-4f41-a571-9748c9cdf476",
   "metadata": {
    "execution": {
     "iopub.execute_input": "2023-12-06T18:43:25.554207Z",
     "iopub.status.busy": "2023-12-06T18:43:25.553725Z",
     "iopub.status.idle": "2023-12-06T18:43:25.564777Z",
     "shell.execute_reply": "2023-12-06T18:43:25.564359Z",
     "shell.execute_reply.started": "2023-12-06T18:43:25.554190Z"
    },
    "tags": []
   },
   "outputs": [],
   "source": [
    "vcf = vcf.filter(\n",
    "    #make sure we have the necessary population stats\n",
    "    (F.col(\"AF\").isNotNull()) & \n",
    "    (F.col(\"AC\").isNotNull()) & \n",
    "    (F.col(\"AN\").isNotNull()) & \n",
    "    \n",
    "    #make sure we a cadd_phred score\n",
    "    (F.col(\"cadd_phred\").isNotNull()) & \n",
    "\n",
    "    #check variant has been queried in a reasonably large number of people\n",
    "    #same as gnomad's own warning threshold\n",
    "    (F.col(\"AN\").cast(\"int\") > 38077) &\n",
    "    \n",
    "    #gnomad filters passed. See original gnomad vcf header for spec.\n",
    "    (F.col(\"FILTER\") == \"PASS\") \n",
    "    \n",
    "    #(col(\"CHROM\") == \"chr22\") &\n",
    ")"
   ]
  },
  {
   "cell_type": "markdown",
   "id": "1dc577c9-6f52-4942-a342-1f465285745d",
   "metadata": {},
   "source": [
    "## Add the genomic region annotations"
   ]
  },
  {
   "cell_type": "code",
   "execution_count": 29,
   "id": "c98be64d-19f3-4925-a49a-6145a3d2e96c",
   "metadata": {
    "execution": {
     "iopub.execute_input": "2023-12-06T18:43:26.963304Z",
     "iopub.status.busy": "2023-12-06T18:43:26.962819Z",
     "iopub.status.idle": "2023-12-06T18:43:26.966453Z",
     "shell.execute_reply": "2023-12-06T18:43:26.966067Z",
     "shell.execute_reply.started": "2023-12-06T18:43:26.963285Z"
    },
    "tags": []
   },
   "outputs": [],
   "source": [
    "def add_genomic_annotation(loci,regions,name):\n",
    "    \n",
    "\n",
    "    # as usual, we have to worry about coordinate systems\n",
    "    # VCFs are 1-based\n",
    "    # BEDs are 0-based\n",
    "    # Chr1        T   A   C   G   T\n",
    "    #           | | | | | | | | | |\n",
    "    # 1 based   | 1 | 2 | 3 | 4 | 5\n",
    "    # 0 based   0   1   2   3   4\n",
    "\n",
    "    result = loci.join(\n",
    "        regions,\n",
    "        (loci.CHROM == regions.CHROM) & \n",
    "        (loci.POS > regions.START) & \n",
    "        (loci.POS <= regions.STOP),\n",
    "        how='left'\n",
    "    )\n",
    "\n",
    "    # Add a boolean column 'is_in_region'\n",
    "    result = result.withColumn(\"is_in_\"+name, F.col(\"start\").isNotNull())\n",
    "\n",
    "    # Select only columns from df_loci and the new boolean column\n",
    "    final_result = result.select(loci[\"*\"], \"is_in_\"+name)\n",
    "    \n",
    "    return final_result"
   ]
  },
  {
   "cell_type": "code",
   "execution_count": 30,
   "id": "c43c6be7-3856-4473-9b9e-82d8c3ec5bbf",
   "metadata": {
    "execution": {
     "iopub.execute_input": "2023-12-06T18:43:28.427969Z",
     "iopub.status.busy": "2023-12-06T18:43:28.427682Z",
     "iopub.status.idle": "2023-12-06T18:43:28.497953Z",
     "shell.execute_reply": "2023-12-06T18:43:28.497494Z",
     "shell.execute_reply.started": "2023-12-06T18:43:28.427952Z"
    },
    "tags": []
   },
   "outputs": [],
   "source": [
    "genomic_regions_added=add_genomic_annotation(loci=vcf,regions=promoters,name=\"promoter\")\n",
    "genomic_regions_added=add_genomic_annotation(loci=genomic_regions_added,regions=prox_enhancers,name=\"prox_enhancers\")\n",
    "genomic_regions_added=add_genomic_annotation(loci=genomic_regions_added,regions=distal_enhancers,name=\"distal_enhancers\")"
   ]
  },
  {
   "cell_type": "markdown",
   "id": "a39a8b8c-c85d-4bcc-806a-74d941566215",
   "metadata": {},
   "source": [
    "## Add the phyloP annotations"
   ]
  },
  {
   "cell_type": "code",
   "execution_count": 31,
   "id": "3ebf30b3-0042-4a9d-a028-236ef1261fe8",
   "metadata": {
    "execution": {
     "iopub.execute_input": "2023-12-06T18:43:29.755022Z",
     "iopub.status.busy": "2023-12-06T18:43:29.754544Z",
     "iopub.status.idle": "2023-12-06T18:43:29.765893Z",
     "shell.execute_reply": "2023-12-06T18:43:29.765467Z",
     "shell.execute_reply.started": "2023-12-06T18:43:29.755005Z"
    },
    "tags": []
   },
   "outputs": [],
   "source": [
    "phyloP_annotated = genomic_regions_added.join(phylop_anno, on=[\"CHROM\", \"POS\"], how=\"inner\")\n",
    "#inner join means we'll drop all those variants without scores..."
   ]
  },
  {
   "cell_type": "markdown",
   "id": "2122d4af-2587-42af-8c3c-5f3b729f3067",
   "metadata": {},
   "source": [
    "Compute mean malinouis reference activity and mean malinouis skew"
   ]
  },
  {
   "cell_type": "code",
   "execution_count": 32,
   "id": "30db1f0c-7283-47f4-aa8f-8f9d3a1302de",
   "metadata": {
    "execution": {
     "iopub.execute_input": "2023-12-06T18:43:31.306668Z",
     "iopub.status.busy": "2023-12-06T18:43:31.306278Z",
     "iopub.status.idle": "2023-12-06T18:43:31.363347Z",
     "shell.execute_reply": "2023-12-06T18:43:31.362808Z",
     "shell.execute_reply.started": "2023-12-06T18:43:31.306650Z"
    },
    "tags": []
   },
   "outputs": [],
   "source": [
    "#reference activity\n",
    "\n",
    "phyloP_annotated = phyloP_annotated.withColumn(\"K562__ref\", F.col(\"K562__ref\").cast(\"float\"))\n",
    "phyloP_annotated = phyloP_annotated.withColumn(\"HepG2__ref\", F.col(\"HepG2__ref\").cast(\"float\"))\n",
    "phyloP_annotated = phyloP_annotated.withColumn(\"SKNSH__ref\", F.col(\"SKNSH__ref\").cast(\"float\"))\n",
    "\n",
    "phyloP_annotated=phyloP_annotated.withColumn(\"mean_ref\", (F.col(\"K562__ref\") + F.col(\"HepG2__ref\") + F.col(\"SKNSH__ref\")) / 3)\n",
    "\n",
    "#skew\n",
    "phyloP_annotated = phyloP_annotated.withColumn(\"K562__skew\", F.col(\"K562__skew\").cast(\"float\"))\n",
    "phyloP_annotated = phyloP_annotated.withColumn(\"HepG2__skew\", F.col(\"HepG2__skew\").cast(\"float\"))\n",
    "phyloP_annotated = phyloP_annotated.withColumn(\"SKNSH__skew\", F.col(\"SKNSH__skew\").cast(\"float\"))\n",
    "\n",
    "phyloP_annotated=phyloP_annotated.withColumn(\"mean_skew\", (F.col(\"K562__skew\") + F.col(\"HepG2__skew\") + F.col(\"SKNSH__skew\")) / 3)"
   ]
  },
  {
   "cell_type": "markdown",
   "id": "5a7e3a92-4957-4726-8035-2a03d7148ad6",
   "metadata": {},
   "source": [
    "## Add rarity codes"
   ]
  },
  {
   "cell_type": "code",
   "execution_count": 33,
   "id": "2e421adf-7bd0-439a-8b27-5c2da6102475",
   "metadata": {
    "execution": {
     "iopub.execute_input": "2023-12-06T18:43:32.498000Z",
     "iopub.status.busy": "2023-12-06T18:43:32.497510Z",
     "iopub.status.idle": "2023-12-06T18:43:32.536614Z",
     "shell.execute_reply": "2023-12-06T18:43:32.536169Z",
     "shell.execute_reply.started": "2023-12-06T18:43:32.497982Z"
    },
    "tags": []
   },
   "outputs": [],
   "source": [
    "# First, convert 'AC' and 'AF' to integer and float types respectively using withColumn\n",
    "df = phyloP_annotated.withColumn(\"AC\", F.col(\"AC\").cast(\"int\"))\n",
    "df = df.withColumn(\"AF\", F.col(\"AF\").cast(\"float\"))\n",
    "\n",
    "# Calculate MAF using the Spark SQL functions\n",
    "df = df.withColumn(\"MAF\", F.least(F.col(\"AF\"), 1 - F.col(\"AF\")))\n",
    "\n",
    "# Use the `when` function to apply the conditional logic\n",
    "df = df.withColumn(\"category\", \n",
    "                   F.when((F.col(\"MAF\") == 0.0) | (F.col(\"AC\") == 0), \"MAF_OR_AC_IS_ZERO\")\n",
    "                    .when(F.col(\"AC\") == 1, \"SINGLETON\")\n",
    "                    .when(F.col(\"MAF\") < 0.01 / 100, \"ULTRARARE\")\n",
    "                    .when(F.col(\"MAF\") < 0.1 / 100, \"RARE\")\n",
    "                    .when(F.col(\"MAF\") < 1 / 100, \"LOW_FREQ\")\n",
    "                    .otherwise(\"COMMON\"))"
   ]
  },
  {
   "cell_type": "code",
   "execution_count": 34,
   "id": "423e7147-33ab-40f2-bcc0-9ed86050f6b6",
   "metadata": {
    "execution": {
     "iopub.execute_input": "2023-12-06T18:43:33.971254Z",
     "iopub.status.busy": "2023-12-06T18:43:33.970869Z",
     "iopub.status.idle": "2023-12-06T18:43:39.189052Z",
     "shell.execute_reply": "2023-12-06T18:43:39.187888Z",
     "shell.execute_reply.started": "2023-12-06T18:43:33.971235Z"
    },
    "tags": []
   },
   "outputs": [
    {
     "name": "stderr",
     "output_type": "stream",
     "text": [
      "23/12/06 13:43:34 WARN SparkStringUtils: Truncated the string representation of a plan since it was too large. This behavior can be adjusted by setting 'spark.sql.debug.maxToStringFields'.\n",
      "ERROR:root:KeyboardInterrupt while sending command.               (0 + 5) / 444]\n",
      "Traceback (most recent call last):\n",
      "  File \"/home/mcn26/.conda/envs/mcn_vareff/lib/python3.10/site-packages/py4j/java_gateway.py\", line 1038, in send_command\n",
      "    response = connection.send_command(command)\n",
      "  File \"/home/mcn26/.conda/envs/mcn_vareff/lib/python3.10/site-packages/py4j/clientserver.py\", line 511, in send_command\n",
      "    answer = smart_decode(self.stream.readline()[:-1])\n",
      "  File \"/home/mcn26/.conda/envs/mcn_vareff/lib/python3.10/socket.py\", line 705, in readinto\n",
      "    return self._sock.recv_into(b)\n",
      "KeyboardInterrupt\n"
     ]
    },
    {
     "ename": "KeyboardInterrupt",
     "evalue": "",
     "output_type": "error",
     "traceback": [
      "\u001b[0;31m---------------------------------------------------------------------------\u001b[0m",
      "\u001b[0;31mKeyboardInterrupt\u001b[0m                         Traceback (most recent call last)",
      "Cell \u001b[0;32mIn[34], line 1\u001b[0m\n\u001b[0;32m----> 1\u001b[0m \u001b[43mdf\u001b[49m\u001b[38;5;241;43m.\u001b[39;49m\u001b[43mwrite\u001b[49m\u001b[38;5;241;43m.\u001b[39;49m\u001b[43mcsv\u001b[49m\u001b[43m(\u001b[49m\u001b[38;5;124;43m\"\u001b[39;49m\u001b[38;5;124;43m/home/mcn26/varef/scripts/noon_data/1.annotate/annotated_output.csv\u001b[39;49m\u001b[38;5;124;43m\"\u001b[39;49m\u001b[43m,\u001b[49m\u001b[43m \u001b[49m\u001b[43mheader\u001b[49m\u001b[38;5;241;43m=\u001b[39;49m\u001b[38;5;28;43;01mTrue\u001b[39;49;00m\u001b[43m,\u001b[49m\u001b[43m \u001b[49m\u001b[43mmode\u001b[49m\u001b[38;5;241;43m=\u001b[39;49m\u001b[38;5;124;43m\"\u001b[39;49m\u001b[38;5;124;43moverwrite\u001b[39;49m\u001b[38;5;124;43m\"\u001b[39;49m\u001b[43m)\u001b[49m\n",
      "File \u001b[0;32m~/.conda/envs/mcn_vareff/lib/python3.10/site-packages/pyspark/sql/readwriter.py:1864\u001b[0m, in \u001b[0;36mDataFrameWriter.csv\u001b[0;34m(self, path, mode, compression, sep, quote, escape, header, nullValue, escapeQuotes, quoteAll, dateFormat, timestampFormat, ignoreLeadingWhiteSpace, ignoreTrailingWhiteSpace, charToEscapeQuoteEscaping, encoding, emptyValue, lineSep)\u001b[0m\n\u001b[1;32m   1845\u001b[0m \u001b[38;5;28mself\u001b[39m\u001b[38;5;241m.\u001b[39mmode(mode)\n\u001b[1;32m   1846\u001b[0m \u001b[38;5;28mself\u001b[39m\u001b[38;5;241m.\u001b[39m_set_opts(\n\u001b[1;32m   1847\u001b[0m     compression\u001b[38;5;241m=\u001b[39mcompression,\n\u001b[1;32m   1848\u001b[0m     sep\u001b[38;5;241m=\u001b[39msep,\n\u001b[0;32m   (...)\u001b[0m\n\u001b[1;32m   1862\u001b[0m     lineSep\u001b[38;5;241m=\u001b[39mlineSep,\n\u001b[1;32m   1863\u001b[0m )\n\u001b[0;32m-> 1864\u001b[0m \u001b[38;5;28;43mself\u001b[39;49m\u001b[38;5;241;43m.\u001b[39;49m\u001b[43m_jwrite\u001b[49m\u001b[38;5;241;43m.\u001b[39;49m\u001b[43mcsv\u001b[49m\u001b[43m(\u001b[49m\u001b[43mpath\u001b[49m\u001b[43m)\u001b[49m\n",
      "File \u001b[0;32m~/.conda/envs/mcn_vareff/lib/python3.10/site-packages/py4j/java_gateway.py:1321\u001b[0m, in \u001b[0;36mJavaMember.__call__\u001b[0;34m(self, *args)\u001b[0m\n\u001b[1;32m   1314\u001b[0m args_command, temp_args \u001b[38;5;241m=\u001b[39m \u001b[38;5;28mself\u001b[39m\u001b[38;5;241m.\u001b[39m_build_args(\u001b[38;5;241m*\u001b[39margs)\n\u001b[1;32m   1316\u001b[0m command \u001b[38;5;241m=\u001b[39m proto\u001b[38;5;241m.\u001b[39mCALL_COMMAND_NAME \u001b[38;5;241m+\u001b[39m\\\n\u001b[1;32m   1317\u001b[0m     \u001b[38;5;28mself\u001b[39m\u001b[38;5;241m.\u001b[39mcommand_header \u001b[38;5;241m+\u001b[39m\\\n\u001b[1;32m   1318\u001b[0m     args_command \u001b[38;5;241m+\u001b[39m\\\n\u001b[1;32m   1319\u001b[0m     proto\u001b[38;5;241m.\u001b[39mEND_COMMAND_PART\n\u001b[0;32m-> 1321\u001b[0m answer \u001b[38;5;241m=\u001b[39m \u001b[38;5;28;43mself\u001b[39;49m\u001b[38;5;241;43m.\u001b[39;49m\u001b[43mgateway_client\u001b[49m\u001b[38;5;241;43m.\u001b[39;49m\u001b[43msend_command\u001b[49m\u001b[43m(\u001b[49m\u001b[43mcommand\u001b[49m\u001b[43m)\u001b[49m\n\u001b[1;32m   1322\u001b[0m return_value \u001b[38;5;241m=\u001b[39m get_return_value(\n\u001b[1;32m   1323\u001b[0m     answer, \u001b[38;5;28mself\u001b[39m\u001b[38;5;241m.\u001b[39mgateway_client, \u001b[38;5;28mself\u001b[39m\u001b[38;5;241m.\u001b[39mtarget_id, \u001b[38;5;28mself\u001b[39m\u001b[38;5;241m.\u001b[39mname)\n\u001b[1;32m   1325\u001b[0m \u001b[38;5;28;01mfor\u001b[39;00m temp_arg \u001b[38;5;129;01min\u001b[39;00m temp_args:\n",
      "File \u001b[0;32m~/.conda/envs/mcn_vareff/lib/python3.10/site-packages/py4j/java_gateway.py:1038\u001b[0m, in \u001b[0;36mGatewayClient.send_command\u001b[0;34m(self, command, retry, binary)\u001b[0m\n\u001b[1;32m   1036\u001b[0m connection \u001b[38;5;241m=\u001b[39m \u001b[38;5;28mself\u001b[39m\u001b[38;5;241m.\u001b[39m_get_connection()\n\u001b[1;32m   1037\u001b[0m \u001b[38;5;28;01mtry\u001b[39;00m:\n\u001b[0;32m-> 1038\u001b[0m     response \u001b[38;5;241m=\u001b[39m \u001b[43mconnection\u001b[49m\u001b[38;5;241;43m.\u001b[39;49m\u001b[43msend_command\u001b[49m\u001b[43m(\u001b[49m\u001b[43mcommand\u001b[49m\u001b[43m)\u001b[49m\n\u001b[1;32m   1039\u001b[0m     \u001b[38;5;28;01mif\u001b[39;00m binary:\n\u001b[1;32m   1040\u001b[0m         \u001b[38;5;28;01mreturn\u001b[39;00m response, \u001b[38;5;28mself\u001b[39m\u001b[38;5;241m.\u001b[39m_create_connection_guard(connection)\n",
      "File \u001b[0;32m~/.conda/envs/mcn_vareff/lib/python3.10/site-packages/py4j/clientserver.py:511\u001b[0m, in \u001b[0;36mClientServerConnection.send_command\u001b[0;34m(self, command)\u001b[0m\n\u001b[1;32m    509\u001b[0m \u001b[38;5;28;01mtry\u001b[39;00m:\n\u001b[1;32m    510\u001b[0m     \u001b[38;5;28;01mwhile\u001b[39;00m \u001b[38;5;28;01mTrue\u001b[39;00m:\n\u001b[0;32m--> 511\u001b[0m         answer \u001b[38;5;241m=\u001b[39m smart_decode(\u001b[38;5;28;43mself\u001b[39;49m\u001b[38;5;241;43m.\u001b[39;49m\u001b[43mstream\u001b[49m\u001b[38;5;241;43m.\u001b[39;49m\u001b[43mreadline\u001b[49m\u001b[43m(\u001b[49m\u001b[43m)\u001b[49m[:\u001b[38;5;241m-\u001b[39m\u001b[38;5;241m1\u001b[39m])\n\u001b[1;32m    512\u001b[0m         logger\u001b[38;5;241m.\u001b[39mdebug(\u001b[38;5;124m\"\u001b[39m\u001b[38;5;124mAnswer received: \u001b[39m\u001b[38;5;132;01m{0}\u001b[39;00m\u001b[38;5;124m\"\u001b[39m\u001b[38;5;241m.\u001b[39mformat(answer))\n\u001b[1;32m    513\u001b[0m         \u001b[38;5;66;03m# Happens when a the other end is dead. There might be an empty\u001b[39;00m\n\u001b[1;32m    514\u001b[0m         \u001b[38;5;66;03m# answer before the socket raises an error.\u001b[39;00m\n",
      "File \u001b[0;32m~/.conda/envs/mcn_vareff/lib/python3.10/socket.py:705\u001b[0m, in \u001b[0;36mSocketIO.readinto\u001b[0;34m(self, b)\u001b[0m\n\u001b[1;32m    703\u001b[0m \u001b[38;5;28;01mwhile\u001b[39;00m \u001b[38;5;28;01mTrue\u001b[39;00m:\n\u001b[1;32m    704\u001b[0m     \u001b[38;5;28;01mtry\u001b[39;00m:\n\u001b[0;32m--> 705\u001b[0m         \u001b[38;5;28;01mreturn\u001b[39;00m \u001b[38;5;28;43mself\u001b[39;49m\u001b[38;5;241;43m.\u001b[39;49m\u001b[43m_sock\u001b[49m\u001b[38;5;241;43m.\u001b[39;49m\u001b[43mrecv_into\u001b[49m\u001b[43m(\u001b[49m\u001b[43mb\u001b[49m\u001b[43m)\u001b[49m\n\u001b[1;32m    706\u001b[0m     \u001b[38;5;28;01mexcept\u001b[39;00m timeout:\n\u001b[1;32m    707\u001b[0m         \u001b[38;5;28mself\u001b[39m\u001b[38;5;241m.\u001b[39m_timeout_occurred \u001b[38;5;241m=\u001b[39m \u001b[38;5;28;01mTrue\u001b[39;00m\n",
      "\u001b[0;31mKeyboardInterrupt\u001b[0m: "
     ]
    },
    {
     "name": "stderr",
     "output_type": "stream",
     "text": [
      "[Stage 3:>                (5 + 6) / 444][Stage 4:>                 (0 + 0) / 22]\r"
     ]
    }
   ],
   "source": [
    "df.write.csv(\"/home/mcn26/varef/scripts/noon_data/1.annotate/annotated_output.csv\", header=True, mode=\"overwrite\")"
   ]
  }
 ],
 "metadata": {
  "kernelspec": {
   "display_name": "Python 3 (ipykernel)",
   "language": "python",
   "name": "python3"
  },
  "language_info": {
   "codemirror_mode": {
    "name": "ipython",
    "version": 3
   },
   "file_extension": ".py",
   "mimetype": "text/x-python",
   "name": "python",
   "nbconvert_exporter": "python",
   "pygments_lexer": "ipython3",
   "version": "3.10.12"
  }
 },
 "nbformat": 4,
 "nbformat_minor": 5
}
