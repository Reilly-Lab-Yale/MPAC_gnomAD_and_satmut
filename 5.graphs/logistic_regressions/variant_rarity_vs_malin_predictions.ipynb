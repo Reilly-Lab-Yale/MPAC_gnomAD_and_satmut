{
 "cells": [
  {
   "cell_type": "code",
   "execution_count": 10,
   "id": "2b4b2448-1a94-4557-89ce-5fcc77aeddb5",
   "metadata": {
    "execution": {
     "iopub.execute_input": "2024-02-26T23:01:50.995127Z",
     "iopub.status.busy": "2024-02-26T23:01:50.994747Z",
     "iopub.status.idle": "2024-02-26T23:01:50.997675Z",
     "shell.execute_reply": "2024-02-26T23:01:50.997323Z",
     "shell.execute_reply.started": "2024-02-26T23:01:50.995110Z"
    },
    "tags": []
   },
   "outputs": [],
   "source": [
    "from pyspark import SparkConf, SparkContext\n",
    "from pyspark.sql import SparkSession\n",
    "from pyspark.ml import Pipeline\n",
    "from pyspark.ml.classification import LogisticRegression\n",
    "from pyspark.ml.feature import VectorAssembler\n",
    "from pyspark.ml.evaluation import BinaryClassificationEvaluator\n",
    "from pyspark.sql import functions as F\n",
    "import pyspark.sql.types as T"
   ]
  },
  {
   "cell_type": "code",
   "execution_count": 15,
   "id": "5404e7e2-69e3-440b-afbc-10c46f284ed9",
   "metadata": {
    "execution": {
     "iopub.execute_input": "2024-02-26T23:10:44.883161Z",
     "iopub.status.busy": "2024-02-26T23:10:44.882720Z",
     "iopub.status.idle": "2024-02-26T23:10:46.170250Z",
     "shell.execute_reply": "2024-02-26T23:10:46.169881Z",
     "shell.execute_reply.started": "2024-02-26T23:10:44.883143Z"
    },
    "tags": []
   },
   "outputs": [
    {
     "data": {
      "text/plain": [
       "<module 'graphing_config' from '/gpfs/gibbs/pi/reilly/VariantEffects/scripts/noon_scripts/5.graphs/logistic_regressions/graphing_config.py'>"
      ]
     },
     "execution_count": 15,
     "metadata": {},
     "output_type": "execute_result"
    }
   ],
   "source": [
    "#importlib code just for debugging : to allow changes in scripts we are imporing from\n",
    "#reflect here. It can be removed if you are not making changes to the scripts we are imporing from\n",
    "\n",
    "import importlib ##can remove\n",
    "import graphing_config as GC\n",
    "importlib.reload(GC) ##can remove\n"
   ]
  },
  {
   "cell_type": "code",
   "execution_count": 4,
   "id": "471c6824-03b9-4057-b042-4162062cbf78",
   "metadata": {
    "execution": {
     "iopub.execute_input": "2024-02-26T22:56:43.524156Z",
     "iopub.status.busy": "2024-02-26T22:56:43.523784Z",
     "iopub.status.idle": "2024-02-26T22:56:48.963767Z",
     "shell.execute_reply": "2024-02-26T22:56:48.963275Z",
     "shell.execute_reply.started": "2024-02-26T22:56:43.524140Z"
    },
    "tags": []
   },
   "outputs": [
    {
     "name": "stderr",
     "output_type": "stream",
     "text": [
      "Setting default log level to \"WARN\".\n",
      "To adjust logging level use sc.setLogLevel(newLevel). For SparkR, use setLogLevel(newLevel).\n",
      "24/02/26 17:56:47 WARN NativeCodeLoader: Unable to load native-hadoop library for your platform... using builtin-java classes where applicable\n"
     ]
    }
   ],
   "source": [
    "conf = SparkConf() \\\n",
    "    .setAppName(\"logreg_malin_vs_rare/common\")\\\n",
    "\n",
    "# Create a SparkContext with the specified configurations\n",
    "if 'spark' in locals() and spark!=None:\n",
    "    spark.stop()\n",
    "\n",
    "sc = SparkContext(conf=conf)\n",
    "\n",
    "# Create a SparkSession from the SparkContext\n",
    "spark = SparkSession(sc)"
   ]
  },
  {
   "cell_type": "code",
   "execution_count": 6,
   "id": "23b1318c-5e5e-420c-b076-964e93a561f4",
   "metadata": {
    "execution": {
     "iopub.execute_input": "2024-02-26T22:58:11.005523Z",
     "iopub.status.busy": "2024-02-26T22:58:11.005130Z",
     "iopub.status.idle": "2024-02-26T22:58:19.815660Z",
     "shell.execute_reply": "2024-02-26T22:58:19.815194Z",
     "shell.execute_reply.started": "2024-02-26T22:58:11.005504Z"
    },
    "tags": []
   },
   "outputs": [
    {
     "name": "stderr",
     "output_type": "stream",
     "text": [
      "                                                                                \r"
     ]
    }
   ],
   "source": [
    "df = spark.read \\\n",
    "    .option(\"comment\", \"#\") \\\n",
    "    .option(\"delimiter\", \",\") \\\n",
    "    .csv(\"/gpfs/gibbs/pi/reilly/VariantEffects/scripts/noon_data/3.pleio_and_filter/chr*/*.csv.gz\", header=True)"
   ]
  },
  {
   "cell_type": "code",
   "execution_count": 11,
   "id": "6da87071-73f3-4e13-97d6-f60d419f6364",
   "metadata": {
    "execution": {
     "iopub.execute_input": "2024-02-26T23:01:52.508909Z",
     "iopub.status.busy": "2024-02-26T23:01:52.508584Z",
     "iopub.status.idle": "2024-02-26T23:01:52.843013Z",
     "shell.execute_reply": "2024-02-26T23:01:52.842604Z",
     "shell.execute_reply.started": "2024-02-26T23:01:52.508894Z"
    },
    "tags": []
   },
   "outputs": [],
   "source": [
    "int_columns=[\"POS\",\"AC\",\"AN\",\"pleio\"]\n",
    "float_columns=[\"AF\",\"K562__ref\",\"HepG2__ref\",\"SKNSH__ref\",\"K562__alt\",\"HepG2__alt\",\"SKNSH__alt\",\"K562__skew\",\"HepG2__skew\",\"SKNSH__skew\",\"cadd_phred\",\"P_ANNO\",\"mean_ref\",\"mean_skew\",\"MAF\"]\n",
    "cre_bool_columns=[]\n",
    "for column in df.columns:\n",
    "    if column.startswith(\"is_in\"):\n",
    "        cre_bool_columns.append(column)\n",
    "        \n",
    "emvar_bool_columns=[\"emVar_K562\",\"emVar_SKNSH\",\"emVar_HepG2\"]\n",
    "\n",
    "for column in int_columns:\n",
    "    df = df.withColumn(column, F.col(column).cast(T.IntegerType()))\n",
    "\n",
    "for column in float_columns:\n",
    "    df = df.withColumn(column, F.col(column).cast(T.FloatType()))\n",
    "\n",
    "for column in cre_bool_columns+emvar_bool_columns:\n",
    "    df = df.withColumn(column, F.col(column).cast(T.BooleanType()))"
   ]
  },
  {
   "cell_type": "code",
   "execution_count": 14,
   "id": "6a5aa03c-002c-4d1c-80cc-fe363e9d88cf",
   "metadata": {
    "execution": {
     "iopub.execute_input": "2024-02-26T23:08:28.893567Z",
     "iopub.status.busy": "2024-02-26T23:08:28.893284Z",
     "iopub.status.idle": "2024-02-26T23:08:28.904689Z",
     "shell.execute_reply": "2024-02-26T23:08:28.904243Z",
     "shell.execute_reply.started": "2024-02-26T23:08:28.893552Z"
    },
    "tags": []
   },
   "outputs": [
    {
     "ename": "NameError",
     "evalue": "name 'gc' is not defined",
     "output_type": "error",
     "traceback": [
      "\u001b[0;31m---------------------------------------------------------------------------\u001b[0m",
      "\u001b[0;31mNameError\u001b[0m                                 Traceback (most recent call last)",
      "Cell \u001b[0;32mIn[14], line 1\u001b[0m\n\u001b[0;32m----> 1\u001b[0m df \u001b[38;5;241m=\u001b[39m df\u001b[38;5;241m.\u001b[39mwithColumn(\u001b[38;5;124m\"\u001b[39m\u001b[38;5;124mrare_bool\u001b[39m\u001b[38;5;124m\"\u001b[39m, F\u001b[38;5;241m.\u001b[39mcol(\u001b[38;5;124m\"\u001b[39m\u001b[38;5;124mcategory\u001b[39m\u001b[38;5;124m\"\u001b[39m)\u001b[38;5;241m.\u001b[39misin(\u001b[43mgc\u001b[49m\u001b[38;5;241m.\u001b[39mrare_classes))\n",
      "\u001b[0;31mNameError\u001b[0m: name 'gc' is not defined"
     ]
    }
   ],
   "source": [
    "df = df.withColumn(\"rare_bool\", F.col(\"category\").isin(gc.rare_classes))"
   ]
  },
  {
   "cell_type": "code",
   "execution_count": null,
   "id": "d90103e5-1ae3-4299-94e4-e65f8413ac19",
   "metadata": {},
   "outputs": [],
   "source": [
    "#is_in_PLS"
   ]
  }
 ],
 "metadata": {
  "kernelspec": {
   "display_name": "Python 3 (ipykernel)",
   "language": "python",
   "name": "python3"
  },
  "language_info": {
   "codemirror_mode": {
    "name": "ipython",
    "version": 3
   },
   "file_extension": ".py",
   "mimetype": "text/x-python",
   "name": "python",
   "nbconvert_exporter": "python",
   "pygments_lexer": "ipython3",
   "version": "3.10.12"
  }
 },
 "nbformat": 4,
 "nbformat_minor": 5
}
