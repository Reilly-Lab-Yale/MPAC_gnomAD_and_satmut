{
 "cells": [
  {
   "cell_type": "code",
   "execution_count": 36,
   "id": "2b4b2448-1a94-4557-89ce-5fcc77aeddb5",
   "metadata": {
    "execution": {
     "iopub.execute_input": "2024-02-26T23:28:34.689298Z",
     "iopub.status.busy": "2024-02-26T23:28:34.689024Z",
     "iopub.status.idle": "2024-02-26T23:28:34.691854Z",
     "shell.execute_reply": "2024-02-26T23:28:34.691516Z",
     "shell.execute_reply.started": "2024-02-26T23:28:34.689281Z"
    },
    "tags": []
   },
   "outputs": [],
   "source": [
    "from pyspark import SparkConf, SparkContext\n",
    "from pyspark.sql import SparkSession\n",
    "from pyspark.ml import Pipeline\n",
    "from pyspark.ml.classification import LogisticRegression\n",
    "from pyspark.ml.feature import VectorAssembler\n",
    "from pyspark.ml.evaluation import BinaryClassificationEvaluator\n",
    "from pyspark.sql import functions as F\n",
    "import pyspark.sql.types as T"
   ]
  },
  {
   "cell_type": "code",
   "execution_count": 37,
   "id": "5404e7e2-69e3-440b-afbc-10c46f284ed9",
   "metadata": {
    "execution": {
     "iopub.execute_input": "2024-02-26T23:28:35.459412Z",
     "iopub.status.busy": "2024-02-26T23:28:35.459183Z",
     "iopub.status.idle": "2024-02-26T23:28:35.462634Z",
     "shell.execute_reply": "2024-02-26T23:28:35.462314Z",
     "shell.execute_reply.started": "2024-02-26T23:28:35.459397Z"
    },
    "tags": []
   },
   "outputs": [
    {
     "data": {
      "text/plain": [
       "<module 'graphing_config' from '/gpfs/gibbs/pi/reilly/VariantEffects/scripts/noon_scripts/5.graphs/logistic_regressions/graphing_config.py'>"
      ]
     },
     "execution_count": 37,
     "metadata": {},
     "output_type": "execute_result"
    }
   ],
   "source": [
    "#importlib code just for debugging : to allow changes in scripts we are imporing from\n",
    "#reflect here. It can be removed if you are not making changes to the scripts we are imporing from\n",
    "\n",
    "import importlib ##can remove\n",
    "import graphing_config as gc\n",
    "importlib.reload(gc) ##can remove\n"
   ]
  },
  {
   "cell_type": "code",
   "execution_count": 38,
   "id": "471c6824-03b9-4057-b042-4162062cbf78",
   "metadata": {
    "execution": {
     "iopub.execute_input": "2024-02-26T23:28:36.238810Z",
     "iopub.status.busy": "2024-02-26T23:28:36.238471Z",
     "iopub.status.idle": "2024-02-26T23:28:36.809612Z",
     "shell.execute_reply": "2024-02-26T23:28:36.809205Z",
     "shell.execute_reply.started": "2024-02-26T23:28:36.238794Z"
    },
    "tags": []
   },
   "outputs": [],
   "source": [
    "conf = SparkConf() \\\n",
    "    .setAppName(\"logreg_malin_vs_rare/common\")\\\n",
    "\n",
    "# Create a SparkContext with the specified configurations\n",
    "if 'spark' in locals() and spark!=None:\n",
    "    spark.stop()\n",
    "\n",
    "sc = SparkContext(conf=conf)\n",
    "\n",
    "# Create a SparkSession from the SparkContext\n",
    "spark = SparkSession(sc)"
   ]
  },
  {
   "cell_type": "code",
   "execution_count": 54,
   "id": "23b1318c-5e5e-420c-b076-964e93a561f4",
   "metadata": {
    "execution": {
     "iopub.execute_input": "2024-02-26T23:35:26.120550Z",
     "iopub.status.busy": "2024-02-26T23:35:26.120191Z",
     "iopub.status.idle": "2024-02-26T23:35:29.354733Z",
     "shell.execute_reply": "2024-02-26T23:35:29.354293Z",
     "shell.execute_reply.started": "2024-02-26T23:35:26.120533Z"
    },
    "tags": []
   },
   "outputs": [
    {
     "name": "stderr",
     "output_type": "stream",
     "text": [
      "                                                                                \r"
     ]
    }
   ],
   "source": [
    "df = spark.read \\\n",
    "    .option(\"comment\", \"#\") \\\n",
    "    .option(\"delimiter\", \",\") \\\n",
    "    .csv(\"/gpfs/gibbs/pi/reilly/VariantEffects/scripts/noon_data/3.pleio_and_filter/chr*/*.csv.gz\", header=True)"
   ]
  },
  {
   "cell_type": "code",
   "execution_count": 55,
   "id": "6da87071-73f3-4e13-97d6-f60d419f6364",
   "metadata": {
    "execution": {
     "iopub.execute_input": "2024-02-26T23:35:29.355956Z",
     "iopub.status.busy": "2024-02-26T23:35:29.355559Z",
     "iopub.status.idle": "2024-02-26T23:35:29.633668Z",
     "shell.execute_reply": "2024-02-26T23:35:29.633084Z",
     "shell.execute_reply.started": "2024-02-26T23:35:29.355939Z"
    },
    "tags": []
   },
   "outputs": [],
   "source": [
    "int_columns=[\"POS\",\"AC\",\"AN\",\"pleio\"]\n",
    "float_columns=[\"AF\",\"K562__ref\",\"HepG2__ref\",\"SKNSH__ref\",\"K562__alt\",\"HepG2__alt\",\"SKNSH__alt\",\"K562__skew\",\"HepG2__skew\",\"SKNSH__skew\",\"cadd_phred\",\"P_ANNO\",\"mean_ref\",\"mean_skew\",\"MAF\"]\n",
    "cre_bool_columns=[]\n",
    "for column in df.columns:\n",
    "    if column.startswith(\"is_in\"):\n",
    "        cre_bool_columns.append(column)\n",
    "        \n",
    "emvar_bool_columns=[\"emVar_K562\",\"emVar_SKNSH\",\"emVar_HepG2\"]\n",
    "\n",
    "for column in int_columns:\n",
    "    df = df.withColumn(column, F.col(column).cast(T.IntegerType()))\n",
    "\n",
    "for column in float_columns:\n",
    "    df = df.withColumn(column, F.col(column).cast(T.FloatType()))\n",
    "\n",
    "for column in cre_bool_columns+emvar_bool_columns:\n",
    "    df = df.withColumn(column, F.col(column).cast(T.BooleanType()))"
   ]
  },
  {
   "cell_type": "code",
   "execution_count": 56,
   "id": "6a5aa03c-002c-4d1c-80cc-fe363e9d88cf",
   "metadata": {
    "execution": {
     "iopub.execute_input": "2024-02-26T23:35:30.969763Z",
     "iopub.status.busy": "2024-02-26T23:35:30.969448Z",
     "iopub.status.idle": "2024-02-26T23:35:30.992063Z",
     "shell.execute_reply": "2024-02-26T23:35:30.991695Z",
     "shell.execute_reply.started": "2024-02-26T23:35:30.969745Z"
    },
    "tags": []
   },
   "outputs": [],
   "source": [
    "df = df.withColumn(\"rare_bool\", F.col(\"category\").isin(gc.rare_classes))\n",
    "df = df.withColumn(\"rare_bool\", F.col(\"rare_bool\").cast(\"integer\"))"
   ]
  },
  {
   "cell_type": "code",
   "execution_count": 57,
   "id": "d90103e5-1ae3-4299-94e4-e65f8413ac19",
   "metadata": {
    "execution": {
     "iopub.execute_input": "2024-02-26T23:35:31.771319Z",
     "iopub.status.busy": "2024-02-26T23:35:31.771007Z",
     "iopub.status.idle": "2024-02-26T23:35:31.788260Z",
     "shell.execute_reply": "2024-02-26T23:35:31.787909Z",
     "shell.execute_reply.started": "2024-02-26T23:35:31.771303Z"
    },
    "tags": []
   },
   "outputs": [],
   "source": [
    "df=df.where(F.col(\"is_in_PLS\")==True)\n",
    "df = df.na.drop(subset=[\"mean_skew\", \"mean_ref\",\"rare_bool\"])"
   ]
  },
  {
   "cell_type": "code",
   "execution_count": 58,
   "id": "bee000d6-0d84-41f8-a836-c2c2d4c897fa",
   "metadata": {
    "execution": {
     "iopub.execute_input": "2024-02-26T23:35:41.362052Z",
     "iopub.status.busy": "2024-02-26T23:35:41.361713Z",
     "iopub.status.idle": "2024-02-26T23:35:41.365546Z",
     "shell.execute_reply": "2024-02-26T23:35:41.365203Z",
     "shell.execute_reply.started": "2024-02-26T23:35:41.362035Z"
    },
    "tags": []
   },
   "outputs": [],
   "source": [
    "assembler = VectorAssembler(inputCols=[\"mean_skew\", \"mean_ref\"], outputCol=\"features\")"
   ]
  },
  {
   "cell_type": "code",
   "execution_count": 59,
   "id": "a140ad40-1cd7-486e-970b-4488902e5391",
   "metadata": {
    "execution": {
     "iopub.execute_input": "2024-02-26T23:35:42.067085Z",
     "iopub.status.busy": "2024-02-26T23:35:42.066751Z",
     "iopub.status.idle": "2024-02-26T23:35:42.093738Z",
     "shell.execute_reply": "2024-02-26T23:35:42.093392Z",
     "shell.execute_reply.started": "2024-02-26T23:35:42.067070Z"
    },
    "tags": []
   },
   "outputs": [],
   "source": [
    "prepared_df = assembler.transform(df)"
   ]
  },
  {
   "cell_type": "code",
   "execution_count": 60,
   "id": "468c3dcc-7937-4434-bc14-9ddeb50ee4f6",
   "metadata": {
    "execution": {
     "iopub.execute_input": "2024-02-26T23:35:42.756153Z",
     "iopub.status.busy": "2024-02-26T23:35:42.755806Z",
     "iopub.status.idle": "2024-02-26T23:35:42.767606Z",
     "shell.execute_reply": "2024-02-26T23:35:42.767271Z",
     "shell.execute_reply.started": "2024-02-26T23:35:42.756138Z"
    },
    "tags": []
   },
   "outputs": [],
   "source": [
    "(train_data, test_data) = prepared_df.randomSplit([0.7, 0.3], seed=42)"
   ]
  },
  {
   "cell_type": "code",
   "execution_count": 61,
   "id": "f3066f27-947a-46f6-b45d-46c93cf97fd0",
   "metadata": {
    "execution": {
     "iopub.execute_input": "2024-02-26T23:35:43.294310Z",
     "iopub.status.busy": "2024-02-26T23:35:43.294000Z",
     "iopub.status.idle": "2024-02-26T23:35:43.297738Z",
     "shell.execute_reply": "2024-02-26T23:35:43.297406Z",
     "shell.execute_reply.started": "2024-02-26T23:35:43.294296Z"
    },
    "tags": []
   },
   "outputs": [],
   "source": [
    "lr = LogisticRegression(featuresCol=\"features\", labelCol=\"rare_bool\")"
   ]
  },
  {
   "cell_type": "code",
   "execution_count": 62,
   "id": "6591059b-32f7-422e-adf2-2eb2c17ec3c2",
   "metadata": {
    "execution": {
     "iopub.execute_input": "2024-02-26T23:35:43.765872Z",
     "iopub.status.busy": "2024-02-26T23:35:43.765635Z",
     "iopub.status.idle": "2024-02-26T23:35:43.767809Z",
     "shell.execute_reply": "2024-02-26T23:35:43.767488Z",
     "shell.execute_reply.started": "2024-02-26T23:35:43.765858Z"
    },
    "tags": []
   },
   "outputs": [],
   "source": [
    "pipeline = Pipeline(stages=[lr])"
   ]
  },
  {
   "cell_type": "code",
   "execution_count": 63,
   "id": "64ba431c-5fee-4c47-8290-8b82f08e8a7b",
   "metadata": {
    "execution": {
     "iopub.execute_input": "2024-02-26T23:35:44.220864Z",
     "iopub.status.busy": "2024-02-26T23:35:44.220632Z",
     "iopub.status.idle": "2024-02-27T00:02:18.366239Z",
     "shell.execute_reply": "2024-02-27T00:02:18.365797Z",
     "shell.execute_reply.started": "2024-02-26T23:35:44.220850Z"
    },
    "tags": []
   },
   "outputs": [
    {
     "name": "stderr",
     "output_type": "stream",
     "text": [
      "24/02/26 18:48:56 WARN InstanceBuilder: Failed to load implementation from:dev.ludovic.netlib.blas.JNIBLAS\n",
      "24/02/26 18:48:56 WARN InstanceBuilder: Failed to load implementation from:dev.ludovic.netlib.blas.VectorBLAS\n",
      "                                                                                \r"
     ]
    }
   ],
   "source": [
    "model = pipeline.fit(train_data)"
   ]
  },
  {
   "cell_type": "code",
   "execution_count": 64,
   "id": "df4c199b-19a4-479d-b936-655f9f5f23b7",
   "metadata": {
    "execution": {
     "iopub.execute_input": "2024-02-27T00:26:20.573504Z",
     "iopub.status.busy": "2024-02-27T00:26:20.573229Z",
     "iopub.status.idle": "2024-02-27T00:26:20.623670Z",
     "shell.execute_reply": "2024-02-27T00:26:20.623268Z",
     "shell.execute_reply.started": "2024-02-27T00:26:20.573486Z"
    },
    "tags": []
   },
   "outputs": [],
   "source": [
    "predictions = model.transform(test_data)"
   ]
  },
  {
   "cell_type": "code",
   "execution_count": 65,
   "id": "bba540da-1b8c-4058-9b0f-2039ed5a9347",
   "metadata": {
    "execution": {
     "iopub.execute_input": "2024-02-27T00:26:36.821532Z",
     "iopub.status.busy": "2024-02-27T00:26:36.821062Z",
     "iopub.status.idle": "2024-02-27T00:26:36.828180Z",
     "shell.execute_reply": "2024-02-27T00:26:36.827804Z",
     "shell.execute_reply.started": "2024-02-27T00:26:36.821514Z"
    },
    "tags": []
   },
   "outputs": [],
   "source": [
    "evaluator = BinaryClassificationEvaluator(labelCol=\"rare_bool\")"
   ]
  },
  {
   "cell_type": "code",
   "execution_count": 66,
   "id": "9a72b804-1b1f-4b30-8cd4-8f2ee54dd7cc",
   "metadata": {
    "execution": {
     "iopub.execute_input": "2024-02-27T00:26:42.272969Z",
     "iopub.status.busy": "2024-02-27T00:26:42.272529Z",
     "iopub.status.idle": "2024-02-27T00:40:43.403213Z",
     "shell.execute_reply": "2024-02-27T00:40:43.402753Z",
     "shell.execute_reply.started": "2024-02-27T00:26:42.272952Z"
    },
    "tags": []
   },
   "outputs": [
    {
     "name": "stderr",
     "output_type": "stream",
     "text": [
      "                                                                                \r"
     ]
    }
   ],
   "source": [
    "accuracy = evaluator.evaluate(predictions)"
   ]
  },
  {
   "cell_type": "code",
   "execution_count": 67,
   "id": "3ced6013-dbaa-41c2-9cda-0d4c8dbacca4",
   "metadata": {
    "execution": {
     "iopub.execute_input": "2024-02-27T00:40:43.404391Z",
     "iopub.status.busy": "2024-02-27T00:40:43.403981Z",
     "iopub.status.idle": "2024-02-27T00:40:43.406629Z",
     "shell.execute_reply": "2024-02-27T00:40:43.406295Z",
     "shell.execute_reply.started": "2024-02-27T00:40:43.404367Z"
    },
    "tags": []
   },
   "outputs": [
    {
     "name": "stdout",
     "output_type": "stream",
     "text": [
      "Test Accuracy: 0.5215079085730067\n"
     ]
    }
   ],
   "source": [
    "print(f\"Test Accuracy: {accuracy}\")"
   ]
  },
  {
   "cell_type": "code",
   "execution_count": 68,
   "id": "de3a82da-4e12-4c25-81c3-a79c24b9aea8",
   "metadata": {
    "execution": {
     "iopub.execute_input": "2024-02-27T00:40:43.407319Z",
     "iopub.status.busy": "2024-02-27T00:40:43.407082Z",
     "iopub.status.idle": "2024-02-27T00:40:44.482631Z",
     "shell.execute_reply": "2024-02-27T00:40:44.482193Z",
     "shell.execute_reply.started": "2024-02-27T00:40:43.407305Z"
    },
    "tags": []
   },
   "outputs": [],
   "source": [
    "model.save(\"./model\")"
   ]
  },
  {
   "cell_type": "code",
   "execution_count": 70,
   "id": "ae93b80f-ec83-4006-84da-fce1a04f29b1",
   "metadata": {
    "execution": {
     "iopub.execute_input": "2024-02-27T00:46:21.937765Z",
     "iopub.status.busy": "2024-02-27T00:46:21.937336Z",
     "iopub.status.idle": "2024-02-27T00:56:29.156935Z",
     "shell.execute_reply": "2024-02-27T00:56:29.156410Z",
     "shell.execute_reply.started": "2024-02-27T00:46:21.937747Z"
    },
    "tags": []
   },
   "outputs": [
    {
     "name": "stderr",
     "output_type": "stream",
     "text": [
      "[Stage 43:===================================================>(1640 + 1) / 1641]\r"
     ]
    },
    {
     "name": "stdout",
     "output_type": "stream",
     "text": [
      "+---------+-------+\n",
      "|rare_bool|  count|\n",
      "+---------+-------+\n",
      "|        1|1777086|\n",
      "|        0|  73588|\n",
      "+---------+-------+\n",
      "\n"
     ]
    },
    {
     "name": "stderr",
     "output_type": "stream",
     "text": [
      "                                                                                \r"
     ]
    }
   ],
   "source": [
    "df.groupBy(\"rare_bool\").count().show()"
   ]
  }
 ],
 "metadata": {
  "kernelspec": {
   "display_name": "Python 3 (ipykernel)",
   "language": "python",
   "name": "python3"
  },
  "language_info": {
   "codemirror_mode": {
    "name": "ipython",
    "version": 3
   },
   "file_extension": ".py",
   "mimetype": "text/x-python",
   "name": "python",
   "nbconvert_exporter": "python",
   "pygments_lexer": "ipython3",
   "version": "3.10.12"
  }
 },
 "nbformat": 4,
 "nbformat_minor": 5
}
