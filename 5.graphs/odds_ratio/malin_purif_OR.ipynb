{
 "cells": [
  {
   "cell_type": "code",
   "execution_count": 11,
   "id": "2fd9aca2-2799-4534-a954-af3fb479196c",
   "metadata": {
    "execution": {
     "iopub.execute_input": "2024-02-19T21:15:50.507182Z",
     "iopub.status.busy": "2024-02-19T21:15:50.506895Z",
     "iopub.status.idle": "2024-02-19T21:15:50.509611Z",
     "shell.execute_reply": "2024-02-19T21:15:50.509252Z",
     "shell.execute_reply.started": "2024-02-19T21:15:50.507166Z"
    },
    "tags": []
   },
   "outputs": [],
   "source": [
    "import pandas as pd\n",
    "import seaborn as sns\n",
    "import matplotlib.pyplot as plt\n",
    "import glob\n",
    "import pickle"
   ]
  },
  {
   "cell_type": "code",
   "execution_count": 32,
   "id": "415bb395-24b4-493d-b565-9e040454bebd",
   "metadata": {
    "execution": {
     "iopub.execute_input": "2024-02-19T21:28:29.502559Z",
     "iopub.status.busy": "2024-02-19T21:28:29.502279Z",
     "iopub.status.idle": "2024-02-19T21:28:29.510788Z",
     "shell.execute_reply": "2024-02-19T21:28:29.510425Z",
     "shell.execute_reply.started": "2024-02-19T21:28:29.502538Z"
    },
    "tags": []
   },
   "outputs": [
    {
     "data": {
      "text/plain": [
       "<module 'or_common' from '/gpfs/gibbs/pi/reilly/VariantEffects/scripts/noon_scripts/5.graphs/odds_ratio/or_common.py'>"
      ]
     },
     "execution_count": 32,
     "metadata": {},
     "output_type": "execute_result"
    }
   ],
   "source": [
    "#importlib code just for debugging : to allow changes in graphing_config to \n",
    "#reflect here. It can be removed if you are not making changes to graphing_config\n",
    "\n",
    "import importlib ##can remove\n",
    "import graphing_config as GC\n",
    "import or_common as ORC\n",
    "importlib.reload(GC) ##can remove\n",
    "importlib.reload(orc) ##can remove"
   ]
  },
  {
   "cell_type": "markdown",
   "id": "a79a00ae-bf1b-47bc-acb0-2b174eb70485",
   "metadata": {},
   "source": [
    "Below cells should be unified between this and the non-odds-ratio notebook"
   ]
  },
  {
   "cell_type": "markdown",
   "id": "fc199bdd-e855-4201-9df2-f12ac91a7551",
   "metadata": {},
   "source": [
    "First, let's load the data. "
   ]
  },
  {
   "cell_type": "code",
   "execution_count": 13,
   "id": "37422c35-4dc3-4f84-a04b-5070c5cc2813",
   "metadata": {
    "execution": {
     "iopub.execute_input": "2024-02-19T21:15:52.969210Z",
     "iopub.status.busy": "2024-02-19T21:15:52.968747Z",
     "iopub.status.idle": "2024-02-19T21:15:53.015477Z",
     "shell.execute_reply": "2024-02-19T21:15:53.015070Z",
     "shell.execute_reply.started": "2024-02-19T21:15:52.969192Z"
    },
    "tags": []
   },
   "outputs": [],
   "source": [
    "data={}\n",
    "\n",
    "\n",
    "for cell_type in GC.cell_types:\n",
    "    data[cell_type]=pd.read_csv(glob.glob(GC.data_base_path+\"malinois_\"+cell_type+\"/*.csv\")[0])\n"
   ]
  },
  {
   "cell_type": "markdown",
   "id": "f9f29fb4-bcf0-48d6-98cd-45d6a25ed638",
   "metadata": {},
   "source": [
    "Next, let's get rid of those dumb character substitutions I had to make to appease pyspark"
   ]
  },
  {
   "cell_type": "code",
   "execution_count": 14,
   "id": "ac2d790e-7c5c-428f-be0e-19eda117e87e",
   "metadata": {
    "execution": {
     "iopub.execute_input": "2024-02-19T21:15:54.889671Z",
     "iopub.status.busy": "2024-02-19T21:15:54.889398Z",
     "iopub.status.idle": "2024-02-19T21:15:54.893443Z",
     "shell.execute_reply": "2024-02-19T21:15:54.893076Z",
     "shell.execute_reply.started": "2024-02-19T21:15:54.889653Z"
    },
    "tags": []
   },
   "outputs": [],
   "source": [
    "for cell_type in data.keys():\n",
    "    data[cell_type]=data[cell_type].rename(columns={i:i.replace('^', ',').replace('&','.') for i in data[cell_type].columns})"
   ]
  },
  {
   "cell_type": "markdown",
   "id": "88f41487-8d4f-49fb-80ad-d12107e82f69",
   "metadata": {},
   "source": [
    "Currently, whether a given row corresponds to variants that fall within a particular reference activity or skew bin is stored one-hot. \n",
    "\n",
    "I want this to be a single column with a categorical value. Let's do that & drop the old one-hot columns."
   ]
  },
  {
   "cell_type": "code",
   "execution_count": 15,
   "id": "f93b9bd4-f98e-40e8-a7c2-ba4d39494137",
   "metadata": {
    "execution": {
     "iopub.execute_input": "2024-02-19T21:15:55.800316Z",
     "iopub.status.busy": "2024-02-19T21:15:55.799874Z",
     "iopub.status.idle": "2024-02-19T21:15:56.314441Z",
     "shell.execute_reply": "2024-02-19T21:15:56.314017Z",
     "shell.execute_reply.started": "2024-02-19T21:15:55.800298Z"
    },
    "tags": []
   },
   "outputs": [],
   "source": [
    "for cell_type in cell_types:\n",
    "\n",
    "    current=data[cell_type]\n",
    "\n",
    "    skew_columns=[]\n",
    "    ref_columns=[]\n",
    "\n",
    "    for i in current.columns:\n",
    "        if \"_skew\" in i :\n",
    "            skew_columns.append(i)\n",
    "        elif \"_ref\" in i :\n",
    "            ref_columns.append(i)\n",
    "\n",
    "    current[\"ref_bin\"]=current.apply(GC.find_true_column, columns=ref_columns, default='Error', axis=1)\n",
    "    current=current.drop(ref_columns,axis=1)\n",
    "\n",
    "    current[\"skew_bin\"]=current.apply(GC.find_true_column, columns=skew_columns, default='Error', axis=1)\n",
    "    current=current.drop(skew_columns,axis=1)\n",
    "    \n",
    "    data[cell_type]=current"
   ]
  },
  {
   "cell_type": "markdown",
   "id": "57141c36-eb3b-44e0-8af5-fd9302c6c041",
   "metadata": {},
   "source": [
    "Next, let's lump the rarity categories. Instead of the granular \"singleton, rare, ultrarare...\" we want the much more general RARE and COMMON, which each lump multiple categories. "
   ]
  },
  {
   "cell_type": "code",
   "execution_count": 16,
   "id": "465cf976-1ca9-4a36-98de-26b8768f067e",
   "metadata": {
    "execution": {
     "iopub.execute_input": "2024-02-19T21:15:57.302450Z",
     "iopub.status.busy": "2024-02-19T21:15:57.302064Z",
     "iopub.status.idle": "2024-02-19T21:15:57.366178Z",
     "shell.execute_reply": "2024-02-19T21:15:57.365767Z",
     "shell.execute_reply.started": "2024-02-19T21:15:57.302432Z"
    },
    "tags": []
   },
   "outputs": [],
   "source": [
    "for cell_type in cell_types:\n",
    "    current=data[cell_type]\n",
    "    current[\"rarity_bin\"]=data[cell_type].apply(GC.lump_rarity_categories,axis=1)\n",
    "    data[cell_type]=current"
   ]
  },
  {
   "cell_type": "markdown",
   "id": "c0fb153c-413f-49a7-ba29-f88b16649062",
   "metadata": {},
   "source": [
    "End redundant cells"
   ]
  },
  {
   "cell_type": "code",
   "execution_count": 167,
   "id": "19ce19a3-c718-48be-8e61-c8ee3891c490",
   "metadata": {
    "execution": {
     "iopub.execute_input": "2024-02-19T23:46:20.736072Z",
     "iopub.status.busy": "2024-02-19T23:46:20.735805Z",
     "iopub.status.idle": "2024-02-19T23:46:25.761745Z",
     "shell.execute_reply": "2024-02-19T23:46:25.761330Z",
     "shell.execute_reply.started": "2024-02-19T23:46:20.736054Z"
    },
    "tags": []
   },
   "outputs": [
    {
     "name": "stderr",
     "output_type": "stream",
     "text": [
      "/home/mcn26/.conda/envs/mcn_vareff_2/lib/python3.10/site-packages/scipy/stats/_odds_ratio.py:156: RuntimeWarning: divide by zero encountered in divide\n",
      "  se = np.sqrt((1/table).sum())\n",
      "/home/mcn26/.conda/envs/mcn_vareff_2/lib/python3.10/site-packages/scipy/stats/_odds_ratio.py:168: RuntimeWarning: invalid value encountered in scalar subtract\n",
      "  loglow = log_or - z*se\n",
      "/home/mcn26/.conda/envs/mcn_vareff_2/lib/python3.10/site-packages/scipy/stats/_odds_ratio.py:155: RuntimeWarning: divide by zero encountered in log\n",
      "  log_or = np.log(oddsratio)\n",
      "/home/mcn26/.conda/envs/mcn_vareff_2/lib/python3.10/site-packages/scipy/stats/_odds_ratio.py:169: RuntimeWarning: invalid value encountered in scalar add\n",
      "  loghigh = log_or + z*se\n"
     ]
    }
   ],
   "source": [
    "OR_figures=[]\n",
    "\n",
    "\n",
    "#cell-type subset\n",
    "for cell_type in GC.cell_types:\n",
    "    ref_bins=data[cell_type]['ref_bin'].unique()\n",
    "    skew_bins=data[cell_type][\"skew_bin\"].unique()\n",
    "    for genome_region in GC.genome_regions:\n",
    "        for ref_bin in ref_bins:\n",
    "            for skew_bin in skew_bins:\n",
    "                \n",
    "                \n",
    "\n",
    "                working=data[cell_type]\n",
    "                if genome_region != \"ALL\":\n",
    "                    working=working[working[genome_region]==True]\n",
    "                working=working[working['ref_bin']==ref_bin]\n",
    "\n",
    "                if working[\"count\"].sum() < 100000:\n",
    "                    continue\n",
    "                \n",
    "                ret={}\n",
    "                ret[\"cell_type\"]=cell_type\n",
    "                ret[\"genome_region\"]=genome_region\n",
    "                ret[\"ref_bin\"]=ref_bin\n",
    "                ret[\"skew_bin\"]=skew_bin\n",
    "                \n",
    "                \n",
    "                or_dict=ORC.compute_OR(df=working,\n",
    "                               a=\"rarity_bin\",\n",
    "                               a_val=\"RARE\",\n",
    "                               b=\"skew_bin\",\n",
    "                               b_val=skew_bin)\n",
    "                ret=dict(ret, **or_dict)\n",
    "\n",
    "                OR_figures.append(ret)"
   ]
  },
  {
   "cell_type": "code",
   "execution_count": 168,
   "id": "e006f916-a648-4928-b3bc-7c8eb6188d0e",
   "metadata": {
    "execution": {
     "iopub.execute_input": "2024-02-19T23:46:25.762696Z",
     "iopub.status.busy": "2024-02-19T23:46:25.762486Z",
     "iopub.status.idle": "2024-02-19T23:46:25.767301Z",
     "shell.execute_reply": "2024-02-19T23:46:25.766965Z",
     "shell.execute_reply.started": "2024-02-19T23:46:25.762681Z"
    },
    "tags": []
   },
   "outputs": [],
   "source": [
    "OR_figures=pd.DataFrame(OR_figures).dropna()"
   ]
  },
  {
   "cell_type": "code",
   "execution_count": 193,
   "id": "bf00bad3-efbb-4cd6-82a4-470f14d2b6b0",
   "metadata": {
    "execution": {
     "iopub.execute_input": "2024-02-20T00:15:30.303982Z",
     "iopub.status.busy": "2024-02-20T00:15:30.303750Z",
     "iopub.status.idle": "2024-02-20T00:15:30.337524Z",
     "shell.execute_reply": "2024-02-20T00:15:30.337204Z",
     "shell.execute_reply.started": "2024-02-20T00:15:30.303968Z"
    },
    "tags": []
   },
   "outputs": [],
   "source": [
    "for cell_type in GC.cell_types:\n",
    "    \n",
    "    \n",
    "    for genome_region in GC.genome_regions:\n",
    "        \n",
    "        if genome_region==\"ALL\":\n",
    "            continue\n",
    "        working=OR_figures\n",
    "        working = working[working['ref_bin'].str.startswith(cell_type)]\n",
    "        \n",
    "        if genome_region != \"ALL\":\n",
    "            working=working[working[\"genome_region\"]==genome_region]\n",
    "        \n",
    "        \n",
    "        working['error_length_lower'] = working['OR'] - working['ci_lower']\n",
    "        working['error_length_upper'] = working['ci_upper'] - working['OR']\n",
    "        \n",
    "        #SORT\n",
    "        \n",
    "        for row in working.iterrows():\n",
    "            pass\n",
    "\n"
   ]
  }
 ],
 "metadata": {
  "kernelspec": {
   "display_name": "Python 3 (ipykernel)",
   "language": "python",
   "name": "python3"
  },
  "language_info": {
   "codemirror_mode": {
    "name": "ipython",
    "version": 3
   },
   "file_extension": ".py",
   "mimetype": "text/x-python",
   "name": "python",
   "nbconvert_exporter": "python",
   "pygments_lexer": "ipython3",
   "version": "3.10.12"
  }
 },
 "nbformat": 4,
 "nbformat_minor": 5
}
