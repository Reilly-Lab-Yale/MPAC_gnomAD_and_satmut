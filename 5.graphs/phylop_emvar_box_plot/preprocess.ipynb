{
 "cells": [
  {
   "cell_type": "code",
   "execution_count": 5,
   "id": "e2643dd9-961e-4745-9f89-6c8cb97b6bef",
   "metadata": {
    "execution": {
     "iopub.execute_input": "2024-02-26T21:54:17.723931Z",
     "iopub.status.busy": "2024-02-26T21:54:17.723481Z",
     "iopub.status.idle": "2024-02-26T21:54:17.726218Z",
     "shell.execute_reply": "2024-02-26T21:54:17.725855Z",
     "shell.execute_reply.started": "2024-02-26T21:54:17.723912Z"
    },
    "tags": []
   },
   "outputs": [],
   "source": [
    "from pyspark.sql import SparkSession\n",
    "from pyspark import SparkConf, SparkContext\n",
    "import pyspark.sql.functions as F \n",
    "import pyspark.sql.types as T\n",
    "import os"
   ]
  },
  {
   "cell_type": "code",
   "execution_count": 6,
   "id": "1c88580f-3f13-49b0-93ec-9689dcf29c2e",
   "metadata": {
    "execution": {
     "iopub.execute_input": "2024-02-26T21:54:18.033001Z",
     "iopub.status.busy": "2024-02-26T21:54:18.032552Z",
     "iopub.status.idle": "2024-02-26T21:54:18.036417Z",
     "shell.execute_reply": "2024-02-26T21:54:18.036080Z",
     "shell.execute_reply.started": "2024-02-26T21:54:18.032983Z"
    },
    "tags": []
   },
   "outputs": [
    {
     "data": {
      "text/plain": [
       "<module 'graphing_config' from '/gpfs/gibbs/pi/reilly/VariantEffects/scripts/noon_scripts/5.graphs/phylop_emvar_box_plot/graphing_config.py'>"
      ]
     },
     "execution_count": 6,
     "metadata": {},
     "output_type": "execute_result"
    }
   ],
   "source": [
    "import importlib ##can remove\n",
    "import boxplot_common as bc\n",
    "import graphing_config as gc\n",
    "importlib.reload(bc) ##can remove\n",
    "importlib.reload(gc) ##can remove"
   ]
  },
  {
   "cell_type": "code",
   "execution_count": 7,
   "id": "f9f3e49a-772b-4ca6-a5d1-ec35424c5a55",
   "metadata": {
    "execution": {
     "iopub.execute_input": "2024-02-26T21:54:18.519447Z",
     "iopub.status.busy": "2024-02-26T21:54:18.519026Z",
     "iopub.status.idle": "2024-02-26T21:54:21.890207Z",
     "shell.execute_reply": "2024-02-26T21:54:21.889670Z",
     "shell.execute_reply.started": "2024-02-26T21:54:18.519431Z"
    },
    "tags": []
   },
   "outputs": [
    {
     "name": "stderr",
     "output_type": "stream",
     "text": [
      "Setting default log level to \"WARN\".\n",
      "To adjust logging level use sc.setLogLevel(newLevel). For SparkR, use setLogLevel(newLevel).\n",
      "24/02/26 16:54:21 WARN NativeCodeLoader: Unable to load native-hadoop library for your platform... using builtin-java classes where applicable\n",
      "24/02/26 16:54:21 WARN Utils: Service 'SparkUI' could not bind on port 4040. Attempting port 4041.\n"
     ]
    }
   ],
   "source": [
    "conf = SparkConf() \\\n",
    "    .setAppName(\"pleio_vs_emvar_boxplot\")\\\n",
    "\n",
    "# Create a SparkContext with the specified configurations\n",
    "if 'spark' in locals() and spark!=None:\n",
    "    spark.stop()\n",
    "\n",
    "sc = SparkContext(conf=conf)\n",
    "\n",
    "# Create a SparkSession from the SparkContext\n",
    "spark = SparkSession(sc)"
   ]
  },
  {
   "cell_type": "code",
   "execution_count": 8,
   "id": "f6424829-f041-4dc7-be4d-60766feee496",
   "metadata": {
    "execution": {
     "iopub.execute_input": "2024-02-26T21:54:21.891453Z",
     "iopub.status.busy": "2024-02-26T21:54:21.891221Z",
     "iopub.status.idle": "2024-02-26T21:54:29.024249Z",
     "shell.execute_reply": "2024-02-26T21:54:29.023707Z",
     "shell.execute_reply.started": "2024-02-26T21:54:21.891436Z"
    },
    "tags": []
   },
   "outputs": [
    {
     "name": "stderr",
     "output_type": "stream",
     "text": [
      "                                                                                \r"
     ]
    }
   ],
   "source": [
    "#loading in all autosomes\n",
    "#Skipping sex chromosomes, see readme\n",
    "df = spark.read \\\n",
    "    .option(\"comment\", \"#\") \\\n",
    "    .option(\"delimiter\", \",\") \\\n",
    "    .csv(\"/gpfs/gibbs/pi/reilly/VariantEffects/scripts/noon_data/3.pleio_and_filter/chr*/*.csv.gz\", header=True)"
   ]
  },
  {
   "cell_type": "code",
   "execution_count": 9,
   "id": "657fd0f9-ab3b-4c09-a811-34d9cf98f0c2",
   "metadata": {
    "execution": {
     "iopub.execute_input": "2024-02-26T21:54:29.025446Z",
     "iopub.status.busy": "2024-02-26T21:54:29.025204Z",
     "iopub.status.idle": "2024-02-26T21:54:29.037852Z",
     "shell.execute_reply": "2024-02-26T21:54:29.037459Z",
     "shell.execute_reply.started": "2024-02-26T21:54:29.025431Z"
    },
    "tags": []
   },
   "outputs": [],
   "source": [
    "int_columns=[\"POS\",\"AC\",\"AN\",\"pleio\"]\n",
    "float_columns=[\"AF\",\"K562__ref\",\"HepG2__ref\",\"SKNSH__ref\",\"K562__alt\",\"HepG2__alt\",\"SKNSH__alt\",\"K562__skew\",\"HepG2__skew\",\"SKNSH__skew\",\"cadd_phred\",\"P_ANNO\",\"mean_ref\",\"mean_skew\",\"MAF\"]\n",
    "cre_bool_columns=[]\n",
    "for column in df.columns:\n",
    "    if column.startswith(\"is_in\"):\n",
    "        cre_bool_columns.append(column)\n",
    "        \n",
    "emvar_bool_columns=[\"emVar_K562\",\"emVar_SKNSH\",\"emVar_HepG2\"]"
   ]
  },
  {
   "cell_type": "code",
   "execution_count": 10,
   "id": "44b61e62-3919-4168-94a6-eb800f142357",
   "metadata": {
    "execution": {
     "iopub.execute_input": "2024-02-26T21:54:29.038698Z",
     "iopub.status.busy": "2024-02-26T21:54:29.038411Z",
     "iopub.status.idle": "2024-02-26T21:54:29.565815Z",
     "shell.execute_reply": "2024-02-26T21:54:29.565368Z",
     "shell.execute_reply.started": "2024-02-26T21:54:29.038682Z"
    },
    "tags": []
   },
   "outputs": [],
   "source": [
    "for column in int_columns:\n",
    "    df = df.withColumn(column, F.col(column).cast(T.IntegerType()))\n",
    "\n",
    "for column in float_columns:\n",
    "    df = df.withColumn(column, F.col(column).cast(T.FloatType()))\n",
    "\n",
    "for column in cre_bool_columns+emvar_bool_columns:\n",
    "    df = df.withColumn(column, F.col(column).cast(T.BooleanType()))"
   ]
  },
  {
   "cell_type": "code",
   "execution_count": null,
   "id": "49f4e798-cd8f-4a39-a65e-48cab2310b1d",
   "metadata": {
    "execution": {
     "iopub.execute_input": "2024-02-26T21:54:35.712677Z",
     "iopub.status.busy": "2024-02-26T21:54:35.712125Z"
    },
    "tags": []
   },
   "outputs": [
    {
     "name": "stderr",
     "output_type": "stream",
     "text": [
      "[Stage 3:=>                                                    (39 + 10) / 1641]\r"
     ]
    }
   ],
   "source": [
    "final=[]\n",
    "\n",
    "\n",
    "for region in gc.genome_regions:\n",
    "    subset=df\n",
    "    if region!=\"ALL\":\n",
    "        subset=subset.where(F.col(region)==True)\n",
    "    \n",
    "    for emvar in gc.emvar_cata:\n",
    "\n",
    "        if emvar==\"ALL\":\n",
    "            pass\n",
    "        elif emvar==\"non_emvar\":\n",
    "            condition = ' AND '.join([f\"{col_name} = False\" for col_name in gc.emvar_cata_simple])\n",
    "            subset = subset.filter(condition)\n",
    "        else:\n",
    "            subset.where(F.col(emvar)==True)\n",
    "            \n",
    "        ret=bc.get_box_summary_statistics(subset,\n",
    "                                  col_to_sum=\"P_ANNO\",\n",
    "                                  quantile_probs=[0.25, 0.5, 0.75],\n",
    "                                  quantile_reliability=0.05)\n",
    "        ret[\"region\"]=region\n",
    "        ret[\"emvar\"]=emvar\n",
    "        \n",
    "        final.append(ret)\n",
    "    \n",
    "\n"
   ]
  },
  {
   "cell_type": "code",
   "execution_count": 35,
   "id": "17b2ef7c-2a80-46aa-bcfd-442f6433fe10",
   "metadata": {
    "execution": {
     "iopub.execute_input": "2024-02-26T21:49:22.873648Z",
     "iopub.status.busy": "2024-02-26T21:49:22.873381Z",
     "iopub.status.idle": "2024-02-26T21:49:22.876416Z",
     "shell.execute_reply": "2024-02-26T21:49:22.876092Z",
     "shell.execute_reply.started": "2024-02-26T21:49:22.873631Z"
    },
    "tags": []
   },
   "outputs": [
    {
     "data": {
      "text/plain": [
       "[]"
      ]
     },
     "execution_count": 35,
     "metadata": {},
     "output_type": "execute_result"
    }
   ],
   "source": [
    "final"
   ]
  },
  {
   "cell_type": "code",
   "execution_count": null,
   "id": "0c111a2e-bbcd-4a1b-ba0f-9cdcf39fd8d7",
   "metadata": {},
   "outputs": [],
   "source": [
    "import pickle\n",
    "with open(\".pkl\",\"wb\") as f:\n",
    "    pickle.dump(final, f)"
   ]
  }
 ],
 "metadata": {
  "kernelspec": {
   "display_name": "Python 3 (ipykernel)",
   "language": "python",
   "name": "python3"
  },
  "language_info": {
   "codemirror_mode": {
    "name": "ipython",
    "version": 3
   },
   "file_extension": ".py",
   "mimetype": "text/x-python",
   "name": "python",
   "nbconvert_exporter": "python",
   "pygments_lexer": "ipython3",
   "version": "3.10.12"
  }
 },
 "nbformat": 4,
 "nbformat_minor": 5
}
