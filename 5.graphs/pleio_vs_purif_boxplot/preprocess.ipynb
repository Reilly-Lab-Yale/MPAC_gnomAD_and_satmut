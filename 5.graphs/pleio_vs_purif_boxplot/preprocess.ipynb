{
 "cells": [
  {
   "cell_type": "code",
   "execution_count": 1,
   "id": "8d752a38-dd09-44bf-9cb3-67b0b818f64e",
   "metadata": {
    "execution": {
     "iopub.execute_input": "2024-02-15T23:24:42.369017Z",
     "iopub.status.busy": "2024-02-15T23:24:42.368903Z",
     "iopub.status.idle": "2024-02-15T23:24:42.502282Z",
     "shell.execute_reply": "2024-02-15T23:24:42.501932Z",
     "shell.execute_reply.started": "2024-02-15T23:24:42.369004Z"
    },
    "tags": []
   },
   "outputs": [],
   "source": [
    "from pyspark.sql import SparkSession\n",
    "from pyspark import SparkConf, SparkContext\n",
    "import pyspark.sql.functions as F \n",
    "import os"
   ]
  },
  {
   "cell_type": "code",
   "execution_count": 2,
   "id": "7f7ee9d9-33d1-4f2a-89b2-73732ea98a08",
   "metadata": {
    "execution": {
     "iopub.execute_input": "2024-02-15T23:24:42.503442Z",
     "iopub.status.busy": "2024-02-15T23:24:42.503178Z",
     "iopub.status.idle": "2024-02-15T23:24:44.706689Z",
     "shell.execute_reply": "2024-02-15T23:24:44.706221Z",
     "shell.execute_reply.started": "2024-02-15T23:24:42.503430Z"
    },
    "tags": []
   },
   "outputs": [
    {
     "name": "stderr",
     "output_type": "stream",
     "text": [
      "Setting default log level to \"WARN\".\n",
      "To adjust logging level use sc.setLogLevel(newLevel). For SparkR, use setLogLevel(newLevel).\n",
      "24/02/15 18:24:43 WARN NativeCodeLoader: Unable to load native-hadoop library for your platform... using builtin-java classes where applicable\n",
      "24/02/15 18:24:44 WARN Utils: Service 'SparkUI' could not bind on port 4040. Attempting port 4041.\n",
      "24/02/15 18:24:44 WARN Utils: Service 'SparkUI' could not bind on port 4041. Attempting port 4042.\n",
      "24/02/15 18:24:44 WARN Utils: Service 'SparkUI' could not bind on port 4042. Attempting port 4043.\n"
     ]
    }
   ],
   "source": [
    "conf = SparkConf() \\\n",
    "    .setAppName(\"pleio_vs_purif_boxplot\")\\\n",
    "\n",
    "# Create a SparkContext with the specified configurations\n",
    "if 'spark' in locals() and spark!=None:\n",
    "    spark.stop()\n",
    "\n",
    "sc = SparkContext(conf=conf)\n",
    "\n",
    "# Create a SparkSession from the SparkContext\n",
    "spark = SparkSession(sc)"
   ]
  },
  {
   "cell_type": "code",
   "execution_count": 3,
   "id": "4a9bdcd4-6baa-413c-995a-442f25578c88",
   "metadata": {
    "execution": {
     "iopub.execute_input": "2024-02-15T23:24:44.707536Z",
     "iopub.status.busy": "2024-02-15T23:24:44.707375Z",
     "iopub.status.idle": "2024-02-15T23:25:05.576911Z",
     "shell.execute_reply": "2024-02-15T23:25:05.576468Z",
     "shell.execute_reply.started": "2024-02-15T23:24:44.707522Z"
    },
    "tags": []
   },
   "outputs": [
    {
     "name": "stderr",
     "output_type": "stream",
     "text": [
      "24/02/15 18:24:57 WARN GarbageCollectionMetrics: To enable non-built-in garbage collector(s) List(G1 Concurrent GC), users should configure it(them) to spark.eventLog.gcMetrics.youngGenerationGarbageCollectors or spark.eventLog.gcMetrics.oldGenerationGarbageCollectors\n",
      "                                                                                \r"
     ]
    }
   ],
   "source": [
    "#loading in all autosomes\n",
    "#Skipping sex chromosomes, see readme\n",
    "df = spark.read \\\n",
    "    .option(\"comment\", \"#\") \\\n",
    "    .option(\"delimiter\", \",\") \\\n",
    "    .csv(\"/gpfs/gibbs/pi/reilly/VariantEffects/scripts/noon_data/2.filter/*.csv/*.csv.gz\", header=True)"
   ]
  },
  {
   "cell_type": "code",
   "execution_count": 4,
   "id": "68513667-9e6e-4fc4-a3c8-de4cc7569857",
   "metadata": {
    "execution": {
     "iopub.execute_input": "2024-02-15T23:25:05.577719Z",
     "iopub.status.busy": "2024-02-15T23:25:05.577559Z",
     "iopub.status.idle": "2024-02-15T23:25:05.663426Z",
     "shell.execute_reply": "2024-02-15T23:25:05.662998Z",
     "shell.execute_reply.started": "2024-02-15T23:25:05.577705Z"
    },
    "tags": []
   },
   "outputs": [],
   "source": [
    "cell_types=[\"K562\",\"SKNSH\",\"HepG2\"]\n",
    "for cell_type in cell_types:\n",
    "    df = df.withColumn(f\"emVar_{cell_type}\", \n",
    "                           (F.abs(F.col(f\"{cell_type}__skew\")) >= 0.5) & \n",
    "                           (F.greatest(F.col(f\"{cell_type}__ref\"), F.col(f\"{cell_type}__alt\")) >= 1.0))\n",
    "\n",
    "#next, we count the number of cell-types each variant is an emvar in to compute the pleitropy. \n",
    "df = df.withColumn(\"pleio\", F.col(\"emVar_K562\").cast(\"int\") + F.col(\"emVar_SKNSH\").cast(\"int\") + F.col(\"emVar_HepG2\").cast(\"int\"))"
   ]
  },
  {
   "cell_type": "code",
   "execution_count": 6,
   "id": "3a37f93c-da97-4be2-a22e-b2f3858c984a",
   "metadata": {
    "execution": {
     "iopub.execute_input": "2024-02-15T23:25:05.672908Z",
     "iopub.status.busy": "2024-02-15T23:25:05.672775Z",
     "iopub.status.idle": "2024-02-15T23:25:05.692743Z",
     "shell.execute_reply": "2024-02-15T23:25:05.692377Z",
     "shell.execute_reply.started": "2024-02-15T23:25:05.672896Z"
    },
    "tags": []
   },
   "outputs": [],
   "source": [
    "df=df.withColumn(\"AF\",F.col(\"AF\").cast(\"float\"))"
   ]
  },
  {
   "cell_type": "code",
   "execution_count": 7,
   "id": "4c742f06-e462-47cb-abf9-86eeb38caa81",
   "metadata": {
    "execution": {
     "iopub.execute_input": "2024-02-15T23:25:05.694208Z",
     "iopub.status.busy": "2024-02-15T23:25:05.693861Z",
     "iopub.status.idle": "2024-02-15T23:25:05.698815Z",
     "shell.execute_reply": "2024-02-15T23:25:05.698471Z",
     "shell.execute_reply.started": "2024-02-15T23:25:05.694195Z"
    },
    "tags": []
   },
   "outputs": [],
   "source": [
    "output={\"tropy\":[],\"region\":[],\"n\":[],\"quartiles\":[],\"mean\":[],\"stdev\":[],\"min\":[],\"max\":[]}\n",
    "\n",
    "quantile_probs = [0.25, 0.5, 0.75]  # For quartiles\n",
    "quantile_reliability = 0.05  # Adjust based on your needs\n",
    "\n",
    "def compute(tropy,region):\n",
    "    print(f\"Computing {tropy} and {region}\")\n",
    "\n",
    "    output[\"tropy\"].append(tropy)\n",
    "    output[\"region\"].append(region)\n",
    "\n",
    "    subset=df\n",
    "\n",
    "    if tropy!=\"ALL\":\n",
    "        subset=subset.where(F.col(\"pleio\")==tropy)\n",
    "\n",
    "    if region !=\"ALL\":\n",
    "        subset=subset.where(F.col(region)==True)\n",
    "\n",
    "\n",
    "    #quartiles\n",
    "    output[\"quartiles\"].append(subset.stat.approxQuantile('AF', quantile_probs, quantile_reliability) )\n",
    "\n",
    "    #min\n",
    "\n",
    "    output[\"min\"].append( subset.agg(F.min('AF')).alias('min').toPandas()[\"min(AF)\"][0] )\n",
    "\n",
    "\n",
    "    #max\n",
    "\n",
    "    output[\"max\"].append( subset.agg(F.max('AF')).alias('max').toPandas()[\"max(AF)\"][0] )\n",
    "\n",
    "    #n\n",
    "    output[\"n\"].append(subset.count())\n",
    "\n",
    "    #avg\n",
    "    output[\"mean\"].append( subset.agg(F.avg(\"AF\").alias(\"mean\")).collect()[0]['mean'] )\n",
    "\n",
    "    #stdev\n",
    "    output[\"stdev\"].append( subset.agg(F.stddev_pop(\"AF\").alias(\"stddev_pop\")).collect()[0]['stddev_pop'] )"
   ]
  },
  {
   "cell_type": "code",
   "execution_count": 8,
   "id": "ef1c581e-3004-4aad-b35c-c6fbbf658584",
   "metadata": {
    "execution": {
     "iopub.execute_input": "2024-02-15T23:25:05.699569Z",
     "iopub.status.busy": "2024-02-15T23:25:05.699293Z",
     "iopub.status.idle": "2024-02-15T23:25:06.104062Z",
     "shell.execute_reply": "2024-02-15T23:25:06.103511Z",
     "shell.execute_reply.started": "2024-02-15T23:25:05.699556Z"
    },
    "tags": []
   },
   "outputs": [
    {
     "ename": "KeyError",
     "evalue": "'SLURM_ARRAY_TASK_ID'",
     "output_type": "error",
     "traceback": [
      "\u001b[0;31m---------------------------------------------------------------------------\u001b[0m",
      "\u001b[0;31mKeyError\u001b[0m                                  Traceback (most recent call last)",
      "Cell \u001b[0;32mIn[8], line 6\u001b[0m\n\u001b[1;32m      3\u001b[0m     \u001b[38;5;28;01mfor\u001b[39;00m region \u001b[38;5;129;01min\u001b[39;00m [\u001b[38;5;124m\"\u001b[39m\u001b[38;5;124mis_in_PLS\u001b[39m\u001b[38;5;124m\"\u001b[39m,\u001b[38;5;124m\"\u001b[39m\u001b[38;5;124mis_in_dELS\u001b[39m\u001b[38;5;124m\"\u001b[39m,\u001b[38;5;124m\"\u001b[39m\u001b[38;5;124mis_in_pELS\u001b[39m\u001b[38;5;124m\"\u001b[39m,\u001b[38;5;124m\"\u001b[39m\u001b[38;5;124mALL\u001b[39m\u001b[38;5;124m\"\u001b[39m]:\n\u001b[1;32m      4\u001b[0m         combos\u001b[38;5;241m.\u001b[39mappend({\u001b[38;5;124m'\u001b[39m\u001b[38;5;124mtropy\u001b[39m\u001b[38;5;124m'\u001b[39m:tropy,\u001b[38;5;124m'\u001b[39m\u001b[38;5;124mregion\u001b[39m\u001b[38;5;124m'\u001b[39m:region})\n\u001b[0;32m----> 6\u001b[0m array_id\u001b[38;5;241m=\u001b[39m\u001b[38;5;28mint\u001b[39m(\u001b[43mos\u001b[49m\u001b[38;5;241;43m.\u001b[39;49m\u001b[43menviron\u001b[49m\u001b[43m[\u001b[49m\u001b[38;5;124;43m'\u001b[39;49m\u001b[38;5;124;43mSLURM_ARRAY_TASK_ID\u001b[39;49m\u001b[38;5;124;43m'\u001b[39;49m\u001b[43m]\u001b[49m)\n\u001b[1;32m      7\u001b[0m \u001b[38;5;66;03m#this call will populate `output`\u001b[39;00m\n\u001b[1;32m      8\u001b[0m compute(tropy\u001b[38;5;241m=\u001b[39mcombos[array_id][\u001b[38;5;124m\"\u001b[39m\u001b[38;5;124mtropy\u001b[39m\u001b[38;5;124m\"\u001b[39m],region\u001b[38;5;241m=\u001b[39mcombos[array_id][\u001b[38;5;124m\"\u001b[39m\u001b[38;5;124mregion\u001b[39m\u001b[38;5;124m\"\u001b[39m])\n",
      "File \u001b[0;32m~/.conda/envs/mcn_vareff/lib/python3.10/os.py:680\u001b[0m, in \u001b[0;36m_Environ.__getitem__\u001b[0;34m(self, key)\u001b[0m\n\u001b[1;32m    677\u001b[0m     value \u001b[38;5;241m=\u001b[39m \u001b[38;5;28mself\u001b[39m\u001b[38;5;241m.\u001b[39m_data[\u001b[38;5;28mself\u001b[39m\u001b[38;5;241m.\u001b[39mencodekey(key)]\n\u001b[1;32m    678\u001b[0m \u001b[38;5;28;01mexcept\u001b[39;00m \u001b[38;5;167;01mKeyError\u001b[39;00m:\n\u001b[1;32m    679\u001b[0m     \u001b[38;5;66;03m# raise KeyError with the original key value\u001b[39;00m\n\u001b[0;32m--> 680\u001b[0m     \u001b[38;5;28;01mraise\u001b[39;00m \u001b[38;5;167;01mKeyError\u001b[39;00m(key) \u001b[38;5;28;01mfrom\u001b[39;00m \u001b[38;5;28;01mNone\u001b[39;00m\n\u001b[1;32m    681\u001b[0m \u001b[38;5;28;01mreturn\u001b[39;00m \u001b[38;5;28mself\u001b[39m\u001b[38;5;241m.\u001b[39mdecodevalue(value)\n",
      "\u001b[0;31mKeyError\u001b[0m: 'SLURM_ARRAY_TASK_ID'"
     ]
    }
   ],
   "source": [
    "combos=[]\n",
    "for tropy in [\"0\",\"1\",\"2\",\"ALL\"]:\n",
    "    for region in [\"is_in_PLS\",\"is_in_dELS\",\"is_in_pELS\",\"ALL\"]:\n",
    "        combos.append({'tropy':tropy,'region':region})\n",
    "        \n",
    "array_id=int(os.environ['SLURM_ARRAY_TASK_ID'])\n",
    "#this call will populate `output`\n",
    "compute(tropy=combos[array_id][\"tropy\"],region=combos[array_id][\"region\"])"
   ]
  },
  {
   "cell_type": "code",
   "execution_count": null,
   "id": "5e5e383c-2006-4c95-94ee-0bbe3e2a6ce7",
   "metadata": {
    "execution": {
     "iopub.status.busy": "2024-02-15T23:25:06.104520Z",
     "iopub.status.idle": "2024-02-15T23:25:06.104702Z",
     "shell.execute_reply": "2024-02-15T23:25:06.104616Z",
     "shell.execute_reply.started": "2024-02-15T23:25:06.104608Z"
    },
    "tags": []
   },
   "outputs": [],
   "source": [
    "import pickle\n",
    "\n",
    "filename=f\"preprocess_pleio_{combos[array_id]['tropy']}_region_{combos[array_id]['region']}_.pkl\"\n",
    "print(\"writing f{filename}\")\n",
    "with open(filename, 'wb') as file:\n",
    "    pickle.dump(output, file)"
   ]
  }
 ],
 "metadata": {
  "kernelspec": {
   "display_name": "Python 3 (ipykernel)",
   "language": "python",
   "name": "python3"
  },
  "language_info": {
   "codemirror_mode": {
    "name": "ipython",
    "version": 3
   },
   "file_extension": ".py",
   "mimetype": "text/x-python",
   "name": "python",
   "nbconvert_exporter": "python",
   "pygments_lexer": "ipython3",
   "version": "3.10.12"
  }
 },
 "nbformat": 4,
 "nbformat_minor": 5
}
