{
 "cells": [
  {
   "cell_type": "code",
   "execution_count": 9,
   "id": "8d752a38-dd09-44bf-9cb3-67b0b818f64e",
   "metadata": {
    "execution": {
     "iopub.execute_input": "2024-02-07T16:57:56.487447Z",
     "iopub.status.busy": "2024-02-07T16:57:56.486981Z",
     "iopub.status.idle": "2024-02-07T16:57:56.489677Z",
     "shell.execute_reply": "2024-02-07T16:57:56.489317Z",
     "shell.execute_reply.started": "2024-02-07T16:57:56.487429Z"
    },
    "tags": []
   },
   "outputs": [],
   "source": [
    "from pyspark.sql import SparkSession\n",
    "from pyspark import SparkConf, SparkContext\n",
    "import pyspark.sql.functions as F \n",
    "import os"
   ]
  },
  {
   "cell_type": "code",
   "execution_count": 10,
   "id": "7f7ee9d9-33d1-4f2a-89b2-73732ea98a08",
   "metadata": {
    "execution": {
     "iopub.execute_input": "2024-02-07T16:57:57.472838Z",
     "iopub.status.busy": "2024-02-07T16:57:57.472388Z",
     "iopub.status.idle": "2024-02-07T16:58:00.010100Z",
     "shell.execute_reply": "2024-02-07T16:58:00.009616Z",
     "shell.execute_reply.started": "2024-02-07T16:57:57.472815Z"
    },
    "tags": []
   },
   "outputs": [
    {
     "name": "stderr",
     "output_type": "stream",
     "text": [
      "Setting default log level to \"WARN\".\n",
      "To adjust logging level use sc.setLogLevel(newLevel). For SparkR, use setLogLevel(newLevel).\n",
      "24/02/07 11:57:59 WARN NativeCodeLoader: Unable to load native-hadoop library for your platform... using builtin-java classes where applicable\n",
      "24/02/07 11:58:12 WARN GarbageCollectionMetrics: To enable non-built-in garbage collector(s) List(G1 Concurrent GC), users should configure it(them) to spark.eventLog.gcMetrics.youngGenerationGarbageCollectors or spark.eventLog.gcMetrics.oldGenerationGarbageCollectors\n"
     ]
    }
   ],
   "source": [
    "conf = SparkConf() \\\n",
    "    .setAppName(\"pleio_vs_purif_boxplot\")\\\n",
    "\n",
    "# Create a SparkContext with the specified configurations\n",
    "if 'spark' in locals() and spark!=None:\n",
    "    spark.stop()\n",
    "\n",
    "sc = SparkContext(conf=conf)\n",
    "\n",
    "# Create a SparkSession from the SparkContext\n",
    "spark = SparkSession(sc)"
   ]
  },
  {
   "cell_type": "code",
   "execution_count": 11,
   "id": "4a9bdcd4-6baa-413c-995a-442f25578c88",
   "metadata": {
    "execution": {
     "iopub.execute_input": "2024-02-07T17:00:54.025615Z",
     "iopub.status.busy": "2024-02-07T17:00:54.025321Z",
     "iopub.status.idle": "2024-02-07T17:01:33.634852Z",
     "shell.execute_reply": "2024-02-07T17:01:33.634399Z",
     "shell.execute_reply.started": "2024-02-07T17:00:54.025594Z"
    },
    "tags": []
   },
   "outputs": [
    {
     "name": "stderr",
     "output_type": "stream",
     "text": [
      "                                                                                \r"
     ]
    }
   ],
   "source": [
    "#loading in all autosomes\n",
    "#Skipping sex chromosomes, see readme\n",
    "df = spark.read \\\n",
    "    .option(\"comment\", \"#\") \\\n",
    "    .option(\"delimiter\", \",\") \\\n",
    "    .csv(\"/gpfs/gibbs/pi/reilly/VariantEffects/scripts/noon_data/2.filter/*.csv/*.csv.gz\", header=True)"
   ]
  },
  {
   "cell_type": "code",
   "execution_count": 12,
   "id": "68513667-9e6e-4fc4-a3c8-de4cc7569857",
   "metadata": {
    "execution": {
     "iopub.execute_input": "2024-02-07T17:01:33.635973Z",
     "iopub.status.busy": "2024-02-07T17:01:33.635682Z",
     "iopub.status.idle": "2024-02-07T17:01:33.727600Z",
     "shell.execute_reply": "2024-02-07T17:01:33.727164Z",
     "shell.execute_reply.started": "2024-02-07T17:01:33.635958Z"
    },
    "tags": []
   },
   "outputs": [],
   "source": [
    "cell_types=[\"K562\",\"SKNSH\",\"HepG2\"]\n",
    "for cell_type in cell_types:\n",
    "    df = df.withColumn(f\"emVar_{cell_type}\", \n",
    "                           (F.abs(F.col(f\"{cell_type}__skew\")) >= 0.5) & \n",
    "                           (F.greatest(F.col(f\"{cell_type}__ref\"), F.col(f\"{cell_type}__alt\")) >= 1.0))\n",
    "\n",
    "#next, we count the number of cell-types each variant is an emvar in to compute the pleitropy. \n",
    "df = df.withColumn(\"pleio\", F.col(\"emVar_K562\").cast(\"int\") + F.col(\"emVar_SKNSH\").cast(\"int\") + F.col(\"emVar_HepG2\").cast(\"int\"))"
   ]
  },
  {
   "cell_type": "code",
   "execution_count": 14,
   "id": "b84429ba-1946-4b66-84a9-f1c382542547",
   "metadata": {
    "execution": {
     "iopub.execute_input": "2024-02-07T17:02:29.414986Z",
     "iopub.status.busy": "2024-02-07T17:02:29.414713Z",
     "iopub.status.idle": "2024-02-07T17:02:29.425230Z",
     "shell.execute_reply": "2024-02-07T17:02:29.424848Z",
     "shell.execute_reply.started": "2024-02-07T17:02:29.414969Z"
    },
    "tags": []
   },
   "outputs": [],
   "source": [
    "df=df.where(F.col(\"category\")!=\"MAF_OR_AC_IS_ZERO\")"
   ]
  },
  {
   "cell_type": "code",
   "execution_count": 15,
   "id": "3a37f93c-da97-4be2-a22e-b2f3858c984a",
   "metadata": {
    "execution": {
     "iopub.execute_input": "2024-02-07T17:02:31.291638Z",
     "iopub.status.busy": "2024-02-07T17:02:31.291203Z",
     "iopub.status.idle": "2024-02-07T17:02:31.307780Z",
     "shell.execute_reply": "2024-02-07T17:02:31.307400Z",
     "shell.execute_reply.started": "2024-02-07T17:02:31.291622Z"
    },
    "tags": []
   },
   "outputs": [],
   "source": [
    "df=df.withColumn(\"AF\",F.col(\"AF\").cast(\"float\"))"
   ]
  },
  {
   "cell_type": "code",
   "execution_count": 90,
   "id": "4c742f06-e462-47cb-abf9-86eeb38caa81",
   "metadata": {
    "execution": {
     "iopub.execute_input": "2024-02-06T20:32:21.560517Z",
     "iopub.status.busy": "2024-02-06T20:32:21.560288Z",
     "iopub.status.idle": "2024-02-06T20:32:21.565188Z",
     "shell.execute_reply": "2024-02-06T20:32:21.564840Z",
     "shell.execute_reply.started": "2024-02-06T20:32:21.560500Z"
    },
    "tags": []
   },
   "outputs": [],
   "source": [
    "output={\"tropy\":[],\"region\":[],\"n\":[],\"quartiles\":[],\"mean\":[],\"stdev\":[],\"min\":[],\"max\":[]}\n",
    "\n",
    "quantile_probs = [0.25, 0.5, 0.75]  # For quartiles\n",
    "quantile_reliability = 0.05  # Adjust based on your needs\n",
    "\n",
    "def compute(tropy,region):\n",
    "    print(f\"Computing {tropy} and {region}\")\n",
    "\n",
    "    output[\"tropy\"].append(tropy)\n",
    "    output[\"region\"].append(region)\n",
    "\n",
    "    subset=df\n",
    "\n",
    "    if tropy!=\"ALL\":\n",
    "        subset=subset.where(F.col(\"pleio\")==tropy)\n",
    "\n",
    "    if region !=\"ALL\":\n",
    "        subset=subset.where(F.col(region)==True)\n",
    "\n",
    "\n",
    "    #quartiles\n",
    "    output[\"quartiles\"].append(subset.stat.approxQuantile('AF', quantile_probs, quantile_reliability) )\n",
    "\n",
    "    #min\n",
    "\n",
    "    output[\"min\"].append( subset.agg(F.min('AF')).alias('min').toPandas()[\"min(AF)\"][0] )\n",
    "\n",
    "\n",
    "    #max\n",
    "\n",
    "    output[\"max\"].append( subset.agg(F.max('AF')).alias('max').toPandas()[\"max(AF)\"][0] )\n",
    "\n",
    "    #n\n",
    "    output[\"n\"].append(subset.count())\n",
    "\n",
    "    #avg\n",
    "    output[\"mean\"].append( subset.agg(F.avg(\"AF\").alias(\"mean\")).collect()[0]['mean'] )\n",
    "\n",
    "    #stdev\n",
    "    output[\"stdev\"].append( subset.agg(F.stddev_pop(\"AF\").alias(\"stddev_pop\")).collect()[0]['stddev_pop'] )"
   ]
  },
  {
   "cell_type": "code",
   "execution_count": 5,
   "id": "ef1c581e-3004-4aad-b35c-c6fbbf658584",
   "metadata": {
    "execution": {
     "iopub.execute_input": "2024-02-07T16:55:26.075427Z",
     "iopub.status.busy": "2024-02-07T16:55:26.074972Z",
     "iopub.status.idle": "2024-02-07T16:55:26.077931Z",
     "shell.execute_reply": "2024-02-07T16:55:26.077579Z",
     "shell.execute_reply.started": "2024-02-07T16:55:26.075409Z"
    },
    "tags": []
   },
   "outputs": [],
   "source": [
    "combos=[]\n",
    "for tropy in [\"0\",\"1\",\"2\",\"ALL\"]:\n",
    "    for region in [\"is_in_PLS\",\"is_in_dELS\",\"is_in_pELS\",\"ALL\"]:\n",
    "        combos.append({'tropy':tropy,'region':region})\n",
    "        \n",
    "array_id=int(os.environ['SLURM_ARRAY_TASK_ID'])\n",
    "#this call will populate `output`\n",
    "compute(tropy=combos[array_id][\"tropy\"],region=combos[array_id][\"region\"])"
   ]
  },
  {
   "cell_type": "code",
   "execution_count": 94,
   "id": "5e5e383c-2006-4c95-94ee-0bbe3e2a6ce7",
   "metadata": {
    "execution": {
     "iopub.execute_input": "2024-02-06T20:33:46.767475Z",
     "iopub.status.busy": "2024-02-06T20:33:46.767192Z",
     "iopub.status.idle": "2024-02-06T20:33:46.770148Z",
     "shell.execute_reply": "2024-02-06T20:33:46.769788Z",
     "shell.execute_reply.started": "2024-02-06T20:33:46.767457Z"
    },
    "tags": []
   },
   "outputs": [],
   "source": [
    "import pickle\n",
    "\n",
    "filename=f\"preprocess_pleio_{combos[array_id]['tropy']}_region_{combos[array_id]['region']}_.pkl\"\n",
    "print(\"writing f{filename}\")\n",
    "with open(filename, 'wb') as file:\n",
    "    pickle.dump(output, file)"
   ]
  }
 ],
 "metadata": {
  "kernelspec": {
   "display_name": "Python 3 (ipykernel)",
   "language": "python",
   "name": "python3"
  },
  "language_info": {
   "codemirror_mode": {
    "name": "ipython",
    "version": 3
   },
   "file_extension": ".py",
   "mimetype": "text/x-python",
   "name": "python",
   "nbconvert_exporter": "python",
   "pygments_lexer": "ipython3",
   "version": "3.10.12"
  }
 },
 "nbformat": 4,
 "nbformat_minor": 5
}
