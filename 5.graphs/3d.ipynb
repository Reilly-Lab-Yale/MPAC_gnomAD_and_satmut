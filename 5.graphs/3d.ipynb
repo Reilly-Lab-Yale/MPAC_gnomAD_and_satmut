{
 "cells": [
  {
   "cell_type": "code",
   "execution_count": 1,
   "id": "88d2198c-92d6-4eb1-9a46-04179b88bf64",
   "metadata": {
    "execution": {
     "iopub.execute_input": "2024-02-19T15:58:20.743300Z",
     "iopub.status.busy": "2024-02-19T15:58:20.742817Z",
     "iopub.status.idle": "2024-02-19T15:58:21.436836Z",
     "shell.execute_reply": "2024-02-19T15:58:21.436409Z",
     "shell.execute_reply.started": "2024-02-19T15:58:20.743282Z"
    },
    "tags": []
   },
   "outputs": [],
   "source": [
    "from pyspark import SparkConf, SparkContext\n",
    "from pyspark.sql import SparkSession\n",
    "import pyspark.sql.functions as F\n",
    "import numpy as np"
   ]
  },
  {
   "cell_type": "code",
   "execution_count": 2,
   "id": "b0082887-c640-4392-a0d8-1d64b1a87774",
   "metadata": {
    "execution": {
     "iopub.execute_input": "2024-02-19T15:58:21.774612Z",
     "iopub.status.busy": "2024-02-19T15:58:21.774089Z",
     "iopub.status.idle": "2024-02-19T15:58:21.780016Z",
     "shell.execute_reply": "2024-02-19T15:58:21.779663Z",
     "shell.execute_reply.started": "2024-02-19T15:58:21.774592Z"
    },
    "tags": []
   },
   "outputs": [
    {
     "data": {
      "text/plain": [
       "<module 'graphing_config' from '/gpfs/gibbs/pi/reilly/VariantEffects/scripts/noon_scripts/5.graphs/graphing_config.py'>"
      ]
     },
     "execution_count": 2,
     "metadata": {},
     "output_type": "execute_result"
    }
   ],
   "source": [
    "#importlib code just for debugging : to allow changes in graphing_config to \n",
    "#reflect here. It can be removed if you are not making changes to graphing_config\n",
    "\n",
    "import importlib ##can remove\n",
    "import graphing_config as GC\n",
    "importlib.reload(GC) ##can remove"
   ]
  },
  {
   "cell_type": "code",
   "execution_count": 3,
   "id": "8eed44de-8601-43e2-830a-f594273c4ee8",
   "metadata": {
    "execution": {
     "iopub.execute_input": "2024-02-19T15:58:23.752522Z",
     "iopub.status.busy": "2024-02-19T15:58:23.752237Z",
     "iopub.status.idle": "2024-02-19T15:58:29.114856Z",
     "shell.execute_reply": "2024-02-19T15:58:29.114393Z",
     "shell.execute_reply.started": "2024-02-19T15:58:23.752503Z"
    },
    "tags": []
   },
   "outputs": [
    {
     "name": "stderr",
     "output_type": "stream",
     "text": [
      "Setting default log level to \"WARN\".\n",
      "To adjust logging level use sc.setLogLevel(newLevel). For SparkR, use setLogLevel(newLevel).\n",
      "24/02/19 10:58:27 WARN NativeCodeLoader: Unable to load native-hadoop library for your platform... using builtin-java classes where applicable\n"
     ]
    }
   ],
   "source": [
    "conf = SparkConf() \\\n",
    "    .setAppName(\"3d\")\\\n",
    "\n",
    "# Create a SparkContext with the specified configurations\n",
    "if 'spark' in locals() and spark!=None:\n",
    "    spark.stop()\n",
    "\n",
    "sc = SparkContext(conf=conf)\n",
    "\n",
    "# Create a SparkSession from the SparkContext\n",
    "spark = SparkSession(sc)"
   ]
  },
  {
   "cell_type": "markdown",
   "id": "18915669-94ad-4b42-8372-98a08d4dcfd3",
   "metadata": {
    "execution": {
     "iopub.execute_input": "2024-02-15T22:35:03.917270Z",
     "iopub.status.busy": "2024-02-15T22:35:03.916913Z",
     "iopub.status.idle": "2024-02-15T22:35:03.919389Z",
     "shell.execute_reply": "2024-02-15T22:35:03.919033Z",
     "shell.execute_reply.started": "2024-02-15T22:35:03.917250Z"
    },
    "tags": []
   },
   "source": [
    "we will start with mean across all three cell types, & eventually generalize...\n",
    "\n",
    "x = skew\n",
    "\n",
    "y = ref\n",
    "\n",
    "z = AF"
   ]
  },
  {
   "cell_type": "code",
   "execution_count": 4,
   "id": "f74b0707-a826-4d13-82a4-de8166330e95",
   "metadata": {
    "execution": {
     "iopub.execute_input": "2024-02-19T15:58:29.115999Z",
     "iopub.status.busy": "2024-02-19T15:58:29.115770Z",
     "iopub.status.idle": "2024-02-19T15:58:37.432035Z",
     "shell.execute_reply": "2024-02-19T15:58:37.431595Z",
     "shell.execute_reply.started": "2024-02-19T15:58:29.115982Z"
    },
    "tags": []
   },
   "outputs": [
    {
     "name": "stderr",
     "output_type": "stream",
     "text": [
      "                                                                                \r"
     ]
    }
   ],
   "source": [
    "df = spark.read \\\n",
    "    .csv(\"/home/mcn26/varef/scripts/noon_data/3.pleio_and_filter/chr*/*.csv.gz\", header=True)"
   ]
  },
  {
   "cell_type": "code",
   "execution_count": 5,
   "id": "6b266b42-124d-482a-b58a-5ce898fc17ac",
   "metadata": {
    "execution": {
     "iopub.execute_input": "2024-02-19T15:58:37.433136Z",
     "iopub.status.busy": "2024-02-19T15:58:37.432833Z",
     "iopub.status.idle": "2024-02-19T15:58:37.437629Z",
     "shell.execute_reply": "2024-02-19T15:58:37.437290Z",
     "shell.execute_reply.started": "2024-02-19T15:58:37.433122Z"
    },
    "tags": []
   },
   "outputs": [],
   "source": [
    "df=df.limit(1000)#debug"
   ]
  },
  {
   "cell_type": "code",
   "execution_count": null,
   "id": "cf4961a7-e2b8-4db9-b130-b2e9109ee239",
   "metadata": {},
   "outputs": [],
   "source": [
    "#we will do manual typecasts to avoid the long computation times associated with schema inferance"
   ]
  },
  {
   "cell_type": "code",
   "execution_count": 6,
   "id": "00dc688a-3182-4f7e-a786-3c1096687509",
   "metadata": {
    "execution": {
     "iopub.execute_input": "2024-02-19T15:58:38.655946Z",
     "iopub.status.busy": "2024-02-19T15:58:38.655486Z",
     "iopub.status.idle": "2024-02-19T15:58:38.675801Z",
     "shell.execute_reply": "2024-02-19T15:58:38.675462Z",
     "shell.execute_reply.started": "2024-02-19T15:58:38.655929Z"
    },
    "tags": []
   },
   "outputs": [
    {
     "data": {
      "text/plain": [
       "DataFrame[CHROM: string, POS: string, ID: string, REF: string, ALT: string, QUAL: string, FILTER: string, INFO: string, K562__ref: string, HepG2__ref: string, SKNSH__ref: string, K562__alt: string, HepG2__alt: string, SKNSH__alt: string, K562__skew: string, HepG2__skew: string, SKNSH__skew: string, AC: string, AN: string, AF: string, cadd_phred: string, is_in_dELS: string, is_in_CA: string, is_in_pELS: string, is_in_CA-H3K4me3: string, is_in_CA-CTCF: string, is_in_PLS: string, is_in_TF: string, is_in_CA-TF: string, P_ANNO: string, mean_ref: string, mean_skew: string, MAF: string, category: string, emVar_K562: string, emVar_SKNSH: string, emVar_HepG2: string, pleio: string]"
      ]
     },
     "execution_count": 6,
     "metadata": {},
     "output_type": "execute_result"
    },
    {
     "name": "stderr",
     "output_type": "stream",
     "text": [
      "24/02/19 10:58:39 WARN GarbageCollectionMetrics: To enable non-built-in garbage collector(s) List(G1 Concurrent GC), users should configure it(them) to spark.eventLog.gcMetrics.youngGenerationGarbageCollectors or spark.eventLog.gcMetrics.oldGenerationGarbageCollectors\n"
     ]
    }
   ],
   "source": [
    "df"
   ]
  },
  {
   "cell_type": "code",
   "execution_count": null,
   "id": "5b26999d-f149-4ce0-98ca-8b3c9d17ea7e",
   "metadata": {},
   "outputs": [],
   "source": [
    "x=\"mean_ref\"\n",
    "y=\"\"\n",
    "z=\"MAF\""
   ]
  },
  {
   "cell_type": "code",
   "execution_count": null,
   "id": "ec098f72-0342-40af-aa58-76d531bcdd00",
   "metadata": {},
   "outputs": [],
   "source": [
    "min_max_df = df.agg(min(col(x)).alias(f'min_{x}'), max(col(x)).alias(f'max_{x}'),\n",
    "                    min(col(y)).alias(f'min_{y}'), max(col(y)).alias(f'max_{y}'),\n",
    "                    min(col(z)).alias(f'min_{z}'), max(col(z)).alias(f'max_{z}'))"
   ]
  }
 ],
 "metadata": {
  "kernelspec": {
   "display_name": "Python 3 (ipykernel)",
   "language": "python",
   "name": "python3"
  },
  "language_info": {
   "codemirror_mode": {
    "name": "ipython",
    "version": 3
   },
   "file_extension": ".py",
   "mimetype": "text/x-python",
   "name": "python",
   "nbconvert_exporter": "python",
   "pygments_lexer": "ipython3",
   "version": "3.10.12"
  }
 },
 "nbformat": 4,
 "nbformat_minor": 5
}
