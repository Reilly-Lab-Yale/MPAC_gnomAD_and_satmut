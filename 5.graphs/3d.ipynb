{
 "cells": [
  {
   "cell_type": "code",
   "execution_count": 11,
   "id": "88d2198c-92d6-4eb1-9a46-04179b88bf64",
   "metadata": {
    "execution": {
     "iopub.execute_input": "2024-02-15T22:49:06.516949Z",
     "iopub.status.busy": "2024-02-15T22:49:06.516590Z",
     "iopub.status.idle": "2024-02-15T22:49:06.520450Z",
     "shell.execute_reply": "2024-02-15T22:49:06.520022Z",
     "shell.execute_reply.started": "2024-02-15T22:49:06.516922Z"
    },
    "tags": []
   },
   "outputs": [],
   "source": [
    "from pyspark import SparkConf, SparkContext\n",
    "from pyspark.sql import SparkSession\n",
    "import pyspark.sql.functions as F\n",
    "import numpy as np"
   ]
  },
  {
   "cell_type": "code",
   "execution_count": 12,
   "id": "b0082887-c640-4392-a0d8-1d64b1a87774",
   "metadata": {
    "execution": {
     "iopub.execute_input": "2024-02-15T22:49:08.712601Z",
     "iopub.status.busy": "2024-02-15T22:49:08.712353Z",
     "iopub.status.idle": "2024-02-15T22:49:08.729790Z",
     "shell.execute_reply": "2024-02-15T22:49:08.729264Z",
     "shell.execute_reply.started": "2024-02-15T22:49:08.712583Z"
    },
    "tags": []
   },
   "outputs": [
    {
     "data": {
      "text/plain": [
       "<module 'graphing_config' from '/gpfs/gibbs/pi/reilly/VariantEffects/scripts/noon_scripts/5.graphs/graphing_config.py'>"
      ]
     },
     "execution_count": 12,
     "metadata": {},
     "output_type": "execute_result"
    }
   ],
   "source": [
    "#importlib code just for debugging : to allow changes in graphing_config to \n",
    "#reflect here. It can be removed if you are not making changes to graphing_config\n",
    "\n",
    "import importlib ##can remove\n",
    "import graphing_config as GC\n",
    "importlib.reload(GC) ##can remove"
   ]
  },
  {
   "cell_type": "code",
   "execution_count": 13,
   "id": "8eed44de-8601-43e2-830a-f594273c4ee8",
   "metadata": {
    "execution": {
     "iopub.execute_input": "2024-02-15T22:49:10.568574Z",
     "iopub.status.busy": "2024-02-15T22:49:10.568328Z",
     "iopub.status.idle": "2024-02-15T22:49:15.136593Z",
     "shell.execute_reply": "2024-02-15T22:49:15.136083Z",
     "shell.execute_reply.started": "2024-02-15T22:49:10.568557Z"
    },
    "tags": []
   },
   "outputs": [
    {
     "name": "stderr",
     "output_type": "stream",
     "text": [
      "Setting default log level to \"WARN\".\n",
      "To adjust logging level use sc.setLogLevel(newLevel). For SparkR, use setLogLevel(newLevel).\n",
      "24/02/15 17:49:13 WARN NativeCodeLoader: Unable to load native-hadoop library for your platform... using builtin-java classes where applicable\n",
      "24/02/15 17:49:14 WARN Utils: Service 'SparkUI' could not bind on port 4040. Attempting port 4041.\n",
      "24/02/15 17:49:14 WARN Utils: Service 'SparkUI' could not bind on port 4041. Attempting port 4042.\n"
     ]
    }
   ],
   "source": [
    "conf = SparkConf() \\\n",
    "    .setAppName(\"3d\")\\\n",
    "\n",
    "# Create a SparkContext with the specified configurations\n",
    "if 'spark' in locals() and spark!=None:\n",
    "    spark.stop()\n",
    "\n",
    "sc = SparkContext(conf=conf)\n",
    "\n",
    "# Create a SparkSession from the SparkContext\n",
    "spark = SparkSession(sc)"
   ]
  },
  {
   "cell_type": "markdown",
   "id": "18915669-94ad-4b42-8372-98a08d4dcfd3",
   "metadata": {
    "execution": {
     "iopub.execute_input": "2024-02-15T22:35:03.917270Z",
     "iopub.status.busy": "2024-02-15T22:35:03.916913Z",
     "iopub.status.idle": "2024-02-15T22:35:03.919389Z",
     "shell.execute_reply": "2024-02-15T22:35:03.919033Z",
     "shell.execute_reply.started": "2024-02-15T22:35:03.917250Z"
    },
    "tags": []
   },
   "source": [
    "we will start with mean across all three cell types, & eventually generalize...\n",
    "\n",
    "x = skew\n",
    "\n",
    "y = ref\n",
    "\n",
    "z = AF"
   ]
  },
  {
   "cell_type": "code",
   "execution_count": 18,
   "id": "f74b0707-a826-4d13-82a4-de8166330e95",
   "metadata": {
    "execution": {
     "iopub.execute_input": "2024-02-15T22:52:38.456558Z",
     "iopub.status.busy": "2024-02-15T22:52:38.456319Z",
     "iopub.status.idle": "2024-02-15T23:16:46.873007Z",
     "shell.execute_reply": "2024-02-15T23:16:46.872557Z",
     "shell.execute_reply.started": "2024-02-15T22:52:38.456541Z"
    },
    "tags": []
   },
   "outputs": [
    {
     "name": "stderr",
     "output_type": "stream",
     "text": [
      "                                                                                \r"
     ]
    }
   ],
   "source": [
    "df = spark.read \\\n",
    "    .csv(\"/home/mcn26/varef/scripts/noon_data/3.pleio_and_filter/chr*/*.csv.gz\", header=True,inferSchema=True)"
   ]
  },
  {
   "cell_type": "code",
   "execution_count": 19,
   "id": "6b266b42-124d-482a-b58a-5ce898fc17ac",
   "metadata": {
    "execution": {
     "iopub.execute_input": "2024-02-15T23:16:46.873971Z",
     "iopub.status.busy": "2024-02-15T23:16:46.873820Z",
     "iopub.status.idle": "2024-02-15T23:16:46.878574Z",
     "shell.execute_reply": "2024-02-15T23:16:46.878233Z",
     "shell.execute_reply.started": "2024-02-15T23:16:46.873957Z"
    },
    "tags": []
   },
   "outputs": [],
   "source": [
    "df=df.limit(1000)#debug"
   ]
  },
  {
   "cell_type": "code",
   "execution_count": 20,
   "id": "00dc688a-3182-4f7e-a786-3c1096687509",
   "metadata": {
    "execution": {
     "iopub.execute_input": "2024-02-15T23:16:46.879147Z",
     "iopub.status.busy": "2024-02-15T23:16:46.879020Z",
     "iopub.status.idle": "2024-02-15T23:16:46.903547Z",
     "shell.execute_reply": "2024-02-15T23:16:46.903186Z",
     "shell.execute_reply.started": "2024-02-15T23:16:46.879134Z"
    },
    "tags": []
   },
   "outputs": [
    {
     "data": {
      "text/plain": [
       "DataFrame[CHROM: string, POS: int, ID: string, REF: string, ALT: string, QUAL: string, FILTER: string, INFO: string, K562__ref: double, HepG2__ref: double, SKNSH__ref: double, K562__alt: double, HepG2__alt: double, SKNSH__alt: double, K562__skew: double, HepG2__skew: double, SKNSH__skew: double, AC: int, AN: int, AF: double, cadd_phred: double, is_in_dELS: boolean, is_in_CA: boolean, is_in_pELS: boolean, is_in_CA-H3K4me3: boolean, is_in_CA-CTCF: boolean, is_in_PLS: boolean, is_in_TF: boolean, is_in_CA-TF: boolean, P_ANNO: double, mean_ref: double, mean_skew: double, MAF: double, category: string, emVar_K562: boolean, emVar_SKNSH: boolean, emVar_HepG2: boolean, pleio: int]"
      ]
     },
     "execution_count": 20,
     "metadata": {},
     "output_type": "execute_result"
    }
   ],
   "source": [
    "df"
   ]
  },
  {
   "cell_type": "code",
   "execution_count": null,
   "id": "5b26999d-f149-4ce0-98ca-8b3c9d17ea7e",
   "metadata": {},
   "outputs": [],
   "source": [
    "x=\"mean_ref\""
   ]
  },
  {
   "cell_type": "code",
   "execution_count": null,
   "id": "ec098f72-0342-40af-aa58-76d531bcdd00",
   "metadata": {},
   "outputs": [],
   "source": [
    "min_max_df = df.agg(min(col('x')).alias('min_x'), max(col('x')).alias('max_x'),\n",
    "                    min(col('y')).alias('min_y'), max(col('y')).alias('max_y'),\n",
    "                    min(col('z')).alias('min_z'), max(col('z')).alias('max_z'))"
   ]
  }
 ],
 "metadata": {
  "kernelspec": {
   "display_name": "Python 3 (ipykernel)",
   "language": "python",
   "name": "python3"
  },
  "language_info": {
   "codemirror_mode": {
    "name": "ipython",
    "version": 3
   },
   "file_extension": ".py",
   "mimetype": "text/x-python",
   "name": "python",
   "nbconvert_exporter": "python",
   "pygments_lexer": "ipython3",
   "version": "3.10.12"
  }
 },
 "nbformat": 4,
 "nbformat_minor": 5
}
