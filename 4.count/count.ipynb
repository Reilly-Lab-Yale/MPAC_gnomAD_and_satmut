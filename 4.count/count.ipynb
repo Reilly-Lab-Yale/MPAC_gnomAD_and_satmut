{
 "cells": [
  {
   "cell_type": "markdown",
   "id": "e5941730-7061-4b4f-bf36-4615d23f1d2e",
   "metadata": {
    "tags": []
   },
   "source": [
    "We will generate a number of count tables, described in sections below.\n",
    "\n",
    "The basic approach is to load the data, then create a bunch of boolean columns corresponding to the various **conditions** (including bins) we would like to count. Then we compute a count table, where each row is a different combination of these boolean values. \n",
    "\n",
    "This results in counts of many rows counting combinations of categories we do not care about. So we subsequently groupby+sum to create sub-count-tables counting combinations of criteria we think may be meaningful.\n",
    "\n",
    "At various points, we pickle & dump to disc lists of threshold criteria, for the downstream graphing to use. (This allows changes in criteria to be quickly passed to the graphing scripts).\n",
    "\n",
    "(the old approach was more ad-hoc, re-doing the counting for each meaningful set of criteria. This caused redundant computation & was less flexible to adding more sets.)\n",
    "\n",
    "# setup"
   ]
  },
  {
   "cell_type": "code",
   "execution_count": 1,
   "id": "0a51615e-a596-45e9-a1db-b3877628a551",
   "metadata": {
    "execution": {
     "iopub.execute_input": "2024-02-01T00:14:27.874072Z",
     "iopub.status.busy": "2024-02-01T00:14:27.873606Z",
     "iopub.status.idle": "2024-02-01T00:14:27.878875Z",
     "shell.execute_reply": "2024-02-01T00:14:27.878506Z",
     "shell.execute_reply.started": "2024-02-01T00:14:27.874056Z"
    },
    "tags": []
   },
   "outputs": [],
   "source": [
    "data_output_base=\"/home/mcn26/varef/scripts/noon_data/3.count/\""
   ]
  },
  {
   "cell_type": "markdown",
   "id": "b18d4983-60fa-4ac1-9c00-4373c4fc3672",
   "metadata": {
    "tags": []
   },
   "source": [
    "## import "
   ]
  },
  {
   "cell_type": "code",
   "execution_count": 2,
   "id": "e0363d27-c5f7-4925-aa1f-e911f503be57",
   "metadata": {
    "execution": {
     "iopub.execute_input": "2024-02-01T00:14:29.825850Z",
     "iopub.status.busy": "2024-02-01T00:14:29.825462Z",
     "iopub.status.idle": "2024-02-01T00:14:30.668752Z",
     "shell.execute_reply": "2024-02-01T00:14:30.668319Z",
     "shell.execute_reply.started": "2024-02-01T00:14:29.825835Z"
    },
    "tags": []
   },
   "outputs": [],
   "source": [
    "from pyspark import SparkConf, SparkContext\n",
    "from pyspark.sql import SparkSession\n",
    "from pyspark.sql import Row\n",
    "from pyspark.sql import functions as F\n",
    "import pyspark.sql.types as T\n",
    "import pickle\n",
    "import pandas as pd"
   ]
  },
  {
   "cell_type": "markdown",
   "id": "67873089-a7f3-4ccf-8403-8a2413d84479",
   "metadata": {
    "tags": []
   },
   "source": [
    "## create a spark session"
   ]
  },
  {
   "cell_type": "code",
   "execution_count": 3,
   "id": "7f220458-459e-4603-834f-9ee2fb2598cb",
   "metadata": {
    "execution": {
     "iopub.execute_input": "2024-02-01T00:14:31.751393Z",
     "iopub.status.busy": "2024-02-01T00:14:31.750979Z",
     "iopub.status.idle": "2024-02-01T00:14:37.498791Z",
     "shell.execute_reply": "2024-02-01T00:14:37.498319Z",
     "shell.execute_reply.started": "2024-02-01T00:14:31.751375Z"
    },
    "tags": []
   },
   "outputs": [
    {
     "name": "stderr",
     "output_type": "stream",
     "text": [
      "Setting default log level to \"WARN\".\n",
      "To adjust logging level use sc.setLogLevel(newLevel). For SparkR, use setLogLevel(newLevel).\n",
      "24/01/31 19:14:35 WARN NativeCodeLoader: Unable to load native-hadoop library for your platform... using builtin-java classes where applicable\n"
     ]
    }
   ],
   "source": [
    "conf = SparkConf() \\\n",
    "    .setAppName(\"Count\")\\\n",
    "\n",
    "# Create a SparkContext with the specified configurations\n",
    "if 'spark' in locals() and spark!=None:\n",
    "    spark.stop()\n",
    "\n",
    "sc = SparkContext(conf=conf)\n",
    "\n",
    "# Create a SparkSession from the SparkContext\n",
    "spark = SparkSession(sc)"
   ]
  },
  {
   "cell_type": "markdown",
   "id": "528fcdbc-c7e1-467f-ad0a-c299ce85cda4",
   "metadata": {
    "tags": []
   },
   "source": [
    "## Load in gnomad variants filtered in the last script"
   ]
  },
  {
   "cell_type": "code",
   "execution_count": 4,
   "id": "2c0c646e-25e9-4d80-901f-f33e83cc7f26",
   "metadata": {
    "execution": {
     "iopub.execute_input": "2024-02-01T00:14:43.272761Z",
     "iopub.status.busy": "2024-02-01T00:14:43.272484Z",
     "iopub.status.idle": "2024-02-01T00:15:07.091677Z",
     "shell.execute_reply": "2024-02-01T00:15:07.091236Z",
     "shell.execute_reply.started": "2024-02-01T00:14:43.272744Z"
    },
    "tags": []
   },
   "outputs": [
    {
     "name": "stderr",
     "output_type": "stream",
     "text": [
      "24/01/31 19:14:52 WARN GarbageCollectionMetrics: To enable non-built-in garbage collector(s) List(G1 Concurrent GC), users should configure it(them) to spark.eventLog.gcMetrics.youngGenerationGarbageCollectors or spark.eventLog.gcMetrics.oldGenerationGarbageCollectors\n",
      "                                                                                \r"
     ]
    }
   ],
   "source": [
    "#loading in all autosomes\n",
    "#Skipping sex chromosomes, see readme\n",
    "df = spark.read \\\n",
    "    .option(\"comment\", \"#\") \\\n",
    "    .option(\"delimiter\", \",\") \\\n",
    "    .csv(\"/gpfs/gibbs/pi/reilly/VariantEffects/scripts/noon_data/2.filter/*.csv/*.csv.gz\", header=True)"
   ]
  },
  {
   "cell_type": "markdown",
   "id": "0821e580-d5eb-43ab-960a-5ded4f2fca68",
   "metadata": {},
   "source": [
    "## cast columns to the appropriate types & Drop columns rows with null values. \n",
    "\n",
    "Dropping isn't strictly necessary. We could, for example, only drop those rows with null malinouis skew when computing malinouis-skew-based metrics, drop rows with no phyloP scores when computing phyloP-based metrics, etc etc. However, this would result in different sets of variants summarized by each graph, which could create biases : if, for example, PhyloP scores are annotated for a nonrandom set of variants. Therefore I will drop rows with null data in any relevant columns prior to subsequent analysis. "
   ]
  },
  {
   "cell_type": "code",
   "execution_count": 5,
   "id": "38dd9f2e-712c-4e74-9a01-3969e82de5c4",
   "metadata": {
    "execution": {
     "iopub.execute_input": "2024-02-01T00:15:07.092773Z",
     "iopub.status.busy": "2024-02-01T00:15:07.092566Z",
     "iopub.status.idle": "2024-02-01T00:15:07.112116Z",
     "shell.execute_reply": "2024-02-01T00:15:07.111697Z",
     "shell.execute_reply.started": "2024-02-01T00:15:07.092759Z"
    },
    "tags": []
   },
   "outputs": [],
   "source": [
    "int_columns=[\"POS\",\"AC\",\"AN\"]\n",
    "float_columns=[\"AF\",\"K562__ref\",\"HepG2__ref\",\"SKNSH__ref\",\"K562__alt\",\"HepG2__alt\",\"SKNSH__alt\",\"K562__skew\",\"HepG2__skew\",\"SKNSH__skew\",\"cadd_phred\",\"P_ANNO\",\"mean_ref\",\"mean_skew\",\"MAF\"]\n",
    "cre_bool_columns=[]\n",
    "for column in df.columns:\n",
    "    if column.startswith(\"is_in\"):\n",
    "        cre_bool_columns.append(column)"
   ]
  },
  {
   "cell_type": "code",
   "execution_count": 6,
   "id": "a45c37d0-2acf-40bf-9fa1-f8dd94a74e5e",
   "metadata": {
    "execution": {
     "iopub.execute_input": "2024-02-01T00:15:07.112809Z",
     "iopub.status.busy": "2024-02-01T00:15:07.112668Z",
     "iopub.status.idle": "2024-02-01T00:15:07.130433Z",
     "shell.execute_reply": "2024-02-01T00:15:07.130019Z",
     "shell.execute_reply.started": "2024-02-01T00:15:07.112796Z"
    },
    "tags": []
   },
   "outputs": [],
   "source": [
    "df = df.dropna()#subset=[\"CHROM\",\"POS\",\"cadd_phred\",\"P_ANNO\",\"mean_ref\",\"mean_skew\",\"category\"]+cre_bool_columns"
   ]
  },
  {
   "cell_type": "code",
   "execution_count": 7,
   "id": "8360f33b-bd5b-4c4f-a881-5f19b5f60c6a",
   "metadata": {
    "execution": {
     "iopub.execute_input": "2024-02-01T00:15:07.131571Z",
     "iopub.status.busy": "2024-02-01T00:15:07.131320Z",
     "iopub.status.idle": "2024-02-01T00:15:07.429272Z",
     "shell.execute_reply": "2024-02-01T00:15:07.428831Z",
     "shell.execute_reply.started": "2024-02-01T00:15:07.131556Z"
    },
    "tags": []
   },
   "outputs": [],
   "source": [
    "\n",
    "for column in int_columns:\n",
    "    df = df.withColumn(column, F.col(column).cast(T.IntegerType()))\n",
    "\n",
    "for column in float_columns:\n",
    "    df = df.withColumn(column, F.col(column).cast(T.FloatType()))\n",
    "\n",
    "for column in cre_bool_columns:\n",
    "    df = df.withColumn(column, F.col(column).cast(T.BooleanType()))\n",
    "\n",
    "    \n",
    "df_cre=df"
   ]
  },
  {
   "cell_type": "markdown",
   "id": "5761c8b8-9723-4e81-8e87-fb4ac2f732c6",
   "metadata": {},
   "source": [
    "# Add conditions"
   ]
  },
  {
   "cell_type": "markdown",
   "id": "eb6b7229-4d25-4a65-a497-e821c5db0979",
   "metadata": {
    "tags": []
   },
   "source": [
    "Pleiotropy has already been added"
   ]
  },
  {
   "cell_type": "code",
   "execution_count": 8,
   "id": "199b1539-5171-4350-8c36-5ef08be07214",
   "metadata": {
    "execution": {
     "iopub.execute_input": "2024-01-29T22:17:16.298445Z",
     "iopub.status.busy": "2024-01-29T22:17:16.298295Z",
     "iopub.status.idle": "2024-01-29T22:17:16.380735Z",
     "shell.execute_reply": "2024-01-29T22:17:16.380299Z",
     "shell.execute_reply.started": "2024-01-29T22:17:16.298431Z"
    },
    "tags": []
   },
   "outputs": [],
   "source": []
  },
  {
   "cell_type": "markdown",
   "id": "4db5b483-ae9f-4b49-abbb-cb1fa1e0a006",
   "metadata": {},
   "source": [
    "## Phylop"
   ]
  },
  {
   "cell_type": "code",
   "execution_count": 9,
   "id": "04f9932f-44ca-4ab1-8f62-2fea1142909a",
   "metadata": {
    "execution": {
     "iopub.execute_input": "2024-01-29T22:17:16.381599Z",
     "iopub.status.busy": "2024-01-29T22:17:16.381391Z",
     "iopub.status.idle": "2024-01-29T22:17:16.395754Z",
     "shell.execute_reply": "2024-01-29T22:17:16.395335Z",
     "shell.execute_reply.started": "2024-01-29T22:17:16.381583Z"
    },
    "tags": []
   },
   "outputs": [],
   "source": [
    "df_cre=df_cre.withColumn(\"phylop_significant\",F.col(\"P_ANNO\")>=2.27)"
   ]
  },
  {
   "cell_type": "markdown",
   "id": "a8be9ca6-7204-40fc-8e50-65b14748273b",
   "metadata": {},
   "source": [
    "## CADD"
   ]
  },
  {
   "cell_type": "code",
   "execution_count": 10,
   "id": "88759813-5dab-4c04-bdba-fa6a30c22242",
   "metadata": {
    "execution": {
     "iopub.execute_input": "2024-01-29T22:17:16.396507Z",
     "iopub.status.busy": "2024-01-29T22:17:16.396354Z",
     "iopub.status.idle": "2024-01-29T22:17:16.510806Z",
     "shell.execute_reply": "2024-01-29T22:17:16.510382Z",
     "shell.execute_reply.started": "2024-01-29T22:17:16.396493Z"
    },
    "tags": []
   },
   "outputs": [],
   "source": [
    "df_cre=df_cre.withColumn(\n",
    "    \"CADD>=10\",F.col(\"cadd_phred\")>=10\n",
    ").withColumn(\n",
    "    \"CADD>=20\",F.col(\"cadd_phred\")>=20\n",
    ").withColumn(\n",
    "    \"CADD>=30\",F.col(\"cadd_phred\")>=30\n",
    ").withColumn(\n",
    "    \"CADD>=40\",F.col(\"cadd_phred\")>=40\n",
    ").withColumn(\n",
    "    \"CADD>=50\",F.col(\"cadd_phred\")>=50\n",
    ")\n",
    "\n",
    "cadd_columns=[\"CADD>=10\",\"CADD>=20\",\"CADD>=30\",\"CADD>=40\",\"CADD>=50\"]"
   ]
  },
  {
   "cell_type": "code",
   "execution_count": 11,
   "id": "027d9182-1c89-4dc4-982f-5cfb4d41f9dc",
   "metadata": {
    "execution": {
     "iopub.execute_input": "2024-01-29T22:17:16.511841Z",
     "iopub.status.busy": "2024-01-29T22:17:16.511446Z",
     "iopub.status.idle": "2024-01-29T22:17:16.515168Z",
     "shell.execute_reply": "2024-01-29T22:17:16.514822Z",
     "shell.execute_reply.started": "2024-01-29T22:17:16.511826Z"
    },
    "tags": []
   },
   "outputs": [],
   "source": [
    "with open(\"cadd_columns.pkl\",'wb') as file:\n",
    "    pickle.dump(cadd_columns,file)"
   ]
  },
  {
   "cell_type": "markdown",
   "id": "80dace43-18f0-454f-b42d-46ddc2ffc1f6",
   "metadata": {},
   "source": [
    "## malinois"
   ]
  },
  {
   "cell_type": "markdown",
   "id": "6579c940-2963-4281-8018-e7d9137f2e70",
   "metadata": {},
   "source": [
    "Add a mean column"
   ]
  },
  {
   "cell_type": "code",
   "execution_count": 12,
   "id": "52da7675-551a-4830-b19b-cdf630660929",
   "metadata": {
    "execution": {
     "iopub.execute_input": "2024-01-29T22:17:16.515836Z",
     "iopub.status.busy": "2024-01-29T22:17:16.515662Z",
     "iopub.status.idle": "2024-01-29T22:17:16.575276Z",
     "shell.execute_reply": "2024-01-29T22:17:16.574854Z",
     "shell.execute_reply.started": "2024-01-29T22:17:16.515823Z"
    },
    "tags": []
   },
   "outputs": [],
   "source": [
    "df_cre=df_cre.withColumn(\"mean_alt\", (F.col(\"K562__alt\") + F.col(\"HepG2__alt\") + F.col(\"SKNSH__alt\")) / 3)"
   ]
  },
  {
   "cell_type": "markdown",
   "id": "928fa58a-b49c-4010-92df-4dabc55407dc",
   "metadata": {},
   "source": [
    "Some helper functions"
   ]
  },
  {
   "cell_type": "code",
   "execution_count": 13,
   "id": "c5ed7f37-e312-48b5-9f17-54c8bbb045fa",
   "metadata": {
    "execution": {
     "iopub.execute_input": "2024-01-29T22:17:16.576029Z",
     "iopub.status.busy": "2024-01-29T22:17:16.575876Z",
     "iopub.status.idle": "2024-01-29T22:17:16.582462Z",
     "shell.execute_reply": "2024-01-29T22:17:16.582094Z",
     "shell.execute_reply.started": "2024-01-29T22:17:16.576015Z"
    },
    "tags": []
   },
   "outputs": [],
   "source": [
    "def get_column_names(var):\n",
    "    final_names=[]\n",
    "    for sub in var:\n",
    "        final_names.append(sub[0])\n",
    "    return final_names\n",
    "\n",
    "def dump_cutoff_names_to_disc(var,name):\n",
    "    #so we don't have to hard-code the names in multiple files. \n",
    "    #It's ugly enough that we're hard-coding the thresholds\n",
    "    with open(name+'.pkl', 'wb') as file:\n",
    "        final_names=get_column_names(var)\n",
    "        pickle.dump(final_names, file)\n",
    "\n",
    "#Ugly code! Really ought to combine make_reference_cutoffs & make_skew_cutoffs into one function that takes a list of intervals\n",
    "#then a second function that can make intervals based on start/stop/step\n",
    "def make_reference_cutoffs(name):\n",
    "    return [\n",
    "        [f\"{name}_(-Inf,-6)\", (F.col(name) < -6)]\n",
    "    ] + [\n",
    "        [f\"{name}_[{i},{i+1})\", (F.col(name) >= i) & (F.col(name) < i+1)] for i in range(-6, 6)\n",
    "    ] + [\n",
    "        [f\"{name}_[6,Inf)\", (F.col(name) >= 6)]\n",
    "    ]\n",
    "\n",
    "def make_skew_cutoffs(name):\n",
    "    start_int = -9   # corresponds to -4.5 (represented as -9 * 0.5)\n",
    "    end_int = 9      # corresponds to 4.5 (represented as 9 * 0.5)\n",
    "    step_int = 1     # Step of 0.5 (represented as 1 * 0.5)\n",
    "\n",
    "    return [\n",
    "        [f\"{name}_(-Inf, -4.0)\", (F.col(name) < -4.0)]\n",
    "        if i == start_int\n",
    "        else [f\"{name}_(4.0, Inf)\", (F.col(name) >= 4.0)]\n",
    "        if i == end_int - step_int\n",
    "        else [f\"{name}_[{i * 0.5:.1f}, {(i + step_int) * 0.5:.1f})\", (F.col(name) >= i * 0.5) & (F.col(name) < (i + step_int) * 0.5)]\n",
    "        for i in range(start_int, end_int, step_int)\n",
    "    ]\n",
    "\n",
    "def apply_cutoffs(df,cutoffs):\n",
    "    df_working=df\n",
    "    for name,cutoff_condition in cutoffs:\n",
    "        df_working=df_working.withColumn(name,cutoff_condition)\n",
    "    return df_working"
   ]
  },
  {
   "cell_type": "markdown",
   "id": "0dd062b3-3b92-418c-8b28-12bb688a4736",
   "metadata": {},
   "source": [
    "Create the thresholds"
   ]
  },
  {
   "cell_type": "code",
   "execution_count": 14,
   "id": "261af8c1-5c36-4944-8f05-d9977450bab1",
   "metadata": {
    "execution": {
     "iopub.execute_input": "2024-01-29T22:17:16.583178Z",
     "iopub.status.busy": "2024-01-29T22:17:16.582958Z",
     "iopub.status.idle": "2024-01-29T22:17:16.750217Z",
     "shell.execute_reply": "2024-01-29T22:17:16.749759Z",
     "shell.execute_reply.started": "2024-01-29T22:17:16.583164Z"
    },
    "tags": []
   },
   "outputs": [],
   "source": [
    "#list of lists of skew,ref column names we would like to use. \n",
    "cuts= [[\"mean_skew\" , \"mean_ref\"],[\"K562__skew\",\"K562__ref\"],[\"HepG2__skew\",\"HepG2__ref\"],[\"SKNSH__skew\",\"SKNSH__ref\"]]\n",
    "\n",
    "#create the actual cutoffs & add to the vector\n",
    "cuts=[{\"skew_name\":i[0],'skew_cuts':make_skew_cutoffs(i[0]),'ref_name':i[1],'ref_cuts':make_reference_cutoffs(i[1])} for i in cuts]\n",
    "#dump it all to disc\n",
    "for i in cuts:\n",
    "    dump_cutoff_names_to_disc(var=i[\"skew_cuts\"],name=i[\"skew_name\"]+\".pkl\")\n",
    "    dump_cutoff_names_to_disc(var=i[\"ref_cuts\"],name=i[\"ref_name\"]+\".pkl\")"
   ]
  },
  {
   "cell_type": "markdown",
   "id": "0796b3cf-fe10-4597-8c45-a35d81c6c997",
   "metadata": {},
   "source": [
    "apply all cuts & save their names for later use."
   ]
  },
  {
   "cell_type": "code",
   "execution_count": 15,
   "id": "24d13b1c-ddaa-4b36-ac36-3b93692efd0d",
   "metadata": {
    "execution": {
     "iopub.execute_input": "2024-01-29T22:17:16.751013Z",
     "iopub.status.busy": "2024-01-29T22:17:16.750807Z",
     "iopub.status.idle": "2024-01-29T22:17:22.460670Z",
     "shell.execute_reply": "2024-01-29T22:17:22.460245Z",
     "shell.execute_reply.started": "2024-01-29T22:17:16.750999Z"
    },
    "tags": []
   },
   "outputs": [],
   "source": [
    "all_cuts=[]\n",
    "\n",
    "for i in cuts:\n",
    "    df_cre=apply_cutoffs(df_cre,i[\"skew_cuts\"])\n",
    "    df_cre=apply_cutoffs(df_cre,i[\"ref_cuts\"])\n",
    "    \n",
    "    #all_cuts=all_cuts+i[\"ref_cuts\"]+i[\"skew_cuts\"]\n",
    "    all_cuts=all_cuts+[sublist[0] for sublist in i[\"skew_cuts\"]]\n",
    "    all_cuts=all_cuts+[sublist[0] for sublist in i[\"ref_cuts\"]]"
   ]
  },
  {
   "cell_type": "markdown",
   "id": "25577eb5-ad89-4016-9173-2799eb0525c6",
   "metadata": {
    "tags": []
   },
   "source": [
    "# perform actual count\n"
   ]
  },
  {
   "cell_type": "markdown",
   "id": "07f742f8-f008-4526-9fe5-99d4a4ea455b",
   "metadata": {},
   "source": [
    "Replace all commas and carats"
   ]
  },
  {
   "cell_type": "code",
   "execution_count": 16,
   "id": "224c4514-43c9-41ed-8884-3314fe42f4d6",
   "metadata": {
    "execution": {
     "iopub.execute_input": "2024-01-29T22:17:22.461587Z",
     "iopub.status.busy": "2024-01-29T22:17:22.461264Z",
     "iopub.status.idle": "2024-01-29T22:17:31.480548Z",
     "shell.execute_reply": "2024-01-29T22:17:31.480119Z",
     "shell.execute_reply.started": "2024-01-29T22:17:22.461572Z"
    },
    "tags": []
   },
   "outputs": [],
   "source": [
    "to_group_by=cadd_columns+cre_bool_columns+[\"category\",\"pleio\",\"phylop_significant\"]+[\"emVar_\"+i for i in cell_types]+all_cuts\n",
    "renamed_column_map = {col: col.replace(',', '^').replace('.','&') for col in to_group_by}\n",
    "new_group=[col.replace(',', '^').replace('.','&') for col in to_group_by]\n",
    "\n",
    "for old_name, new_name in renamed_column_map.items():\n",
    "        df_cre = df_cre.withColumnRenamed(old_name, new_name)\n",
    "        #df_working = df_working.withColumnRenamed(old_name, new_name)"
   ]
  },
  {
   "cell_type": "code",
   "execution_count": 17,
   "id": "8df6075e-eaab-4b2d-abf3-618a5d3f3e64",
   "metadata": {
    "execution": {
     "iopub.execute_input": "2024-01-29T22:17:31.481418Z",
     "iopub.status.busy": "2024-01-29T22:17:31.481200Z",
     "iopub.status.idle": "2024-01-29T22:17:31.715064Z",
     "shell.execute_reply": "2024-01-29T22:17:31.714639Z",
     "shell.execute_reply.started": "2024-01-29T22:17:31.481403Z"
    },
    "tags": []
   },
   "outputs": [],
   "source": [
    "#note: this cell will take substantial time & resources to execute.\n",
    "count_table = df_cre.groupBy(new_group).count()\n"
   ]
  },
  {
   "cell_type": "code",
   "execution_count": 18,
   "id": "26147d21-d18d-4038-8d93-9b3fe0cc567c",
   "metadata": {
    "execution": {
     "iopub.execute_input": "2024-01-29T22:17:31.715989Z",
     "iopub.status.busy": "2024-01-29T22:17:31.715656Z",
     "iopub.status.idle": "2024-01-29T22:38:27.490113Z",
     "shell.execute_reply": "2024-01-29T22:38:27.489699Z",
     "shell.execute_reply.started": "2024-01-29T22:17:31.715974Z"
    },
    "tags": []
   },
   "outputs": [
    {
     "name": "stderr",
     "output_type": "stream",
     "text": [
      "24/01/29 17:17:32 WARN SparkStringUtils: Truncated the string representation of a plan since it was too large. This behavior can be adjusted by setting 'spark.sql.debug.maxToStringFields'.\n",
      "                                                                                \r"
     ]
    }
   ],
   "source": [
    "count_table.coalesce(1).write.csv(data_output_base+\"count_all.csv\", mode=\"overwrite\", header=True)"
   ]
  },
  {
   "cell_type": "markdown",
   "id": "83e391af-90be-4565-ad65-4077bdd5b605",
   "metadata": {},
   "source": [
    "Reload `count_table` from disc to avoid recomputation."
   ]
  },
  {
   "cell_type": "code",
   "execution_count": 8,
   "id": "d12cfa5e-a867-49c0-9c39-9d58675467e7",
   "metadata": {
    "execution": {
     "iopub.execute_input": "2024-02-01T00:15:07.430104Z",
     "iopub.status.busy": "2024-02-01T00:15:07.429953Z",
     "iopub.status.idle": "2024-02-01T00:15:07.624138Z",
     "shell.execute_reply": "2024-02-01T00:15:07.623697Z",
     "shell.execute_reply.started": "2024-02-01T00:15:07.430090Z"
    },
    "tags": []
   },
   "outputs": [],
   "source": [
    "count_table = spark.read.csv(data_output_base+\"count_all.csv/*.csv\", header=True)"
   ]
  },
  {
   "cell_type": "markdown",
   "id": "7f1bf787-ac1b-4685-9cff-e5f0615015ce",
   "metadata": {},
   "source": [
    "# Subset & write"
   ]
  },
  {
   "cell_type": "code",
   "execution_count": 10,
   "id": "361e61ab-d1c1-49fe-b086-112a12e33aff",
   "metadata": {
    "execution": {
     "iopub.execute_input": "2024-02-01T00:20:24.999125Z",
     "iopub.status.busy": "2024-02-01T00:20:24.998743Z",
     "iopub.status.idle": "2024-02-01T00:20:25.001323Z",
     "shell.execute_reply": "2024-02-01T00:20:25.000966Z",
     "shell.execute_reply.started": "2024-02-01T00:20:24.999108Z"
    },
    "tags": []
   },
   "outputs": [],
   "source": [
    "def dump(name,spark_df):\n",
    "    spark_df.write.csv(data_output_base+name, mode=\"overwrite\", header=True)"
   ]
  },
  {
   "cell_type": "markdown",
   "id": "42e00c34-b1a4-4394-b1b4-32b34ffa419e",
   "metadata": {},
   "source": [
    "pleiotropy vs rarity vs genomic regions"
   ]
  },
  {
   "cell_type": "code",
   "execution_count": 11,
   "id": "5eedcd51-fc05-4f7e-aa67-d648d99188ac",
   "metadata": {
    "execution": {
     "iopub.execute_input": "2024-02-01T00:20:28.348118Z",
     "iopub.status.busy": "2024-02-01T00:20:28.347686Z",
     "iopub.status.idle": "2024-02-01T00:20:29.894949Z",
     "shell.execute_reply": "2024-02-01T00:20:29.894496Z",
     "shell.execute_reply.started": "2024-02-01T00:20:28.348102Z"
    },
    "tags": []
   },
   "outputs": [
    {
     "name": "stderr",
     "output_type": "stream",
     "text": [
      "                                                                                \r"
     ]
    }
   ],
   "source": [
    "dump(\"rarity_pleio\",\n",
    "     count_table.groupBy(\"category\", \"pleio\", *cre_bool_columns)\\\n",
    "                    .agg(F.sum(\"count\").alias(\"count\"))\n",
    "    )"
   ]
  },
  {
   "cell_type": "markdown",
   "id": "c4b3d1ff-d0f8-45b0-a9be-4f652ea02550",
   "metadata": {},
   "source": [
    "## phylop vs rarity vs genomic regions"
   ]
  },
  {
   "cell_type": "code",
   "execution_count": 21,
   "id": "27d3bea9-c3ef-4e20-8775-2bc40c6e645d",
   "metadata": {
    "execution": {
     "iopub.execute_input": "2024-01-29T22:38:27.702881Z",
     "iopub.status.busy": "2024-01-29T22:38:27.702598Z",
     "iopub.status.idle": "2024-01-29T22:38:28.869852Z",
     "shell.execute_reply": "2024-01-29T22:38:28.869408Z",
     "shell.execute_reply.started": "2024-01-29T22:38:27.702868Z"
    },
    "tags": []
   },
   "outputs": [
    {
     "name": "stderr",
     "output_type": "stream",
     "text": [
      "                                                                                \r"
     ]
    }
   ],
   "source": [
    "dump(\"phylop_count_table\",\n",
    "     count_table.groupBy(\"category\", \"phylop_significant\", *cre_bool_columns)\\\n",
    "                    .agg(F.sum(\"count\").alias(\"count\"))\n",
    "    )"
   ]
  },
  {
   "cell_type": "markdown",
   "id": "bbff3e4a-b437-41ee-abc0-44c7cf320618",
   "metadata": {},
   "source": [
    "## phylop vs pleiotropy vs genomic regions"
   ]
  },
  {
   "cell_type": "code",
   "execution_count": 22,
   "id": "82d275f6-d99d-4065-9003-6e0552c04961",
   "metadata": {
    "execution": {
     "iopub.execute_input": "2024-01-29T22:38:28.871923Z",
     "iopub.status.busy": "2024-01-29T22:38:28.871712Z",
     "iopub.status.idle": "2024-01-29T22:38:29.544379Z",
     "shell.execute_reply": "2024-01-29T22:38:29.543926Z",
     "shell.execute_reply.started": "2024-01-29T22:38:28.871908Z"
    },
    "tags": []
   },
   "outputs": [
    {
     "name": "stderr",
     "output_type": "stream",
     "text": [
      "                                                                                \r"
     ]
    }
   ],
   "source": [
    "dump(\"phylop_pleio\",\n",
    "     count_table.groupBy(\"pleio\", \"phylop_significant\", *cre_bool_columns)\\\n",
    "                    .agg(F.sum(\"count\").alias(\"count\"))\n",
    "    )"
   ]
  },
  {
   "cell_type": "markdown",
   "id": "c501b7d0-fa47-40b3-9366-d81467631a44",
   "metadata": {},
   "source": [
    "## cadd vs rarity vs genomic regions"
   ]
  },
  {
   "cell_type": "code",
   "execution_count": 23,
   "id": "14899b14-2371-4f94-82f0-4e92b5ca29b1",
   "metadata": {
    "execution": {
     "iopub.execute_input": "2024-01-29T22:38:29.545255Z",
     "iopub.status.busy": "2024-01-29T22:38:29.544935Z",
     "iopub.status.idle": "2024-01-29T22:38:30.344632Z",
     "shell.execute_reply": "2024-01-29T22:38:30.344187Z",
     "shell.execute_reply.started": "2024-01-29T22:38:29.545239Z"
    },
    "tags": []
   },
   "outputs": [],
   "source": [
    "dump(\"CADD_count_table\",\n",
    "     count_table.groupBy(\"category\", *cadd_columns, *cre_bool_columns)\\\n",
    "                    .agg(F.sum(\"count\").alias(\"count\"))\n",
    "    )"
   ]
  },
  {
   "cell_type": "markdown",
   "id": "a25f8066-e964-4492-b62e-33820d8e862f",
   "metadata": {},
   "source": [
    "## cadd vs pleiotropy vs genomic regions"
   ]
  },
  {
   "cell_type": "code",
   "execution_count": 28,
   "id": "e0f57e6d-0fef-422e-acd7-13961c074f8b",
   "metadata": {
    "execution": {
     "iopub.execute_input": "2024-01-29T22:40:19.747457Z",
     "iopub.status.busy": "2024-01-29T22:40:19.746979Z",
     "iopub.status.idle": "2024-01-29T22:40:20.452332Z",
     "shell.execute_reply": "2024-01-29T22:40:20.451927Z",
     "shell.execute_reply.started": "2024-01-29T22:40:19.747439Z"
    },
    "tags": []
   },
   "outputs": [
    {
     "name": "stderr",
     "output_type": "stream",
     "text": [
      "                                                                                \r"
     ]
    }
   ],
   "source": [
    "dump(\"CADD_pleio\",\n",
    "     count_table.groupBy(\"pleio\", *cadd_columns, *cre_bool_columns)\\\n",
    "                    .agg(F.sum(\"count\").alias(\"count\"))\n",
    "    )"
   ]
  },
  {
   "cell_type": "markdown",
   "id": "337a1954-2762-4099-b9b2-444adfa95ae2",
   "metadata": {},
   "source": [
    "## malinois skew vs malinois reference, (malinois both mean & per cell type) vs genomic regions vs rarity category\n",
    "\n",
    "We'll do different files for different cell-types (+ mean)."
   ]
  },
  {
   "cell_type": "code",
   "execution_count": 35,
   "id": "e90a0a3d-6207-43e4-acb3-03281d3c1ece",
   "metadata": {
    "execution": {
     "iopub.execute_input": "2024-01-30T01:00:59.744966Z",
     "iopub.status.busy": "2024-01-30T01:00:59.744611Z",
     "iopub.status.idle": "2024-01-30T01:01:04.281346Z",
     "shell.execute_reply": "2024-01-30T01:01:04.280945Z",
     "shell.execute_reply.started": "2024-01-30T01:00:59.744950Z"
    },
    "tags": []
   },
   "outputs": [
    {
     "name": "stderr",
     "output_type": "stream",
     "text": [
      "                                                                                \r"
     ]
    }
   ],
   "source": [
    "#each item of `cuts` is a cell-type (plus mean)\n",
    "mean_cut=None\n",
    "mean_thresh=None\n",
    "\n",
    "for i in cuts:\n",
    "    celltype=i[\"skew_name\"].split(\"_\")[0]\n",
    "    \n",
    "    \n",
    "        \n",
    "    #rarity category & genomic regions\n",
    "    to_group_by=[\"category\"]+cre_bool_columns\n",
    "    #add skew & ref coulmns for current \n",
    "    to_group_by=to_group_by+get_column_names(i[\"skew_cuts\"])+get_column_names(i[\"ref_cuts\"])\n",
    "    \n",
    "    #remove illegal characters \n",
    "    to_group_by=[item.replace(',', '^').replace('.','&') for item in to_group_by]\n",
    "    \n",
    "    #save mean for later use\n",
    "    if celltype==\"mean\":\n",
    "        mean_cut=i\n",
    "        mean_thresh=to_group_by\n",
    "    \n",
    "    dump(f\"malinois_{celltype}\",\n",
    "     count_table.groupBy(*to_group_by)\\\n",
    "                    .agg(F.sum(\"count\").alias(\"count\"))\n",
    "    )\n",
    "    "
   ]
  },
  {
   "cell_type": "markdown",
   "id": "26205ac9-0d00-4f6e-a601-523a2afc2980",
   "metadata": {},
   "source": [
    "## malin skew vs malin reference (mean only) vs phylop vs genomic region"
   ]
  },
  {
   "cell_type": "code",
   "execution_count": 37,
   "id": "af46ecd4-0d92-44f2-bcb0-21ab407e4cb9",
   "metadata": {
    "execution": {
     "iopub.execute_input": "2024-01-30T01:10:53.681930Z",
     "iopub.status.busy": "2024-01-30T01:10:53.681489Z",
     "iopub.status.idle": "2024-01-30T01:10:58.932135Z",
     "shell.execute_reply": "2024-01-30T01:10:58.931642Z",
     "shell.execute_reply.started": "2024-01-30T01:10:53.681912Z"
    },
    "tags": []
   },
   "outputs": [
    {
     "name": "stderr",
     "output_type": "stream",
     "text": [
      "                                                                                \r"
     ]
    }
   ],
   "source": [
    "dump(f\"malinois_vs_phylop\",\n",
    " count_table.groupBy(*to_group_by,\"phylop_significant\")\\\n",
    "                .agg(F.sum(\"count\").alias(\"count\"))\n",
    ")\n",
    "\n",
    "dump(f\"malinois_vs_cadd\",\n",
    " count_table.groupBy(*to_group_by,*cadd_columns)\\\n",
    "                .agg(F.sum(\"count\").alias(\"count\"))\n",
    ")"
   ]
  }
 ],
 "metadata": {
  "kernelspec": {
   "display_name": "Python 3 (ipykernel)",
   "language": "python",
   "name": "python3"
  },
  "language_info": {
   "codemirror_mode": {
    "name": "ipython",
    "version": 3
   },
   "file_extension": ".py",
   "mimetype": "text/x-python",
   "name": "python",
   "nbconvert_exporter": "python",
   "pygments_lexer": "ipython3",
   "version": "3.10.12"
  },
  "toc-autonumbering": true,
  "toc-showcode": false,
  "toc-showmarkdowntxt": true
 },
 "nbformat": 4,
 "nbformat_minor": 5
}
