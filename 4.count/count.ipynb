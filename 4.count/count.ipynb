{
 "cells": [
  {
   "cell_type": "markdown",
   "id": "e5941730-7061-4b4f-bf36-4615d23f1d2e",
   "metadata": {
    "tags": []
   },
   "source": [
    "We will generate a number of count tables, described in sections below.\n",
    "\n",
    "The basic approach is to load the data, then create a bunch of boolean columns corresponding to the various **conditions** (including bins) we would like to count. Then we compute a count table, where each row is a different combination of these boolean values. \n",
    "\n",
    "This results in counts of many rows counting combinations of categories we do not care about. So we subsequently groupby+sum to create sub-count-tables counting combinations of criteria we think may be meaningful.\n",
    "\n",
    "At various points, we pickle & dump to disc lists of threshold criteria, for the downstream graphing to use. (This allows changes in criteria to be quickly passed to the graphing scripts).\n",
    "\n",
    "(the old approach was more ad-hoc, re-doing the counting for each meaningful set of criteria. This caused redundant computation & was less flexible to adding more sets.)\n",
    "\n",
    "# setup"
   ]
  },
  {
   "cell_type": "code",
   "execution_count": 11,
   "id": "0a51615e-a596-45e9-a1db-b3877628a551",
   "metadata": {
    "execution": {
     "iopub.execute_input": "2024-02-15T21:58:00.239498Z",
     "iopub.status.busy": "2024-02-15T21:58:00.239032Z",
     "iopub.status.idle": "2024-02-15T21:58:00.241551Z",
     "shell.execute_reply": "2024-02-15T21:58:00.241198Z",
     "shell.execute_reply.started": "2024-02-15T21:58:00.239481Z"
    },
    "tags": []
   },
   "outputs": [],
   "source": [
    "data_output_base=\"/home/mcn26/varef/scripts/noon_data/4.count/\""
   ]
  },
  {
   "cell_type": "markdown",
   "id": "b18d4983-60fa-4ac1-9c00-4373c4fc3672",
   "metadata": {
    "tags": []
   },
   "source": [
    "## import "
   ]
  },
  {
   "cell_type": "code",
   "execution_count": 2,
   "id": "e0363d27-c5f7-4925-aa1f-e911f503be57",
   "metadata": {
    "execution": {
     "iopub.execute_input": "2024-02-15T21:54:02.638172Z",
     "iopub.status.busy": "2024-02-15T21:54:02.637613Z",
     "iopub.status.idle": "2024-02-15T21:54:06.349211Z",
     "shell.execute_reply": "2024-02-15T21:54:06.348669Z",
     "shell.execute_reply.started": "2024-02-15T21:54:02.638155Z"
    },
    "tags": []
   },
   "outputs": [],
   "source": [
    "from pyspark import SparkConf, SparkContext\n",
    "from pyspark.sql import SparkSession\n",
    "from pyspark.sql import Row\n",
    "from pyspark.sql import functions as F\n",
    "import pyspark.sql.types as T\n",
    "import pickle\n",
    "import pandas as pd"
   ]
  },
  {
   "cell_type": "markdown",
   "id": "67873089-a7f3-4ccf-8403-8a2413d84479",
   "metadata": {
    "tags": []
   },
   "source": [
    "## create a spark session"
   ]
  },
  {
   "cell_type": "code",
   "execution_count": 3,
   "id": "7f220458-459e-4603-834f-9ee2fb2598cb",
   "metadata": {
    "execution": {
     "iopub.execute_input": "2024-02-15T21:54:06.350658Z",
     "iopub.status.busy": "2024-02-15T21:54:06.350131Z",
     "iopub.status.idle": "2024-02-15T21:54:08.594557Z",
     "shell.execute_reply": "2024-02-15T21:54:08.594029Z",
     "shell.execute_reply.started": "2024-02-15T21:54:06.350640Z"
    },
    "tags": []
   },
   "outputs": [
    {
     "name": "stderr",
     "output_type": "stream",
     "text": [
      "Setting default log level to \"WARN\".\n",
      "To adjust logging level use sc.setLogLevel(newLevel). For SparkR, use setLogLevel(newLevel).\n",
      "24/02/15 16:54:07 WARN NativeCodeLoader: Unable to load native-hadoop library for your platform... using builtin-java classes where applicable\n",
      "24/02/15 16:54:08 WARN Utils: Service 'SparkUI' could not bind on port 4040. Attempting port 4041.\n"
     ]
    }
   ],
   "source": [
    "conf = SparkConf() \\\n",
    "    .setAppName(\"Count\")\\\n",
    "\n",
    "# Create a SparkContext with the specified configurations\n",
    "if 'spark' in locals() and spark!=None:\n",
    "    spark.stop()\n",
    "\n",
    "sc = SparkContext(conf=conf)\n",
    "\n",
    "# Create a SparkSession from the SparkContext\n",
    "spark = SparkSession(sc)"
   ]
  },
  {
   "cell_type": "markdown",
   "id": "528fcdbc-c7e1-467f-ad0a-c299ce85cda4",
   "metadata": {
    "tags": []
   },
   "source": [
    "## Load in gnomad variants filtered in the last script"
   ]
  },
  {
   "cell_type": "code",
   "execution_count": 39,
   "id": "2c0c646e-25e9-4d80-901f-f33e83cc7f26",
   "metadata": {
    "execution": {
     "iopub.execute_input": "2024-02-15T22:41:34.287992Z",
     "iopub.status.busy": "2024-02-15T22:41:34.287558Z",
     "iopub.status.idle": "2024-02-15T22:41:37.954565Z",
     "shell.execute_reply": "2024-02-15T22:41:37.954126Z",
     "shell.execute_reply.started": "2024-02-15T22:41:34.287973Z"
    },
    "tags": []
   },
   "outputs": [
    {
     "name": "stderr",
     "output_type": "stream",
     "text": [
      "                                                                                \r"
     ]
    }
   ],
   "source": [
    "#loading in all autosomes\n",
    "#Skipping sex chromosomes, see readme\n",
    "df = spark.read \\\n",
    "    .option(\"comment\", \"#\") \\\n",
    "    .option(\"delimiter\", \",\") \\\n",
    "    .csv(\"/home/mcn26/varef/scripts/noon_data/3.pleio_and_filter/chr*/*.csv.gz\", header=True)"
   ]
  },
  {
   "cell_type": "markdown",
   "id": "0821e580-d5eb-43ab-960a-5ded4f2fca68",
   "metadata": {},
   "source": [
    "## cast columns to the appropriate types & Drop columns rows with null values. \n",
    "\n",
    "We could only drop those rows with null malinouis skew when computing malinouis-skew-based metrics, drop rows with no phyloP scores when computing phyloP-based metrics, etc etc. However, this would result in different sets of variants summarized by each graph, which could create biases : if, for example, PhyloP scores are annotated for a nonrandom set of variants. Therefore I will drop rows with null data in any relevant columns prior to subsequent analysis. "
   ]
  },
  {
   "cell_type": "code",
   "execution_count": 40,
   "id": "38dd9f2e-712c-4e74-9a01-3969e82de5c4",
   "metadata": {
    "execution": {
     "iopub.execute_input": "2024-02-15T22:41:37.955819Z",
     "iopub.status.busy": "2024-02-15T22:41:37.955380Z",
     "iopub.status.idle": "2024-02-15T22:41:37.959595Z",
     "shell.execute_reply": "2024-02-15T22:41:37.959248Z",
     "shell.execute_reply.started": "2024-02-15T22:41:37.955795Z"
    },
    "tags": []
   },
   "outputs": [],
   "source": [
    "int_columns=[\"POS\",\"AC\",\"AN\",\"pleio\"]\n",
    "float_columns=[\"AF\",\"K562__ref\",\"HepG2__ref\",\"SKNSH__ref\",\"K562__alt\",\"HepG2__alt\",\"SKNSH__alt\",\"K562__skew\",\"HepG2__skew\",\"SKNSH__skew\",\"cadd_phred\",\"P_ANNO\",\"mean_ref\",\"mean_skew\",\"MAF\"]\n",
    "cre_bool_columns=[]\n",
    "for column in df.columns:\n",
    "    if column.startswith(\"is_in\"):\n",
    "        cre_bool_columns.append(column)"
   ]
  },
  {
   "cell_type": "code",
   "execution_count": 41,
   "id": "a45c37d0-2acf-40bf-9fa1-f8dd94a74e5e",
   "metadata": {
    "execution": {
     "iopub.execute_input": "2024-02-15T22:41:38.866970Z",
     "iopub.status.busy": "2024-02-15T22:41:38.866717Z",
     "iopub.status.idle": "2024-02-15T22:41:38.882034Z",
     "shell.execute_reply": "2024-02-15T22:41:38.881650Z",
     "shell.execute_reply.started": "2024-02-15T22:41:38.866953Z"
    },
    "tags": []
   },
   "outputs": [],
   "source": [
    "df = df.dropna()#subset=[\"CHROM\",\"POS\",\"cadd_phred\",\"P_ANNO\",\"mean_ref\",\"mean_skew\",\"category\"]+cre_bool_columns"
   ]
  },
  {
   "cell_type": "code",
   "execution_count": 42,
   "id": "8360f33b-bd5b-4c4f-a881-5f19b5f60c6a",
   "metadata": {
    "execution": {
     "iopub.execute_input": "2024-02-15T22:41:39.603250Z",
     "iopub.status.busy": "2024-02-15T22:41:39.603018Z",
     "iopub.status.idle": "2024-02-15T22:41:39.814226Z",
     "shell.execute_reply": "2024-02-15T22:41:39.813804Z",
     "shell.execute_reply.started": "2024-02-15T22:41:39.603235Z"
    },
    "tags": []
   },
   "outputs": [],
   "source": [
    "\n",
    "for column in int_columns:\n",
    "    df = df.withColumn(column, F.col(column).cast(T.IntegerType()))\n",
    "\n",
    "for column in float_columns:\n",
    "    df = df.withColumn(column, F.col(column).cast(T.FloatType()))\n",
    "\n",
    "for column in cre_bool_columns:\n",
    "    df = df.withColumn(column, F.col(column).cast(T.BooleanType()))\n",
    "\n",
    "    \n",
    "df_cre=df"
   ]
  },
  {
   "cell_type": "markdown",
   "id": "5761c8b8-9723-4e81-8e87-fb4ac2f732c6",
   "metadata": {},
   "source": [
    "# Add conditions"
   ]
  },
  {
   "cell_type": "markdown",
   "id": "eb6b7229-4d25-4a65-a497-e821c5db0979",
   "metadata": {
    "tags": []
   },
   "source": [
    "Pleiotropy has already been added"
   ]
  },
  {
   "cell_type": "markdown",
   "id": "4db5b483-ae9f-4b49-abbb-cb1fa1e0a006",
   "metadata": {},
   "source": [
    "## Phylop"
   ]
  },
  {
   "cell_type": "code",
   "execution_count": 43,
   "id": "04f9932f-44ca-4ab1-8f62-2fea1142909a",
   "metadata": {
    "execution": {
     "iopub.execute_input": "2024-02-15T22:42:05.664024Z",
     "iopub.status.busy": "2024-02-15T22:42:05.663491Z",
     "iopub.status.idle": "2024-02-15T22:42:05.679336Z",
     "shell.execute_reply": "2024-02-15T22:42:05.678939Z",
     "shell.execute_reply.started": "2024-02-15T22:42:05.664006Z"
    },
    "tags": []
   },
   "outputs": [],
   "source": [
    "df_cre=df_cre.withColumn(\"phylop_significant\",F.col(\"P_ANNO\")>=2.27)"
   ]
  },
  {
   "cell_type": "markdown",
   "id": "a8be9ca6-7204-40fc-8e50-65b14748273b",
   "metadata": {},
   "source": [
    "## CADD"
   ]
  },
  {
   "cell_type": "code",
   "execution_count": 44,
   "id": "88759813-5dab-4c04-bdba-fa6a30c22242",
   "metadata": {
    "execution": {
     "iopub.execute_input": "2024-02-15T22:42:08.798857Z",
     "iopub.status.busy": "2024-02-15T22:42:08.798497Z",
     "iopub.status.idle": "2024-02-15T22:42:08.852409Z",
     "shell.execute_reply": "2024-02-15T22:42:08.851997Z",
     "shell.execute_reply.started": "2024-02-15T22:42:08.798840Z"
    },
    "tags": []
   },
   "outputs": [],
   "source": [
    "df_cre=df_cre.withColumn(\n",
    "    \"CADD>=10\",F.col(\"cadd_phred\")>=10\n",
    ").withColumn(\n",
    "    \"CADD>=20\",F.col(\"cadd_phred\")>=20\n",
    ").withColumn(\n",
    "    \"CADD>=30\",F.col(\"cadd_phred\")>=30\n",
    ").withColumn(\n",
    "    \"CADD>=40\",F.col(\"cadd_phred\")>=40\n",
    ").withColumn(\n",
    "    \"CADD>=50\",F.col(\"cadd_phred\")>=50\n",
    ")\n",
    "\n",
    "cadd_columns=[\"CADD>=10\",\"CADD>=20\",\"CADD>=30\",\"CADD>=40\",\"CADD>=50\"]"
   ]
  },
  {
   "cell_type": "code",
   "execution_count": 45,
   "id": "027d9182-1c89-4dc4-982f-5cfb4d41f9dc",
   "metadata": {
    "execution": {
     "iopub.execute_input": "2024-02-15T22:42:11.107813Z",
     "iopub.status.busy": "2024-02-15T22:42:11.107400Z",
     "iopub.status.idle": "2024-02-15T22:42:11.109978Z",
     "shell.execute_reply": "2024-02-15T22:42:11.109619Z",
     "shell.execute_reply.started": "2024-02-15T22:42:11.107798Z"
    },
    "tags": []
   },
   "outputs": [],
   "source": [
    "with open(\"cadd_columns.pkl\",'wb') as file:\n",
    "    pickle.dump(cadd_columns,file)"
   ]
  },
  {
   "cell_type": "markdown",
   "id": "80dace43-18f0-454f-b42d-46ddc2ffc1f6",
   "metadata": {},
   "source": [
    "## malinois"
   ]
  },
  {
   "cell_type": "markdown",
   "id": "6579c940-2963-4281-8018-e7d9137f2e70",
   "metadata": {},
   "source": [
    "Add a mean column"
   ]
  },
  {
   "cell_type": "code",
   "execution_count": 46,
   "id": "52da7675-551a-4830-b19b-cdf630660929",
   "metadata": {
    "execution": {
     "iopub.execute_input": "2024-02-15T22:42:13.692610Z",
     "iopub.status.busy": "2024-02-15T22:42:13.692256Z",
     "iopub.status.idle": "2024-02-15T22:42:13.708610Z",
     "shell.execute_reply": "2024-02-15T22:42:13.708246Z",
     "shell.execute_reply.started": "2024-02-15T22:42:13.692595Z"
    },
    "tags": []
   },
   "outputs": [],
   "source": [
    "df_cre=df_cre.withColumn(\"mean_alt\", (F.col(\"K562__alt\") + F.col(\"HepG2__alt\") + F.col(\"SKNSH__alt\")) / 3)"
   ]
  },
  {
   "cell_type": "markdown",
   "id": "928fa58a-b49c-4010-92df-4dabc55407dc",
   "metadata": {},
   "source": [
    "Some helper functions"
   ]
  },
  {
   "cell_type": "code",
   "execution_count": 47,
   "id": "c5ed7f37-e312-48b5-9f17-54c8bbb045fa",
   "metadata": {
    "execution": {
     "iopub.execute_input": "2024-02-15T22:42:19.885959Z",
     "iopub.status.busy": "2024-02-15T22:42:19.885508Z",
     "iopub.status.idle": "2024-02-15T22:42:19.891180Z",
     "shell.execute_reply": "2024-02-15T22:42:19.890803Z",
     "shell.execute_reply.started": "2024-02-15T22:42:19.885941Z"
    },
    "tags": []
   },
   "outputs": [],
   "source": [
    "def get_column_names(var):\n",
    "    final_names=[]\n",
    "    for sub in var:\n",
    "        final_names.append(sub[0])\n",
    "    return final_names\n",
    "\n",
    "def dump_cutoff_names_to_disc(var,name):\n",
    "    #so we don't have to hard-code the names in multiple files. \n",
    "    #It's ugly enough that we're hard-coding the thresholds\n",
    "    with open(name+'.pkl', 'wb') as file:\n",
    "        final_names=get_column_names(var)\n",
    "        pickle.dump(final_names, file)\n",
    "\n",
    "#Ugly code! Really ought to combine make_reference_cutoffs & make_skew_cutoffs into one function that takes a list of intervals\n",
    "#then a second function that can make intervals based on start/stop/step\n",
    "def make_reference_cutoffs(name):\n",
    "    return [\n",
    "        [f\"{name}_(-Inf,-6)\", (F.col(name) < -6)]\n",
    "    ] + [\n",
    "        [f\"{name}_[{i},{i+1})\", (F.col(name) >= i) & (F.col(name) < i+1)] for i in range(-6, 6)\n",
    "    ] + [\n",
    "        [f\"{name}_[6,Inf)\", (F.col(name) >= 6)]\n",
    "    ]\n",
    "\n",
    "def make_skew_cutoffs(name):\n",
    "    start_int = -9   # corresponds to -4.5 (represented as -9 * 0.5)\n",
    "    end_int = 9      # corresponds to 4.5 (represented as 9 * 0.5)\n",
    "    step_int = 1     # Step of 0.5 (represented as 1 * 0.5)\n",
    "\n",
    "    return [\n",
    "        [f\"{name}_(-Inf, -4.0)\", (F.col(name) < -4.0)]\n",
    "        if i == start_int\n",
    "        else [f\"{name}_(4.0, Inf)\", (F.col(name) >= 4.0)]\n",
    "        if i == end_int - step_int\n",
    "        else [f\"{name}_[{i * 0.5:.1f}, {(i + step_int) * 0.5:.1f})\", (F.col(name) >= i * 0.5) & (F.col(name) < (i + step_int) * 0.5)]\n",
    "        for i in range(start_int, end_int, step_int)\n",
    "    ]\n",
    "\n",
    "def apply_cutoffs(df,cutoffs):\n",
    "    df_working=df\n",
    "    for name,cutoff_condition in cutoffs:\n",
    "        df_working=df_working.withColumn(name,cutoff_condition)\n",
    "    return df_working"
   ]
  },
  {
   "cell_type": "markdown",
   "id": "0dd062b3-3b92-418c-8b28-12bb688a4736",
   "metadata": {},
   "source": [
    "Create the thresholds"
   ]
  },
  {
   "cell_type": "code",
   "execution_count": 48,
   "id": "261af8c1-5c36-4944-8f05-d9977450bab1",
   "metadata": {
    "execution": {
     "iopub.execute_input": "2024-02-15T22:42:21.779763Z",
     "iopub.status.busy": "2024-02-15T22:42:21.779401Z",
     "iopub.status.idle": "2024-02-15T22:42:21.904514Z",
     "shell.execute_reply": "2024-02-15T22:42:21.904096Z",
     "shell.execute_reply.started": "2024-02-15T22:42:21.779748Z"
    },
    "tags": []
   },
   "outputs": [],
   "source": [
    "#list of lists of skew,ref column names we would like to use. \n",
    "cuts= [[\"mean_skew\" , \"mean_ref\"],[\"K562__skew\",\"K562__ref\"],[\"HepG2__skew\",\"HepG2__ref\"],[\"SKNSH__skew\",\"SKNSH__ref\"]]\n",
    "\n",
    "#create the actual cutoffs & add to the vector\n",
    "cuts=[{\"skew_name\":i[0],'skew_cuts':make_skew_cutoffs(i[0]),'ref_name':i[1],'ref_cuts':make_reference_cutoffs(i[1])} for i in cuts]\n",
    "#dump it all to disc\n",
    "for i in cuts:\n",
    "    dump_cutoff_names_to_disc(var=i[\"skew_cuts\"],name=i[\"skew_name\"]+\".pkl\")\n",
    "    dump_cutoff_names_to_disc(var=i[\"ref_cuts\"],name=i[\"ref_name\"]+\".pkl\")"
   ]
  },
  {
   "cell_type": "markdown",
   "id": "0796b3cf-fe10-4597-8c45-a35d81c6c997",
   "metadata": {},
   "source": [
    "apply all cuts & save their names for later use."
   ]
  },
  {
   "cell_type": "code",
   "execution_count": 49,
   "id": "24d13b1c-ddaa-4b36-ac36-3b93692efd0d",
   "metadata": {
    "execution": {
     "iopub.execute_input": "2024-02-15T22:42:24.910255Z",
     "iopub.status.busy": "2024-02-15T22:42:24.909990Z",
     "iopub.status.idle": "2024-02-15T22:42:29.883959Z",
     "shell.execute_reply": "2024-02-15T22:42:29.883525Z",
     "shell.execute_reply.started": "2024-02-15T22:42:24.910237Z"
    },
    "tags": []
   },
   "outputs": [],
   "source": [
    "all_cuts=[]\n",
    "\n",
    "for i in cuts:\n",
    "    df_cre=apply_cutoffs(df_cre,i[\"skew_cuts\"])\n",
    "    df_cre=apply_cutoffs(df_cre,i[\"ref_cuts\"])\n",
    "    \n",
    "    #all_cuts=all_cuts+i[\"ref_cuts\"]+i[\"skew_cuts\"]\n",
    "    all_cuts=all_cuts+[sublist[0] for sublist in i[\"skew_cuts\"]]\n",
    "    all_cuts=all_cuts+[sublist[0] for sublist in i[\"ref_cuts\"]]"
   ]
  },
  {
   "cell_type": "markdown",
   "id": "25577eb5-ad89-4016-9173-2799eb0525c6",
   "metadata": {
    "tags": []
   },
   "source": [
    "# perform actual count\n"
   ]
  },
  {
   "cell_type": "markdown",
   "id": "07f742f8-f008-4526-9fe5-99d4a4ea455b",
   "metadata": {},
   "source": [
    "Replace all commas and carats"
   ]
  },
  {
   "cell_type": "code",
   "execution_count": 50,
   "id": "224c4514-43c9-41ed-8884-3314fe42f4d6",
   "metadata": {
    "execution": {
     "iopub.execute_input": "2024-02-15T22:42:29.884955Z",
     "iopub.status.busy": "2024-02-15T22:42:29.884741Z",
     "iopub.status.idle": "2024-02-15T22:42:38.037035Z",
     "shell.execute_reply": "2024-02-15T22:42:38.036598Z",
     "shell.execute_reply.started": "2024-02-15T22:42:29.884939Z"
    },
    "tags": []
   },
   "outputs": [],
   "source": [
    "cell_types=[\"K562\",\"SKNSH\",\"HepG2\"]\n",
    "\n",
    "to_group_by=cadd_columns+cre_bool_columns+[\"category\",\"pleio\",\"phylop_significant\"]+[\"emVar_\"+i for i in cell_types]+all_cuts\n",
    "renamed_column_map = {col: col.replace(',', '^').replace('.','&') for col in to_group_by}\n",
    "new_group=[col.replace(',', '^').replace('.','&') for col in to_group_by]\n",
    "\n",
    "for old_name, new_name in renamed_column_map.items():\n",
    "        df_cre = df_cre.withColumnRenamed(old_name, new_name)"
   ]
  },
  {
   "cell_type": "code",
   "execution_count": 51,
   "id": "8df6075e-eaab-4b2d-abf3-618a5d3f3e64",
   "metadata": {
    "execution": {
     "iopub.execute_input": "2024-02-15T22:42:38.038108Z",
     "iopub.status.busy": "2024-02-15T22:42:38.037795Z",
     "iopub.status.idle": "2024-02-15T22:42:38.235358Z",
     "shell.execute_reply": "2024-02-15T22:42:38.234953Z",
     "shell.execute_reply.started": "2024-02-15T22:42:38.038093Z"
    },
    "tags": []
   },
   "outputs": [],
   "source": [
    "count_table = df_cre.groupBy(new_group).count()"
   ]
  },
  {
   "cell_type": "code",
   "execution_count": 52,
   "id": "26147d21-d18d-4038-8d93-9b3fe0cc567c",
   "metadata": {
    "execution": {
     "iopub.execute_input": "2024-02-15T22:42:52.748868Z",
     "iopub.status.busy": "2024-02-15T22:42:52.748410Z",
     "iopub.status.idle": "2024-02-15T23:14:23.921323Z",
     "shell.execute_reply": "2024-02-15T23:14:23.920781Z",
     "shell.execute_reply.started": "2024-02-15T22:42:52.748851Z"
    },
    "tags": []
   },
   "outputs": [
    {
     "name": "stderr",
     "output_type": "stream",
     "text": [
      "                                                                                \r"
     ]
    }
   ],
   "source": [
    "#note: this cell will take substantial time & resources to execute.\n",
    "\n",
    "count_table.coalesce(1).write.csv(data_output_base+\"count_all.csv\", mode=\"overwrite\", header=True)"
   ]
  },
  {
   "cell_type": "markdown",
   "id": "83e391af-90be-4565-ad65-4077bdd5b605",
   "metadata": {},
   "source": [
    "Reload `count_table` from disc to avoid recomputation."
   ]
  },
  {
   "cell_type": "code",
   "execution_count": 53,
   "id": "d12cfa5e-a867-49c0-9c39-9d58675467e7",
   "metadata": {
    "execution": {
     "iopub.execute_input": "2024-02-15T23:14:23.922378Z",
     "iopub.status.busy": "2024-02-15T23:14:23.922207Z",
     "iopub.status.idle": "2024-02-15T23:14:24.240695Z",
     "shell.execute_reply": "2024-02-15T23:14:24.240201Z",
     "shell.execute_reply.started": "2024-02-15T23:14:23.922363Z"
    },
    "tags": []
   },
   "outputs": [],
   "source": [
    "count_table = spark.read.csv(data_output_base+\"count_all.csv/*.csv\", header=True)"
   ]
  },
  {
   "cell_type": "markdown",
   "id": "7f1bf787-ac1b-4685-9cff-e5f0615015ce",
   "metadata": {},
   "source": [
    "# Subset & write"
   ]
  },
  {
   "cell_type": "code",
   "execution_count": 54,
   "id": "361e61ab-d1c1-49fe-b086-112a12e33aff",
   "metadata": {
    "execution": {
     "iopub.execute_input": "2024-02-15T23:14:24.241547Z",
     "iopub.status.busy": "2024-02-15T23:14:24.241377Z",
     "iopub.status.idle": "2024-02-15T23:14:24.251390Z",
     "shell.execute_reply": "2024-02-15T23:14:24.250908Z",
     "shell.execute_reply.started": "2024-02-15T23:14:24.241531Z"
    },
    "tags": []
   },
   "outputs": [],
   "source": [
    "def dump(name,spark_df):\n",
    "    spark_df.coalesce(1).write.csv(data_output_base+name, mode=\"overwrite\", header=True)"
   ]
  },
  {
   "cell_type": "markdown",
   "id": "42e00c34-b1a4-4394-b1b4-32b34ffa419e",
   "metadata": {},
   "source": [
    "pleiotropy vs rarity vs genomic regions"
   ]
  },
  {
   "cell_type": "code",
   "execution_count": 55,
   "id": "5eedcd51-fc05-4f7e-aa67-d648d99188ac",
   "metadata": {
    "execution": {
     "iopub.execute_input": "2024-02-15T23:14:24.252699Z",
     "iopub.status.busy": "2024-02-15T23:14:24.252523Z",
     "iopub.status.idle": "2024-02-15T23:14:25.753342Z",
     "shell.execute_reply": "2024-02-15T23:14:25.752830Z",
     "shell.execute_reply.started": "2024-02-15T23:14:24.252683Z"
    },
    "tags": []
   },
   "outputs": [
    {
     "name": "stderr",
     "output_type": "stream",
     "text": [
      "                                                                                \r"
     ]
    }
   ],
   "source": [
    "dump(\"rarity_pleio\",\n",
    "     count_table.groupBy(\"category\", \"pleio\", *cre_bool_columns)\\\n",
    "                    .agg(F.sum(\"count\").alias(\"count\"))\n",
    "    )"
   ]
  },
  {
   "cell_type": "markdown",
   "id": "c4b3d1ff-d0f8-45b0-a9be-4f652ea02550",
   "metadata": {},
   "source": [
    "## phylop vs rarity vs genomic regions"
   ]
  },
  {
   "cell_type": "code",
   "execution_count": 56,
   "id": "27d3bea9-c3ef-4e20-8775-2bc40c6e645d",
   "metadata": {
    "execution": {
     "iopub.execute_input": "2024-02-15T23:14:25.754094Z",
     "iopub.status.busy": "2024-02-15T23:14:25.753934Z",
     "iopub.status.idle": "2024-02-15T23:14:27.102308Z",
     "shell.execute_reply": "2024-02-15T23:14:27.101701Z",
     "shell.execute_reply.started": "2024-02-15T23:14:25.754078Z"
    },
    "tags": []
   },
   "outputs": [
    {
     "name": "stderr",
     "output_type": "stream",
     "text": [
      "                                                                                \r"
     ]
    }
   ],
   "source": [
    "dump(\"phylop_count_table\",\n",
    "     count_table.groupBy(\"category\", \"phylop_significant\", *cre_bool_columns)\\\n",
    "                    .agg(F.sum(\"count\").alias(\"count\"))\n",
    "    )"
   ]
  },
  {
   "cell_type": "markdown",
   "id": "bbff3e4a-b437-41ee-abc0-44c7cf320618",
   "metadata": {},
   "source": [
    "## phylop vs pleiotropy vs genomic regions"
   ]
  },
  {
   "cell_type": "code",
   "execution_count": 57,
   "id": "82d275f6-d99d-4065-9003-6e0552c04961",
   "metadata": {
    "execution": {
     "iopub.execute_input": "2024-02-15T23:14:27.103302Z",
     "iopub.status.busy": "2024-02-15T23:14:27.103120Z",
     "iopub.status.idle": "2024-02-15T23:14:28.134402Z",
     "shell.execute_reply": "2024-02-15T23:14:28.133988Z",
     "shell.execute_reply.started": "2024-02-15T23:14:27.103285Z"
    },
    "tags": []
   },
   "outputs": [
    {
     "name": "stderr",
     "output_type": "stream",
     "text": [
      "                                                                                \r"
     ]
    }
   ],
   "source": [
    "dump(\"phylop_pleio\",\n",
    "     count_table.groupBy(\"pleio\", \"phylop_significant\", *cre_bool_columns)\\\n",
    "                    .agg(F.sum(\"count\").alias(\"count\"))\n",
    "    )"
   ]
  },
  {
   "cell_type": "markdown",
   "id": "c501b7d0-fa47-40b3-9366-d81467631a44",
   "metadata": {},
   "source": [
    "## cadd vs rarity vs genomic regions"
   ]
  },
  {
   "cell_type": "code",
   "execution_count": 58,
   "id": "14899b14-2371-4f94-82f0-4e92b5ca29b1",
   "metadata": {
    "execution": {
     "iopub.execute_input": "2024-02-15T23:14:28.135175Z",
     "iopub.status.busy": "2024-02-15T23:14:28.135018Z",
     "iopub.status.idle": "2024-02-15T23:14:29.693326Z",
     "shell.execute_reply": "2024-02-15T23:14:29.692681Z",
     "shell.execute_reply.started": "2024-02-15T23:14:28.135160Z"
    },
    "tags": []
   },
   "outputs": [
    {
     "name": "stderr",
     "output_type": "stream",
     "text": [
      "                                                                                \r"
     ]
    }
   ],
   "source": [
    "dump(\"CADD_count_table\",\n",
    "     count_table.groupBy(\"category\", *cadd_columns, *cre_bool_columns)\\\n",
    "                    .agg(F.sum(\"count\").alias(\"count\"))\n",
    "    )"
   ]
  },
  {
   "cell_type": "markdown",
   "id": "a25f8066-e964-4492-b62e-33820d8e862f",
   "metadata": {},
   "source": [
    "## cadd vs pleiotropy vs genomic regions"
   ]
  },
  {
   "cell_type": "code",
   "execution_count": 59,
   "id": "e0f57e6d-0fef-422e-acd7-13961c074f8b",
   "metadata": {
    "execution": {
     "iopub.execute_input": "2024-02-15T23:14:29.704977Z",
     "iopub.status.busy": "2024-02-15T23:14:29.694005Z",
     "iopub.status.idle": "2024-02-15T23:14:31.017119Z",
     "shell.execute_reply": "2024-02-15T23:14:31.016750Z",
     "shell.execute_reply.started": "2024-02-15T23:14:29.704949Z"
    },
    "tags": []
   },
   "outputs": [
    {
     "name": "stderr",
     "output_type": "stream",
     "text": [
      "                                                                                \r"
     ]
    }
   ],
   "source": [
    "dump(\"CADD_pleio\",\n",
    "     count_table.groupBy(\"pleio\", *cadd_columns, *cre_bool_columns)\\\n",
    "                    .agg(F.sum(\"count\").alias(\"count\"))\n",
    "    )"
   ]
  },
  {
   "cell_type": "markdown",
   "id": "337a1954-2762-4099-b9b2-444adfa95ae2",
   "metadata": {},
   "source": [
    "## malinois skew vs malinois reference, (malinois both mean & per cell type) vs genomic regions vs rarity category\n",
    "\n",
    "We'll do different files for different cell-types (+ mean)."
   ]
  },
  {
   "cell_type": "code",
   "execution_count": 60,
   "id": "e90a0a3d-6207-43e4-acb3-03281d3c1ece",
   "metadata": {
    "execution": {
     "iopub.execute_input": "2024-02-15T23:14:31.017798Z",
     "iopub.status.busy": "2024-02-15T23:14:31.017649Z",
     "iopub.status.idle": "2024-02-15T23:14:40.737707Z",
     "shell.execute_reply": "2024-02-15T23:14:40.737266Z",
     "shell.execute_reply.started": "2024-02-15T23:14:31.017783Z"
    },
    "tags": []
   },
   "outputs": [
    {
     "name": "stderr",
     "output_type": "stream",
     "text": [
      "                                                                                \r"
     ]
    }
   ],
   "source": [
    "#each item of `cuts` is a cell-type (plus mean)\n",
    "mean_cut=None\n",
    "mean_thresh=None\n",
    "\n",
    "for i in cuts:\n",
    "    celltype=i[\"skew_name\"].split(\"_\")[0]\n",
    "    \n",
    "    \n",
    "        \n",
    "    #rarity category & genomic regions\n",
    "    to_group_by=[\"category\"]+cre_bool_columns\n",
    "    #add skew & ref coulmns for current \n",
    "    to_group_by=to_group_by+get_column_names(i[\"skew_cuts\"])+get_column_names(i[\"ref_cuts\"])\n",
    "    \n",
    "    #remove illegal characters \n",
    "    to_group_by=[item.replace(',', '^').replace('.','&') for item in to_group_by]\n",
    "    \n",
    "    #save mean for later use\n",
    "    if celltype==\"mean\":\n",
    "        mean_cut=i\n",
    "        mean_thresh=to_group_by\n",
    "    \n",
    "    dump(f\"malinois_{celltype}\",\n",
    "     count_table.groupBy(*to_group_by)\\\n",
    "                    .agg(F.sum(\"count\").alias(\"count\"))\n",
    "    )\n",
    "    "
   ]
  },
  {
   "cell_type": "markdown",
   "id": "26205ac9-0d00-4f6e-a601-523a2afc2980",
   "metadata": {},
   "source": [
    "## malin skew vs malin reference (mean only) vs phylop vs genomic region"
   ]
  },
  {
   "cell_type": "code",
   "execution_count": 61,
   "id": "af46ecd4-0d92-44f2-bcb0-21ab407e4cb9",
   "metadata": {
    "execution": {
     "iopub.execute_input": "2024-02-15T23:14:40.738944Z",
     "iopub.status.busy": "2024-02-15T23:14:40.738783Z",
     "iopub.status.idle": "2024-02-15T23:14:48.090766Z",
     "shell.execute_reply": "2024-02-15T23:14:48.090307Z",
     "shell.execute_reply.started": "2024-02-15T23:14:40.738929Z"
    },
    "tags": []
   },
   "outputs": [
    {
     "name": "stderr",
     "output_type": "stream",
     "text": [
      "                                                                                \r"
     ]
    }
   ],
   "source": [
    "dump(f\"malinois_vs_phylop\",\n",
    " count_table.groupBy(*to_group_by,\"phylop_significant\")\\\n",
    "                .agg(F.sum(\"count\").alias(\"count\"))\n",
    ")\n",
    "\n",
    "dump(f\"malinois_vs_cadd\",\n",
    " count_table.groupBy(*to_group_by,*cadd_columns)\\\n",
    "                .agg(F.sum(\"count\").alias(\"count\"))\n",
    ")"
   ]
  }
 ],
 "metadata": {
  "kernelspec": {
   "display_name": "Python 3 (ipykernel)",
   "language": "python",
   "name": "python3"
  },
  "language_info": {
   "codemirror_mode": {
    "name": "ipython",
    "version": 3
   },
   "file_extension": ".py",
   "mimetype": "text/x-python",
   "name": "python",
   "nbconvert_exporter": "python",
   "pygments_lexer": "ipython3",
   "version": "3.10.12"
  },
  "toc-autonumbering": true,
  "toc-showcode": false,
  "toc-showmarkdowntxt": true
 },
 "nbformat": 4,
 "nbformat_minor": 5
}
