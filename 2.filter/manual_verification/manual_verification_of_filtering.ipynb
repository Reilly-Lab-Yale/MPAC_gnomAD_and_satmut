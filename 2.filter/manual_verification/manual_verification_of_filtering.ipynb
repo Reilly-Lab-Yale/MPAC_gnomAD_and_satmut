{
 "cells": [
  {
   "cell_type": "markdown",
   "id": "28de037f-4af5-47e6-9f3f-e43a6c0f8754",
   "metadata": {},
   "source": [
    "The purpose of this notebook is to spot-check the previous filtering step. I want to make sure that appropriate variants have been removed. \n",
    "\n",
    "Created an IGV session. Loaded `gencode.v44.basic.annotation.exons.splice.autosomes.v2.bed`"
   ]
  },
  {
   "cell_type": "markdown",
   "id": "2041bcc7-c960-407d-a3f7-8238751f7dbe",
   "metadata": {},
   "source": [
    "Now let's process some variants into a format that we can load into IGV. \n",
    "\n",
    "First, the unfiltered variants"
   ]
  },
  {
   "cell_type": "code",
   "execution_count": 51,
   "id": "ac803d66-9cc2-4759-9906-fb59386d72ec",
   "metadata": {
    "execution": {
     "iopub.execute_input": "2024-01-22T22:10:30.203220Z",
     "iopub.status.busy": "2024-01-22T22:10:30.202725Z",
     "iopub.status.idle": "2024-01-22T22:10:30.205255Z",
     "shell.execute_reply": "2024-01-22T22:10:30.204883Z",
     "shell.execute_reply.started": "2024-01-22T22:10:30.203202Z"
    },
    "tags": []
   },
   "outputs": [],
   "source": [
    "import pandas as pd"
   ]
  },
  {
   "cell_type": "code",
   "execution_count": 52,
   "id": "247d571c-4c08-454b-85aa-e80bf3429704",
   "metadata": {
    "execution": {
     "iopub.execute_input": "2024-01-22T22:10:30.731435Z",
     "iopub.status.busy": "2024-01-22T22:10:30.731118Z",
     "iopub.status.idle": "2024-01-22T22:10:30.733219Z",
     "shell.execute_reply": "2024-01-22T22:10:30.732895Z",
     "shell.execute_reply.started": "2024-01-22T22:10:30.731422Z"
    },
    "tags": []
   },
   "outputs": [],
   "source": [
    "unfiltered_path=\"/home/mcn26/varef/scripts/noon_data/1.annotate/batched/annotated_output_chr3.csv/part-00066-46555ff7-0451-4fc0-ba29-9e1e1238638c-c000.csv\""
   ]
  },
  {
   "cell_type": "code",
   "execution_count": 53,
   "id": "a133e313-0fc6-4796-9f0e-503564b8c7be",
   "metadata": {
    "execution": {
     "iopub.execute_input": "2024-01-22T22:10:31.222973Z",
     "iopub.status.busy": "2024-01-22T22:10:31.222753Z",
     "iopub.status.idle": "2024-01-22T22:10:35.347079Z",
     "shell.execute_reply": "2024-01-22T22:10:35.346647Z",
     "shell.execute_reply.started": "2024-01-22T22:10:31.222960Z"
    },
    "tags": []
   },
   "outputs": [],
   "source": [
    "unfiltered=pd.read_csv(unfiltered_path)\n",
    "unfiltered=unfiltered.loc[1:1000]"
   ]
  },
  {
   "cell_type": "code",
   "execution_count": 54,
   "id": "95d1466d-b035-4990-90fc-034b74b040b6",
   "metadata": {
    "execution": {
     "iopub.execute_input": "2024-01-22T22:10:35.348212Z",
     "iopub.status.busy": "2024-01-22T22:10:35.347882Z",
     "iopub.status.idle": "2024-01-22T22:10:35.351167Z",
     "shell.execute_reply": "2024-01-22T22:10:35.350814Z",
     "shell.execute_reply.started": "2024-01-22T22:10:35.348197Z"
    },
    "tags": []
   },
   "outputs": [],
   "source": [
    "def dataframe_to_vcf(df):\n",
    "    \"\"\"\n",
    "    Convert a pandas DataFrame to a VCF file.\n",
    "    \n",
    "    :param df: pandas DataFrame with columns: CHROM, POS, ID, REF, ALT, QUAL, FILTER, INFO\n",
    "    :param output_file: Path to the output VCF file\n",
    "    \"\"\"\n",
    "    # Keep only the first eight columns\n",
    "    df = df.iloc[:, :8]\n",
    "    # VCF file header lines\n",
    "    header_lines = [\n",
    "        \"##fileformat=VCFv4.2\",\n",
    "        \"##INFO=<ID=ID,Number=1,Type=String,Description=\\\"Variant ID\\\">\",\n",
    "        \"#CHROM\\tPOS\\tID\\tREF\\tALT\\tQUAL\\tFILTER\\tINFO\"\n",
    "    ]\n",
    "\n",
    "    # Convert DataFrame to a list of strings formatted for VCF\n",
    "    vcf_data = df.apply(lambda x: \"\\t\".join(x.astype(str)), axis=1).tolist()\n",
    "\n",
    "    ret=\"\"\n",
    "    \n",
    "    for line in header_lines:\n",
    "        ret=ret+line + \"\\n\"\n",
    "    for row in vcf_data:\n",
    "        ret=ret+row + \"\\n\"\n",
    "    \n",
    "    return ret\n"
   ]
  },
  {
   "cell_type": "code",
   "execution_count": 55,
   "id": "61be17e2-758d-46dc-9cd7-9c76f997393e",
   "metadata": {
    "execution": {
     "iopub.execute_input": "2024-01-22T22:10:35.351763Z",
     "iopub.status.busy": "2024-01-22T22:10:35.351625Z",
     "iopub.status.idle": "2024-01-22T22:10:35.555007Z",
     "shell.execute_reply": "2024-01-22T22:10:35.554657Z",
     "shell.execute_reply.started": "2024-01-22T22:10:35.351750Z"
    },
    "tags": []
   },
   "outputs": [],
   "source": [
    "x=dataframe_to_vcf(unfiltered)"
   ]
  },
  {
   "cell_type": "code",
   "execution_count": 56,
   "id": "2dde3613-bea2-4845-9afa-163bdba2c9a7",
   "metadata": {
    "execution": {
     "iopub.execute_input": "2024-01-22T22:10:35.556085Z",
     "iopub.status.busy": "2024-01-22T22:10:35.555860Z",
     "iopub.status.idle": "2024-01-22T22:10:35.562006Z",
     "shell.execute_reply": "2024-01-22T22:10:35.561666Z",
     "shell.execute_reply.started": "2024-01-22T22:10:35.556071Z"
    },
    "tags": []
   },
   "outputs": [],
   "source": [
    "with open(\"unfiltered.vcf\", \"w\") as f:\n",
    "    f.write(x)"
   ]
  },
  {
   "cell_type": "code",
   "execution_count": 57,
   "id": "08e189fc-0865-4feb-824e-6ddae92a4a08",
   "metadata": {
    "execution": {
     "iopub.execute_input": "2024-01-22T22:10:35.562557Z",
     "iopub.status.busy": "2024-01-22T22:10:35.562425Z",
     "iopub.status.idle": "2024-01-22T22:10:35.571941Z",
     "shell.execute_reply": "2024-01-22T22:10:35.571607Z",
     "shell.execute_reply.started": "2024-01-22T22:10:35.562544Z"
    },
    "tags": []
   },
   "outputs": [],
   "source": [
    "filtered_path=\"/home/mcn26/varef/scripts/noon_data/2.filter/filtered_output_chr3.csv/part-00000-bd37fa4a-8d61-4cf6-88c8-a389d42fc536-c000.csv\""
   ]
  },
  {
   "cell_type": "code",
   "execution_count": 58,
   "id": "0ce9efb9-b945-42b4-9284-e05878584ae6",
   "metadata": {
    "execution": {
     "iopub.execute_input": "2024-01-22T22:10:35.572487Z",
     "iopub.status.busy": "2024-01-22T22:10:35.572355Z",
     "iopub.status.idle": "2024-01-22T22:10:36.414895Z",
     "shell.execute_reply": "2024-01-22T22:10:36.414464Z",
     "shell.execute_reply.started": "2024-01-22T22:10:35.572475Z"
    },
    "tags": []
   },
   "outputs": [],
   "source": [
    "filtered=pd.read_csv(filtered_path)\n",
    "filtered=filtered.loc[1:1000]"
   ]
  },
  {
   "cell_type": "code",
   "execution_count": null,
   "id": "34baa443-4ac5-45db-8954-7f28da27b460",
   "metadata": {
    "execution": {
     "iopub.execute_input": "2024-01-22T22:10:36.415639Z",
     "iopub.status.busy": "2024-01-22T22:10:36.415475Z",
     "iopub.status.idle": "2024-01-22T22:10:36.598958Z",
     "shell.execute_reply": "2024-01-22T22:10:36.598597Z",
     "shell.execute_reply.started": "2024-01-22T22:10:36.415625Z"
    },
    "tags": []
   },
   "outputs": [],
   "source": [
    "with open(\"filtered.vcf\", \"w\") as f:\n",
    "    f.write(dataframe_to_vcf(filtered))"
   ]
  },
  {
   "cell_type": "markdown",
   "id": "7c99a721-85e0-40c1-bf08-19e9d8c2bb97",
   "metadata": {},
   "source": [
    "Note that these are 1000 random variants, so unfiltered is not a strict superset of filtered in these screenshots.\n",
    "\n",
    "![screenshot 1](igv_screen.png)"
   ]
  },
  {
   "cell_type": "markdown",
   "id": "f9304c61-2810-400b-939d-eb1baa959f8f",
   "metadata": {},
   "source": [
    "![another screenshot](igv_screen2.png)"
   ]
  },
  {
   "cell_type": "markdown",
   "id": "847b864b-5257-4ff6-b8e3-5b92df2dfd03",
   "metadata": {},
   "source": [
    "Looks good !"
   ]
  }
 ],
 "metadata": {
  "kernelspec": {
   "display_name": "Python 3 (ipykernel)",
   "language": "python",
   "name": "python3"
  },
  "language_info": {
   "codemirror_mode": {
    "name": "ipython",
    "version": 3
   },
   "file_extension": ".py",
   "mimetype": "text/x-python",
   "name": "python",
   "nbconvert_exporter": "python",
   "pygments_lexer": "ipython3",
   "version": "3.10.12"
  }
 },
 "nbformat": 4,
 "nbformat_minor": 5
}
