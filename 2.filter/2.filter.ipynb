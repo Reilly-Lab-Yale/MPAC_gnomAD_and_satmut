{
 "cells": [
  {
   "cell_type": "markdown",
   "id": "6feca1f2-3155-4e2d-a6da-be07e5544118",
   "metadata": {},
   "source": [
    "The purpose of this script is to remove all variants falling in regions of the genome we expect to be uninformative. This whole project is . about evolutionary conservation and malinois : an algorithm that predicts cis-regulatory activity. Any relationships between these two variables would be obscured by the presence of genetic sequnces which could affect conservation for some reason other than their cis-regulatory activity. For this reason, I will exclude exons and splice-sites (File from Dr. Rong : exons of cannonical transcripts plus 20 bases into the splice acceptor and 6 bases into the splice donor  (numbers are from MaxEntScan motifs) )."
   ]
  },
  {
   "cell_type": "markdown",
   "id": "6ed3930d-8ea7-4ab6-b809-d9b29619f136",
   "metadata": {},
   "source": [
    "Initalize the spark session"
   ]
  },
  {
   "cell_type": "code",
   "execution_count": 1,
   "id": "41888011-db5e-4b8d-92a0-782084a6cc54",
   "metadata": {
    "execution": {
     "iopub.execute_input": "2024-01-16T21:53:58.309633Z",
     "iopub.status.busy": "2024-01-16T21:53:58.309073Z",
     "iopub.status.idle": "2024-01-16T21:54:07.716175Z",
     "shell.execute_reply": "2024-01-16T21:54:07.714970Z",
     "shell.execute_reply.started": "2024-01-16T21:53:58.309578Z"
    },
    "tags": []
   },
   "outputs": [
    {
     "name": "stderr",
     "output_type": "stream",
     "text": [
      "Setting default log level to \"WARN\".\n",
      "To adjust logging level use sc.setLogLevel(newLevel). For SparkR, use setLogLevel(newLevel).\n",
      "24/01/16 16:54:05 WARN NativeCodeLoader: Unable to load native-hadoop library for your platform... using builtin-java classes where applicable\n",
      "24/01/16 16:54:18 WARN GarbageCollectionMetrics: To enable non-built-in garbage collector(s) List(G1 Concurrent GC), users should configure it(them) to spark.eventLog.gcMetrics.youngGenerationGarbageCollectors or spark.eventLog.gcMetrics.oldGenerationGarbageCollectors\n"
     ]
    }
   ],
   "source": [
    "from pyspark.sql import SparkSession\n",
    "from pyspark.sql import functions as F\n",
    "import os\n",
    "import json\n",
    "\n",
    "spark = SparkSession.builder.appName(\"filter\").getOrCreate()"
   ]
  },
  {
   "cell_type": "markdown",
   "id": "277b1eb3-145f-4eb1-a13a-ca6e96f94f23",
   "metadata": {},
   "source": [
    "Load the data"
   ]
  },
  {
   "cell_type": "code",
   "execution_count": 15,
   "id": "511c3252-309b-41ac-95de-d7a6cc4f9b21",
   "metadata": {
    "execution": {
     "iopub.execute_input": "2024-01-16T22:03:44.522527Z",
     "iopub.status.busy": "2024-01-16T22:03:44.521942Z",
     "iopub.status.idle": "2024-01-16T22:03:45.286167Z",
     "shell.execute_reply": "2024-01-16T22:03:45.285542Z",
     "shell.execute_reply.started": "2024-01-16T22:03:44.522474Z"
    },
    "tags": []
   },
   "outputs": [],
   "source": [
    "#loading the extended-exon bed file\n",
    "#note we are discarding all information other than chromosome, start, & stop\n",
    "#!!note \"autosome\" : we are wholey exclusing the sex chromosomes!!\n",
    "exons = spark.read.csv(\"/home/mcn26/varef/scripts/noon_data/gencode.v44.protein.coding.exons.splice.autosomes.bed\", header=False, inferSchema=True,sep=\"\\t\").select(\n",
    "    F.col('_c0').alias('chromosome'),\n",
    "    F.col('_c1').alias('start'),\n",
    "    F.col('_c2').alias('end')\n",
    ")\n",
    "\n",
    "#repartition the data: we want it organized by chromosome\n",
    "large_table_df = large_table_df.repartition(\"chromosome\")"
   ]
  },
  {
   "cell_type": "code",
   "execution_count": 24,
   "id": "5f24b654-4c1b-4995-925c-d02baeccee49",
   "metadata": {
    "execution": {
     "iopub.execute_input": "2024-01-16T22:14:14.099111Z",
     "iopub.status.busy": "2024-01-16T22:14:14.098516Z",
     "iopub.status.idle": "2024-01-16T22:14:14.106854Z",
     "shell.execute_reply": "2024-01-16T22:14:14.105457Z",
     "shell.execute_reply.started": "2024-01-16T22:14:14.099058Z"
    },
    "tags": []
   },
   "outputs": [
    {
     "name": "stdout",
     "output_type": "stream",
     "text": [
      "['chr1', 'chr2', 'chr3', 'chr4', 'chr5', 'chr6', 'chr7', 'chr8', 'chr9', 'chr10', 'chr11', 'chr12', 'chr13', 'chr14', 'chr15', 'chr16', 'chr17', 'chr18', 'chr19', 'chr20', 'chr21', 'chr22']\n"
     ]
    }
   ],
   "source": [
    "#as noted above: we are only examining autosomes. \n"
   ]
  },
  {
   "cell_type": "code",
   "execution_count": 16,
   "id": "1ed1a73a-c210-4b7e-bfe9-38d897413f05",
   "metadata": {
    "execution": {
     "iopub.execute_input": "2024-01-16T22:03:45.287589Z",
     "iopub.status.busy": "2024-01-16T22:03:45.287340Z",
     "iopub.status.idle": "2024-01-16T22:03:45.442797Z",
     "shell.execute_reply": "2024-01-16T22:03:45.442154Z",
     "shell.execute_reply.started": "2024-01-16T22:03:45.287567Z"
    },
    "tags": []
   },
   "outputs": [
    {
     "data": {
      "text/plain": [
       "[Row(chromosome='chr1', start=65418, end=65433),\n",
       " Row(chromosome='chr1', start=65499, end=65579),\n",
       " Row(chromosome='chr1', start=69036, end=71585)]"
      ]
     },
     "execution_count": 16,
     "metadata": {},
     "output_type": "execute_result"
    }
   ],
   "source": [
    "exons.take(3)"
   ]
  },
  {
   "cell_type": "markdown",
   "id": "df468280-3584-4d80-bae3-926b6cb83b46",
   "metadata": {},
   "source": [
    "Our expanded exons are in a BED file.\n",
    "BED files are 0-based\n",
    "\n",
    "Our incoming data was taken from a VCF originally\n",
    "VCF files are 1-based\n"
   ]
  },
  {
   "cell_type": "code",
   "execution_count": 14,
   "id": "c0ac94e4-62b2-4a40-a35a-d84237684262",
   "metadata": {
    "execution": {
     "iopub.execute_input": "2024-01-16T22:02:06.184566Z",
     "iopub.status.busy": "2024-01-16T22:02:06.184023Z",
     "iopub.status.idle": "2024-01-16T22:02:06.190624Z",
     "shell.execute_reply": "2024-01-16T22:02:06.189368Z",
     "shell.execute_reply.started": "2024-01-16T22:02:06.184515Z"
    },
    "tags": []
   },
   "outputs": [],
   "source": [
    "x=\"\"\"\n",
    "Chr1        T   A   C   G   T\n",
    "          | | | | | | | | | |\n",
    "1 based   | 1 | 2 | 3 | 4 | 5\n",
    "0 based   0   1   2   3   4\n",
    "\"\"\""
   ]
  }
 ],
 "metadata": {
  "kernelspec": {
   "display_name": "Python 3 (ipykernel)",
   "language": "python",
   "name": "python3"
  },
  "language_info": {
   "codemirror_mode": {
    "name": "ipython",
    "version": 3
   },
   "file_extension": ".py",
   "mimetype": "text/x-python",
   "name": "python",
   "nbconvert_exporter": "python",
   "pygments_lexer": "ipython3",
   "version": "3.10.12"
  }
 },
 "nbformat": 4,
 "nbformat_minor": 5
}
