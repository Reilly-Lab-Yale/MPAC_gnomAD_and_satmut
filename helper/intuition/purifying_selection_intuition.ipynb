{
 "cells": [
  {
   "cell_type": "markdown",
   "id": "f687f047-1bab-42a1-87a0-8e66f277ed73",
   "metadata": {},
   "source": [
    "The goal of this analysis is to get an intuition for how genetic variant rarity changes with (predicted) genic consequence. \n",
    "\n",
    "This notebook will compute count tables of variant rarity category by ensembl predicted consequence, plus phylop & roulette scores (sum and sum of squares). "
   ]
  },
  {
   "cell_type": "markdown",
   "id": "45cd96df-47f4-4bb8-b31f-2bccea1e58e0",
   "metadata": {},
   "source": [
    "## Import relevant libraries"
   ]
  },
  {
   "cell_type": "code",
   "execution_count": 2,
   "id": "da6ff270-68c8-45a0-a44e-db3effc51208",
   "metadata": {
    "execution": {
     "iopub.execute_input": "2024-06-21T18:27:28.534736Z",
     "iopub.status.busy": "2024-06-21T18:27:28.534220Z",
     "iopub.status.idle": "2024-06-21T18:27:30.495303Z",
     "shell.execute_reply": "2024-06-21T18:27:30.494868Z",
     "shell.execute_reply.started": "2024-06-21T18:27:28.534708Z"
    },
    "tags": []
   },
   "outputs": [],
   "source": [
    "from pyspark import SparkConf, SparkContext\n",
    "from pyspark.sql import SparkSession\n",
    "import pyspark.sql.functions as F\n",
    "import pyspark.sql.types as T\n",
    "import json"
   ]
  },
  {
   "cell_type": "markdown",
   "id": "3e76f3b6-4007-4773-818e-32467f59104d",
   "metadata": {},
   "source": [
    "## create the spark session."
   ]
  },
  {
   "cell_type": "code",
   "execution_count": 3,
   "id": "c26ca28c-e7c1-42ef-a044-9a98fe5f595b",
   "metadata": {
    "execution": {
     "iopub.execute_input": "2024-06-21T18:27:30.496511Z",
     "iopub.status.busy": "2024-06-21T18:27:30.496116Z",
     "iopub.status.idle": "2024-06-21T18:27:43.606159Z",
     "shell.execute_reply": "2024-06-21T18:27:43.605672Z",
     "shell.execute_reply.started": "2024-06-21T18:27:30.496495Z"
    },
    "tags": []
   },
   "outputs": [
    {
     "name": "stderr",
     "output_type": "stream",
     "text": [
      "Setting default log level to \"WARN\".\n",
      "To adjust logging level use sc.setLogLevel(newLevel). For SparkR, use setLogLevel(newLevel).\n",
      "24/06/21 14:27:40 WARN NativeCodeLoader: Unable to load native-hadoop library for your platform... using builtin-java classes where applicable\n"
     ]
    }
   ],
   "source": [
    "spark = SparkSession.builder \\\n",
    "    .appName(\"purifying_selection\") \\\n",
    "    .getOrCreate()"
   ]
  },
  {
   "cell_type": "markdown",
   "id": "5ce041ab-9b0a-4e5d-9945-b84990507982",
   "metadata": {},
   "source": [
    "## Load variants"
   ]
  },
  {
   "cell_type": "code",
   "execution_count": 23,
   "id": "0379abb3-91ce-4e53-abf4-21146650e82c",
   "metadata": {
    "execution": {
     "iopub.execute_input": "2024-06-21T18:56:50.207184Z",
     "iopub.status.busy": "2024-06-21T18:56:50.206913Z",
     "iopub.status.idle": "2024-06-21T18:56:50.318686Z",
     "shell.execute_reply": "2024-06-21T18:56:50.318201Z",
     "shell.execute_reply.started": "2024-06-21T18:56:50.207167Z"
    },
    "tags": []
   },
   "outputs": [],
   "source": [
    "#real data\n",
    "\n",
    "df = spark.read \\\n",
    "    .option(\"comment\", \"#\") \\\n",
    "    .option(\"delimiter\", \"\\t\") \\\n",
    "    .option(\"header\", \"true\") \\\n",
    "    .csv(\"/gpfs/gibbs/pi/reilly/VariantEffects/scripts/noon_data/2.3.add_transposons/*.csv.gz/*.csv.gz\")\n",
    "\n",
    "#toy data\n",
    "\n",
    "#df=spark.read \\\n",
    "#    .option(\"delimiter\",\"\\t\") \\\n",
    "#    .option(\"header\",\"true\") \\\n",
    "#    .csv(\"toy_with_missing_vep.tsv\")\n",
    "#OR\n",
    "#    .csv(\"toy.tsv\")\n",
    "\n"
   ]
  },
  {
   "cell_type": "markdown",
   "id": "0268c859-3610-4c10-99a2-266dc6138247",
   "metadata": {},
   "source": [
    "### Note that since we're tapping off variants at the 2.3 add transposon step, we're missing:\n",
    "- 2.5 filter : so we don't filter out exonic variants (this is desireable)\n",
    "- 3.0 pleio_and_filter : so we haven't dropped MAF_OR_AC_IS_ZERO (which is performed below)\n",
    "- 3.5 add_tf : (no great loss)\n",
    "- 3.6 remove non-snp (which we do below)"
   ]
  },
  {
   "cell_type": "markdown",
   "id": "ef4c8189-c5f0-4fc0-948d-98b8571e7cfe",
   "metadata": {},
   "source": [
    "## Filter out non-SNP variants"
   ]
  },
  {
   "cell_type": "code",
   "execution_count": 24,
   "id": "7cf62ccc-8cb6-438d-98c3-082a3b589b9c",
   "metadata": {
    "execution": {
     "iopub.execute_input": "2024-06-21T18:56:52.515011Z",
     "iopub.status.busy": "2024-06-21T18:56:52.514717Z",
     "iopub.status.idle": "2024-06-21T18:56:52.527377Z",
     "shell.execute_reply": "2024-06-21T18:56:52.526935Z",
     "shell.execute_reply.started": "2024-06-21T18:56:52.514993Z"
    },
    "tags": []
   },
   "outputs": [],
   "source": [
    "df= df.filter(\n",
    "     df.REF.isin(\"A\", \"T\", \"C\", \"G\") & df.ALT.isin(\"A\", \"T\", \"C\", \"G\")\n",
    ")"
   ]
  },
  {
   "cell_type": "markdown",
   "id": "4dcc6c7c-7a97-48f7-9f00-b923dce7f35c",
   "metadata": {},
   "source": [
    "# Filter out `MAF_OR_AC_IS_ZERO`"
   ]
  },
  {
   "cell_type": "code",
   "execution_count": 25,
   "id": "bc3ea560-6d55-4a67-b7c1-90e97dd9596a",
   "metadata": {
    "execution": {
     "iopub.execute_input": "2024-06-21T18:56:54.008847Z",
     "iopub.status.busy": "2024-06-21T18:56:54.008579Z",
     "iopub.status.idle": "2024-06-21T18:56:54.014560Z",
     "shell.execute_reply": "2024-06-21T18:56:54.014189Z",
     "shell.execute_reply.started": "2024-06-21T18:56:54.008831Z"
    },
    "tags": []
   },
   "outputs": [],
   "source": [
    "df=df.filter(F.col(\"category\")!=\"MAF_OR_AC_IS_ZERO\")"
   ]
  },
  {
   "cell_type": "markdown",
   "id": "ec8a44bd-efd2-42d0-aa0a-d029a260a5cc",
   "metadata": {},
   "source": [
    "## Count occurances of each consequence code in each vep string.\n",
    "\n",
    "First, get a list of consequences for each variant. This is a little involved, because of the many layers we have to trawl through:"
   ]
  },
  {
   "cell_type": "markdown",
   "id": "ac671e37-25c3-4e39-81ac-d79791c1294f",
   "metadata": {},
   "source": [
    "![schema](./info_field.drawio.png)"
   ]
  },
  {
   "cell_type": "code",
   "execution_count": 26,
   "id": "44da45d6-42c1-49b3-82aa-9c287dbb00a8",
   "metadata": {
    "execution": {
     "iopub.execute_input": "2024-06-21T18:56:56.696072Z",
     "iopub.status.busy": "2024-06-21T18:56:56.695607Z",
     "iopub.status.idle": "2024-06-21T18:56:56.717555Z",
     "shell.execute_reply": "2024-06-21T18:56:56.717142Z",
     "shell.execute_reply.started": "2024-06-21T18:56:56.696054Z"
    },
    "tags": []
   },
   "outputs": [],
   "source": [
    "#semicolon split\n",
    "df=df.withColumn(\"info_split\",F.split(df[\"INFO\"],\";\"))\n",
    "df=df.withColumn(\"vep_alone\",F.expr(\"filter(info_split, x -> x LIKE 'vep=%')[0]\"))"
   ]
  },
  {
   "cell_type": "code",
   "execution_count": 27,
   "id": "bda77845-8b9a-4994-9f0e-fdbe693812cb",
   "metadata": {
    "execution": {
     "iopub.execute_input": "2024-06-21T18:56:57.778720Z",
     "iopub.status.busy": "2024-06-21T18:56:57.778249Z",
     "iopub.status.idle": "2024-06-21T18:56:57.800567Z",
     "shell.execute_reply": "2024-06-21T18:56:57.800146Z",
     "shell.execute_reply.started": "2024-06-21T18:56:57.778703Z"
    },
    "tags": []
   },
   "outputs": [],
   "source": [
    "#comma split\n",
    "df=df.withColumn(\"vep_split\",F.split(df[\"vep_alone\"],\",\"))\n",
    "\n",
    "#pipe split & grab first element. \n",
    "df = df.withColumn(\n",
    "    \"extracted_codes\",\n",
    "    F.transform(F.col(\"vep_split\"), lambda x: F.split(x, \"\\\\|\")[1])\n",
    ")"
   ]
  },
  {
   "cell_type": "code",
   "execution_count": 28,
   "id": "d380b13d-2460-4e7a-a0e4-5cd9bd813109",
   "metadata": {
    "execution": {
     "iopub.execute_input": "2024-06-21T18:57:00.825662Z",
     "iopub.status.busy": "2024-06-21T18:57:00.825207Z",
     "iopub.status.idle": "2024-06-21T18:57:00.838034Z",
     "shell.execute_reply": "2024-06-21T18:57:00.837616Z",
     "shell.execute_reply.started": "2024-06-21T18:57:00.825644Z"
    },
    "tags": []
   },
   "outputs": [],
   "source": [
    "#break up anpersand-ligated conseqence codes\n",
    "df=df.withColumn(\"consq_codes\",F.expr(\"flatten(transform(extracted_codes,x->split(x,'&')))\"))"
   ]
  },
  {
   "cell_type": "code",
   "execution_count": 29,
   "id": "16fafbbd-0b4b-4f92-8fad-eee0a1789704",
   "metadata": {
    "execution": {
     "iopub.execute_input": "2024-06-21T18:57:02.088719Z",
     "iopub.status.busy": "2024-06-21T18:57:02.088263Z",
     "iopub.status.idle": "2024-06-21T18:57:02.101188Z",
     "shell.execute_reply": "2024-06-21T18:57:02.100775Z",
     "shell.execute_reply.started": "2024-06-21T18:57:02.088702Z"
    },
    "tags": []
   },
   "outputs": [],
   "source": [
    "#Some variants will naturally have no predicted consequences. We will use NONE\n",
    "\n",
    "df=df.withColumn(\"consq_codes\", F.when(F.col(\"consq_codes\").isNull(), F.array(F.lit(\"NONE\"))).otherwise(F.col(\"consq_codes\")))"
   ]
  },
  {
   "cell_type": "markdown",
   "id": "e733a4fe-8583-4c6c-a760-60e65e53315f",
   "metadata": {},
   "source": [
    "Next, compute the worst consequence code for each var.\n",
    "\n",
    "I've retrieved consequences from [here](https://useast.ensembl.org/info/genome/variation/prediction/predicted_data.html) on 2024-06-10. "
   ]
  },
  {
   "cell_type": "code",
   "execution_count": 30,
   "id": "bc72c14b-306d-4c3c-b659-903a367c51e9",
   "metadata": {
    "execution": {
     "iopub.execute_input": "2024-06-21T18:57:05.842016Z",
     "iopub.status.busy": "2024-06-21T18:57:05.841549Z",
     "iopub.status.idle": "2024-06-21T18:57:05.845804Z",
     "shell.execute_reply": "2024-06-21T18:57:05.845430Z",
     "shell.execute_reply.started": "2024-06-21T18:57:05.841997Z"
    },
    "tags": []
   },
   "outputs": [],
   "source": [
    "#This order is taken from the website linked above, which states that \n",
    "#the codes are shown in order of severity (though it admits this is subjective)\n",
    "#I've assigned numbers, where the smaller the more severe\n",
    "\n",
    "consq_code_lut = {\"transcript_ablation\":0, \n",
    "                  \"splice_acceptor_variant\":1, \n",
    "                  \"splice_donor_variant\":2, \n",
    "                  \"stop_gained\":3, \n",
    "                  \"frameshift_variant\":4, \n",
    "                  \"stop_lost\":5, \n",
    "                  \"start_lost\":6, \n",
    "                  \"transcript_amplification\":7,\n",
    "                  \"feature_elongation\":8,\n",
    "                  \"feature_truncation\":9,\n",
    "                  \"inframe_insertion\":10,\n",
    "                  \"inframe_deletion\":11,\n",
    "                  \"missense_variant\":12,\n",
    "                  \"protein_altering_variant\":13,\n",
    "                  \"splice_donor_5th_base_variant\":14,\n",
    "                  \"splice_region_variant\":15,\n",
    "                  \"splice_donor_region_variant\":16,\n",
    "                  \"splice_polypyrimidine_tract_variant\":17,\n",
    "                  \"incomplete_terminal_codon_variant\":18,\n",
    "                  \"start_retained_variant\":19,\n",
    "                  \"stop_retained_variant\":20,\n",
    "                  \"synonymous_variant\":21,\n",
    "                  \"coding_sequence_variant\":22,\n",
    "                  \"mature_miRNA_variant\":23,\n",
    "                  \"5_prime_UTR_variant\":24,\n",
    "                  \"3_prime_UTR_variant\":25,\n",
    "                  \"non_coding_transcript_exon_variant\":26,\n",
    "                  \"intron_variant\":27,\n",
    "                  \"NMD_transcript_variant\":28,\n",
    "                  \"non_coding_transcript_variant\":29,\n",
    "                  \"coding_transcript_variant\":30,\n",
    "                  \"upstream_gene_variant\":31,\n",
    "                  \"downstream_gene_variant\":32,\n",
    "                  \"TFBS_ablation\":33,\n",
    "                  \"TFBS_amplification\":34,\n",
    "                  \"TF_binding_site_variant\":35,\n",
    "                  \"regulatory_region_ablation\":36,\n",
    "                  \"regulatory_region_amplification\":37,\n",
    "                  \"regulatory_region_variant\":38,\n",
    "                  \"intergenic_variant\":39,\n",
    "                  \"sequence_variant\":40,\n",
    "                  \"NONE\":41\n",
    "                 }"
   ]
  },
  {
   "cell_type": "code",
   "execution_count": 31,
   "id": "37e68ff5-ce23-4974-893a-20bf205cb0ff",
   "metadata": {
    "execution": {
     "iopub.execute_input": "2024-06-21T18:57:06.874088Z",
     "iopub.status.busy": "2024-06-21T18:57:06.873593Z",
     "iopub.status.idle": "2024-06-21T18:57:06.895893Z",
     "shell.execute_reply": "2024-06-21T18:57:06.895457Z",
     "shell.execute_reply.started": "2024-06-21T18:57:06.874070Z"
    },
    "tags": []
   },
   "outputs": [],
   "source": [
    "lookup_broadcast = spark.sparkContext.broadcast(consq_code_lut)\n",
    "\n",
    "reverse_consequence_code_lut= {value: key for key, value in consq_code_lut.items()}\n",
    "\n",
    "#lookup_broadcast_reverse = spark.sparkContext.broadcast(reverse_consequence_code_lut)"
   ]
  },
  {
   "cell_type": "code",
   "execution_count": 32,
   "id": "39f37185-d7f1-40ee-aa3e-3b3a717a7e2b",
   "metadata": {
    "execution": {
     "iopub.execute_input": "2024-06-21T18:57:07.892696Z",
     "iopub.status.busy": "2024-06-21T18:57:07.892237Z",
     "iopub.status.idle": "2024-06-21T18:57:07.896027Z",
     "shell.execute_reply": "2024-06-21T18:57:07.895654Z",
     "shell.execute_reply.started": "2024-06-21T18:57:07.892678Z"
    },
    "tags": []
   },
   "outputs": [],
   "source": [
    "def lookup_transform(inp):\n",
    "    #turns a list of consequence codes into a list of severity ints\n",
    "    lookup=lookup_broadcast.value\n",
    "    return [lookup.get(item) for item in inp]\n",
    "\n",
    "def lookup_transform_reverse(inp):\n",
    "    #turns a SINGLE severity int into a consequence code\n",
    "    return reverse_consequence_code_lut.get(inp,\"ERR\")\n",
    "\n",
    "#register the UDFs\n",
    "lookup_transform_udf = F.udf(lookup_transform, returnType=T.ArrayType(T.IntegerType()))\n",
    "\n",
    "lookup_transform_reverse_udf = F.udf(lookup_transform_reverse, returnType=T.StringType())"
   ]
  },
  {
   "cell_type": "code",
   "execution_count": 33,
   "id": "1c8d8afc-0186-4821-928b-155c89d13a85",
   "metadata": {
    "execution": {
     "iopub.execute_input": "2024-06-21T18:57:10.044077Z",
     "iopub.status.busy": "2024-06-21T18:57:10.043804Z",
     "iopub.status.idle": "2024-06-21T18:57:10.059951Z",
     "shell.execute_reply": "2024-06-21T18:57:10.059510Z",
     "shell.execute_reply.started": "2024-06-21T18:57:10.044061Z"
    },
    "tags": []
   },
   "outputs": [],
   "source": [
    "#Apply the lookup UDF to convert string consequence codes to severity ints\n",
    "df=df.withColumn(\"consq_numeric\",lookup_transform_udf(df[\"consq_codes\"]))"
   ]
  },
  {
   "cell_type": "code",
   "execution_count": 34,
   "id": "ccfcdcb9-8a2c-49e8-837c-c574492c2e82",
   "metadata": {
    "execution": {
     "iopub.execute_input": "2024-06-21T18:57:11.010352Z",
     "iopub.status.busy": "2024-06-21T18:57:11.010083Z",
     "iopub.status.idle": "2024-06-21T18:57:11.019095Z",
     "shell.execute_reply": "2024-06-21T18:57:11.018683Z",
     "shell.execute_reply.started": "2024-06-21T18:57:11.010335Z"
    },
    "tags": []
   },
   "outputs": [],
   "source": [
    "#get the worst severity score for each variant.\n",
    "df=df.withColumn(\"min_consq_numeric\", F.array_min(df[\"consq_numeric\"]))"
   ]
  },
  {
   "cell_type": "code",
   "execution_count": 35,
   "id": "48c57fe5-f350-4e54-907c-a2318fdef51b",
   "metadata": {
    "execution": {
     "iopub.execute_input": "2024-06-21T18:57:11.927139Z",
     "iopub.status.busy": "2024-06-21T18:57:11.926680Z",
     "iopub.status.idle": "2024-06-21T18:57:11.939801Z",
     "shell.execute_reply": "2024-06-21T18:57:11.939371Z",
     "shell.execute_reply.started": "2024-06-21T18:57:11.927122Z"
    },
    "tags": []
   },
   "outputs": [],
   "source": [
    "#convert minimum consequence code back to string\n",
    "df=df.withColumn(\"worst_consq_string\",\n",
    "              lookup_transform_reverse_udf(df[\"min_consq_numeric\"])\n",
    "             )"
   ]
  },
  {
   "cell_type": "code",
   "execution_count": 17,
   "id": "9fd45b80-962f-4ffb-b3ae-bb745d943f98",
   "metadata": {
    "execution": {
     "iopub.execute_input": "2024-06-21T18:28:46.135514Z",
     "iopub.status.busy": "2024-06-21T18:28:46.135235Z",
     "iopub.status.idle": "2024-06-21T18:28:46.137631Z",
     "shell.execute_reply": "2024-06-21T18:28:46.137279Z",
     "shell.execute_reply.started": "2024-06-21T18:28:46.135496Z"
    },
    "tags": []
   },
   "outputs": [],
   "source": [
    "#manual verification\n",
    "#import pandas as pd\n",
    "#with pd.option_context('display.max_rows', None, 'display.max_columns', None):\n",
    "#    display(df.limit(3).toPandas())\n",
    "#df.limit(3).toPandas()[\"consq_codes\"].to_list()"
   ]
  },
  {
   "cell_type": "code",
   "execution_count": 36,
   "id": "6bf8fcbc-bc0a-434b-8f42-8e9d2d9fde1f",
   "metadata": {
    "execution": {
     "iopub.execute_input": "2024-06-21T18:57:15.285083Z",
     "iopub.status.busy": "2024-06-21T18:57:15.284815Z",
     "iopub.status.idle": "2024-06-21T18:57:15.306822Z",
     "shell.execute_reply": "2024-06-21T18:57:15.306396Z",
     "shell.execute_reply.started": "2024-06-21T18:57:15.285066Z"
    },
    "tags": []
   },
   "outputs": [],
   "source": [
    "#count \n",
    "counts=df.groupBy(\"category\",\"worst_consq_string\").agg(\n",
    "    \n",
    "    F.sum(\"P_ANNO\").alias(\"sum_phylop\"),\n",
    "    F.sum(F.col(\"P_ANNO\") * F.col(\"P_ANNO\")).alias(\"sum_of_squared_phylop\"),\n",
    "    \n",
    "    F.sum(\"roulette_MR\").alias(\"sum_roulette_MR\"),\n",
    "    F.sum(F.col(\"roulette_MR\") * F.col(\"roulette_MR\")).alias(\"sum_of_squared_roulette_MR\"),\n",
    "    \n",
    "    \n",
    "    F.count(\"*\").alias(\"count\")  # Count of elements in each group\n",
    ")"
   ]
  },
  {
   "cell_type": "markdown",
   "id": "89ce6f2e-2da5-4728-a2e0-f6fe75ff4772",
   "metadata": {},
   "source": [
    "Dump to disc"
   ]
  },
  {
   "cell_type": "code",
   "execution_count": 37,
   "id": "914c858f-ef7a-40ba-9686-85615bcb6c51",
   "metadata": {
    "execution": {
     "iopub.execute_input": "2024-06-21T18:57:27.094440Z",
     "iopub.status.busy": "2024-06-21T18:57:27.094162Z",
     "iopub.status.idle": "2024-06-21T18:57:27.536375Z",
     "shell.execute_reply": "2024-06-21T18:57:27.535937Z",
     "shell.execute_reply.started": "2024-06-21T18:57:27.094422Z"
    },
    "tags": []
   },
   "outputs": [],
   "source": [
    "counts.coalesce(1).write.csv(\"counts.csv\", mode=\"overwrite\", header=True)\n",
    "#counts.coalesce(1).write.csv(\"counts_toy.csv\", mode=\"overwrite\", header=True)\n",
    "#counts.coalesce(1).write.csv(\"counts_toy_with_missing.csv\", mode=\"overwrite\", header=True)"
   ]
  }
 ],
 "metadata": {
  "kernelspec": {
   "display_name": "Python 3 (ipykernel)",
   "language": "python",
   "name": "python3"
  },
  "language_info": {
   "codemirror_mode": {
    "name": "ipython",
    "version": 3
   },
   "file_extension": ".py",
   "mimetype": "text/x-python",
   "name": "python",
   "nbconvert_exporter": "python",
   "pygments_lexer": "ipython3",
   "version": "3.10.12"
  }
 },
 "nbformat": 4,
 "nbformat_minor": 5
}
