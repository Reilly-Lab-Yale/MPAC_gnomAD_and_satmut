{
 "cells": [
  {
   "cell_type": "code",
   "execution_count": 1,
   "id": "99fe49ca-b5b3-4f1c-8c1f-adc821b53dd4",
   "metadata": {
    "execution": {
     "iopub.execute_input": "2025-01-06T18:30:47.666913Z",
     "iopub.status.busy": "2025-01-06T18:30:47.666556Z",
     "iopub.status.idle": "2025-01-06T18:30:59.088492Z",
     "shell.execute_reply": "2025-01-06T18:30:59.087747Z",
     "shell.execute_reply.started": "2025-01-06T18:30:47.666881Z"
    },
    "tags": []
   },
   "outputs": [],
   "source": [
    "%load_ext sql"
   ]
  },
  {
   "cell_type": "code",
   "execution_count": 3,
   "id": "018fb924-bdf2-4f65-b00e-a03099ae7523",
   "metadata": {
    "execution": {
     "iopub.execute_input": "2025-01-06T21:03:20.668992Z",
     "iopub.status.busy": "2025-01-06T21:03:20.668520Z",
     "iopub.status.idle": "2025-01-06T21:03:56.202687Z",
     "shell.execute_reply": "2025-01-06T21:03:56.202079Z",
     "shell.execute_reply.started": "2025-01-06T21:03:20.668958Z"
    },
    "tags": []
   },
   "outputs": [
    {
     "name": "stdout",
     "output_type": "stream",
     "text": [
      "The files belonging to this database system will be owned by user \"mcn26\".\n",
      "This user must also own the server process.\n",
      "\n",
      "The database cluster will be initialized with locale \"en_US.UTF-8\".\n",
      "The default database encoding has accordingly been set to \"UTF8\".\n",
      "The default text search configuration will be set to \"english\".\n",
      "\n",
      "Data page checksums are disabled.\n",
      "\n",
      "fixing permissions on existing directory /home/mcn26/palmer_scratch/db ... ok\n",
      "creating subdirectories ... ok\n",
      "selecting dynamic shared memory implementation ... posix\n",
      "selecting default \"max_connections\" ... 100\n",
      "selecting default \"shared_buffers\" ... 128MB\n",
      "selecting default time zone ... America/New_York\n",
      "creating configuration files ... ok\n",
      "running bootstrap script ... ok\n",
      "performing post-bootstrap initialization ... ok\n",
      "syncing data to disk ... ok\n",
      "\n",
      "initdb: warning: enabling \"trust\" authentication for local connections\n",
      "initdb: hint: You can change this by editing pg_hba.conf or using the option -A, or --auth-local and --auth-host, the next time you run initdb.\n",
      "\n",
      "Success. You can now start the database server using:\n",
      "\n",
      "    pg_ctl -D /home/mcn26/palmer_scratch/db -l logfile start\n",
      "\n"
     ]
    }
   ],
   "source": [
    "!initdb -D ~/palmer_scratch/db"
   ]
  },
  {
   "cell_type": "markdown",
   "id": "d9eb0340-791f-4038-aadd-47aaf79f18f7",
   "metadata": {},
   "source": [
    "`postgres --single -D /home/mcn26/palmer_scratch/db -p 5433 postgres`\n",
    "\n",
    "`CREATE DATABASE scratch`\n",
    "\n",
    "\n",
    "exited (control-D for some reason)\n",
    "relogged onto scratch\n",
    "\n",
    "\n",
    "`postgres --single -D /home/mcn26/palmer_scratch/db -p 5433 scratch`\n",
    "`CREATE USER mr_root WITH PASSWORD 'password';`\n",
    "\n",
    "`GRANT ALL PRIVILEGES ON DATABASE scratch TO mr_root;`\n",
    "`GRANT USAGE ON SCHEMA public TO mr_root;`\n",
    "`GRANT CREATE ON SCHEMA public TO mr_root;`\n",
    "`ALTER SCHEMA public OWNER TO mr_root;`\n",
    "`GRANT pg_read_server_files TO mr_root;`\n",
    "exited"
   ]
  }
 ],
 "metadata": {
  "kernelspec": {
   "display_name": "Python 3 (ipykernel)",
   "language": "python",
   "name": "python3"
  },
  "language_info": {
   "codemirror_mode": {
    "name": "ipython",
    "version": 3
   },
   "file_extension": ".py",
   "mimetype": "text/x-python",
   "name": "python",
   "nbconvert_exporter": "python",
   "pygments_lexer": "ipython3",
   "version": "3.10.12"
  }
 },
 "nbformat": 4,
 "nbformat_minor": 5
}
