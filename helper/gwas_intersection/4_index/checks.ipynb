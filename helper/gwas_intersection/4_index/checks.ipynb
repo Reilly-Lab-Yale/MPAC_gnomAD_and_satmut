{
 "cells": [
  {
   "cell_type": "code",
   "execution_count": null,
   "id": "0b3db100-a2aa-4580-9418-c13acfafabff",
   "metadata": {},
   "outputs": [],
   "source": [
    "%%sql\n",
    "CREATE TABLE gwas_rsid_once_counts AS\n",
    "SELECT \n",
    "    'ASN' AS population, \n",
    "    COUNT(rsid) AS count_rsid, \n",
    "    SUM(CASE WHEN rsid_count = 1 THEN 1 ELSE 0 END) AS count_single_occurrence_rsid\n",
    "FROM (\n",
    "    SELECT rsid, COUNT(*) AS rsid_count\n",
    "    FROM gwas_ASN\n",
    "    GROUP BY rsid\n",
    ") AS subquery_ASN\n",
    "UNION ALL\n",
    "SELECT \n",
    "    'AFR' AS population, \n",
    "    COUNT(rsid) AS count_rsid, \n",
    "    SUM(CASE WHEN rsid_count = 1 THEN 1 ELSE 0 END) AS count_single_occurrence_rsid\n",
    "FROM (\n",
    "    SELECT rsid, COUNT(*) AS rsid_count\n",
    "    FROM gwas_AFR\n",
    "    GROUP BY rsid\n",
    ") AS subquery_AFR\n",
    "UNION ALL\n",
    "SELECT \n",
    "    'EUR' AS population, \n",
    "    COUNT(rsid) AS count_rsid, \n",
    "    SUM(CASE WHEN rsid_count = 1 THEN 1 ELSE 0 END) AS count_single_occurrence_rsid\n",
    "FROM (\n",
    "    SELECT rsid, COUNT(*) AS rsid_count\n",
    "    FROM gwas_EUR\n",
    "    GROUP BY rsid\n",
    ") AS subquery_EUR;\n",
    "\n"
   ]
  },
  {
   "cell_type": "code",
   "execution_count": null,
   "id": "046787a4-4c5a-4c16-8e8a-6fce241b34c2",
   "metadata": {},
   "outputs": [],
   "source": [
    "%%sql\n",
    "ALTER TABLE gwas_rsid_once_counts ADD fraction_lost FLOAT;\n",
    "\n",
    "UPDATE gwas_rsid_once_counts\n",
    "SET fraction_lost = 1- CAST(count_single_occurrence_rsid AS FLOAT) / count_rsid;"
   ]
  },
  {
   "cell_type": "code",
   "execution_count": null,
   "id": "bacd7464-f89c-46fa-96c0-bc5b33a0901b",
   "metadata": {},
   "outputs": [],
   "source": [
    "%%sql\n",
    "SELECT *\n",
    "FROM gwas_rsid_once_counts;"
   ]
  },
  {
   "cell_type": "code",
   "execution_count": null,
   "id": "11ed9d1d-64dc-4eca-81ac-2c6a3a339878",
   "metadata": {},
   "outputs": [],
   "source": [
    "%%sql\n",
    "SELECT COUNT(*) AS total_count, COUNT(rsid) AS count_rsid\n",
    "FROM gwas_AFR;"
   ]
  }
 ],
 "metadata": {
  "kernelspec": {
   "display_name": "Python 3 (ipykernel)",
   "language": "python",
   "name": "python3"
  },
  "language_info": {
   "codemirror_mode": {
    "name": "ipython",
    "version": 3
   },
   "file_extension": ".py",
   "mimetype": "text/x-python",
   "name": "python",
   "nbconvert_exporter": "python",
   "pygments_lexer": "ipython3",
   "version": "3.10.12"
  }
 },
 "nbformat": 4,
 "nbformat_minor": 5
}
