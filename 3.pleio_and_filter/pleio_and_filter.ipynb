{
 "cells": [
  {
   "cell_type": "code",
   "execution_count": 4,
   "id": "6c3c2d11-f4e5-4416-b5c1-e753ca783623",
   "metadata": {
    "execution": {
     "iopub.execute_input": "2024-02-15T20:45:39.381978Z",
     "iopub.status.busy": "2024-02-15T20:45:39.381566Z",
     "iopub.status.idle": "2024-02-15T20:45:39.384135Z",
     "shell.execute_reply": "2024-02-15T20:45:39.383776Z",
     "shell.execute_reply.started": "2024-02-15T20:45:39.381961Z"
    },
    "tags": []
   },
   "outputs": [],
   "source": [
    "from pyspark.sql import SparkSession\n",
    "from pyspark.sql import functions as F\n",
    "import os"
   ]
  },
  {
   "cell_type": "code",
   "execution_count": 2,
   "id": "35c6c4ae-70d4-4a8f-9fda-56bbec002988",
   "metadata": {
    "execution": {
     "iopub.execute_input": "2024-02-15T20:44:21.726527Z",
     "iopub.status.busy": "2024-02-15T20:44:21.725949Z",
     "iopub.status.idle": "2024-02-15T20:44:27.795150Z",
     "shell.execute_reply": "2024-02-15T20:44:27.794692Z",
     "shell.execute_reply.started": "2024-02-15T20:44:21.726509Z"
    },
    "tags": []
   },
   "outputs": [
    {
     "name": "stderr",
     "output_type": "stream",
     "text": [
      "Setting default log level to \"WARN\".\n",
      "To adjust logging level use sc.setLogLevel(newLevel). For SparkR, use setLogLevel(newLevel).\n",
      "24/02/15 15:44:26 WARN NativeCodeLoader: Unable to load native-hadoop library for your platform... using builtin-java classes where applicable\n",
      "24/02/15 15:44:40 WARN GarbageCollectionMetrics: To enable non-built-in garbage collector(s) List(G1 Concurrent GC), users should configure it(them) to spark.eventLog.gcMetrics.youngGenerationGarbageCollectors or spark.eventLog.gcMetrics.oldGenerationGarbageCollectors\n"
     ]
    }
   ],
   "source": [
    "spark = SparkSession.builder.appName(\"pleio_and_filter\").getOrCreate()"
   ]
  },
  {
   "cell_type": "code",
   "execution_count": 6,
   "id": "eb39af83-e420-4c1b-9820-59c1622f7eb0",
   "metadata": {
    "execution": {
     "iopub.execute_input": "2024-02-15T20:47:23.775534Z",
     "iopub.status.busy": "2024-02-15T20:47:23.775259Z",
     "iopub.status.idle": "2024-02-15T20:47:23.778360Z",
     "shell.execute_reply": "2024-02-15T20:47:23.778016Z",
     "shell.execute_reply.started": "2024-02-15T20:47:23.775516Z"
    },
    "tags": []
   },
   "outputs": [
    {
     "name": "stdout",
     "output_type": "stream",
     "text": [
      "only crunching chromosome chr22\n"
     ]
    }
   ],
   "source": [
    "chromosome=\"NONE\"\n",
    "#chromosome=\"chr22\"\n",
    "\n",
    "if \"which_chr\" in os.environ:\n",
    "    chromosome=os.environ['which_chr']\n",
    "\n",
    "if chromosome==\"NONE\":\n",
    "    print(\"error : did not find which chromosome we are supposed to crunch\")\n",
    "    exit(-1)\n",
    "else:\n",
    "    print(\"only crunching chromosome \"+chromosome)"
   ]
  },
  {
   "cell_type": "code",
   "execution_count": 13,
   "id": "8a25fe38-6591-43ee-822c-4ab4d0305cde",
   "metadata": {
    "execution": {
     "iopub.execute_input": "2024-02-15T21:05:50.284254Z",
     "iopub.status.busy": "2024-02-15T21:05:50.284007Z",
     "iopub.status.idle": "2024-02-15T21:06:05.290519Z",
     "shell.execute_reply": "2024-02-15T21:06:05.290124Z",
     "shell.execute_reply.started": "2024-02-15T21:05:50.284239Z"
    },
    "tags": []
   },
   "outputs": [
    {
     "name": "stderr",
     "output_type": "stream",
     "text": [
      "                                                                                \r"
     ]
    }
   ],
   "source": [
    "variant_path=f\"/home/mcn26/varef/scripts/noon_data/2.filter/filtered_output_{chromosome}.csv/*.csv.gz\"\n",
    "variants=spark.read.csv(variant_path, header=True, inferSchema=True)"
   ]
  },
  {
   "cell_type": "markdown",
   "id": "cd93558c-ec67-4e4e-a0bd-9f114675d2c1",
   "metadata": {},
   "source": [
    "## Dropping columns with bad allele frequencies"
   ]
  },
  {
   "cell_type": "code",
   "execution_count": 14,
   "id": "a52dfadc-e353-4a0d-bab0-dce575da134c",
   "metadata": {
    "execution": {
     "iopub.execute_input": "2024-02-15T21:06:05.291597Z",
     "iopub.status.busy": "2024-02-15T21:06:05.291271Z",
     "iopub.status.idle": "2024-02-15T21:06:05.297480Z",
     "shell.execute_reply": "2024-02-15T21:06:05.297158Z",
     "shell.execute_reply.started": "2024-02-15T21:06:05.291582Z"
    },
    "tags": []
   },
   "outputs": [],
   "source": [
    "variants=variants.filter(F.col(\"category\")!=\"MAF_OR_AC_IS_ZERO\")"
   ]
  },
  {
   "cell_type": "markdown",
   "id": "7d7e2951-0f5b-45e5-b6e0-9a2a5fff4612",
   "metadata": {},
   "source": [
    "## Pleitropy\n",
    "\n",
    "\"Pleitropy\" here refers to a variant which is an emVar in multiple cell-types. We're calling emVars as anything with abs(skew)>=0.5 and max(alt activitym ref activity)>=1"
   ]
  },
  {
   "cell_type": "code",
   "execution_count": 15,
   "id": "86aed913-b16d-4e67-83b3-a515a97973d5",
   "metadata": {
    "execution": {
     "iopub.execute_input": "2024-02-15T21:06:05.298179Z",
     "iopub.status.busy": "2024-02-15T21:06:05.298028Z",
     "iopub.status.idle": "2024-02-15T21:06:05.368764Z",
     "shell.execute_reply": "2024-02-15T21:06:05.368367Z",
     "shell.execute_reply.started": "2024-02-15T21:06:05.298167Z"
    },
    "tags": []
   },
   "outputs": [],
   "source": [
    "#first we compute whether each variant can be called an emvar in each cell-type. \n",
    "cell_types=[\"K562\",\"SKNSH\",\"HepG2\"]\n",
    "for cell_type in cell_types:\n",
    "    variants = variants.withColumn(f\"emVar_{cell_type}\", \n",
    "                           (F.abs(F.col(f\"{cell_type}__skew\")) >= 0.5) & \n",
    "                           (F.greatest(F.col(f\"{cell_type}__ref\"), F.col(f\"{cell_type}__alt\")) >= 1.0))\n",
    "\n",
    "#next, we count the number of cell-types each variant is an emvar in to compute the pleitropy. \n",
    "variants = variants.withColumn(\"pleio\", F.col(\"emVar_K562\").cast(\"int\") + F.col(\"emVar_SKNSH\").cast(\"int\") + F.col(\"emVar_HepG2\").cast(\"int\"))"
   ]
  },
  {
   "cell_type": "code",
   "execution_count": null,
   "id": "b4cbe50b-9d29-4708-a97d-cd33bf748a5e",
   "metadata": {},
   "outputs": [],
   "source": [
    "output_root=\"/home/mcn26/varef/scripts/noon_data/3.pleio_and_filter/\"\n",
    "\n",
    "variants.write \\\n",
    "    .option(\"header\",\"true\") \\\n",
    "    .option(\"compression\", \"gzip\") \\\n",
    "    .csv(output_root+chromosome)\n",
    "\n",
    "spark.stop()"
   ]
  }
 ],
 "metadata": {
  "kernelspec": {
   "display_name": "Python 3 (ipykernel)",
   "language": "python",
   "name": "python3"
  },
  "language_info": {
   "codemirror_mode": {
    "name": "ipython",
    "version": 3
   },
   "file_extension": ".py",
   "mimetype": "text/x-python",
   "name": "python",
   "nbconvert_exporter": "python",
   "pygments_lexer": "ipython3",
   "version": "3.10.12"
  }
 },
 "nbformat": 4,
 "nbformat_minor": 5
}
