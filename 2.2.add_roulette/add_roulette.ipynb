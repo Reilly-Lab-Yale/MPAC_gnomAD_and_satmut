{
 "cells": [
  {
   "cell_type": "markdown",
   "id": "42e74dac-4c37-40ee-923b-e3cf3bc209e5",
   "metadata": {},
   "source": [
    "Import relevant libraries"
   ]
  },
  {
   "cell_type": "code",
   "execution_count": 1,
   "id": "5526a89e-4590-4f51-ba43-f2af6185902a",
   "metadata": {
    "execution": {
     "iopub.execute_input": "2024-05-06T14:31:55.804728Z",
     "iopub.status.busy": "2024-05-06T14:31:55.804440Z",
     "iopub.status.idle": "2024-05-06T14:31:56.673607Z",
     "shell.execute_reply": "2024-05-06T14:31:56.673171Z",
     "shell.execute_reply.started": "2024-05-06T14:31:55.804708Z"
    },
    "tags": []
   },
   "outputs": [],
   "source": [
    "from pyspark.sql import SparkSession\n",
    "from pyspark.sql import functions as F\n",
    "import pyspark.sql.types as T\n",
    "import os"
   ]
  },
  {
   "cell_type": "markdown",
   "id": "9b426b94-c5e5-4004-b1c2-add4d86f8e3d",
   "metadata": {
    "execution": {
     "iopub.execute_input": "2024-05-01T16:18:43.475576Z",
     "iopub.status.busy": "2024-05-01T16:18:43.475283Z",
     "iopub.status.idle": "2024-05-01T16:18:43.478396Z",
     "shell.execute_reply": "2024-05-01T16:18:43.477927Z",
     "shell.execute_reply.started": "2024-05-01T16:18:43.475559Z"
    },
    "tags": []
   },
   "source": [
    "Create a spark session"
   ]
  },
  {
   "cell_type": "code",
   "execution_count": 2,
   "id": "e18b144c-dc6b-4c07-812c-df41e2633ba0",
   "metadata": {
    "execution": {
     "iopub.execute_input": "2024-05-06T14:31:58.446962Z",
     "iopub.status.busy": "2024-05-06T14:31:58.446629Z",
     "iopub.status.idle": "2024-05-06T14:32:04.324376Z",
     "shell.execute_reply": "2024-05-06T14:32:04.323710Z",
     "shell.execute_reply.started": "2024-05-06T14:31:58.446944Z"
    },
    "tags": []
   },
   "outputs": [
    {
     "name": "stderr",
     "output_type": "stream",
     "text": [
      "Warning: Ignoring non-Spark config property: io.compression.codecs\n",
      "Setting default log level to \"WARN\".\n",
      "To adjust logging level use sc.setLogLevel(newLevel). For SparkR, use setLogLevel(newLevel).\n",
      "24/05/06 10:32:02 WARN NativeCodeLoader: Unable to load native-hadoop library for your platform... using builtin-java classes where applicable\n"
     ]
    }
   ],
   "source": [
    "spark = SparkSession.builder \\\n",
    "    .appName(\"add_roulette\") \\\n",
    "    .config(\"io.compression.codecs\", \"org.apache.hadoop.io.compress.GzipCodec\") \\\n",
    "    .getOrCreate()"
   ]
  },
  {
   "cell_type": "code",
   "execution_count": 3,
   "id": "82d8fb73-16aa-421c-8383-daf95c708464",
   "metadata": {
    "execution": {
     "iopub.execute_input": "2024-05-06T14:32:04.325915Z",
     "iopub.status.busy": "2024-05-06T14:32:04.325615Z",
     "iopub.status.idle": "2024-05-06T14:32:04.329557Z",
     "shell.execute_reply": "2024-05-06T14:32:04.329076Z",
     "shell.execute_reply.started": "2024-05-06T14:32:04.325894Z"
    },
    "tags": []
   },
   "outputs": [
    {
     "name": "stdout",
     "output_type": "stream",
     "text": [
      "only crunching chromosome chr22\n"
     ]
    },
    {
     "name": "stderr",
     "output_type": "stream",
     "text": [
      "24/05/06 10:32:17 WARN GarbageCollectionMetrics: To enable non-built-in garbage collector(s) List(G1 Concurrent GC), users should configure it(them) to spark.eventLog.gcMetrics.youngGenerationGarbageCollectors or spark.eventLog.gcMetrics.oldGenerationGarbageCollectors\n"
     ]
    }
   ],
   "source": [
    "chromosome=\"NONE\"\n",
    "chromosome=\"chr22\"\n",
    "\n",
    "if \"which_chr\" in os.environ:\n",
    "    chromosome = os.environ['which_chr']\n",
    "\n",
    "if chromosome==\"NONE\":\n",
    "    print(\"error : did not find which chromosome we are supposed to crunch!\")\n",
    "    exit(-1)\n",
    "else:\n",
    "    print(\"only crunching chromosome \"+chromosome)"
   ]
  },
  {
   "cell_type": "markdown",
   "id": "68a9fbe1-58dd-416a-8046-45b40084445a",
   "metadata": {},
   "source": [
    "Load previous step"
   ]
  },
  {
   "cell_type": "code",
   "execution_count": 4,
   "id": "76eb1cb7-d87b-423a-b7f0-abc6026deac0",
   "metadata": {
    "execution": {
     "iopub.execute_input": "2024-05-06T14:32:34.361161Z",
     "iopub.status.busy": "2024-05-06T14:32:34.360799Z",
     "iopub.status.idle": "2024-05-06T14:32:55.876677Z",
     "shell.execute_reply": "2024-05-06T14:32:55.876129Z",
     "shell.execute_reply.started": "2024-05-06T14:32:34.361140Z"
    },
    "tags": []
   },
   "outputs": [
    {
     "name": "stderr",
     "output_type": "stream",
     "text": [
      "                                                                                \r"
     ]
    }
   ],
   "source": [
    "variant_path=f'/home/mcn26/varef/scripts/noon_data/2.0.annotate/annotated_output_{chromosome}.csv.gz/*.csv.gz'\n",
    "variants=spark.read.option(\"delimiter\",\"\\t\").csv(variant_path, header=True, inferSchema=True)"
   ]
  },
  {
   "cell_type": "code",
   "execution_count": 5,
   "id": "7e4114ce-7801-4eec-8dd4-bf494147b67b",
   "metadata": {
    "execution": {
     "iopub.execute_input": "2024-05-06T14:32:57.716642Z",
     "iopub.status.busy": "2024-05-06T14:32:57.716274Z",
     "iopub.status.idle": "2024-05-06T14:32:57.719454Z",
     "shell.execute_reply": "2024-05-06T14:32:57.719038Z",
     "shell.execute_reply.started": "2024-05-06T14:32:57.716621Z"
    },
    "tags": []
   },
   "outputs": [],
   "source": [
    "roulette_path=f'/home/mcn26/varef/data/roulette/{chromosome.strip(\"chr\")}_rate_v5.2_TFBS_correction_all.vcf.gz'"
   ]
  },
  {
   "cell_type": "code",
   "execution_count": 10,
   "id": "6c95461d-fac1-45bc-baa3-3a41152a3fcb",
   "metadata": {
    "execution": {
     "iopub.execute_input": "2024-05-06T14:34:54.275148Z",
     "iopub.status.busy": "2024-05-06T14:34:54.274786Z",
     "iopub.status.idle": "2024-05-06T14:34:54.444537Z",
     "shell.execute_reply": "2024-05-06T14:34:54.444053Z",
     "shell.execute_reply.started": "2024-05-06T14:34:54.275127Z"
    },
    "tags": []
   },
   "outputs": [],
   "source": [
    "roulette=spark.read.option(\"delimiter\",\"\\t\") \\\n",
    "    .option(\"comment\", \"#\") \\\n",
    "    .option(\"compression\", \"gzip\") \\\n",
    "    .csv(roulette_path, header=False, inferSchema=False)\n",
    "\n",
    "new_columns=[\"CHROM\",\"POS\",\"ID\",\"REF\",\"ALT\",\"QUAL\",\"FILTER\",\"INFO\"]\n",
    "\n",
    "roulette = roulette.toDF(*new_columns)"
   ]
  },
  {
   "cell_type": "code",
   "execution_count": 11,
   "id": "68121938-c6f2-4e35-a76f-d7b6c76ca762",
   "metadata": {
    "execution": {
     "iopub.execute_input": "2024-05-06T14:34:58.266693Z",
     "iopub.status.busy": "2024-05-06T14:34:58.266318Z",
     "iopub.status.idle": "2024-05-06T14:34:58.275245Z",
     "shell.execute_reply": "2024-05-06T14:34:58.274819Z",
     "shell.execute_reply.started": "2024-05-06T14:34:58.266672Z"
    },
    "tags": []
   },
   "outputs": [],
   "source": [
    "roulette=roulette.drop(*[\"ID\",\"QUAL\",\"FILTER\"])"
   ]
  },
  {
   "cell_type": "code",
   "execution_count": 14,
   "id": "76f5f628-8dd1-496e-a4be-604f8f93dbf3",
   "metadata": {
    "execution": {
     "iopub.execute_input": "2024-05-06T14:50:33.500237Z",
     "iopub.status.busy": "2024-05-06T14:50:33.499871Z",
     "iopub.status.idle": "2024-05-06T14:50:33.548665Z",
     "shell.execute_reply": "2024-05-06T14:50:33.548062Z",
     "shell.execute_reply.started": "2024-05-06T14:50:33.500216Z"
    },
    "tags": []
   },
   "outputs": [],
   "source": [
    "####The `INFO` field contains a lot of useful information, but it is all smashed together into a string. \n",
    "#Let's extract information from that string. \n",
    "\n",
    "keys_to_extract = [#NONE CAN BE SUBSTRINGS OF THE OTHERS\n",
    "    \"PN\", \"MR\", \"MG\"\n",
    "]\n",
    "\n",
    "for key in keys_to_extract:\n",
    "\n",
    "    #df = df.withColumn(key, regexp_extract(col(\"INFO\"), \"{}=([^;]+);?\".format(key), 1))\n",
    "    #when we find something put it, whne we don't put None\n",
    "    roulette = roulette.withColumn(key, \n",
    "                       F.when(\n",
    "                           F.regexp_extract(F.col(\"INFO\"), \"{}=([^;]+);?\".format(key), 1) != \"\",\n",
    "                           F.regexp_extract(F.col(\"INFO\"), \"{}=([^;]+);?\".format(key), 1)).otherwise(None))"
   ]
  },
  {
   "cell_type": "code",
   "execution_count": 18,
   "id": "614acda2-0c8b-4f1e-aed6-ef1882c843e0",
   "metadata": {
    "execution": {
     "iopub.execute_input": "2024-05-06T14:51:10.354917Z",
     "iopub.status.busy": "2024-05-06T14:51:10.354564Z",
     "iopub.status.idle": "2024-05-06T14:51:10.363870Z",
     "shell.execute_reply": "2024-05-06T14:51:10.363400Z",
     "shell.execute_reply.started": "2024-05-06T14:51:10.354896Z"
    },
    "tags": []
   },
   "outputs": [],
   "source": [
    "roulette=roulette.drop(\"INFO\")"
   ]
  },
  {
   "cell_type": "code",
   "execution_count": 19,
   "id": "f8ce6f75-f2ed-4ee2-b0b0-2ef9410488cf",
   "metadata": {
    "execution": {
     "iopub.execute_input": "2024-05-06T14:55:03.180503Z",
     "iopub.status.busy": "2024-05-06T14:55:03.180107Z",
     "iopub.status.idle": "2024-05-06T14:55:03.196468Z",
     "shell.execute_reply": "2024-05-06T14:55:03.195965Z",
     "shell.execute_reply.started": "2024-05-06T14:55:03.180478Z"
    },
    "tags": []
   },
   "outputs": [],
   "source": [
    "rename_dict={\"PN\":\"roulette_PN\",\"MR\":\"roulette_MR\",\"MG\":\"roulette_MG\"}\n",
    "\n",
    "for old_name, new_name in rename_dict.items():\n",
    "    roulette=roulette.withColumnRenamed(old_name,new_name)"
   ]
  },
  {
   "cell_type": "code",
   "execution_count": 26,
   "id": "ba77bc9d-c39e-41ea-b770-0293aec23d3a",
   "metadata": {
    "execution": {
     "iopub.execute_input": "2024-05-06T15:02:26.972182Z",
     "iopub.status.busy": "2024-05-06T15:02:26.971827Z",
     "iopub.status.idle": "2024-05-06T15:02:26.996307Z",
     "shell.execute_reply": "2024-05-06T15:02:26.995792Z",
     "shell.execute_reply.started": "2024-05-06T15:02:26.972161Z"
    },
    "tags": []
   },
   "outputs": [
    {
     "data": {
      "text/plain": [
       "DataFrame[CHROM: string, POS: int, REF: string, ALT: string, roulette_PN: string, roulette_MR: string, roulette_MG: string]"
      ]
     },
     "execution_count": 26,
     "metadata": {},
     "output_type": "execute_result"
    }
   ],
   "source": [
    "roulette=roulette.withColumn(\"POS\", roulette[\"POS\"].cast(T.IntegerType()))"
   ]
  },
  {
   "cell_type": "code",
   "execution_count": 22,
   "id": "a61ed1ed-cfbf-4292-a42b-2d4467c45300",
   "metadata": {
    "execution": {
     "iopub.execute_input": "2024-05-06T14:58:58.620176Z",
     "iopub.status.busy": "2024-05-06T14:58:58.619760Z",
     "iopub.status.idle": "2024-05-06T14:58:58.658267Z",
     "shell.execute_reply": "2024-05-06T14:58:58.657592Z",
     "shell.execute_reply.started": "2024-05-06T14:58:58.620153Z"
    },
    "tags": []
   },
   "outputs": [],
   "source": [
    "variants_annotated=variants.join(roulette,on=[\"CHROM\",\"POS\",\"REF\",\"ALT\"],how=\"inner\")"
   ]
  },
  {
   "cell_type": "code",
   "execution_count": null,
   "id": "be6aa488-81bd-49dc-b160-e9ef3392ee05",
   "metadata": {},
   "outputs": [],
   "source": [
    "output_root=\"/home/mcn26/varef/scripts/noon_data/2.2.add_roulette/\"\n",
    "\n",
    "variants_annotated.write \\\n",
    "    .option(\"header\",\"true\") \\\n",
    "    .option(\"delimiter\",\"\\t\") \\\n",
    "    .option(\"compression\", \"gzip\") \\\n",
    "    .csv(output_root+chromosome)\n",
    "\n",
    "spark.stop()"
   ]
  }
 ],
 "metadata": {
  "kernelspec": {
   "display_name": "Python 3 (ipykernel)",
   "language": "python",
   "name": "python3"
  },
  "language_info": {
   "codemirror_mode": {
    "name": "ipython",
    "version": 3
   },
   "file_extension": ".py",
   "mimetype": "text/x-python",
   "name": "python",
   "nbconvert_exporter": "python",
   "pygments_lexer": "ipython3",
   "version": "3.10.12"
  }
 },
 "nbformat": 4,
 "nbformat_minor": 5
}
